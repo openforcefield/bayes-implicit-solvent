{
 "cells": [
  {
   "cell_type": "code",
   "execution_count": 13,
   "metadata": {
    "ExecuteTime": {
     "end_time": "2019-03-07T14:02:09.620806Z",
     "start_time": "2019-03-07T14:02:09.617187Z"
    }
   },
   "outputs": [],
   "source": [
    "from bayes_implicit_solvent.continuous_parameter_experiments.gradient_free import mols as all_mols"
   ]
  },
  {
   "cell_type": "code",
   "execution_count": 14,
   "metadata": {
    "ExecuteTime": {
     "end_time": "2019-03-07T14:02:09.843539Z",
     "start_time": "2019-03-07T14:02:09.837209Z"
    }
   },
   "outputs": [],
   "source": [
    "import matplotlib.pyplot as plt\n",
    "%matplotlib inline"
   ]
  },
  {
   "cell_type": "code",
   "execution_count": 15,
   "metadata": {
    "ExecuteTime": {
     "end_time": "2019-03-07T14:02:10.046067Z",
     "start_time": "2019-03-07T14:02:10.040676Z"
    }
   },
   "outputs": [],
   "source": [
    "from bayes_implicit_solvent.constants import beta\n",
    "def unreduce(value):\n",
    "    \"\"\"Input value is in units of kB T, turn it into units of kilocalorie_per_mole\"\"\"\n",
    "    return value / (beta * unit.kilocalorie_per_mole)"
   ]
  },
  {
   "cell_type": "code",
   "execution_count": 16,
   "metadata": {
    "ExecuteTime": {
     "end_time": "2019-03-07T14:02:13.509435Z",
     "start_time": "2019-03-07T14:02:10.529988Z"
    }
   },
   "outputs": [],
   "source": [
    "# at this stage, let's eliminate any molecule that has an experimental value outside of [-15, +5]\n",
    "\n",
    "mols = []\n",
    "    \n",
    "from bayes_implicit_solvent.utils import get_charges\n",
    "from scipy.spatial.distance import pdist, squareform\n",
    "from simtk import unit\n",
    "elements = []\n",
    "charges = []\n",
    "distance_matrices = []\n",
    "expt_means = []\n",
    "expt_uncs = []\n",
    "vacuum_trajs = []\n",
    "for mol in all_mols:\n",
    "    \n",
    "    expt_mean = unreduce(mol.experimental_value)\n",
    "    expt_unc = unreduce(mol.experimental_uncertainty)\n",
    "    \n",
    "    if (expt_mean > -15) and (expt_mean < 5):\n",
    "        \n",
    "        mols.append(mol)\n",
    "        expt_means.append(expt_mean)\n",
    "        expt_uncs.append(expt_unc)\n",
    "\n",
    "        elements.append(np.array([a.element.atomic_number for a in mol.top.atoms()]))\n",
    "        charges.append(get_charges(mol.sys))\n",
    "        distance_matrices.append([squareform(pdist(snapshot / unit.nanometer)) for snapshot in mol.vacuum_traj])\n",
    "expt_means = np.array(expt_means)\n",
    "expt_uncs = np.array(expt_uncs)"
   ]
  },
  {
   "cell_type": "code",
   "execution_count": 39,
   "metadata": {
    "ExecuteTime": {
     "end_time": "2019-03-07T14:04:55.630809Z",
     "start_time": "2019-03-07T14:04:55.619504Z"
    }
   },
   "outputs": [],
   "source": [
    "# THE CODE IN THIS CELL IS ADAPTED FROM https://github.com/HIPS/neural-fingerprint\n",
    "# ACCOMPANYING \"Convolutional Networks on Graphs for Learning Molecular Fingerprints\"\n",
    "# by David Duvenaud, Dougal Maclaurin, Jorge Aguilera-Iparraguirre, Rafael Gómez-Bombarelli, Timothy Hirzel, Alán Aspuru-Guzik, and Ryan P. Adams.\n",
    "\n",
    "import autograd.numpy as np\n",
    "\n",
    "def one_of_k_encoding(x, allowable_set):\n",
    "    if x not in allowable_set:\n",
    "        raise Exception(\"input {0} not in allowable set{1}:\".format(x, allowable_set))\n",
    "    return list(map(lambda s: x == s, allowable_set))\n",
    "\n",
    "def one_of_k_encoding_unk(x, allowable_set):\n",
    "    \"\"\"Maps inputs not in the allowable set to the last element.\"\"\"\n",
    "    if x not in allowable_set:\n",
    "        x = allowable_set[-1]\n",
    "    return list(map(lambda s: x == s, allowable_set))\n",
    "\n",
    "def atom_features(atom):\n",
    "    \"\"\"Use some OpenEye features instead\"\"\"\n",
    "    return np.array(one_of_k_encoding_unk(atom.GetAtomicNum(),\n",
    "                                      [1, 35, 6, 7, 8, 9, 15, 16, 17, 53, -1]) +\n",
    "                    one_of_k_encoding(atom.GetDegree(), [1, 2, 3, 4]) +\n",
    "                    one_of_k_encoding(atom.GetValence(), [1, 2, 3, 4, 5, 6]) +\n",
    "                    one_of_k_encoding(atom.GetHvyValence(), [0, 1, 2, 3, 4, 5, 6]) +\n",
    "                    one_of_k_encoding(atom.GetHvyDegree(), [0, 1, 2, 3, 4]) +\n",
    "                    one_of_k_encoding(atom.GetTotalHCount(), [0, 1, 2, 3, 4]) +\n",
    "                    [atom.IsAromatic(), atom.IsHalogen(), atom.IsPolarHydrogen(), atom.IsMetal(), atom.IsInRing()] # binary features\n",
    "                   )\n",
    "def num_atom_features():\n",
    "    atoms = list(mols[0].mol.GetAtoms())\n",
    "    return len(atom_features(atoms[0]))"
   ]
  },
  {
   "cell_type": "code",
   "execution_count": 40,
   "metadata": {
    "ExecuteTime": {
     "end_time": "2019-03-07T14:04:59.191291Z",
     "start_time": "2019-03-07T14:04:56.139496Z"
    }
   },
   "outputs": [
    {
     "data": {
      "text/plain": [
       "631"
      ]
     },
     "execution_count": 40,
     "metadata": {},
     "output_type": "execute_result"
    }
   ],
   "source": [
    "def compute_features(mol):\n",
    "    return np.vstack([atom_features(a) for a in mol.GetAtoms()])\n",
    "\n",
    "computed_features = list(map(compute_features, [mol.mol for mol in mols]))\n",
    "len(computed_features)"
   ]
  },
  {
   "cell_type": "code",
   "execution_count": 41,
   "metadata": {
    "ExecuteTime": {
     "end_time": "2019-03-07T14:04:59.202250Z",
     "start_time": "2019-03-07T14:04:59.195803Z"
    }
   },
   "outputs": [
    {
     "data": {
      "text/plain": [
       "43"
      ]
     },
     "execution_count": 41,
     "metadata": {},
     "output_type": "execute_result"
    }
   ],
   "source": [
    "N = num_atom_features()\n",
    "N"
   ]
  },
  {
   "cell_type": "code",
   "execution_count": 42,
   "metadata": {
    "ExecuteTime": {
     "end_time": "2019-03-07T14:04:59.209066Z",
     "start_time": "2019-03-07T14:04:59.205463Z"
    }
   },
   "outputs": [],
   "source": [
    "from autograd.scipy.stats import norm"
   ]
  },
  {
   "cell_type": "code",
   "execution_count": 43,
   "metadata": {
    "ExecuteTime": {
     "end_time": "2019-03-07T14:04:59.220054Z",
     "start_time": "2019-03-07T14:04:59.213941Z"
    }
   },
   "outputs": [
    {
     "data": {
      "text/plain": [
       "50"
      ]
     },
     "execution_count": 43,
     "metadata": {},
     "output_type": "execute_result"
    }
   ],
   "source": [
    "len(distance_matrices[0])"
   ]
  },
  {
   "cell_type": "code",
   "execution_count": 44,
   "metadata": {
    "ExecuteTime": {
     "end_time": "2019-03-07T14:04:59.233079Z",
     "start_time": "2019-03-07T14:04:59.225066Z"
    }
   },
   "outputs": [],
   "source": [
    "N_atoms = np.array(list(map(len, charges)))"
   ]
  },
  {
   "cell_type": "code",
   "execution_count": 45,
   "metadata": {
    "ExecuteTime": {
     "end_time": "2019-03-07T14:04:59.242609Z",
     "start_time": "2019-03-07T14:04:59.236571Z"
    }
   },
   "outputs": [
    {
     "data": {
      "text/plain": [
       "631"
      ]
     },
     "execution_count": 45,
     "metadata": {},
     "output_type": "execute_result"
    }
   ],
   "source": [
    "len(mols)"
   ]
  },
  {
   "cell_type": "code",
   "execution_count": 46,
   "metadata": {
    "ExecuteTime": {
     "end_time": "2019-03-07T14:04:59.250774Z",
     "start_time": "2019-03-07T14:04:59.245416Z"
    }
   },
   "outputs": [
    {
     "data": {
      "text/plain": [
       "43"
      ]
     },
     "execution_count": 46,
     "metadata": {},
     "output_type": "execute_result"
    }
   ],
   "source": [
    "n_features = N\n",
    "n_features"
   ]
  },
  {
   "cell_type": "code",
   "execution_count": 47,
   "metadata": {
    "ExecuteTime": {
     "end_time": "2019-03-07T14:04:59.260494Z",
     "start_time": "2019-03-07T14:04:59.253720Z"
    }
   },
   "outputs": [
    {
     "data": {
      "text/plain": [
       "array([0.15, 0.8 ])"
      ]
     },
     "execution_count": 47,
     "metadata": {},
     "output_type": "execute_result"
    }
   ],
   "source": [
    "default_radius = 0.15\n",
    "default_scale = 0.8\n",
    "baseline_bias = np.array([default_radius, default_scale])\n",
    "baseline_bias"
   ]
  },
  {
   "cell_type": "code",
   "execution_count": 48,
   "metadata": {
    "ExecuteTime": {
     "end_time": "2019-03-07T14:04:59.268678Z",
     "start_time": "2019-03-07T14:04:59.263647Z"
    }
   },
   "outputs": [],
   "source": [
    "def relu(X):\n",
    "    \"Rectified linear activation function.\"\n",
    "    return X * (X > 0)"
   ]
  },
  {
   "cell_type": "code",
   "execution_count": 49,
   "metadata": {
    "ExecuteTime": {
     "end_time": "2019-03-07T14:04:59.287793Z",
     "start_time": "2019-03-07T14:04:59.272108Z"
    }
   },
   "outputs": [],
   "source": [
    "import autograd.numpy.random as npr\n",
    "\n",
    "class NeuralNet():\n",
    "\n",
    "    def __init__(self, layer_sizes, scale=0.01):\n",
    "        assert(layer_sizes[-1] == 2)\n",
    "        self.layer_sizes = layer_sizes\n",
    "        self.scale = scale\n",
    "        self.params = self.init_random_params(scale, layer_sizes)\n",
    "\n",
    "    def init_random_params(self, scale, layer_sizes, rs=npr.RandomState(0)):\n",
    "        return [(scale * rs.randn(m, n),  # weight matrix\n",
    "                 scale * rs.randn(n))  # bias vector\n",
    "                for m, n in zip(layer_sizes[:-1], layer_sizes[1:])]\n",
    "\n",
    "    def neural_net_predict(self, params, inputs):\n",
    "        for W, b in params:\n",
    "            outputs = np.dot(inputs, W) + b\n",
    "            inputs = relu(outputs)\n",
    "        return outputs + baseline_bias\n",
    "\n",
    "    def __call__(self, inputs):\n",
    "        return self.neural_net_predict(self.params, inputs)\n",
    "    \n",
    "npr.seed(0)\n",
    "layer_sizes = [n_features, 2]\n",
    "neural_net = NeuralNet(layer_sizes)"
   ]
  },
  {
   "cell_type": "code",
   "execution_count": 50,
   "metadata": {
    "ExecuteTime": {
     "end_time": "2019-03-07T14:04:59.297221Z",
     "start_time": "2019-03-07T14:04:59.292063Z"
    }
   },
   "outputs": [],
   "source": [
    "params = neural_net.params"
   ]
  },
  {
   "cell_type": "code",
   "execution_count": 51,
   "metadata": {
    "ExecuteTime": {
     "end_time": "2019-03-07T14:04:59.585464Z",
     "start_time": "2019-03-07T14:04:59.578338Z"
    }
   },
   "outputs": [
    {
     "data": {
      "text/plain": [
       "array([[0.20804834, 0.79478895],\n",
       "       [0.17475065, 0.79627458],\n",
       "       [0.16188043, 0.79518197],\n",
       "       [0.19613242, 0.82061456],\n",
       "       [0.13902075, 0.77676231],\n",
       "       [0.12769472, 0.78161642],\n",
       "       [0.14320772, 0.79528638],\n",
       "       [0.14320772, 0.79528638],\n",
       "       [0.13902075, 0.77676231],\n",
       "       [0.12769472, 0.78161642],\n",
       "       [0.14320772, 0.79528638],\n",
       "       [0.14320772, 0.79528638],\n",
       "       [0.16188043, 0.79518197],\n",
       "       [0.16188043, 0.79518197],\n",
       "       [0.16188043, 0.79518197],\n",
       "       [0.16188043, 0.79518197],\n",
       "       [0.16188043, 0.79518197]])"
      ]
     },
     "execution_count": 51,
     "metadata": {},
     "output_type": "execute_result"
    }
   ],
   "source": [
    "neural_net(computed_features[0])"
   ]
  },
  {
   "cell_type": "code",
   "execution_count": 52,
   "metadata": {
    "ExecuteTime": {
     "end_time": "2019-03-07T14:05:01.148501Z",
     "start_time": "2019-03-07T14:05:01.145281Z"
    }
   },
   "outputs": [],
   "source": [
    "from bayes_implicit_solvent.gb_models.numpy_gb_models import compute_OBC_energy_vectorized"
   ]
  },
  {
   "cell_type": "code",
   "execution_count": 53,
   "metadata": {
    "ExecuteTime": {
     "end_time": "2019-03-07T14:05:02.354683Z",
     "start_time": "2019-03-07T14:05:02.338934Z"
    }
   },
   "outputs": [
    {
     "data": {
      "text/plain": [
       "(array([0.20804834, 0.17475065, 0.16188043, 0.19613242, 0.13902075,\n",
       "        0.12769472, 0.14320772, 0.14320772, 0.13902075, 0.12769472,\n",
       "        0.14320772, 0.14320772, 0.16188043, 0.16188043, 0.16188043,\n",
       "        0.16188043, 0.16188043]),\n",
       " array([0.79478895, 0.79627458, 0.79518197, 0.82061456, 0.77676231,\n",
       "        0.78161642, 0.79528638, 0.79528638, 0.77676231, 0.78161642,\n",
       "        0.79528638, 0.79528638, 0.79518197, 0.79518197, 0.79518197,\n",
       "        0.79518197, 0.79518197]))"
      ]
     },
     "execution_count": 53,
     "metadata": {},
     "output_type": "execute_result"
    }
   ],
   "source": [
    "radii, scales = neural_net.neural_net_predict(params, computed_features[0]).T\n",
    "radii, scales"
   ]
  },
  {
   "cell_type": "code",
   "execution_count": 54,
   "metadata": {
    "ExecuteTime": {
     "end_time": "2019-03-07T14:05:02.840114Z",
     "start_time": "2019-03-07T14:05:02.834812Z"
    }
   },
   "outputs": [],
   "source": [
    "npr.seed(0)\n",
    "all_inds = np.arange(len(mols))\n",
    "np.random.shuffle(all_inds)\n",
    "train_inds = all_inds[::2]\n",
    "test_inds = all_inds[1::2]\n"
   ]
  },
  {
   "cell_type": "code",
   "execution_count": 55,
   "metadata": {
    "ExecuteTime": {
     "end_time": "2019-03-07T14:05:03.519290Z",
     "start_time": "2019-03-07T14:05:03.510123Z"
    }
   },
   "outputs": [
    {
     "data": {
      "text/plain": [
       "array([-0.1382    ,  0.1522    ,  0.1023    ,  0.1233    , -0.3511    ,\n",
       "        0.37990001, -0.1655    , -0.1655    , -0.37040001,  0.3845    ,\n",
       "       -0.1723    , -0.1723    ,  0.0681    ,  0.0681    ,  0.0681    ,\n",
       "        0.0944    ,  0.0944    ])"
      ]
     },
     "execution_count": 55,
     "metadata": {},
     "output_type": "execute_result"
    }
   ],
   "source": [
    "charges[0]"
   ]
  },
  {
   "cell_type": "code",
   "execution_count": 56,
   "metadata": {
    "ExecuteTime": {
     "end_time": "2019-03-07T14:05:04.398757Z",
     "start_time": "2019-03-07T14:05:04.393183Z"
    }
   },
   "outputs": [],
   "source": [
    "from autograd.scipy.misc import logsumexp\n",
    "from simtk import unit\n",
    "from bayes_implicit_solvent.constants import kB, temperature\n",
    "\n",
    "kj_mol_to_kT = 1.0 * unit.kilojoule_per_mole / (kB * temperature)\n",
    "\n",
    "def one_sided_exp(w_F):\n",
    "    DeltaF = - (logsumexp(- w_F) - np.log(len(w_F)))\n",
    "    return DeltaF"
   ]
  },
  {
   "cell_type": "code",
   "execution_count": 57,
   "metadata": {
    "ExecuteTime": {
     "end_time": "2019-03-07T14:05:05.199878Z",
     "start_time": "2019-03-07T14:05:05.139647Z"
    }
   },
   "outputs": [
    {
     "data": {
      "text/plain": [
       "49"
      ]
     },
     "execution_count": 57,
     "metadata": {},
     "output_type": "execute_result"
    }
   ],
   "source": [
    "all_types = np.array(sorted(list(set([tuple(f) for f in np.vstack(computed_features)]))))\n",
    "len(all_types)"
   ]
  },
  {
   "cell_type": "code",
   "execution_count": 58,
   "metadata": {
    "ExecuteTime": {
     "end_time": "2019-03-07T14:05:06.766976Z",
     "start_time": "2019-03-07T14:05:06.761003Z"
    }
   },
   "outputs": [
    {
     "data": {
      "text/plain": [
       "array([False, False, False, False, False, False, False, False, False,\n",
       "        True, False,  True, False, False, False,  True, False, False,\n",
       "       False, False, False, False,  True, False, False, False, False,\n",
       "       False, False,  True, False, False, False,  True, False, False,\n",
       "       False, False, False,  True, False, False, False])"
      ]
     },
     "execution_count": 58,
     "metadata": {},
     "output_type": "execute_result"
    }
   ],
   "source": [
    "all_types[0]"
   ]
  },
  {
   "cell_type": "code",
   "execution_count": 59,
   "metadata": {
    "ExecuteTime": {
     "end_time": "2019-03-07T14:05:07.357228Z",
     "start_time": "2019-03-07T14:05:07.347414Z"
    }
   },
   "outputs": [
    {
     "data": {
      "text/plain": [
       "35"
      ]
     },
     "execution_count": 59,
     "metadata": {},
     "output_type": "execute_result"
    }
   ],
   "source": [
    "type_index = dict(zip([tuple(t) for t in all_types], range(len(all_types))))\n",
    "type_index[tuple(computed_features[0][0])]"
   ]
  },
  {
   "cell_type": "code",
   "execution_count": 60,
   "metadata": {
    "ExecuteTime": {
     "end_time": "2019-03-07T14:05:08.638883Z",
     "start_time": "2019-03-07T14:05:08.536543Z"
    }
   },
   "outputs": [],
   "source": [
    "type_indices = []\n",
    "for i in range(len(computed_features)):\n",
    "    type_indices.append(np.array([type_index[tuple(f)] for f in computed_features[i]]))"
   ]
  },
  {
   "cell_type": "code",
   "execution_count": 67,
   "metadata": {
    "ExecuteTime": {
     "end_time": "2019-03-07T14:05:58.741558Z",
     "start_time": "2019-03-07T14:05:58.733570Z"
    }
   },
   "outputs": [],
   "source": [
    "def make_predictions(params, inds=train_inds, batch_size=5, randomized=True):\n",
    "    all_radii, all_scales = neural_net.neural_net_predict(params, all_types).T\n",
    "    \n",
    "    \n",
    "    predictions = []\n",
    "    for i in inds:\n",
    "        radii, scales= all_radii[type_indices[i]], all_scales[type_indices[i]]\n",
    "        #radii, scales, log_taus = neural_net.neural_net_predict(params, computed_features[i]).T\n",
    "        #taus = np.exp(log_taus)\n",
    "        \n",
    "        if randomized:\n",
    "            dmat_inds = np.random.randint(0, len(distance_matrices[i]), batch_size)\n",
    "        else:\n",
    "            dmat_inds = np.arange(min(batch_size, len(distance_matrices[i])))\n",
    "        W_F = np.array([compute_OBC_energy_vectorized(distance_matrices[i][j], radii, scales, charges=charges[i]) for j in dmat_inds])\n",
    "        \n",
    "        w_F = W_F * kj_mol_to_kT\n",
    "        pred_free_energy = unreduce(one_sided_exp(w_F))\n",
    "        predictions.append(pred_free_energy)\n",
    "    return np.array(predictions)"
   ]
  },
  {
   "cell_type": "code",
   "execution_count": 68,
   "metadata": {
    "ExecuteTime": {
     "end_time": "2019-03-07T14:05:59.837169Z",
     "start_time": "2019-03-07T14:05:59.237709Z"
    }
   },
   "outputs": [],
   "source": [
    "predictions = make_predictions(params)"
   ]
  },
  {
   "cell_type": "code",
   "execution_count": 69,
   "metadata": {
    "ExecuteTime": {
     "end_time": "2019-03-07T14:06:01.045594Z",
     "start_time": "2019-03-07T14:06:01.038560Z"
    }
   },
   "outputs": [
    {
     "data": {
      "text/plain": [
       "-0.10763877806275707"
      ]
     },
     "execution_count": 69,
     "metadata": {},
     "output_type": "execute_result"
    }
   ],
   "source": [
    "def log_prior(params):\n",
    "    return - sum([np.linalg.norm(W) + np.linalg.norm(b) for (W,b) in params])\n",
    "log_prior(params)"
   ]
  },
  {
   "cell_type": "code",
   "execution_count": 70,
   "metadata": {
    "ExecuteTime": {
     "end_time": "2019-03-07T14:06:01.741847Z",
     "start_time": "2019-03-07T14:06:01.728916Z"
    }
   },
   "outputs": [
    {
     "data": {
      "text/plain": [
       "array([-4.950e+00, -4.590e+00, -7.400e-01, -9.840e+00, -2.400e+00,\n",
       "       -6.480e+00,  1.070e+00, -3.430e+00,  1.830e+00, -4.290e+00,\n",
       "       -3.200e+00, -2.220e+00, -2.370e+00, -7.000e-01, -1.960e+00,\n",
       "       -2.490e+00, -4.800e-01, -4.220e+00, -4.510e+00, -2.860e+00,\n",
       "       -6.190e+00, -9.630e+00, -1.620e+00, -2.490e+00, -3.800e+00,\n",
       "       -2.550e+00, -3.880e+00, -1.460e+00, -9.000e-01, -7.620e+00,\n",
       "       -1.343e+01, -1.114e+01, -6.400e-01, -1.920e+00,  2.500e-01,\n",
       "       -3.750e+00, -2.210e+00,  2.670e+00, -4.710e+00, -3.840e+00,\n",
       "        3.430e+00, -3.780e+00, -6.160e+00, -3.820e+00, -4.590e+00,\n",
       "       -3.560e+00, -2.810e+00, -5.000e-01, -4.330e+00,  1.160e+00,\n",
       "       -3.280e+00, -7.800e-01, -3.680e+00, -2.530e+00, -1.101e+01,\n",
       "       -2.640e+00, -7.980e+00, -7.030e+00, -1.100e+00, -6.120e+00,\n",
       "       -4.850e+00, -1.160e+00, -2.490e+00, -7.500e+00, -2.480e+00,\n",
       "       -4.230e+00, -3.810e+00, -2.340e+00, -2.690e+00, -5.220e+00,\n",
       "       -2.780e+00,  2.880e+00, -3.640e+00, -3.520e+00, -9.820e+00,\n",
       "        1.200e+00, -2.560e+00, -3.130e+00, -6.620e+00,  1.660e+00,\n",
       "       -1.960e+00, -6.800e-01, -2.870e+00,  3.120e+00, -2.380e+00,\n",
       "       -4.870e+00, -4.420e+00,  8.400e-01,  2.340e+00, -2.630e+00,\n",
       "       -4.690e+00, -9.200e+00, -6.230e+00, -4.210e+00, -3.370e+00,\n",
       "        2.900e-01, -3.670e+00, -1.000e+01, -3.640e+00, -5.600e-01,\n",
       "       -4.590e+00, -1.000e-01, -3.510e+00, -7.800e-01, -4.020e+00,\n",
       "        5.600e-01, -1.610e+00, -9.940e+00,  1.600e-01,  1.400e-01,\n",
       "       -1.500e+00, -5.910e+00, -1.200e+00, -5.310e+00, -1.022e+01,\n",
       "        1.920e+00, -4.020e+00, -5.660e+00, -4.290e+00, -6.010e+00,\n",
       "       -9.650e+00, -4.000e-01, -5.530e+00, -2.940e+00, -1.240e+00,\n",
       "       -9.730e+00, -5.730e+00, -5.210e+00, -6.340e+00,  2.110e+00,\n",
       "       -2.150e+00, -2.460e+00, -2.330e+00, -2.160e+00, -7.780e+00,\n",
       "       -9.010e+00, -1.078e+01, -8.210e+00, -6.130e+00, -3.500e+00,\n",
       "       -1.880e+00, -4.000e-01, -1.340e+00, -1.600e-01, -3.150e+00,\n",
       "       -4.860e+00, -4.040e+00, -1.290e+00, -3.520e+00, -4.000e-02,\n",
       "       -1.120e+00, -4.500e+00, -6.550e+00, -9.760e+00, -3.340e+00,\n",
       "       -4.840e+00,  2.880e+00, -1.910e+00, -2.880e+00, -4.270e+00,\n",
       "       -2.320e+00, -3.000e-01, -1.590e+00, -1.400e+00, -1.000e-01,\n",
       "       -4.130e+00, -4.500e-01, -3.880e+00, -8.720e+00, -7.000e+00,\n",
       "       -3.730e+00, -2.930e+00, -5.940e+00, -5.110e+00, -5.330e+00,\n",
       "       -1.100e-01, -1.274e+01, -9.130e+00, -2.920e+00, -5.260e+00,\n",
       "       -2.260e+00, -1.360e+00, -1.240e+00,  1.310e+00, -5.900e+00,\n",
       "       -3.040e+00, -5.490e+00, -6.160e+00, -5.660e+00, -9.500e-01,\n",
       "       -4.700e+00,  6.700e-01, -9.400e+00, -4.620e+00, -4.200e+00,\n",
       "       -4.840e+00, -6.720e+00, -9.000e-01, -7.400e-01, -5.290e+00,\n",
       "       -2.230e+00, -1.380e+00, -5.300e-01, -2.730e+00, -6.500e+00,\n",
       "       -3.110e+00, -4.090e+00, -3.300e-01, -4.090e+00, -2.670e+00,\n",
       "       -4.800e+00, -6.690e+00, -8.000e-01, -4.390e+00, -4.390e+00,\n",
       "       -1.600e-01, -2.010e+00,  1.000e-01, -5.990e+00, -5.490e+00,\n",
       "       -4.100e+00,  2.930e+00, -1.120e+00, -4.440e+00, -5.300e-01,\n",
       "       -4.550e+00,  2.830e+00, -7.770e+00, -8.680e+00, -3.300e+00,\n",
       "       -6.500e+00,  0.000e+00, -3.610e+00, -5.900e+00, -8.000e-01,\n",
       "        1.580e+00, -5.900e-01, -3.950e+00, -3.440e+00, -3.170e+00,\n",
       "       -9.800e-01, -6.690e+00, -6.250e+00, -1.017e+01, -1.140e+00,\n",
       "       -3.650e+00, -6.200e+00, -9.860e+00, -1.264e+01, -7.580e+00,\n",
       "       -3.200e+00, -4.420e+00,  2.000e+00,  6.000e-01,  2.480e+00,\n",
       "       -2.490e+00,  2.300e+00, -3.520e+00,  3.160e+00, -5.040e+00,\n",
       "       -5.820e+00, -4.820e+00,  2.560e+00,  2.060e+00, -4.580e+00,\n",
       "       -3.050e+00, -1.240e+00, -8.500e-01, -6.100e+00, -4.520e+00,\n",
       "        1.800e-01, -3.410e+00, -6.620e+00, -4.430e+00, -2.440e+00,\n",
       "       -5.100e+00, -4.470e+00, -5.560e+00, -1.790e+00, -9.620e+00,\n",
       "       -2.680e+00,  2.890e+00, -3.540e+00,  8.000e-02, -2.890e+00,\n",
       "       -1.210e+00, -2.920e+00, -4.720e+00,  1.590e+00, -3.100e+00,\n",
       "       -1.640e+00, -5.460e+00, -7.810e+00, -2.280e+00, -9.000e-01,\n",
       "       -3.350e+00, -9.280e+00, -2.300e+00,  1.790e+00, -5.490e+00,\n",
       "       -2.550e+00,  1.280e+00, -2.290e+00, -2.070e+00, -2.500e-01,\n",
       "       -1.027e+01, -8.610e+00, -4.680e+00,  2.550e+00,  2.510e+00,\n",
       "       -9.610e+00, -3.470e+00, -2.560e+00,  3.130e+00, -1.170e+00,\n",
       "       -5.330e+00,  1.000e-01, -1.340e+00, -6.000e+00, -6.790e+00,\n",
       "       -4.630e+00, -3.220e+00,  2.930e+00, -6.780e+00,  5.200e-01,\n",
       "       -5.800e+00, -7.000e+00,  1.680e+00, -5.880e+00,  0.000e+00,\n",
       "       -3.880e+00, -1.390e+00, -2.450e+00, -1.008e+01, -3.640e+00,\n",
       "       -8.260e+00, -1.450e+00, -4.370e+00, -5.300e-01, -8.700e+00,\n",
       "       -3.430e+00, -3.000e-02, -1.950e+00, -6.460e+00, -6.300e-01,\n",
       "       -4.400e+00, -7.280e+00, -4.570e+00, -6.320e+00, -1.210e+00,\n",
       "       -6.020e+00, -7.650e+00, -8.300e-01, -5.000e+00, -2.210e+00,\n",
       "       -4.740e+00, -3.220e+00, -6.210e+00, -1.064e+01, -3.710e+00,\n",
       "       -4.230e+00, -1.280e+00, -4.730e+00, -2.830e+00,  2.000e+00,\n",
       "        5.000e-01, -5.100e+00, -4.400e+00, -4.050e+00, -3.250e+00,\n",
       "       -7.660e+00, -2.820e+00, -3.130e+00, -8.900e-01, -1.010e+00,\n",
       "       -9.300e+00, -6.400e+00, -4.820e+00, -7.170e+00,  1.380e+00,\n",
       "       -5.910e+00, -7.630e+00, -2.220e+00, -2.470e+00, -1.195e+01,\n",
       "       -2.020e+00, -6.960e+00, -3.920e+00, -2.450e+00, -2.500e-01,\n",
       "       -4.290e+00, -4.400e+00, -5.720e+00, -7.070e+00, -3.880e+00,\n",
       "        7.100e-01, -4.720e+00, -4.400e-01, -2.100e+00, -2.280e+00,\n",
       "       -4.120e+00, -4.240e+00,  2.510e+00, -8.400e-01, -5.500e-01,\n",
       "       -4.690e+00, -7.290e+00, -5.450e+00, -8.180e+00, -1.140e+00,\n",
       "       -3.880e+00, -6.250e+00,  1.070e+00, -6.680e+00, -9.450e+00,\n",
       "       -4.910e+00,  1.830e+00, -2.640e+00, -6.270e+00, -9.400e+00,\n",
       "       -5.850e+00, -4.390e+00, -5.740e+00, -2.090e+00, -4.420e+00,\n",
       "       -4.610e+00, -8.150e+00, -1.100e-01, -4.910e+00, -7.370e+00,\n",
       "       -7.100e+00,  6.800e-01,  5.600e-01, -2.500e-01, -3.950e+00,\n",
       "        2.380e+00, -9.290e+00, -7.430e+00, -2.780e+00, -4.870e+00,\n",
       "       -2.200e-01, -2.740e+00,  2.710e+00, -1.660e+00, -8.830e+00,\n",
       "        1.680e+00, -4.450e+00, -7.470e+00, -4.590e+00, -7.190e+00,\n",
       "       -4.600e-01, -3.240e+00, -1.100e+00, -2.490e+00, -1.310e+00,\n",
       "       -3.120e+00, -4.800e-01, -2.930e+00, -1.100e+01, -6.090e+00,\n",
       "       -4.060e+00, -4.090e+00, -4.970e+00, -3.180e+00,  2.520e+00,\n",
       "       -2.640e+00,  1.470e+00, -9.710e+00, -1.230e+00, -7.290e+00,\n",
       "       -3.640e+00, -5.040e+00, -8.600e-01, -4.700e+00, -5.570e+00,\n",
       "        1.770e+00,  2.930e+00, -3.790e+00, -6.500e+00, -4.930e+00,\n",
       "       -9.510e+00, -4.380e+00,  2.560e+00,  1.580e+00, -6.790e+00,\n",
       "       -5.710e+00, -9.440e+00, -9.370e+00, -6.880e+00, -1.270e+00,\n",
       "        4.000e-01, -2.110e+00, -3.900e+00, -5.260e+00, -5.180e+00,\n",
       "        2.510e+00, -6.920e+00,  2.130e+00, -4.350e+00, -4.420e+00,\n",
       "       -1.740e+00, -6.750e+00, -5.510e+00, -4.780e+00, -4.500e+00,\n",
       "       -1.830e+00,  1.700e+00, -2.700e+00, -3.450e+00, -1.990e+00,\n",
       "       -6.350e+00, -3.300e+00, -9.800e+00,  2.300e+00, -8.000e-01,\n",
       "       -4.100e+00, -2.360e+00, -2.510e+00, -3.650e+00, -7.400e+00,\n",
       "       -4.610e+00, -1.185e+01,  7.500e-01, -4.530e+00, -6.440e+00,\n",
       "       -3.450e+00, -1.080e+00, -3.840e+00, -4.010e+00, -1.820e+00,\n",
       "        2.700e-01, -1.460e+00, -2.820e+00, -2.750e+00, -5.700e-01,\n",
       "       -6.400e+00, -4.770e+00, -1.430e+00, -2.130e+00, -9.300e+00,\n",
       "        1.010e+00,  3.400e-01, -5.220e+00, -4.150e+00, -4.000e+00,\n",
       "       -6.740e+00, -7.780e+00, -6.600e+00, -1.120e+00,  1.000e-02,\n",
       "       -1.003e+01,  2.100e+00, -6.130e+00, -8.410e+00, -7.480e+00,\n",
       "       -4.550e+00,  2.510e+00, -8.110e+00,  2.970e+00, -4.070e+00,\n",
       "       -1.153e+01, -2.300e-01, -1.690e+00, -7.900e-01, -2.400e+00,\n",
       "       -9.900e-01, -3.040e+00, -5.060e+00, -3.090e+00, -3.580e+00,\n",
       "       -7.670e+00, -2.330e+00, -9.410e+00, -4.160e+00, -3.150e+00,\n",
       "       -4.310e+00, -6.620e+00, -5.730e+00, -3.480e+00,  8.000e-02,\n",
       "       -9.530e+00, -8.300e-01, -2.490e+00, -2.040e+00, -4.400e-01,\n",
       "       -5.210e+00, -3.710e+00, -1.930e+00, -5.480e+00, -2.440e+00,\n",
       "       -9.520e+00, -8.840e+00,  9.300e-01, -1.400e-01, -9.340e+00,\n",
       "        6.000e-02, -5.480e+00, -9.610e+00, -5.030e+00,  1.310e+00,\n",
       "       -1.421e+01, -3.930e+00, -1.460e+00, -2.130e+00, -2.790e+00,\n",
       "       -5.730e+00, -3.030e+00, -3.280e+00, -2.980e+00, -7.700e-01,\n",
       "       -2.400e+00,  1.090e+00, -8.840e+00, -1.660e+00, -2.780e+00,\n",
       "       -3.920e+00, -4.580e+00, -1.021e+01, -9.310e+00, -5.230e+00,\n",
       "       -1.900e-01, -9.000e-01, -8.420e+00,  1.230e+00, -9.900e-01,\n",
       "       -8.200e-01, -4.780e+00, -1.890e+00, -3.240e+00,  1.320e+00,\n",
       "        2.900e-01])"
      ]
     },
     "execution_count": 70,
     "metadata": {},
     "output_type": "execute_result"
    }
   ],
   "source": [
    "expt_means"
   ]
  },
  {
   "cell_type": "code",
   "execution_count": 71,
   "metadata": {
    "ExecuteTime": {
     "end_time": "2019-03-07T14:06:02.400644Z",
     "start_time": "2019-03-07T14:06:02.390720Z"
    }
   },
   "outputs": [
    {
     "data": {
      "text/plain": [
       "array([ 2.50194871e+00,  6.37843862e-01,  1.89624991e+00, -1.21373107e+00,\n",
       "        1.34126144e+00, -1.39692222e+01, -1.51423227e+00, -1.63324279e+00,\n",
       "       -2.11615091e+00, -3.32313807e+00, -4.81679744e+00, -2.97252849e-01,\n",
       "        8.88266110e-01, -2.42793217e+00, -6.97217360e+00, -1.70258106e+00,\n",
       "       -4.65185033e-01, -1.43886820e+00, -6.43169764e+00, -7.15907422e+00,\n",
       "        7.98415846e-01, -7.46285990e+00, -4.12695678e+00, -1.47577784e+01,\n",
       "        3.61443074e-01,  5.96704461e-01, -1.46616634e+01,  1.58280943e+00,\n",
       "       -1.97270177e+01,  1.72092559e+00, -8.35462382e+00,  4.43128660e-01,\n",
       "        3.34228768e+00,  5.17472237e-01, -2.43646526e+00, -3.42637604e-01,\n",
       "       -8.53840647e+00, -2.57599971e+01, -5.75233417e+00, -2.12985471e-01,\n",
       "       -2.23775324e-01, -7.72604720e+00, -8.77095680e-01, -1.26001964e+00,\n",
       "        6.99921706e-01,  2.39040501e-01,  1.35030363e+00, -2.02903988e+00,\n",
       "       -3.36449827e+00, -2.92641362e+00, -7.95121437e-01,  4.26427751e-01,\n",
       "       -4.21798037e+00, -1.97829544e+00, -1.71501898e-01, -5.75977849e+00,\n",
       "       -1.22015504e+00, -2.88327905e-01, -4.17460211e+00,  1.12891536e+00,\n",
       "        2.83529466e-01, -2.21899622e+00, -9.79005311e+00, -8.21646636e+00,\n",
       "       -4.29964243e+00, -1.93958745e+00, -8.66777701e+00, -4.20747046e+00,\n",
       "       -4.12890917e+00, -6.10613367e-01, -1.03579037e-01, -1.63440987e+00,\n",
       "        1.87965853e+00, -3.70665144e+00,  6.24062154e-01,  2.84129380e-01,\n",
       "       -3.97621778e+00,  9.03794236e-01, -8.22606376e+00, -2.73145826e+00,\n",
       "        7.59748986e-01, -2.61565959e+00,  2.08837143e-02, -4.59591061e+00,\n",
       "        1.81746578e+00,  3.68612629e-01, -8.00470486e+00, -1.14373176e+01,\n",
       "       -4.16976316e+00,  2.65751366e+00, -8.09751696e-02, -7.29756038e-01,\n",
       "       -1.02282674e+00,  8.37977000e-01,  8.42365601e-01, -3.15659969e+00,\n",
       "       -1.07448779e+00, -1.29545904e+00, -8.51714295e-01,  3.13057458e-01,\n",
       "       -8.02315328e-01, -6.88313227e+00,  4.86703073e+00, -4.05988916e+00,\n",
       "       -7.25795722e-01,  1.30085921e+00,  1.35786079e+00, -1.00395129e+00,\n",
       "       -2.77639118e+00, -6.36561176e+00, -1.00097930e+01, -4.89728623e+00,\n",
       "       -2.03874358e+00, -5.90949615e-03, -7.53673052e+00, -5.02729397e-01,\n",
       "       -2.47611827e-01, -5.69743769e+00, -7.29528731e-01, -8.86809302e-01,\n",
       "       -3.32524783e+00,  2.74425009e+00, -6.53582099e+00, -1.15020927e+01,\n",
       "        7.36038209e-01, -6.58624038e+00, -2.17926839e+00, -5.61791771e+00,\n",
       "       -3.43626574e+00, -2.14143890e+00,  2.05563668e+00, -1.06932184e+01,\n",
       "       -1.65509544e+00, -4.18537631e+00, -2.06803119e+01, -1.94286352e+00,\n",
       "       -1.01736336e+01, -8.19544647e+00, -3.57335102e+00, -3.96211067e+00,\n",
       "       -1.56797217e+00, -9.97139353e+00, -6.36697113e-01, -1.35439503e+00,\n",
       "       -1.08039445e+00,  2.07160072e+00,  1.33497918e+00, -7.74477169e-01,\n",
       "       -2.93081004e+00,  1.46768156e+00, -4.02609531e+00, -4.70694046e+00,\n",
       "       -1.38532291e+01, -3.69623693e+00, -5.80943971e+00,  1.91407983e+00,\n",
       "       -7.51201490e-01, -4.46138667e+00, -4.38193683e+00, -6.67265691e+00,\n",
       "        2.79710852e+00,  5.30741058e-01, -5.77093870e+00, -6.70761949e+00,\n",
       "       -4.46747041e+00, -1.82251031e+00,  7.01505044e-01, -4.42071712e+00,\n",
       "       -2.73694283e-01,  7.46857248e-01,  1.07622772e+00, -2.04653309e+00,\n",
       "       -3.93420342e+00, -1.01435082e+00,  8.60374630e-02, -6.68201451e+00,\n",
       "        8.52230085e-02,  1.01220814e+00, -2.49325497e+00, -3.24841139e-02,\n",
       "        6.69108275e-01, -8.76112674e+00, -2.09265927e+00, -2.76287453e+00,\n",
       "        3.74895124e+00, -1.34089569e+00,  3.98707496e+00, -1.25847062e+01,\n",
       "       -1.18674283e+00, -8.72186606e+00, -1.69005714e+00, -1.13342980e+00,\n",
       "        2.05662627e-01, -1.17998815e+00, -3.63759940e-01, -7.52534472e+00,\n",
       "        4.62517363e-01,  5.18105682e-01,  1.24111058e+00,  1.40843771e+00,\n",
       "       -7.68135010e+00, -1.56658836e+00, -7.45070576e-01,  9.30957315e-01,\n",
       "       -1.23302521e+00, -1.09305099e+01, -8.81462315e-01, -3.17194855e+00,\n",
       "        9.04232967e-01,  2.85283283e-01, -1.49832144e+01, -5.37934797e+00,\n",
       "       -7.91441525e+00, -1.74268316e+00,  4.50887348e-01, -5.74550767e+00,\n",
       "        7.07802245e-01,  5.85983028e-01, -5.51849041e-01, -2.90021221e+00,\n",
       "       -8.27881347e+00, -1.50356966e+00,  1.11210825e+00,  1.32442077e+00,\n",
       "       -1.10561848e+01, -4.62304681e-01, -4.99478399e+00, -3.82331067e+00,\n",
       "       -8.12576054e-01,  2.20420725e-01,  1.29929586e+00,  5.38470440e-01,\n",
       "       -3.87637006e-02, -3.00076684e+00,  1.35534324e+00, -6.57836814e+00,\n",
       "        1.09358678e+00, -1.09301511e+00, -9.61639035e+00,  2.15603211e+00,\n",
       "        1.40565425e+00,  4.54026626e-01,  1.36778474e+00,  3.87443548e-01,\n",
       "       -1.50793740e+00, -1.46128671e+00,  1.45555291e-01, -9.54734595e-01,\n",
       "       -1.89484377e-01,  4.02170079e-01, -1.13903112e+00, -6.23199884e+00,\n",
       "       -1.05222826e+00,  1.20521064e+00,  1.62345259e+00, -5.55967979e+00,\n",
       "       -1.66753237e+01, -6.07931593e-03, -2.92525635e+00, -2.37878069e+00,\n",
       "        1.28808712e+00, -3.57698745e+00, -1.06760334e+01, -2.48999268e+00,\n",
       "        7.73387996e-02, -2.21882195e+00,  1.44545438e+00, -1.02882490e+01,\n",
       "       -1.00754660e+01, -4.00576330e+00,  4.68664871e-01, -5.51620573e+00,\n",
       "       -4.23150862e+00, -5.21900597e-02, -4.31997765e+00, -3.06063865e+00,\n",
       "        4.04208571e-01,  1.12305800e-01, -6.37957079e+00,  9.22849135e-01,\n",
       "        7.67985134e-01, -6.66446404e+00, -1.41663018e+01, -8.72432938e+00,\n",
       "       -3.84058355e+00, -3.19080834e+00, -7.43417221e-01,  4.77403416e-01,\n",
       "       -8.75220892e+00, -1.02649295e+01, -1.19243946e+00,  7.34423690e-02,\n",
       "       -7.09607936e+00, -8.69525883e+00, -8.15942688e+00, -6.11549898e+00,\n",
       "       -5.74778445e+00, -8.15883087e+00,  2.10975308e+00, -5.23756576e+00,\n",
       "        2.56992149e-01, -8.67818771e+00,  1.50570626e-01, -4.39582485e+00,\n",
       "       -1.46316571e-01,  1.54545613e+00, -7.61912407e+00,  8.54530726e-01,\n",
       "       -5.69002964e-01, -1.29036863e+01, -5.20072641e-01,  1.69057248e+00,\n",
       "        1.66469915e+00, -2.00719292e+00, -6.23813280e+00,  2.28988461e-01])"
      ]
     },
     "execution_count": 71,
     "metadata": {},
     "output_type": "execute_result"
    }
   ],
   "source": [
    "predictions"
   ]
  },
  {
   "cell_type": "code",
   "execution_count": 72,
   "metadata": {
    "ExecuteTime": {
     "end_time": "2019-03-07T14:06:03.004110Z",
     "start_time": "2019-03-07T14:06:02.997854Z"
    }
   },
   "outputs": [],
   "source": [
    "def log_likelihood(params):\n",
    "    predictions = make_predictions(params)\n",
    "    return np.sum(norm.logpdf(predictions, loc=expt_means[train_inds], scale=expt_uncs[train_inds]))"
   ]
  },
  {
   "cell_type": "code",
   "execution_count": 73,
   "metadata": {
    "ExecuteTime": {
     "end_time": "2019-03-07T14:06:03.586837Z",
     "start_time": "2019-03-07T14:06:03.581736Z"
    }
   },
   "outputs": [],
   "source": [
    "def log_posterior(params):\n",
    "    return log_prior(params) + log_likelihood(params)"
   ]
  },
  {
   "cell_type": "code",
   "execution_count": 74,
   "metadata": {
    "ExecuteTime": {
     "end_time": "2019-03-07T14:06:04.698622Z",
     "start_time": "2019-03-07T14:06:04.053321Z"
    }
   },
   "outputs": [
    {
     "data": {
      "text/plain": [
       "-54579.52569068625"
      ]
     },
     "execution_count": 74,
     "metadata": {},
     "output_type": "execute_result"
    }
   ],
   "source": [
    "log_posterior(params)"
   ]
  },
  {
   "cell_type": "code",
   "execution_count": 75,
   "metadata": {
    "ExecuteTime": {
     "end_time": "2019-03-07T14:06:15.009868Z",
     "start_time": "2019-03-07T14:06:04.702647Z"
    }
   },
   "outputs": [],
   "source": [
    "from autograd import grad\n",
    "g = grad(log_posterior)(params)"
   ]
  },
  {
   "cell_type": "code",
   "execution_count": 76,
   "metadata": {
    "ExecuteTime": {
     "end_time": "2019-03-07T14:06:15.017693Z",
     "start_time": "2019-03-07T14:06:15.013216Z"
    }
   },
   "outputs": [],
   "source": [
    "def rmse(x, y):\n",
    "    squared_errors = (x - y)**2\n",
    "    mean_squared_errors = np.mean(squared_errors)\n",
    "    root_mean_squared_errors = np.sqrt(mean_squared_errors)\n",
    "    return root_mean_squared_errors"
   ]
  },
  {
   "cell_type": "code",
   "execution_count": 77,
   "metadata": {
    "ExecuteTime": {
     "end_time": "2019-03-07T15:20:08.217549Z",
     "start_time": "2019-03-07T14:06:18.922813Z"
    }
   },
   "outputs": [
    {
     "name": "stdout",
     "output_type": "stream",
     "text": [
      "initial parameters\n",
      "\ttrain RMSE = 3.622\n",
      "\ttest RMSE = 3.357\n"
     ]
    },
    {
     "name": "stderr",
     "output_type": "stream",
     "text": [
      "/Users/joshuafass/anaconda3/lib/python3.7/site-packages/autograd/numpy/numpy_vjps.py:444: FutureWarning: Using a non-tuple sequence for multidimensional indexing is deprecated; use `arr[tuple(seq)]` instead of `arr[seq]`. In the future this will be interpreted as an array index, `arr[np.array(seq)]`, which will result either in an error or a different result.\n",
      "  return lambda g: g[idxs]\n"
     ]
    },
    {
     "name": "stdout",
     "output_type": "stream",
     "text": [
      "Iteration 0\n",
      "\ttrain RMSE = 3.577\n",
      "\ttest RMSE = 3.361\n",
      "Iteration 1\n",
      "\ttrain RMSE = 3.384\n",
      "\ttest RMSE = 3.172\n",
      "Iteration 2\n",
      "\ttrain RMSE = 3.286\n",
      "\ttest RMSE = 3.155\n",
      "Iteration 3\n",
      "\ttrain RMSE = 3.258\n",
      "\ttest RMSE = 3.116\n",
      "Iteration 4\n",
      "\ttrain RMSE = 3.227\n",
      "\ttest RMSE = 3.030\n",
      "Iteration 5\n",
      "\ttrain RMSE = 3.135\n",
      "\ttest RMSE = 2.967\n",
      "Iteration 6\n",
      "\ttrain RMSE = 3.051\n",
      "\ttest RMSE = 2.894\n",
      "Iteration 7\n",
      "\ttrain RMSE = 2.944\n",
      "\ttest RMSE = 2.742\n",
      "Iteration 8\n",
      "\ttrain RMSE = 2.976\n",
      "\ttest RMSE = 2.641\n",
      "Iteration 9\n",
      "\ttrain RMSE = 2.991\n",
      "\ttest RMSE = 2.602\n",
      "Iteration 10\n",
      "\ttrain RMSE = 2.907\n",
      "\ttest RMSE = 2.538\n",
      "Iteration 11\n",
      "\ttrain RMSE = 2.796\n",
      "\ttest RMSE = 2.508\n",
      "Iteration 12\n",
      "\ttrain RMSE = 2.677\n",
      "\ttest RMSE = 2.335\n",
      "Iteration 13\n",
      "\ttrain RMSE = 2.580\n",
      "\ttest RMSE = 2.287\n",
      "Iteration 14\n",
      "\ttrain RMSE = 2.480\n",
      "\ttest RMSE = 2.246\n",
      "Iteration 15\n",
      "\ttrain RMSE = 2.451\n",
      "\ttest RMSE = 2.250\n",
      "Iteration 16\n",
      "\ttrain RMSE = 2.469\n",
      "\ttest RMSE = 2.246\n",
      "Iteration 17\n",
      "\ttrain RMSE = 2.401\n",
      "\ttest RMSE = 2.327\n",
      "Iteration 18\n",
      "\ttrain RMSE = 2.399\n",
      "\ttest RMSE = 2.359\n",
      "Iteration 19\n",
      "\ttrain RMSE = 2.360\n",
      "\ttest RMSE = 2.377\n",
      "Iteration 20\n",
      "\ttrain RMSE = 2.322\n",
      "\ttest RMSE = 2.359\n",
      "Iteration 21\n",
      "\ttrain RMSE = 2.296\n",
      "\ttest RMSE = 2.363\n",
      "Iteration 22\n",
      "\ttrain RMSE = 2.243\n",
      "\ttest RMSE = 2.364\n",
      "Iteration 23\n",
      "\ttrain RMSE = 2.256\n",
      "\ttest RMSE = 2.370\n",
      "Iteration 24\n",
      "\ttrain RMSE = 2.232\n",
      "\ttest RMSE = 2.414\n",
      "Iteration 25\n",
      "\ttrain RMSE = 2.267\n",
      "\ttest RMSE = 2.477\n",
      "Iteration 26\n",
      "\ttrain RMSE = 2.312\n",
      "\ttest RMSE = 2.515\n",
      "Iteration 27\n",
      "\ttrain RMSE = 2.272\n",
      "\ttest RMSE = 2.571\n",
      "Iteration 28\n",
      "\ttrain RMSE = 2.249\n",
      "\ttest RMSE = 2.581\n",
      "Iteration 29\n",
      "\ttrain RMSE = 2.212\n",
      "\ttest RMSE = 2.540\n",
      "Iteration 30\n",
      "\ttrain RMSE = 2.219\n",
      "\ttest RMSE = 2.583\n",
      "Iteration 31\n",
      "\ttrain RMSE = 2.259\n",
      "\ttest RMSE = 2.602\n",
      "Iteration 32\n",
      "\ttrain RMSE = 2.241\n",
      "\ttest RMSE = 2.615\n",
      "Iteration 33\n",
      "\ttrain RMSE = 2.245\n",
      "\ttest RMSE = 2.588\n",
      "Iteration 34\n",
      "\ttrain RMSE = 2.237\n",
      "\ttest RMSE = 2.561\n",
      "Iteration 35\n",
      "\ttrain RMSE = 2.174\n",
      "\ttest RMSE = 2.512\n",
      "Iteration 36\n",
      "\ttrain RMSE = 2.152\n",
      "\ttest RMSE = 2.438\n",
      "Iteration 37\n",
      "\ttrain RMSE = 2.098\n",
      "\ttest RMSE = 2.354\n",
      "Iteration 38\n",
      "\ttrain RMSE = 2.120\n",
      "\ttest RMSE = 2.375\n",
      "Iteration 39\n",
      "\ttrain RMSE = 2.119\n",
      "\ttest RMSE = 2.274\n",
      "Iteration 40\n",
      "\ttrain RMSE = 2.117\n",
      "\ttest RMSE = 2.316\n",
      "Iteration 41\n",
      "\ttrain RMSE = 2.117\n",
      "\ttest RMSE = 2.258\n",
      "Iteration 42\n",
      "\ttrain RMSE = 2.074\n",
      "\ttest RMSE = 2.161\n",
      "Iteration 43\n",
      "\ttrain RMSE = 2.026\n",
      "\ttest RMSE = 2.060\n",
      "Iteration 44\n",
      "\ttrain RMSE = 1.992\n",
      "\ttest RMSE = 2.061\n",
      "Iteration 45\n",
      "\ttrain RMSE = 1.946\n",
      "\ttest RMSE = 1.981\n",
      "Iteration 46\n",
      "\ttrain RMSE = 1.956\n",
      "\ttest RMSE = 1.964\n",
      "Iteration 47\n",
      "\ttrain RMSE = 1.954\n",
      "\ttest RMSE = 1.964\n",
      "Iteration 48\n",
      "\ttrain RMSE = 1.929\n",
      "\ttest RMSE = 1.946\n",
      "Iteration 49\n",
      "\ttrain RMSE = 1.958\n",
      "\ttest RMSE = 1.903\n",
      "Iteration 50\n",
      "\ttrain RMSE = 1.903\n",
      "\ttest RMSE = 1.880\n",
      "Iteration 51\n",
      "\ttrain RMSE = 1.924\n",
      "\ttest RMSE = 1.855\n",
      "Iteration 52\n",
      "\ttrain RMSE = 1.882\n",
      "\ttest RMSE = 1.820\n",
      "Iteration 53\n",
      "\ttrain RMSE = 1.878\n",
      "\ttest RMSE = 1.811\n",
      "Iteration 54\n",
      "\ttrain RMSE = 1.844\n",
      "\ttest RMSE = 1.741\n",
      "Iteration 55\n",
      "\ttrain RMSE = 1.854\n",
      "\ttest RMSE = 1.787\n",
      "Iteration 56\n",
      "\ttrain RMSE = 1.858\n",
      "\ttest RMSE = 1.746\n",
      "Iteration 57\n",
      "\ttrain RMSE = 1.875\n",
      "\ttest RMSE = 1.752\n",
      "Iteration 58\n",
      "\ttrain RMSE = 1.872\n",
      "\ttest RMSE = 1.758\n",
      "Iteration 59\n",
      "\ttrain RMSE = 1.872\n",
      "\ttest RMSE = 1.728\n",
      "Iteration 60\n",
      "\ttrain RMSE = 1.852\n",
      "\ttest RMSE = 1.715\n",
      "Iteration 61\n",
      "\ttrain RMSE = 1.835\n",
      "\ttest RMSE = 1.732\n",
      "Iteration 62\n",
      "\ttrain RMSE = 1.842\n",
      "\ttest RMSE = 1.786\n",
      "Iteration 63\n",
      "\ttrain RMSE = 1.867\n",
      "\ttest RMSE = 1.776\n",
      "Iteration 64\n",
      "\ttrain RMSE = 1.869\n",
      "\ttest RMSE = 1.779\n",
      "Iteration 65\n",
      "\ttrain RMSE = 1.862\n",
      "\ttest RMSE = 1.806\n",
      "Iteration 66\n",
      "\ttrain RMSE = 1.829\n",
      "\ttest RMSE = 1.799\n",
      "Iteration 67\n",
      "\ttrain RMSE = 1.832\n",
      "\ttest RMSE = 1.762\n",
      "Iteration 68\n",
      "\ttrain RMSE = 1.828\n",
      "\ttest RMSE = 1.766\n",
      "Iteration 69\n",
      "\ttrain RMSE = 1.820\n",
      "\ttest RMSE = 1.740\n",
      "Iteration 70\n",
      "\ttrain RMSE = 1.834\n",
      "\ttest RMSE = 1.786\n",
      "Iteration 71\n",
      "\ttrain RMSE = 1.872\n",
      "\ttest RMSE = 1.772\n",
      "Iteration 72\n",
      "\ttrain RMSE = 1.811\n",
      "\ttest RMSE = 1.798\n",
      "Iteration 73\n",
      "\ttrain RMSE = 1.823\n",
      "\ttest RMSE = 1.758\n",
      "Iteration 74\n",
      "\ttrain RMSE = 1.823\n",
      "\ttest RMSE = 1.741\n",
      "Iteration 75\n",
      "\ttrain RMSE = 1.810\n",
      "\ttest RMSE = 1.745\n",
      "Iteration 76\n",
      "\ttrain RMSE = 1.779\n",
      "\ttest RMSE = 1.795\n",
      "Iteration 77\n",
      "\ttrain RMSE = 1.772\n",
      "\ttest RMSE = 1.759\n",
      "Iteration 78\n",
      "\ttrain RMSE = 1.813\n",
      "\ttest RMSE = 1.742\n",
      "Iteration 79\n",
      "\ttrain RMSE = 1.817\n",
      "\ttest RMSE = 1.793\n",
      "Iteration 80\n",
      "\ttrain RMSE = 1.874\n",
      "\ttest RMSE = 1.832\n",
      "Iteration 81\n",
      "\ttrain RMSE = 1.804\n",
      "\ttest RMSE = 1.769\n",
      "Iteration 82\n",
      "\ttrain RMSE = 1.814\n",
      "\ttest RMSE = 1.762\n",
      "Iteration 83\n",
      "\ttrain RMSE = 1.801\n",
      "\ttest RMSE = 1.761\n",
      "Iteration 84\n",
      "\ttrain RMSE = 1.774\n",
      "\ttest RMSE = 1.733\n",
      "Iteration 85\n",
      "\ttrain RMSE = 1.766\n",
      "\ttest RMSE = 1.725\n",
      "Iteration 86\n",
      "\ttrain RMSE = 1.828\n",
      "\ttest RMSE = 1.723\n",
      "Iteration 87\n",
      "\ttrain RMSE = 1.773\n",
      "\ttest RMSE = 1.767\n",
      "Iteration 88\n",
      "\ttrain RMSE = 1.797\n",
      "\ttest RMSE = 1.743\n",
      "Iteration 89\n",
      "\ttrain RMSE = 1.805\n",
      "\ttest RMSE = 1.751\n",
      "Iteration 90\n",
      "\ttrain RMSE = 1.777\n",
      "\ttest RMSE = 1.744\n",
      "Iteration 91\n",
      "\ttrain RMSE = 1.803\n",
      "\ttest RMSE = 1.720\n",
      "Iteration 92\n",
      "\ttrain RMSE = 1.789\n",
      "\ttest RMSE = 1.703\n",
      "Iteration 93\n",
      "\ttrain RMSE = 1.805\n",
      "\ttest RMSE = 1.684\n",
      "Iteration 94\n",
      "\ttrain RMSE = 1.757\n",
      "\ttest RMSE = 1.723\n",
      "Iteration 95\n",
      "\ttrain RMSE = 1.772\n",
      "\ttest RMSE = 1.709\n",
      "Iteration 96\n",
      "\ttrain RMSE = 1.826\n",
      "\ttest RMSE = 1.747\n",
      "Iteration 97\n",
      "\ttrain RMSE = 1.825\n",
      "\ttest RMSE = 1.745\n",
      "Iteration 98\n",
      "\ttrain RMSE = 1.821\n",
      "\ttest RMSE = 1.734\n",
      "Iteration 99\n",
      "\ttrain RMSE = 1.763\n",
      "\ttest RMSE = 1.709\n",
      "Iteration 100\n",
      "\ttrain RMSE = 1.781\n",
      "\ttest RMSE = 1.741\n",
      "Iteration 101\n",
      "\ttrain RMSE = 1.817\n",
      "\ttest RMSE = 1.722\n",
      "Iteration 102\n",
      "\ttrain RMSE = 1.748\n",
      "\ttest RMSE = 1.693\n",
      "Iteration 103\n",
      "\ttrain RMSE = 1.738\n",
      "\ttest RMSE = 1.686\n",
      "Iteration 104\n",
      "\ttrain RMSE = 1.773\n",
      "\ttest RMSE = 1.696\n",
      "Iteration 105\n",
      "\ttrain RMSE = 1.744\n",
      "\ttest RMSE = 1.682\n",
      "Iteration 106\n",
      "\ttrain RMSE = 1.775\n",
      "\ttest RMSE = 1.692\n",
      "Iteration 107\n",
      "\ttrain RMSE = 1.800\n",
      "\ttest RMSE = 1.667\n",
      "Iteration 108\n",
      "\ttrain RMSE = 1.762\n",
      "\ttest RMSE = 1.698\n",
      "Iteration 109\n",
      "\ttrain RMSE = 1.733\n",
      "\ttest RMSE = 1.696\n",
      "Iteration 110\n",
      "\ttrain RMSE = 1.760\n",
      "\ttest RMSE = 1.671\n",
      "Iteration 111\n",
      "\ttrain RMSE = 1.740\n",
      "\ttest RMSE = 1.693\n",
      "Iteration 112\n",
      "\ttrain RMSE = 1.744\n",
      "\ttest RMSE = 1.691\n",
      "Iteration 113\n",
      "\ttrain RMSE = 1.757\n",
      "\ttest RMSE = 1.697\n",
      "Iteration 114\n",
      "\ttrain RMSE = 1.736\n",
      "\ttest RMSE = 1.730\n",
      "Iteration 115\n",
      "\ttrain RMSE = 1.751\n",
      "\ttest RMSE = 1.697\n",
      "Iteration 116\n",
      "\ttrain RMSE = 1.772\n",
      "\ttest RMSE = 1.715\n",
      "Iteration 117\n",
      "\ttrain RMSE = 1.806\n",
      "\ttest RMSE = 1.685\n",
      "Iteration 118\n",
      "\ttrain RMSE = 1.769\n",
      "\ttest RMSE = 1.702\n",
      "Iteration 119\n",
      "\ttrain RMSE = 1.735\n",
      "\ttest RMSE = 1.699\n",
      "Iteration 120\n",
      "\ttrain RMSE = 1.721\n",
      "\ttest RMSE = 1.692\n",
      "Iteration 121\n",
      "\ttrain RMSE = 1.728\n",
      "\ttest RMSE = 1.695\n",
      "Iteration 122\n",
      "\ttrain RMSE = 1.766\n",
      "\ttest RMSE = 1.698\n",
      "Iteration 123\n",
      "\ttrain RMSE = 1.707\n",
      "\ttest RMSE = 1.710\n",
      "Iteration 124\n",
      "\ttrain RMSE = 1.790\n",
      "\ttest RMSE = 1.709\n",
      "Iteration 125\n",
      "\ttrain RMSE = 1.716\n",
      "\ttest RMSE = 1.701\n",
      "Iteration 126\n",
      "\ttrain RMSE = 1.767\n",
      "\ttest RMSE = 1.714\n",
      "Iteration 127\n",
      "\ttrain RMSE = 1.807\n",
      "\ttest RMSE = 1.686\n",
      "Iteration 128\n",
      "\ttrain RMSE = 1.677\n",
      "\ttest RMSE = 1.693\n",
      "Iteration 129\n",
      "\ttrain RMSE = 1.766\n",
      "\ttest RMSE = 1.702\n",
      "Iteration 130\n",
      "\ttrain RMSE = 1.711\n",
      "\ttest RMSE = 1.705\n",
      "Iteration 131\n",
      "\ttrain RMSE = 1.763\n",
      "\ttest RMSE = 1.697\n",
      "Iteration 132\n",
      "\ttrain RMSE = 1.746\n",
      "\ttest RMSE = 1.677\n",
      "Iteration 133\n",
      "\ttrain RMSE = 1.733\n",
      "\ttest RMSE = 1.676\n",
      "Iteration 134\n",
      "\ttrain RMSE = 1.715\n",
      "\ttest RMSE = 1.692\n",
      "Iteration 135\n",
      "\ttrain RMSE = 1.692\n",
      "\ttest RMSE = 1.671\n",
      "Iteration 136\n",
      "\ttrain RMSE = 1.697\n",
      "\ttest RMSE = 1.678\n",
      "Iteration 137\n",
      "\ttrain RMSE = 1.706\n",
      "\ttest RMSE = 1.662\n",
      "Iteration 138\n",
      "\ttrain RMSE = 1.693\n",
      "\ttest RMSE = 1.672\n",
      "Iteration 139\n",
      "\ttrain RMSE = 1.702\n",
      "\ttest RMSE = 1.649\n",
      "Iteration 140\n",
      "\ttrain RMSE = 1.737\n",
      "\ttest RMSE = 1.692\n",
      "Iteration 141\n",
      "\ttrain RMSE = 1.729\n",
      "\ttest RMSE = 1.651\n",
      "Iteration 142\n",
      "\ttrain RMSE = 1.633\n",
      "\ttest RMSE = 1.664\n",
      "Iteration 143\n",
      "\ttrain RMSE = 1.653\n",
      "\ttest RMSE = 1.658\n",
      "Iteration 144\n",
      "\ttrain RMSE = 1.717\n",
      "\ttest RMSE = 1.675\n",
      "Iteration 145\n",
      "\ttrain RMSE = 1.701\n",
      "\ttest RMSE = 1.660\n",
      "Iteration 146\n",
      "\ttrain RMSE = 1.714\n",
      "\ttest RMSE = 1.656\n",
      "Iteration 147\n",
      "\ttrain RMSE = 1.671\n",
      "\ttest RMSE = 1.653\n",
      "Iteration 148\n",
      "\ttrain RMSE = 1.673\n",
      "\ttest RMSE = 1.685\n",
      "Iteration 149\n",
      "\ttrain RMSE = 1.658\n",
      "\ttest RMSE = 1.670\n",
      "Iteration 150\n",
      "\ttrain RMSE = 1.698\n",
      "\ttest RMSE = 1.684\n",
      "Iteration 151\n",
      "\ttrain RMSE = 1.639\n",
      "\ttest RMSE = 1.672\n",
      "Iteration 152\n",
      "\ttrain RMSE = 1.714\n",
      "\ttest RMSE = 1.669\n",
      "Iteration 153\n",
      "\ttrain RMSE = 1.715\n",
      "\ttest RMSE = 1.679\n",
      "Iteration 154\n",
      "\ttrain RMSE = 1.708\n",
      "\ttest RMSE = 1.681\n",
      "Iteration 155\n",
      "\ttrain RMSE = 1.657\n",
      "\ttest RMSE = 1.683\n",
      "Iteration 156\n",
      "\ttrain RMSE = 1.649\n",
      "\ttest RMSE = 1.682\n"
     ]
    },
    {
     "name": "stdout",
     "output_type": "stream",
     "text": [
      "Iteration 157\n",
      "\ttrain RMSE = 1.675\n",
      "\ttest RMSE = 1.700\n",
      "Iteration 158\n",
      "\ttrain RMSE = 1.698\n",
      "\ttest RMSE = 1.679\n",
      "Iteration 159\n",
      "\ttrain RMSE = 1.710\n",
      "\ttest RMSE = 1.676\n",
      "Iteration 160\n",
      "\ttrain RMSE = 1.641\n",
      "\ttest RMSE = 1.672\n",
      "Iteration 161\n",
      "\ttrain RMSE = 1.673\n",
      "\ttest RMSE = 1.671\n",
      "Iteration 162\n",
      "\ttrain RMSE = 1.682\n",
      "\ttest RMSE = 1.708\n",
      "Iteration 163\n",
      "\ttrain RMSE = 1.715\n",
      "\ttest RMSE = 1.697\n",
      "Iteration 164\n",
      "\ttrain RMSE = 1.647\n",
      "\ttest RMSE = 1.687\n",
      "Iteration 165\n",
      "\ttrain RMSE = 1.677\n",
      "\ttest RMSE = 1.671\n",
      "Iteration 166\n",
      "\ttrain RMSE = 1.688\n",
      "\ttest RMSE = 1.687\n",
      "Iteration 167\n",
      "\ttrain RMSE = 1.749\n",
      "\ttest RMSE = 1.740\n",
      "Iteration 168\n",
      "\ttrain RMSE = 1.755\n",
      "\ttest RMSE = 1.727\n",
      "Iteration 169\n",
      "\ttrain RMSE = 1.632\n",
      "\ttest RMSE = 1.715\n",
      "Iteration 170\n",
      "\ttrain RMSE = 1.695\n",
      "\ttest RMSE = 1.682\n",
      "Iteration 171\n",
      "\ttrain RMSE = 1.754\n",
      "\ttest RMSE = 1.676\n",
      "Iteration 172\n",
      "\ttrain RMSE = 1.690\n",
      "\ttest RMSE = 1.693\n",
      "Iteration 173\n",
      "\ttrain RMSE = 1.678\n",
      "\ttest RMSE = 1.704\n",
      "Iteration 174\n",
      "\ttrain RMSE = 1.719\n",
      "\ttest RMSE = 1.683\n",
      "Iteration 175\n",
      "\ttrain RMSE = 1.622\n",
      "\ttest RMSE = 1.687\n",
      "Iteration 176\n",
      "\ttrain RMSE = 1.628\n",
      "\ttest RMSE = 1.679\n",
      "Iteration 177\n",
      "\ttrain RMSE = 1.709\n",
      "\ttest RMSE = 1.696\n",
      "Iteration 178\n",
      "\ttrain RMSE = 1.661\n",
      "\ttest RMSE = 1.666\n",
      "Iteration 179\n",
      "\ttrain RMSE = 1.679\n",
      "\ttest RMSE = 1.670\n",
      "Iteration 180\n",
      "\ttrain RMSE = 1.648\n",
      "\ttest RMSE = 1.654\n",
      "Iteration 181\n",
      "\ttrain RMSE = 1.608\n",
      "\ttest RMSE = 1.655\n",
      "Iteration 182\n",
      "\ttrain RMSE = 1.692\n",
      "\ttest RMSE = 1.662\n",
      "Iteration 183\n",
      "\ttrain RMSE = 1.656\n",
      "\ttest RMSE = 1.666\n",
      "Iteration 184\n",
      "\ttrain RMSE = 1.651\n",
      "\ttest RMSE = 1.651\n",
      "Iteration 185\n",
      "\ttrain RMSE = 1.685\n",
      "\ttest RMSE = 1.677\n",
      "Iteration 186\n",
      "\ttrain RMSE = 1.644\n",
      "\ttest RMSE = 1.680\n",
      "Iteration 187\n",
      "\ttrain RMSE = 1.684\n",
      "\ttest RMSE = 1.677\n",
      "Iteration 188\n",
      "\ttrain RMSE = 1.689\n",
      "\ttest RMSE = 1.670\n",
      "Iteration 189\n",
      "\ttrain RMSE = 1.658\n",
      "\ttest RMSE = 1.655\n",
      "Iteration 190\n",
      "\ttrain RMSE = 1.640\n",
      "\ttest RMSE = 1.653\n",
      "Iteration 191\n",
      "\ttrain RMSE = 1.683\n",
      "\ttest RMSE = 1.715\n",
      "Iteration 192\n",
      "\ttrain RMSE = 1.671\n",
      "\ttest RMSE = 1.713\n",
      "Iteration 193\n",
      "\ttrain RMSE = 1.654\n",
      "\ttest RMSE = 1.665\n",
      "Iteration 194\n",
      "\ttrain RMSE = 1.703\n",
      "\ttest RMSE = 1.655\n",
      "Iteration 195\n",
      "\ttrain RMSE = 1.698\n",
      "\ttest RMSE = 1.677\n",
      "Iteration 196\n",
      "\ttrain RMSE = 1.703\n",
      "\ttest RMSE = 1.708\n",
      "Iteration 197\n",
      "\ttrain RMSE = 1.665\n",
      "\ttest RMSE = 1.657\n",
      "Iteration 198\n",
      "\ttrain RMSE = 1.666\n",
      "\ttest RMSE = 1.668\n",
      "Iteration 199\n",
      "\ttrain RMSE = 1.668\n",
      "\ttest RMSE = 1.666\n",
      "Iteration 200\n",
      "\ttrain RMSE = 1.691\n",
      "\ttest RMSE = 1.674\n",
      "Iteration 201\n",
      "\ttrain RMSE = 1.697\n",
      "\ttest RMSE = 1.687\n",
      "Iteration 202\n",
      "\ttrain RMSE = 1.660\n",
      "\ttest RMSE = 1.687\n",
      "Iteration 203\n",
      "\ttrain RMSE = 1.676\n",
      "\ttest RMSE = 1.691\n",
      "Iteration 204\n",
      "\ttrain RMSE = 1.673\n",
      "\ttest RMSE = 1.693\n",
      "Iteration 205\n",
      "\ttrain RMSE = 1.698\n",
      "\ttest RMSE = 1.667\n",
      "Iteration 206\n",
      "\ttrain RMSE = 1.708\n",
      "\ttest RMSE = 1.669\n",
      "Iteration 207\n",
      "\ttrain RMSE = 1.659\n",
      "\ttest RMSE = 1.654\n",
      "Iteration 208\n",
      "\ttrain RMSE = 1.598\n",
      "\ttest RMSE = 1.668\n",
      "Iteration 209\n",
      "\ttrain RMSE = 1.616\n",
      "\ttest RMSE = 1.663\n",
      "Iteration 210\n",
      "\ttrain RMSE = 1.704\n",
      "\ttest RMSE = 1.714\n",
      "Iteration 211\n",
      "\ttrain RMSE = 1.704\n",
      "\ttest RMSE = 1.670\n",
      "Iteration 212\n",
      "\ttrain RMSE = 1.656\n",
      "\ttest RMSE = 1.652\n",
      "Iteration 213\n",
      "\ttrain RMSE = 1.642\n",
      "\ttest RMSE = 1.660\n",
      "Iteration 214\n",
      "\ttrain RMSE = 1.710\n",
      "\ttest RMSE = 1.661\n",
      "Iteration 215\n",
      "\ttrain RMSE = 1.640\n",
      "\ttest RMSE = 1.654\n",
      "Iteration 216\n",
      "\ttrain RMSE = 1.636\n",
      "\ttest RMSE = 1.689\n",
      "Iteration 217\n",
      "\ttrain RMSE = 1.696\n",
      "\ttest RMSE = 1.660\n",
      "Iteration 218\n",
      "\ttrain RMSE = 1.737\n",
      "\ttest RMSE = 1.711\n",
      "Iteration 219\n",
      "\ttrain RMSE = 1.701\n",
      "\ttest RMSE = 1.693\n",
      "Iteration 220\n",
      "\ttrain RMSE = 1.663\n",
      "\ttest RMSE = 1.666\n",
      "Iteration 221\n",
      "\ttrain RMSE = 1.638\n",
      "\ttest RMSE = 1.660\n",
      "Iteration 222\n",
      "\ttrain RMSE = 1.699\n",
      "\ttest RMSE = 1.658\n",
      "Iteration 223\n",
      "\ttrain RMSE = 1.676\n",
      "\ttest RMSE = 1.666\n",
      "Iteration 224\n",
      "\ttrain RMSE = 1.630\n",
      "\ttest RMSE = 1.652\n",
      "Iteration 225\n",
      "\ttrain RMSE = 1.671\n",
      "\ttest RMSE = 1.647\n",
      "Iteration 226\n",
      "\ttrain RMSE = 1.683\n",
      "\ttest RMSE = 1.683\n",
      "Iteration 227\n",
      "\ttrain RMSE = 1.675\n",
      "\ttest RMSE = 1.675\n",
      "Iteration 228\n",
      "\ttrain RMSE = 1.702\n",
      "\ttest RMSE = 1.701\n",
      "Iteration 229\n",
      "\ttrain RMSE = 1.671\n",
      "\ttest RMSE = 1.654\n",
      "Iteration 230\n",
      "\ttrain RMSE = 1.693\n",
      "\ttest RMSE = 1.668\n",
      "Iteration 231\n",
      "\ttrain RMSE = 1.648\n",
      "\ttest RMSE = 1.703\n",
      "Iteration 232\n",
      "\ttrain RMSE = 1.733\n",
      "\ttest RMSE = 1.712\n",
      "Iteration 233\n",
      "\ttrain RMSE = 1.692\n",
      "\ttest RMSE = 1.686\n",
      "Iteration 234\n",
      "\ttrain RMSE = 1.724\n",
      "\ttest RMSE = 1.666\n",
      "Iteration 235\n",
      "\ttrain RMSE = 1.663\n",
      "\ttest RMSE = 1.644\n",
      "Iteration 236\n",
      "\ttrain RMSE = 1.675\n",
      "\ttest RMSE = 1.658\n",
      "Iteration 237\n",
      "\ttrain RMSE = 1.689\n",
      "\ttest RMSE = 1.676\n",
      "Iteration 238\n",
      "\ttrain RMSE = 1.729\n",
      "\ttest RMSE = 1.645\n",
      "Iteration 239\n",
      "\ttrain RMSE = 1.677\n",
      "\ttest RMSE = 1.662\n",
      "Iteration 240\n",
      "\ttrain RMSE = 1.704\n",
      "\ttest RMSE = 1.664\n",
      "Iteration 241\n",
      "\ttrain RMSE = 1.692\n",
      "\ttest RMSE = 1.634\n",
      "Iteration 242\n",
      "\ttrain RMSE = 1.704\n",
      "\ttest RMSE = 1.695\n",
      "Iteration 243\n",
      "\ttrain RMSE = 1.655\n",
      "\ttest RMSE = 1.677\n",
      "Iteration 244\n",
      "\ttrain RMSE = 1.673\n",
      "\ttest RMSE = 1.665\n",
      "Iteration 245\n",
      "\ttrain RMSE = 1.655\n",
      "\ttest RMSE = 1.670\n",
      "Iteration 246\n",
      "\ttrain RMSE = 1.649\n",
      "\ttest RMSE = 1.672\n",
      "Iteration 247\n",
      "\ttrain RMSE = 1.622\n",
      "\ttest RMSE = 1.649\n",
      "Iteration 248\n",
      "\ttrain RMSE = 1.672\n",
      "\ttest RMSE = 1.641\n",
      "Iteration 249\n",
      "\ttrain RMSE = 1.612\n",
      "\ttest RMSE = 1.654\n",
      "Iteration 250\n",
      "\ttrain RMSE = 1.607\n",
      "\ttest RMSE = 1.651\n",
      "Iteration 251\n",
      "\ttrain RMSE = 1.670\n",
      "\ttest RMSE = 1.672\n",
      "Iteration 252\n",
      "\ttrain RMSE = 1.684\n",
      "\ttest RMSE = 1.680\n",
      "Iteration 253\n",
      "\ttrain RMSE = 1.680\n",
      "\ttest RMSE = 1.641\n",
      "Iteration 254\n",
      "\ttrain RMSE = 1.701\n",
      "\ttest RMSE = 1.672\n",
      "Iteration 255\n",
      "\ttrain RMSE = 1.710\n",
      "\ttest RMSE = 1.672\n",
      "Iteration 256\n",
      "\ttrain RMSE = 1.684\n",
      "\ttest RMSE = 1.656\n",
      "Iteration 257\n",
      "\ttrain RMSE = 1.717\n",
      "\ttest RMSE = 1.631\n",
      "Iteration 258\n",
      "\ttrain RMSE = 1.677\n",
      "\ttest RMSE = 1.643\n",
      "Iteration 259\n",
      "\ttrain RMSE = 1.662\n",
      "\ttest RMSE = 1.681\n",
      "Iteration 260\n",
      "\ttrain RMSE = 1.684\n",
      "\ttest RMSE = 1.667\n",
      "Iteration 261\n",
      "\ttrain RMSE = 1.681\n",
      "\ttest RMSE = 1.661\n",
      "Iteration 262\n",
      "\ttrain RMSE = 1.651\n",
      "\ttest RMSE = 1.625\n",
      "Iteration 263\n",
      "\ttrain RMSE = 1.701\n",
      "\ttest RMSE = 1.643\n",
      "Iteration 264\n",
      "\ttrain RMSE = 1.703\n",
      "\ttest RMSE = 1.686\n",
      "Iteration 265\n",
      "\ttrain RMSE = 1.659\n",
      "\ttest RMSE = 1.715\n",
      "Iteration 266\n",
      "\ttrain RMSE = 1.675\n",
      "\ttest RMSE = 1.681\n",
      "Iteration 267\n",
      "\ttrain RMSE = 1.660\n",
      "\ttest RMSE = 1.705\n",
      "Iteration 268\n",
      "\ttrain RMSE = 1.725\n",
      "\ttest RMSE = 1.691\n",
      "Iteration 269\n",
      "\ttrain RMSE = 1.770\n",
      "\ttest RMSE = 1.709\n",
      "Iteration 270\n",
      "\ttrain RMSE = 1.714\n",
      "\ttest RMSE = 1.697\n",
      "Iteration 271\n",
      "\ttrain RMSE = 1.710\n",
      "\ttest RMSE = 1.663\n",
      "Iteration 272\n",
      "\ttrain RMSE = 1.692\n",
      "\ttest RMSE = 1.654\n",
      "Iteration 273\n",
      "\ttrain RMSE = 1.665\n",
      "\ttest RMSE = 1.670\n",
      "Iteration 274\n",
      "\ttrain RMSE = 1.706\n",
      "\ttest RMSE = 1.702\n",
      "Iteration 275\n",
      "\ttrain RMSE = 1.665\n",
      "\ttest RMSE = 1.647\n",
      "Iteration 276\n",
      "\ttrain RMSE = 1.646\n",
      "\ttest RMSE = 1.648\n",
      "Iteration 277\n",
      "\ttrain RMSE = 1.675\n",
      "\ttest RMSE = 1.670\n",
      "Iteration 278\n",
      "\ttrain RMSE = 1.689\n",
      "\ttest RMSE = 1.673\n",
      "Iteration 279\n",
      "\ttrain RMSE = 1.654\n",
      "\ttest RMSE = 1.648\n",
      "Iteration 280\n",
      "\ttrain RMSE = 1.653\n",
      "\ttest RMSE = 1.680\n",
      "Iteration 281\n",
      "\ttrain RMSE = 1.646\n",
      "\ttest RMSE = 1.675\n",
      "Iteration 282\n",
      "\ttrain RMSE = 1.649\n",
      "\ttest RMSE = 1.640\n",
      "Iteration 283\n",
      "\ttrain RMSE = 1.661\n",
      "\ttest RMSE = 1.672\n",
      "Iteration 284\n",
      "\ttrain RMSE = 1.740\n",
      "\ttest RMSE = 1.667\n",
      "Iteration 285\n",
      "\ttrain RMSE = 1.659\n",
      "\ttest RMSE = 1.653\n",
      "Iteration 286\n",
      "\ttrain RMSE = 1.657\n",
      "\ttest RMSE = 1.682\n",
      "Iteration 287\n",
      "\ttrain RMSE = 1.660\n",
      "\ttest RMSE = 1.649\n",
      "Iteration 288\n",
      "\ttrain RMSE = 1.708\n",
      "\ttest RMSE = 1.655\n",
      "Iteration 289\n",
      "\ttrain RMSE = 1.708\n",
      "\ttest RMSE = 1.699\n",
      "Iteration 290\n",
      "\ttrain RMSE = 1.719\n",
      "\ttest RMSE = 1.694\n",
      "Iteration 291\n",
      "\ttrain RMSE = 1.645\n",
      "\ttest RMSE = 1.649\n",
      "Iteration 292\n",
      "\ttrain RMSE = 1.655\n",
      "\ttest RMSE = 1.639\n",
      "Iteration 293\n",
      "\ttrain RMSE = 1.697\n",
      "\ttest RMSE = 1.630\n",
      "Iteration 294\n",
      "\ttrain RMSE = 1.679\n",
      "\ttest RMSE = 1.685\n",
      "Iteration 295\n",
      "\ttrain RMSE = 1.679\n",
      "\ttest RMSE = 1.644\n",
      "Iteration 296\n",
      "\ttrain RMSE = 1.632\n",
      "\ttest RMSE = 1.661\n",
      "Iteration 297\n",
      "\ttrain RMSE = 1.674\n",
      "\ttest RMSE = 1.675\n",
      "Iteration 298\n",
      "\ttrain RMSE = 1.672\n",
      "\ttest RMSE = 1.634\n",
      "Iteration 299\n",
      "\ttrain RMSE = 1.670\n",
      "\ttest RMSE = 1.689\n",
      "Iteration 300\n",
      "\ttrain RMSE = 1.661\n",
      "\ttest RMSE = 1.657\n",
      "Iteration 301\n",
      "\ttrain RMSE = 1.758\n",
      "\ttest RMSE = 1.641\n",
      "Iteration 302\n",
      "\ttrain RMSE = 1.728\n",
      "\ttest RMSE = 1.643\n",
      "Iteration 303\n",
      "\ttrain RMSE = 1.709\n",
      "\ttest RMSE = 1.614\n",
      "Iteration 304\n",
      "\ttrain RMSE = 1.637\n",
      "\ttest RMSE = 1.646\n",
      "Iteration 305\n",
      "\ttrain RMSE = 1.652\n",
      "\ttest RMSE = 1.625\n",
      "Iteration 306\n",
      "\ttrain RMSE = 1.675\n",
      "\ttest RMSE = 1.661\n",
      "Iteration 307\n",
      "\ttrain RMSE = 1.686\n",
      "\ttest RMSE = 1.680\n",
      "Iteration 308\n",
      "\ttrain RMSE = 1.638\n",
      "\ttest RMSE = 1.687\n",
      "Iteration 309\n",
      "\ttrain RMSE = 1.696\n",
      "\ttest RMSE = 1.656\n",
      "Iteration 310\n",
      "\ttrain RMSE = 1.723\n",
      "\ttest RMSE = 1.649\n",
      "Iteration 311\n",
      "\ttrain RMSE = 1.670\n",
      "\ttest RMSE = 1.666\n"
     ]
    },
    {
     "name": "stdout",
     "output_type": "stream",
     "text": [
      "Iteration 312\n",
      "\ttrain RMSE = 1.687\n",
      "\ttest RMSE = 1.660\n",
      "Iteration 313\n",
      "\ttrain RMSE = 1.725\n",
      "\ttest RMSE = 1.620\n",
      "Iteration 314\n",
      "\ttrain RMSE = 1.654\n",
      "\ttest RMSE = 1.671\n",
      "Iteration 315\n",
      "\ttrain RMSE = 1.655\n",
      "\ttest RMSE = 1.638\n",
      "Iteration 316\n",
      "\ttrain RMSE = 1.719\n",
      "\ttest RMSE = 1.651\n",
      "Iteration 317\n",
      "\ttrain RMSE = 1.706\n",
      "\ttest RMSE = 1.672\n",
      "Iteration 318\n",
      "\ttrain RMSE = 1.761\n",
      "\ttest RMSE = 1.650\n",
      "Iteration 319\n",
      "\ttrain RMSE = 1.765\n",
      "\ttest RMSE = 1.687\n",
      "Iteration 320\n",
      "\ttrain RMSE = 1.711\n",
      "\ttest RMSE = 1.686\n",
      "Iteration 321\n",
      "\ttrain RMSE = 1.673\n",
      "\ttest RMSE = 1.663\n",
      "Iteration 322\n",
      "\ttrain RMSE = 1.728\n",
      "\ttest RMSE = 1.644\n",
      "Iteration 323\n",
      "\ttrain RMSE = 1.658\n",
      "\ttest RMSE = 1.664\n",
      "Iteration 324\n",
      "\ttrain RMSE = 1.726\n",
      "\ttest RMSE = 1.630\n",
      "Iteration 325\n",
      "\ttrain RMSE = 1.680\n",
      "\ttest RMSE = 1.639\n",
      "Iteration 326\n",
      "\ttrain RMSE = 1.663\n",
      "\ttest RMSE = 1.644\n",
      "Iteration 327\n",
      "\ttrain RMSE = 1.669\n",
      "\ttest RMSE = 1.663\n",
      "Iteration 328\n",
      "\ttrain RMSE = 1.654\n",
      "\ttest RMSE = 1.632\n",
      "Iteration 329\n",
      "\ttrain RMSE = 1.715\n",
      "\ttest RMSE = 1.642\n",
      "Iteration 330\n",
      "\ttrain RMSE = 1.660\n",
      "\ttest RMSE = 1.666\n",
      "Iteration 331\n",
      "\ttrain RMSE = 1.678\n",
      "\ttest RMSE = 1.651\n",
      "Iteration 332\n",
      "\ttrain RMSE = 1.687\n",
      "\ttest RMSE = 1.655\n",
      "Iteration 333\n",
      "\ttrain RMSE = 1.704\n",
      "\ttest RMSE = 1.658\n",
      "Iteration 334\n",
      "\ttrain RMSE = 1.630\n",
      "\ttest RMSE = 1.658\n",
      "Iteration 335\n",
      "\ttrain RMSE = 1.719\n",
      "\ttest RMSE = 1.635\n",
      "Iteration 336\n",
      "\ttrain RMSE = 1.669\n",
      "\ttest RMSE = 1.630\n",
      "Iteration 337\n",
      "\ttrain RMSE = 1.733\n",
      "\ttest RMSE = 1.693\n",
      "Iteration 338\n",
      "\ttrain RMSE = 1.681\n",
      "\ttest RMSE = 1.630\n",
      "Iteration 339\n",
      "\ttrain RMSE = 1.676\n",
      "\ttest RMSE = 1.637\n",
      "Iteration 340\n",
      "\ttrain RMSE = 1.726\n",
      "\ttest RMSE = 1.666\n",
      "Iteration 341\n",
      "\ttrain RMSE = 1.692\n",
      "\ttest RMSE = 1.710\n",
      "Iteration 342\n",
      "\ttrain RMSE = 1.750\n",
      "\ttest RMSE = 1.624\n",
      "Iteration 343\n",
      "\ttrain RMSE = 1.654\n",
      "\ttest RMSE = 1.670\n",
      "Iteration 344\n",
      "\ttrain RMSE = 1.693\n",
      "\ttest RMSE = 1.649\n",
      "Iteration 345\n",
      "\ttrain RMSE = 1.761\n",
      "\ttest RMSE = 1.672\n",
      "Iteration 346\n",
      "\ttrain RMSE = 1.683\n",
      "\ttest RMSE = 1.664\n",
      "Iteration 347\n",
      "\ttrain RMSE = 1.745\n",
      "\ttest RMSE = 1.639\n",
      "Iteration 348\n",
      "\ttrain RMSE = 1.739\n",
      "\ttest RMSE = 1.632\n",
      "Iteration 349\n",
      "\ttrain RMSE = 1.686\n",
      "\ttest RMSE = 1.668\n",
      "Iteration 350\n",
      "\ttrain RMSE = 1.730\n",
      "\ttest RMSE = 1.660\n",
      "Iteration 351\n",
      "\ttrain RMSE = 1.641\n",
      "\ttest RMSE = 1.680\n",
      "Iteration 352\n",
      "\ttrain RMSE = 1.722\n",
      "\ttest RMSE = 1.679\n",
      "Iteration 353\n",
      "\ttrain RMSE = 1.718\n",
      "\ttest RMSE = 1.616\n",
      "Iteration 354\n",
      "\ttrain RMSE = 1.698\n",
      "\ttest RMSE = 1.677\n",
      "Iteration 355\n",
      "\ttrain RMSE = 1.729\n",
      "\ttest RMSE = 1.689\n",
      "Iteration 356\n",
      "\ttrain RMSE = 1.728\n",
      "\ttest RMSE = 1.648\n",
      "Iteration 357\n",
      "\ttrain RMSE = 1.742\n",
      "\ttest RMSE = 1.675\n",
      "Iteration 358\n",
      "\ttrain RMSE = 1.671\n",
      "\ttest RMSE = 1.658\n",
      "Iteration 359\n",
      "\ttrain RMSE = 1.769\n",
      "\ttest RMSE = 1.710\n",
      "Iteration 360\n",
      "\ttrain RMSE = 1.710\n",
      "\ttest RMSE = 1.708\n",
      "Iteration 361\n",
      "\ttrain RMSE = 1.705\n",
      "\ttest RMSE = 1.657\n",
      "Iteration 362\n",
      "\ttrain RMSE = 1.701\n",
      "\ttest RMSE = 1.673\n",
      "Iteration 363\n",
      "\ttrain RMSE = 1.789\n",
      "\ttest RMSE = 1.664\n",
      "Iteration 364\n",
      "\ttrain RMSE = 1.744\n",
      "\ttest RMSE = 1.693\n",
      "Iteration 365\n",
      "\ttrain RMSE = 1.682\n",
      "\ttest RMSE = 1.682\n",
      "Iteration 366\n",
      "\ttrain RMSE = 1.743\n",
      "\ttest RMSE = 1.621\n",
      "Iteration 367\n",
      "\ttrain RMSE = 1.694\n",
      "\ttest RMSE = 1.667\n",
      "Iteration 368\n",
      "\ttrain RMSE = 1.670\n",
      "\ttest RMSE = 1.656\n",
      "Iteration 369\n",
      "\ttrain RMSE = 1.692\n",
      "\ttest RMSE = 1.642\n",
      "Iteration 370\n",
      "\ttrain RMSE = 1.687\n",
      "\ttest RMSE = 1.668\n",
      "Iteration 371\n",
      "\ttrain RMSE = 1.690\n",
      "\ttest RMSE = 1.635\n",
      "Iteration 372\n",
      "\ttrain RMSE = 1.664\n",
      "\ttest RMSE = 1.659\n",
      "Iteration 373\n",
      "\ttrain RMSE = 1.681\n",
      "\ttest RMSE = 1.660\n",
      "Iteration 374\n",
      "\ttrain RMSE = 1.690\n",
      "\ttest RMSE = 1.663\n",
      "Iteration 375\n",
      "\ttrain RMSE = 1.696\n",
      "\ttest RMSE = 1.642\n",
      "Iteration 376\n",
      "\ttrain RMSE = 1.703\n",
      "\ttest RMSE = 1.648\n",
      "Iteration 377\n",
      "\ttrain RMSE = 1.669\n",
      "\ttest RMSE = 1.670\n",
      "Iteration 378\n",
      "\ttrain RMSE = 1.761\n",
      "\ttest RMSE = 1.664\n",
      "Iteration 379\n",
      "\ttrain RMSE = 1.691\n",
      "\ttest RMSE = 1.659\n",
      "Iteration 380\n",
      "\ttrain RMSE = 1.699\n",
      "\ttest RMSE = 1.667\n",
      "Iteration 381\n",
      "\ttrain RMSE = 1.724\n",
      "\ttest RMSE = 1.690\n",
      "Iteration 382\n",
      "\ttrain RMSE = 1.756\n",
      "\ttest RMSE = 1.651\n",
      "Iteration 383\n",
      "\ttrain RMSE = 1.738\n",
      "\ttest RMSE = 1.690\n",
      "Iteration 384\n",
      "\ttrain RMSE = 1.717\n",
      "\ttest RMSE = 1.660\n",
      "Iteration 385\n",
      "\ttrain RMSE = 1.698\n",
      "\ttest RMSE = 1.680\n",
      "Iteration 386\n",
      "\ttrain RMSE = 1.731\n",
      "\ttest RMSE = 1.695\n",
      "Iteration 387\n",
      "\ttrain RMSE = 1.721\n",
      "\ttest RMSE = 1.693\n",
      "Iteration 388\n",
      "\ttrain RMSE = 1.752\n",
      "\ttest RMSE = 1.665\n",
      "Iteration 389\n",
      "\ttrain RMSE = 1.687\n",
      "\ttest RMSE = 1.658\n",
      "Iteration 390\n",
      "\ttrain RMSE = 1.759\n",
      "\ttest RMSE = 1.684\n",
      "Iteration 391\n",
      "\ttrain RMSE = 1.763\n",
      "\ttest RMSE = 1.661\n",
      "Iteration 392\n",
      "\ttrain RMSE = 1.705\n",
      "\ttest RMSE = 1.681\n",
      "Iteration 393\n",
      "\ttrain RMSE = 1.728\n",
      "\ttest RMSE = 1.645\n",
      "Iteration 394\n",
      "\ttrain RMSE = 1.662\n",
      "\ttest RMSE = 1.680\n",
      "Iteration 395\n",
      "\ttrain RMSE = 1.682\n",
      "\ttest RMSE = 1.653\n",
      "Iteration 396\n",
      "\ttrain RMSE = 1.752\n",
      "\ttest RMSE = 1.650\n",
      "Iteration 397\n",
      "\ttrain RMSE = 1.705\n",
      "\ttest RMSE = 1.654\n",
      "Iteration 398\n",
      "\ttrain RMSE = 1.679\n",
      "\ttest RMSE = 1.667\n",
      "Iteration 399\n",
      "\ttrain RMSE = 1.727\n",
      "\ttest RMSE = 1.661\n",
      "Iteration 400\n",
      "\ttrain RMSE = 1.680\n",
      "\ttest RMSE = 1.657\n",
      "Iteration 401\n",
      "\ttrain RMSE = 1.684\n",
      "\ttest RMSE = 1.685\n",
      "Iteration 402\n",
      "\ttrain RMSE = 1.689\n",
      "\ttest RMSE = 1.664\n",
      "Iteration 403\n",
      "\ttrain RMSE = 1.714\n",
      "\ttest RMSE = 1.632\n",
      "Iteration 404\n",
      "\ttrain RMSE = 1.694\n",
      "\ttest RMSE = 1.664\n",
      "Iteration 405\n",
      "\ttrain RMSE = 1.662\n",
      "\ttest RMSE = 1.669\n",
      "Iteration 406\n",
      "\ttrain RMSE = 1.767\n",
      "\ttest RMSE = 1.673\n",
      "Iteration 407\n",
      "\ttrain RMSE = 1.688\n",
      "\ttest RMSE = 1.651\n",
      "Iteration 408\n",
      "\ttrain RMSE = 1.757\n",
      "\ttest RMSE = 1.675\n",
      "Iteration 409\n",
      "\ttrain RMSE = 1.686\n",
      "\ttest RMSE = 1.656\n",
      "Iteration 410\n",
      "\ttrain RMSE = 1.648\n",
      "\ttest RMSE = 1.654\n",
      "Iteration 411\n",
      "\ttrain RMSE = 1.709\n",
      "\ttest RMSE = 1.656\n",
      "Iteration 412\n",
      "\ttrain RMSE = 1.661\n",
      "\ttest RMSE = 1.680\n",
      "Iteration 413\n",
      "\ttrain RMSE = 1.712\n",
      "\ttest RMSE = 1.665\n",
      "Iteration 414\n",
      "\ttrain RMSE = 1.708\n",
      "\ttest RMSE = 1.683\n",
      "Iteration 415\n",
      "\ttrain RMSE = 1.783\n",
      "\ttest RMSE = 1.699\n",
      "Iteration 416\n",
      "\ttrain RMSE = 1.780\n",
      "\ttest RMSE = 1.723\n",
      "Iteration 417\n",
      "\ttrain RMSE = 1.726\n",
      "\ttest RMSE = 1.707\n",
      "Iteration 418\n",
      "\ttrain RMSE = 1.716\n",
      "\ttest RMSE = 1.687\n",
      "Iteration 419\n",
      "\ttrain RMSE = 1.708\n",
      "\ttest RMSE = 1.664\n",
      "Iteration 420\n",
      "\ttrain RMSE = 1.706\n",
      "\ttest RMSE = 1.680\n",
      "Iteration 421\n",
      "\ttrain RMSE = 1.701\n",
      "\ttest RMSE = 1.679\n",
      "Iteration 422\n",
      "\ttrain RMSE = 1.700\n",
      "\ttest RMSE = 1.668\n",
      "Iteration 423\n",
      "\ttrain RMSE = 1.596\n",
      "\ttest RMSE = 1.663\n",
      "Iteration 424\n",
      "\ttrain RMSE = 1.710\n",
      "\ttest RMSE = 1.675\n",
      "Iteration 425\n",
      "\ttrain RMSE = 1.739\n",
      "\ttest RMSE = 1.668\n",
      "Iteration 426\n",
      "\ttrain RMSE = 1.702\n",
      "\ttest RMSE = 1.639\n",
      "Iteration 427\n",
      "\ttrain RMSE = 1.694\n",
      "\ttest RMSE = 1.652\n",
      "Iteration 428\n",
      "\ttrain RMSE = 1.687\n",
      "\ttest RMSE = 1.672\n",
      "Iteration 429\n",
      "\ttrain RMSE = 1.718\n",
      "\ttest RMSE = 1.699\n",
      "Iteration 430\n",
      "\ttrain RMSE = 1.686\n",
      "\ttest RMSE = 1.662\n",
      "Iteration 431\n",
      "\ttrain RMSE = 1.679\n",
      "\ttest RMSE = 1.687\n",
      "Iteration 432\n",
      "\ttrain RMSE = 1.780\n",
      "\ttest RMSE = 1.684\n",
      "Iteration 433\n",
      "\ttrain RMSE = 1.726\n",
      "\ttest RMSE = 1.685\n",
      "Iteration 434\n",
      "\ttrain RMSE = 1.693\n",
      "\ttest RMSE = 1.697\n",
      "Iteration 435\n",
      "\ttrain RMSE = 1.716\n",
      "\ttest RMSE = 1.649\n",
      "Iteration 436\n",
      "\ttrain RMSE = 1.752\n",
      "\ttest RMSE = 1.670\n",
      "Iteration 437\n",
      "\ttrain RMSE = 1.749\n",
      "\ttest RMSE = 1.676\n",
      "Iteration 438\n",
      "\ttrain RMSE = 1.713\n",
      "\ttest RMSE = 1.697\n",
      "Iteration 439\n",
      "\ttrain RMSE = 1.683\n",
      "\ttest RMSE = 1.651\n",
      "Iteration 440\n",
      "\ttrain RMSE = 1.653\n",
      "\ttest RMSE = 1.677\n",
      "Iteration 441\n",
      "\ttrain RMSE = 1.772\n",
      "\ttest RMSE = 1.693\n",
      "Iteration 442\n",
      "\ttrain RMSE = 1.629\n",
      "\ttest RMSE = 1.693\n",
      "Iteration 443\n",
      "\ttrain RMSE = 1.697\n",
      "\ttest RMSE = 1.719\n",
      "Iteration 444\n",
      "\ttrain RMSE = 1.675\n",
      "\ttest RMSE = 1.730\n",
      "Iteration 445\n",
      "\ttrain RMSE = 1.776\n",
      "\ttest RMSE = 1.683\n",
      "Iteration 446\n",
      "\ttrain RMSE = 1.691\n",
      "\ttest RMSE = 1.718\n",
      "Iteration 447\n",
      "\ttrain RMSE = 1.710\n",
      "\ttest RMSE = 1.682\n",
      "Iteration 448\n",
      "\ttrain RMSE = 1.700\n",
      "\ttest RMSE = 1.678\n",
      "Iteration 449\n",
      "\ttrain RMSE = 1.718\n",
      "\ttest RMSE = 1.680\n",
      "Iteration 450\n",
      "\ttrain RMSE = 1.660\n",
      "\ttest RMSE = 1.686\n",
      "Iteration 451\n",
      "\ttrain RMSE = 1.732\n",
      "\ttest RMSE = 1.645\n",
      "Iteration 452\n",
      "\ttrain RMSE = 1.606\n",
      "\ttest RMSE = 1.695\n",
      "Iteration 453\n",
      "\ttrain RMSE = 1.657\n",
      "\ttest RMSE = 1.643\n",
      "Iteration 454\n",
      "\ttrain RMSE = 1.739\n",
      "\ttest RMSE = 1.685\n",
      "Iteration 455\n",
      "\ttrain RMSE = 1.793\n",
      "\ttest RMSE = 1.673\n",
      "Iteration 456\n",
      "\ttrain RMSE = 1.670\n",
      "\ttest RMSE = 1.689\n",
      "Iteration 457\n",
      "\ttrain RMSE = 1.747\n",
      "\ttest RMSE = 1.694\n",
      "Iteration 458\n",
      "\ttrain RMSE = 1.724\n",
      "\ttest RMSE = 1.703\n",
      "Iteration 459\n",
      "\ttrain RMSE = 1.717\n",
      "\ttest RMSE = 1.681\n",
      "Iteration 460\n",
      "\ttrain RMSE = 1.710\n",
      "\ttest RMSE = 1.685\n",
      "Iteration 461\n",
      "\ttrain RMSE = 1.736\n",
      "\ttest RMSE = 1.716\n",
      "Iteration 462\n",
      "\ttrain RMSE = 1.670\n",
      "\ttest RMSE = 1.657\n",
      "Iteration 463\n",
      "\ttrain RMSE = 1.748\n",
      "\ttest RMSE = 1.679\n",
      "Iteration 464\n",
      "\ttrain RMSE = 1.685\n",
      "\ttest RMSE = 1.722\n",
      "Iteration 465\n",
      "\ttrain RMSE = 1.650\n",
      "\ttest RMSE = 1.671\n",
      "Iteration 466\n",
      "\ttrain RMSE = 1.682\n",
      "\ttest RMSE = 1.708\n"
     ]
    },
    {
     "name": "stdout",
     "output_type": "stream",
     "text": [
      "Iteration 467\n",
      "\ttrain RMSE = 1.670\n",
      "\ttest RMSE = 1.678\n",
      "Iteration 468\n",
      "\ttrain RMSE = 1.720\n",
      "\ttest RMSE = 1.642\n",
      "Iteration 469\n",
      "\ttrain RMSE = 1.677\n",
      "\ttest RMSE = 1.697\n",
      "Iteration 470\n",
      "\ttrain RMSE = 1.718\n",
      "\ttest RMSE = 1.670\n",
      "Iteration 471\n",
      "\ttrain RMSE = 1.737\n",
      "\ttest RMSE = 1.676\n",
      "Iteration 472\n",
      "\ttrain RMSE = 1.696\n",
      "\ttest RMSE = 1.702\n",
      "Iteration 473\n",
      "\ttrain RMSE = 1.775\n",
      "\ttest RMSE = 1.656\n",
      "Iteration 474\n",
      "\ttrain RMSE = 1.691\n",
      "\ttest RMSE = 1.690\n",
      "Iteration 475\n",
      "\ttrain RMSE = 1.742\n",
      "\ttest RMSE = 1.663\n",
      "Iteration 476\n",
      "\ttrain RMSE = 1.697\n",
      "\ttest RMSE = 1.695\n",
      "Iteration 477\n",
      "\ttrain RMSE = 1.772\n",
      "\ttest RMSE = 1.688\n",
      "Iteration 478\n",
      "\ttrain RMSE = 1.719\n",
      "\ttest RMSE = 1.697\n",
      "Iteration 479\n",
      "\ttrain RMSE = 1.767\n",
      "\ttest RMSE = 1.697\n",
      "Iteration 480\n",
      "\ttrain RMSE = 1.700\n",
      "\ttest RMSE = 1.666\n",
      "Iteration 481\n",
      "\ttrain RMSE = 1.684\n",
      "\ttest RMSE = 1.657\n",
      "Iteration 482\n",
      "\ttrain RMSE = 1.751\n",
      "\ttest RMSE = 1.674\n",
      "Iteration 483\n",
      "\ttrain RMSE = 1.725\n",
      "\ttest RMSE = 1.688\n",
      "Iteration 484\n",
      "\ttrain RMSE = 1.707\n",
      "\ttest RMSE = 1.704\n",
      "Iteration 485\n",
      "\ttrain RMSE = 1.714\n",
      "\ttest RMSE = 1.713\n",
      "Iteration 486\n",
      "\ttrain RMSE = 1.674\n",
      "\ttest RMSE = 1.659\n",
      "Iteration 487\n",
      "\ttrain RMSE = 1.699\n",
      "\ttest RMSE = 1.679\n",
      "Iteration 488\n",
      "\ttrain RMSE = 1.703\n",
      "\ttest RMSE = 1.673\n",
      "Iteration 489\n",
      "\ttrain RMSE = 1.653\n",
      "\ttest RMSE = 1.675\n",
      "Iteration 490\n",
      "\ttrain RMSE = 1.638\n",
      "\ttest RMSE = 1.643\n",
      "Iteration 491\n",
      "\ttrain RMSE = 1.679\n",
      "\ttest RMSE = 1.637\n",
      "Iteration 492\n",
      "\ttrain RMSE = 1.648\n",
      "\ttest RMSE = 1.662\n",
      "Iteration 493\n",
      "\ttrain RMSE = 1.679\n",
      "\ttest RMSE = 1.678\n",
      "Iteration 494\n",
      "\ttrain RMSE = 1.719\n",
      "\ttest RMSE = 1.682\n",
      "Iteration 495\n",
      "\ttrain RMSE = 1.617\n",
      "\ttest RMSE = 1.673\n",
      "Iteration 496\n",
      "\ttrain RMSE = 1.709\n",
      "\ttest RMSE = 1.669\n",
      "Iteration 497\n",
      "\ttrain RMSE = 1.667\n",
      "\ttest RMSE = 1.661\n",
      "Iteration 498\n",
      "\ttrain RMSE = 1.723\n",
      "\ttest RMSE = 1.692\n",
      "Iteration 499\n",
      "\ttrain RMSE = 1.642\n",
      "\ttest RMSE = 1.664\n"
     ]
    }
   ],
   "source": [
    "from autograd.misc.optimizers import adam, sgd\n",
    "\n",
    "def loss(x):\n",
    "    return - log_posterior(x)\n",
    "\n",
    "def grad_loss(x, i):\n",
    "    return grad(loss)(x)\n",
    "\n",
    "\n",
    "traj = [(params, -1, grad_loss(params, -1))]\n",
    "prediction_traj = [make_predictions(params, inds=np.arange(len(mols)))]\n",
    "train_rmse = rmse(prediction_traj[-1][train_inds], expt_means[train_inds])\n",
    "test_rmse = rmse(prediction_traj[-1][test_inds], expt_means[test_inds])\n",
    "print('initial parameters\\n\\ttrain RMSE = {:.3f}\\n\\ttest RMSE = {:.3f}'.format(train_rmse, test_rmse))\n",
    "\n",
    "def callback(x,i,g):\n",
    "    #if np.sum(np.isnan(x)) > 0:\n",
    "    #    raise(RuntimeError('NaNs encountered!'))\n",
    "    prediction_traj.append(make_predictions(x, inds=np.arange(len(mols))))\n",
    "    train_rmse = rmse(prediction_traj[-1][train_inds], expt_means[train_inds])\n",
    "    test_rmse = rmse(prediction_traj[-1][test_inds], expt_means[test_inds])\n",
    "    print('Iteration {}\\n\\ttrain RMSE = {:.3f}\\n\\ttest RMSE = {:.3f}'.format(i, train_rmse, test_rmse))\n",
    "    traj.append((x,i,g))\n",
    "result = adam(grad_loss, params, callback=callback, num_iters=500)"
   ]
  },
  {
   "cell_type": "code",
   "execution_count": 89,
   "metadata": {
    "ExecuteTime": {
     "end_time": "2019-03-07T15:32:35.230107Z",
     "start_time": "2019-03-07T15:32:35.193803Z"
    }
   },
   "outputs": [],
   "source": [
    "np.savez('linear_typing_result_gaussian_loss.npz',\n",
    "         prediction_traj=prediction_traj,\n",
    "         train_inds=train_inds,\n",
    "         test_inds=test_inds,\n",
    "         expt_means=expt_means,\n",
    "         expt_uncs=expt_uncs,\n",
    "         traj=traj,\n",
    "         layer_sizes=layer_sizes,\n",
    "        )"
   ]
  },
  {
   "cell_type": "code",
   "execution_count": 78,
   "metadata": {
    "ExecuteTime": {
     "end_time": "2019-03-07T15:27:06.994214Z",
     "start_time": "2019-03-07T15:27:06.972944Z"
    }
   },
   "outputs": [],
   "source": [
    "train_rmses = [rmse(snapshot[train_inds], expt_means[train_inds]) for snapshot in prediction_traj]\n",
    "test_rmses = [rmse(snapshot[test_inds], expt_means[test_inds]) for snapshot in prediction_traj]"
   ]
  },
  {
   "cell_type": "code",
   "execution_count": 80,
   "metadata": {
    "ExecuteTime": {
     "end_time": "2019-03-07T15:27:24.598916Z",
     "start_time": "2019-03-07T15:27:24.596096Z"
    }
   },
   "outputs": [],
   "source": [
    "train_color = 'lightblue'\n",
    "test_color = 'green'\n",
    "train_style = '--'\n",
    "test_style = '-'"
   ]
  },
  {
   "cell_type": "code",
   "execution_count": 81,
   "metadata": {
    "ExecuteTime": {
     "end_time": "2019-03-07T15:27:25.140627Z",
     "start_time": "2019-03-07T15:27:24.961650Z"
    }
   },
   "outputs": [
    {
     "data": {
      "text/plain": [
       "Text(0.5, 0, 'adam iterations')"
      ]
     },
     "execution_count": 81,
     "metadata": {},
     "output_type": "execute_result"
    },
    {
     "data": {
      "image/png": "[encoded data removed]",
      "text/plain": [
       "<Figure size 432x288 with 1 Axes>"
      ]
     },
     "metadata": {
      "needs_background": "light"
     },
     "output_type": "display_data"
    }
   ],
   "source": [
    "plt.plot(train_rmses, c=train_color, linestyle=train_style)\n",
    "plt.plot(test_rmses, c=test_color, linestyle=test_style)\n",
    "plt.ylabel('RMSE (kcal/mol)')\n",
    "plt.xlabel('adam iterations')"
   ]
  },
  {
   "cell_type": "code",
   "execution_count": 90,
   "metadata": {
    "ExecuteTime": {
     "end_time": "2019-03-07T15:33:20.630812Z",
     "start_time": "2019-03-07T15:33:20.624116Z"
    }
   },
   "outputs": [
    {
     "data": {
      "text/plain": [
       "(-23.060296548233325, 4.696338374455828)"
      ]
     },
     "execution_count": 90,
     "metadata": {},
     "output_type": "execute_result"
    }
   ],
   "source": [
    "minval, maxval = np.min(prediction_traj[50:]), np.max(prediction_traj[50:])\n",
    "minval, maxval"
   ]
  },
  {
   "cell_type": "code",
   "execution_count": 94,
   "metadata": {
    "ExecuteTime": {
     "end_time": "2019-03-07T15:34:53.275067Z",
     "start_time": "2019-03-07T15:34:53.271122Z"
    }
   },
   "outputs": [
    {
     "data": {
      "text/plain": [
       "(-15.5, 5.5)"
      ]
     },
     "execution_count": 94,
     "metadata": {},
     "output_type": "execute_result"
    }
   ],
   "source": [
    "minval, maxval = -15.5, 5.5\n",
    "minval, maxval"
   ]
  },
  {
   "cell_type": "code",
   "execution_count": 95,
   "metadata": {
    "ExecuteTime": {
     "end_time": "2019-03-07T15:34:53.388523Z",
     "start_time": "2019-03-07T15:34:53.384656Z"
    }
   },
   "outputs": [
    {
     "data": {
      "text/plain": [
       "(-14.21, 3.4300000000000006)"
      ]
     },
     "execution_count": 95,
     "metadata": {},
     "output_type": "execute_result"
    }
   ],
   "source": [
    "np.min(expt_means), np.max(expt_means)"
   ]
  },
  {
   "cell_type": "code",
   "execution_count": 96,
   "metadata": {
    "ExecuteTime": {
     "end_time": "2019-03-07T15:34:53.838128Z",
     "start_time": "2019-03-07T15:34:53.835725Z"
    }
   },
   "outputs": [],
   "source": [
    "# color by group?"
   ]
  },
  {
   "cell_type": "code",
   "execution_count": 97,
   "metadata": {
    "ExecuteTime": {
     "end_time": "2019-03-07T15:34:54.167357Z",
     "start_time": "2019-03-07T15:34:54.164504Z"
    }
   },
   "outputs": [],
   "source": [
    "train_color = 'lightblue'\n",
    "test_color = 'green'\n",
    "train_style = '--'\n",
    "test_style = '-'"
   ]
  },
  {
   "cell_type": "code",
   "execution_count": 98,
   "metadata": {
    "ExecuteTime": {
     "end_time": "2019-03-07T15:34:54.315785Z",
     "start_time": "2019-03-07T15:34:54.309273Z"
    }
   },
   "outputs": [
    {
     "data": {
      "text/plain": [
       "(11433, 43)"
      ]
     },
     "execution_count": 98,
     "metadata": {},
     "output_type": "execute_result"
    }
   ],
   "source": [
    "inputs = np.vstack(computed_features)\n",
    "inputs.shape"
   ]
  },
  {
   "cell_type": "code",
   "execution_count": 99,
   "metadata": {
    "ExecuteTime": {
     "end_time": "2019-03-07T15:34:54.529693Z",
     "start_time": "2019-03-07T15:34:54.523857Z"
    }
   },
   "outputs": [
    {
     "data": {
      "text/plain": [
       "[False, True]"
      ]
     },
     "execution_count": 99,
     "metadata": {},
     "output_type": "execute_result"
    }
   ],
   "source": [
    "list(set(inputs[:,-1]))"
   ]
  },
  {
   "cell_type": "code",
   "execution_count": 100,
   "metadata": {
    "ExecuteTime": {
     "end_time": "2019-03-07T15:34:56.111916Z",
     "start_time": "2019-03-07T15:34:56.109502Z"
    }
   },
   "outputs": [],
   "source": [
    "s = 10"
   ]
  },
  {
   "cell_type": "code",
   "execution_count": 106,
   "metadata": {
    "ExecuteTime": {
     "end_time": "2019-03-07T15:44:35.771044Z",
     "start_time": "2019-03-07T15:40:48.813072Z"
    }
   },
   "outputs": [],
   "source": [
    "from bayes_implicit_solvent.utils import remove_top_right_spines\n",
    "diag = np.arange(minval, maxval)\n",
    "\n",
    "for t in range(len(prediction_traj)):\n",
    "    plt.figure(figsize=(6*1.5,3*1.5))\n",
    "    ax = plt.subplot(1,2,1)\n",
    "    remove_top_right_spines(ax)\n",
    "    \n",
    "    plt.plot(train_rmses[:t], c=train_color, linestyle=train_style, label='train (n={})'.format(len(train_inds)))\n",
    "    plt.plot(test_rmses[:t], c=test_color, linestyle=test_style, label='test (n={})'.format(len(test_inds)))\n",
    "    plt.hlines(2.425900278028874, 0, len(train_rmses), linestyles='-', label='OBC2 (n=631)')\n",
    "    plt.hlines(1.642, 0, len(train_rmses), linestyles='--', label='SMIRNOFF+TIP3P (n=642)')\n",
    "    plt.hlines(0.98, 0, len(train_rmses), linestyles='dotted', label='OPLS3e (n=418)')\n",
    "    \n",
    "    \n",
    "    plt.ylabel('RMSE (kcal/mol)')\n",
    "    plt.xlabel('adam iterations')\n",
    "    plt.legend(loc='upper right')\n",
    "    \n",
    "    plt.xlim(0, len(train_rmses))\n",
    "    plt.ylim(0, 4)\n",
    "    \n",
    "    plt.title('RMSE trace')\n",
    "    \n",
    "    ax = plt.subplot(1,2,2)\n",
    "    remove_top_right_spines(ax)\n",
    "    \n",
    "    plt.plot(diag, diag, linestyle='--', c='grey')\n",
    "    plt.scatter(prediction_traj[t][train_inds], expt_means[train_inds], c=train_color, alpha=0.8, s=s)\n",
    "    plt.scatter(prediction_traj[t][test_inds], expt_means[test_inds], c=test_color, alpha=0.8, s=s)\n",
    "    plt.xlim(minval, maxval)\n",
    "    plt.ylim(minval, maxval)\n",
    "    \n",
    "    plt.xticks([-15,-10,-5,0,5])\n",
    "    plt.yticks([-15,-10,-5,0,5])\n",
    "    \n",
    "    plt.xlabel(r'predicted $\\Delta G$ (kcal/mol)')\n",
    "    plt.ylabel(r'measured $\\Delta G$ (kcal/mol)')\n",
    "    \n",
    "    plt.title('train RMSE: {:.2f}\\ntest RMSE: {:.2f}'.format(train_rmses[t], test_rmses[t]))\n",
    "    plt.tight_layout()\n",
    "    plt.savefig('linear_parameterizer/{:04}.png'.format(t), bbox_inches='tight')\n",
    "    \n",
    "    plt.close()"
   ]
  },
  {
   "cell_type": "code",
   "execution_count": null,
   "metadata": {},
   "outputs": [],
   "source": []
  }
 ],
 "metadata": {
  "kernelspec": {
   "display_name": "Python 3",
   "language": "python",
   "name": "python3"
  },
  "language_info": {
   "codemirror_mode": {
    "name": "ipython",
    "version": 3
   },
   "file_extension": ".py",
   "mimetype": "text/x-python",
   "name": "python",
   "nbconvert_exporter": "python",
   "pygments_lexer": "ipython3",
   "version": "3.7.1"
  }
 },
 "nbformat": 4,
 "nbformat_minor": 2
}
