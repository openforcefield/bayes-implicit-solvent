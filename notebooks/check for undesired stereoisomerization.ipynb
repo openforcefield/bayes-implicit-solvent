{
 "cells": [
  {
   "cell_type": "markdown",
   "metadata": {},
   "source": [
    "1. Identify all SMILES strings that specify stereochemistry\n",
    "2. Find a way to encode whether the specified stereochemistry is being respected\n",
    "3. Screen all of the trajectories"
   ]
  },
  {
   "cell_type": "code",
   "execution_count": 1,
   "metadata": {},
   "outputs": [],
   "source": [
    "from bayes_implicit_solvent.solvation_free_energy import db, smiles_list, mol_top_sys_pos_list\n"
   ]
  },
  {
   "cell_type": "code",
   "execution_count": 2,
   "metadata": {},
   "outputs": [
    {
     "data": {
      "text/plain": [
       "'C1[C@@H]2[C@H]3[C@@H]([C@H]1[C@H]4[C@@H]2O4)[C@@]5(C(=C([C@]3(C5(Cl)Cl)Cl)Cl)Cl)Cl'"
      ]
     },
     "execution_count": 2,
     "metadata": {},
     "output_type": "execute_result"
    }
   ],
   "source": [
    "smiles_list[0]"
   ]
  },
  {
   "cell_type": "code",
   "execution_count": 14,
   "metadata": {},
   "outputs": [
    {
     "data": {
      "text/plain": [
       "11"
      ]
     },
     "execution_count": 14,
     "metadata": {},
     "output_type": "execute_result"
    }
   ],
   "source": [
    "stereo_smiles = [(i, s) for (i, s) in enumerate(smiles_list) if ('/' in s) or ('\\\\' in s)]\n",
    "len(stereo_smiles)"
   ]
  },
  {
   "cell_type": "code",
   "execution_count": 20,
   "metadata": {},
   "outputs": [
    {
     "data": {
      "text/plain": [
       "62"
      ]
     },
     "execution_count": 20,
     "metadata": {},
     "output_type": "execute_result"
    }
   ],
   "source": [
    "stereo_smiles = [(i, s) for (i, s) in enumerate(smiles_list) if ('@' in s) or ('/' in s) or ('\\\\' in s)]\n",
    "len(stereo_smiles)"
   ]
  },
  {
   "cell_type": "code",
   "execution_count": 21,
   "metadata": {
    "scrolled": false
   },
   "outputs": [
    {
     "name": "stdout",
     "output_type": "stream",
     "text": [
      "CC/C=C\\C\n",
      "C/C=C/C=O\n",
      "CCCC/C=C/C\n",
      "C(=C/Cl)\\Cl\n",
      "CCC/C=C/C=O\n",
      "CC[C@H](C)O\n",
      "C(=C\\Cl)\\Cl\n",
      "C[C@H]1CCCO1\n",
      "CC[C@H](C)Cl\n",
      "CCC[C@H](C)CC\n",
      "CCC[C@@H](C)O\n",
      "CCCCC/C=C/C=O\n",
      "CCC[C@H](CC)O\n",
      "CC[C@@H](C)CO\n",
      "C[C@@H](CCl)Cl\n",
      "CC[C@H](C(C)C)O\n",
      "CCCC[C@@H](C)CC\n",
      "CCCCOC[C@H](C)O\n",
      "C[C@H](CC(C)C)O\n",
      "CC[C@@H](C)C(C)C\n",
      "C[C@H](C(F)(F)F)O\n",
      "CC[C@H](C)c1ccccc1\n",
      "C[C@@H](C(F)(F)F)O\n",
      "CC(=CCC/C(=C/CO)/C)C\n",
      "C[C@H]1CC[C@@H](O1)C\n",
      "C[C@@H]1CCCC[C@@H]1C\n",
      "CC(=CCC/C(=C\\CO)/C)C\n",
      "[C@@H](C(F)(F)F)(F)Br\n",
      "[C@@H](C(F)(F)F)(Cl)Br\n",
      "CC(C)(/C=N\\OC(=O)NC)SC\n",
      "CC[C@H](C)O[N+](=O)[O-]\n",
      "CC(=C)[C@H]1CCC(=CC1)C=O\n",
      "c1ccc(cc1)O[C@@H](C(F)F)F\n",
      "CC1=CC(=O)[C@@H](CC1)C(C)C\n",
      "[C@@H](C(F)(F)F)(OC(F)F)Cl\n",
      "C[C@@H]1CC[C@H](CC1=O)C(=C)C\n",
      "CC(=CCC[C@](C)(C=C)OC(=O)C)C\n",
      "CC1=CC[C@H](C[C@@H]1O)C(=C)C\n",
      "C[C@@H]1CC[C@H](C(=O)C1)C(C)C\n",
      "COP(=O)([C@H](C(Cl)(Cl)Cl)O)OC\n",
      "C[C@@H](c1ccc(cc1)CC(C)C)C(=O)O\n",
      "C[C@@H]1CC[C@H]([C@@H](C1)O)C(C)C\n",
      "C[C@@H](c1ccc2cc(ccc2c1)OC)C(=O)O\n",
      "CC[C@H](C)n1c(=O)c(c([nH]c1=O)C)Br\n",
      "C[C@@H](CO[N+](=O)[O-])O[N+](=O)[O-]\n",
      "CCOC(=O)C[C@H](C(=O)OCC)SP(=S)(OC)OC\n",
      "C[C@@H](c1ccc(c(c1)F)c2ccccc2)C(=O)O\n",
      "C1[C@H]([C@@H]([C@H]([C@H](O1)O)O)O)O\n",
      "C[C@@H](CCO[N+](=O)[O-])O[N+](=O)[O-]\n",
      "C[C@@H](c1cccc(c1)C(=O)c2ccccc2)C(=O)O\n",
      "CCOP(=O)(OCC)O/C(=C/Cl)/c1ccc(cc1Cl)Cl\n",
      "C([C@H]([C@H]([C@@H]([C@@H](CO)O)O)O)O)O\n",
      "CCOP(=S)(OCC)S[C@@H](CCl)N1C(=O)c2ccccc2C1=O\n",
      "C1C=CC[C@@H]2[C@@H]1C(=O)N(C2=O)SC(Cl)(Cl)Cl\n",
      "C([C@@H]1[C@H]([C@@H]([C@H]([C@@H](O1)O)O)O)O)O\n",
      "CC[C@@H](C)c1cc(cc(c1O)[N+](=O)[O-])[N+](=O)[O-]\n",
      "CCCC[N@](CC)c1c(cc(cc1[N+](=O)[O-])C(F)(F)F)[N+](=O)[O-]\n",
      "CCC[N@@](CC1CC1)c2c(cc(cc2[N+](=O)[O-])C(F)(F)F)[N+](=O)[O-]\n",
      "C1[C@@H]2[C@H](COS(=O)O1)[C@@]3(C(=C([C@]2(C3(Cl)Cl)Cl)Cl)Cl)Cl\n",
      "C1=C[C@@H]([C@@H]2[C@H]1[C@@]3(C(=C([C@]2(C3(Cl)Cl)Cl)Cl)Cl)Cl)Cl\n",
      "C1[C@H]([C@@H]2[C@H]([C@H]1Cl)[C@]3(C(=C([C@@]2(C3(Cl)Cl)Cl)Cl)Cl)Cl)Cl\n",
      "C1[C@@H]2[C@H]3[C@@H]([C@H]1[C@H]4[C@@H]2O4)[C@@]5(C(=C([C@]3(C5(Cl)Cl)Cl)Cl)Cl)Cl\n"
     ]
    }
   ],
   "source": [
    "for (i,s) in stereo_smiles[::-1]: print(s)"
   ]
  },
  {
   "cell_type": "code",
   "execution_count": 22,
   "metadata": {},
   "outputs": [
    {
     "data": {
      "text/plain": [
       "[(0,\n",
       "  'C1[C@@H]2[C@H]3[C@@H]([C@H]1[C@H]4[C@@H]2O4)[C@@]5(C(=C([C@]3(C5(Cl)Cl)Cl)Cl)Cl)Cl'),\n",
       " (1,\n",
       "  'C1[C@H]([C@@H]2[C@H]([C@H]1Cl)[C@]3(C(=C([C@@]2(C3(Cl)Cl)Cl)Cl)Cl)Cl)Cl'),\n",
       " (2, 'C1=C[C@@H]([C@@H]2[C@H]1[C@@]3(C(=C([C@]2(C3(Cl)Cl)Cl)Cl)Cl)Cl)Cl'),\n",
       " (3, 'C1[C@@H]2[C@H](COS(=O)O1)[C@@]3(C(=C([C@]2(C3(Cl)Cl)Cl)Cl)Cl)Cl'),\n",
       " (4, 'CCC[N@@](CC1CC1)c2c(cc(cc2[N+](=O)[O-])C(F)(F)F)[N+](=O)[O-]'),\n",
       " (5, 'CCCC[N@](CC)c1c(cc(cc1[N+](=O)[O-])C(F)(F)F)[N+](=O)[O-]'),\n",
       " (11, 'CC[C@@H](C)c1cc(cc(c1O)[N+](=O)[O-])[N+](=O)[O-]'),\n",
       " (12, 'C([C@@H]1[C@H]([C@@H]([C@H]([C@@H](O1)O)O)O)O)O'),\n",
       " (15, 'C1C=CC[C@@H]2[C@@H]1C(=O)N(C2=O)SC(Cl)(Cl)Cl'),\n",
       " (16, 'CCOP(=S)(OCC)S[C@@H](CCl)N1C(=O)c2ccccc2C1=O'),\n",
       " (19, 'C([C@H]([C@H]([C@@H]([C@@H](CO)O)O)O)O)O'),\n",
       " (22, 'CCOP(=O)(OCC)O/C(=C/Cl)/c1ccc(cc1Cl)Cl'),\n",
       " (25, 'C[C@@H](c1cccc(c1)C(=O)c2ccccc2)C(=O)O'),\n",
       " (26, 'C[C@@H](CCO[N+](=O)[O-])O[N+](=O)[O-]'),\n",
       " (27, 'C1[C@H]([C@@H]([C@H]([C@H](O1)O)O)O)O'),\n",
       " (29, 'C[C@@H](c1ccc(c(c1)F)c2ccccc2)C(=O)O'),\n",
       " (32, 'CCOC(=O)C[C@H](C(=O)OCC)SP(=S)(OC)OC'),\n",
       " (33, 'C[C@@H](CO[N+](=O)[O-])O[N+](=O)[O-]'),\n",
       " (43, 'CC[C@H](C)n1c(=O)c(c([nH]c1=O)C)Br'),\n",
       " (45, 'C[C@@H](c1ccc2cc(ccc2c1)OC)C(=O)O'),\n",
       " (46, 'C[C@@H]1CC[C@H]([C@@H](C1)O)C(C)C'),\n",
       " (54, 'C[C@@H](c1ccc(cc1)CC(C)C)C(=O)O'),\n",
       " (58, 'COP(=O)([C@H](C(Cl)(Cl)Cl)O)OC'),\n",
       " (67, 'C[C@@H]1CC[C@H](C(=O)C1)C(C)C'),\n",
       " (70, 'CC1=CC[C@H](C[C@@H]1O)C(=C)C'),\n",
       " (71, 'CC(=CCC[C@](C)(C=C)OC(=O)C)C'),\n",
       " (76, 'C[C@@H]1CC[C@H](CC1=O)C(=C)C'),\n",
       " (86, '[C@@H](C(F)(F)F)(OC(F)F)Cl'),\n",
       " (89, 'CC1=CC(=O)[C@@H](CC1)C(C)C'),\n",
       " (94, 'c1ccc(cc1)O[C@@H](C(F)F)F'),\n",
       " (101, 'CC(=C)[C@H]1CCC(=CC1)C=O'),\n",
       " (108, 'CC[C@H](C)O[N+](=O)[O-]'),\n",
       " (116, 'CC(C)(/C=N\\\\OC(=O)NC)SC'),\n",
       " (123, '[C@@H](C(F)(F)F)(Cl)Br'),\n",
       " (132, '[C@@H](C(F)(F)F)(F)Br'),\n",
       " (137, 'CC(=CCC/C(=C\\\\CO)/C)C'),\n",
       " (139, 'C[C@@H]1CCCC[C@@H]1C'),\n",
       " (144, 'C[C@H]1CC[C@@H](O1)C'),\n",
       " (145, 'CC(=CCC/C(=C/CO)/C)C'),\n",
       " (176, 'C[C@@H](C(F)(F)F)O'),\n",
       " (178, 'CC[C@H](C)c1ccccc1'),\n",
       " (182, 'C[C@H](C(F)(F)F)O'),\n",
       " (206, 'CC[C@@H](C)C(C)C'),\n",
       " (223, 'C[C@H](CC(C)C)O'),\n",
       " (226, 'CCCCOC[C@H](C)O'),\n",
       " (231, 'CCCC[C@@H](C)CC'),\n",
       " (234, 'CC[C@H](C(C)C)O'),\n",
       " (267, 'C[C@@H](CCl)Cl'),\n",
       " (274, 'CC[C@@H](C)CO'),\n",
       " (279, 'CCC[C@H](CC)O'),\n",
       " (289, 'CCCCC/C=C/C=O'),\n",
       " (302, 'CCC[C@@H](C)O'),\n",
       " (303, 'CCC[C@H](C)CC'),\n",
       " (315, 'CC[C@H](C)Cl'),\n",
       " (327, 'C[C@H]1CCCO1'),\n",
       " (362, 'C(=C\\\\Cl)\\\\Cl'),\n",
       " (364, 'CC[C@H](C)O'),\n",
       " (381, 'CCC/C=C/C=O'),\n",
       " (399, 'C(=C/Cl)\\\\Cl'),\n",
       " (410, 'CCCC/C=C/C'),\n",
       " (458, 'C/C=C/C=O'),\n",
       " (508, 'CC/C=C\\\\C')]"
      ]
     },
     "execution_count": 22,
     "metadata": {},
     "output_type": "execute_result"
    }
   ],
   "source": [
    "stereo_smiles"
   ]
  },
  {
   "cell_type": "code",
   "execution_count": null,
   "metadata": {},
   "outputs": [],
   "source": []
  }
 ],
 "metadata": {
  "kernelspec": {
   "display_name": "Python 3",
   "language": "python",
   "name": "python3"
  },
  "language_info": {
   "codemirror_mode": {
    "name": "ipython",
    "version": 3
   },
   "file_extension": ".py",
   "mimetype": "text/x-python",
   "name": "python",
   "nbconvert_exporter": "python",
   "pygments_lexer": "ipython3",
   "version": "3.6.5"
  }
 },
 "nbformat": 4,
 "nbformat_minor": 2
}
