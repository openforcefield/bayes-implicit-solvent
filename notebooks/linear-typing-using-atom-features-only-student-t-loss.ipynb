{
 "cells": [
  {
   "cell_type": "code",
   "execution_count": 1,
   "metadata": {
    "ExecuteTime": {
     "end_time": "2019-03-07T15:54:37.543932Z",
     "start_time": "2019-03-07T15:54:29.384039Z"
    }
   },
   "outputs": [
    {
     "name": "stdout",
     "output_type": "stream",
     "text": [
      "number of molecules being considered: 642\n"
     ]
    }
   ],
   "source": []
  },
  {
   "cell_type": "code",
   "execution_count": 2,
   "metadata": {
    "ExecuteTime": {
     "end_time": "2019-03-07T15:54:37.743117Z",
     "start_time": "2019-03-07T15:54:37.546567Z"
    }
   },
   "outputs": [],
   "source": [
    "import matplotlib.pyplot as plt\n",
    "%matplotlib inline"
   ]
  },
  {
   "cell_type": "code",
   "execution_count": 3,
   "metadata": {
    "ExecuteTime": {
     "end_time": "2019-03-07T15:54:37.749058Z",
     "start_time": "2019-03-07T15:54:37.745034Z"
    }
   },
   "outputs": [],
   "source": []
  },
  {
   "cell_type": "code",
   "execution_count": 5,
   "metadata": {
    "ExecuteTime": {
     "end_time": "2019-03-07T15:55:20.673094Z",
     "start_time": "2019-03-07T15:55:19.081967Z"
    }
   },
   "outputs": [],
   "source": [
    "from bayes_implicit_solvent.constants import beta\n",
    "def unreduce(value):\n",
    "    \"\"\"Input value is in units of kB T, turn it into units of kilocalorie_per_mole\"\"\"\n",
    "    return value / (beta * unit.kilocalorie_per_mole)\n",
    "\n",
    "from bayes_implicit_solvent.continuous_parameter_experiments.gradient_free import mols as all_mols\n",
    "# at this stage, let's eliminate any molecule that has an experimental value outside of [-15, +5]\n",
    "from autograd import numpy as np\n",
    "mols = []\n",
    "    \n",
    "from bayes_implicit_solvent.utils import get_charges\n",
    "from scipy.spatial.distance import pdist, squareform\n",
    "from simtk import unit\n",
    "elements = []\n",
    "charges = []\n",
    "distance_matrices = []\n",
    "expt_means = []\n",
    "expt_uncs = []\n",
    "vacuum_trajs = []\n",
    "for mol in all_mols:\n",
    "    \n",
    "    expt_mean = unreduce(mol.experimental_value)\n",
    "    expt_unc = unreduce(mol.experimental_uncertainty)\n",
    "    \n",
    "    if (expt_mean > -15) and (expt_mean < 5):\n",
    "        \n",
    "        mols.append(mol)\n",
    "        expt_means.append(expt_mean)\n",
    "        expt_uncs.append(expt_unc)\n",
    "\n",
    "        elements.append(np.array([a.element.atomic_number for a in mol.top.atoms()]))\n",
    "        charges.append(get_charges(mol.sys))\n",
    "        distance_matrices.append([squareform(pdist(snapshot / unit.nanometer)) for snapshot in mol.vacuum_traj])\n",
    "expt_means = np.array(expt_means)\n",
    "expt_uncs = np.array(expt_uncs)"
   ]
  },
  {
   "cell_type": "code",
   "execution_count": 6,
   "metadata": {
    "ExecuteTime": {
     "end_time": "2019-03-07T15:55:20.685737Z",
     "start_time": "2019-03-07T15:55:20.675441Z"
    }
   },
   "outputs": [],
   "source": [
    "# THE CODE IN THIS CELL IS ADAPTED FROM https://github.com/HIPS/neural-fingerprint\n",
    "# ACCOMPANYING \"Convolutional Networks on Graphs for Learning Molecular Fingerprints\"\n",
    "# by David Duvenaud, Dougal Maclaurin, Jorge Aguilera-Iparraguirre, Rafael Gómez-Bombarelli, Timothy Hirzel, Alán Aspuru-Guzik, and Ryan P. Adams.\n",
    "\n",
    "import autograd.numpy as np\n",
    "\n",
    "def one_of_k_encoding(x, allowable_set):\n",
    "    if x not in allowable_set:\n",
    "        raise Exception(\"input {0} not in allowable set{1}:\".format(x, allowable_set))\n",
    "    return list(map(lambda s: x == s, allowable_set))\n",
    "\n",
    "def one_of_k_encoding_unk(x, allowable_set):\n",
    "    \"\"\"Maps inputs not in the allowable set to the last element.\"\"\"\n",
    "    if x not in allowable_set:\n",
    "        x = allowable_set[-1]\n",
    "    return list(map(lambda s: x == s, allowable_set))\n",
    "\n",
    "def atom_features(atom):\n",
    "    \"\"\"Use some OpenEye features instead\"\"\"\n",
    "    return np.array(one_of_k_encoding_unk(atom.GetAtomicNum(),\n",
    "                                      [1, 35, 6, 7, 8, 9, 15, 16, 17, 53, -1]) +\n",
    "                    one_of_k_encoding(atom.GetDegree(), [1, 2, 3, 4]) +\n",
    "                    one_of_k_encoding(atom.GetValence(), [1, 2, 3, 4, 5, 6]) +\n",
    "                    one_of_k_encoding(atom.GetHvyValence(), [0, 1, 2, 3, 4, 5, 6]) +\n",
    "                    one_of_k_encoding(atom.GetHvyDegree(), [0, 1, 2, 3, 4]) +\n",
    "                    one_of_k_encoding(atom.GetTotalHCount(), [0, 1, 2, 3, 4]) +\n",
    "                    [atom.IsAromatic(), atom.IsHalogen(), atom.IsPolarHydrogen(), atom.IsMetal(), atom.IsInRing()] # binary features\n",
    "                   )\n",
    "def num_atom_features():\n",
    "    atoms = list(mols[0].mol.GetAtoms())\n",
    "    return len(atom_features(atoms[0]))"
   ]
  },
  {
   "cell_type": "code",
   "execution_count": 7,
   "metadata": {
    "ExecuteTime": {
     "end_time": "2019-03-07T15:55:22.616838Z",
     "start_time": "2019-03-07T15:55:20.687969Z"
    }
   },
   "outputs": [
    {
     "data": {
      "text/plain": [
       "631"
      ]
     },
     "execution_count": 7,
     "metadata": {},
     "output_type": "execute_result"
    }
   ],
   "source": [
    "def compute_features(mol):\n",
    "    return np.vstack([atom_features(a) for a in mol.GetAtoms()])\n",
    "\n",
    "computed_features = list(map(compute_features, [mol.mol for mol in mols]))\n",
    "len(computed_features)"
   ]
  },
  {
   "cell_type": "code",
   "execution_count": 8,
   "metadata": {
    "ExecuteTime": {
     "end_time": "2019-03-07T15:55:22.624123Z",
     "start_time": "2019-03-07T15:55:22.620259Z"
    }
   },
   "outputs": [
    {
     "data": {
      "text/plain": [
       "43"
      ]
     },
     "execution_count": 8,
     "metadata": {},
     "output_type": "execute_result"
    }
   ],
   "source": [
    "N = num_atom_features()\n",
    "N"
   ]
  },
  {
   "cell_type": "code",
   "execution_count": 9,
   "metadata": {
    "ExecuteTime": {
     "end_time": "2019-03-07T15:55:22.639229Z",
     "start_time": "2019-03-07T15:55:22.627493Z"
    }
   },
   "outputs": [],
   "source": [
    "from autograd.scipy.stats import norm"
   ]
  },
  {
   "cell_type": "code",
   "execution_count": 10,
   "metadata": {
    "ExecuteTime": {
     "end_time": "2019-03-07T15:55:22.644834Z",
     "start_time": "2019-03-07T15:55:22.641137Z"
    }
   },
   "outputs": [
    {
     "data": {
      "text/plain": [
       "50"
      ]
     },
     "execution_count": 10,
     "metadata": {},
     "output_type": "execute_result"
    }
   ],
   "source": [
    "len(distance_matrices[0])"
   ]
  },
  {
   "cell_type": "code",
   "execution_count": 11,
   "metadata": {
    "ExecuteTime": {
     "end_time": "2019-03-07T15:55:22.652065Z",
     "start_time": "2019-03-07T15:55:22.646528Z"
    }
   },
   "outputs": [],
   "source": [
    "N_atoms = np.array(list(map(len, charges)))"
   ]
  },
  {
   "cell_type": "code",
   "execution_count": 12,
   "metadata": {
    "ExecuteTime": {
     "end_time": "2019-03-07T15:55:22.658670Z",
     "start_time": "2019-03-07T15:55:22.653577Z"
    }
   },
   "outputs": [
    {
     "data": {
      "text/plain": [
       "631"
      ]
     },
     "execution_count": 12,
     "metadata": {},
     "output_type": "execute_result"
    }
   ],
   "source": [
    "len(mols)"
   ]
  },
  {
   "cell_type": "code",
   "execution_count": 13,
   "metadata": {
    "ExecuteTime": {
     "end_time": "2019-03-07T15:55:22.665063Z",
     "start_time": "2019-03-07T15:55:22.660766Z"
    }
   },
   "outputs": [
    {
     "data": {
      "text/plain": [
       "43"
      ]
     },
     "execution_count": 13,
     "metadata": {},
     "output_type": "execute_result"
    }
   ],
   "source": [
    "n_features = N\n",
    "n_features"
   ]
  },
  {
   "cell_type": "code",
   "execution_count": 14,
   "metadata": {
    "ExecuteTime": {
     "end_time": "2019-03-07T15:55:22.672493Z",
     "start_time": "2019-03-07T15:55:22.666922Z"
    }
   },
   "outputs": [
    {
     "data": {
      "text/plain": [
       "array([0.15, 0.8 ])"
      ]
     },
     "execution_count": 14,
     "metadata": {},
     "output_type": "execute_result"
    }
   ],
   "source": [
    "default_radius = 0.15\n",
    "default_scale = 0.8\n",
    "baseline_bias = np.array([default_radius, default_scale])\n",
    "baseline_bias"
   ]
  },
  {
   "cell_type": "code",
   "execution_count": 15,
   "metadata": {
    "ExecuteTime": {
     "end_time": "2019-03-07T15:55:22.677059Z",
     "start_time": "2019-03-07T15:55:22.674393Z"
    }
   },
   "outputs": [],
   "source": [
    "def relu(X):\n",
    "    \"Rectified linear activation function.\"\n",
    "    return X * (X > 0)"
   ]
  },
  {
   "cell_type": "code",
   "execution_count": 16,
   "metadata": {
    "ExecuteTime": {
     "end_time": "2019-03-07T15:55:22.687055Z",
     "start_time": "2019-03-07T15:55:22.678889Z"
    }
   },
   "outputs": [],
   "source": [
    "import autograd.numpy.random as npr\n",
    "\n",
    "class NeuralNet():\n",
    "\n",
    "    def __init__(self, layer_sizes, scale=0.01):\n",
    "        assert(layer_sizes[-1] == 2)\n",
    "        self.layer_sizes = layer_sizes\n",
    "        self.scale = scale\n",
    "        self.params = self.init_random_params(scale, layer_sizes)\n",
    "\n",
    "    def init_random_params(self, scale, layer_sizes, rs=npr.RandomState(0)):\n",
    "        return [(scale * rs.randn(m, n),  # weight matrix\n",
    "                 scale * rs.randn(n))  # bias vector\n",
    "                for m, n in zip(layer_sizes[:-1], layer_sizes[1:])]\n",
    "\n",
    "    def neural_net_predict(self, params, inputs):\n",
    "        for W, b in params:\n",
    "            outputs = np.dot(inputs, W) + b\n",
    "            inputs = relu(outputs)\n",
    "        return outputs + baseline_bias\n",
    "\n",
    "    def __call__(self, inputs):\n",
    "        return self.neural_net_predict(self.params, inputs)\n",
    "    \n",
    "npr.seed(0)\n",
    "layer_sizes = [n_features, 2]\n",
    "neural_net = NeuralNet(layer_sizes)"
   ]
  },
  {
   "cell_type": "code",
   "execution_count": 17,
   "metadata": {
    "ExecuteTime": {
     "end_time": "2019-03-07T15:55:22.692248Z",
     "start_time": "2019-03-07T15:55:22.689288Z"
    }
   },
   "outputs": [],
   "source": [
    "params = neural_net.params"
   ]
  },
  {
   "cell_type": "code",
   "execution_count": 18,
   "metadata": {
    "ExecuteTime": {
     "end_time": "2019-03-07T15:55:22.702031Z",
     "start_time": "2019-03-07T15:55:22.694505Z"
    }
   },
   "outputs": [
    {
     "data": {
      "text/plain": [
       "array([[0.20804834, 0.79478895],\n",
       "       [0.17475065, 0.79627458],\n",
       "       [0.16188043, 0.79518197],\n",
       "       [0.19613242, 0.82061456],\n",
       "       [0.13902075, 0.77676231],\n",
       "       [0.12769472, 0.78161642],\n",
       "       [0.14320772, 0.79528638],\n",
       "       [0.14320772, 0.79528638],\n",
       "       [0.13902075, 0.77676231],\n",
       "       [0.12769472, 0.78161642],\n",
       "       [0.14320772, 0.79528638],\n",
       "       [0.14320772, 0.79528638],\n",
       "       [0.16188043, 0.79518197],\n",
       "       [0.16188043, 0.79518197],\n",
       "       [0.16188043, 0.79518197],\n",
       "       [0.16188043, 0.79518197],\n",
       "       [0.16188043, 0.79518197]])"
      ]
     },
     "execution_count": 18,
     "metadata": {},
     "output_type": "execute_result"
    }
   ],
   "source": [
    "neural_net(computed_features[0])"
   ]
  },
  {
   "cell_type": "code",
   "execution_count": 19,
   "metadata": {
    "ExecuteTime": {
     "end_time": "2019-03-07T15:55:22.707665Z",
     "start_time": "2019-03-07T15:55:22.703807Z"
    }
   },
   "outputs": [],
   "source": [
    "from bayes_implicit_solvent.gb_models.numpy_gb_models import compute_OBC_energy_vectorized"
   ]
  },
  {
   "cell_type": "code",
   "execution_count": 20,
   "metadata": {
    "ExecuteTime": {
     "end_time": "2019-03-07T15:55:22.713591Z",
     "start_time": "2019-03-07T15:55:22.708932Z"
    }
   },
   "outputs": [
    {
     "data": {
      "text/plain": [
       "(array([0.20804834, 0.17475065, 0.16188043, 0.19613242, 0.13902075,\n",
       "        0.12769472, 0.14320772, 0.14320772, 0.13902075, 0.12769472,\n",
       "        0.14320772, 0.14320772, 0.16188043, 0.16188043, 0.16188043,\n",
       "        0.16188043, 0.16188043]),\n",
       " array([0.79478895, 0.79627458, 0.79518197, 0.82061456, 0.77676231,\n",
       "        0.78161642, 0.79528638, 0.79528638, 0.77676231, 0.78161642,\n",
       "        0.79528638, 0.79528638, 0.79518197, 0.79518197, 0.79518197,\n",
       "        0.79518197, 0.79518197]))"
      ]
     },
     "execution_count": 20,
     "metadata": {},
     "output_type": "execute_result"
    }
   ],
   "source": [
    "radii, scales = neural_net.neural_net_predict(params, computed_features[0]).T\n",
    "radii, scales"
   ]
  },
  {
   "cell_type": "code",
   "execution_count": 21,
   "metadata": {
    "ExecuteTime": {
     "end_time": "2019-03-07T15:55:22.719073Z",
     "start_time": "2019-03-07T15:55:22.715500Z"
    }
   },
   "outputs": [],
   "source": [
    "npr.seed(0)\n",
    "all_inds = np.arange(len(mols))\n",
    "np.random.shuffle(all_inds)\n",
    "train_inds = all_inds[::2]\n",
    "test_inds = all_inds[1::2]\n"
   ]
  },
  {
   "cell_type": "code",
   "execution_count": 22,
   "metadata": {
    "ExecuteTime": {
     "end_time": "2019-03-07T15:55:22.727764Z",
     "start_time": "2019-03-07T15:55:22.723263Z"
    }
   },
   "outputs": [
    {
     "data": {
      "text/plain": [
       "array([-0.1382    ,  0.1522    ,  0.1023    ,  0.1233    , -0.3511    ,\n",
       "        0.37990001, -0.1655    , -0.1655    , -0.37040001,  0.3845    ,\n",
       "       -0.1723    , -0.1723    ,  0.0681    ,  0.0681    ,  0.0681    ,\n",
       "        0.0944    ,  0.0944    ])"
      ]
     },
     "execution_count": 22,
     "metadata": {},
     "output_type": "execute_result"
    }
   ],
   "source": [
    "charges[0]"
   ]
  },
  {
   "cell_type": "code",
   "execution_count": 23,
   "metadata": {
    "ExecuteTime": {
     "end_time": "2019-03-07T15:55:23.206284Z",
     "start_time": "2019-03-07T15:55:23.202288Z"
    }
   },
   "outputs": [],
   "source": [
    "from autograd.scipy.misc import logsumexp\n",
    "from simtk import unit\n",
    "from bayes_implicit_solvent.constants import kB, temperature\n",
    "\n",
    "kj_mol_to_kT = 1.0 * unit.kilojoule_per_mole / (kB * temperature)\n",
    "\n",
    "def one_sided_exp(w_F):\n",
    "    DeltaF = - (logsumexp(- w_F) - np.log(len(w_F)))\n",
    "    return DeltaF"
   ]
  },
  {
   "cell_type": "code",
   "execution_count": 24,
   "metadata": {
    "ExecuteTime": {
     "end_time": "2019-03-07T15:55:23.645598Z",
     "start_time": "2019-03-07T15:55:23.535661Z"
    }
   },
   "outputs": [
    {
     "data": {
      "text/plain": [
       "49"
      ]
     },
     "execution_count": 24,
     "metadata": {},
     "output_type": "execute_result"
    }
   ],
   "source": [
    "all_types = np.array(sorted(list(set([tuple(f) for f in np.vstack(computed_features)]))))\n",
    "len(all_types)"
   ]
  },
  {
   "cell_type": "code",
   "execution_count": 25,
   "metadata": {
    "ExecuteTime": {
     "end_time": "2019-03-07T15:55:23.844258Z",
     "start_time": "2019-03-07T15:55:23.839168Z"
    }
   },
   "outputs": [
    {
     "data": {
      "text/plain": [
       "array([False, False, False, False, False, False, False, False, False,\n",
       "        True, False,  True, False, False, False,  True, False, False,\n",
       "       False, False, False, False,  True, False, False, False, False,\n",
       "       False, False,  True, False, False, False,  True, False, False,\n",
       "       False, False, False,  True, False, False, False])"
      ]
     },
     "execution_count": 25,
     "metadata": {},
     "output_type": "execute_result"
    }
   ],
   "source": [
    "all_types[0]"
   ]
  },
  {
   "cell_type": "code",
   "execution_count": 26,
   "metadata": {
    "ExecuteTime": {
     "end_time": "2019-03-07T15:55:24.005102Z",
     "start_time": "2019-03-07T15:55:24.000304Z"
    }
   },
   "outputs": [
    {
     "data": {
      "text/plain": [
       "35"
      ]
     },
     "execution_count": 26,
     "metadata": {},
     "output_type": "execute_result"
    }
   ],
   "source": [
    "type_index = dict(zip([tuple(t) for t in all_types], range(len(all_types))))\n",
    "type_index[tuple(computed_features[0][0])]"
   ]
  },
  {
   "cell_type": "code",
   "execution_count": 27,
   "metadata": {
    "ExecuteTime": {
     "end_time": "2019-03-07T15:55:24.284193Z",
     "start_time": "2019-03-07T15:55:24.215690Z"
    }
   },
   "outputs": [],
   "source": [
    "type_indices = []\n",
    "for i in range(len(computed_features)):\n",
    "    type_indices.append(np.array([type_index[tuple(f)] for f in computed_features[i]]))"
   ]
  },
  {
   "cell_type": "code",
   "execution_count": 28,
   "metadata": {
    "ExecuteTime": {
     "end_time": "2019-03-07T15:55:24.476912Z",
     "start_time": "2019-03-07T15:55:24.470153Z"
    }
   },
   "outputs": [],
   "source": [
    "def make_predictions(params, inds=train_inds, batch_size=5, randomized=True):\n",
    "    all_radii, all_scales = neural_net.neural_net_predict(params, all_types).T\n",
    "    \n",
    "    \n",
    "    predictions = []\n",
    "    for i in inds:\n",
    "        radii, scales= all_radii[type_indices[i]], all_scales[type_indices[i]]\n",
    "        #radii, scales, log_taus = neural_net.neural_net_predict(params, computed_features[i]).T\n",
    "        #taus = np.exp(log_taus)\n",
    "        \n",
    "        if randomized:\n",
    "            dmat_inds = np.random.randint(0, len(distance_matrices[i]), batch_size)\n",
    "        else:\n",
    "            dmat_inds = np.arange(min(batch_size, len(distance_matrices[i])))\n",
    "        W_F = np.array([compute_OBC_energy_vectorized(distance_matrices[i][j], radii, scales, charges=charges[i]) for j in dmat_inds])\n",
    "        \n",
    "        w_F = W_F * kj_mol_to_kT\n",
    "        pred_free_energy = unreduce(one_sided_exp(w_F))\n",
    "        predictions.append(pred_free_energy)\n",
    "    return np.array(predictions)"
   ]
  },
  {
   "cell_type": "code",
   "execution_count": 29,
   "metadata": {
    "ExecuteTime": {
     "end_time": "2019-03-07T15:55:25.159765Z",
     "start_time": "2019-03-07T15:55:24.702414Z"
    }
   },
   "outputs": [],
   "source": [
    "predictions = make_predictions(params)"
   ]
  },
  {
   "cell_type": "code",
   "execution_count": 30,
   "metadata": {
    "ExecuteTime": {
     "end_time": "2019-03-07T15:55:25.167710Z",
     "start_time": "2019-03-07T15:55:25.162202Z"
    }
   },
   "outputs": [
    {
     "data": {
      "text/plain": [
       "-0.10763877806275707"
      ]
     },
     "execution_count": 30,
     "metadata": {},
     "output_type": "execute_result"
    }
   ],
   "source": [
    "def log_prior(params):\n",
    "    return - sum([np.linalg.norm(W) + np.linalg.norm(b) for (W,b) in params])\n",
    "log_prior(params)"
   ]
  },
  {
   "cell_type": "code",
   "execution_count": 31,
   "metadata": {
    "ExecuteTime": {
     "end_time": "2019-03-07T15:55:25.179477Z",
     "start_time": "2019-03-07T15:55:25.169945Z"
    }
   },
   "outputs": [
    {
     "data": {
      "text/plain": [
       "array([-4.950e+00, -4.590e+00, -7.400e-01, -9.840e+00, -2.400e+00,\n",
       "       -6.480e+00,  1.070e+00, -3.430e+00,  1.830e+00, -4.290e+00,\n",
       "       -3.200e+00, -2.220e+00, -2.370e+00, -7.000e-01, -1.960e+00,\n",
       "       -2.490e+00, -4.800e-01, -4.220e+00, -4.510e+00, -2.860e+00,\n",
       "       -6.190e+00, -9.630e+00, -1.620e+00, -2.490e+00, -3.800e+00,\n",
       "       -2.550e+00, -3.880e+00, -1.460e+00, -9.000e-01, -7.620e+00,\n",
       "       -1.343e+01, -1.114e+01, -6.400e-01, -1.920e+00,  2.500e-01,\n",
       "       -3.750e+00, -2.210e+00,  2.670e+00, -4.710e+00, -3.840e+00,\n",
       "        3.430e+00, -3.780e+00, -6.160e+00, -3.820e+00, -4.590e+00,\n",
       "       -3.560e+00, -2.810e+00, -5.000e-01, -4.330e+00,  1.160e+00,\n",
       "       -3.280e+00, -7.800e-01, -3.680e+00, -2.530e+00, -1.101e+01,\n",
       "       -2.640e+00, -7.980e+00, -7.030e+00, -1.100e+00, -6.120e+00,\n",
       "       -4.850e+00, -1.160e+00, -2.490e+00, -7.500e+00, -2.480e+00,\n",
       "       -4.230e+00, -3.810e+00, -2.340e+00, -2.690e+00, -5.220e+00,\n",
       "       -2.780e+00,  2.880e+00, -3.640e+00, -3.520e+00, -9.820e+00,\n",
       "        1.200e+00, -2.560e+00, -3.130e+00, -6.620e+00,  1.660e+00,\n",
       "       -1.960e+00, -6.800e-01, -2.870e+00,  3.120e+00, -2.380e+00,\n",
       "       -4.870e+00, -4.420e+00,  8.400e-01,  2.340e+00, -2.630e+00,\n",
       "       -4.690e+00, -9.200e+00, -6.230e+00, -4.210e+00, -3.370e+00,\n",
       "        2.900e-01, -3.670e+00, -1.000e+01, -3.640e+00, -5.600e-01,\n",
       "       -4.590e+00, -1.000e-01, -3.510e+00, -7.800e-01, -4.020e+00,\n",
       "        5.600e-01, -1.610e+00, -9.940e+00,  1.600e-01,  1.400e-01,\n",
       "       -1.500e+00, -5.910e+00, -1.200e+00, -5.310e+00, -1.022e+01,\n",
       "        1.920e+00, -4.020e+00, -5.660e+00, -4.290e+00, -6.010e+00,\n",
       "       -9.650e+00, -4.000e-01, -5.530e+00, -2.940e+00, -1.240e+00,\n",
       "       -9.730e+00, -5.730e+00, -5.210e+00, -6.340e+00,  2.110e+00,\n",
       "       -2.150e+00, -2.460e+00, -2.330e+00, -2.160e+00, -7.780e+00,\n",
       "       -9.010e+00, -1.078e+01, -8.210e+00, -6.130e+00, -3.500e+00,\n",
       "       -1.880e+00, -4.000e-01, -1.340e+00, -1.600e-01, -3.150e+00,\n",
       "       -4.860e+00, -4.040e+00, -1.290e+00, -3.520e+00, -4.000e-02,\n",
       "       -1.120e+00, -4.500e+00, -6.550e+00, -9.760e+00, -3.340e+00,\n",
       "       -4.840e+00,  2.880e+00, -1.910e+00, -2.880e+00, -4.270e+00,\n",
       "       -2.320e+00, -3.000e-01, -1.590e+00, -1.400e+00, -1.000e-01,\n",
       "       -4.130e+00, -4.500e-01, -3.880e+00, -8.720e+00, -7.000e+00,\n",
       "       -3.730e+00, -2.930e+00, -5.940e+00, -5.110e+00, -5.330e+00,\n",
       "       -1.100e-01, -1.274e+01, -9.130e+00, -2.920e+00, -5.260e+00,\n",
       "       -2.260e+00, -1.360e+00, -1.240e+00,  1.310e+00, -5.900e+00,\n",
       "       -3.040e+00, -5.490e+00, -6.160e+00, -5.660e+00, -9.500e-01,\n",
       "       -4.700e+00,  6.700e-01, -9.400e+00, -4.620e+00, -4.200e+00,\n",
       "       -4.840e+00, -6.720e+00, -9.000e-01, -7.400e-01, -5.290e+00,\n",
       "       -2.230e+00, -1.380e+00, -5.300e-01, -2.730e+00, -6.500e+00,\n",
       "       -3.110e+00, -4.090e+00, -3.300e-01, -4.090e+00, -2.670e+00,\n",
       "       -4.800e+00, -6.690e+00, -8.000e-01, -4.390e+00, -4.390e+00,\n",
       "       -1.600e-01, -2.010e+00,  1.000e-01, -5.990e+00, -5.490e+00,\n",
       "       -4.100e+00,  2.930e+00, -1.120e+00, -4.440e+00, -5.300e-01,\n",
       "       -4.550e+00,  2.830e+00, -7.770e+00, -8.680e+00, -3.300e+00,\n",
       "       -6.500e+00,  0.000e+00, -3.610e+00, -5.900e+00, -8.000e-01,\n",
       "        1.580e+00, -5.900e-01, -3.950e+00, -3.440e+00, -3.170e+00,\n",
       "       -9.800e-01, -6.690e+00, -6.250e+00, -1.017e+01, -1.140e+00,\n",
       "       -3.650e+00, -6.200e+00, -9.860e+00, -1.264e+01, -7.580e+00,\n",
       "       -3.200e+00, -4.420e+00,  2.000e+00,  6.000e-01,  2.480e+00,\n",
       "       -2.490e+00,  2.300e+00, -3.520e+00,  3.160e+00, -5.040e+00,\n",
       "       -5.820e+00, -4.820e+00,  2.560e+00,  2.060e+00, -4.580e+00,\n",
       "       -3.050e+00, -1.240e+00, -8.500e-01, -6.100e+00, -4.520e+00,\n",
       "        1.800e-01, -3.410e+00, -6.620e+00, -4.430e+00, -2.440e+00,\n",
       "       -5.100e+00, -4.470e+00, -5.560e+00, -1.790e+00, -9.620e+00,\n",
       "       -2.680e+00,  2.890e+00, -3.540e+00,  8.000e-02, -2.890e+00,\n",
       "       -1.210e+00, -2.920e+00, -4.720e+00,  1.590e+00, -3.100e+00,\n",
       "       -1.640e+00, -5.460e+00, -7.810e+00, -2.280e+00, -9.000e-01,\n",
       "       -3.350e+00, -9.280e+00, -2.300e+00,  1.790e+00, -5.490e+00,\n",
       "       -2.550e+00,  1.280e+00, -2.290e+00, -2.070e+00, -2.500e-01,\n",
       "       -1.027e+01, -8.610e+00, -4.680e+00,  2.550e+00,  2.510e+00,\n",
       "       -9.610e+00, -3.470e+00, -2.560e+00,  3.130e+00, -1.170e+00,\n",
       "       -5.330e+00,  1.000e-01, -1.340e+00, -6.000e+00, -6.790e+00,\n",
       "       -4.630e+00, -3.220e+00,  2.930e+00, -6.780e+00,  5.200e-01,\n",
       "       -5.800e+00, -7.000e+00,  1.680e+00, -5.880e+00,  0.000e+00,\n",
       "       -3.880e+00, -1.390e+00, -2.450e+00, -1.008e+01, -3.640e+00,\n",
       "       -8.260e+00, -1.450e+00, -4.370e+00, -5.300e-01, -8.700e+00,\n",
       "       -3.430e+00, -3.000e-02, -1.950e+00, -6.460e+00, -6.300e-01,\n",
       "       -4.400e+00, -7.280e+00, -4.570e+00, -6.320e+00, -1.210e+00,\n",
       "       -6.020e+00, -7.650e+00, -8.300e-01, -5.000e+00, -2.210e+00,\n",
       "       -4.740e+00, -3.220e+00, -6.210e+00, -1.064e+01, -3.710e+00,\n",
       "       -4.230e+00, -1.280e+00, -4.730e+00, -2.830e+00,  2.000e+00,\n",
       "        5.000e-01, -5.100e+00, -4.400e+00, -4.050e+00, -3.250e+00,\n",
       "       -7.660e+00, -2.820e+00, -3.130e+00, -8.900e-01, -1.010e+00,\n",
       "       -9.300e+00, -6.400e+00, -4.820e+00, -7.170e+00,  1.380e+00,\n",
       "       -5.910e+00, -7.630e+00, -2.220e+00, -2.470e+00, -1.195e+01,\n",
       "       -2.020e+00, -6.960e+00, -3.920e+00, -2.450e+00, -2.500e-01,\n",
       "       -4.290e+00, -4.400e+00, -5.720e+00, -7.070e+00, -3.880e+00,\n",
       "        7.100e-01, -4.720e+00, -4.400e-01, -2.100e+00, -2.280e+00,\n",
       "       -4.120e+00, -4.240e+00,  2.510e+00, -8.400e-01, -5.500e-01,\n",
       "       -4.690e+00, -7.290e+00, -5.450e+00, -8.180e+00, -1.140e+00,\n",
       "       -3.880e+00, -6.250e+00,  1.070e+00, -6.680e+00, -9.450e+00,\n",
       "       -4.910e+00,  1.830e+00, -2.640e+00, -6.270e+00, -9.400e+00,\n",
       "       -5.850e+00, -4.390e+00, -5.740e+00, -2.090e+00, -4.420e+00,\n",
       "       -4.610e+00, -8.150e+00, -1.100e-01, -4.910e+00, -7.370e+00,\n",
       "       -7.100e+00,  6.800e-01,  5.600e-01, -2.500e-01, -3.950e+00,\n",
       "        2.380e+00, -9.290e+00, -7.430e+00, -2.780e+00, -4.870e+00,\n",
       "       -2.200e-01, -2.740e+00,  2.710e+00, -1.660e+00, -8.830e+00,\n",
       "        1.680e+00, -4.450e+00, -7.470e+00, -4.590e+00, -7.190e+00,\n",
       "       -4.600e-01, -3.240e+00, -1.100e+00, -2.490e+00, -1.310e+00,\n",
       "       -3.120e+00, -4.800e-01, -2.930e+00, -1.100e+01, -6.090e+00,\n",
       "       -4.060e+00, -4.090e+00, -4.970e+00, -3.180e+00,  2.520e+00,\n",
       "       -2.640e+00,  1.470e+00, -9.710e+00, -1.230e+00, -7.290e+00,\n",
       "       -3.640e+00, -5.040e+00, -8.600e-01, -4.700e+00, -5.570e+00,\n",
       "        1.770e+00,  2.930e+00, -3.790e+00, -6.500e+00, -4.930e+00,\n",
       "       -9.510e+00, -4.380e+00,  2.560e+00,  1.580e+00, -6.790e+00,\n",
       "       -5.710e+00, -9.440e+00, -9.370e+00, -6.880e+00, -1.270e+00,\n",
       "        4.000e-01, -2.110e+00, -3.900e+00, -5.260e+00, -5.180e+00,\n",
       "        2.510e+00, -6.920e+00,  2.130e+00, -4.350e+00, -4.420e+00,\n",
       "       -1.740e+00, -6.750e+00, -5.510e+00, -4.780e+00, -4.500e+00,\n",
       "       -1.830e+00,  1.700e+00, -2.700e+00, -3.450e+00, -1.990e+00,\n",
       "       -6.350e+00, -3.300e+00, -9.800e+00,  2.300e+00, -8.000e-01,\n",
       "       -4.100e+00, -2.360e+00, -2.510e+00, -3.650e+00, -7.400e+00,\n",
       "       -4.610e+00, -1.185e+01,  7.500e-01, -4.530e+00, -6.440e+00,\n",
       "       -3.450e+00, -1.080e+00, -3.840e+00, -4.010e+00, -1.820e+00,\n",
       "        2.700e-01, -1.460e+00, -2.820e+00, -2.750e+00, -5.700e-01,\n",
       "       -6.400e+00, -4.770e+00, -1.430e+00, -2.130e+00, -9.300e+00,\n",
       "        1.010e+00,  3.400e-01, -5.220e+00, -4.150e+00, -4.000e+00,\n",
       "       -6.740e+00, -7.780e+00, -6.600e+00, -1.120e+00,  1.000e-02,\n",
       "       -1.003e+01,  2.100e+00, -6.130e+00, -8.410e+00, -7.480e+00,\n",
       "       -4.550e+00,  2.510e+00, -8.110e+00,  2.970e+00, -4.070e+00,\n",
       "       -1.153e+01, -2.300e-01, -1.690e+00, -7.900e-01, -2.400e+00,\n",
       "       -9.900e-01, -3.040e+00, -5.060e+00, -3.090e+00, -3.580e+00,\n",
       "       -7.670e+00, -2.330e+00, -9.410e+00, -4.160e+00, -3.150e+00,\n",
       "       -4.310e+00, -6.620e+00, -5.730e+00, -3.480e+00,  8.000e-02,\n",
       "       -9.530e+00, -8.300e-01, -2.490e+00, -2.040e+00, -4.400e-01,\n",
       "       -5.210e+00, -3.710e+00, -1.930e+00, -5.480e+00, -2.440e+00,\n",
       "       -9.520e+00, -8.840e+00,  9.300e-01, -1.400e-01, -9.340e+00,\n",
       "        6.000e-02, -5.480e+00, -9.610e+00, -5.030e+00,  1.310e+00,\n",
       "       -1.421e+01, -3.930e+00, -1.460e+00, -2.130e+00, -2.790e+00,\n",
       "       -5.730e+00, -3.030e+00, -3.280e+00, -2.980e+00, -7.700e-01,\n",
       "       -2.400e+00,  1.090e+00, -8.840e+00, -1.660e+00, -2.780e+00,\n",
       "       -3.920e+00, -4.580e+00, -1.021e+01, -9.310e+00, -5.230e+00,\n",
       "       -1.900e-01, -9.000e-01, -8.420e+00,  1.230e+00, -9.900e-01,\n",
       "       -8.200e-01, -4.780e+00, -1.890e+00, -3.240e+00,  1.320e+00,\n",
       "        2.900e-01])"
      ]
     },
     "execution_count": 31,
     "metadata": {},
     "output_type": "execute_result"
    }
   ],
   "source": [
    "expt_means"
   ]
  },
  {
   "cell_type": "code",
   "execution_count": 32,
   "metadata": {
    "ExecuteTime": {
     "end_time": "2019-03-07T15:55:25.524254Z",
     "start_time": "2019-03-07T15:55:25.517988Z"
    }
   },
   "outputs": [
    {
     "data": {
      "text/plain": [
       "array([ 2.51893830e+00,  6.52409645e-01,  1.94411378e+00, -1.24441321e+00,\n",
       "        1.23705650e+00, -1.38678078e+01, -1.52081783e+00, -1.56415353e+00,\n",
       "       -2.02868242e+00, -3.17965936e+00, -4.52874384e+00, -3.12796357e-01,\n",
       "        8.86823182e-01, -2.73879458e+00, -6.33325948e+00, -1.35129926e+00,\n",
       "       -3.33247576e-01, -1.51062071e+00, -6.37857467e+00, -7.33866413e+00,\n",
       "        7.54994923e-01, -7.28309026e+00, -4.10322680e+00, -1.69706483e+01,\n",
       "        3.27695927e-01,  6.73209847e-01, -1.52927707e+01,  1.50409483e+00,\n",
       "       -1.97465274e+01,  1.64600894e+00, -8.80045955e+00,  4.77334925e-01,\n",
       "        3.34902340e+00,  3.87637695e-01, -2.47521778e+00, -3.54404686e-01,\n",
       "       -8.65102994e+00, -2.34446969e+01, -5.87561857e+00, -2.93479429e-01,\n",
       "       -2.63249706e-01, -7.36548162e+00, -1.60139026e+00, -1.24279034e+00,\n",
       "        7.33277266e-01,  3.94079660e-01,  1.37585011e+00, -1.85344761e+00,\n",
       "       -3.55166002e+00, -2.47491267e+00, -7.31754671e-01,  4.04961411e-01,\n",
       "       -4.14331017e+00, -1.99392189e+00, -4.09856119e-01, -5.75876157e+00,\n",
       "       -1.07148359e+00, -3.22710969e-01, -3.84869632e+00,  1.18817535e+00,\n",
       "        2.34655774e-01, -2.20678184e+00, -9.07397390e+00, -8.31270720e+00,\n",
       "       -4.93865691e+00, -2.01156617e+00, -8.06683552e+00, -3.85038486e+00,\n",
       "       -4.93691631e+00, -9.39452619e-01, -1.15344863e-01, -1.93133613e+00,\n",
       "        1.66901281e+00, -2.07124316e+00,  6.36596095e-01,  2.57013112e-01,\n",
       "       -4.01880556e+00,  8.41788348e-01, -8.47356254e+00, -2.71680436e+00,\n",
       "        7.55809182e-01, -2.58313727e+00,  9.51305734e-03, -4.44114301e+00,\n",
       "        1.75375334e+00,  2.94189741e-01, -8.68623476e+00, -1.12407027e+01,\n",
       "       -4.21907697e+00,  2.68161247e+00, -2.19229964e-01, -1.07306542e+00,\n",
       "       -1.12401830e+00,  8.58777548e-01,  8.76543237e-01, -3.35484536e+00,\n",
       "       -1.22089655e+00, -1.45279945e+00, -7.56970445e-01,  2.59947095e-01,\n",
       "       -9.83734448e-01, -6.53282362e+00,  4.85816870e+00, -4.21021032e+00,\n",
       "       -6.09881544e-01,  1.29593425e+00,  1.35621067e+00, -1.00763196e+00,\n",
       "       -2.58429605e+00, -6.12201346e+00, -9.51625688e+00, -4.79210882e+00,\n",
       "       -2.17404019e+00,  8.13658321e-03, -7.47099256e+00, -3.11291236e-01,\n",
       "       -2.22034685e-01, -5.44515120e+00, -7.72498060e-01, -8.68892093e-01,\n",
       "       -3.53871316e+00,  2.73441488e+00, -7.97126646e+00, -9.65718058e+00,\n",
       "        7.04307122e-01, -7.05949055e+00, -2.27143359e+00, -3.62597108e+00,\n",
       "       -3.31101567e+00, -2.15397867e+00,  1.95820599e+00, -1.03698988e+01,\n",
       "       -1.63659814e+00, -4.06960792e+00, -1.96236098e+01, -1.97726295e+00,\n",
       "       -1.05275087e+01, -8.18064686e+00, -3.25005627e+00, -3.97365471e+00,\n",
       "       -1.24543196e+00, -1.06965618e+01, -5.80659724e-01, -1.39969818e+00,\n",
       "       -1.18269195e+00,  2.06929989e+00,  1.37272851e+00, -1.03766459e+00,\n",
       "       -3.12478066e+00,  1.38197107e+00, -3.88662080e+00, -4.50669736e+00,\n",
       "       -1.37593448e+01, -3.70095378e+00, -5.92330757e+00,  1.90158496e+00,\n",
       "       -8.31761207e-01, -3.82644568e+00, -8.93840756e+00, -6.53755820e+00,\n",
       "        2.75581036e+00,  5.53892285e-01, -5.80549769e+00, -6.39678139e+00,\n",
       "       -4.35821777e+00, -1.91105488e+00,  7.12219749e-01, -4.26161823e+00,\n",
       "       -2.50362434e-01,  8.51561729e-01,  1.06512109e+00, -1.99263722e+00,\n",
       "       -3.84822070e+00, -1.02762074e+00,  4.87040169e-02, -6.61154589e+00,\n",
       "        6.43878393e-02,  9.74999621e-01, -2.36441414e+00, -5.28428470e-04,\n",
       "        6.60218658e-01, -8.65165834e+00, -2.03926994e+00, -2.92002745e+00,\n",
       "        3.50188958e+00, -1.62860934e+00,  4.03115966e+00, -1.27639570e+01,\n",
       "       -1.07550740e+00, -9.24797275e+00, -1.63923185e+00, -9.52149898e-01,\n",
       "        1.40806422e-01, -1.43169776e+00,  8.09602860e-02, -7.10269188e+00,\n",
       "        3.95509789e-01,  5.06572084e-01,  1.26848342e+00,  1.40084932e+00,\n",
       "       -7.60701732e+00, -1.32935996e+00, -7.57447329e-01,  8.87699503e-01,\n",
       "       -1.24282824e+00, -1.08935879e+01, -6.73688802e-01, -3.37919922e+00,\n",
       "        8.97177118e-01,  3.03862517e-01, -1.49115698e+01, -5.62690837e+00,\n",
       "       -8.14605070e+00, -1.78035148e+00,  4.36884649e-01, -6.03207414e+00,\n",
       "        7.42489764e-01,  5.61780604e-01, -7.76402123e-01, -2.91014694e+00,\n",
       "       -7.67638593e+00, -1.47404783e+00,  1.10974687e+00,  1.31930400e+00,\n",
       "       -1.02508910e+01, -5.11202313e-01, -4.22943516e+00, -3.84520312e+00,\n",
       "       -8.10605796e-01,  4.62112312e-01,  1.31255088e+00,  4.10454366e-01,\n",
       "       -4.59006865e-03, -3.09411536e+00,  1.30575399e+00, -6.29161650e+00,\n",
       "        1.10771777e+00, -1.34384220e+00, -9.55654030e+00,  1.63829735e+00,\n",
       "        1.39033942e+00,  4.89148686e-01,  1.41120710e+00,  3.74446109e-01,\n",
       "       -1.40927848e+00, -1.33181962e+00,  2.12554673e-01, -3.94362531e-01,\n",
       "       -1.23662985e-01,  3.97893382e-01, -1.16329940e+00, -6.15404410e+00,\n",
       "       -2.64888622e-01,  1.19787899e+00,  1.62669059e+00, -6.46141514e+00,\n",
       "       -1.62874267e+01, -7.22009752e-02, -3.21299563e+00, -2.37820672e+00,\n",
       "        1.26955362e+00, -3.86344678e+00, -1.17013345e+01, -2.63018993e+00,\n",
       "       -1.61746528e-02, -2.10188134e+00,  1.41709678e+00, -1.01302209e+01,\n",
       "       -1.08521879e+01, -4.28556684e+00,  5.15532064e-01, -5.04951977e+00,\n",
       "       -4.01024689e+00,  1.47555438e-02, -4.35742897e+00, -3.66057769e+00,\n",
       "        3.84595644e-01,  2.41703621e-01, -5.31967068e+00,  9.23786999e-01,\n",
       "        6.79734670e-01, -6.23594806e+00, -1.38939936e+01, -8.51735805e+00,\n",
       "       -3.86134054e+00, -3.33871538e+00, -8.33364616e-01,  5.68384210e-01,\n",
       "       -8.33104049e+00, -1.01497355e+01, -1.25098674e+00,  3.91896242e-03,\n",
       "       -6.72043078e+00, -8.85403830e+00, -8.49088378e+00, -5.93145845e+00,\n",
       "       -5.34399379e+00, -8.39015343e+00,  2.13634210e+00, -5.09935259e+00,\n",
       "        2.43429032e-01, -9.16610026e+00,  1.56524565e-01, -4.19238621e+00,\n",
       "       -1.07067842e-01,  1.54050871e+00, -7.30031571e+00,  8.21140569e-01,\n",
       "       -5.78137346e-01, -1.17622074e+01, -7.21916938e-01,  1.71494057e+00,\n",
       "        1.73238234e+00, -1.82516942e+00, -6.44421346e+00, -2.42914121e-01])"
      ]
     },
     "execution_count": 32,
     "metadata": {},
     "output_type": "execute_result"
    }
   ],
   "source": [
    "predictions"
   ]
  },
  {
   "cell_type": "code",
   "execution_count": 33,
   "metadata": {
    "ExecuteTime": {
     "end_time": "2019-03-07T15:55:25.851938Z",
     "start_time": "2019-03-07T15:55:25.848140Z"
    }
   },
   "outputs": [],
   "source": [
    "from autograd.scipy.stats import t as student_t\n",
    "\n",
    "def log_likelihood(params):\n",
    "    predictions = make_predictions(params)\n",
    "    return np.sum(student_t.logpdf(predictions, loc=expt_means[train_inds], scale=expt_uncs[train_inds], df=7))"
   ]
  },
  {
   "cell_type": "code",
   "execution_count": 34,
   "metadata": {
    "ExecuteTime": {
     "end_time": "2019-03-07T15:55:26.210264Z",
     "start_time": "2019-03-07T15:55:26.207421Z"
    }
   },
   "outputs": [],
   "source": [
    "def log_posterior(params):\n",
    "    return log_prior(params) + log_likelihood(params)"
   ]
  },
  {
   "cell_type": "code",
   "execution_count": 35,
   "metadata": {
    "ExecuteTime": {
     "end_time": "2019-03-07T15:55:27.010372Z",
     "start_time": "2019-03-07T15:55:26.519148Z"
    }
   },
   "outputs": [
    {
     "data": {
      "text/plain": [
       "-2171.1134610602717"
      ]
     },
     "execution_count": 35,
     "metadata": {},
     "output_type": "execute_result"
    }
   ],
   "source": [
    "log_posterior(params)"
   ]
  },
  {
   "cell_type": "code",
   "execution_count": 36,
   "metadata": {
    "ExecuteTime": {
     "end_time": "2019-03-07T15:55:33.988800Z",
     "start_time": "2019-03-07T15:55:27.012488Z"
    }
   },
   "outputs": [],
   "source": [
    "from autograd import grad\n",
    "g = grad(log_posterior)(params)"
   ]
  },
  {
   "cell_type": "code",
   "execution_count": 37,
   "metadata": {
    "ExecuteTime": {
     "end_time": "2019-03-07T15:55:33.993764Z",
     "start_time": "2019-03-07T15:55:33.990465Z"
    }
   },
   "outputs": [],
   "source": [
    "def rmse(x, y):\n",
    "    squared_errors = (x - y)**2\n",
    "    mean_squared_errors = np.mean(squared_errors)\n",
    "    root_mean_squared_errors = np.sqrt(mean_squared_errors)\n",
    "    return root_mean_squared_errors"
   ]
  },
  {
   "cell_type": "code",
   "execution_count": 39,
   "metadata": {
    "ExecuteTime": {
     "end_time": "2019-03-07T17:10:00.132052Z",
     "start_time": "2019-03-07T15:56:06.739441Z"
    }
   },
   "outputs": [
    {
     "name": "stdout",
     "output_type": "stream",
     "text": [
      "initial parameters\n",
      "\ttrain RMSE = 3.632\n",
      "\ttest RMSE = 3.295\n",
      "Iteration 0\n",
      "\ttrain RMSE = 3.695\n",
      "\ttest RMSE = 3.414\n",
      "Iteration 1\n",
      "\ttrain RMSE = 3.328\n",
      "\ttest RMSE = 3.119\n",
      "Iteration 2\n",
      "\ttrain RMSE = 3.199\n",
      "\ttest RMSE = 3.019\n",
      "Iteration 3\n",
      "\ttrain RMSE = 3.099\n",
      "\ttest RMSE = 2.856\n",
      "Iteration 4\n",
      "\ttrain RMSE = 3.127\n",
      "\ttest RMSE = 2.738\n",
      "Iteration 5\n",
      "\ttrain RMSE = 3.343\n",
      "\ttest RMSE = 2.797\n",
      "Iteration 6\n",
      "\ttrain RMSE = 3.214\n",
      "\ttest RMSE = 2.694\n",
      "Iteration 7\n",
      "\ttrain RMSE = 2.967\n",
      "\ttest RMSE = 2.560\n",
      "Iteration 8\n",
      "\ttrain RMSE = 2.799\n",
      "\ttest RMSE = 2.510\n",
      "Iteration 9\n",
      "\ttrain RMSE = 2.696\n",
      "\ttest RMSE = 2.521\n",
      "Iteration 10\n",
      "\ttrain RMSE = 2.649\n",
      "\ttest RMSE = 2.547\n",
      "Iteration 11\n",
      "\ttrain RMSE = 2.620\n",
      "\ttest RMSE = 2.524\n",
      "Iteration 12\n",
      "\ttrain RMSE = 2.643\n",
      "\ttest RMSE = 2.500\n",
      "Iteration 13\n",
      "\ttrain RMSE = 2.633\n",
      "\ttest RMSE = 2.510\n",
      "Iteration 14\n",
      "\ttrain RMSE = 2.569\n",
      "\ttest RMSE = 2.516\n",
      "Iteration 15\n",
      "\ttrain RMSE = 2.540\n",
      "\ttest RMSE = 2.521\n",
      "Iteration 16\n",
      "\ttrain RMSE = 2.516\n",
      "\ttest RMSE = 2.521\n",
      "Iteration 17\n",
      "\ttrain RMSE = 2.505\n",
      "\ttest RMSE = 2.501\n",
      "Iteration 18\n",
      "\ttrain RMSE = 2.477\n",
      "\ttest RMSE = 2.480\n",
      "Iteration 19\n",
      "\ttrain RMSE = 2.443\n",
      "\ttest RMSE = 2.457\n",
      "Iteration 20\n",
      "\ttrain RMSE = 2.414\n",
      "\ttest RMSE = 2.422\n",
      "Iteration 21\n",
      "\ttrain RMSE = 2.390\n",
      "\ttest RMSE = 2.383\n",
      "Iteration 22\n",
      "\ttrain RMSE = 2.342\n",
      "\ttest RMSE = 2.341\n",
      "Iteration 23\n",
      "\ttrain RMSE = 2.297\n",
      "\ttest RMSE = 2.296\n",
      "Iteration 24\n",
      "\ttrain RMSE = 2.258\n",
      "\ttest RMSE = 2.247\n",
      "Iteration 25\n",
      "\ttrain RMSE = 2.215\n",
      "\ttest RMSE = 2.197\n",
      "Iteration 26\n",
      "\ttrain RMSE = 2.168\n",
      "\ttest RMSE = 2.151\n",
      "Iteration 27\n",
      "\ttrain RMSE = 2.128\n",
      "\ttest RMSE = 2.100\n",
      "Iteration 28\n",
      "\ttrain RMSE = 2.097\n",
      "\ttest RMSE = 2.046\n",
      "Iteration 29\n",
      "\ttrain RMSE = 2.051\n",
      "\ttest RMSE = 2.001\n",
      "Iteration 30\n",
      "\ttrain RMSE = 2.010\n",
      "\ttest RMSE = 1.968\n",
      "Iteration 31\n",
      "\ttrain RMSE = 1.977\n",
      "\ttest RMSE = 1.926\n",
      "Iteration 32\n",
      "\ttrain RMSE = 1.944\n",
      "\ttest RMSE = 1.863\n",
      "Iteration 33\n",
      "\ttrain RMSE = 1.916\n",
      "\ttest RMSE = 1.812\n",
      "Iteration 34\n",
      "\ttrain RMSE = 1.886\n",
      "\ttest RMSE = 1.791\n",
      "Iteration 35\n",
      "\ttrain RMSE = 1.875\n",
      "\ttest RMSE = 1.787\n",
      "Iteration 36\n",
      "\ttrain RMSE = 1.836\n",
      "\ttest RMSE = 1.718\n",
      "Iteration 37\n",
      "\ttrain RMSE = 1.838\n",
      "\ttest RMSE = 1.683\n",
      "Iteration 38\n",
      "\ttrain RMSE = 1.822\n",
      "\ttest RMSE = 1.664\n",
      "Iteration 39\n",
      "\ttrain RMSE = 1.778\n",
      "\ttest RMSE = 1.642\n",
      "Iteration 40\n",
      "\ttrain RMSE = 1.770\n",
      "\ttest RMSE = 1.659\n",
      "Iteration 41\n",
      "\ttrain RMSE = 1.757\n",
      "\ttest RMSE = 1.648\n",
      "Iteration 42\n",
      "\ttrain RMSE = 1.729\n",
      "\ttest RMSE = 1.607\n",
      "Iteration 43\n",
      "\ttrain RMSE = 1.735\n",
      "\ttest RMSE = 1.587\n",
      "Iteration 44\n",
      "\ttrain RMSE = 1.736\n",
      "\ttest RMSE = 1.581\n",
      "Iteration 45\n",
      "\ttrain RMSE = 1.699\n",
      "\ttest RMSE = 1.556\n",
      "Iteration 46\n",
      "\ttrain RMSE = 1.674\n",
      "\ttest RMSE = 1.545\n",
      "Iteration 47\n",
      "\ttrain RMSE = 1.662\n",
      "\ttest RMSE = 1.543\n",
      "Iteration 48\n",
      "\ttrain RMSE = 1.652\n",
      "\ttest RMSE = 1.523\n",
      "Iteration 49\n",
      "\ttrain RMSE = 1.655\n",
      "\ttest RMSE = 1.502\n",
      "Iteration 50\n",
      "\ttrain RMSE = 1.669\n",
      "\ttest RMSE = 1.498\n",
      "Iteration 51\n",
      "\ttrain RMSE = 1.652\n",
      "\ttest RMSE = 1.487\n",
      "Iteration 52\n",
      "\ttrain RMSE = 1.632\n",
      "\ttest RMSE = 1.496\n",
      "Iteration 53\n",
      "\ttrain RMSE = 1.635\n",
      "\ttest RMSE = 1.514\n",
      "Iteration 54\n",
      "\ttrain RMSE = 1.628\n",
      "\ttest RMSE = 1.497\n",
      "Iteration 55\n",
      "\ttrain RMSE = 1.642\n",
      "\ttest RMSE = 1.485\n",
      "Iteration 56\n",
      "\ttrain RMSE = 1.687\n",
      "\ttest RMSE = 1.510\n",
      "Iteration 57\n",
      "\ttrain RMSE = 1.690\n",
      "\ttest RMSE = 1.513\n",
      "Iteration 58\n",
      "\ttrain RMSE = 1.622\n",
      "\ttest RMSE = 1.487\n",
      "Iteration 59\n",
      "\ttrain RMSE = 1.613\n",
      "\ttest RMSE = 1.520\n",
      "Iteration 60\n",
      "\ttrain RMSE = 1.607\n",
      "\ttest RMSE = 1.514\n",
      "Iteration 61\n",
      "\ttrain RMSE = 1.603\n",
      "\ttest RMSE = 1.460\n",
      "Iteration 62\n",
      "\ttrain RMSE = 1.655\n",
      "\ttest RMSE = 1.470\n",
      "Iteration 63\n",
      "\ttrain RMSE = 1.629\n",
      "\ttest RMSE = 1.448\n",
      "Iteration 64\n",
      "\ttrain RMSE = 1.580\n",
      "\ttest RMSE = 1.435\n",
      "Iteration 65\n",
      "\ttrain RMSE = 1.586\n",
      "\ttest RMSE = 1.461\n",
      "Iteration 66\n",
      "\ttrain RMSE = 1.582\n",
      "\ttest RMSE = 1.442\n",
      "Iteration 67\n",
      "\ttrain RMSE = 1.582\n",
      "\ttest RMSE = 1.416\n",
      "Iteration 68\n",
      "\ttrain RMSE = 1.603\n",
      "\ttest RMSE = 1.415\n",
      "Iteration 69\n",
      "\ttrain RMSE = 1.598\n",
      "\ttest RMSE = 1.415\n",
      "Iteration 70\n",
      "\ttrain RMSE = 1.552\n",
      "\ttest RMSE = 1.414\n",
      "Iteration 71\n",
      "\ttrain RMSE = 1.555\n",
      "\ttest RMSE = 1.454\n",
      "Iteration 72\n",
      "\ttrain RMSE = 1.543\n",
      "\ttest RMSE = 1.436\n",
      "Iteration 73\n",
      "\ttrain RMSE = 1.551\n",
      "\ttest RMSE = 1.405\n",
      "Iteration 74\n",
      "\ttrain RMSE = 1.591\n",
      "\ttest RMSE = 1.419\n",
      "Iteration 75\n",
      "\ttrain RMSE = 1.552\n",
      "\ttest RMSE = 1.398\n",
      "Iteration 76\n",
      "\ttrain RMSE = 1.531\n",
      "\ttest RMSE = 1.405\n",
      "Iteration 77\n",
      "\ttrain RMSE = 1.535\n",
      "\ttest RMSE = 1.425\n",
      "Iteration 78\n",
      "\ttrain RMSE = 1.534\n",
      "\ttest RMSE = 1.407\n",
      "Iteration 79\n",
      "\ttrain RMSE = 1.542\n",
      "\ttest RMSE = 1.385\n",
      "Iteration 80\n",
      "\ttrain RMSE = 1.569\n",
      "\ttest RMSE = 1.390\n",
      "Iteration 81\n",
      "\ttrain RMSE = 1.575\n",
      "\ttest RMSE = 1.395\n",
      "Iteration 82\n",
      "\ttrain RMSE = 1.538\n",
      "\ttest RMSE = 1.384\n",
      "Iteration 83\n",
      "\ttrain RMSE = 1.531\n",
      "\ttest RMSE = 1.412\n",
      "Iteration 84\n",
      "\ttrain RMSE = 1.534\n",
      "\ttest RMSE = 1.424\n",
      "Iteration 85\n",
      "\ttrain RMSE = 1.526\n",
      "\ttest RMSE = 1.392\n",
      "Iteration 86\n",
      "\ttrain RMSE = 1.543\n",
      "\ttest RMSE = 1.376\n",
      "Iteration 87\n",
      "\ttrain RMSE = 1.574\n",
      "\ttest RMSE = 1.388\n",
      "Iteration 88\n",
      "\ttrain RMSE = 1.548\n",
      "\ttest RMSE = 1.375\n",
      "Iteration 89\n",
      "\ttrain RMSE = 1.527\n",
      "\ttest RMSE = 1.389\n",
      "Iteration 90\n",
      "\ttrain RMSE = 1.535\n",
      "\ttest RMSE = 1.410\n",
      "Iteration 91\n",
      "\ttrain RMSE = 1.532\n",
      "\ttest RMSE = 1.391\n",
      "Iteration 92\n",
      "\ttrain RMSE = 1.557\n",
      "\ttest RMSE = 1.377\n",
      "Iteration 93\n",
      "\ttrain RMSE = 1.603\n",
      "\ttest RMSE = 1.403\n",
      "Iteration 94\n",
      "\ttrain RMSE = 1.585\n",
      "\ttest RMSE = 1.391\n",
      "Iteration 95\n",
      "\ttrain RMSE = 1.546\n",
      "\ttest RMSE = 1.376\n",
      "Iteration 96\n",
      "\ttrain RMSE = 1.542\n",
      "\ttest RMSE = 1.403\n",
      "Iteration 97\n",
      "\ttrain RMSE = 1.548\n",
      "\ttest RMSE = 1.420\n",
      "Iteration 98\n",
      "\ttrain RMSE = 1.544\n",
      "\ttest RMSE = 1.395\n",
      "Iteration 99\n",
      "\ttrain RMSE = 1.570\n",
      "\ttest RMSE = 1.387\n",
      "Iteration 100\n",
      "\ttrain RMSE = 1.586\n",
      "\ttest RMSE = 1.393\n",
      "Iteration 101\n",
      "\ttrain RMSE = 1.556\n",
      "\ttest RMSE = 1.375\n",
      "Iteration 102\n",
      "\ttrain RMSE = 1.541\n",
      "\ttest RMSE = 1.374\n",
      "Iteration 103\n",
      "\ttrain RMSE = 1.538\n",
      "\ttest RMSE = 1.376\n",
      "Iteration 104\n",
      "\ttrain RMSE = 1.537\n",
      "\ttest RMSE = 1.370\n",
      "Iteration 105\n",
      "\ttrain RMSE = 1.541\n",
      "\ttest RMSE = 1.364\n",
      "Iteration 106\n",
      "\ttrain RMSE = 1.542\n",
      "\ttest RMSE = 1.365\n",
      "Iteration 107\n",
      "\ttrain RMSE = 1.547\n",
      "\ttest RMSE = 1.367\n",
      "Iteration 108\n",
      "\ttrain RMSE = 1.545\n",
      "\ttest RMSE = 1.371\n",
      "Iteration 109\n",
      "\ttrain RMSE = 1.543\n",
      "\ttest RMSE = 1.375\n",
      "Iteration 110\n",
      "\ttrain RMSE = 1.540\n",
      "\ttest RMSE = 1.380\n",
      "Iteration 111\n",
      "\ttrain RMSE = 1.544\n",
      "\ttest RMSE = 1.383\n",
      "Iteration 112\n",
      "\ttrain RMSE = 1.555\n",
      "\ttest RMSE = 1.383\n",
      "Iteration 113\n",
      "\ttrain RMSE = 1.561\n",
      "\ttest RMSE = 1.391\n",
      "Iteration 114\n",
      "\ttrain RMSE = 1.568\n",
      "\ttest RMSE = 1.397\n",
      "Iteration 115\n",
      "\ttrain RMSE = 1.571\n",
      "\ttest RMSE = 1.396\n",
      "Iteration 116\n",
      "\ttrain RMSE = 1.571\n",
      "\ttest RMSE = 1.392\n",
      "Iteration 117\n",
      "\ttrain RMSE = 1.567\n",
      "\ttest RMSE = 1.392\n",
      "Iteration 118\n",
      "\ttrain RMSE = 1.561\n",
      "\ttest RMSE = 1.402\n",
      "Iteration 119\n",
      "\ttrain RMSE = 1.558\n",
      "\ttest RMSE = 1.403\n",
      "Iteration 120\n",
      "\ttrain RMSE = 1.559\n",
      "\ttest RMSE = 1.387\n",
      "Iteration 121\n",
      "\ttrain RMSE = 1.560\n",
      "\ttest RMSE = 1.387\n",
      "Iteration 122\n",
      "\ttrain RMSE = 1.564\n",
      "\ttest RMSE = 1.387\n",
      "Iteration 123\n",
      "\ttrain RMSE = 1.564\n",
      "\ttest RMSE = 1.387\n",
      "Iteration 124\n",
      "\ttrain RMSE = 1.557\n",
      "\ttest RMSE = 1.405\n",
      "Iteration 125\n",
      "\ttrain RMSE = 1.563\n",
      "\ttest RMSE = 1.404\n",
      "Iteration 126\n",
      "\ttrain RMSE = 1.570\n",
      "\ttest RMSE = 1.396\n",
      "Iteration 127\n",
      "\ttrain RMSE = 1.580\n",
      "\ttest RMSE = 1.397\n",
      "Iteration 128\n",
      "\ttrain RMSE = 1.586\n",
      "\ttest RMSE = 1.397\n",
      "Iteration 129\n",
      "\ttrain RMSE = 1.592\n",
      "\ttest RMSE = 1.406\n",
      "Iteration 130\n",
      "\ttrain RMSE = 1.596\n",
      "\ttest RMSE = 1.414\n",
      "Iteration 131\n",
      "\ttrain RMSE = 1.590\n",
      "\ttest RMSE = 1.418\n",
      "Iteration 132\n",
      "\ttrain RMSE = 1.586\n",
      "\ttest RMSE = 1.405\n",
      "Iteration 133\n",
      "\ttrain RMSE = 1.586\n",
      "\ttest RMSE = 1.406\n",
      "Iteration 134\n",
      "\ttrain RMSE = 1.580\n",
      "\ttest RMSE = 1.417\n",
      "Iteration 135\n",
      "\ttrain RMSE = 1.580\n",
      "\ttest RMSE = 1.430\n",
      "Iteration 136\n",
      "\ttrain RMSE = 1.590\n",
      "\ttest RMSE = 1.419\n",
      "Iteration 137\n",
      "\ttrain RMSE = 1.611\n",
      "\ttest RMSE = 1.419\n",
      "Iteration 138\n",
      "\ttrain RMSE = 1.620\n",
      "\ttest RMSE = 1.424\n",
      "Iteration 139\n",
      "\ttrain RMSE = 1.631\n",
      "\ttest RMSE = 1.434\n",
      "Iteration 140\n",
      "\ttrain RMSE = 1.636\n",
      "\ttest RMSE = 1.454\n",
      "Iteration 141\n",
      "\ttrain RMSE = 1.636\n",
      "\ttest RMSE = 1.458\n",
      "Iteration 142\n",
      "\ttrain RMSE = 1.641\n",
      "\ttest RMSE = 1.451\n",
      "Iteration 143\n",
      "\ttrain RMSE = 1.653\n",
      "\ttest RMSE = 1.451\n",
      "Iteration 144\n",
      "\ttrain RMSE = 1.653\n",
      "\ttest RMSE = 1.457\n",
      "Iteration 145\n",
      "\ttrain RMSE = 1.640\n",
      "\ttest RMSE = 1.457\n",
      "Iteration 146\n",
      "\ttrain RMSE = 1.640\n",
      "\ttest RMSE = 1.454\n",
      "Iteration 147\n",
      "\ttrain RMSE = 1.638\n",
      "\ttest RMSE = 1.450\n",
      "Iteration 148\n",
      "\ttrain RMSE = 1.646\n",
      "\ttest RMSE = 1.448\n",
      "Iteration 149\n",
      "\ttrain RMSE = 1.640\n",
      "\ttest RMSE = 1.450\n",
      "Iteration 150\n",
      "\ttrain RMSE = 1.637\n",
      "\ttest RMSE = 1.454\n",
      "Iteration 151\n",
      "\ttrain RMSE = 1.631\n",
      "\ttest RMSE = 1.454\n",
      "Iteration 152\n",
      "\ttrain RMSE = 1.639\n",
      "\ttest RMSE = 1.442\n",
      "Iteration 153\n",
      "\ttrain RMSE = 1.667\n",
      "\ttest RMSE = 1.451\n",
      "Iteration 154\n",
      "\ttrain RMSE = 1.658\n",
      "\ttest RMSE = 1.444\n",
      "Iteration 155\n",
      "\ttrain RMSE = 1.667\n",
      "\ttest RMSE = 1.477\n"
     ]
    },
    {
     "name": "stdout",
     "output_type": "stream",
     "text": [
      "Iteration 156\n",
      "\ttrain RMSE = 1.688\n",
      "\ttest RMSE = 1.506\n",
      "Iteration 157\n",
      "\ttrain RMSE = 1.693\n",
      "\ttest RMSE = 1.481\n",
      "Iteration 158\n",
      "\ttrain RMSE = 1.721\n",
      "\ttest RMSE = 1.478\n",
      "Iteration 159\n",
      "\ttrain RMSE = 1.749\n",
      "\ttest RMSE = 1.499\n",
      "Iteration 160\n",
      "\ttrain RMSE = 1.735\n",
      "\ttest RMSE = 1.492\n",
      "Iteration 161\n",
      "\ttrain RMSE = 1.707\n",
      "\ttest RMSE = 1.488\n",
      "Iteration 162\n",
      "\ttrain RMSE = 1.696\n",
      "\ttest RMSE = 1.508\n",
      "Iteration 163\n",
      "\ttrain RMSE = 1.674\n",
      "\ttest RMSE = 1.499\n",
      "Iteration 164\n",
      "\ttrain RMSE = 1.644\n",
      "\ttest RMSE = 1.478\n",
      "Iteration 165\n",
      "\ttrain RMSE = 1.631\n",
      "\ttest RMSE = 1.472\n",
      "Iteration 166\n",
      "\ttrain RMSE = 1.627\n",
      "\ttest RMSE = 1.484\n",
      "Iteration 167\n",
      "\ttrain RMSE = 1.632\n",
      "\ttest RMSE = 1.496\n",
      "Iteration 168\n",
      "\ttrain RMSE = 1.646\n",
      "\ttest RMSE = 1.521\n",
      "Iteration 169\n",
      "\ttrain RMSE = 1.670\n",
      "\ttest RMSE = 1.537\n",
      "Iteration 170\n",
      "\ttrain RMSE = 1.707\n",
      "\ttest RMSE = 1.538\n",
      "Iteration 171\n",
      "\ttrain RMSE = 1.730\n",
      "\ttest RMSE = 1.551\n",
      "Iteration 172\n",
      "\ttrain RMSE = 1.752\n",
      "\ttest RMSE = 1.578\n",
      "Iteration 173\n",
      "\ttrain RMSE = 1.754\n",
      "\ttest RMSE = 1.571\n",
      "Iteration 174\n",
      "\ttrain RMSE = 1.743\n",
      "\ttest RMSE = 1.542\n",
      "Iteration 175\n",
      "\ttrain RMSE = 1.749\n",
      "\ttest RMSE = 1.533\n",
      "Iteration 176\n",
      "\ttrain RMSE = 1.731\n",
      "\ttest RMSE = 1.522\n",
      "Iteration 177\n",
      "\ttrain RMSE = 1.721\n",
      "\ttest RMSE = 1.524\n",
      "Iteration 178\n",
      "\ttrain RMSE = 1.738\n",
      "\ttest RMSE = 1.533\n",
      "Iteration 179\n",
      "\ttrain RMSE = 1.765\n",
      "\ttest RMSE = 1.541\n",
      "Iteration 180\n",
      "\ttrain RMSE = 1.793\n",
      "\ttest RMSE = 1.553\n",
      "Iteration 181\n",
      "\ttrain RMSE = 1.813\n",
      "\ttest RMSE = 1.560\n",
      "Iteration 182\n",
      "\ttrain RMSE = 1.821\n",
      "\ttest RMSE = 1.563\n",
      "Iteration 183\n",
      "\ttrain RMSE = 1.803\n",
      "\ttest RMSE = 1.564\n",
      "Iteration 184\n",
      "\ttrain RMSE = 1.766\n",
      "\ttest RMSE = 1.552\n",
      "Iteration 185\n",
      "\ttrain RMSE = 1.729\n",
      "\ttest RMSE = 1.522\n",
      "Iteration 186\n",
      "\ttrain RMSE = 1.720\n",
      "\ttest RMSE = 1.509\n",
      "Iteration 187\n",
      "\ttrain RMSE = 1.715\n",
      "\ttest RMSE = 1.506\n",
      "Iteration 188\n",
      "\ttrain RMSE = 1.711\n",
      "\ttest RMSE = 1.518\n",
      "Iteration 189\n",
      "\ttrain RMSE = 1.725\n",
      "\ttest RMSE = 1.530\n",
      "Iteration 190\n",
      "\ttrain RMSE = 1.733\n",
      "\ttest RMSE = 1.516\n",
      "Iteration 191\n",
      "\ttrain RMSE = 1.755\n",
      "\ttest RMSE = 1.506\n",
      "Iteration 192\n",
      "\ttrain RMSE = 1.771\n",
      "\ttest RMSE = 1.511\n",
      "Iteration 193\n",
      "\ttrain RMSE = 1.760\n",
      "\ttest RMSE = 1.508\n",
      "Iteration 194\n",
      "\ttrain RMSE = 1.756\n",
      "\ttest RMSE = 1.528\n",
      "Iteration 195\n",
      "\ttrain RMSE = 1.768\n",
      "\ttest RMSE = 1.548\n",
      "Iteration 196\n",
      "\ttrain RMSE = 1.770\n",
      "\ttest RMSE = 1.530\n",
      "Iteration 197\n",
      "\ttrain RMSE = 1.766\n",
      "\ttest RMSE = 1.512\n",
      "Iteration 198\n",
      "\ttrain RMSE = 1.759\n",
      "\ttest RMSE = 1.507\n",
      "Iteration 199\n",
      "\ttrain RMSE = 1.726\n",
      "\ttest RMSE = 1.505\n",
      "Iteration 200\n",
      "\ttrain RMSE = 1.711\n",
      "\ttest RMSE = 1.537\n",
      "Iteration 201\n",
      "\ttrain RMSE = 1.705\n",
      "\ttest RMSE = 1.534\n",
      "Iteration 202\n",
      "\ttrain RMSE = 1.713\n",
      "\ttest RMSE = 1.515\n",
      "Iteration 203\n",
      "\ttrain RMSE = 1.741\n",
      "\ttest RMSE = 1.525\n",
      "Iteration 204\n",
      "\ttrain RMSE = 1.740\n",
      "\ttest RMSE = 1.524\n",
      "Iteration 205\n",
      "\ttrain RMSE = 1.753\n",
      "\ttest RMSE = 1.551\n",
      "Iteration 206\n",
      "\ttrain RMSE = 1.778\n",
      "\ttest RMSE = 1.576\n",
      "Iteration 207\n",
      "\ttrain RMSE = 1.770\n",
      "\ttest RMSE = 1.555\n",
      "Iteration 208\n",
      "\ttrain RMSE = 1.765\n",
      "\ttest RMSE = 1.529\n",
      "Iteration 209\n",
      "\ttrain RMSE = 1.760\n",
      "\ttest RMSE = 1.523\n",
      "Iteration 210\n",
      "\ttrain RMSE = 1.747\n",
      "\ttest RMSE = 1.522\n",
      "Iteration 211\n",
      "\ttrain RMSE = 1.740\n",
      "\ttest RMSE = 1.544\n",
      "Iteration 212\n",
      "\ttrain RMSE = 1.732\n",
      "\ttest RMSE = 1.546\n",
      "Iteration 213\n",
      "\ttrain RMSE = 1.723\n",
      "\ttest RMSE = 1.519\n",
      "Iteration 214\n",
      "\ttrain RMSE = 1.730\n",
      "\ttest RMSE = 1.510\n",
      "Iteration 215\n",
      "\ttrain RMSE = 1.726\n",
      "\ttest RMSE = 1.510\n",
      "Iteration 216\n",
      "\ttrain RMSE = 1.723\n",
      "\ttest RMSE = 1.525\n",
      "Iteration 217\n",
      "\ttrain RMSE = 1.716\n",
      "\ttest RMSE = 1.538\n",
      "Iteration 218\n",
      "\ttrain RMSE = 1.705\n",
      "\ttest RMSE = 1.515\n",
      "Iteration 219\n",
      "\ttrain RMSE = 1.727\n",
      "\ttest RMSE = 1.509\n",
      "Iteration 220\n",
      "\ttrain RMSE = 1.728\n",
      "\ttest RMSE = 1.505\n",
      "Iteration 221\n",
      "\ttrain RMSE = 1.722\n",
      "\ttest RMSE = 1.510\n",
      "Iteration 222\n",
      "\ttrain RMSE = 1.723\n",
      "\ttest RMSE = 1.505\n",
      "Iteration 223\n",
      "\ttrain RMSE = 1.734\n",
      "\ttest RMSE = 1.497\n",
      "Iteration 224\n",
      "\ttrain RMSE = 1.762\n",
      "\ttest RMSE = 1.500\n",
      "Iteration 225\n",
      "\ttrain RMSE = 1.776\n",
      "\ttest RMSE = 1.505\n",
      "Iteration 226\n",
      "\ttrain RMSE = 1.779\n",
      "\ttest RMSE = 1.512\n",
      "Iteration 227\n",
      "\ttrain RMSE = 1.784\n",
      "\ttest RMSE = 1.529\n",
      "Iteration 228\n",
      "\ttrain RMSE = 1.772\n",
      "\ttest RMSE = 1.523\n",
      "Iteration 229\n",
      "\ttrain RMSE = 1.762\n",
      "\ttest RMSE = 1.509\n",
      "Iteration 230\n",
      "\ttrain RMSE = 1.757\n",
      "\ttest RMSE = 1.506\n",
      "Iteration 231\n",
      "\ttrain RMSE = 1.752\n",
      "\ttest RMSE = 1.511\n",
      "Iteration 232\n",
      "\ttrain RMSE = 1.749\n",
      "\ttest RMSE = 1.529\n",
      "Iteration 233\n",
      "\ttrain RMSE = 1.751\n",
      "\ttest RMSE = 1.553\n",
      "Iteration 234\n",
      "\ttrain RMSE = 1.751\n",
      "\ttest RMSE = 1.546\n",
      "Iteration 235\n",
      "\ttrain RMSE = 1.750\n",
      "\ttest RMSE = 1.545\n",
      "Iteration 236\n",
      "\ttrain RMSE = 1.748\n",
      "\ttest RMSE = 1.551\n",
      "Iteration 237\n",
      "\ttrain RMSE = 1.750\n",
      "\ttest RMSE = 1.562\n",
      "Iteration 238\n",
      "\ttrain RMSE = 1.758\n",
      "\ttest RMSE = 1.556\n",
      "Iteration 239\n",
      "\ttrain RMSE = 1.782\n",
      "\ttest RMSE = 1.548\n",
      "Iteration 240\n",
      "\ttrain RMSE = 1.792\n",
      "\ttest RMSE = 1.548\n",
      "Iteration 241\n",
      "\ttrain RMSE = 1.787\n",
      "\ttest RMSE = 1.553\n",
      "Iteration 242\n",
      "\ttrain RMSE = 1.803\n",
      "\ttest RMSE = 1.564\n"
     ]
    },
    {
     "ename": "KeyboardInterrupt",
     "evalue": "",
     "output_type": "error",
     "traceback": [
      "\u001b[0;31m---------------------------------------------------------------------------\u001b[0m",
      "\u001b[0;31mKeyboardInterrupt\u001b[0m                         Traceback (most recent call last)",
      "\u001b[0;32m<ipython-input-39-0b4a7956fdb2>\u001b[0m in \u001b[0;36m<module>\u001b[0;34m\u001b[0m\n\u001b[1;32m     22\u001b[0m     \u001b[0mprint\u001b[0m\u001b[0;34m(\u001b[0m\u001b[0;34m'Iteration {}\\n\\ttrain RMSE = {:.3f}\\n\\ttest RMSE = {:.3f}'\u001b[0m\u001b[0;34m.\u001b[0m\u001b[0mformat\u001b[0m\u001b[0;34m(\u001b[0m\u001b[0mi\u001b[0m\u001b[0;34m,\u001b[0m \u001b[0mtrain_rmse\u001b[0m\u001b[0;34m,\u001b[0m \u001b[0mtest_rmse\u001b[0m\u001b[0;34m)\u001b[0m\u001b[0;34m)\u001b[0m\u001b[0;34m\u001b[0m\u001b[0;34m\u001b[0m\u001b[0m\n\u001b[1;32m     23\u001b[0m     \u001b[0mtraj\u001b[0m\u001b[0;34m.\u001b[0m\u001b[0mappend\u001b[0m\u001b[0;34m(\u001b[0m\u001b[0;34m(\u001b[0m\u001b[0mx\u001b[0m\u001b[0;34m,\u001b[0m\u001b[0mi\u001b[0m\u001b[0;34m,\u001b[0m\u001b[0mg\u001b[0m\u001b[0;34m)\u001b[0m\u001b[0;34m)\u001b[0m\u001b[0;34m\u001b[0m\u001b[0;34m\u001b[0m\u001b[0m\n\u001b[0;32m---> 24\u001b[0;31m \u001b[0mresult\u001b[0m \u001b[0;34m=\u001b[0m \u001b[0madam\u001b[0m\u001b[0;34m(\u001b[0m\u001b[0mgrad_loss\u001b[0m\u001b[0;34m,\u001b[0m \u001b[0mparams\u001b[0m\u001b[0;34m,\u001b[0m \u001b[0mcallback\u001b[0m\u001b[0;34m=\u001b[0m\u001b[0mcallback\u001b[0m\u001b[0;34m,\u001b[0m \u001b[0mnum_iters\u001b[0m\u001b[0;34m=\u001b[0m\u001b[0;36m500\u001b[0m\u001b[0;34m)\u001b[0m\u001b[0;34m\u001b[0m\u001b[0;34m\u001b[0m\u001b[0m\n\u001b[0m",
      "\u001b[0;32m~/anaconda3/lib/python3.7/site-packages/autograd/misc/optimizers.py\u001b[0m in \u001b[0;36m_optimize\u001b[0;34m(grad, x0, callback, *args, **kwargs)\u001b[0m\n\u001b[1;32m     26\u001b[0m         \u001b[0;32melse\u001b[0m\u001b[0;34m:\u001b[0m\u001b[0;34m\u001b[0m\u001b[0;34m\u001b[0m\u001b[0m\n\u001b[1;32m     27\u001b[0m             \u001b[0m_callback\u001b[0m \u001b[0;34m=\u001b[0m \u001b[0;32mNone\u001b[0m\u001b[0;34m\u001b[0m\u001b[0;34m\u001b[0m\u001b[0m\n\u001b[0;32m---> 28\u001b[0;31m         \u001b[0;32mreturn\u001b[0m \u001b[0munflatten\u001b[0m\u001b[0;34m(\u001b[0m\u001b[0moptimize\u001b[0m\u001b[0;34m(\u001b[0m\u001b[0m_grad\u001b[0m\u001b[0;34m,\u001b[0m \u001b[0m_x0\u001b[0m\u001b[0;34m,\u001b[0m \u001b[0m_callback\u001b[0m\u001b[0;34m,\u001b[0m \u001b[0;34m*\u001b[0m\u001b[0margs\u001b[0m\u001b[0;34m,\u001b[0m \u001b[0;34m**\u001b[0m\u001b[0mkwargs\u001b[0m\u001b[0;34m)\u001b[0m\u001b[0;34m)\u001b[0m\u001b[0;34m\u001b[0m\u001b[0;34m\u001b[0m\u001b[0m\n\u001b[0m\u001b[1;32m     29\u001b[0m \u001b[0;34m\u001b[0m\u001b[0m\n\u001b[1;32m     30\u001b[0m     \u001b[0;32mreturn\u001b[0m \u001b[0m_optimize\u001b[0m\u001b[0;34m\u001b[0m\u001b[0;34m\u001b[0m\u001b[0m\n",
      "\u001b[0;32m~/anaconda3/lib/python3.7/site-packages/autograd/misc/optimizers.py\u001b[0m in \u001b[0;36madam\u001b[0;34m(grad, x, callback, num_iters, step_size, b1, b2, eps)\u001b[0m\n\u001b[1;32m     62\u001b[0m     \u001b[0mv\u001b[0m \u001b[0;34m=\u001b[0m \u001b[0mnp\u001b[0m\u001b[0;34m.\u001b[0m\u001b[0mzeros\u001b[0m\u001b[0;34m(\u001b[0m\u001b[0mlen\u001b[0m\u001b[0;34m(\u001b[0m\u001b[0mx\u001b[0m\u001b[0;34m)\u001b[0m\u001b[0;34m)\u001b[0m\u001b[0;34m\u001b[0m\u001b[0;34m\u001b[0m\u001b[0m\n\u001b[1;32m     63\u001b[0m     \u001b[0;32mfor\u001b[0m \u001b[0mi\u001b[0m \u001b[0;32min\u001b[0m \u001b[0mrange\u001b[0m\u001b[0;34m(\u001b[0m\u001b[0mnum_iters\u001b[0m\u001b[0;34m)\u001b[0m\u001b[0;34m:\u001b[0m\u001b[0;34m\u001b[0m\u001b[0;34m\u001b[0m\u001b[0m\n\u001b[0;32m---> 64\u001b[0;31m         \u001b[0mg\u001b[0m \u001b[0;34m=\u001b[0m \u001b[0mgrad\u001b[0m\u001b[0;34m(\u001b[0m\u001b[0mx\u001b[0m\u001b[0;34m,\u001b[0m \u001b[0mi\u001b[0m\u001b[0;34m)\u001b[0m\u001b[0;34m\u001b[0m\u001b[0;34m\u001b[0m\u001b[0m\n\u001b[0m\u001b[1;32m     65\u001b[0m         \u001b[0;32mif\u001b[0m \u001b[0mcallback\u001b[0m\u001b[0;34m:\u001b[0m \u001b[0mcallback\u001b[0m\u001b[0;34m(\u001b[0m\u001b[0mx\u001b[0m\u001b[0;34m,\u001b[0m \u001b[0mi\u001b[0m\u001b[0;34m,\u001b[0m \u001b[0mg\u001b[0m\u001b[0;34m)\u001b[0m\u001b[0;34m\u001b[0m\u001b[0;34m\u001b[0m\u001b[0m\n\u001b[1;32m     66\u001b[0m         \u001b[0mm\u001b[0m \u001b[0;34m=\u001b[0m \u001b[0;34m(\u001b[0m\u001b[0;36m1\u001b[0m \u001b[0;34m-\u001b[0m \u001b[0mb1\u001b[0m\u001b[0;34m)\u001b[0m \u001b[0;34m*\u001b[0m \u001b[0mg\u001b[0m      \u001b[0;34m+\u001b[0m \u001b[0mb1\u001b[0m \u001b[0;34m*\u001b[0m \u001b[0mm\u001b[0m  \u001b[0;31m# First  moment estimate.\u001b[0m\u001b[0;34m\u001b[0m\u001b[0;34m\u001b[0m\u001b[0m\n",
      "\u001b[0;32m~/anaconda3/lib/python3.7/site-packages/autograd/misc/optimizers.py\u001b[0m in \u001b[0;36m<lambda>\u001b[0;34m(x, i)\u001b[0m\n\u001b[1;32m     21\u001b[0m     \u001b[0;32mdef\u001b[0m \u001b[0m_optimize\u001b[0m\u001b[0;34m(\u001b[0m\u001b[0mgrad\u001b[0m\u001b[0;34m,\u001b[0m \u001b[0mx0\u001b[0m\u001b[0;34m,\u001b[0m \u001b[0mcallback\u001b[0m\u001b[0;34m=\u001b[0m\u001b[0;32mNone\u001b[0m\u001b[0;34m,\u001b[0m \u001b[0;34m*\u001b[0m\u001b[0margs\u001b[0m\u001b[0;34m,\u001b[0m \u001b[0;34m**\u001b[0m\u001b[0mkwargs\u001b[0m\u001b[0;34m)\u001b[0m\u001b[0;34m:\u001b[0m\u001b[0;34m\u001b[0m\u001b[0;34m\u001b[0m\u001b[0m\n\u001b[1;32m     22\u001b[0m         \u001b[0m_x0\u001b[0m\u001b[0;34m,\u001b[0m \u001b[0munflatten\u001b[0m \u001b[0;34m=\u001b[0m \u001b[0mflatten\u001b[0m\u001b[0;34m(\u001b[0m\u001b[0mx0\u001b[0m\u001b[0;34m)\u001b[0m\u001b[0;34m\u001b[0m\u001b[0;34m\u001b[0m\u001b[0m\n\u001b[0;32m---> 23\u001b[0;31m         \u001b[0m_grad\u001b[0m \u001b[0;34m=\u001b[0m \u001b[0;32mlambda\u001b[0m \u001b[0mx\u001b[0m\u001b[0;34m,\u001b[0m \u001b[0mi\u001b[0m\u001b[0;34m:\u001b[0m \u001b[0mflatten\u001b[0m\u001b[0;34m(\u001b[0m\u001b[0mgrad\u001b[0m\u001b[0;34m(\u001b[0m\u001b[0munflatten\u001b[0m\u001b[0;34m(\u001b[0m\u001b[0mx\u001b[0m\u001b[0;34m)\u001b[0m\u001b[0;34m,\u001b[0m \u001b[0mi\u001b[0m\u001b[0;34m)\u001b[0m\u001b[0;34m)\u001b[0m\u001b[0;34m[\u001b[0m\u001b[0;36m0\u001b[0m\u001b[0;34m]\u001b[0m\u001b[0;34m\u001b[0m\u001b[0;34m\u001b[0m\u001b[0m\n\u001b[0m\u001b[1;32m     24\u001b[0m         \u001b[0;32mif\u001b[0m \u001b[0mcallback\u001b[0m\u001b[0;34m:\u001b[0m\u001b[0;34m\u001b[0m\u001b[0;34m\u001b[0m\u001b[0m\n\u001b[1;32m     25\u001b[0m             \u001b[0m_callback\u001b[0m \u001b[0;34m=\u001b[0m \u001b[0;32mlambda\u001b[0m \u001b[0mx\u001b[0m\u001b[0;34m,\u001b[0m \u001b[0mi\u001b[0m\u001b[0;34m,\u001b[0m \u001b[0mg\u001b[0m\u001b[0;34m:\u001b[0m \u001b[0mcallback\u001b[0m\u001b[0;34m(\u001b[0m\u001b[0munflatten\u001b[0m\u001b[0;34m(\u001b[0m\u001b[0mx\u001b[0m\u001b[0;34m)\u001b[0m\u001b[0;34m,\u001b[0m \u001b[0mi\u001b[0m\u001b[0;34m,\u001b[0m \u001b[0munflatten\u001b[0m\u001b[0;34m(\u001b[0m\u001b[0mg\u001b[0m\u001b[0;34m)\u001b[0m\u001b[0;34m)\u001b[0m\u001b[0;34m\u001b[0m\u001b[0;34m\u001b[0m\u001b[0m\n",
      "\u001b[0;32m<ipython-input-39-0b4a7956fdb2>\u001b[0m in \u001b[0;36mgrad_loss\u001b[0;34m(x, i)\u001b[0m\n\u001b[1;32m      5\u001b[0m \u001b[0;34m\u001b[0m\u001b[0m\n\u001b[1;32m      6\u001b[0m \u001b[0;32mdef\u001b[0m \u001b[0mgrad_loss\u001b[0m\u001b[0;34m(\u001b[0m\u001b[0mx\u001b[0m\u001b[0;34m,\u001b[0m \u001b[0mi\u001b[0m\u001b[0;34m)\u001b[0m\u001b[0;34m:\u001b[0m\u001b[0;34m\u001b[0m\u001b[0;34m\u001b[0m\u001b[0m\n\u001b[0;32m----> 7\u001b[0;31m     \u001b[0;32mreturn\u001b[0m \u001b[0mgrad\u001b[0m\u001b[0;34m(\u001b[0m\u001b[0mloss\u001b[0m\u001b[0;34m)\u001b[0m\u001b[0;34m(\u001b[0m\u001b[0mx\u001b[0m\u001b[0;34m)\u001b[0m\u001b[0;34m\u001b[0m\u001b[0;34m\u001b[0m\u001b[0m\n\u001b[0m\u001b[1;32m      8\u001b[0m \u001b[0;34m\u001b[0m\u001b[0m\n\u001b[1;32m      9\u001b[0m \u001b[0;34m\u001b[0m\u001b[0m\n",
      "\u001b[0;32m~/anaconda3/lib/python3.7/site-packages/autograd/wrap_util.py\u001b[0m in \u001b[0;36mnary_f\u001b[0;34m(*args, **kwargs)\u001b[0m\n\u001b[1;32m     18\u001b[0m             \u001b[0;32melse\u001b[0m\u001b[0;34m:\u001b[0m\u001b[0;34m\u001b[0m\u001b[0;34m\u001b[0m\u001b[0m\n\u001b[1;32m     19\u001b[0m                 \u001b[0mx\u001b[0m \u001b[0;34m=\u001b[0m \u001b[0mtuple\u001b[0m\u001b[0;34m(\u001b[0m\u001b[0margs\u001b[0m\u001b[0;34m[\u001b[0m\u001b[0mi\u001b[0m\u001b[0;34m]\u001b[0m \u001b[0;32mfor\u001b[0m \u001b[0mi\u001b[0m \u001b[0;32min\u001b[0m \u001b[0margnum\u001b[0m\u001b[0;34m)\u001b[0m\u001b[0;34m\u001b[0m\u001b[0;34m\u001b[0m\u001b[0m\n\u001b[0;32m---> 20\u001b[0;31m             \u001b[0;32mreturn\u001b[0m \u001b[0munary_operator\u001b[0m\u001b[0;34m(\u001b[0m\u001b[0munary_f\u001b[0m\u001b[0;34m,\u001b[0m \u001b[0mx\u001b[0m\u001b[0;34m,\u001b[0m \u001b[0;34m*\u001b[0m\u001b[0mnary_op_args\u001b[0m\u001b[0;34m,\u001b[0m \u001b[0;34m**\u001b[0m\u001b[0mnary_op_kwargs\u001b[0m\u001b[0;34m)\u001b[0m\u001b[0;34m\u001b[0m\u001b[0;34m\u001b[0m\u001b[0m\n\u001b[0m\u001b[1;32m     21\u001b[0m         \u001b[0;32mreturn\u001b[0m \u001b[0mnary_f\u001b[0m\u001b[0;34m\u001b[0m\u001b[0;34m\u001b[0m\u001b[0m\n\u001b[1;32m     22\u001b[0m     \u001b[0;32mreturn\u001b[0m \u001b[0mnary_operator\u001b[0m\u001b[0;34m\u001b[0m\u001b[0;34m\u001b[0m\u001b[0m\n",
      "\u001b[0;32m~/anaconda3/lib/python3.7/site-packages/autograd/differential_operators.py\u001b[0m in \u001b[0;36mgrad\u001b[0;34m(fun, x)\u001b[0m\n\u001b[1;32m     26\u001b[0m         raise TypeError(\"Grad only applies to real scalar-output functions. \"\n\u001b[1;32m     27\u001b[0m                         \"Try jacobian or elementwise_grad.\")\n\u001b[0;32m---> 28\u001b[0;31m     \u001b[0;32mreturn\u001b[0m \u001b[0mvjp\u001b[0m\u001b[0;34m(\u001b[0m\u001b[0mvspace\u001b[0m\u001b[0;34m(\u001b[0m\u001b[0mans\u001b[0m\u001b[0;34m)\u001b[0m\u001b[0;34m.\u001b[0m\u001b[0mones\u001b[0m\u001b[0;34m(\u001b[0m\u001b[0;34m)\u001b[0m\u001b[0;34m)\u001b[0m\u001b[0;34m\u001b[0m\u001b[0;34m\u001b[0m\u001b[0m\n\u001b[0m\u001b[1;32m     29\u001b[0m \u001b[0;34m\u001b[0m\u001b[0m\n\u001b[1;32m     30\u001b[0m \u001b[0;34m@\u001b[0m\u001b[0munary_to_nary\u001b[0m\u001b[0;34m\u001b[0m\u001b[0;34m\u001b[0m\u001b[0m\n",
      "\u001b[0;32m~/anaconda3/lib/python3.7/site-packages/autograd/core.py\u001b[0m in \u001b[0;36mvjp\u001b[0;34m(g)\u001b[0m\n\u001b[1;32m     12\u001b[0m         \u001b[0;32mdef\u001b[0m \u001b[0mvjp\u001b[0m\u001b[0;34m(\u001b[0m\u001b[0mg\u001b[0m\u001b[0;34m)\u001b[0m\u001b[0;34m:\u001b[0m \u001b[0;32mreturn\u001b[0m \u001b[0mvspace\u001b[0m\u001b[0;34m(\u001b[0m\u001b[0mx\u001b[0m\u001b[0;34m)\u001b[0m\u001b[0;34m.\u001b[0m\u001b[0mzeros\u001b[0m\u001b[0;34m(\u001b[0m\u001b[0;34m)\u001b[0m\u001b[0;34m\u001b[0m\u001b[0;34m\u001b[0m\u001b[0m\n\u001b[1;32m     13\u001b[0m     \u001b[0;32melse\u001b[0m\u001b[0;34m:\u001b[0m\u001b[0;34m\u001b[0m\u001b[0;34m\u001b[0m\u001b[0m\n\u001b[0;32m---> 14\u001b[0;31m         \u001b[0;32mdef\u001b[0m \u001b[0mvjp\u001b[0m\u001b[0;34m(\u001b[0m\u001b[0mg\u001b[0m\u001b[0;34m)\u001b[0m\u001b[0;34m:\u001b[0m \u001b[0;32mreturn\u001b[0m \u001b[0mbackward_pass\u001b[0m\u001b[0;34m(\u001b[0m\u001b[0mg\u001b[0m\u001b[0;34m,\u001b[0m \u001b[0mend_node\u001b[0m\u001b[0;34m)\u001b[0m\u001b[0;34m\u001b[0m\u001b[0;34m\u001b[0m\u001b[0m\n\u001b[0m\u001b[1;32m     15\u001b[0m     \u001b[0;32mreturn\u001b[0m \u001b[0mvjp\u001b[0m\u001b[0;34m,\u001b[0m \u001b[0mend_value\u001b[0m\u001b[0;34m\u001b[0m\u001b[0;34m\u001b[0m\u001b[0m\n\u001b[1;32m     16\u001b[0m \u001b[0;34m\u001b[0m\u001b[0m\n",
      "\u001b[0;32m~/anaconda3/lib/python3.7/site-packages/autograd/core.py\u001b[0m in \u001b[0;36mbackward_pass\u001b[0;34m(g, end_node)\u001b[0m\n\u001b[1;32m     19\u001b[0m     \u001b[0;32mfor\u001b[0m \u001b[0mnode\u001b[0m \u001b[0;32min\u001b[0m \u001b[0mtoposort\u001b[0m\u001b[0;34m(\u001b[0m\u001b[0mend_node\u001b[0m\u001b[0;34m)\u001b[0m\u001b[0;34m:\u001b[0m\u001b[0;34m\u001b[0m\u001b[0;34m\u001b[0m\u001b[0m\n\u001b[1;32m     20\u001b[0m         \u001b[0moutgrad\u001b[0m \u001b[0;34m=\u001b[0m \u001b[0moutgrads\u001b[0m\u001b[0;34m.\u001b[0m\u001b[0mpop\u001b[0m\u001b[0;34m(\u001b[0m\u001b[0mnode\u001b[0m\u001b[0;34m)\u001b[0m\u001b[0;34m\u001b[0m\u001b[0;34m\u001b[0m\u001b[0m\n\u001b[0;32m---> 21\u001b[0;31m         \u001b[0mingrads\u001b[0m \u001b[0;34m=\u001b[0m \u001b[0mnode\u001b[0m\u001b[0;34m.\u001b[0m\u001b[0mvjp\u001b[0m\u001b[0;34m(\u001b[0m\u001b[0moutgrad\u001b[0m\u001b[0;34m[\u001b[0m\u001b[0;36m0\u001b[0m\u001b[0;34m]\u001b[0m\u001b[0;34m)\u001b[0m\u001b[0;34m\u001b[0m\u001b[0;34m\u001b[0m\u001b[0m\n\u001b[0m\u001b[1;32m     22\u001b[0m         \u001b[0;32mfor\u001b[0m \u001b[0mparent\u001b[0m\u001b[0;34m,\u001b[0m \u001b[0mingrad\u001b[0m \u001b[0;32min\u001b[0m \u001b[0mzip\u001b[0m\u001b[0;34m(\u001b[0m\u001b[0mnode\u001b[0m\u001b[0;34m.\u001b[0m\u001b[0mparents\u001b[0m\u001b[0;34m,\u001b[0m \u001b[0mingrads\u001b[0m\u001b[0;34m)\u001b[0m\u001b[0;34m:\u001b[0m\u001b[0;34m\u001b[0m\u001b[0;34m\u001b[0m\u001b[0m\n\u001b[1;32m     23\u001b[0m             \u001b[0moutgrads\u001b[0m\u001b[0;34m[\u001b[0m\u001b[0mparent\u001b[0m\u001b[0;34m]\u001b[0m \u001b[0;34m=\u001b[0m \u001b[0madd_outgrads\u001b[0m\u001b[0;34m(\u001b[0m\u001b[0moutgrads\u001b[0m\u001b[0;34m.\u001b[0m\u001b[0mget\u001b[0m\u001b[0;34m(\u001b[0m\u001b[0mparent\u001b[0m\u001b[0;34m)\u001b[0m\u001b[0;34m,\u001b[0m \u001b[0mingrad\u001b[0m\u001b[0;34m)\u001b[0m\u001b[0;34m\u001b[0m\u001b[0;34m\u001b[0m\u001b[0m\n",
      "\u001b[0;32m~/anaconda3/lib/python3.7/site-packages/autograd/core.py\u001b[0m in \u001b[0;36m<lambda>\u001b[0;34m(g)\u001b[0m\n\u001b[1;32m     59\u001b[0m                     \"VJP of {} wrt argnum 0 not defined\".format(fun.__name__))\n\u001b[1;32m     60\u001b[0m             \u001b[0mvjp\u001b[0m \u001b[0;34m=\u001b[0m \u001b[0mvjpfun\u001b[0m\u001b[0;34m(\u001b[0m\u001b[0mans\u001b[0m\u001b[0;34m,\u001b[0m \u001b[0;34m*\u001b[0m\u001b[0margs\u001b[0m\u001b[0;34m,\u001b[0m \u001b[0;34m**\u001b[0m\u001b[0mkwargs\u001b[0m\u001b[0;34m)\u001b[0m\u001b[0;34m\u001b[0m\u001b[0;34m\u001b[0m\u001b[0m\n\u001b[0;32m---> 61\u001b[0;31m             \u001b[0;32mreturn\u001b[0m \u001b[0;32mlambda\u001b[0m \u001b[0mg\u001b[0m\u001b[0;34m:\u001b[0m \u001b[0;34m(\u001b[0m\u001b[0mvjp\u001b[0m\u001b[0;34m(\u001b[0m\u001b[0mg\u001b[0m\u001b[0;34m)\u001b[0m\u001b[0;34m,\u001b[0m\u001b[0;34m)\u001b[0m\u001b[0;34m\u001b[0m\u001b[0;34m\u001b[0m\u001b[0m\n\u001b[0m\u001b[1;32m     62\u001b[0m         \u001b[0;32melif\u001b[0m \u001b[0mL\u001b[0m \u001b[0;34m==\u001b[0m \u001b[0;36m2\u001b[0m\u001b[0;34m:\u001b[0m\u001b[0;34m\u001b[0m\u001b[0;34m\u001b[0m\u001b[0m\n\u001b[1;32m     63\u001b[0m             \u001b[0margnum_0\u001b[0m\u001b[0;34m,\u001b[0m \u001b[0margnum_1\u001b[0m \u001b[0;34m=\u001b[0m \u001b[0margnums\u001b[0m\u001b[0;34m\u001b[0m\u001b[0;34m\u001b[0m\u001b[0m\n",
      "\u001b[0;32m~/anaconda3/lib/python3.7/site-packages/autograd/numpy/numpy_vjps.py\u001b[0m in \u001b[0;36m<lambda>\u001b[0;34m(g)\u001b[0m\n\u001b[1;32m    559\u001b[0m \u001b[0;32mdef\u001b[0m \u001b[0munbroadcast_f\u001b[0m\u001b[0;34m(\u001b[0m\u001b[0mtarget\u001b[0m\u001b[0;34m,\u001b[0m \u001b[0mf\u001b[0m\u001b[0;34m)\u001b[0m\u001b[0;34m:\u001b[0m\u001b[0;34m\u001b[0m\u001b[0;34m\u001b[0m\u001b[0m\n\u001b[1;32m    560\u001b[0m     \u001b[0mtarget_meta\u001b[0m \u001b[0;34m=\u001b[0m \u001b[0manp\u001b[0m\u001b[0;34m.\u001b[0m\u001b[0mmetadata\u001b[0m\u001b[0;34m(\u001b[0m\u001b[0mtarget\u001b[0m\u001b[0;34m)\u001b[0m\u001b[0;34m\u001b[0m\u001b[0;34m\u001b[0m\u001b[0m\n\u001b[0;32m--> 561\u001b[0;31m     \u001b[0;32mreturn\u001b[0m \u001b[0;32mlambda\u001b[0m \u001b[0mg\u001b[0m\u001b[0;34m:\u001b[0m \u001b[0munbroadcast\u001b[0m\u001b[0;34m(\u001b[0m\u001b[0mf\u001b[0m\u001b[0;34m(\u001b[0m\u001b[0mg\u001b[0m\u001b[0;34m)\u001b[0m\u001b[0;34m,\u001b[0m \u001b[0mtarget_meta\u001b[0m\u001b[0;34m)\u001b[0m\u001b[0;34m\u001b[0m\u001b[0;34m\u001b[0m\u001b[0m\n\u001b[0m\u001b[1;32m    562\u001b[0m \u001b[0;34m\u001b[0m\u001b[0m\n\u001b[1;32m    563\u001b[0m \u001b[0;32mdef\u001b[0m \u001b[0munbroadcast_einsum\u001b[0m\u001b[0;34m(\u001b[0m\u001b[0mx\u001b[0m\u001b[0;34m,\u001b[0m \u001b[0mtarget_meta\u001b[0m\u001b[0;34m,\u001b[0m \u001b[0msubscript\u001b[0m\u001b[0;34m)\u001b[0m\u001b[0;34m:\u001b[0m\u001b[0;34m\u001b[0m\u001b[0;34m\u001b[0m\u001b[0m\n",
      "\u001b[0;32m~/anaconda3/lib/python3.7/site-packages/autograd/numpy/numpy_vjps.py\u001b[0m in \u001b[0;36munbroadcast\u001b[0;34m(x, target_meta, broadcast_idx)\u001b[0m\n\u001b[1;32m    548\u001b[0m \u001b[0;32mdef\u001b[0m \u001b[0munbroadcast\u001b[0m\u001b[0;34m(\u001b[0m\u001b[0mx\u001b[0m\u001b[0;34m,\u001b[0m \u001b[0mtarget_meta\u001b[0m\u001b[0;34m,\u001b[0m \u001b[0mbroadcast_idx\u001b[0m\u001b[0;34m=\u001b[0m\u001b[0;36m0\u001b[0m\u001b[0;34m)\u001b[0m\u001b[0;34m:\u001b[0m\u001b[0;34m\u001b[0m\u001b[0;34m\u001b[0m\u001b[0m\n\u001b[1;32m    549\u001b[0m     \u001b[0mtarget_shape\u001b[0m\u001b[0;34m,\u001b[0m \u001b[0mtarget_ndim\u001b[0m\u001b[0;34m,\u001b[0m \u001b[0mdtype\u001b[0m\u001b[0;34m,\u001b[0m \u001b[0mtarget_iscomplex\u001b[0m \u001b[0;34m=\u001b[0m \u001b[0mtarget_meta\u001b[0m\u001b[0;34m\u001b[0m\u001b[0;34m\u001b[0m\u001b[0m\n\u001b[0;32m--> 550\u001b[0;31m     \u001b[0;32mwhile\u001b[0m \u001b[0manp\u001b[0m\u001b[0;34m.\u001b[0m\u001b[0mndim\u001b[0m\u001b[0;34m(\u001b[0m\u001b[0mx\u001b[0m\u001b[0;34m)\u001b[0m \u001b[0;34m>\u001b[0m \u001b[0mtarget_ndim\u001b[0m\u001b[0;34m:\u001b[0m\u001b[0;34m\u001b[0m\u001b[0;34m\u001b[0m\u001b[0m\n\u001b[0m\u001b[1;32m    551\u001b[0m         \u001b[0mx\u001b[0m \u001b[0;34m=\u001b[0m \u001b[0manp\u001b[0m\u001b[0;34m.\u001b[0m\u001b[0msum\u001b[0m\u001b[0;34m(\u001b[0m\u001b[0mx\u001b[0m\u001b[0;34m,\u001b[0m \u001b[0maxis\u001b[0m\u001b[0;34m=\u001b[0m\u001b[0mbroadcast_idx\u001b[0m\u001b[0;34m)\u001b[0m\u001b[0;34m\u001b[0m\u001b[0;34m\u001b[0m\u001b[0m\n\u001b[1;32m    552\u001b[0m     \u001b[0;32mfor\u001b[0m \u001b[0maxis\u001b[0m\u001b[0;34m,\u001b[0m \u001b[0msize\u001b[0m \u001b[0;32min\u001b[0m \u001b[0menumerate\u001b[0m\u001b[0;34m(\u001b[0m\u001b[0mtarget_shape\u001b[0m\u001b[0;34m)\u001b[0m\u001b[0;34m:\u001b[0m\u001b[0;34m\u001b[0m\u001b[0;34m\u001b[0m\u001b[0m\n",
      "\u001b[0;32m~/anaconda3/lib/python3.7/site-packages/autograd/tracer.py\u001b[0m in \u001b[0;36mf_wrapped\u001b[0;34m(*args, **kwargs)\u001b[0m\n\u001b[1;32m     56\u001b[0m \u001b[0;34m\u001b[0m\u001b[0m\n\u001b[1;32m     57\u001b[0m \u001b[0;32mdef\u001b[0m \u001b[0mnotrace_primitive\u001b[0m\u001b[0;34m(\u001b[0m\u001b[0mf_raw\u001b[0m\u001b[0;34m)\u001b[0m\u001b[0;34m:\u001b[0m\u001b[0;34m\u001b[0m\u001b[0;34m\u001b[0m\u001b[0m\n\u001b[0;32m---> 58\u001b[0;31m     \u001b[0;34m@\u001b[0m\u001b[0mwraps\u001b[0m\u001b[0;34m(\u001b[0m\u001b[0mf_raw\u001b[0m\u001b[0;34m)\u001b[0m\u001b[0;34m\u001b[0m\u001b[0;34m\u001b[0m\u001b[0m\n\u001b[0m\u001b[1;32m     59\u001b[0m     \u001b[0;32mdef\u001b[0m \u001b[0mf_wrapped\u001b[0m\u001b[0;34m(\u001b[0m\u001b[0;34m*\u001b[0m\u001b[0margs\u001b[0m\u001b[0;34m,\u001b[0m \u001b[0;34m**\u001b[0m\u001b[0mkwargs\u001b[0m\u001b[0;34m)\u001b[0m\u001b[0;34m:\u001b[0m\u001b[0;34m\u001b[0m\u001b[0;34m\u001b[0m\u001b[0m\n\u001b[1;32m     60\u001b[0m         \u001b[0margvals\u001b[0m \u001b[0;34m=\u001b[0m \u001b[0mmap\u001b[0m\u001b[0;34m(\u001b[0m\u001b[0mgetval\u001b[0m\u001b[0;34m,\u001b[0m \u001b[0margs\u001b[0m\u001b[0;34m)\u001b[0m\u001b[0;34m\u001b[0m\u001b[0;34m\u001b[0m\u001b[0m\n",
      "\u001b[0;31mKeyboardInterrupt\u001b[0m: "
     ]
    }
   ],
   "source": [
    "from autograd.misc.optimizers import adam, sgd\n",
    "\n",
    "def loss(x):\n",
    "    return - log_posterior(x)\n",
    "\n",
    "def grad_loss(x, i):\n",
    "    return grad(loss)(x)\n",
    "\n",
    "\n",
    "traj = [(params, -1, grad_loss(params, -1))]\n",
    "prediction_traj = [make_predictions(params, inds=np.arange(len(mols)))]\n",
    "train_rmse = rmse(prediction_traj[-1][train_inds], expt_means[train_inds])\n",
    "test_rmse = rmse(prediction_traj[-1][test_inds], expt_means[test_inds])\n",
    "print('initial parameters\\n\\ttrain RMSE = {:.3f}\\n\\ttest RMSE = {:.3f}'.format(train_rmse, test_rmse))\n",
    "\n",
    "def callback(x,i,g):\n",
    "    #if np.sum(np.isnan(x)) > 0:\n",
    "    #    raise(RuntimeError('NaNs encountered!'))\n",
    "    prediction_traj.append(make_predictions(x, inds=np.arange(len(mols)), batch_size=50, randomized=False))\n",
    "    train_rmse = rmse(prediction_traj[-1][train_inds], expt_means[train_inds])\n",
    "    test_rmse = rmse(prediction_traj[-1][test_inds], expt_means[test_inds])\n",
    "    print('Iteration {}\\n\\ttrain RMSE = {:.3f}\\n\\ttest RMSE = {:.3f}'.format(i, train_rmse, test_rmse))\n",
    "    traj.append((x,i,g))\n",
    "result = adam(grad_loss, params, callback=callback, num_iters=500)"
   ]
  },
  {
   "cell_type": "code",
   "execution_count": 40,
   "metadata": {
    "ExecuteTime": {
     "end_time": "2019-03-07T17:10:05.713498Z",
     "start_time": "2019-03-07T17:10:05.681951Z"
    }
   },
   "outputs": [],
   "source": [
    "np.savez('linear_typing_result_student_t_loss_df=7.npz',\n",
    "         prediction_traj=prediction_traj,\n",
    "         train_inds=train_inds,\n",
    "         test_inds=test_inds,\n",
    "         expt_means=expt_means,\n",
    "         expt_uncs=expt_uncs,\n",
    "         traj=traj,\n",
    "         layer_sizes=layer_sizes,\n",
    "        )"
   ]
  },
  {
   "cell_type": "code",
   "execution_count": 41,
   "metadata": {
    "ExecuteTime": {
     "end_time": "2019-03-07T17:10:06.197190Z",
     "start_time": "2019-03-07T17:10:06.178370Z"
    }
   },
   "outputs": [],
   "source": [
    "train_rmses = [rmse(snapshot[train_inds], expt_means[train_inds]) for snapshot in prediction_traj]\n",
    "test_rmses = [rmse(snapshot[test_inds], expt_means[test_inds]) for snapshot in prediction_traj]"
   ]
  },
  {
   "cell_type": "code",
   "execution_count": 42,
   "metadata": {
    "ExecuteTime": {
     "end_time": "2019-03-07T17:10:06.684905Z",
     "start_time": "2019-03-07T17:10:06.681092Z"
    }
   },
   "outputs": [],
   "source": [
    "train_color = 'lightblue'\n",
    "test_color = 'green'\n",
    "train_style = '--'\n",
    "test_style = '-'"
   ]
  },
  {
   "cell_type": "code",
   "execution_count": 43,
   "metadata": {
    "ExecuteTime": {
     "end_time": "2019-03-07T17:10:07.327628Z",
     "start_time": "2019-03-07T17:10:07.128962Z"
    }
   },
   "outputs": [
    {
     "data": {
      "text/plain": [
       "Text(0.5, 0, 'adam iterations')"
      ]
     },
     "execution_count": 43,
     "metadata": {},
     "output_type": "execute_result"
    },
    {
     "data": {
      "image/png": "[encoded data removed]",
      "text/plain": [
       "<Figure size 432x288 with 1 Axes>"
      ]
     },
     "metadata": {
      "needs_background": "light"
     },
     "output_type": "display_data"
    }
   ],
   "source": [
    "plt.plot(train_rmses, c=train_color, linestyle=train_style)\n",
    "plt.plot(test_rmses, c=test_color, linestyle=test_style)\n",
    "plt.ylabel('RMSE (kcal/mol)')\n",
    "plt.xlabel('adam iterations')"
   ]
  },
  {
   "cell_type": "code",
   "execution_count": 44,
   "metadata": {
    "ExecuteTime": {
     "end_time": "2019-03-07T17:10:12.654234Z",
     "start_time": "2019-03-07T17:10:12.647930Z"
    }
   },
   "outputs": [
    {
     "data": {
      "text/plain": [
       "(-25.757173958164927, 4.985307878846929)"
      ]
     },
     "execution_count": 44,
     "metadata": {},
     "output_type": "execute_result"
    }
   ],
   "source": [
    "minval, maxval = np.min(prediction_traj[50:]), np.max(prediction_traj[50:])\n",
    "minval, maxval"
   ]
  },
  {
   "cell_type": "code",
   "execution_count": 45,
   "metadata": {
    "ExecuteTime": {
     "end_time": "2019-03-07T17:10:13.396050Z",
     "start_time": "2019-03-07T17:10:13.391820Z"
    }
   },
   "outputs": [
    {
     "data": {
      "text/plain": [
       "(-15.5, 5.5)"
      ]
     },
     "execution_count": 45,
     "metadata": {},
     "output_type": "execute_result"
    }
   ],
   "source": [
    "minval, maxval = -15.5, 5.5\n",
    "minval, maxval"
   ]
  },
  {
   "cell_type": "code",
   "execution_count": 46,
   "metadata": {
    "ExecuteTime": {
     "end_time": "2019-03-07T17:10:13.980994Z",
     "start_time": "2019-03-07T17:10:13.976664Z"
    }
   },
   "outputs": [
    {
     "data": {
      "text/plain": [
       "(-14.21, 3.4300000000000006)"
      ]
     },
     "execution_count": 46,
     "metadata": {},
     "output_type": "execute_result"
    }
   ],
   "source": [
    "np.min(expt_means), np.max(expt_means)"
   ]
  },
  {
   "cell_type": "code",
   "execution_count": 47,
   "metadata": {
    "ExecuteTime": {
     "end_time": "2019-03-07T17:10:14.450286Z",
     "start_time": "2019-03-07T17:10:14.447915Z"
    }
   },
   "outputs": [],
   "source": [
    "# color by group?"
   ]
  },
  {
   "cell_type": "code",
   "execution_count": 48,
   "metadata": {
    "ExecuteTime": {
     "end_time": "2019-03-07T17:10:14.818893Z",
     "start_time": "2019-03-07T17:10:14.816127Z"
    }
   },
   "outputs": [],
   "source": [
    "train_color = 'lightblue'\n",
    "test_color = 'green'\n",
    "train_style = '--'\n",
    "test_style = '-'"
   ]
  },
  {
   "cell_type": "code",
   "execution_count": 49,
   "metadata": {
    "ExecuteTime": {
     "end_time": "2019-03-07T17:10:15.174402Z",
     "start_time": "2019-03-07T17:10:15.167726Z"
    }
   },
   "outputs": [
    {
     "data": {
      "text/plain": [
       "(11433, 43)"
      ]
     },
     "execution_count": 49,
     "metadata": {},
     "output_type": "execute_result"
    }
   ],
   "source": [
    "inputs = np.vstack(computed_features)\n",
    "inputs.shape"
   ]
  },
  {
   "cell_type": "code",
   "execution_count": 50,
   "metadata": {
    "ExecuteTime": {
     "end_time": "2019-03-07T17:10:15.620418Z",
     "start_time": "2019-03-07T17:10:15.615716Z"
    }
   },
   "outputs": [
    {
     "data": {
      "text/plain": [
       "[False, True]"
      ]
     },
     "execution_count": 50,
     "metadata": {},
     "output_type": "execute_result"
    }
   ],
   "source": [
    "list(set(inputs[:,-1]))"
   ]
  },
  {
   "cell_type": "code",
   "execution_count": 51,
   "metadata": {
    "ExecuteTime": {
     "end_time": "2019-03-07T17:10:16.395457Z",
     "start_time": "2019-03-07T17:10:16.392838Z"
    }
   },
   "outputs": [],
   "source": [
    "s = 10"
   ]
  },
  {
   "cell_type": "code",
   "execution_count": 52,
   "metadata": {
    "ExecuteTime": {
     "end_time": "2019-03-07T17:12:25.994451Z",
     "start_time": "2019-03-07T17:10:34.416557Z"
    }
   },
   "outputs": [],
   "source": [
    "from bayes_implicit_solvent.utils import remove_top_right_spines\n",
    "diag = np.arange(minval, maxval)\n",
    "\n",
    "for t in range(len(prediction_traj)):\n",
    "    plt.figure(figsize=(6*1.5,3*1.5))\n",
    "    ax = plt.subplot(1,2,1)\n",
    "    remove_top_right_spines(ax)\n",
    "    \n",
    "    plt.plot(train_rmses[:t], c=train_color, linestyle=train_style, label='train (n={})'.format(len(train_inds)))\n",
    "    plt.plot(test_rmses[:t], c=test_color, linestyle=test_style, label='test (n={})'.format(len(test_inds)))\n",
    "    plt.hlines(2.425900278028874, 0, len(train_rmses), linestyles='-', label='OBC2 (n=631)')\n",
    "    plt.hlines(1.642, 0, len(train_rmses), linestyles='--', label='SMIRNOFF+TIP3P (n=642)')\n",
    "    plt.hlines(0.98, 0, len(train_rmses), linestyles='dotted', label='OPLS3e (n=418)')\n",
    "    \n",
    "    \n",
    "    plt.ylabel('RMSE (kcal/mol)')\n",
    "    plt.xlabel('adam iterations')\n",
    "    plt.legend(loc='upper right')\n",
    "    \n",
    "    plt.xlim(0, len(train_rmses))\n",
    "    plt.ylim(0, 4)\n",
    "    \n",
    "    plt.title('RMSE trace')\n",
    "    \n",
    "    ax = plt.subplot(1,2,2)\n",
    "    remove_top_right_spines(ax)\n",
    "    \n",
    "    plt.plot(diag, diag, linestyle='--', c='grey')\n",
    "    plt.scatter(prediction_traj[t][train_inds], expt_means[train_inds], c=train_color, alpha=0.8, s=s)\n",
    "    plt.scatter(prediction_traj[t][test_inds], expt_means[test_inds], c=test_color, alpha=0.8, s=s)\n",
    "    plt.xlim(minval, maxval)\n",
    "    plt.ylim(minval, maxval)\n",
    "    \n",
    "    plt.xticks([-15,-10,-5,0,5])\n",
    "    plt.yticks([-15,-10,-5,0,5])\n",
    "    \n",
    "    plt.xlabel(r'predicted $\\Delta G$ (kcal/mol)')\n",
    "    plt.ylabel(r'measured $\\Delta G$ (kcal/mol)')\n",
    "    \n",
    "    plt.title('train RMSE: {:.2f}\\ntest RMSE: {:.2f}'.format(train_rmses[t], test_rmses[t]))\n",
    "    plt.tight_layout()\n",
    "    plt.savefig('linear_parameterizer_student_t_loss/{:04}.png'.format(t), bbox_inches='tight')\n",
    "    \n",
    "    plt.close()"
   ]
  },
  {
   "cell_type": "code",
   "execution_count": null,
   "metadata": {},
   "outputs": [],
   "source": []
  }
 ],
 "metadata": {
  "kernelspec": {
   "display_name": "Python 3",
   "language": "python",
   "name": "python3"
  },
  "language_info": {
   "codemirror_mode": {
    "name": "ipython",
    "version": 3
   },
   "file_extension": ".py",
   "mimetype": "text/x-python",
   "name": "python",
   "nbconvert_exporter": "python",
   "pygments_lexer": "ipython3",
   "version": "3.7.1"
  }
 },
 "nbformat": 4,
 "nbformat_minor": 2
}
