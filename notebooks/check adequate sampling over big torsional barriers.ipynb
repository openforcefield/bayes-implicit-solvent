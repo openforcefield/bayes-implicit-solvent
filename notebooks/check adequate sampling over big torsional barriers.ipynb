{
 "cells": [
  {
   "cell_type": "markdown",
   "metadata": {},
   "source": [
    "See which torsions probably have the biggest torsional barriers, do some sort of check that big torsional barriers are crossed..."
   ]
  },
  {
   "cell_type": "code",
   "execution_count": 5,
   "metadata": {},
   "outputs": [],
   "source": [
    "from simtk import unit\n",
    "from openmmtools.constants import kB\n",
    "temperature = 298.15 * unit.kelvin\n",
    "kT = kB * temperature\n",
    "\n",
    "def evaluate_torsion(theta, periodicity=1, phase=0, force_constant=1):\n",
    "    return force_constant * (1 + np.cos(periodicity * theta - phase))\n",
    "\n",
    "def plot_torsion_component(periodicity, phase, force_constant):\n",
    "    x = np.linspace(0, 2 * np.pi, 1000)\n",
    "    y = evaluate_torsion(x, periodicity, phase, force_constant)\n",
    "    plt.plot(x / np.pi, y)\n",
    "    return y\n",
    "\n",
    "def compute_full_torsion(a, b, c, d):\n",
    "    x = np.linspace(0, 2 * np.pi, 1000)\n",
    "    terms = forces_per_torsion[(a,b,c,d)]\n",
    "    u = sum([evaluate_torsion(x, periodicities[i], phases[i], ks[i]) for i in terms])\n",
    "    return u\n",
    "\n",
    "def plot_full_torsion(a,b,c,d):\n",
    "    u = compute_full_torsion(a,b,c,d)\n",
    "    x = np.linspace(0, 2 * np.pi, len(u))\n",
    "    plt.plot(x / np.pi,u)\n",
    "    return u\n",
    "\n",
    "def plot_torsion_by_index(i):\n",
    "    return plot_torsion_component(periodicities[i], phases[i], ks[i])\n",
    "\n",
    "def plot_marginal(U, temperature = 300 * unit.kelvin):\n",
    "    '''assume U is unit'd (compatible with kT) and has limits [0,2pi] '''\n",
    "    x = np.linspace(0, 2 * np.pi, len(u))\n",
    "    \n",
    "    q = np.exp(-U / kT)\n",
    "    Z = 2 * np.pi * np.sum(q) / len(q)\n",
    "    p = q / Z\n",
    "    plt.plot(x, p)\n",
    "    return p"
   ]
  },
  {
   "cell_type": "code",
   "execution_count": null,
   "metadata": {},
   "outputs": [],
   "source": [
    "indices = []\n",
    "periodicities = []\n",
    "phases = []\n",
    "ks = []\n",
    "\n",
    "for i in range(num_torsions):\n",
    "    a, b, c, d, periodicity, phase, force_constant = f.getTorsionParameters(i)\n",
    "    indices.append((a,b,c,d))\n",
    "    periodicities.append(periodicity)\n",
    "    phases.append(phase)\n",
    "    ks.append(force_constant)\n",
    "    \n",
    "# which quadruples have more than one torsion force acting on them?\n",
    "\n",
    "forces_per_torsion = dict()\n",
    "for ind in indices:\n",
    "    forces_per_torsion[ind] = []\n",
    "\n",
    "for i,ind in enumerate(indices):\n",
    "    forces_per_torsion[ind].append(i)\n",
    "    \n",
    "modes_per_torsion = dict()\n",
    "for ind in indices:\n",
    "    modes_per_torsion[ind] = 0\n",
    "    \n",
    "for i,ind in enumerate(indices):\n",
    "    modes_per_torsion[ind] += periodicities[i]"
   ]
  }
 ],
 "metadata": {
  "kernelspec": {
   "display_name": "Python 3",
   "language": "python",
   "name": "python3"
  },
  "language_info": {
   "codemirror_mode": {
    "name": "ipython",
    "version": 3
   },
   "file_extension": ".py",
   "mimetype": "text/x-python",
   "name": "python",
   "nbconvert_exporter": "python",
   "pygments_lexer": "ipython3",
   "version": "3.6.5"
  }
 },
 "nbformat": 4,
 "nbformat_minor": 2
}
