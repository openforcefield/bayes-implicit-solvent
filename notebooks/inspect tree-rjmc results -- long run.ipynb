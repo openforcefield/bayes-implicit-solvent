{
 "cells": [
  {
   "cell_type": "code",
   "execution_count": 1,
   "metadata": {
    "ExecuteTime": {
     "end_time": "2019-02-28T13:27:01.064691Z",
     "start_time": "2019-02-28T13:26:56.614931Z"
    }
   },
   "outputs": [],
   "source": [
    "import numpy as np\n",
    "import matplotlib.pyplot as plt\n",
    "from bayes_implicit_solvent.utils import remove_top_right_spines\n",
    "%matplotlib inline"
   ]
  },
  {
   "cell_type": "code",
   "execution_count": 2,
   "metadata": {
    "ExecuteTime": {
     "end_time": "2019-02-28T13:27:01.076295Z",
     "start_time": "2019-02-28T13:27:01.068730Z"
    }
   },
   "outputs": [],
   "source": [
    "path = '../bayes_implicit_solvent/rjmc_experiments/elaborate_tree_rjmc_run_n_compounds=315_n_iter=10000_gaussian_ll.pkl'"
   ]
  },
  {
   "cell_type": "code",
   "execution_count": 3,
   "metadata": {
    "ExecuteTime": {
     "end_time": "2019-02-28T13:27:01.482778Z",
     "start_time": "2019-02-28T13:27:01.079094Z"
    }
   },
   "outputs": [],
   "source": [
    "from pickle import load\n",
    "\n",
    "with open(path, 'rb') as f:\n",
    "    result = load(f)"
   ]
  },
  {
   "cell_type": "code",
   "execution_count": 4,
   "metadata": {
    "ExecuteTime": {
     "end_time": "2019-02-28T13:27:01.491549Z",
     "start_time": "2019-02-28T13:27:01.485958Z"
    }
   },
   "outputs": [
    {
     "data": {
      "text/plain": [
       "dict_keys(['traj', 'log_probs', 'log_acceptance_probabilities'])"
      ]
     },
     "execution_count": 4,
     "metadata": {},
     "output_type": "execute_result"
    }
   ],
   "source": [
    "result.keys()"
   ]
  },
  {
   "cell_type": "code",
   "execution_count": 5,
   "metadata": {
    "ExecuteTime": {
     "end_time": "2019-02-28T13:27:01.497021Z",
     "start_time": "2019-02-28T13:27:01.494057Z"
    }
   },
   "outputs": [],
   "source": [
    "traj = result['traj']"
   ]
  },
  {
   "cell_type": "code",
   "execution_count": 6,
   "metadata": {
    "ExecuteTime": {
     "end_time": "2019-02-28T13:27:01.501982Z",
     "start_time": "2019-02-28T13:27:01.499128Z"
    }
   },
   "outputs": [],
   "source": [
    "log_probs = result['log_probs']"
   ]
  },
  {
   "cell_type": "code",
   "execution_count": 7,
   "metadata": {
    "ExecuteTime": {
     "end_time": "2019-02-28T13:27:01.710365Z",
     "start_time": "2019-02-28T13:27:01.504401Z"
    }
   },
   "outputs": [
    {
     "data": {
      "text/plain": [
       "[<matplotlib.lines.Line2D at 0x1a275a9470>]"
      ]
     },
     "execution_count": 7,
     "metadata": {},
     "output_type": "execute_result"
    },
    {
     "data": {
      "image/png": "[encoded data removed]",
      "text/plain": [
       "<Figure size 432x288 with 1 Axes>"
      ]
     },
     "metadata": {
      "needs_background": "light"
     },
     "output_type": "display_data"
    }
   ],
   "source": [
    "plt.plot(log_probs)"
   ]
  },
  {
   "cell_type": "code",
   "execution_count": 8,
   "metadata": {
    "ExecuteTime": {
     "end_time": "2019-02-28T13:27:01.721613Z",
     "start_time": "2019-02-28T13:27:01.712395Z"
    }
   },
   "outputs": [
    {
     "data": {
      "text/plain": [
       "*          (r = 1.50 Å, s = 0.80)\n",
       "|-[#1]     (r = 1.20 Å, s = 0.85)\n",
       "|-[#6]     (r = 1.70 Å, s = 0.72)\n",
       "|-[#7]     (r = 1.55 Å, s = 0.79)\n",
       "|-[#8]     (r = 1.50 Å, s = 0.85)\n",
       "|-[#9]     (r = 1.50 Å, s = 0.88)\n",
       "|-[#15]    (r = 1.85 Å, s = 0.86)\n",
       "|-[#16]    (r = 1.80 Å, s = 0.96)\n",
       "|-[#17]    (r = 1.50 Å, s = 0.80)\n",
       "|-[#35]    (r = 1.50 Å, s = 0.80)\n",
       "|-[#53]    (r = 1.50 Å, s = 0.80)"
      ]
     },
     "execution_count": 8,
     "metadata": {},
     "output_type": "execute_result"
    }
   ],
   "source": [
    "traj[0]"
   ]
  },
  {
   "cell_type": "code",
   "execution_count": 9,
   "metadata": {
    "ExecuteTime": {
     "end_time": "2019-02-28T13:27:01.732258Z",
     "start_time": "2019-02-28T13:27:01.724722Z"
    }
   },
   "outputs": [
    {
     "data": {
      "text/plain": [
       "*                  (r = 1.77 Å, s = 0.80)\n",
       "|-[#1]             (r = 0.43 Å, s = 0.85)\n",
       "|-[#6]             (r = 1.91 Å, s = 0.72)\n",
       "  |-[#6&X3]        (r = 1.99 Å, s = 0.73)\n",
       "    |-[#6&X3&A]    (r = 1.89 Å, s = 0.72)\n",
       "|-[#7]             (r = 1.77 Å, s = 0.79)\n",
       "  |-[#7&a]         (r = 2.06 Å, s = 0.79)\n",
       "    |-[#7&a&X3]    (r = 1.75 Å, s = 0.80)\n",
       "  |-[#7&X1]        (r = 2.33 Å, s = 0.80)\n",
       "|-[#8]             (r = 1.64 Å, s = 0.85)\n",
       "  |-[#8&X1]        (r = 1.87 Å, s = 0.85)\n",
       "|-[#9]             (r = 1.94 Å, s = 0.88)\n",
       "|-[#15]            (r = 1.95 Å, s = 0.86)\n",
       "|-[#16]            (r = 2.58 Å, s = 0.96)\n",
       "  |-[#16&X2]       (r = 2.11 Å, s = 0.96)\n",
       "  |-[#16&X3]       (r = 2.28 Å, s = 0.95)\n",
       "|-[#17]            (r = 1.98 Å, s = 0.80)\n",
       "|-[#35]            (r = 1.87 Å, s = 0.80)\n",
       "|-[#53]            (r = 2.78 Å, s = 0.80)"
      ]
     },
     "execution_count": 9,
     "metadata": {},
     "output_type": "execute_result"
    }
   ],
   "source": [
    "traj[-1]"
   ]
  },
  {
   "cell_type": "code",
   "execution_count": 10,
   "metadata": {
    "ExecuteTime": {
     "end_time": "2019-02-28T13:27:05.448239Z",
     "start_time": "2019-02-28T13:27:01.734442Z"
    }
   },
   "outputs": [
    {
     "name": "stdout",
     "output_type": "stream",
     "text": [
      "number of molecules being considered: 642\n"
     ]
    }
   ],
   "source": [
    "from bayes_implicit_solvent.continuous_parameter_experiments.gradient_free import mols"
   ]
  },
  {
   "cell_type": "code",
   "execution_count": 11,
   "metadata": {
    "ExecuteTime": {
     "end_time": "2019-02-28T13:27:19.188941Z",
     "start_time": "2019-02-28T13:27:19.186049Z"
    }
   },
   "outputs": [],
   "source": [
    "mol = mols[0]"
   ]
  },
  {
   "cell_type": "code",
   "execution_count": 12,
   "metadata": {
    "ExecuteTime": {
     "end_time": "2019-02-28T13:27:19.799130Z",
     "start_time": "2019-02-28T13:27:19.793727Z"
    }
   },
   "outputs": [],
   "source": [
    "\n",
    "from simtk import unit\n",
    "\n",
    "from simtk import unit\n",
    "from bayes_implicit_solvent.constants import beta\n",
    "def unreduce(value):\n",
    "    \"\"\"Input value is in units of kB T, turn it into units of kilocalorie_per_mole\"\"\"\n",
    "    return value / (beta * unit.kilocalorie_per_mole)\n",
    "\n",
    "def make_predictions(tree):\n",
    "    predictions = []\n",
    "    for mol in mols:\n",
    "        radii = tree.assign_radii(mol.mol) / unit.nanometer\n",
    "        scales = tree.assign_scale_factors(mol.mol)\n",
    "        predictions.append(mol.predict_solvation_free_energy(radii, scales)[0])\n",
    "    return unreduce(np.array(predictions))"
   ]
  },
  {
   "cell_type": "code",
   "execution_count": 13,
   "metadata": {
    "ExecuteTime": {
     "end_time": "2019-02-28T13:27:25.959210Z",
     "start_time": "2019-02-28T13:27:20.732092Z"
    }
   },
   "outputs": [],
   "source": [
    "initial_predictions = make_predictions(traj[0])"
   ]
  },
  {
   "cell_type": "code",
   "execution_count": 14,
   "metadata": {
    "ExecuteTime": {
     "end_time": "2019-02-28T13:27:32.096373Z",
     "start_time": "2019-02-28T13:27:25.961269Z"
    }
   },
   "outputs": [],
   "source": [
    "final_predictions = make_predictions(traj[-1])"
   ]
  },
  {
   "cell_type": "code",
   "execution_count": 15,
   "metadata": {
    "ExecuteTime": {
     "end_time": "2019-02-28T13:27:32.102038Z",
     "start_time": "2019-02-28T13:27:32.098822Z"
    }
   },
   "outputs": [],
   "source": [
    "expt_values = unreduce(np.array([mol.experimental_value for mol in mols]))"
   ]
  },
  {
   "cell_type": "code",
   "execution_count": 16,
   "metadata": {
    "ExecuteTime": {
     "end_time": "2019-02-28T13:27:32.110532Z",
     "start_time": "2019-02-28T13:27:32.105086Z"
    }
   },
   "outputs": [
    {
     "data": {
      "text/plain": [
       "2.5135307617515825"
      ]
     },
     "execution_count": 16,
     "metadata": {},
     "output_type": "execute_result"
    }
   ],
   "source": [
    "(np.sqrt(np.mean((initial_predictions - expt_values)**2)))"
   ]
  },
  {
   "cell_type": "code",
   "execution_count": 17,
   "metadata": {
    "ExecuteTime": {
     "end_time": "2019-02-28T13:27:32.118760Z",
     "start_time": "2019-02-28T13:27:32.112923Z"
    }
   },
   "outputs": [
    {
     "data": {
      "text/plain": [
       "2.1283828779798943"
      ]
     },
     "execution_count": 17,
     "metadata": {},
     "output_type": "execute_result"
    }
   ],
   "source": [
    "(np.sqrt(np.mean((final_predictions - expt_values)**2)))"
   ]
  },
  {
   "cell_type": "code",
   "execution_count": 18,
   "metadata": {
    "ExecuteTime": {
     "end_time": "2019-02-28T13:33:29.502126Z",
     "start_time": "2019-02-28T13:33:29.498842Z"
    }
   },
   "outputs": [],
   "source": [
    "np.random.seed(0)\n",
    "all_inds = np.arange(len(mols))\n",
    "np.random.shuffle(all_inds)\n",
    "train_inds = all_inds[::2]\n",
    "test_inds = all_inds[1::2]"
   ]
  },
  {
   "cell_type": "code",
   "execution_count": 19,
   "metadata": {
    "ExecuteTime": {
     "end_time": "2019-02-28T13:33:29.792690Z",
     "start_time": "2019-02-28T13:33:29.786667Z"
    }
   },
   "outputs": [
    {
     "data": {
      "text/plain": [
       "(1.9030330217942066, 2.3320576040305623)"
      ]
     },
     "execution_count": 19,
     "metadata": {},
     "output_type": "execute_result"
    }
   ],
   "source": [
    "train_rmse = (np.sqrt(np.mean((final_predictions[train_inds] - expt_values[train_inds])**2)))\n",
    "test_rmse = (np.sqrt(np.mean((final_predictions[test_inds] - expt_values[test_inds])**2)))\n",
    "train_rmse, test_rmse"
   ]
  },
  {
   "cell_type": "code",
   "execution_count": 20,
   "metadata": {
    "ExecuteTime": {
     "end_time": "2019-02-28T13:33:30.045754Z",
     "start_time": "2019-02-28T13:33:30.041730Z"
    }
   },
   "outputs": [
    {
     "data": {
      "text/plain": [
       "10001"
      ]
     },
     "execution_count": 20,
     "metadata": {},
     "output_type": "execute_result"
    }
   ],
   "source": [
    "len(traj)"
   ]
  },
  {
   "cell_type": "code",
   "execution_count": 21,
   "metadata": {
    "ExecuteTime": {
     "end_time": "2019-02-28T13:43:14.026244Z",
     "start_time": "2019-02-28T13:33:32.978486Z"
    }
   },
   "outputs": [
    {
     "name": "stderr",
     "output_type": "stream",
     "text": [
      "100%|██████████| 101/101 [09:41<00:00,  6.13s/it]\n"
     ]
    }
   ],
   "source": [
    "from tqdm import tqdm\n",
    "thinning = 100\n",
    "prediction_traj = [make_predictions(tree) for tree in tqdm(traj[::thinning])]"
   ]
  },
  {
   "cell_type": "code",
   "execution_count": 199,
   "metadata": {
    "ExecuteTime": {
     "end_time": "2019-02-28T13:23:34.520734Z",
     "start_time": "2019-02-28T13:23:33.884569Z"
    }
   },
   "outputs": [
    {
     "data": {
      "text/plain": [
       "<matplotlib.collections.PathCollection at 0x1a2e4e6eb8>"
      ]
     },
     "execution_count": 199,
     "metadata": {},
     "output_type": "execute_result"
    },
    {
     "data": {
      "image/png": "[encoded data removed]",
      "text/plain": [
       "<Figure size 432x288 with 1 Axes>"
      ]
     },
     "metadata": {
      "needs_background": "light"
     },
     "output_type": "display_data"
    }
   ],
   "source": [
    "plt.scatter(prediction_traj[0], expt_values)"
   ]
  },
  {
   "cell_type": "code",
   "execution_count": 200,
   "metadata": {
    "ExecuteTime": {
     "end_time": "2019-02-28T13:23:35.105286Z",
     "start_time": "2019-02-28T13:23:34.956739Z"
    }
   },
   "outputs": [
    {
     "data": {
      "text/plain": [
       "<matplotlib.collections.PathCollection at 0x1a2e3a6128>"
      ]
     },
     "execution_count": 200,
     "metadata": {},
     "output_type": "execute_result"
    },
    {
     "data": {
      "image/png": "[encoded data removed]",
      "text/plain": [
       "<Figure size 432x288 with 1 Axes>"
      ]
     },
     "metadata": {
      "needs_background": "light"
     },
     "output_type": "display_data"
    }
   ],
   "source": [
    "plt.scatter(prediction_traj[-1], expt_values)"
   ]
  },
  {
   "cell_type": "code",
   "execution_count": 201,
   "metadata": {
    "ExecuteTime": {
     "end_time": "2019-02-28T13:23:38.102298Z",
     "start_time": "2019-02-28T13:23:38.097319Z"
    }
   },
   "outputs": [
    {
     "data": {
      "text/plain": [
       "*              (r = 1.43 Å, s = 1.03)\n",
       "|-[#1]         (r = 1.01 Å, s = 0.89)\n",
       "|-[#6]         (r = 1.60 Å, s = 0.84)\n",
       "  |-[#6&X3]    (r = 1.78 Å, s = 0.81)\n",
       "  |-[#6&X2]    (r = 2.08 Å, s = 0.92)\n",
       "|-[#7]         (r = 1.39 Å, s = 0.76)\n",
       "  |-[#7&a]     (r = 1.32 Å, s = 0.79)\n",
       "|-[#8]         (r = 1.66 Å, s = 0.92)\n",
       "  |-[#8&X2]    (r = 1.38 Å, s = 0.90)\n",
       "|-[#9]         (r = 2.05 Å, s = 0.73)\n",
       "|-[#15]        (r = 1.89 Å, s = 0.78)\n",
       "|-[#16]        (r = 2.20 Å, s = 0.85)"
      ]
     },
     "execution_count": 201,
     "metadata": {},
     "output_type": "execute_result"
    }
   ],
   "source": [
    "tree"
   ]
  },
  {
   "cell_type": "code",
   "execution_count": 202,
   "metadata": {
    "ExecuteTime": {
     "end_time": "2019-02-28T13:23:40.341948Z",
     "start_time": "2019-02-28T13:23:40.338108Z"
    }
   },
   "outputs": [
    {
     "data": {
      "text/plain": [
       "1001"
      ]
     },
     "execution_count": 202,
     "metadata": {},
     "output_type": "execute_result"
    }
   ],
   "source": [
    "len(prediction_traj)"
   ]
  },
  {
   "cell_type": "code",
   "execution_count": 203,
   "metadata": {
    "ExecuteTime": {
     "end_time": "2019-02-28T13:23:41.299094Z",
     "start_time": "2019-02-28T13:23:41.144068Z"
    }
   },
   "outputs": [
    {
     "data": {
      "text/plain": [
       "[<matplotlib.lines.Line2D at 0x1a2dfd7780>]"
      ]
     },
     "execution_count": 203,
     "metadata": {},
     "output_type": "execute_result"
    },
    {
     "data": {
      "image/png": "[encoded data removed]",
      "text/plain": [
       "<Figure size 432x288 with 1 Axes>"
      ]
     },
     "metadata": {
      "needs_background": "light"
     },
     "output_type": "display_data"
    }
   ],
   "source": [
    "rmses = [np.sqrt(np.mean((snapshot - expt_values)**2)) for snapshot in prediction_traj]\n",
    "plt.plot(rmses)"
   ]
  },
  {
   "cell_type": "code",
   "execution_count": 204,
   "metadata": {
    "ExecuteTime": {
     "end_time": "2019-02-28T13:23:44.772021Z",
     "start_time": "2019-02-28T13:23:44.735865Z"
    }
   },
   "outputs": [],
   "source": [
    "train_rmses = [np.sqrt(np.mean((snapshot[train_inds] - expt_values[train_inds])**2)) for snapshot in prediction_traj]\n",
    "test_rmses = [np.sqrt(np.mean((snapshot[test_inds] - expt_values[test_inds])**2)) for snapshot in prediction_traj]"
   ]
  },
  {
   "cell_type": "code",
   "execution_count": 205,
   "metadata": {
    "ExecuteTime": {
     "end_time": "2019-02-28T13:23:45.223043Z",
     "start_time": "2019-02-28T13:23:45.218184Z"
    }
   },
   "outputs": [
    {
     "data": {
      "text/plain": [
       "array([   0,    1,    2, ...,  998,  999, 1000])"
      ]
     },
     "execution_count": 205,
     "metadata": {},
     "output_type": "execute_result"
    }
   ],
   "source": [
    "x = np.arange(len(result['traj']))[::thinning]\n",
    "x"
   ]
  },
  {
   "cell_type": "code",
   "execution_count": 206,
   "metadata": {
    "ExecuteTime": {
     "end_time": "2019-02-28T13:23:45.984547Z",
     "start_time": "2019-02-28T13:23:45.841714Z"
    }
   },
   "outputs": [
    {
     "data": {
      "text/plain": [
       "(1.7553590624516795, 1.9271592101230681)"
      ]
     },
     "execution_count": 206,
     "metadata": {},
     "output_type": "execute_result"
    },
    {
     "data": {
      "image/png": "[encoded data removed]",
      "text/plain": [
       "<Figure size 432x288 with 1 Axes>"
      ]
     },
     "metadata": {
      "needs_background": "light"
     },
     "output_type": "display_data"
    }
   ],
   "source": [
    "plt.plot(x, train_rmses)\n",
    "plt.plot(x, test_rmses)\n",
    "\n",
    "min(train_rmses), min(test_rmses)"
   ]
  },
  {
   "cell_type": "code",
   "execution_count": 207,
   "metadata": {
    "ExecuteTime": {
     "end_time": "2019-02-28T13:23:46.933065Z",
     "start_time": "2019-02-28T13:23:46.745444Z"
    }
   },
   "outputs": [
    {
     "data": {
      "text/plain": [
       "(1.7655892161001587, 1.8440923650675092)"
      ]
     },
     "execution_count": 207,
     "metadata": {},
     "output_type": "execute_result"
    },
    {
     "data": {
      "image/png": "[encoded data removed]",
      "text/plain": [
       "<Figure size 432x288 with 1 Axes>"
      ]
     },
     "metadata": {
      "needs_background": "light"
     },
     "output_type": "display_data"
    }
   ],
   "source": [
    "ax = plt.subplot(111)\n",
    "remove_top_right_spines(ax)\n",
    "\n",
    "train_mask = train_inds[expt_values[train_inds] > -15]\n",
    "test_mask = test_inds[expt_values[test_inds] > -15]\n",
    "\n",
    "n_train = len(train_mask)\n",
    "n_test = len(test_mask)\n",
    "\n",
    "train_rmses = [np.sqrt(np.mean((snapshot[train_mask] - expt_values[train_mask])**2)) for snapshot in prediction_traj]\n",
    "test_rmses = [np.sqrt(np.mean((snapshot[test_mask] - expt_values[test_mask])**2)) for snapshot in prediction_traj]\n",
    "\n",
    "\n",
    "# \n",
    "plt.plot(x, train_rmses, label='train (n={})'.format(n_train))\n",
    "plt.plot(x, test_rmses)\n",
    "\n",
    "plt.hlines(2.4, 0, max(x), linestyles='--')\n",
    "\n",
    "min(train_rmses), min(test_rmses)"
   ]
  },
  {
   "cell_type": "code",
   "execution_count": 139,
   "metadata": {
    "ExecuteTime": {
     "end_time": "2019-02-28T01:32:54.306557Z",
     "start_time": "2019-02-28T01:32:54.301215Z"
    }
   },
   "outputs": [],
   "source": [
    "all_types = set()\n",
    "for tree in traj:\n",
    "    all_types.update(tree.nodes)\n",
    "all_types = sorted(list(all_types))"
   ]
  },
  {
   "cell_type": "code",
   "execution_count": 140,
   "metadata": {
    "ExecuteTime": {
     "end_time": "2019-02-28T01:33:30.684689Z",
     "start_time": "2019-02-28T01:33:30.681063Z"
    }
   },
   "outputs": [
    {
     "data": {
      "text/plain": [
       "['*',\n",
       " '[#15]',\n",
       " '[#16&a]',\n",
       " '[#16]',\n",
       " '[#1]',\n",
       " '[#6&X2]',\n",
       " '[#6&X3]',\n",
       " '[#6]',\n",
       " '[#7&X1]',\n",
       " '[#7&a]',\n",
       " '[#7]',\n",
       " '[#8&X2]',\n",
       " '[#8]',\n",
       " '[#9]']"
      ]
     },
     "execution_count": 140,
     "metadata": {},
     "output_type": "execute_result"
    }
   ],
   "source": [
    "all_types"
   ]
  },
  {
   "cell_type": "code",
   "execution_count": 144,
   "metadata": {
    "ExecuteTime": {
     "end_time": "2019-02-28T01:36:13.716972Z",
     "start_time": "2019-02-28T01:36:13.712889Z"
    }
   },
   "outputs": [],
   "source": [
    "import seaborn as sns\n",
    "color_list = sns.color_palette(palette=\"husl\", n_colors=len(all_types))\n",
    "#color_list = color_list + color_list\n",
    "color_dict = dict(zip(all_types, color_list))"
   ]
  },
  {
   "cell_type": "code",
   "execution_count": 177,
   "metadata": {
    "ExecuteTime": {
     "end_time": "2019-02-28T01:56:16.681936Z",
     "start_time": "2019-02-28T01:56:16.497579Z"
    }
   },
   "outputs": [],
   "source": [
    "# for line-plot representation\n",
    "x = np.arange(len(traj))\n",
    "ys = [np.zeros(len(traj)) * np.nan for _ in all_types]\n",
    "c = [color_dict[t] for t in all_types]\n",
    "\n",
    "type_dict = dict(zip(all_types, range(len(all_types))))\n",
    "\n",
    "for time, tree in enumerate(traj):\n",
    "    for n in tree.nodes:\n",
    "        i = type_dict[n]\n",
    "        ys[i][time] = tree.get_radius(n) / unit.angstrom"
   ]
  },
  {
   "cell_type": "code",
   "execution_count": 178,
   "metadata": {
    "ExecuteTime": {
     "end_time": "2019-02-28T01:56:17.150634Z",
     "start_time": "2019-02-28T01:56:17.144018Z"
    }
   },
   "outputs": [
    {
     "data": {
      "text/plain": [
       "[array([], dtype=int64),\n",
       " array([], dtype=int64),\n",
       " array([799, 947]),\n",
       " array([], dtype=int64),\n",
       " array([], dtype=int64),\n",
       " array([500]),\n",
       " array([31]),\n",
       " array([], dtype=int64),\n",
       " array([575, 879]),\n",
       " array([382]),\n",
       " array([], dtype=int64),\n",
       " array([481]),\n",
       " array([], dtype=int64),\n",
       " array([], dtype=int64)]"
      ]
     },
     "execution_count": 178,
     "metadata": {},
     "output_type": "execute_result"
    }
   ],
   "source": [
    "change_points = [np.where(np.diff(np.isnan(y)))[0] for y in ys]\n",
    "change_points"
   ]
  },
  {
   "cell_type": "code",
   "execution_count": 179,
   "metadata": {
    "ExecuteTime": {
     "end_time": "2019-02-28T01:56:17.657341Z",
     "start_time": "2019-02-28T01:56:17.653142Z"
    }
   },
   "outputs": [
    {
     "data": {
      "text/plain": [
       "[0, 0, 2, 0, 0, 1, 1, 0, 2, 1, 0, 1, 0, 0]"
      ]
     },
     "execution_count": 179,
     "metadata": {},
     "output_type": "execute_result"
    }
   ],
   "source": [
    "list(map(len, change_points))"
   ]
  },
  {
   "cell_type": "code",
   "execution_count": 180,
   "metadata": {
    "ExecuteTime": {
     "end_time": "2019-02-28T01:56:18.368755Z",
     "start_time": "2019-02-28T01:56:18.216118Z"
    }
   },
   "outputs": [
    {
     "data": {
      "image/png": "[encoded data removed]",
      "text/plain": [
       "<Figure size 432x288 with 1 Axes>"
      ]
     },
     "metadata": {
      "needs_background": "light"
     },
     "output_type": "display_data"
    }
   ],
   "source": [
    "for i, change_point_traj in enumerate(change_points):\n",
    "    if len(change_point_traj) > 0:\n",
    "        plt.scatter(x[change_point_traj], ys[i][change_point_traj + 1], c=[c[i]]*len(change_point_traj))"
   ]
  },
  {
   "cell_type": "code",
   "execution_count": 186,
   "metadata": {
    "ExecuteTime": {
     "end_time": "2019-02-28T01:57:34.194876Z",
     "start_time": "2019-02-28T01:57:33.988446Z"
    }
   },
   "outputs": [
    {
     "data": {
      "image/png": "[encoded data removed]",
      "text/plain": [
       "<Figure size 432x288 with 1 Axes>"
      ]
     },
     "metadata": {
      "needs_background": "light"
     },
     "output_type": "display_data"
    }
   ],
   "source": [
    "for i in range(len(all_types)):\n",
    "    plt.plot(x, ys[i], c=c[i], alpha=0.8)\n",
    "for i, change_point_traj in enumerate(change_points):\n",
    "    if len(change_point_traj) > 0:\n",
    "        plt.scatter(x[change_point_traj], ys[i][change_point_traj + 1], c=[c[i]]*len(change_point_traj), s=50)\n",
    "        plt.scatter(x[change_point_traj], ys[i][change_point_traj - 1], c=[c[i]]*len(change_point_traj), s=50)\n",
    "#plt.ylim(0,)"
   ]
  },
  {
   "cell_type": "code",
   "execution_count": 189,
   "metadata": {
    "ExecuteTime": {
     "end_time": "2019-02-28T01:58:28.558406Z",
     "start_time": "2019-02-28T01:58:28.555725Z"
    }
   },
   "outputs": [],
   "source": [
    "diag = np.arange(-15, 5)"
   ]
  },
  {
   "cell_type": "code",
   "execution_count": 197,
   "metadata": {
    "ExecuteTime": {
     "end_time": "2019-02-28T01:59:09.166018Z",
     "start_time": "2019-02-28T01:59:09.018329Z"
    },
    "scrolled": true
   },
   "outputs": [
    {
     "data": {
      "text/plain": [
       "[<matplotlib.lines.Line2D at 0x1a2eaa81d0>]"
      ]
     },
     "execution_count": 197,
     "metadata": {},
     "output_type": "execute_result"
    },
    {
     "data": {
      "image/png": "[encoded data removed]",
      "text/plain": [
       "<Figure size 432x288 with 1 Axes>"
      ]
     },
     "metadata": {
      "needs_background": "light"
     },
     "output_type": "display_data"
    }
   ],
   "source": [
    "plt.scatter(prediction_traj[-1][expt_values > -15], expt_values[expt_values > -15], alpha=0.5, s=10)\n",
    "plt.plot(diag, diag, color='grey')"
   ]
  },
  {
   "cell_type": "code",
   "execution_count": null,
   "metadata": {},
   "outputs": [],
   "source": [
    "np.mean(prediction_traj)"
   ]
  }
 ],
 "metadata": {
  "kernelspec": {
   "display_name": "Python 3",
   "language": "python",
   "name": "python3"
  },
  "language_info": {
   "codemirror_mode": {
    "name": "ipython",
    "version": 3
   },
   "file_extension": ".py",
   "mimetype": "text/x-python",
   "name": "python",
   "nbconvert_exporter": "python",
   "pygments_lexer": "ipython3",
   "version": "3.7.1"
  }
 },
 "nbformat": 4,
 "nbformat_minor": 2
}
