{
 "cells": [
  {
   "cell_type": "code",
   "execution_count": 1,
   "metadata": {},
   "outputs": [],
   "source": [
    "from pickle import load\n",
    "path = \"../../../MSKCC/Chodera Lab/feedstock/FreeSolv-0.51/database.txt\"\n",
    "from pickle import load\n",
    "with open(path, 'r') as f:\n",
    "    freesolv = f.read()\n",
    "from tqdm import tqdm\n",
    "db = []\n",
    "for entry in freesolv.split('\\n')[3:-1]:\n",
    "    db.append(entry.split('; '))"
   ]
  },
  {
   "cell_type": "code",
   "execution_count": 5,
   "metadata": {},
   "outputs": [
    {
     "data": {
      "text/plain": [
       "['# compound id (and file prefix)',\n",
       " 'SMILES',\n",
       " 'iupac name (or alternative if IUPAC is unavailable or not parseable by OEChem)',\n",
       " 'experimental value (kcal/mol)',\n",
       " 'experimental uncertainty (kcal/mol)',\n",
       " 'Mobley group calculated value (GAFF) (kcal/mol)',\n",
       " 'calculated uncertainty (kcal/mol)',\n",
       " 'experimental reference (original or paper this value was taken from)',\n",
       " 'calculated reference',\n",
       " 'text notes.']"
      ]
     },
     "execution_count": 5,
     "metadata": {},
     "output_type": "execute_result"
    }
   ],
   "source": [
    "legend = freesolv.split('\\n')[2].split('; ')\n",
    "legend"
   ]
  },
  {
   "cell_type": "code",
   "execution_count": 6,
   "metadata": {},
   "outputs": [],
   "source": [
    "experimental_references = list(set([entry[-3] for entry in db]))"
   ]
  },
  {
   "cell_type": "code",
   "execution_count": 7,
   "metadata": {},
   "outputs": [
    {
     "data": {
      "text/plain": [
       "28"
      ]
     },
     "execution_count": 7,
     "metadata": {},
     "output_type": "execute_result"
    }
   ],
   "source": [
    "len(experimental_references)"
   ]
  },
  {
   "cell_type": "code",
   "execution_count": 8,
   "metadata": {},
   "outputs": [],
   "source": [
    "# okay that's not too bad"
   ]
  },
  {
   "cell_type": "code",
   "execution_count": 9,
   "metadata": {},
   "outputs": [
    {
     "data": {
      "text/plain": [
       "['10.1021/ct050097l',\n",
       " 'SAMPL4_Guthrie',\n",
       " 'J. Lu, 1994, Ph.D. Thesis, University of Western Ontario',\n",
       " '10.1021/je00018a020 and Terres, E., Gebert, F., Hulsemann, H., Petereit, H., Toepsch, H., Ruppert, W., Brennstoff-Chemie 1955, 36, 272-274',\n",
       " '10.1007/BF00646936 and 10.1136/oem.45.8.561',\n",
       " '10.1139/v93-262',\n",
       " '10.1007/s10822-010-9350-8',\n",
       " '10.1039/J29710000533 and 10.1007/BF00646936',\n",
       " '10.1021/jo00891a006',\n",
       " 'J. Peter Guthrie, unpublished data, as provided to D. Mobley 2007/2008, and as cited in 10.1021/jp0764384',\n",
       " '10.1139/v91-2',\n",
       " '10.1139/v98-084',\n",
       " '10.1039/P29900000291',\n",
       " '10.1139/v78-385',\n",
       " '10.1007/s10822-012-9568-8',\n",
       " '10.1021/jp0264477',\n",
       " '10.1021/jf60178a004 and 10.1016/S1387-3806(02)00927-2',\n",
       " '10.1039/P29940001777',\n",
       " '10.1021/bi00507a030',\n",
       " '10.1021/jm070549+',\n",
       " '10.1139/v80-201',\n",
       " '10.1080/09593338709384509 and 10.1038/313384a0',\n",
       " '10.1021/cr60306a003',\n",
       " '10.1021/ja00802a021',\n",
       " '10.1039/F19736901577',\n",
       " '10.1021/jp806724u',\n",
       " '10.1139/v76-032',\n",
       " '10.1139/v92-210']"
      ]
     },
     "execution_count": 9,
     "metadata": {},
     "output_type": "execute_result"
    }
   ],
   "source": [
    "experimental_references"
   ]
  },
  {
   "cell_type": "code",
   "execution_count": null,
   "metadata": {},
   "outputs": [],
   "source": []
  }
 ],
 "metadata": {
  "kernelspec": {
   "display_name": "Python 3",
   "language": "python",
   "name": "python3"
  },
  "language_info": {
   "codemirror_mode": {
    "name": "ipython",
    "version": 3
   },
   "file_extension": ".py",
   "mimetype": "text/x-python",
   "name": "python",
   "nbconvert_exporter": "python",
   "pygments_lexer": "ipython3",
   "version": "3.6.5"
  }
 },
 "nbformat": 4,
 "nbformat_minor": 2
}
