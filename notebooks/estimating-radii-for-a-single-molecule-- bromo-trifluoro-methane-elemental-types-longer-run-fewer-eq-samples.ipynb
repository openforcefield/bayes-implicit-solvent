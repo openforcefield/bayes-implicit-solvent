{
 "cells": [
  {
   "cell_type": "code",
   "execution_count": 1,
   "metadata": {},
   "outputs": [],
   "source": [
    "import numpy as np\n",
    "import matplotlib.pyplot as plt\n",
    "%matplotlib inline"
   ]
  },
  {
   "cell_type": "code",
   "execution_count": 2,
   "metadata": {},
   "outputs": [],
   "source": [
    "from pickle import load\n",
    "with open('expensive_mol_top_sys_pos.pkl', 'rb') as f:\n",
    "    mol_top_sys_pos_list = load(f)"
   ]
  },
  {
   "cell_type": "code",
   "execution_count": 3,
   "metadata": {},
   "outputs": [
    {
     "data": {
      "text/plain": [
       "['C1[C@@H]2[C@H]3[C@@H]([C@H]1[C@H]4[C@@H]2O4)[C@@]5(C(=C([C@]3(C5(Cl)Cl)Cl)Cl)Cl)Cl',\n",
       " 'C1[C@H]([C@@H]2[C@H]([C@H]1Cl)[C@]3(C(=C([C@@]2(C3(Cl)Cl)Cl)Cl)Cl)Cl)Cl',\n",
       " 'C1=C[C@@H]([C@@H]2[C@H]1[C@@]3(C(=C([C@]2(C3(Cl)Cl)Cl)Cl)Cl)Cl)Cl',\n",
       " 'C1[C@@H]2[C@H](COS(=O)O1)[C@@]3(C(=C([C@]2(C3(Cl)Cl)Cl)Cl)Cl)Cl',\n",
       " 'CCC[N@@](CC1CC1)c2c(cc(cc2[N+](=O)[O-])C(F)(F)F)[N+](=O)[O-]']"
      ]
     },
     "execution_count": 3,
     "metadata": {},
     "output_type": "execute_result"
    }
   ],
   "source": [
    "with open('sorted_smiles.pkl', 'rb') as f:\n",
    "    smiles_list = load(f)\n",
    "smiles_list[:5]"
   ]
  },
  {
   "cell_type": "code",
   "execution_count": 4,
   "metadata": {},
   "outputs": [
    {
     "data": {
      "text/plain": [
       "'S'"
      ]
     },
     "execution_count": 4,
     "metadata": {},
     "output_type": "execute_result"
    }
   ],
   "source": [
    "n_atom_list = [len(t[-1]) for t in mol_top_sys_pos_list]\n",
    "\n",
    "mol_index = np.argmin(n_atom_list)\n",
    "smiles = smiles_list[mol_index]\n",
    "smiles"
   ]
  },
  {
   "cell_type": "code",
   "execution_count": 5,
   "metadata": {},
   "outputs": [
    {
     "data": {
      "text/plain": [
       "['S']"
      ]
     },
     "execution_count": 5,
     "metadata": {},
     "output_type": "execute_result"
    }
   ],
   "source": [
    "smallest_n_atoms = min(n_atom_list)\n",
    "mol_indices = [i for i in range(len(n_atom_list)) if n_atom_list[i] == smallest_n_atoms]\n",
    "smiles_of_smallest_molecules = [smiles_list[mol_index] for mol_index in mol_indices]\n",
    "smiles_of_smallest_molecules"
   ]
  },
  {
   "cell_type": "code",
   "execution_count": 6,
   "metadata": {},
   "outputs": [
    {
     "name": "stdout",
     "output_type": "stream",
     "text": [
      "[3, 4, 5, 6, 7, 8, 9, 10, 11, 12, 13, 14, 15, 16, 17, 18, 19, 20, 21, 22, 23, 24, 25, 26, 27, 28, 29, 30, 31, 32, 33, 34, 35, 38, 39, 40, 41, 42, 45]\n"
     ]
    }
   ],
   "source": [
    "print(sorted(list(set(n_atom_list))))"
   ]
  },
  {
   "cell_type": "code",
   "execution_count": 7,
   "metadata": {
    "scrolled": false
   },
   "outputs": [
    {
     "name": "stdout",
     "output_type": "stream",
     "text": [
      "# atoms: 3\n",
      "\t['S']\n",
      "\n",
      "# atoms: 4\n",
      "\t['C=O', 'N']\n",
      "\n",
      "# atoms: 5\n",
      "\t['C(Cl)(Cl)(Cl)Cl', 'C(F)(F)(F)Br', 'C(Br)(Br)Br', 'C(Cl)(Cl)Cl', 'C(F)(F)(F)F', 'C(F)(F)Cl', 'C(Cl)Cl', 'C(Br)Br', 'C(F)Cl', 'C(I)I', 'CCl', 'CBr', 'CF', 'CI', 'C']\n",
      "\n",
      "# atoms: 6\n",
      "\t['C(=C(Cl)Cl)(Cl)Cl', 'C(=C(Cl)Cl)Cl', 'C(=C\\\\Cl)\\\\Cl', 'C(=C/Cl)\\\\Cl', 'C=C(Cl)Cl', 'C=CCl', 'CC#N', 'C=C', 'CS', 'NN', 'CO']\n",
      "\n",
      "# atoms: 7\n",
      "\t['C([N+](=O)[O-])(Cl)(Cl)Cl', 'C[N+](=O)[O-]', 'CC(=O)O', 'CC#C', 'CC=O']\n",
      "\n",
      "# atoms: 8\n",
      "\t['C(C(Cl)(Cl)Cl)(Cl)(Cl)Cl', '[C@@H](C(F)(F)F)(Cl)Br', 'C(C(F)(Cl)Cl)(F)(F)Cl', '[C@@H](C(F)(F)F)(F)Br', 'C(C(Cl)(Cl)Cl)(Cl)Cl', 'C(C(Cl)(Cl)Cl)Cl', 'C(C(Cl)Cl)(Cl)Cl', 'C(C(F)(F)F)Cl', 'C(C(Cl)Cl)Cl', 'CC(Cl)(Cl)Cl', 'CS(=O)(=O)Cl', 'C(CBr)Cl', 'CC(Cl)Cl', 'C(CBr)Br', 'C(CCl)Cl', 'CC(F)F', 'COC=O', 'CCCl', 'CCBr', 'CCI', 'CN', 'CC']\n",
      "\n",
      "# atoms: 9\n",
      "\t['C(=C(F)F)(C(F)(F)F)F', 'C(C(F)(F)F)O', 'c1cnc[nH]1', 'CC(=O)N', 'c1ccsc1', 'C=CCCl', 'CCC#N', 'C1CC1', 'CC=C', 'CCO', 'CSC', 'CCS', 'COC']\n",
      "\n",
      "# atoms: 10\n",
      "\t['CC[N+](=O)[O-]', 'c1cc[nH]c1', 'CCC(=O)O', 'CS(=O)C', 'CC(=O)C', 'C(CO)O', 'C=CC=C', 'CCC#C', 'C=CCO', 'CCC=O', 'CSSC']\n",
      "\n",
      "# atoms: 11\n",
      "\t['COC(=O)C(F)(F)F', 'C[C@@H](CCl)Cl', 'c1cc(cnc1)Cl', 'c1ccnc(c1)Cl', 'CS(=O)(=O)C', 'COC(=O)CCl', 'C/C=C/C=O', 'C(CCl)CCl', 'c1ccncc1', 'CC(=O)OC', 'CC(C)Cl', 'CC(C)Br', 'CCOC=O', 'CC(C)I', 'CCCBr', 'CCCCl', 'CCCI', 'CCC', 'CNC', 'CCN']\n",
      "\n",
      "# atoms: 12\n",
      "\t['c1(c(c(c(c(c1Cl)Cl)Cl)Cl)Cl)Cl', 'c1(=O)[nH]c(=O)[nH]c(=O)[nH]1', 'C1(C(C(C1(F)F)(F)F)(F)F)(F)F', '[C@@H](C(F)(F)F)(OC(F)F)Cl', 'c1c(c(=O)[nH]c(=O)[nH]1)Br', 'c1c(c(=O)[nH]c(=O)[nH]1)Cl', 'c1c(c(=O)[nH]c(=O)[nH]1)F', 'c1c(c(=O)[nH]c(=O)[nH]1)I', 'c1c(=O)[nH]c(=O)[nH]c1Cl', 'c1c(cc(c(c1Cl)Cl)Cl)Cl', 'c1c(c(cc(c1Cl)Cl)Cl)Cl', 'c1cc(c(c(c1Cl)Cl)Cl)Cl', 'c1cc(c(c(c1)Cl)Cl)Cl', 'c1cc(c(cc1Cl)Cl)Cl', 'c1c(cc(cc1Cl)Cl)Cl', 'C[C@@H](C(F)(F)F)O', 'C(CO[N+](=O)[O-])O', 'C[C@H](C(F)(F)F)O', 'COC(C(Cl)Cl)(F)F', 'C1=CC(=O)C=CC1=O', 'c1cc(cc(c1)Cl)Cl', 'c1ccc(c(c1)Cl)Cl', 'c1cc(ccc1Br)Br', 'c1cc(ccc1Cl)Cl', 'c1cc(cnc1)C#N', 'COS(=O)(=O)C', 'c1ccc(cc1)Br', 'c1ccc(cc1)Cl', 'Cc1c[nH]cn1', 'c1ccc(cc1)F', 'c1cnccc1C#N', 'c1ccc(cc1)I', 'COC(=O)CC#N', 'c1ccc(cc1)S', 'c1ccccc1', 'CN(C)C=O', 'Cn1ccnc1', 'CCC(=O)N', 'CC(=O)NC', 'Cc1cccs1', 'CC(=C)C', 'C1CNC1', 'CC(C)O', 'CCCC#N', 'CCC=C', 'CCOC', 'CCCO', 'CCSC', 'CCCS']\n",
      "\n",
      "# atoms: 13\n",
      "\t['c1cc(c(c(c1)Cl)C#N)Cl', 'CC(=O)CO[N+](=O)[O-]', 'CC(C)[N+](=O)[O-]', 'c1cc(c(cc1O)Cl)Cl', 'c1cc(cc(c1)Cl)O', 'CCC[N+](=O)[O-]', 'c1ccc(c(c1)O)Cl', 'c1ccc(c(c1)O)F', 'c1cc(ccc1C#N)O', 'c1ccc(c(c1)O)I', 'COS(=O)(=O)OC', 'c1cc(ccc1O)Cl', 'c1cc(ccc1O)Br', 'c1ccc(cc1)C#N', 'c1cc(cnc1)C=O', 'c1cc(ccc1O)F', 'c1cnccc1C=O', 'c1ccc(cc1)O', 'CC(=C)C=C', 'CCCC(=O)O', 'Cc1cnccn1', 'CC(C)C=O', 'C1CC=CC1', 'Cn1cccc1', 'C1CCOC1', 'C=CCC=C', 'CCCC#C', 'CCCC=O', 'COCCO', 'COCOC']\n",
      "\n",
      "# atoms: 14\n",
      "\t['c1(c(c(c(c(c1Cl)Cl)Cl)Cl)Cl)N(=O)=O', 'C(CO[N+](=O)[O-])O[N+](=O)[O-]', 'c1ccc(c(c1)[N+](=O)[O-])O', 'c1cc(ccc1[N+](=O)[O-])O', 'c1ccc(cc1)[N+](=O)[O-]', 'c1cc(cc(c1)O)C#N', 'c1cc(cc(c1)Cl)N', 'c1ccc(c(c1)N)Cl', 'c1cc(ccc1N)Cl', 'c1ccc(cc1)C=O', 'CC[C@H](C)Cl', 'c1ccc(cc1)N', 'C1CCC(=O)C1', 'CC(=O)C1CC1', 'C(CCCl)CCl', 'CC(C)(C)Br', 'C(C(CO)O)O', 'CC(C)(C)Cl', 'Cc1ccncc1', 'CCOC(=O)C', 'CCC(=O)OC', 'Cc1ccccn1', 'CC(C)OC=O', 'Cc1cccnc1', 'C1COCCO1', 'CC(C)CBr', 'CCCOC=O', 'CN(C)C', 'CCCCCl', 'CC(C)C', 'CCCCBr', 'CCCCI', 'CCCC', 'CCCN']\n",
      "\n",
      "# atoms: 15\n",
      "\t['c1c(c(=O)[nH]c(=O)[nH]1)C(F)(F)F', 'c1cc(cc(c1)O)[N+](=O)[O-]', 'C1CC[S+2](C1)([O-])[O-]', 'c1ccc(cc1)C(F)(F)F', 'c1cc(cc(c1)O)C=O', 'c1ccc(c(c1)C=O)O', 'c1cc(ccc1C=O)O', 'c1ccc(cc1)OC=O', 'c1ccc(cc1)CBr', 'c1ccc(cc1)CCl', 'Cc1ccc(cc1)Br', 'C1C=CC=CC=C1', 'COC(=O)C1CC1', 'CC[C@H](C)O', 'Cc1ccccc1Cl', 'C(CCl)OCCCl', 'CC(C)(C)O', 'Cc1ccccc1', 'CC=C(C)C', 'CC/C=C\\\\C', 'CC(C)C=C', 'CC(C)CO', 'CCCCC#N', 'C1CCCC1', 'C1CCNC1', 'CC(C)OC', 'CCCC=C', 'CCCOC', 'CCCCO', 'CCSCC', 'CCOCC', 'CCCCS', 'COCCN']\n",
      "\n",
      "# atoms: 16\n",
      "\t['c1ccc(c(c1)N)[N+](=O)[O-]', 'c1cc(cc(c1)[N+](=O)[O-])N', 'c1ccc2c(c1)C(=O)NC2=O', 'c1cc(ccc1N)N(=O)=O', 'c1ccc(cc1)C(=O)N', 'CCCC[N+](=O)[O-]', 'Cc1cc(ccc1Cl)O', 'CC(=O)c1cccnc1', 'CC(=O)c1ccncc1', 'Cc1ccc(cc1)O', 'C[C@H]1CCCO1', 'Cc1cccc(c1)O', 'c1ccc(cc1)CO', 'CC(C)CC(=O)O', 'CC(=C)C(=C)C', 'CC(C)C(=O)C', 'C=Cc1ccccc1', 'CCc1cnccn1', 'Cc1ccccc1O', 'CSc1ccccc1', 'CCCCC(=O)O', 'C1CCC(C1)O', 'COc1ccccc1', 'C1CCC=CC1', 'CCCC(=O)C', 'CCC(=O)CC', 'C1COCCN1', 'C1CCOCC1', 'C=CCCC=C', 'CCCCC=O', 'CCCCC#C', 'COCCOC', 'CCSSCC', 'CCOCCO']\n",
      "\n",
      "# atoms: 17\n",
      "\t['C[C@@H](CO[N+](=O)[O-])O[N+](=O)[O-]', 'C(CO[N+](=O)[O-])CO[N+](=O)[O-]', 'CC[C@H](C)O[N+](=O)[O-]', 'Cc1cccc(c1)[N+](=O)[O-]', 'Cc1ccccc1[N+](=O)[O-]', 'CC(C)CO[N+](=O)[O-]', 'CCCCO[N+](=O)[O-]', 'c1ccc2c(c1)cccn2', 'CC(=O)c1ccccc1', 'Cc1ccc(cc1)C=O', 'COc1cccc(c1)O', 'COP(=O)(OC)OC', 'Cc1ccc(nc1)C', 'CC(C)OC(=O)C', 'Cc1ccccc1C=O', 'Cc1ccnc(c1)C', 'Cc1cccc(n1)C', 'Cc1ccc(cc1)N', 'Cc1cc(cnc1)C', 'C1CCC(=O)CC1', 'CCC/C=C/C=O', 'COc1ccccc1O', 'CCc1ccncc1', 'Cc1ccccc1N', 'CC(C)COC=O', 'CNc1ccccc1', 'CCC(=O)OCC', 'CCCC(=O)OC', 'Cc1ccncc1C', 'CCc1ccccn1', 'Cc1cccnc1C', 'CCCOC(=O)C', 'CCc1cccnc1', 'COC(OC)OC', 'CC(C)(C)C', 'C1CNCCN1', 'CCCCCBr', 'CCCCCCl', 'CCC(C)C', 'CCCCCI', 'CCCCN', 'CCNCC', 'CCCCC']\n",
      "\n",
      "# atoms: 18\n",
      "\t['c1cc(cc(c1)C(F)(F)F)C(F)(F)F', 'c1ccc(c(c1)C(F)(F)F)C(F)(F)F', 'COc1c(ccc(c1C(=O)O)Cl)Cl', 'COC(=O)c1ccccc1', 'c1ccc2ccccc2c1', 'CC[C@@H](C)CO', 'COc1cccc(c1)N', 'CCC[C@@H](C)O', 'COc1ccc(cc1)N', 'Cc1ccc(cc1)C', 'Cc1cccc(c1)C', 'COc1ccccc1N', 'Cc1ccccc1C', 'CC(C)(C)OC', 'CCC(C)(C)O', 'CCc1ccccc1', 'CCCC(=C)C', 'CC1CCCC1', 'CC(C)CCO', 'C1CCCCC1', 'C1CCNCC1', 'CCC(CC)O', 'CCCCC=C', 'CCCCCO']\n",
      "\n",
      "# atoms: 19\n",
      "\t['c1ccc(cc1)O[C@@H](C(F)F)F', 'C[C@H]1CC[C@@H](O1)C', 'COC(=O)c1ccc(cc1)O', 'Cc1c[nH]c2c1cccc2', 'c1ccc2c(c1)cccc2O', 'CCCCC[N+](=O)[O-]', 'c1ccc2cc(ccc2c1)O', 'Cc1ccc(c(c1)O)C', 'Cc1ccc(c(c1)C)O', 'c1ccc2c(c1)CCC2', 'Cc1cc(cc(c1)O)C', 'CC(=O)C(C)(C)C', 'CC(=C)c1ccccc1', 'c1ccc(cc1)CCO', 'CCc1ccc(cc1)O', 'Cc1cccc(c1C)O', 'CC(=O)N1CCCC1', 'Cc1ccc(cc1C)O', 'Cc1cccc(c1O)C', 'CCc1cccc(c1)O', 'CC(C)CC(=O)C', 'CCOc1ccccc1', 'CCc1ccccc1O', 'CCCCCC(=O)O', 'C1CCC(CC1)O', 'CCCCC(=O)C', 'CC1=CCCCC1', 'CN1CCOCC1', 'CCCCCC#C', 'CCCCCC=O', 'CCCOCCO']\n",
      "\n",
      "# atoms: 20\n",
      "\t['C[C@@H](CCO[N+](=O)[O-])O[N+](=O)[O-]', 'C1[C@H]([C@@H]([C@H]([C@H](O1)O)O)O)O', 'COP(=O)([C@H](C(Cl)(Cl)Cl)O)OC', 'COC(=O)c1ccc(cc1)[N+](=O)[O-]', 'CC(=O)Oc1ccccc1C(=O)O', 'COC(C(F)(F)F)(OC)OC', 'CC(OC(=O)C)OC(=O)C', 'Cc1ccc(cc1)C(=O)C', 'c1ccc2c(c1)cccc2N', 'c1ccc2cc(ccc2c1)N', 'Cc1ccc(c(c1)OC)O', 'CC(=O)OCCOC(=O)C', 'CC(C)(C)C(=O)OC', 'COC(CCl)(OC)OC', 'Cc1cccc(c1N)C', 'CC(C)COC(=O)C', 'CN(C)c1ccccc1', 'COc1ccccc1OC', 'CC(OC)(OC)OC', 'CCCC(=O)OCC', 'CCCCC(=O)OC', 'CCCOC(=O)CC', 'CCCCOC(=O)C', 'CC(C)CCOC=O', 'CCC(C)(C)C', 'CC(C)C(C)C', 'CN1CCNCC1', 'CCCCCCBr', 'CCCCCCCl', 'CCCC(C)C', 'CCC(C)CC', 'CCCCCCI', 'CCCCCC', 'CCCCCN']\n",
      "\n",
      "# atoms: 21\n",
      "\t['COc1c(cc(c(c1O)OC)Cl)Cl', 'CC(=O)c1ccc(cc1)OC', 'CCOC(=O)c1ccccc1', 'Cc1ccc(c(c1)C)C', 'Cc1cccc2c1cccc2', 'C[C@H](CC(C)C)O', 'COc1cccc(c1O)OC', 'COC(CC#N)(OC)OC', 'CC[C@H](C(C)C)O', 'Cc1cc(cc(c1)C)C', 'CC(C)c1ccccc1', 'CCC[C@H](CC)O', 'CCc1ccc(cc1)C', 'Cc1cccc(c1C)C', 'CCOCCOC(=O)C', 'C1CCC(CC1)N', 'CCCC(C)(C)O', 'CC(C)SC(C)C', 'CCCc1ccccc1', 'CCCCCC(=O)N', 'CC(C)OC(C)C', 'CCc1ccccc1C', 'CCCC/C=C/C', 'CC1CCCCC1', 'CN1CCCCC1', 'CCCCCC=C', 'CCCOCCC', 'CCCSCCC', 'CCCCCCO']\n",
      "\n",
      "# atoms: 22\n",
      "\t['C1=C[C@@H]([C@@H]2[C@H]1[C@@]3(C(=C([C@]2(C3(Cl)Cl)Cl)Cl)Cl)Cl)Cl', 'c1(c(c(c(c(c1Cl)Cl)Cl)Cl)Cl)c2c(c(c(c(c2Cl)Cl)Cl)Cl)Cl', 'c12c(c(c(c(c1Cl)Cl)Cl)Cl)Oc3c(c(c(c(c3Cl)Cl)Cl)Cl)O2', 'c1c(c(c(c(c1Cl)Cl)Cl)Cl)c2c(cc(c(c2Cl)Cl)Cl)Cl', 'c1c2c(cc(c1Cl)Cl)Oc3c(c(c(c(c3Cl)Cl)Cl)Cl)O2', 'c1c(cc(c(c1Cl)Cl)Cl)c2cc(c(c(c2Cl)Cl)Cl)Cl', 'c1cc(c(c(c1c2cc(c(c(c2Cl)Cl)Cl)Cl)Cl)Cl)Cl', 'c1cc2c(cc1Cl)Oc3c(c(c(c(c3Cl)Cl)Cl)Cl)O2', 'c1cc(c(cc1c2cc(c(c(c2Cl)Cl)Cl)Cl)Cl)Cl', 'c1ccc2c(c1)Oc3c(c(c(c(c3Cl)Cl)Cl)Cl)O2', 'c1cc(c(cc1c2c(c(cc(c2Cl)Cl)Cl)Cl)Cl)Cl', 'c1cc(c(cc1Cl)c2cc(c(c(c2)Cl)Cl)Cl)Cl', 'c1c2c(cc(c1Cl)Cl)Oc3cc(c(cc3O2)Cl)Cl', 'c1cc2c(cc1Cl)Oc3cc(c(c(c3O2)Cl)Cl)Cl', 'c1cc(c(c(c1)Cl)c2c(cc(cc2Cl)Cl)Cl)Cl', 'c1ccc2c(c1)Oc3c(cc(c(c3O2)Cl)Cl)Cl', 'c1cc(c(c(c1)Cl)c2c(cccc2Cl)Cl)Cl', 'c1ccc(cc1)c2cc(c(c(c2Cl)Cl)Cl)Cl', 'c1ccc2c(c1)Oc3cc(c(cc3O2)Cl)Cl', 'c1ccc(cc1)c2c(cc(cc2Cl)Cl)Cl', 'c1cc2c(cc1Cl)Oc3ccc(cc3O2)Cl', 'c1ccc2c(c1)Oc3cccc(c3O2)Cl', 'c1ccc2c(c1)Oc3ccc(cc3O2)Cl', 'c1ccc(cc1)c2cc(ccc2Cl)Cl', 'CCC(=O)Nc1ccc(c(c1)Cl)Cl', 'c1ccc2c(c1)Oc3ccccc3O2', 'c1ccc(cc1)c2ccccc2Cl', 'c1cc2cccc3c2c(c1)CC3', 'COc1ccc(cc1)C(=O)OC', 'CCOC(=O)c1ccc(cc1)O', 'CN(C)C(=O)c1ccccc1', 'c1ccc(cc1)c2ccccc2', 'c1ccc(cc1)Cn2ccnc2', 'CC(C)C(=O)C(C)C', 'CCCc1ccc(cc1)O', 'c1ccc(cc1)CCCO', 'CC(C)Cc1cnccn1', 'C1CCCC(CC1)O', 'CCCCCC(=O)C', 'CCCC(=O)CCC', 'CCOC(C)OCC', 'CCCCCCC#C', 'CCCCCCC=O', 'CCOCCOCC', 'CCCCOCCO']\n",
      "\n",
      "# atoms: 23\n",
      "\t['c1ccc(cc1)n2c(=O)c(c(cn2)N)Cl', 'COc1c(c(c(c(c1Cl)C=O)Cl)OC)O', 'COc1cc(c(c(c1O)OC)Cl)C=O', 'c1ccc-2c(c1)Cc3c2cccc3', 'CN(CC(F)(F)F)c1ccccc1', 'CCCCCCO[N+](=O)[O-]', 'c1ccc(cc1)Oc2ccccc2', 'CCOC(=O)CC(=O)OCC', 'CC[C@@H](C)C(C)C', 'CC(=O)C1CCCCC1', 'CC(C)CCOC(=O)C', 'CCCCC/C=C/C=O', 'CCC[C@H](C)CC', 'CCCC(=O)OCCC', 'CCCCCC(=O)OC', 'CCCCC(=O)OCC', 'CN1CCN(CC1)C', 'CCCCCOC(=O)C', 'CCC(C)(C)CC', 'CC(C)CC(C)C', 'CCCC(C)(C)C', 'CC(C)NC(C)C', 'CCCCCCCBr', 'CCN(CC)CC', 'CCCCCCCCl', 'CCCCC(C)C', 'CCCCCCCI', 'CCCCCCC', 'CCCCCCN', 'CCCNCCC']\n",
      "\n",
      "# atoms: 24\n",
      "\t['C1[C@H]([C@@H]2[C@H]([C@H]1Cl)[C@]3(C(=C([C@@]2(C3(Cl)Cl)Cl)Cl)Cl)Cl)Cl', 'C([C@@H]1[C@H]([C@@H]([C@H]([C@@H](O1)O)O)O)O)O', 'C1C=CC[C@@H]2[C@@H]1C(=O)N(C2=O)SC(Cl)(Cl)Cl', 'CN(C)C(=O)c1ccc(cc1)[N+](=O)[O-]', 'Cn1cnc2c1c(=O)n(c(=O)n2C)C', 'c1ccc2c(c1)ccc3c2cccc3', 'CC1=CC(=O)CC(C1)(C)C', 'C[C@@H]1CCCC[C@@H]1C', 'c1ccc2cc3ccccc3cc2c1', 'CN(C)C(=O)Nc1ccccc1', 'Cc1cc(c2ccccc2c1)C', 'Cc1ccc2cc(ccc2c1)C', 'Cc1ccc(c2c1cccc2)C', 'CC[C@H](C)c1ccccc1', 'CC(C)(C)c1ccccc1', 'Cc1ccc(cc1)C(C)C', 'CCc1cccc2c1cccc2', 'Cc1cc2ccccc2cc1C', 'COC(=O)C1CCCCC1', 'CC(C)Cc1ccccc1', 'COCC(OC)(OC)OC', 'CCCCc1ccccc1', 'CC1CCC(CC1)C', 'CCCC1CCCC1', 'CCCCCCC=C', 'CCCCCCCO']\n",
      "\n",
      "# atoms: 25\n",
      "\t['C1[C@@H]2[C@H](COS(=O)O1)[C@@]3(C(=C([C@]2(C3(Cl)Cl)Cl)Cl)Cl)Cl', 'c1cc(c(cc1c2ccc(cc2F)F)C(=O)O)O', 'CC(=C)[C@H]1CCC(=CC1)C=O', 'Cc1ccc(cc1)C(=O)N(C)C', 'CCNc1nc(nc(n1)Cl)NCC', 'CCCOC(=O)c1ccc(cc1)O', 'CC(C)(C)c1ccc(cc1)O', 'CCCCOC[C@H](C)O', 'CCCCCCC(=O)C', 'CCCCCCCC=O']\n",
      "\n",
      "# atoms: 26\n",
      "\t['C([C@H]([C@H]([C@@H]([C@@H](CO)O)O)O)O)O', 'c1ccc2c(c1)C(=O)c3c(ccc(c3C2=O)O)N', 'COP(=S)(OC)Oc1ccc(cc1)[N+](=O)[O-]', 'c1ccc2c(c1)C(=O)c3ccc(cc3C2=O)N', 'c1ccc2c(c1)C(=O)c3cccc(c3C2=O)N', 'c1cc2ccc3cccc4c3c2c(c1)cc4', 'CC(C)(/C=N\\\\OC(=O)NC)SC', 'CN(C)C(=O)c1ccc(cc1)OC', 'CNC(=O)Oc1cccc2c1cccc2', 'c1ccc2c(c1)Cc3ccccc3C2', 'C=C(c1ccccc1)c2ccccc2', 'CCCc1ccc(c(c1)OC)O', 'CCOC(=O)CCC(=O)OCC', 'CC(C)COC(=O)C(C)C', 'CCOP(=O)(OCC)OCC', 'CCCC[C@@H](C)CC', 'CC(C)C(C)C(C)C', 'CC(C)CC(C)(C)C', 'CCCCCC(=O)OCC', 'CCCCCOC(=O)CC', 'CCCCCCOC(=O)C', 'CCCCCCCCBr', 'CCCCCCCC', 'CCCCCCCN']\n",
      "\n",
      "# atoms: 27\n",
      "\t['C1[C@@H]2[C@H]3[C@@H]([C@H]1[C@H]4[C@@H]2O4)[C@@]5(C(=C([C@]3(C5(Cl)Cl)Cl)Cl)Cl)Cl', 'Cc1c(c(=O)n(c(=O)[nH]1)C(C)(C)C)Cl', 'CC[C@H](C)n1c(=O)c(c([nH]c1=O)C)Br', 'CC1=CC[C@H](C[C@@H]1O)C(=C)C', 'C[C@@H]1CC[C@H](CC1=O)C(=C)C', 'CC1=CC(=O)[C@@H](CC1)C(C)C', 'COC(c1ccccc1)(OC)OC', 'CCCCCc1ccccc1', 'CCCCCCCC=C', 'CCCCOCCCC', 'CCCCCCCCO']\n",
      "\n",
      "# atoms: 28\n",
      "\t['CC[C@@H](C)c1cc(cc(c1O)[N+](=O)[O-])[N+](=O)[O-]', 'c1ccc2c(c1)C(=O)c3c(ccc(c3C2=O)N)N', 'CCCCOC(=O)c1ccc(cc1)O', 'CCCCC(=O)CCCC', 'CCCCCCCC(=O)C', 'CCCCCCCCC=O']\n",
      "\n",
      "# atoms: 29\n",
      "\t['CCOP(=S)(OCC)Oc1c(cc(c(n1)Cl)Cl)Cl', 'C[C@@H]1CC[C@H](C(=O)C1)C(C)C', 'CC(=O)OCC(COC(=O)C)OC(=O)C', 'CC(=CCC/C(=C\\\\CO)/C)C', 'CC(=CCC/C(=C/CO)/C)C', 'CC(C)CCC(C)(C)C', 'CCCCCCCC(=O)OC', 'CCCCCCCCC', 'CCCCNCCCC', 'CCCCCCCCN']\n",
      "\n",
      "# atoms: 30\n",
      "\t['C[C@@H](c1ccc(c(c1)F)c2ccccc2)C(=O)O', 'C[C@@H](c1ccc2cc(ccc2c1)OC)C(=O)O', 'CCOP(=S)(OCC)SCSCC', 'CCOC(OCC)Oc1ccccc1', 'CCCCCCc1ccccc1', 'CCCCCC1CCCC1', 'CCCCCCCCCO']\n",
      "\n",
      "# atoms: 31\n",
      "\t['C[C@@H]1CC[C@H]([C@@H](C1)O)C(C)C', 'COP(=S)(OC)SCn1c(=O)c2ccccc2nn1', 'CC1(Cc2cccc(c2O1)OC(=O)NC)C', 'CCCCCCCCC(=O)C']\n",
      "\n",
      "# atoms: 32\n",
      "\t['C[C@@H](c1cccc(c1)C(=O)c2ccccc2)C(=O)O', 'CCOP(=S)(OCC)Oc1ccc(cc1)[N+](=O)[O-]', 'C[C@@H](c1ccc(cc1)CC(C)C)C(=O)O', 'Cc1cccc(c1C)Nc2ccccc2C(=O)O', 'CCNc1nc(nc(n1)SC)NC(C)C', 'CCCCCCCCCC']\n",
      "\n",
      "# atoms: 33\n",
      "\t['c1ccc2c(c1)C(=O)c3cccc(c3C2=O)NCCO', 'CCCCCCCCCCO']\n",
      "\n",
      "# atoms: 34\n",
      "\t['CCOP(=O)(OCC)O/C(=C/Cl)/c1ccc(cc1Cl)Cl', 'CCOP(=S)(OCC)SCSc1ccc(cc1)Cl', 'CC(=CCC[C@](C)(C=C)OC(=O)C)C', 'CCCN(CCC)C(=O)SCCC', 'CCCCN(CC)C(=O)SCCC', 'CCCCCCCCCC(=O)C']\n",
      "\n",
      "# atoms: 35\n",
      "\t['CCN(CC)c1c(cc(c(c1[N+](=O)[O-])N)C(F)(F)F)[N+](=O)[O-]', 'Cc1c(nc(nc1OC(=O)N(C)C)N(C)C)C', 'CCNc1nc(nc(n1)SC)NC(C)(C)C']\n",
      "\n",
      "# atoms: 38\n",
      "\t['CCOC(=O)C[C@H](C(=O)OCC)SP(=S)(OC)OC', 'CCc1cccc(c1N(COC)C(=O)CCl)CC']\n",
      "\n",
      "# atoms: 39\n",
      "\t['CCCC[N@](CC)c1c(cc(cc1[N+](=O)[O-])C(F)(F)F)[N+](=O)[O-]', 'CCCN(CCC)c1c(cc(cc1[N+](=O)[O-])C(F)(F)F)[N+](=O)[O-]']\n",
      "\n",
      "# atoms: 40\n",
      "\t['CCC[N@@](CC1CC1)c2c(cc(cc2[N+](=O)[O-])C(F)(F)F)[N+](=O)[O-]', 'CCOP(=S)(OCC)S[C@@H](CCl)N1C(=O)c2ccccc2C1=O', 'CCOP(=S)(OCC)Oc1cc(nc(n1)C(C)C)C']\n",
      "\n",
      "# atoms: 41\n",
      "\t['CCOP(=S)(OCC)SCSP(=S)(OCC)OCC', 'CN(C)CCOC(c1ccccc1)c2ccccc2']\n",
      "\n",
      "# atoms: 42\n",
      "\t['CCCN(CCC)c1c(cc(cc1[N+](=O)[O-])S(=O)(=O)C)[N+](=O)[O-]']\n",
      "\n",
      "# atoms: 45\n",
      "\t['CN(C)CCC=C1c2ccccc2CCc3c1cccc3']\n",
      "\n"
     ]
    }
   ],
   "source": [
    "for n in sorted(list(set(n_atom_list))):\n",
    "    mol_indices = [i for i in range(len(n_atom_list)) if n_atom_list[i] == n]\n",
    "    print('# atoms: {}'.format(n))\n",
    "    print('\\t' + str([smiles_list[mol_index] for mol_index in mol_indices]) + '\\n')"
   ]
  },
  {
   "cell_type": "code",
   "execution_count": 8,
   "metadata": {},
   "outputs": [
    {
     "data": {
      "text/plain": [
       "317"
      ]
     },
     "execution_count": 8,
     "metadata": {},
     "output_type": "execute_result"
    }
   ],
   "source": [
    "# pick one with 5 atoms and 3 distinct elements\n",
    "smiles = 'C(F)(F)(F)Br'\n",
    "mol_index_in_smiles_list = -1\n",
    "for i in range(len(smiles_list)):\n",
    "    if smiles_list[i] == smiles:\n",
    "        mol_index_in_smiles_list = i\n",
    "mol_index_in_smiles_list"
   ]
  },
  {
   "cell_type": "code",
   "execution_count": null,
   "metadata": {},
   "outputs": [],
   "source": []
  },
  {
   "cell_type": "code",
   "execution_count": null,
   "metadata": {},
   "outputs": [],
   "source": []
  },
  {
   "cell_type": "code",
   "execution_count": 9,
   "metadata": {},
   "outputs": [],
   "source": [
    "from simtk.openmm import app\n",
    "from simtk import openmm as mm\n",
    "from simtk import unit\n",
    "from tqdm import tqdm\n",
    "from openmmtools.integrators import BAOABIntegrator\n",
    "\n",
    "def get_nb_force(system):\n",
    "    forces = sys.getForces()\n",
    "    for f in forces:\n",
    "        if 'NonbondedForce' in f.__class__.__name__:\n",
    "            return f\n",
    "    raise(Exception('No nonbonded force found'))    \n",
    "\n",
    "def construct_gbsa_force(system):\n",
    "    nb_force = get_nb_force(system)\n",
    "    \n",
    "    gbsa = mm.GBSAOBCForce()\n",
    "    for i in range(nb_force.getNumParticles()):\n",
    "        charge = nb_force.getParticleParameters(i)[0]\n",
    "        gbsa.addParticle(charge=charge, radius=1.0, scalingFactor=1.0)\n",
    "    return gbsa\n",
    "\n",
    "def get_vacuum_samples(topology, system, positions, n_samples=100, thinning=10000):\n",
    "    vacuum_sim = app.Simulation(topology,\n",
    "                         system,\n",
    "                         BAOABIntegrator(temperature=298 * unit.kelvin,\n",
    "                                         collision_rate=1.0 / unit.picosecond,\n",
    "                                         timestep=1.0 * unit.femtosecond,\n",
    "                                         measure_heat=False,\n",
    "                                         measure_shadow_work=False,\n",
    "                                        ),\n",
    "                         platform=mm.Platform.getPlatformByName('Reference')\n",
    "                        )\n",
    "    vacuum_sim.context.setPositions(positions)\n",
    "    vacuum_sim.context.setVelocitiesToTemperature(298 * unit.kelvin)\n",
    "    vacuum_sim.minimizeEnergy()\n",
    "    vacuum_sim.step(thinning)\n",
    "\n",
    "    vacuum_traj = []\n",
    "    for _ in tqdm(range(n_samples)):\n",
    "        vacuum_sim.step(thinning)\n",
    "        vacuum_traj.append(vacuum_sim.context.getState(getPositions=True).getPositions(asNumpy=True))\n",
    "    \n",
    "    return vacuum_sim, vacuum_traj"
   ]
  },
  {
   "cell_type": "code",
   "execution_count": 10,
   "metadata": {},
   "outputs": [
    {
     "data": {
      "text/plain": [
       "['C1', 'F1', 'F2', 'F3', 'Br1']"
      ]
     },
     "execution_count": 10,
     "metadata": {},
     "output_type": "execute_result"
    }
   ],
   "source": [
    "mol, top, sys, pos = mol_top_sys_pos_list[mol_index_in_smiles_list]\n",
    "atom_names = [a.name for a in top.atoms()]\n",
    "atom_names"
   ]
  },
  {
   "cell_type": "code",
   "execution_count": 11,
   "metadata": {},
   "outputs": [
    {
     "name": "stderr",
     "output_type": "stream",
     "text": [
      "100%|██████████| 5/5 [03:22<00:00, 40.46s/it]\n"
     ]
    }
   ],
   "source": [
    "vacuum_sim, vacuum_traj = get_vacuum_samples(top, sys, pos, n_samples=5, thinning=500000)"
   ]
  },
  {
   "cell_type": "code",
   "execution_count": 12,
   "metadata": {},
   "outputs": [],
   "source": [
    "from openmmtools.constants import kB\n",
    "temperature = 298 * unit.kelvin\n",
    "beta = 1.0 / (kB * temperature)"
   ]
  },
  {
   "cell_type": "code",
   "execution_count": 13,
   "metadata": {},
   "outputs": [],
   "source": [
    "path = \"/Users/joshuafass/Documents/MSKCC/Chodera Lab/feedstock/FreeSolv-0.51/database.txt\"\n",
    "from pickle import load\n",
    "with open(path, 'r') as f:\n",
    "    freesolv = f.read()\n",
    "from tqdm import tqdm\n",
    "db = []\n",
    "for entry in freesolv.split('\\n')[3:-1]:\n",
    "    db.append(entry.split('; '))"
   ]
  },
  {
   "cell_type": "code",
   "execution_count": 14,
   "metadata": {},
   "outputs": [
    {
     "data": {
      "text/plain": [
       "(502, 317)"
      ]
     },
     "execution_count": 14,
     "metadata": {},
     "output_type": "execute_result"
    }
   ],
   "source": [
    "mol_index_in_freesolv = -1\n",
    "for i in range(len(db)):\n",
    "    if db[i][1] == smiles:\n",
    "        mol_index_in_freesolv = i\n",
    "mol_index_in_freesolv, mol_index_in_smiles_list"
   ]
  },
  {
   "cell_type": "code",
   "execution_count": 15,
   "metadata": {},
   "outputs": [
    {
     "data": {
      "text/plain": [
       "['mobley_7732703',\n",
       " 'C(F)(F)(F)Br',\n",
       " 'bromo-trifluoro-methane',\n",
       " '1.79',\n",
       " '0.60',\n",
       " '1.56',\n",
       " '0.02',\n",
       " '10.1021/ct050097l',\n",
       " '10.1021/ct800409d',\n",
       " 'Experimental uncertainty not presently available, so assigned a default value.  ']"
      ]
     },
     "execution_count": 15,
     "metadata": {},
     "output_type": "execute_result"
    }
   ],
   "source": [
    "db[mol_index_in_freesolv]"
   ]
  },
  {
   "cell_type": "code",
   "execution_count": 16,
   "metadata": {},
   "outputs": [
    {
     "data": {
      "text/plain": [
       "3.0226909312533237"
      ]
     },
     "execution_count": 16,
     "metadata": {},
     "output_type": "execute_result"
    }
   ],
   "source": [
    "from simtk import unit\n",
    "experimental_value = beta * (float(db[mol_index_in_freesolv][3]) * unit.kilocalorie_per_mole)\n",
    "experimental_value"
   ]
  },
  {
   "cell_type": "code",
   "execution_count": 17,
   "metadata": {},
   "outputs": [
    {
     "data": {
      "text/plain": [
       "1.0131924909229018"
      ]
     },
     "execution_count": 17,
     "metadata": {},
     "output_type": "execute_result"
    }
   ],
   "source": [
    "experimental_uncertainty = beta * (float(db[mol_index_in_freesolv][4]) * unit.kilocalorie_per_mole)\n",
    "experimental_uncertainty"
   ]
  },
  {
   "cell_type": "code",
   "execution_count": 18,
   "metadata": {},
   "outputs": [],
   "source": [
    "from copy import deepcopy\n",
    "deepcopy(sys)\n",
    "\n",
    "def create_implicit_sim(topology, system):\n",
    "    \"\"\"Implicit solvent will be force group 0, everything else will be force group 1\"\"\"\n",
    "    gbsa = construct_gbsa_force(system)\n",
    "    new_system = deepcopy(system)\n",
    "    new_system.addForce(gbsa)\n",
    "    \n",
    "    implicit_sim = app.Simulation(topology,\n",
    "                         new_system,\n",
    "                         mm.LangevinIntegrator(298 * unit.kelvin, 1.0 / unit.picosecond, 1.0 * unit.femtosecond),\n",
    "                         platform=mm.Platform.getPlatformByName('Reference')\n",
    "                        )\n",
    "    \n",
    "    for force in implicit_sim.system.getForces():\n",
    "        force.setForceGroup(1)\n",
    "    \n",
    "    gbsa.setForceGroup(0)\n",
    "\n",
    "    return implicit_sim"
   ]
  },
  {
   "cell_type": "code",
   "execution_count": 19,
   "metadata": {},
   "outputs": [],
   "source": [
    "def get_implicit_u_diffs(implicit_sim, x):\n",
    "    u_diff = np.zeros(len(x))\n",
    "\n",
    "    for i in range(len(x)):\n",
    "        #vacuum_sim.context.setPositions(x[i])\n",
    "        implicit_sim.context.setPositions(x[i])\n",
    "        \n",
    "        \n",
    "        # TODO: test where I ensure that the force-group hackery is giving me the same as this diff\n",
    "        #U_implicit = implicit_sim.context.getState(getEnergy=True).getPotentialEnergy()\n",
    "        #U_vacuum = vacuum_sim.context.getState(getEnergy=True).getPotentialEnergy()\n",
    "        #u_diff[i] = beta * (U_implicit - U_vacuum)\n",
    "        \n",
    "        \n",
    "        u_diff[i] = beta * implicit_sim.context.getState(getEnergy=True, groups={0}).getPotentialEnergy()\n",
    "    return u_diff\n",
    "\n",
    "implicit_sim = create_implicit_sim(top, sys)"
   ]
  },
  {
   "cell_type": "code",
   "execution_count": 20,
   "metadata": {},
   "outputs": [
    {
     "data": {
      "text/plain": [
       "array([28.29444796, 28.40666716, 27.71288059, 28.55233915, 28.73546747])"
      ]
     },
     "execution_count": 20,
     "metadata": {},
     "output_type": "execute_result"
    }
   ],
   "source": [
    "u_diffs = get_implicit_u_diffs(implicit_sim, vacuum_traj)\n",
    "u_diffs"
   ]
  },
  {
   "cell_type": "code",
   "execution_count": 21,
   "metadata": {},
   "outputs": [
    {
     "data": {
      "text/plain": [
       "[<matplotlib.lines.Line2D at 0x11e55b240>]"
      ]
     },
     "execution_count": 21,
     "metadata": {},
     "output_type": "execute_result"
    },
    {
     "data": {
      "image/png": "[encoded data removed]",
      "text/plain": [
       "<Figure size 432x288 with 1 Axes>"
      ]
     },
     "metadata": {},
     "output_type": "display_data"
    }
   ],
   "source": [
    "plt.plot(u_diffs)"
   ]
  },
  {
   "cell_type": "code",
   "execution_count": 22,
   "metadata": {},
   "outputs": [
    {
     "data": {
      "image/png": "[encoded data removed]",
      "text/plain": [
       "<Figure size 432x288 with 1 Axes>"
      ]
     },
     "metadata": {},
     "output_type": "display_data"
    }
   ],
   "source": [
    "plt.hist(u_diffs, bins=50);"
   ]
  },
  {
   "cell_type": "code",
   "execution_count": 23,
   "metadata": {},
   "outputs": [
    {
     "data": {
      "text/plain": [
       "Text(0,0.5,'estimated $\\\\Delta F$')"
      ]
     },
     "execution_count": 23,
     "metadata": {},
     "output_type": "execute_result"
    },
    {
     "data": {
      "image/png": "[encoded data removed]",
      "text/plain": [
       "<Figure size 432x288 with 1 Axes>"
      ]
     },
     "metadata": {},
     "output_type": "display_data"
    }
   ],
   "source": [
    "import pymbar\n",
    "means, uncs = [], []\n",
    "for i in range(1, len(u_diffs)):\n",
    "    mean, unc = pymbar.EXP(u_diffs[:i])\n",
    "    means.append(mean)\n",
    "    uncs.append(unc)\n",
    "means = np.array(means)\n",
    "uncs = np.array(uncs)\n",
    "\n",
    "plt.errorbar(range(1, 1 + len(means)), means, 1.96 * uncs)\n",
    "plt.xlabel('# configuration samples included')\n",
    "plt.ylabel(r'estimated $\\Delta F$')"
   ]
  },
  {
   "cell_type": "code",
   "execution_count": 24,
   "metadata": {},
   "outputs": [],
   "source": [
    "def get_gbsa_force(system):\n",
    "    for force in system.getForces():\n",
    "        if \"GBSA\" in force.__class__.__name__:\n",
    "            return force\n",
    "    raise(Exception('No GBSA force found'))\n",
    "    \n",
    "def predict_solvation_free_energy(theta):\n",
    "    radii, scaling_factors = theta[:int(len(theta) / 2)], theta[int(len(theta) / 2):]\n",
    "    gbsa = get_gbsa_force(implicit_sim.context.getSystem())\n",
    "    \n",
    "    for i in range(len(radii)):\n",
    "        charge = gbsa.getParticleParameters(i)[0]\n",
    "        gbsa.setParticleParameters(index=i,\n",
    "                                   charge=charge,\n",
    "                                   radius=radii[i],\n",
    "                                   scalingFactor=scaling_factors[i],\n",
    "                                  )\n",
    "    \n",
    "    gbsa.updateParametersInContext(implicit_sim.context)\n",
    "    u_diffs = get_implicit_u_diffs(implicit_sim, vacuum_traj)\n",
    "    mean, unc = pymbar.EXP(u_diffs)\n",
    "    \n",
    "    return mean, unc\n",
    "\n",
    "def log_likelihood_with_predictive_uncertainty(theta):\n",
    "    \"\"\"theta includes radii and scaling factors\"\"\"\n",
    "\n",
    "    mean, unc = predict_solvation_free_energy(theta)\n",
    "    \n",
    "    return - (mean - experimental_value)**2 / (unc * experimental_uncertainty)\n",
    "\n",
    "def log_likelihood(theta):\n",
    "    \"\"\"ignore predictive uncertainty\"\"\"\n",
    "\n",
    "    mean, unc = predict_solvation_free_energy(theta)\n",
    "    \n",
    "    return - (mean - experimental_value)**2 / (experimental_uncertainty**2)\n",
    "\n",
    "def log_prior(theta):\n",
    "    '''uniform in [0, 10]^d'''\n",
    "    if (np.min(theta) <= 0) or (np.max(theta) >= 10):\n",
    "        return - np.inf\n",
    "    else:\n",
    "        return 0\n",
    "\n",
    "def log_prob(theta):\n",
    "    return log_prior(theta) + log_likelihood(theta)\n",
    "\n",
    "theta0 = np.ones(len(pos) * 2)"
   ]
  },
  {
   "cell_type": "code",
   "execution_count": 25,
   "metadata": {},
   "outputs": [
    {
     "data": {
      "text/plain": [
       "(array([1., 1., 1., 1., 1., 1., 1., 1., 1., 1.]), (10,))"
      ]
     },
     "execution_count": 25,
     "metadata": {},
     "output_type": "execute_result"
    }
   ],
   "source": [
    "theta0, theta0.shape"
   ]
  },
  {
   "cell_type": "code",
   "execution_count": 26,
   "metadata": {},
   "outputs": [
    {
     "name": "stdout",
     "output_type": "stream",
     "text": [
      "CPU times: user 1.53 ms, sys: 294 µs, total: 1.82 ms\n",
      "Wall time: 1.77 ms\n"
     ]
    },
    {
     "data": {
      "text/plain": [
       "-621.1757809131318"
      ]
     },
     "execution_count": 26,
     "metadata": {},
     "output_type": "execute_result"
    }
   ],
   "source": [
    "%%time\n",
    "log_likelihood(theta0)"
   ]
  },
  {
   "cell_type": "code",
   "execution_count": 27,
   "metadata": {},
   "outputs": [],
   "source": [
    "def random_walk_mh(x0, log_prob_fun, n_steps=1000, stepsize=0.1):\n",
    "    \n",
    "    dim = len(x0)\n",
    "    \n",
    "    traj = [x0]\n",
    "    log_probs = [log_prob_fun(x0)]\n",
    "    \n",
    "    acceptances = 0\n",
    "    r = range(n_steps)\n",
    "    trange = tqdm(r)\n",
    "    #for n in r:\n",
    "    for n in trange:\n",
    "        \n",
    "        x_proposal = traj[-1] + stepsize * np.random.randn(dim)\n",
    "        log_prob_proposal = log_prob_fun(x_proposal)\n",
    "        \n",
    "        if np.random.rand() < np.exp(log_prob_proposal - log_probs[-1]):\n",
    "            traj.append(x_proposal)\n",
    "            log_probs.append(log_prob_proposal)\n",
    "            acceptances += 1\n",
    "        else:\n",
    "            traj.append(traj[-1])\n",
    "            log_probs.append(log_probs[-1])\n",
    "        \n",
    "        trange.set_postfix({'log_prob': log_probs[-1], 'accept_fraction': float(acceptances) / (1 + n)})\n",
    "    del(trange)\n",
    "    \n",
    "    return np.array(traj), np.array(log_probs), float(acceptances) / n_steps"
   ]
  },
  {
   "cell_type": "code",
   "execution_count": 28,
   "metadata": {},
   "outputs": [],
   "source": [
    "import pyemma"
   ]
  },
  {
   "cell_type": "code",
   "execution_count": 29,
   "metadata": {},
   "outputs": [],
   "source": [
    "from corner import corner"
   ]
  },
  {
   "cell_type": "code",
   "execution_count": 30,
   "metadata": {},
   "outputs": [],
   "source": [
    "def log_prob_with_predictive_uncertainty(theta):\n",
    "    return log_prior(theta) + log_likelihood_with_predictive_uncertainty(theta)"
   ]
  },
  {
   "cell_type": "code",
   "execution_count": 31,
   "metadata": {},
   "outputs": [],
   "source": [
    "# question: can I just parameterize the radii and hold the scale factors constant?\n",
    "# maybe we should modify log_prob_with_predictive_uncertainty to include some additive constant"
   ]
  },
  {
   "cell_type": "code",
   "execution_count": 32,
   "metadata": {},
   "outputs": [],
   "source": [
    "n_atoms = len(pos)\n",
    "def map_elemental_radii_to_atom_radii(elemental_radii):\n",
    "    radii = np.zeros(n_atoms)\n",
    "    radii[0] = elemental_radii[0]\n",
    "    radii[1:4] = elemental_radii[1]\n",
    "    radii[4] = elemental_radii[2]\n",
    "    return radii"
   ]
  },
  {
   "cell_type": "code",
   "execution_count": 33,
   "metadata": {},
   "outputs": [],
   "source": [
    "def predict_solvation_free_energy_from_radii(radii, scaling_factor=1):\n",
    "    gbsa = get_gbsa_force(implicit_sim.context.getSystem())\n",
    "    \n",
    "    for i in range(len(radii)):\n",
    "        charge = gbsa.getParticleParameters(i)[0]\n",
    "        gbsa.setParticleParameters(index=i,\n",
    "                                   charge=charge,\n",
    "                                   radius=radii[i],\n",
    "                                   scalingFactor=scaling_factor,\n",
    "                                  )\n",
    "    \n",
    "    gbsa.updateParametersInContext(implicit_sim.context)\n",
    "    u_diffs = get_implicit_u_diffs(implicit_sim, vacuum_traj)\n",
    "    mean, unc = pymbar.EXP(u_diffs)\n",
    "    \n",
    "    return mean, unc\n",
    "\n",
    "def log_likelihood_with_predictive_uncertainty_from_radii(radii):\n",
    "    mean, unc = predict_solvation_free_energy_from_radii(radii)\n",
    "    return - (mean - experimental_value)**2 / (unc * experimental_uncertainty)\n",
    "\n",
    "def log_prob_radii(radii):\n",
    "    return log_prior(radii) + log_likelihood_with_predictive_uncertainty_from_radii(radii)\n",
    "\n",
    "def log_prob_elemental_radii(elemental_radii):\n",
    "    radii = map_elemental_radii_to_atom_radii(elemental_radii)\n",
    "    return log_prior(radii) + log_likelihood_with_predictive_uncertainty_from_radii(radii)\n",
    "\n",
    "elemental_radii0 = np.ones(3)"
   ]
  },
  {
   "cell_type": "code",
   "execution_count": null,
   "metadata": {},
   "outputs": [],
   "source": []
  },
  {
   "cell_type": "code",
   "execution_count": 34,
   "metadata": {},
   "outputs": [
    {
     "name": "stderr",
     "output_type": "stream",
     "text": [
      "100%|██████████| 1000/1000 [00:05<00:00, 187.12it/s, log_prob=-0.0133, accept_fraction=0.431] \n"
     ]
    },
    {
     "data": {
      "text/plain": [
       "0.431"
      ]
     },
     "execution_count": 34,
     "metadata": {},
     "output_type": "execute_result"
    }
   ],
   "source": [
    "traj, log_probs, acceptance_fraction = random_walk_mh(elemental_radii0, log_prob_elemental_radii,\n",
    "                                                      n_steps=1000, stepsize=0.01)\n",
    "acceptance_fraction"
   ]
  },
  {
   "cell_type": "code",
   "execution_count": 35,
   "metadata": {},
   "outputs": [],
   "source": [
    "e_radii1 = traj[-1]"
   ]
  },
  {
   "cell_type": "code",
   "execution_count": 36,
   "metadata": {},
   "outputs": [],
   "source": [
    "# question / suspicion: when I hold the scalingFactor fixed, will I still estimate radii (0.1,0.5,2) (which corresponded to scalingFactors (7,10,0.3))\n",
    "\n",
    "# actually, does that just mean that it scales the lennard-jones radius?"
   ]
  },
  {
   "cell_type": "code",
   "execution_count": 37,
   "metadata": {},
   "outputs": [
    {
     "name": "stderr",
     "output_type": "stream",
     "text": [
      " 26%|██▌       | 257720/1000000 [21:14<1:01:10, 202.25it/s, log_prob=-0.0303, accept_fraction=0.139]  /Users/joshuafass/anaconda/lib/python3.6/site-packages/ipykernel_launcher.py:20: RuntimeWarning: divide by zero encountered in double_scalars\n",
      "100%|██████████| 1000000/1000000 [1:20:30<00:00, 207.03it/s, log_prob=-0.626, accept_fraction=0.0429]  \n"
     ]
    },
    {
     "data": {
      "text/plain": [
       "0.042897"
      ]
     },
     "execution_count": 37,
     "metadata": {},
     "output_type": "execute_result"
    }
   ],
   "source": [
    "traj, log_probs, acceptance_fraction = random_walk_mh(e_radii1, log_prob_elemental_radii,\n",
    "                                                      n_steps=1000000, stepsize=0.02)\n",
    "acceptance_fraction"
   ]
  },
  {
   "cell_type": "code",
   "execution_count": 38,
   "metadata": {},
   "outputs": [
    {
     "ename": "NameError",
     "evalue": "name 'syntax' is not defined",
     "output_type": "error",
     "traceback": [
      "\u001b[0;31m---------------------------------------------------------------------------\u001b[0m",
      "\u001b[0;31mNameError\u001b[0m                                 Traceback (most recent call last)",
      "\u001b[0;32m<ipython-input-38-fab71bc1f5a1>\u001b[0m in \u001b[0;36m<module>\u001b[0;34m()\u001b[0m\n\u001b[0;32m----> 1\u001b[0;31m \u001b[0msyntax\u001b[0m \u001b[0;34m+\u001b[0m\u001b[0;34m+\u001b[0m\u001b[0;34m+\u001b[0m \u001b[0merror\u001b[0m\u001b[0;34m\u001b[0m\u001b[0m\n\u001b[0m",
      "\u001b[0;31mNameError\u001b[0m: name 'syntax' is not defined"
     ]
    }
   ],
   "source": [
    "syntax +++ error"
   ]
  },
  {
   "cell_type": "code",
   "execution_count": null,
   "metadata": {},
   "outputs": [],
   "source": [
    "# should also plot the element radii as lines"
   ]
  },
  {
   "cell_type": "code",
   "execution_count": null,
   "metadata": {},
   "outputs": [],
   "source": [
    "atom_names = [a.element.name for a in top.atoms()]\n",
    "atom_names"
   ]
  },
  {
   "cell_type": "code",
   "execution_count": null,
   "metadata": {},
   "outputs": [],
   "source": [
    "traj.shape"
   ]
  },
  {
   "cell_type": "code",
   "execution_count": 41,
   "metadata": {},
   "outputs": [
    {
     "data": {
      "text/plain": [
       "<matplotlib.collections.PathCollection at 0x12a6454e0>"
      ]
     },
     "execution_count": 41,
     "metadata": {},
     "output_type": "execute_result"
    },
    {
     "data": {
      "image/png": "[encoded data removed]",
      "text/plain": [
       "<Figure size 432x288 with 1 Axes>"
      ]
     },
     "metadata": {},
     "output_type": "display_data"
    },
    {
     "data": {
      "image/png": "[encoded data removed]",
      "text/plain": [
       "<Figure size 432x288 with 1 Axes>"
      ]
     },
     "metadata": {},
     "output_type": "display_data"
    },
    {
     "data": {
      "image/png": "[encoded data removed]",
      "text/plain": [
       "<Figure size 432x288 with 1 Axes>"
      ]
     },
     "metadata": {},
     "output_type": "display_data"
    }
   ],
   "source": [
    "plt.scatter(traj[:,0], traj[:,1], s=0.1, alpha=0.1)\n",
    "plt.figure()\n",
    "plt.scatter(traj[:,0], traj[:,2], s=0.1, alpha=0.1)\n",
    "plt.figure()\n",
    "plt.scatter(traj[:,1], traj[:,2], s=0.1, alpha=0.1)"
   ]
  },
  {
   "cell_type": "code",
   "execution_count": null,
   "metadata": {},
   "outputs": [],
   "source": [
    "import matplotlib.pyplot as plt\n",
    "from mpl_toolkits.mplot3d import Axes3D\n",
    "import numpy as np\n",
    "extended_traj = np.load('radii_samples_at_scaling_factor_1_freesolv[640]_CCBr.npy')\n",
    "\n",
    "fig = plt.figure()\n",
    "ax = fig.add_subplot(111, projection='3d')\n",
    "ax.scatter(extended_traj[::10,0], extended_traj[::10,1], extended_traj[::10,2], s=0.1, alpha=0.1)\n",
    "ax.set_xlabel('C radius (nm)')\n",
    "ax.set_ylabel('C radius (nm)')\n",
    "ax.set_zlabel('Br radius (nm)')\n",
    "plt.savefig('[bug--fit-to-wrong-expt-value]-posterior-samples-of-radii-CCbr.png', dpi=300)"
   ]
  },
  {
   "cell_type": "code",
   "execution_count": 42,
   "metadata": {},
   "outputs": [],
   "source": [
    "posterior_predictions = [predict_solvation_free_energy_from_radii(r)[0] for r in traj[::100]]"
   ]
  },
  {
   "cell_type": "code",
   "execution_count": 43,
   "metadata": {},
   "outputs": [
    {
     "name": "stderr",
     "output_type": "stream",
     "text": [
      "/Users/joshuafass/anaconda/lib/python3.6/site-packages/matplotlib/axes/_axes.py:6462: UserWarning: The 'normed' kwarg is deprecated, and has been replaced by the 'density' kwarg.\n",
      "  warnings.warn(\"The 'normed' kwarg is deprecated, and has been \"\n"
     ]
    },
    {
     "data": {
      "text/plain": [
       "<matplotlib.collections.LineCollection at 0x12a94e390>"
      ]
     },
     "execution_count": 43,
     "metadata": {},
     "output_type": "execute_result"
    },
    {
     "data": {
      "image/png": "[encoded data removed]",
      "text/plain": [
       "<Figure size 432x288 with 1 Axes>"
      ]
     },
     "metadata": {},
     "output_type": "display_data"
    }
   ],
   "source": [
    "plt.hist(posterior_predictions, bins=50, normed=True);\n",
    "plt.vlines(experimental_value, 0, 5, linestyles='--')"
   ]
  },
  {
   "cell_type": "code",
   "execution_count": null,
   "metadata": {},
   "outputs": [],
   "source": [
    "extended_traj, log_probs, acceptance_fraction = random_walk_mh(traj[-1], log_prob_radii,\n",
    "                                                      n_steps=1000000, stepsize=0.005)\n",
    "acceptance_fraction"
   ]
  },
  {
   "cell_type": "code",
   "execution_count": null,
   "metadata": {},
   "outputs": [],
   "source": [
    "np.save('radii_samples_at_scaling_factor_1_{}.npy'.format(smiles), extended_traj)"
   ]
  },
  {
   "cell_type": "code",
   "execution_count": null,
   "metadata": {},
   "outputs": [],
   "source": [
    "_ = corner(extended_traj)"
   ]
  },
  {
   "cell_type": "code",
   "execution_count": null,
   "metadata": {},
   "outputs": [],
   "source": [
    "plt.hexbin(extended_traj[:,0], extended_traj[:,1], bins='log', cmap='Blues')\n",
    "plt.figure()\n",
    "plt.hexbin(extended_traj[:,0], extended_traj[:,2], bins='log', cmap='Blues')\n",
    "plt.figure()\n",
    "plt.hexbin(extended_traj[:,1], extended_traj[:,2], bins='log', cmap='Blues')"
   ]
  },
  {
   "cell_type": "code",
   "execution_count": null,
   "metadata": {},
   "outputs": [],
   "source": [
    "plt.scatter(extended_traj[:,0], extended_traj[:,1], s=0.01, alpha=0.1)\n",
    "plt.xlabel(smiles)\n",
    "plt.figure()\n",
    "plt.scatter(extended_traj[:,0], extended_traj[:,1], s=0.01, alpha=0.1)\n",
    "plt.figure()\n",
    "plt.scatter(extended_traj[:,1], extended_traj[:,2], s=0.01, alpha=0.1)"
   ]
  }
 ],
 "metadata": {
  "kernelspec": {
   "display_name": "Python 3",
   "language": "python",
   "name": "python3"
  },
  "language_info": {
   "codemirror_mode": {
    "name": "ipython",
    "version": 3
   },
   "file_extension": ".py",
   "mimetype": "text/x-python",
   "name": "python",
   "nbconvert_exporter": "python",
   "pygments_lexer": "ipython3",
   "version": "3.6.5"
  }
 },
 "nbformat": 4,
 "nbformat_minor": 2
}
