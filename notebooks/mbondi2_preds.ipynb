{
 "cells": [
  {
   "cell_type": "code",
   "execution_count": 1,
   "metadata": {
    "ExecuteTime": {
     "end_time": "2019-02-28T19:04:04.689215Z",
     "start_time": "2019-02-28T19:03:59.868307Z"
    }
   },
   "outputs": [],
   "source": [
    "from bayes_implicit_solvent.gb_models.obc2_parameters import mbondi2_model"
   ]
  },
  {
   "cell_type": "code",
   "execution_count": 2,
   "metadata": {
    "ExecuteTime": {
     "end_time": "2019-02-28T19:04:55.106728Z",
     "start_time": "2019-02-28T19:04:51.450021Z"
    }
   },
   "outputs": [
    {
     "name": "stdout",
     "output_type": "stream",
     "text": [
      "number of molecules being considered: 642\n"
     ]
    }
   ],
   "source": [
    "from bayes_implicit_solvent.continuous_parameter_experiments.gradient_free import mols"
   ]
  },
  {
   "cell_type": "code",
   "execution_count": 3,
   "metadata": {
    "ExecuteTime": {
     "end_time": "2019-02-28T19:05:13.389874Z",
     "start_time": "2019-02-28T19:05:12.097128Z"
    }
   },
   "outputs": [],
   "source": [
    "type_slices = [mbondi2_model.apply_to_molecule(mol.mol) for mol in mols]\n",
    "\n",
    "def construct_arrays(theta):\n",
    "    n = int(len(theta) / 2)\n",
    "    radii, scales = theta[:n], theta[n:]\n",
    "\n",
    "    parameterized_list = []\n",
    "    for i in range(len(mols)):\n",
    "        parameterized_list.append((radii[type_slices[i]], scales[type_slices[i]]))\n",
    "    return parameterized_list"
   ]
  },
  {
   "cell_type": "code",
   "execution_count": 5,
   "metadata": {
    "ExecuteTime": {
     "end_time": "2019-02-28T19:06:06.580284Z",
     "start_time": "2019-02-28T19:06:06.576423Z"
    }
   },
   "outputs": [],
   "source": [
    "radii, scales = mbondi2_model.get_radii(), mbondi2_model.get_scale_factors()"
   ]
  },
  {
   "cell_type": "code",
   "execution_count": 7,
   "metadata": {
    "ExecuteTime": {
     "end_time": "2019-02-28T19:06:32.398306Z",
     "start_time": "2019-02-28T19:06:32.393446Z"
    }
   },
   "outputs": [],
   "source": [
    "import numpy as np\n",
    "parameterized_list = construct_arrays(np.hstack((radii, scales)))"
   ]
  },
  {
   "cell_type": "code",
   "execution_count": 8,
   "metadata": {
    "ExecuteTime": {
     "end_time": "2019-02-28T19:07:08.617698Z",
     "start_time": "2019-02-28T19:07:05.057197Z"
    }
   },
   "outputs": [],
   "source": [
    "preds = []\n",
    "for i, mol in enumerate(mols):\n",
    "    radii, scale_factors = parameterized_list[i]\n",
    "    preds.append(mol.predict_solvation_free_energy(radii, scale_factors))"
   ]
  },
  {
   "cell_type": "code",
   "execution_count": 9,
   "metadata": {
    "ExecuteTime": {
     "end_time": "2019-02-28T19:07:24.171751Z",
     "start_time": "2019-02-28T19:07:24.168766Z"
    }
   },
   "outputs": [],
   "source": [
    "preds = np.array(preds)"
   ]
  },
  {
   "cell_type": "code",
   "execution_count": 10,
   "metadata": {
    "ExecuteTime": {
     "end_time": "2019-02-28T19:07:42.812846Z",
     "start_time": "2019-02-28T19:07:42.808810Z"
    }
   },
   "outputs": [],
   "source": [
    "np.save('mbondi2_preds.npy', preds)"
   ]
  },
  {
   "cell_type": "code",
   "execution_count": null,
   "metadata": {},
   "outputs": [],
   "source": []
  }
 ],
 "metadata": {
  "kernelspec": {
   "display_name": "Python 3",
   "language": "python",
   "name": "python3"
  },
  "language_info": {
   "codemirror_mode": {
    "name": "ipython",
    "version": 3
   },
   "file_extension": ".py",
   "mimetype": "text/x-python",
   "name": "python",
   "nbconvert_exporter": "python",
   "pygments_lexer": "ipython3",
   "version": "3.7.1"
  }
 },
 "nbformat": 4,
 "nbformat_minor": 2
}
