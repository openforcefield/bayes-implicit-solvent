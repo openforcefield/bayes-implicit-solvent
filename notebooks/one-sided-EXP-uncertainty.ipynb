{
 "cells": [
  {
   "cell_type": "code",
   "execution_count": 1,
   "metadata": {},
   "outputs": [
    {
     "data": {
      "text/plain": [
       "642"
      ]
     },
     "execution_count": 1,
     "metadata": {},
     "output_type": "execute_result"
    }
   ],
   "source": [
    "# first, hard-code the radii as light=1, heavy=2\n",
    "\n",
    "import mdtraj as md\n",
    "from glob import glob\n",
    "import pyemma\n",
    "import numpy as np\n",
    "from simtk import unit\n",
    "\n",
    "# also, just randomly take 50 frames from the last half of each trajectory\n",
    "\n",
    "traj_names = glob('../bayes_implicit_solvent/vacuum_samples/*.h5')\n",
    "len(traj_names)"
   ]
  },
  {
   "cell_type": "code",
   "execution_count": null,
   "metadata": {},
   "outputs": [],
   "source": [
    "n_conf_samples = 50\n",
    "vacuum_trajs = []\n",
    "for traj_name in traj_names:\n",
    "    traj = md.load(traj_name)\n",
    "    traj = traj[int(len(traj) / 2):]\n",
    "    \n",
    "    \n",
    "    vacuum_trajs.append()"
   ]
  }
 ],
 "metadata": {
  "kernelspec": {
   "display_name": "Python 3",
   "language": "python",
   "name": "python3"
  },
  "language_info": {
   "codemirror_mode": {
    "name": "ipython",
    "version": 3
   },
   "file_extension": ".py",
   "mimetype": "text/x-python",
   "name": "python",
   "nbconvert_exporter": "python",
   "pygments_lexer": "ipython3",
   "version": "3.6.5"
  }
 },
 "nbformat": 4,
 "nbformat_minor": 2
}
