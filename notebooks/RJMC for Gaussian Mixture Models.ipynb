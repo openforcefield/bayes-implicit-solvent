{
 "cells": [
  {
   "cell_type": "code",
   "execution_count": 81,
   "metadata": {},
   "outputs": [
    {
     "data": {
      "image/png": "[encoded data removed]",
      "text/plain": [
       "<matplotlib.figure.Figure at 0x124b9b1d0>"
      ]
     },
     "metadata": {},
     "output_type": "display_data"
    }
   ],
   "source": [
    "# RJMC for GMMs:\n",
    "import matplotlib.pyplot as plt\n",
    "%matplotlib inline\n",
    "\n",
    "from autograd import numpy as np\n",
    "np.random.seed(0)\n",
    "from scipy.stats import norm\n",
    "from scipy.special import logsumexp\n",
    "\n",
    "def gaussian_mixture_log_likelihood(X, means, stdevs, weights):\n",
    "    component_log_pdfs = np.array([norm.logpdf(X, loc=mean, scale=stdev) + np.log(weight) for ((mean, stdev), weight) in zip(zip(means, stdevs), weights)])\n",
    "    return np.sum(logsumexp(component_log_pdfs, 0))\n",
    "\n",
    "from scipy.stats import norm, invgamma\n",
    "from scipy.special import logsumexp\n",
    "\n",
    "def unpack(theta):\n",
    "    assert(len(theta) % 2 == 0)\n",
    "    mid = int(len(theta) / 2)\n",
    "    means, stdevs = np.array(theta[:mid]), np.array(theta[mid:])\n",
    "    return means, stdevs\n",
    "\n",
    "def log_prior(theta):\n",
    "    means, stdevs = unpack(theta)\n",
    "    log_prior_on_means = np.sum(norm.logpdf(means, scale=20))\n",
    "    log_prior_on_variances = np.sum(invgamma.logpdf((stdevs**2), 1.0))\n",
    "    \n",
    "    return log_prior_on_means + log_prior_on_variances\n",
    "    \n",
    "\n",
    "def flat_log_p(theta):\n",
    "    \"\"\"Here we'll fix the weights to be all equal\"\"\"\n",
    "    means, stdevs = unpack(theta)\n",
    "    if np.min(stdevs) <= 0.01: return - np.inf\n",
    "    log_likelihood = gaussian_mixture_log_likelihood(X=data, means=means,\n",
    "                                           stdevs=stdevs,\n",
    "                                           weights=np.ones(len(means)) / len(means))\n",
    "    \n",
    "    return log_likelihood + log_prior(theta)\n",
    "\n",
    "n_components = 3\n",
    "true_means = [-5.0,0.0,5.0]\n",
    "true_stdevs = np.ones(n_components)\n",
    "n_data = 300\n",
    "data = np.zeros(n_data)\n",
    "for i in range(n_data):\n",
    "    component = np.random.randint(n_components)\n",
    "    data[i] = norm.rvs(loc=true_means[component], scale=true_stdevs[component])\n",
    "\n",
    "plt.figure(figsize=(3,3))\n",
    "\n",
    "ax = plt.subplot(111)\n",
    "    \n",
    "plt.hist(data, bins=50, normed=True, alpha=0.5);\n",
    "x = np.linspace(-8,8, 1000)\n",
    "y_tot = np.zeros(x.shape)\n",
    "for i in range(n_components):\n",
    "    \n",
    "    y = norm.pdf(x, loc=true_means[i], scale=true_stdevs[i]) / n_components\n",
    "    plt.plot(x,y, '--', color='grey',)\n",
    "    y_tot += y\n",
    "plt.plot(x,y_tot, color='blue',)\n",
    "plt.yticks([])\n",
    "\n",
    "ax.spines['right'].set_visible(False)\n",
    "ax.spines['top'].set_visible(False)\n",
    "\n",
    "#plt.title(\"data: {} points sampled from {} mixture components\".format(n_data, n_components))\n",
    "plt.ylabel('probability density')\n",
    "plt.xlabel('x')\n",
    "plt.xticks([])\n",
    "plt.savefig('1-dataset-no-title.jpg', dpi=600, bbox_inches='tight')\n",
    "plt.savefig('1-dataset-no-title.pdf', dpi=600, bbox_inches='tight')"
   ]
  },
  {
   "cell_type": "code",
   "execution_count": 80,
   "metadata": {},
   "outputs": [
    {
     "data": {
      "image/png": "[encoded data removed]",
      "text/plain": [
       "<matplotlib.figure.Figure at 0x124b3e198>"
      ]
     },
     "metadata": {},
     "output_type": "display_data"
    }
   ],
   "source": [
    "plt.figure(figsize=(3,3))\n",
    "\n",
    "ax = plt.subplot(111)\n",
    "    \n",
    "plt.hist(data, bins=50, normed=True, alpha=0.5);\n",
    "x = np.linspace(-8,8, 1000)\n",
    "y_tot = np.zeros(x.shape)\n",
    "for i in range(n_components):\n",
    "    \n",
    "    y = norm.pdf(x, loc=true_means[i], scale=true_stdevs[i]) / n_components\n",
    "    plt.plot(x,y, '--', color='grey',)\n",
    "    y_tot += y\n",
    "plt.plot(x,y_tot, color='blue',)\n",
    "plt.yticks([])\n",
    "\n",
    "ax.spines['right'].set_visible(False)\n",
    "ax.spines['top'].set_visible(False)\n",
    "\n",
    "plt.title(\"data: {} points sampled from {} mixture components\".format(n_data, n_components))\n",
    "plt.ylabel('probability density')\n",
    "plt.xlabel('x')\n",
    "plt.xticks([])\n",
    "plt.savefig('1-dataset-with-title.jpg', dpi=600, bbox_inches='tight')\n",
    "plt.savefig('1-dataset-with-title.jpg', dpi=600, bbox_inches='tight')"
   ]
  },
  {
   "cell_type": "code",
   "execution_count": 46,
   "metadata": {},
   "outputs": [],
   "source": [
    "from emcee import MHSampler\n",
    "sampler = MHSampler(cov=np.eye(6) / 3, dim=6, lnprobfn=flat_log_p)"
   ]
  },
  {
   "cell_type": "code",
   "execution_count": 47,
   "metadata": {},
   "outputs": [
    {
     "data": {
      "text/plain": [
       "<matplotlib.collections.LineCollection at 0x1227cf160>"
      ]
     },
     "execution_count": 47,
     "metadata": {},
     "output_type": "execute_result"
    },
    {
     "data": {
      "image/png": "[encoded data removed]",
      "text/plain": [
       "<matplotlib.figure.Figure at 0x122c9dac8>"
      ]
     },
     "metadata": {},
     "output_type": "display_data"
    }
   ],
   "source": [
    "x = np.linspace(1e-4,10,num=1000)\n",
    "plt.plot(x, np.exp(invgamma.logpdf(x, 1.0)))\n",
    "plt.vlines(1,0,1)"
   ]
  },
  {
   "cell_type": "code",
   "execution_count": 48,
   "metadata": {},
   "outputs": [
    {
     "name": "stdout",
     "output_type": "stream",
     "text": [
      "CPU times: user 9.07 s, sys: 47.1 ms, total: 9.12 s\n",
      "Wall time: 9.16 s\n"
     ]
    }
   ],
   "source": [
    "%%time\n",
    "result = sampler.run_mcmc(np.random.rand(6), 10000)"
   ]
  },
  {
   "cell_type": "code",
   "execution_count": 49,
   "metadata": {},
   "outputs": [
    {
     "data": {
      "image/png": "[encoded data removed]",
      "text/plain": [
       "<matplotlib.figure.Figure at 0x121f82c50>"
      ]
     },
     "metadata": {},
     "output_type": "display_data"
    }
   ],
   "source": [
    "plt.plot(sampler._lnprob.T)\n",
    "plt.title('MH sampler: log likelihood trace')\n",
    "plt.xlabel('iteration')\n",
    "plt.ylabel('log likelihood')\n",
    "\n",
    "plt.savefig('gmm_likelihood_trace_MH.jpg')"
   ]
  },
  {
   "cell_type": "code",
   "execution_count": 50,
   "metadata": {},
   "outputs": [
    {
     "data": {
      "image/png": "[encoded data removed]",
      "text/plain": [
       "<matplotlib.figure.Figure at 0x12229c898>"
      ]
     },
     "metadata": {},
     "output_type": "display_data"
    }
   ],
   "source": [
    "plt.plot(sampler._lnprob.T)\n",
    "\n",
    "start = 50\n",
    "#plt.xlim(start, len(sampler._lnprob.T))\n",
    "plt.ylim(np.min(sampler._lnprob.T[start]), np.max(sampler._lnprob.T))\n",
    "plt.title('MH sampler: log likelihood trace')\n",
    "plt.xlabel('iteration')\n",
    "plt.ylabel('log likelihood')\n",
    "plt.savefig('gmm_likelihood_trace_zoomed_in_MH.jpg')"
   ]
  },
  {
   "cell_type": "code",
   "execution_count": 51,
   "metadata": {},
   "outputs": [
    {
     "data": {
      "image/png": "[encoded data removed]",
      "text/plain": [
       "<matplotlib.figure.Figure at 0x12230e2b0>"
      ]
     },
     "metadata": {},
     "output_type": "display_data"
    }
   ],
   "source": [
    "# figure that combines means and stdevs\n",
    "chain = sampler.chain\n",
    "\n",
    "colors = ['orange', 'green', 'blue']\n",
    "\n",
    "for i in range(3):\n",
    "    mean = chain[:,i]\n",
    "    stdev = chain[:,i+3]\n",
    "    color = colors[i]\n",
    "    \n",
    "    plt.plot(mean, color=color)\n",
    "    plt.fill_between(np.arange(len(mean)), mean - 1.96 * stdev, mean + 1.96 * stdev, color=color, alpha=0.25)\n",
    "plt.ylabel('x')\n",
    "plt.xlabel('iteration')\n",
    "plt.title('mixture trace')\n",
    "plt.savefig('mixture-trace-MH.jpg')"
   ]
  },
  {
   "cell_type": "markdown",
   "metadata": {},
   "source": [
    "Here we follow Richardson and Green: On Bayesian analysis of mixtures with an unknown number of components (1997)  https://rss.onlinelibrary.wiley.com/doi/abs/10.1111/1467-9868.00095\n",
    "\n",
    "\n",
    "We'll use a slice of what's described in Richardson / Green... In particular:\n",
    "* Going to avoid doing anything with latent \"allocation\" variables z_i describing which mixture component observation i came from...\n",
    "* Always going to force the weights to be uniform\n",
    "* Not going to use the hierarchical model\n",
    "* Not going to bother with smart Gibbs moves\n",
    "\n",
    "So, to sum up: in section 3.2. we'll only be considering steps (b) and (e), and skipping updates of the weights, allocation, hyperparameter.\n",
    "* For (b) we'll use basic random-walk Metropolis-Hastings\n",
    "* For (e) we'll use merge / split moves as described"
   ]
  },
  {
   "cell_type": "code",
   "execution_count": 52,
   "metadata": {},
   "outputs": [],
   "source": [
    "max_components = 50\n",
    "\n",
    "def reversible_split_merge_move(theta):\n",
    "    # unpack means, stdevs, and n_components\n",
    "    means, stdevs = unpack(theta)\n",
    "    n_components = len(means)\n",
    "    \n",
    "    # decide whether to split or merge\n",
    "    if n_components == 1:\n",
    "        split_probability = 1.0\n",
    "    elif n_components == max_components:\n",
    "        split_probability = 0.0\n",
    "    else:\n",
    "        split_probability = 0.5\n",
    "    merge_probability = 1.0 - split_probability\n",
    "    \n",
    "    if np.random.rand() < split_probability:\n",
    "        means, stdevs, log_jac_u_term = reversible_split_move(means, stdevs)\n",
    "    else:\n",
    "        means, stdevs, log_jac_u_term = reversible_merge_move(means, stdevs)\n",
    "    assert(len(means) == len(stdevs))\n",
    "    theta_prime = np.array(means + stdevs)\n",
    "    return theta_prime, log_jac_u_term\n",
    "    \n",
    "from scipy.stats import beta\n",
    "u_2_distribution = beta(2, 2)\n",
    "u_3_distribution = beta(1, 1)\n",
    "\n",
    "def reversible_merge_move(means, stdevs):\n",
    "    means = list(means)\n",
    "    stdevs = list(stdevs)\n",
    "    \n",
    "    #inds = np.argsort(means)\n",
    "    #means = [means[i] for i in inds]\n",
    "    #stdevs = [stdevs[i] for i in inds]\n",
    "    \n",
    "    ## pick two adjacent components to merge\n",
    "    #j1 = np.random.randint(len(means) - 1)\n",
    "    #j2 = j1 + 1\n",
    "    \n",
    "    # pick two random indices\n",
    "    j1 = np.random.randint(len(means))\n",
    "    j2 = np.random.randint(len(means))\n",
    "    while j2 == j1:\n",
    "        j2 = np.random.randint(len(means))\n",
    "    \n",
    "    # ensure j1 < j2\n",
    "    if j1 > j2:\n",
    "        j1, j2 = j2, j1\n",
    "    \n",
    "    # moment-match proposal\n",
    "    m_1, m_2 = means[j1], means[j2]\n",
    "    sigma_1, sigma_2 = stdevs[j1], stdevs[j2]\n",
    "    new_mean = (m_1 + m_2) / 2\n",
    "    new_stdev = np.sqrt(m_1**2 + sigma_1**2 + m_2**2 + sigma_2**2 - (m_1 + m_2)**2)\n",
    "    \n",
    "    # remove j1 and j2 from the means and stdevs\n",
    "    _ = means.pop(j2)\n",
    "    _ = means.pop(j1)\n",
    "    _ = stdevs.pop(j2)\n",
    "    _ = stdevs.pop(j1)\n",
    "    \n",
    "    # append the new component to the end of the list\n",
    "    means.append(new_mean)\n",
    "    stdevs.append(new_stdev)\n",
    "    \n",
    "    # Compute u_2, u_3, and jacobian\n",
    "    # compute u_2 and u_3 that invert the transformation\n",
    "    u_2 = (new_mean - m_1) / new_stdev\n",
    "    k = len(means)\n",
    "    u_3 = 1 - (sigma_2**2 / ((1 - (u_2**2)) * (new_stdev**2) * ((k + 1.0) / k)))\n",
    "    \n",
    "    #u_2, u_3 = 0, 0 # invert of the forward transformation\n",
    "    #log_prob_u = u_2_distribution.logpdf(u_2) + u_3_distribution.logpdf(u_3)\n",
    "    \n",
    "    jacobian_inv = (m_1 - m_2 * sigma_1**2 * sigma_2**2) / (u_2 * (1 - u_2**2) * u_3 * (1 - u_3) * new_stdev**2)\n",
    "    log_jacobian_inv = np.log(jacobian_inv)\n",
    "    log_jacobian = - log_jacobian_inv\n",
    "    #log_jac_u_term = log_jacobian - log_prob_u\n",
    "    log_jac_u_term = log_jacobian\n",
    "    \n",
    "    ## keep it sorted\n",
    "    #inds = np.argsort(means)\n",
    "    #means = [means[i] for i in inds]\n",
    "    #stdevs = [stdevs[i] for i in inds]\n",
    "    \n",
    "    return means, stdevs, log_jac_u_term\n",
    "\n",
    "def reversible_split_move(means, stdevs):\n",
    "    means = list(means)\n",
    "    stdevs = list(stdevs)\n",
    "    \n",
    "    # u_1 not needed since no randomness in the weights\n",
    "    ##u_1 = np.random.beta(2,2)\n",
    "    \n",
    "    # select a component at random\n",
    "    j_star = np.random.randint(len(means))\n",
    "    m_star = means[j_star]\n",
    "    sigma_star = stdevs[j_star]\n",
    "    \n",
    "    # draw the dimension-matching variables\n",
    "    u_2 = u_2_distribution.rvs()\n",
    "    u_3 = u_3_distribution.rvs()\n",
    "    \n",
    "    # deterministic transformation\n",
    "\n",
    "    # set means\n",
    "    m_1 = m_star - (u_2 * sigma_star)\n",
    "    m_2 = m_star + (u_2 * sigma_star)\n",
    "\n",
    "    # set stdevs\n",
    "    k = len(means)\n",
    "    w_1 = w_2 = 1.0 / (1 + k)\n",
    "    w_star = 1.0 / k\n",
    "    sigma_1 = np.sqrt(u_3 * (1 - u_2**2) * sigma_star**2 * (w_star / w_1))\n",
    "    sigma_2 = np.sqrt((1 - u_3) * (1 - u_2**2) * sigma_star**2 * (w_star / w_2))\n",
    "    \n",
    "    # log-jacobian: from last line of equation 11 in Richardson and green\n",
    "    jacobian = (m_1 - m_2 * sigma_1**2 * sigma_2**2) / (u_2 * (1 - u_2**2) * u_3 * (1 - u_3) * sigma_star**2)\n",
    "    log_jacobian = np.log(jacobian)\n",
    "    \n",
    "    # log probability of the random numbers we drew\n",
    "    log_prob_u = u_2_distribution.logpdf(u_2) + u_3_distribution.logpdf(u_3)\n",
    "    \n",
    "    # remove the split component from the means and stdevs\n",
    "    _ = means.pop(j_star)\n",
    "    _ = stdevs.pop(j_star)\n",
    "    \n",
    "    # append the new components to the means and stdevs\n",
    "    means.append(m_1)\n",
    "    means.append(m_2)\n",
    "    stdevs.append(sigma_1)\n",
    "    stdevs.append(sigma_2)\n",
    "    \n",
    "    return means, stdevs, log_jacobian - log_prob_u\n",
    "\n",
    "from tqdm import tqdm\n",
    "def rjmcmc(theta, n_steps=10000):\n",
    "    \n",
    "    traj = [theta]\n",
    "    old_log_p = flat_log_p(theta)\n",
    "    \n",
    "    for t in tqdm(range(n_steps)):\n",
    "        # generate proposal\n",
    "        if np.random.rand() < 0.1:\n",
    "            theta_prime, log_jac_u_term = reversible_split_merge_move(theta)\n",
    "        else:\n",
    "            theta_prime = theta + np.random.randn(len(theta)) * 0.1\n",
    "            log_jac_u_term = 0.0\n",
    "           \n",
    "        \n",
    "        new_log_p = flat_log_p(theta_prime)\n",
    "        log_prob_ratio = new_log_p - old_log_p\n",
    "        #log_prob_ratio = (flat_log_p(theta_prime) - flat_log_p(theta))\n",
    "        if not np.isfinite(new_log_p):\n",
    "            A = 0\n",
    "        else:\n",
    "            A = min(1.0, np.exp(log_prob_ratio + log_jac_u_term))\n",
    "    \n",
    "        if np.random.rand() < A:\n",
    "            theta = theta_prime\n",
    "            old_log_p = new_log_p\n",
    "            if len(theta) != len(traj[-1]):\n",
    "                prev_dim = int(len(traj[-1]) / 2)\n",
    "                current_dim = int(len(theta) / 2)\n",
    "                assert(len(theta) % 2 == 0)\n",
    "\n",
    "                print('{}: accepted a cross-model jump! # components: {} --> {}'.format(t, prev_dim, current_dim))\n",
    "        traj.append(theta)\n",
    "    return traj"
   ]
  },
  {
   "cell_type": "code",
   "execution_count": 53,
   "metadata": {},
   "outputs": [],
   "source": [
    "def compute_transformation_and_jacobian_manually(u_2, u_3, m_star, sigma_star, k):\n",
    "    \n",
    "    # set means\n",
    "    m_1 = m_star - (u_2 * sigma_star)\n",
    "    m_2 = m_star + (u_2 * sigma_star)\n",
    "\n",
    "    # set stdevs\n",
    "    w_1 = w_2 = 1.0 / (1 + k)\n",
    "    w_star = 1.0 / k\n",
    "    sigma_1 = np.sqrt(u_3 * (1 - u_2**2) * sigma_star**2 * (w_star / w_1))\n",
    "    sigma_2 = np.sqrt((1 - u_3) * (1 - u_2**2) * sigma_star**2 * (w_star / w_2))\n",
    "    \n",
    "    # log-jacobian: from last line of equation 11 in Richardson and green\n",
    "    jacobian = (m_1 - m_2 * sigma_1**2 * sigma_2**2) / (u_2 * (1 - u_2**2) * u_3 * (1 - u_3) * sigma_star**2)\n",
    "    log_jacobian = np.log(jacobian)\n",
    "    \n",
    "    return (m_1, sigma_1, m_2, sigma_2), log_jacobian\n",
    "\n",
    "from autograd import grad\n",
    "\n",
    "from autograd import numpy as np\n",
    "\n",
    "def compute_m1(u_2, u_3, m_star, sigma_star, k):\n",
    "    m_1 = m_star - (u_2 * sigma_star)\n",
    "    return m_1\n",
    "\n",
    "def compute_m2(u_2, u_3, m_star, sigma_star, k):\n",
    "    m_2 = m_star + (u_2 * sigma_star)\n",
    "    return m_2\n",
    "\n",
    "def compute_sigma_1(u_2, u_3, m_star, sigma_star, k):\n",
    "    w_1 = w_2 = 1.0 / (1 + k)\n",
    "    w_star = 1.0 / k\n",
    "    sigma_1 = np.sqrt(u_3 * (1 - u_2**2) * sigma_star**2 * (w_star / w_1))\n",
    "    return sigma_1\n",
    "\n",
    "def compute_sigma_2(u_2, u_3, m_star, sigma_star, k):\n",
    "    w_1 = w_2 = 1.0 / (1 + k)\n",
    "    w_star = 1.0 / k\n",
    "    sigma_2 = np.sqrt((1 - u_3) * (1 - u_2**2) * sigma_star**2 * (w_star / w_2))\n",
    "    return sigma_2"
   ]
  },
  {
   "cell_type": "code",
   "execution_count": 54,
   "metadata": {},
   "outputs": [
    {
     "name": "stderr",
     "output_type": "stream",
     "text": [
      "/Users/joshuafass/anaconda/lib/python3.6/site-packages/autograd/tracer.py:14: UserWarning: Output seems independent of input.\n",
      "  warnings.warn(\"Output seems independent of input.\")\n",
      "/Users/joshuafass/anaconda/lib/python3.6/site-packages/autograd/tracer.py:48: RuntimeWarning: invalid value encountered in log\n",
      "  return f_raw(*args, **kwargs)\n"
     ]
    },
    {
     "data": {
      "text/plain": [
       "<matplotlib.text.Text at 0x122ceb828>"
      ]
     },
     "execution_count": 54,
     "metadata": {},
     "output_type": "execute_result"
    },
    {
     "data": {
      "image/png": "[encoded data removed]",
      "text/plain": [
       "<matplotlib.figure.Figure at 0x1209835c0>"
      ]
     },
     "metadata": {},
     "output_type": "display_data"
    }
   ],
   "source": [
    "# let's compute the jacobian using autograd\n",
    "\n",
    "from scipy.stats import beta\n",
    "u_2_distribution = beta(2, 2)\n",
    "u_3_distribution = beta(1, 1)\n",
    "\n",
    "\n",
    "X = []\n",
    "for _ in range(100):\n",
    "    u_2 = u_2_distribution.rvs()\n",
    "    u_3 = u_3_distribution.rvs()\n",
    "    m_star = np.random.randn() * 5\n",
    "    sigma_star = np.random.rand() * 2\n",
    "    \n",
    "    X.append((u_2, u_3, m_star, sigma_star))\n",
    "    \n",
    "\n",
    "functions = [compute_m1, compute_m2, compute_sigma_1, compute_sigma_2]\n",
    "\n",
    "def compute_jacobian(u_2, u_3, m_star, sigma_star, k):\n",
    "    \n",
    "    ins = u_2, u_3, m_star, sigma_star\n",
    "    J = np.zeros((len(ins), len(functions)))\n",
    "    \n",
    "    for i in range(len(ins)):\n",
    "        for j in range(len(functions)):\n",
    "            J[i, j] = grad(functions[j], argnum=i)(u_2, u_3, m_star, sigma_star, k)\n",
    "    return J\n",
    "    \n",
    "\n",
    "    \n",
    "for k in range(1,10):\n",
    "    manual = []\n",
    "    autogradded = []\n",
    "    for (u_2, u_3, m_star, sigma_star) in X:\n",
    "        _, manual_log_jac = compute_transformation_and_jacobian_manually(u_2, u_3, m_star, sigma_star, k)\n",
    "        manual.append(manual_log_jac)\n",
    "        \n",
    "        J = compute_jacobian(u_2, u_3, m_star, sigma_star, k)\n",
    "        \n",
    "        autogradded.append(np.log(np.linalg.det(J)))\n",
    "    plt.scatter(manual, autogradded, s=2)\n",
    "plt.xlabel('manual')\n",
    "plt.ylabel('autograd')\n",
    "plt.title('computation of log jacobian determinant')\n",
    "        "
   ]
  },
  {
   "cell_type": "code",
   "execution_count": 56,
   "metadata": {},
   "outputs": [],
   "source": [
    "max_components = 50\n",
    "\n",
    "def autograd_reversible_split_merge_move(theta):\n",
    "    # unpack means, stdevs, and n_components\n",
    "    means, stdevs = unpack(theta)\n",
    "    n_components = len(means)\n",
    "    \n",
    "    # decide whether to split or merge\n",
    "    if n_components == 1:\n",
    "        split_probability = 1.0\n",
    "    elif n_components == max_components:\n",
    "        split_probability = 0.0\n",
    "    else:\n",
    "        split_probability = 0.5\n",
    "    merge_probability = 1.0 - split_probability\n",
    "    \n",
    "    if np.random.rand() < split_probability:\n",
    "        means, stdevs, log_jac_u_term = autograd_reversible_split_move(means, stdevs)\n",
    "    else:\n",
    "        means, stdevs, log_jac_u_term = autograd_reversible_merge_move(means, stdevs)\n",
    "    assert(len(means) == len(stdevs))\n",
    "    theta_prime = np.array(means + stdevs)\n",
    "    return theta_prime, log_jac_u_term\n",
    "    \n",
    "from scipy.stats import beta\n",
    "u_2_distribution = beta(2, 2)\n",
    "u_3_distribution = beta(1, 1)\n",
    "\n",
    "def autograd_reversible_merge_move(means, stdevs):\n",
    "    means = list(means)\n",
    "    stdevs = list(stdevs)\n",
    "    \n",
    "    #inds = np.argsort(means)\n",
    "    #means = [means[i] for i in inds]\n",
    "    #stdevs = [stdevs[i] for i in inds]\n",
    "    \n",
    "    ## pick two adjacent components to merge\n",
    "    #j1 = np.random.randint(len(means) - 1)\n",
    "    #j2 = j1 + 1\n",
    "    \n",
    "    # pick two random indices\n",
    "    j1 = np.random.randint(len(means))\n",
    "    j2 = np.random.randint(len(means))\n",
    "    while j2 == j1:\n",
    "        j2 = np.random.randint(len(means))\n",
    "    \n",
    "    # ensure j1 < j2\n",
    "    if j1 > j2:\n",
    "        j1, j2 = j2, j1\n",
    "    \n",
    "    # moment-match proposal\n",
    "    m_1, m_2 = means[j1], means[j2]\n",
    "    sigma_1, sigma_2 = stdevs[j1], stdevs[j2]\n",
    "    m_star = (m_1 + m_2) / 2\n",
    "    sigma_star = np.sqrt(m_1**2 + sigma_1**2 + m_2**2 + sigma_2**2 - (m_1 + m_2)**2)\n",
    "    \n",
    "    # remove j1 and j2 from the means and stdevs\n",
    "    _ = means.pop(j2)\n",
    "    _ = means.pop(j1)\n",
    "    _ = stdevs.pop(j2)\n",
    "    _ = stdevs.pop(j1)\n",
    "    \n",
    "    # append the new component to the end of the list\n",
    "    means.append(m_star)\n",
    "    stdevs.append(sigma_star)\n",
    "    \n",
    "    # Compute u_2, u_3, and jacobian\n",
    "    # compute u_2 and u_3 that invert the transformation\n",
    "    u_2 = (m_star - m_1) / sigma_star\n",
    "    k = len(means)\n",
    "    u_3 = 1 - (sigma_2**2 / ((1 - (u_2**2)) * (sigma_star**2) * ((k + 1.0) / k)))\n",
    "    \n",
    "    #u_2, u_3 = 0, 0 # invert of the forward transformation\n",
    "    log_prob_u = u_2_distribution.logpdf(u_2) + u_3_distribution.logpdf(u_3)\n",
    "    \n",
    "    log_jacobian = - np.log(np.linalg.det(compute_jacobian(u_2, u_3, m_star, sigma_star, k)))\n",
    "    log_jac_u_term = log_jacobian\n",
    "    \n",
    "    ## keep it sorted\n",
    "    #inds = np.argsort(means)\n",
    "    #means = [means[i] for i in inds]\n",
    "    #stdevs = [stdevs[i] for i in inds]\n",
    "    \n",
    "    return means, stdevs, log_jac_u_term\n",
    "\n",
    "def autograd_reversible_split_move(means, stdevs):\n",
    "    means = list(means)\n",
    "    stdevs = list(stdevs)\n",
    "    \n",
    "    # u_1 not needed since no randomness in the weights\n",
    "    ##u_1 = np.random.beta(2,2)\n",
    "    \n",
    "    # select a component at random\n",
    "    j_star = np.random.randint(len(means))\n",
    "    m_star = means[j_star]\n",
    "    sigma_star = stdevs[j_star]\n",
    "    \n",
    "    # draw the dimension-matching variables\n",
    "    u_2 = u_2_distribution.rvs()\n",
    "    u_3 = u_3_distribution.rvs()\n",
    "    \n",
    "    # deterministic transformation\n",
    "\n",
    "    # set means\n",
    "    m_1 = m_star - (u_2 * sigma_star)\n",
    "    m_2 = m_star + (u_2 * sigma_star)\n",
    "\n",
    "    # set stdevs\n",
    "    k = len(means)\n",
    "    w_1 = w_2 = 1.0 / (1 + k)\n",
    "    w_star = 1.0 / k\n",
    "    sigma_1 = np.sqrt(u_3 * (1 - u_2**2) * sigma_star**2 * (w_star / w_1))\n",
    "    sigma_2 = np.sqrt((1 - u_3) * (1 - u_2**2) * sigma_star**2 * (w_star / w_2))\n",
    "    \n",
    "    # log-jacobian: from last line of equation 11 in Richardson and green\n",
    "    #jacobian = (m_1 - m_2 * sigma_1**2 * sigma_2**2) / (u_2 * (1 - u_2**2) * u_3 * (1 - u_3) * sigma_star**2)\n",
    "    #log_jacobian = np.log(jacobian)\n",
    "    log_jacobian = np.log(np.linalg.det(compute_jacobian(u_2, u_3, m_star, sigma_star, k)))\n",
    "    \n",
    "    # log probability of the random numbers we drew\n",
    "    log_prob_u = u_2_distribution.logpdf(u_2) + u_3_distribution.logpdf(u_3)\n",
    "    \n",
    "    # remove the split component from the means and stdevs\n",
    "    _ = means.pop(j_star)\n",
    "    _ = stdevs.pop(j_star)\n",
    "    \n",
    "    # append the new components to the means and stdevs\n",
    "    means.append(m_1)\n",
    "    means.append(m_2)\n",
    "    stdevs.append(sigma_1)\n",
    "    stdevs.append(sigma_2)\n",
    "    \n",
    "    return means, stdevs, log_jacobian - log_prob_u\n",
    "\n",
    "from tqdm import tqdm\n",
    "def autograd_rjmcmc(theta, n_steps=10000):\n",
    "    \n",
    "    traj = [theta]\n",
    "    old_log_p = flat_log_p(theta)\n",
    "    \n",
    "    for t in tqdm(range(n_steps)):\n",
    "        # generate proposal\n",
    "        if np.random.rand() < 0.1:\n",
    "            theta_prime, log_jac_u_term = autograd_reversible_split_merge_move(theta)\n",
    "        else:\n",
    "            theta_prime = theta + np.random.randn(len(theta)) * 0.1\n",
    "            log_jac_u_term = 0.0\n",
    "           \n",
    "        \n",
    "        new_log_p = flat_log_p(theta_prime)\n",
    "        log_prob_ratio = new_log_p - old_log_p\n",
    "        #log_prob_ratio = (flat_log_p(theta_prime) - flat_log_p(theta))\n",
    "        if not np.isfinite(new_log_p):\n",
    "            A = 0\n",
    "        else:\n",
    "            A = min(1.0, np.exp(log_prob_ratio + log_jac_u_term))\n",
    "    \n",
    "        if np.random.rand() < A:\n",
    "            theta = theta_prime\n",
    "            old_log_p = new_log_p\n",
    "            if len(theta) != len(traj[-1]):\n",
    "                prev_dim = int(len(traj[-1]) / 2)\n",
    "                current_dim = int(len(theta) / 2)\n",
    "                assert(len(theta) % 2 == 0)\n",
    "\n",
    "                print('{}: accepted a cross-model jump! # components: {} --> {}'.format(t, prev_dim, current_dim))\n",
    "        traj.append(theta)\n",
    "    return traj"
   ]
  },
  {
   "cell_type": "code",
   "execution_count": 57,
   "metadata": {
    "scrolled": true
   },
   "outputs": [
    {
     "name": "stderr",
     "output_type": "stream",
     "text": [
      "  0%|          | 0/10000 [00:00<?, ?it/s]/Users/joshuafass/anaconda/lib/python3.6/site-packages/autograd/tracer.py:14: UserWarning: Output seems independent of input.\n",
      "  warnings.warn(\"Output seems independent of input.\")\n",
      "  1%|▏         | 133/10000 [00:00<00:07, 1326.63it/s]/Users/joshuafass/anaconda/lib/python3.6/site-packages/autograd/tracer.py:48: RuntimeWarning: invalid value encountered in sqrt\n",
      "  return f_raw(*args, **kwargs)\n",
      "/Users/joshuafass/anaconda/lib/python3.6/site-packages/autograd/numpy/numpy_vjps.py:97: RuntimeWarning: invalid value encountered in double_scalars\n",
      "  defvjp(anp.sqrt,    lambda ans, x : lambda g: g * 0.5 * x**-0.5)\n",
      "/Users/joshuafass/anaconda/lib/python3.6/site-packages/numpy/linalg/linalg.py:1874: RuntimeWarning: invalid value encountered in det\n",
      "  r = _umath_linalg.det(a, signature=signature)\n",
      "  2%|▏         | 240/10000 [00:00<00:07, 1235.38it/s]"
     ]
    },
    {
     "name": "stdout",
     "output_type": "stream",
     "text": [
      "88: accepted a cross-model jump! # components: 1 --> 2\n",
      "163: accepted a cross-model jump! # components: 2 --> 3\n",
      "211: accepted a cross-model jump! # components: 3 --> 2\n"
     ]
    },
    {
     "name": "stderr",
     "output_type": "stream",
     "text": [
      "  5%|▌         | 541/10000 [00:00<00:08, 1066.67it/s]"
     ]
    },
    {
     "name": "stdout",
     "output_type": "stream",
     "text": [
      "343: accepted a cross-model jump! # components: 2 --> 3\n",
      "372: accepted a cross-model jump! # components: 3 --> 2\n",
      "538: accepted a cross-model jump! # components: 2 --> 3\n"
     ]
    },
    {
     "name": "stderr",
     "output_type": "stream",
     "text": [
      "  6%|▋         | 630/10000 [00:00<00:09, 1004.89it/s]/Users/joshuafass/anaconda/lib/python3.6/site-packages/autograd/tracer.py:48: RuntimeWarning: divide by zero encountered in log\n",
      "  return f_raw(*args, **kwargs)\n",
      "/Users/joshuafass/anaconda/lib/python3.6/site-packages/scipy/stats/_distn_infrastructure.py:876: RuntimeWarning: invalid value encountered in greater_equal\n",
      "  return (self.a <= x) & (x <= self.b)\n",
      "/Users/joshuafass/anaconda/lib/python3.6/site-packages/scipy/stats/_distn_infrastructure.py:876: RuntimeWarning: invalid value encountered in less_equal\n",
      "  return (self.a <= x) & (x <= self.b)\n",
      "/Users/joshuafass/anaconda/lib/python3.6/site-packages/scipy/stats/_distn_infrastructure.py:879: RuntimeWarning: invalid value encountered in greater\n",
      "  return (self.a < x) & (x < self.b)\n",
      "/Users/joshuafass/anaconda/lib/python3.6/site-packages/scipy/stats/_distn_infrastructure.py:879: RuntimeWarning: invalid value encountered in less\n",
      "  return (self.a < x) & (x < self.b)\n",
      "  7%|▋         | 717/10000 [00:00<00:10, 906.98it/s] "
     ]
    },
    {
     "name": "stdout",
     "output_type": "stream",
     "text": [
      "555: accepted a cross-model jump! # components: 3 --> 4\n",
      "582: accepted a cross-model jump! # components: 4 --> 3\n",
      "585: accepted a cross-model jump! # components: 3 --> 4\n",
      "599: accepted a cross-model jump! # components: 4 --> 3\n",
      "631: accepted a cross-model jump! # components: 3 --> 4\n",
      "653: accepted a cross-model jump! # components: 4 --> 5\n",
      "686: accepted a cross-model jump! # components: 5 --> 4\n",
      "715: accepted a cross-model jump! # components: 4 --> 3\n"
     ]
    },
    {
     "name": "stderr",
     "output_type": "stream",
     "text": [
      "  9%|▉         | 921/10000 [00:00<00:09, 947.73it/s]"
     ]
    },
    {
     "name": "stdout",
     "output_type": "stream",
     "text": [
      "756: accepted a cross-model jump! # components: 3 --> 2\n",
      "769: accepted a cross-model jump! # components: 2 --> 1\n",
      "807: accepted a cross-model jump! # components: 1 --> 2\n",
      "811: accepted a cross-model jump! # components: 2 --> 3\n",
      "820: accepted a cross-model jump! # components: 3 --> 2\n",
      "821: accepted a cross-model jump! # components: 2 --> 3\n"
     ]
    },
    {
     "name": "stderr",
     "output_type": "stream",
     "text": [
      " 12%|█▏        | 1227/10000 [00:01<00:08, 977.07it/s]"
     ]
    },
    {
     "name": "stdout",
     "output_type": "stream",
     "text": [
      "1053: accepted a cross-model jump! # components: 3 --> 2\n",
      "1058: accepted a cross-model jump! # components: 2 --> 1\n",
      "1093: accepted a cross-model jump! # components: 1 --> 2\n"
     ]
    },
    {
     "name": "stderr",
     "output_type": "stream",
     "text": [
      " 14%|█▍        | 1446/10000 [00:01<00:08, 1026.45it/s]"
     ]
    },
    {
     "name": "stdout",
     "output_type": "stream",
     "text": [
      "1336: accepted a cross-model jump! # components: 2 --> 3\n",
      "1397: accepted a cross-model jump! # components: 3 --> 2\n",
      "1462: accepted a cross-model jump! # components: 2 --> 3\n"
     ]
    },
    {
     "name": "stderr",
     "output_type": "stream",
     "text": [
      " 19%|█▊        | 1851/10000 [00:01<00:08, 982.20it/s] "
     ]
    },
    {
     "name": "stdout",
     "output_type": "stream",
     "text": [
      "1652: accepted a cross-model jump! # components: 3 --> 2\n",
      "1733: accepted a cross-model jump! # components: 2 --> 3\n",
      "1817: accepted a cross-model jump! # components: 3 --> 2\n"
     ]
    },
    {
     "name": "stderr",
     "output_type": "stream",
     "text": [
      " 22%|██▏       | 2182/10000 [00:02<00:08, 909.20it/s] "
     ]
    },
    {
     "name": "stdout",
     "output_type": "stream",
     "text": [
      "2038: accepted a cross-model jump! # components: 2 --> 3\n",
      "2099: accepted a cross-model jump! # components: 3 --> 4\n",
      "2149: accepted a cross-model jump! # components: 4 --> 3\n",
      "2157: accepted a cross-model jump! # components: 3 --> 4\n",
      "2163: accepted a cross-model jump! # components: 4 --> 3\n"
     ]
    },
    {
     "name": "stderr",
     "output_type": "stream",
     "text": [
      "\r",
      " 23%|██▎       | 2277/10000 [00:02<00:09, 849.56it/s]"
     ]
    },
    {
     "name": "stdout",
     "output_type": "stream",
     "text": [
      "2201: accepted a cross-model jump! # components: 3 --> 4\n",
      "2214: accepted a cross-model jump! # components: 4 --> 5\n",
      "2260: accepted a cross-model jump! # components: 5 --> 4\n"
     ]
    },
    {
     "name": "stderr",
     "output_type": "stream",
     "text": [
      " 25%|██▌       | 2534/10000 [00:02<00:09, 771.71it/s]"
     ]
    },
    {
     "name": "stdout",
     "output_type": "stream",
     "text": [
      "2426: accepted a cross-model jump! # components: 4 --> 5\n",
      "2431: accepted a cross-model jump! # components: 5 --> 6\n",
      "2463: accepted a cross-model jump! # components: 6 --> 5\n",
      "2547: accepted a cross-model jump! # components: 5 --> 4\n",
      "2572: accepted a cross-model jump! # components: 4 --> 5\n"
     ]
    },
    {
     "name": "stderr",
     "output_type": "stream",
     "text": [
      " 27%|██▋       | 2689/10000 [00:02<00:10, 699.19it/s]"
     ]
    },
    {
     "name": "stdout",
     "output_type": "stream",
     "text": [
      "2579: accepted a cross-model jump! # components: 5 --> 6\n",
      "2582: accepted a cross-model jump! # components: 6 --> 7\n",
      "2678: accepted a cross-model jump! # components: 7 --> 6\n"
     ]
    },
    {
     "name": "stderr",
     "output_type": "stream",
     "text": [
      " 28%|██▊       | 2836/10000 [00:03<00:10, 703.96it/s]"
     ]
    },
    {
     "name": "stdout",
     "output_type": "stream",
     "text": [
      "2734: accepted a cross-model jump! # components: 6 --> 5\n",
      "2847: accepted a cross-model jump! # components: 5 --> 4\n"
     ]
    },
    {
     "name": "stderr",
     "output_type": "stream",
     "text": [
      " 32%|███▏      | 3162/10000 [00:03<00:08, 764.58it/s]"
     ]
    },
    {
     "name": "stdout",
     "output_type": "stream",
     "text": [
      "3005: accepted a cross-model jump! # components: 4 --> 5\n",
      "3050: accepted a cross-model jump! # components: 5 --> 4\n"
     ]
    },
    {
     "name": "stderr",
     "output_type": "stream",
     "text": [
      " 33%|███▎      | 3317/10000 [00:03<00:09, 741.88it/s]"
     ]
    },
    {
     "name": "stdout",
     "output_type": "stream",
     "text": [
      "3230: accepted a cross-model jump! # components: 4 --> 5\n",
      "3306: accepted a cross-model jump! # components: 5 --> 4\n",
      "3323: accepted a cross-model jump! # components: 4 --> 3\n",
      "3352: accepted a cross-model jump! # components: 3 --> 2\n"
     ]
    },
    {
     "name": "stderr",
     "output_type": "stream",
     "text": [
      " 36%|███▌      | 3579/10000 [00:04<00:07, 813.13it/s]"
     ]
    },
    {
     "name": "stdout",
     "output_type": "stream",
     "text": [
      "3436: accepted a cross-model jump! # components: 2 --> 3\n",
      "3453: accepted a cross-model jump! # components: 3 --> 4\n",
      "3556: accepted a cross-model jump! # components: 4 --> 3\n",
      "3577: accepted a cross-model jump! # components: 3 --> 4\n"
     ]
    },
    {
     "name": "stderr",
     "output_type": "stream",
     "text": [
      " 37%|███▋      | 3749/10000 [00:04<00:08, 759.69it/s]"
     ]
    },
    {
     "name": "stdout",
     "output_type": "stream",
     "text": [
      "3666: accepted a cross-model jump! # components: 4 --> 5\n"
     ]
    },
    {
     "name": "stderr",
     "output_type": "stream",
     "text": [
      " 40%|███▉      | 3975/10000 [00:04<00:08, 685.69it/s]"
     ]
    },
    {
     "name": "stdout",
     "output_type": "stream",
     "text": [
      "3880: accepted a cross-model jump! # components: 5 --> 4\n",
      "3912: accepted a cross-model jump! # components: 4 --> 3\n",
      "3950: accepted a cross-model jump! # components: 3 --> 2\n",
      "4025: accepted a cross-model jump! # components: 2 --> 3\n"
     ]
    },
    {
     "name": "stderr",
     "output_type": "stream",
     "text": [
      " 43%|████▎     | 4331/10000 [00:05<00:06, 816.87it/s]"
     ]
    },
    {
     "name": "stdout",
     "output_type": "stream",
     "text": [
      "4162: accepted a cross-model jump! # components: 3 --> 2\n",
      "4286: accepted a cross-model jump! # components: 2 --> 3\n",
      "4292: accepted a cross-model jump! # components: 3 --> 4\n"
     ]
    },
    {
     "name": "stderr",
     "output_type": "stream",
     "text": [
      " 45%|████▍     | 4493/10000 [00:05<00:07, 746.13it/s]"
     ]
    },
    {
     "name": "stdout",
     "output_type": "stream",
     "text": [
      "4395: accepted a cross-model jump! # components: 4 --> 3\n",
      "4397: accepted a cross-model jump! # components: 3 --> 2\n",
      "4437: accepted a cross-model jump! # components: 2 --> 3\n",
      "4482: accepted a cross-model jump! # components: 3 --> 4\n"
     ]
    },
    {
     "name": "stderr",
     "output_type": "stream",
     "text": [
      " 48%|████▊     | 4754/10000 [00:05<00:06, 827.55it/s]"
     ]
    },
    {
     "name": "stdout",
     "output_type": "stream",
     "text": [
      "4609: accepted a cross-model jump! # components: 4 --> 3\n"
     ]
    },
    {
     "name": "stderr",
     "output_type": "stream",
     "text": [
      " 50%|████▉     | 4955/10000 [00:05<00:05, 910.71it/s]"
     ]
    },
    {
     "name": "stdout",
     "output_type": "stream",
     "text": [
      "4850: accepted a cross-model jump! # components: 3 --> 2\n",
      "4966: accepted a cross-model jump! # components: 2 --> 3\n",
      "4990: accepted a cross-model jump! # components: 3 --> 2\n"
     ]
    },
    {
     "name": "stderr",
     "output_type": "stream",
     "text": [
      " 51%|█████▏    | 5139/10000 [00:06<00:06, 806.90it/s]"
     ]
    },
    {
     "name": "stdout",
     "output_type": "stream",
     "text": [
      "5067: accepted a cross-model jump! # components: 2 --> 3\n",
      "5074: accepted a cross-model jump! # components: 3 --> 2\n",
      "5128: accepted a cross-model jump! # components: 2 --> 3\n",
      "5133: accepted a cross-model jump! # components: 3 --> 4\n",
      "5152: accepted a cross-model jump! # components: 4 --> 3\n"
     ]
    },
    {
     "name": "stderr",
     "output_type": "stream",
     "text": [
      " 53%|█████▎    | 5321/10000 [00:06<00:05, 803.32it/s]"
     ]
    },
    {
     "name": "stdout",
     "output_type": "stream",
     "text": [
      "5253: accepted a cross-model jump! # components: 3 --> 2\n",
      "5255: accepted a cross-model jump! # components: 2 --> 1\n",
      "5258: accepted a cross-model jump! # components: 1 --> 2\n",
      "5311: accepted a cross-model jump! # components: 2 --> 3\n",
      "5344: accepted a cross-model jump! # components: 3 --> 4\n"
     ]
    },
    {
     "name": "stderr",
     "output_type": "stream",
     "text": [
      " 56%|█████▌    | 5595/10000 [00:06<00:05, 867.28it/s]"
     ]
    },
    {
     "name": "stdout",
     "output_type": "stream",
     "text": [
      "5431: accepted a cross-model jump! # components: 4 --> 3\n",
      "5589: accepted a cross-model jump! # components: 3 --> 2\n"
     ]
    },
    {
     "name": "stderr",
     "output_type": "stream",
     "text": [
      " 58%|█████▊    | 5803/10000 [00:06<00:04, 940.22it/s]"
     ]
    },
    {
     "name": "stdout",
     "output_type": "stream",
     "text": [
      "5661: accepted a cross-model jump! # components: 2 --> 3\n",
      "5816: accepted a cross-model jump! # components: 3 --> 2\n",
      "5820: accepted a cross-model jump! # components: 2 --> 1\n"
     ]
    },
    {
     "name": "stderr",
     "output_type": "stream",
     "text": [
      " 60%|██████    | 6000/10000 [00:06<00:04, 942.45it/s]"
     ]
    },
    {
     "name": "stdout",
     "output_type": "stream",
     "text": [
      "5874: accepted a cross-model jump! # components: 1 --> 2\n"
     ]
    },
    {
     "name": "stderr",
     "output_type": "stream",
     "text": [
      " 62%|██████▏   | 6206/10000 [00:07<00:03, 955.55it/s]"
     ]
    },
    {
     "name": "stdout",
     "output_type": "stream",
     "text": [
      "6106: accepted a cross-model jump! # components: 2 --> 3\n",
      "6110: accepted a cross-model jump! # components: 3 --> 4\n",
      "6257: accepted a cross-model jump! # components: 4 --> 3\n"
     ]
    },
    {
     "name": "stderr",
     "output_type": "stream",
     "text": [
      " 66%|██████▌   | 6573/10000 [00:07<00:04, 815.52it/s]"
     ]
    },
    {
     "name": "stdout",
     "output_type": "stream",
     "text": [
      "6425: accepted a cross-model jump! # components: 3 --> 4\n",
      "6472: accepted a cross-model jump! # components: 4 --> 3\n",
      "6491: accepted a cross-model jump! # components: 3 --> 4\n"
     ]
    },
    {
     "name": "stderr",
     "output_type": "stream",
     "text": [
      " 67%|██████▋   | 6739/10000 [00:07<00:04, 814.60it/s]"
     ]
    },
    {
     "name": "stdout",
     "output_type": "stream",
     "text": [
      "6664: accepted a cross-model jump! # components: 4 --> 3\n",
      "6694: accepted a cross-model jump! # components: 3 --> 4\n",
      "6752: accepted a cross-model jump! # components: 4 --> 3\n"
     ]
    },
    {
     "name": "stderr",
     "output_type": "stream",
     "text": [
      " 70%|██████▉   | 6989/10000 [00:08<00:03, 789.85it/s]"
     ]
    },
    {
     "name": "stdout",
     "output_type": "stream",
     "text": [
      "6848: accepted a cross-model jump! # components: 3 --> 4\n"
     ]
    },
    {
     "name": "stderr",
     "output_type": "stream",
     "text": [
      " 73%|███████▎  | 7270/10000 [00:08<00:03, 880.01it/s]"
     ]
    },
    {
     "name": "stdout",
     "output_type": "stream",
     "text": [
      "7082: accepted a cross-model jump! # components: 4 --> 3\n"
     ]
    },
    {
     "name": "stderr",
     "output_type": "stream",
     "text": [
      " 75%|███████▍  | 7455/10000 [00:08<00:02, 902.83it/s]"
     ]
    },
    {
     "name": "stdout",
     "output_type": "stream",
     "text": [
      "7321: accepted a cross-model jump! # components: 3 --> 2\n",
      "7372: accepted a cross-model jump! # components: 2 --> 3\n",
      "7434: accepted a cross-model jump! # components: 3 --> 2\n",
      "7498: accepted a cross-model jump! # components: 2 --> 3\n"
     ]
    },
    {
     "name": "stderr",
     "output_type": "stream",
     "text": [
      " 77%|███████▋  | 7683/10000 [00:08<00:02, 1006.80it/s]"
     ]
    },
    {
     "name": "stdout",
     "output_type": "stream",
     "text": [
      "7552: accepted a cross-model jump! # components: 3 --> 2\n",
      "7562: accepted a cross-model jump! # components: 2 --> 1\n",
      "7617: accepted a cross-model jump! # components: 1 --> 2\n",
      "7660: accepted a cross-model jump! # components: 2 --> 3\n",
      "7766: accepted a cross-model jump! # components: 3 --> 2\n"
     ]
    },
    {
     "name": "stderr",
     "output_type": "stream",
     "text": [
      "/Users/joshuafass/anaconda/lib/python3.6/site-packages/autograd/tracer.py:48: RuntimeWarning: overflow encountered in exp\n",
      "  return f_raw(*args, **kwargs)\n",
      " 79%|███████▉  | 7885/10000 [00:09<00:02, 961.22it/s] "
     ]
    },
    {
     "name": "stdout",
     "output_type": "stream",
     "text": [
      "7773: accepted a cross-model jump! # components: 2 --> 1\n",
      "7784: accepted a cross-model jump! # components: 1 --> 2\n",
      "7792: accepted a cross-model jump! # components: 2 --> 3\n",
      "7892: accepted a cross-model jump! # components: 3 --> 4\n"
     ]
    },
    {
     "name": "stderr",
     "output_type": "stream",
     "text": [
      " 83%|████████▎ | 8305/10000 [00:09<00:01, 986.90it/s]"
     ]
    },
    {
     "name": "stdout",
     "output_type": "stream",
     "text": [
      "8079: accepted a cross-model jump! # components: 4 --> 3\n",
      "8088: accepted a cross-model jump! # components: 3 --> 2\n",
      "8100: accepted a cross-model jump! # components: 2 --> 1\n",
      "8171: accepted a cross-model jump! # components: 1 --> 2\n",
      "8262: accepted a cross-model jump! # components: 2 --> 3\n"
     ]
    },
    {
     "name": "stderr",
     "output_type": "stream",
     "text": [
      " 85%|████████▌ | 8546/10000 [00:09<00:01, 1088.67it/s]"
     ]
    },
    {
     "name": "stdout",
     "output_type": "stream",
     "text": [
      "8325: accepted a cross-model jump! # components: 3 --> 2\n",
      "8545: accepted a cross-model jump! # components: 2 --> 3\n"
     ]
    },
    {
     "name": "stderr",
     "output_type": "stream",
     "text": [
      " 88%|████████▊ | 8775/10000 [00:09<00:01, 1061.44it/s]"
     ]
    },
    {
     "name": "stdout",
     "output_type": "stream",
     "text": [
      "8617: accepted a cross-model jump! # components: 3 --> 2\n",
      "8674: accepted a cross-model jump! # components: 2 --> 3\n",
      "8719: accepted a cross-model jump! # components: 3 --> 2\n",
      "8722: accepted a cross-model jump! # components: 2 --> 3\n",
      "8730: accepted a cross-model jump! # components: 3 --> 2\n"
     ]
    },
    {
     "name": "stderr",
     "output_type": "stream",
     "text": [
      " 91%|█████████ | 9107/10000 [00:10<00:00, 1015.70it/s]"
     ]
    },
    {
     "name": "stdout",
     "output_type": "stream",
     "text": [
      "9022: accepted a cross-model jump! # components: 2 --> 3\n",
      "9044: accepted a cross-model jump! # components: 3 --> 4\n",
      "9137: accepted a cross-model jump! # components: 4 --> 3\n"
     ]
    },
    {
     "name": "stderr",
     "output_type": "stream",
     "text": [
      " 93%|█████████▎| 9308/10000 [00:10<00:00, 908.27it/s] "
     ]
    },
    {
     "name": "stdout",
     "output_type": "stream",
     "text": [
      "9208: accepted a cross-model jump! # components: 3 --> 4\n"
     ]
    },
    {
     "name": "stderr",
     "output_type": "stream",
     "text": [
      " 96%|█████████▌| 9592/10000 [00:10<00:00, 864.49it/s]"
     ]
    },
    {
     "name": "stdout",
     "output_type": "stream",
     "text": [
      "9430: accepted a cross-model jump! # components: 4 --> 3\n",
      "9500: accepted a cross-model jump! # components: 3 --> 4\n",
      "9581: accepted a cross-model jump! # components: 4 --> 3\n"
     ]
    },
    {
     "name": "stderr",
     "output_type": "stream",
     "text": [
      " 98%|█████████▊| 9789/10000 [00:11<00:00, 919.64it/s]"
     ]
    },
    {
     "name": "stdout",
     "output_type": "stream",
     "text": [
      "9688: accepted a cross-model jump! # components: 3 --> 4\n"
     ]
    },
    {
     "name": "stderr",
     "output_type": "stream",
     "text": [
      "100%|██████████| 10000/10000 [00:11<00:00, 883.00it/s]\n"
     ]
    }
   ],
   "source": [
    "np.random.seed(100)\n",
    "init_n_components = 1\n",
    "init_means = np.random.randn(init_n_components)\n",
    "init_stdevs = np.random.rand(init_n_components) + 1\n",
    "init_theta = np.hstack([init_means, init_stdevs])\n",
    "traj = autograd_rjmcmc(init_theta, n_steps=10000)"
   ]
  },
  {
   "cell_type": "code",
   "execution_count": 58,
   "metadata": {},
   "outputs": [],
   "source": [
    "n_components_traj = [int(len(theta) / 2) for theta in traj]"
   ]
  },
  {
   "cell_type": "code",
   "execution_count": 82,
   "metadata": {},
   "outputs": [
    {
     "data": {
      "image/png": "[encoded data removed]",
      "text/plain": [
       "<matplotlib.figure.Figure at 0x124b3eba8>"
      ]
     },
     "metadata": {},
     "output_type": "display_data"
    }
   ],
   "source": [
    "plt.figure(figsize=(3,3))\n",
    "ax = plt.subplot(111)\n",
    "plt.plot(n_components_traj)\n",
    "plt.xlabel('iteration')\n",
    "plt.ylabel('# of components')\n",
    "ax.spines['right'].set_visible(False)\n",
    "ax.spines['top'].set_visible(False)\n",
    "plt.savefig('rjmc-component-trace.jpg', dpi=600, bbox_inches='tight')\n",
    "plt.savefig('rjmc-component-trace.pdf', dpi=600, bbox_inches='tight')"
   ]
  },
  {
   "cell_type": "code",
   "execution_count": 83,
   "metadata": {},
   "outputs": [
    {
     "data": {
      "image/png": "[encoded data removed]",
      "text/plain": [
       "<matplotlib.figure.Figure at 0x1244af898>"
      ]
     },
     "metadata": {},
     "output_type": "display_data"
    }
   ],
   "source": [
    "plt.figure(figsize=(3,3))\n",
    "n_components_range = sorted(list(set(n_components_traj)))\n",
    "counts = np.bincount(n_components_traj)[1:]\n",
    "ax = plt.subplot(111)\n",
    "\n",
    "plt.bar(n_components_range, counts / sum(counts))\n",
    "plt.xlabel(r'# of components ($k$)')\n",
    "plt.ylabel(r'$p(k)$')\n",
    "ax.spines['right'].set_visible(False)\n",
    "ax.spines['top'].set_visible(False)\n",
    "plt.title(r'marginal distribution of $k$')\n",
    "plt.xticks(n_components_range)\n",
    "plt.yticks([])\n",
    "plt.savefig('3-marginals-with-title.jpg', dpi=600, bbox_inches='tight')\n",
    "plt.savefig('3-marginals-with-title.pdf', dpi=600, bbox_inches='tight')"
   ]
  },
  {
   "cell_type": "code",
   "execution_count": 84,
   "metadata": {},
   "outputs": [
    {
     "data": {
      "image/png": "[encoded data removed]",
      "text/plain": [
       "<matplotlib.figure.Figure at 0x122691d30>"
      ]
     },
     "metadata": {},
     "output_type": "display_data"
    }
   ],
   "source": [
    "plt.figure(figsize=(3,3))\n",
    "n_components_range = sorted(list(set(n_components_traj)))\n",
    "counts = np.bincount(n_components_traj)[1:]\n",
    "ax = plt.subplot(111)\n",
    "\n",
    "plt.bar(n_components_range, counts / sum(counts))\n",
    "plt.xlabel(r'# of components ($k$)')\n",
    "plt.ylabel(r'$p(k)$')\n",
    "ax.spines['right'].set_visible(False)\n",
    "ax.spines['top'].set_visible(False)\n",
    "#plt.title(r'marginal distribution of $k$')\n",
    "plt.xticks(n_components_range)\n",
    "plt.yticks([])\n",
    "plt.savefig('3-marginals-no-title.jpg', dpi=600, bbox_inches='tight')\n",
    "plt.savefig('3-marginals-no-title.pdf', dpi=600, bbox_inches='tight')"
   ]
  },
  {
   "cell_type": "code",
   "execution_count": 85,
   "metadata": {},
   "outputs": [
    {
     "data": {
      "text/plain": [
       "array([ 356, 2797, 3217, 2821,  623,   91,   96])"
      ]
     },
     "execution_count": 85,
     "metadata": {},
     "output_type": "execute_result"
    }
   ],
   "source": [
    "counts"
   ]
  },
  {
   "cell_type": "code",
   "execution_count": 86,
   "metadata": {},
   "outputs": [
    {
     "name": "stdout",
     "output_type": "stream",
     "text": [
      "[89, 164, 212, 344, 373, 539, 556, 583, 586, 600, 632, 654, 687, 716, 757, 770, 808, 812, 821, 822, 1054, 1059, 1094, 1337, 1398, 1463, 1653, 1734, 1818, 2039, 2100, 2150, 2158, 2164, 2202, 2215, 2261, 2427, 2432, 2464, 2548, 2573, 2580, 2583, 2679, 2735, 2848, 3006, 3051, 3231, 3307, 3324, 3353, 3437, 3454, 3557, 3578, 3667, 3881, 3913, 3951, 4026, 4163, 4287, 4293, 4396, 4398, 4438, 4483, 4610, 4851, 4967, 4991, 5068, 5075, 5129, 5134, 5153, 5254, 5256, 5259, 5312, 5345, 5432, 5590, 5662, 5817, 5821, 5875, 6107, 6111, 6258, 6426, 6473, 6492, 6665, 6695, 6753, 6849, 7083, 7322, 7373, 7435, 7499, 7553, 7563, 7618, 7661, 7767, 7774, 7785, 7793, 7893, 8080, 8089, 8101, 8172, 8263, 8326, 8546, 8618, 8675, 8720, 8723, 8731, 9023, 9045, 9138, 9209, 9431, 9501, 9582, 9689]\n"
     ]
    }
   ],
   "source": [
    "change_points = list(np.arange(1, len(n_components_traj))[np.diff(n_components_traj) != 0])\n",
    "print(change_points)"
   ]
  },
  {
   "cell_type": "code",
   "execution_count": 87,
   "metadata": {},
   "outputs": [
    {
     "name": "stdout",
     "output_type": "stream",
     "text": [
      "(89, 2)\n",
      "(75, 4)\n",
      "(48, 6)\n",
      "(132, 4)\n",
      "(29, 6)\n",
      "(166, 4)\n",
      "(17, 6)\n",
      "(27, 8)\n",
      "(3, 6)\n",
      "(14, 8)\n",
      "(32, 6)\n",
      "(22, 8)\n",
      "(33, 10)\n",
      "(29, 8)\n",
      "(41, 6)\n",
      "(13, 4)\n",
      "(38, 2)\n",
      "(4, 4)\n",
      "(9, 6)\n",
      "(1, 4)\n",
      "(232, 6)\n",
      "(5, 4)\n",
      "(35, 2)\n",
      "(243, 4)\n",
      "(61, 6)\n",
      "(65, 4)\n",
      "(190, 6)\n",
      "(81, 4)\n",
      "(84, 6)\n",
      "(221, 4)\n",
      "(61, 6)\n",
      "(50, 8)\n",
      "(8, 6)\n",
      "(6, 8)\n",
      "(38, 6)\n",
      "(13, 8)\n",
      "(46, 10)\n",
      "(166, 8)\n",
      "(5, 10)\n",
      "(32, 12)\n",
      "(84, 10)\n",
      "(25, 8)\n",
      "(7, 10)\n",
      "(3, 12)\n",
      "(96, 14)\n",
      "(56, 12)\n",
      "(113, 10)\n",
      "(158, 8)\n",
      "(45, 10)\n",
      "(180, 8)\n",
      "(76, 10)\n",
      "(17, 8)\n",
      "(29, 6)\n",
      "(84, 4)\n",
      "(17, 6)\n",
      "(103, 8)\n",
      "(21, 6)\n",
      "(89, 8)\n",
      "(214, 10)\n",
      "(32, 8)\n",
      "(38, 6)\n",
      "(75, 4)\n",
      "(137, 6)\n",
      "(124, 4)\n",
      "(6, 6)\n",
      "(103, 8)\n",
      "(2, 6)\n",
      "(40, 4)\n",
      "(45, 6)\n",
      "(127, 8)\n",
      "(241, 6)\n",
      "(116, 4)\n",
      "(24, 6)\n",
      "(77, 4)\n",
      "(7, 6)\n",
      "(54, 4)\n",
      "(5, 6)\n",
      "(19, 8)\n",
      "(101, 6)\n",
      "(2, 4)\n",
      "(3, 2)\n",
      "(53, 4)\n",
      "(33, 6)\n",
      "(87, 8)\n",
      "(158, 6)\n",
      "(72, 4)\n",
      "(155, 6)\n",
      "(4, 4)\n",
      "(54, 2)\n",
      "(232, 4)\n",
      "(4, 6)\n",
      "(147, 8)\n",
      "(168, 6)\n",
      "(47, 8)\n",
      "(19, 6)\n",
      "(173, 8)\n",
      "(30, 6)\n",
      "(58, 8)\n",
      "(96, 6)\n",
      "(234, 8)\n",
      "(239, 6)\n",
      "(51, 4)\n",
      "(62, 6)\n",
      "(64, 4)\n",
      "(54, 6)\n",
      "(10, 4)\n",
      "(55, 2)\n",
      "(43, 4)\n",
      "(106, 6)\n",
      "(7, 4)\n",
      "(11, 2)\n",
      "(8, 4)\n",
      "(100, 6)\n",
      "(187, 8)\n",
      "(9, 6)\n",
      "(12, 4)\n",
      "(71, 2)\n",
      "(91, 4)\n",
      "(63, 6)\n",
      "(220, 4)\n",
      "(72, 6)\n",
      "(57, 4)\n",
      "(45, 6)\n",
      "(3, 4)\n",
      "(8, 6)\n",
      "(292, 4)\n",
      "(22, 6)\n",
      "(93, 8)\n",
      "(71, 6)\n",
      "(222, 8)\n",
      "(70, 6)\n",
      "(81, 8)\n",
      "(107, 6)\n",
      "(312, 8)\n"
     ]
    }
   ],
   "source": [
    "trajs = []\n",
    "for (start, end) in list(zip([0] + change_points, change_points + [len(traj)])):\n",
    "    trajs.append(np.array(traj[start:end]))\n",
    "    print(trajs[-1].shape)"
   ]
  },
  {
   "cell_type": "code",
   "execution_count": 88,
   "metadata": {},
   "outputs": [
    {
     "data": {
      "text/plain": [
       "array([[-2.3010962 ,  1.57292787,  2.82169626,  3.27746064],\n",
       "       [-2.3010962 ,  1.57292787,  2.82169626,  3.27746064],\n",
       "       [-2.33455632,  1.45660428,  2.81957869,  3.31056781],\n",
       "       [-2.33455632,  1.45660428,  2.81957869,  3.31056781],\n",
       "       [-2.33455632,  1.45660428,  2.81957869,  3.31056781],\n",
       "       [-2.52454299,  1.4017689 ,  2.67311488,  3.51408516],\n",
       "       [-2.61301333,  1.3055015 ,  2.6400122 ,  3.60910466],\n",
       "       [-2.57986807,  1.29631368,  2.68541174,  3.58641348],\n",
       "       [-2.56127178,  1.2795065 ,  2.77459001,  3.68463796],\n",
       "       [-2.56127178,  1.2795065 ,  2.77459001,  3.68463796],\n",
       "       [-2.673865  ,  1.44232572,  2.87235841,  3.70143777],\n",
       "       [-2.67346803,  1.48792969,  2.77241232,  3.71899546],\n",
       "       [-2.75574388,  1.55750073,  2.86129115,  3.7655916 ],\n",
       "       [-2.77678733,  1.54609219,  2.78888011,  3.67012386],\n",
       "       [-2.76464487,  1.59486042,  2.8956048 ,  3.51077225],\n",
       "       [-2.76464487,  1.59486042,  2.8956048 ,  3.51077225],\n",
       "       [-2.66782153,  1.75473356,  2.86440576,  3.38781296],\n",
       "       [-2.66782153,  1.75473356,  2.86440576,  3.38781296],\n",
       "       [-2.70345328,  1.73963683,  2.87793101,  3.35856546],\n",
       "       [-2.74525068,  1.71538092,  2.99186846,  3.33309028],\n",
       "       [-2.74525068,  1.71538092,  2.99186846,  3.33309028],\n",
       "       [-2.74525068,  1.71538092,  2.99186846,  3.33309028],\n",
       "       [-2.74525068,  1.71538092,  2.99186846,  3.33309028],\n",
       "       [-2.74525068,  1.71538092,  2.99186846,  3.33309028],\n",
       "       [-2.6991461 ,  1.81855503,  2.96626757,  3.31412058],\n",
       "       [-2.6991461 ,  1.81855503,  2.96626757,  3.31412058],\n",
       "       [-2.76371184,  1.93725688,  2.95372959,  3.21583002],\n",
       "       [-2.76371184,  1.93725688,  2.95372959,  3.21583002],\n",
       "       [-2.86208684,  2.00056564,  3.10052893,  3.2545866 ],\n",
       "       [-2.76941616,  2.01616379,  2.96849008,  3.40778056],\n",
       "       [-2.91426396,  1.98027235,  3.08683673,  3.40920033],\n",
       "       [-2.91426396,  1.98027235,  3.08683673,  3.40920033],\n",
       "       [-2.89266894,  1.92543073,  3.15373164,  3.43100142],\n",
       "       [-2.89266894,  1.92543073,  3.15373164,  3.43100142],\n",
       "       [-2.89266894,  1.92543073,  3.15373164,  3.43100142],\n",
       "       [-2.75967816,  1.96082846,  3.04738932,  3.46020511],\n",
       "       [-2.75888838,  1.89119363,  3.02279861,  3.45864241],\n",
       "       [-2.72250678,  1.88973641,  3.09225288,  3.543962  ],\n",
       "       [-2.72250678,  1.88973641,  3.09225288,  3.543962  ],\n",
       "       [-2.71459761,  1.78401549,  3.08865076,  3.58407761],\n",
       "       [-2.83927306,  1.84846587,  3.08908375,  3.6608952 ],\n",
       "       [-2.92519566,  1.82621757,  3.14238383,  3.56618842],\n",
       "       [-2.873556  ,  2.02597066,  3.0632343 ,  3.71718736],\n",
       "       [-2.88514567,  2.14963579,  2.95283333,  3.82527843],\n",
       "       [-2.88514567,  2.14963579,  2.95283333,  3.82527843],\n",
       "       [-2.97777099,  2.22382248,  2.98227712,  3.86795211],\n",
       "       [-2.97987394,  2.32207853,  3.01079417,  3.88469818],\n",
       "       [-2.97987394,  2.32207853,  3.01079417,  3.88469818],\n",
       "       [-2.96662521,  2.57587929,  2.93904974,  3.79405294],\n",
       "       [-3.0289994 ,  2.41821357,  2.99239509,  3.70842986],\n",
       "       [-3.05133087,  2.5715851 ,  3.04700252,  3.7205377 ],\n",
       "       [-3.05133087,  2.5715851 ,  3.04700252,  3.7205377 ],\n",
       "       [-3.05133087,  2.5715851 ,  3.04700252,  3.7205377 ],\n",
       "       [-2.97308989,  2.66286052,  3.10891508,  3.70029092],\n",
       "       [-2.97308989,  2.66286052,  3.10891508,  3.70029092],\n",
       "       [-2.89506743,  2.8060051 ,  2.95868034,  3.59795289],\n",
       "       [-2.88782431,  2.81493057,  3.00673464,  3.57230016],\n",
       "       [-2.78127179,  2.86324852,  2.90483513,  3.55973834],\n",
       "       [-2.78127179,  2.86324852,  2.90483513,  3.55973834],\n",
       "       [-2.81520931,  2.84867947,  2.78741879,  3.47948214],\n",
       "       [-2.81520931,  2.84867947,  2.78741879,  3.47948214],\n",
       "       [-2.96105737,  2.85831898,  2.8611606 ,  3.48001733],\n",
       "       [-2.96105737,  2.85831898,  2.8611606 ,  3.48001733],\n",
       "       [-2.96105737,  2.85831898,  2.8611606 ,  3.48001733],\n",
       "       [-2.95562415,  2.78509291,  2.78998644,  3.48570454],\n",
       "       [-3.03797404,  2.49586887,  2.77412731,  3.33254436],\n",
       "       [-3.09576867,  2.30527831,  2.57323305,  3.35643396],\n",
       "       [-3.09576867,  2.30527831,  2.57323305,  3.35643396],\n",
       "       [-3.14661396,  2.46401044,  2.64200081,  3.35461272],\n",
       "       [-3.14661396,  2.46401044,  2.64200081,  3.35461272],\n",
       "       [-3.20557216,  2.55055505,  2.67464798,  3.45883161],\n",
       "       [-3.19098392,  2.65225471,  2.78801531,  3.44988254],\n",
       "       [-3.20303166,  2.71673938,  2.65829857,  3.44395484],\n",
       "       [-3.20303166,  2.71673938,  2.65829857,  3.44395484],\n",
       "       [-3.11516104,  2.75280356,  2.64792352,  3.45821345]])"
      ]
     },
     "execution_count": 88,
     "metadata": {},
     "output_type": "execute_result"
    }
   ],
   "source": [
    "trajs[1]"
   ]
  },
  {
   "cell_type": "code",
   "execution_count": 72,
   "metadata": {},
   "outputs": [
    {
     "name": "stderr",
     "output_type": "stream",
     "text": [
      "100%|██████████| 134/134 [00:00<00:00, 314.73it/s]\n"
     ]
    },
    {
     "data": {
      "image/png": "[encoded data removed]",
      "text/plain": [
       "<matplotlib.figure.Figure at 0x122044f98>"
      ]
     },
     "metadata": {},
     "output_type": "display_data"
    }
   ],
   "source": [
    "for i in tqdm(range(len(trajs))):\n",
    "    x_init = sum([len(t) for t in trajs[:i]])\n",
    "    x_end = x_init + len(trajs[i])\n",
    "    n_components = int(trajs[i].shape[1] / 2)\n",
    "    plt.plot(np.arange(x_init, x_end), trajs[i][:,:n_components])"
   ]
  },
  {
   "cell_type": "code",
   "execution_count": 73,
   "metadata": {},
   "outputs": [
    {
     "data": {
      "text/plain": [
       "(0, 1000)"
      ]
     },
     "execution_count": 73,
     "metadata": {},
     "output_type": "execute_result"
    },
    {
     "data": {
      "image/png": "[encoded data removed]",
      "text/plain": [
       "<matplotlib.figure.Figure at 0x120ce9128>"
      ]
     },
     "metadata": {},
     "output_type": "display_data"
    }
   ],
   "source": [
    "for i in range(len(trajs)):\n",
    "    x_init = sum([len(t) for t in trajs[:i]])\n",
    "    x_end = x_init + len(trajs[i])\n",
    "    n_components = int(trajs[i].shape[1] / 2)\n",
    "    plt.plot(np.arange(x_init, x_end), trajs[i][:,:n_components])\n",
    "plt.ylim(-10,10)\n",
    "plt.xlim(0,1000)"
   ]
  },
  {
   "cell_type": "code",
   "execution_count": 91,
   "metadata": {
    "scrolled": true
   },
   "outputs": [
    {
     "data": {
      "image/png": "[encoded data removed]",
      "text/plain": [
       "<matplotlib.figure.Figure at 0x1233ea898>"
      ]
     },
     "metadata": {},
     "output_type": "display_data"
    }
   ],
   "source": [
    "plt.figure(figsize=(3,3))\n",
    "ax = plt.subplot(111)\n",
    "for i in range(len(trajs)):\n",
    "    x_init = sum([len(t) for t in trajs[:i]])\n",
    "    x_end = x_init + len(trajs[i])\n",
    "    n_components = int(trajs[i].shape[1] / 2)\n",
    "    plt.plot(np.arange(x_init, x_end), trajs[i][:,:n_components], color='blue')\n",
    "plt.ylim(-10,10)\n",
    "plt.xlim(0,2000)\n",
    "#plt.yticks([-10,0,10])\n",
    "plt.yticks([])\n",
    "plt.xticks([0,1000, 2000])\n",
    "plt.xlabel('iteration')\n",
    "plt.ylabel(r'mixture component means ($x$)')\n",
    "ax.spines['right'].set_visible(False)\n",
    "ax.spines['top'].set_visible(False)\n",
    "\n",
    "plt.savefig('2-branching.jpg', dpi=600, bbox_inches='tight')\n",
    "plt.savefig('2-branching.pdf', dpi=600, bbox_inches='tight')"
   ]
  },
  {
   "cell_type": "code",
   "execution_count": null,
   "metadata": {},
   "outputs": [],
   "source": [
    "for i in range(len(trajs)):\n",
    "    x_init = sum([len(t) for t in trajs[:i]])\n",
    "    x_end = x_init + len(trajs[i])\n",
    "    n_components = int(trajs[i].shape[1] / 2)\n",
    "    plt.plot(np.arange(x_init, x_end), trajs[i][:,n_components:])"
   ]
  },
  {
   "cell_type": "code",
   "execution_count": null,
   "metadata": {},
   "outputs": [],
   "source": [
    "for i in range(len(trajs)):\n",
    "    x_init = sum([len(t) for t in trajs[:i]])\n",
    "    x_end = x_init + len(trajs[i])\n",
    "    n_components = int(trajs[i].shape[1] / 2)\n",
    "    plt.plot(np.arange(x_init, x_end), trajs[i][:,n_components:])\n",
    "plt.yscale('log')\n",
    "plt.ylabel('component variance')\n",
    "plt.xlabel('iteration')\n",
    "plt.savefig('rjmc-component-variance.jpg')"
   ]
  },
  {
   "cell_type": "code",
   "execution_count": 249,
   "metadata": {},
   "outputs": [
    {
     "data": {
      "image/png": "[encoded data removed]",
      "text/plain": [
       "<matplotlib.figure.Figure at 0x1217b5550>"
      ]
     },
     "metadata": {},
     "output_type": "display_data"
    }
   ],
   "source": [
    "colors = ['blue'] * max_components\n",
    "for i in range(len(trajs)):\n",
    "    x_init = sum([len(t) for t in trajs[:i]])\n",
    "    x_end = x_init + len(trajs[i])\n",
    "    n_components = int(trajs[i].shape[1] / 2)\n",
    "    \n",
    "    t = trajs[i]\n",
    "    \n",
    "    for j in range(n_components):\n",
    "        mean = t[:,j]\n",
    "        stdev = t[:,j + n_components]\n",
    "        color = colors[j]\n",
    "\n",
    "        plt.plot(np.arange(x_init, x_end), mean, color=color)\n",
    "        plt.fill_between(np.arange(x_init, x_end), mean - 1.96 * stdev, mean + 1.96 * stdev, color=color, alpha=0.25)\n",
    "        \n",
    "    plt.xlim(0,1000)"
   ]
  },
  {
   "cell_type": "code",
   "execution_count": 250,
   "metadata": {},
   "outputs": [
    {
     "data": {
      "text/plain": [
       "10001"
      ]
     },
     "execution_count": 250,
     "metadata": {},
     "output_type": "execute_result"
    }
   ],
   "source": [
    "x_end"
   ]
  },
  {
   "cell_type": "code",
   "execution_count": 253,
   "metadata": {},
   "outputs": [],
   "source": [
    "snapshots = dict()\n",
    "\n",
    "for k in n_components_range:\n",
    "    snapshots[k] = np.vstack([theta for theta in traj if len(theta) == (2 * k)])"
   ]
  },
  {
   "cell_type": "code",
   "execution_count": 29,
   "metadata": {},
   "outputs": [
    {
     "ename": "NameError",
     "evalue": "name 'trajs' is not defined",
     "output_type": "error",
     "traceback": [
      "\u001b[0;31m---------------------------------------------------------------------------\u001b[0m",
      "\u001b[0;31mNameError\u001b[0m                                 Traceback (most recent call last)",
      "\u001b[0;32m<ipython-input-29-659c44d82ed5>\u001b[0m in \u001b[0;36m<module>\u001b[0;34m()\u001b[0m\n\u001b[1;32m      1\u001b[0m \u001b[0;32mfrom\u001b[0m \u001b[0mseaborn\u001b[0m\u001b[0;34m.\u001b[0m\u001b[0mapionly\u001b[0m \u001b[0;32mimport\u001b[0m \u001b[0mcolor_palette\u001b[0m\u001b[0;34m\u001b[0m\u001b[0m\n\u001b[1;32m      2\u001b[0m \u001b[0;34m\u001b[0m\u001b[0m\n\u001b[0;32m----> 3\u001b[0;31m \u001b[0mmax_n_components\u001b[0m \u001b[0;34m=\u001b[0m \u001b[0mmax\u001b[0m\u001b[0;34m(\u001b[0m\u001b[0;34m[\u001b[0m\u001b[0mint\u001b[0m\u001b[0;34m(\u001b[0m\u001b[0mt\u001b[0m\u001b[0;34m.\u001b[0m\u001b[0mshape\u001b[0m\u001b[0;34m[\u001b[0m\u001b[0;36m1\u001b[0m\u001b[0;34m]\u001b[0m \u001b[0;34m/\u001b[0m \u001b[0;36m2\u001b[0m\u001b[0;34m)\u001b[0m \u001b[0;32mfor\u001b[0m \u001b[0mt\u001b[0m \u001b[0;32min\u001b[0m \u001b[0mtrajs\u001b[0m\u001b[0;34m]\u001b[0m\u001b[0;34m)\u001b[0m\u001b[0;34m\u001b[0m\u001b[0m\n\u001b[0m\u001b[1;32m      4\u001b[0m \u001b[0mcolors\u001b[0m \u001b[0;34m=\u001b[0m \u001b[0mcolor_palette\u001b[0m\u001b[0;34m(\u001b[0m\u001b[0;34m'pastel'\u001b[0m\u001b[0;34m,\u001b[0m \u001b[0mmax_n_components\u001b[0m\u001b[0;34m)\u001b[0m\u001b[0;34m\u001b[0m\u001b[0m\n\u001b[1;32m      5\u001b[0m \u001b[0;34m\u001b[0m\u001b[0m\n",
      "\u001b[0;31mNameError\u001b[0m: name 'trajs' is not defined"
     ]
    }
   ],
   "source": [
    "from seaborn.apionly import color_palette\n",
    "\n",
    "max_n_components = max([int(t.shape[1] / 2) for t in trajs])\n",
    "colors = color_palette('pastel', max_n_components)\n",
    "\n",
    "for i in range(len(trajs)):\n",
    "    x_init = sum([len(t) for t in trajs[:i]])\n",
    "    x_end = x_init + len(trajs[i])\n",
    "    n_components = int(trajs[i].shape[1] / 2)\n",
    "    \n",
    "    t = trajs[i]\n",
    "    \n",
    "    \n",
    "    for j in range(n_components):\n",
    "        mean = t[:,j]\n",
    "        stdev = t[:,j + n_components]\n",
    "        color = colors[j]\n",
    "    \n",
    "        plt.plot(mean, color=color)\n",
    "        plt.fill_between(np.arange(len(mean)), mean - 1.96 * stdev, mean + 1.96 * stdev, color=color, alpha=0.5 / n_components)\n",
    "plt.xscale('log')"
   ]
  },
  {
   "cell_type": "code",
   "execution_count": 32,
   "metadata": {},
   "outputs": [
    {
     "name": "stderr",
     "output_type": "stream",
     "text": [
      "100%|██████████| 10001/10001 [00:02<00:00, 3689.17it/s]\n"
     ]
    }
   ],
   "source": [
    "log_prior_trace = [log_prior(theta) for theta in tqdm(traj)]"
   ]
  },
  {
   "cell_type": "code",
   "execution_count": 33,
   "metadata": {},
   "outputs": [
    {
     "data": {
      "text/plain": [
       "[<matplotlib.lines.Line2D at 0x1227ea208>]"
      ]
     },
     "execution_count": 33,
     "metadata": {},
     "output_type": "execute_result"
    },
    {
     "data": {
      "image/png": "[encoded data removed]",
      "text/plain": [
       "<matplotlib.figure.Figure at 0x1234954a8>"
      ]
     },
     "metadata": {},
     "output_type": "display_data"
    }
   ],
   "source": [
    "plt.plot(log_prior_trace)"
   ]
  },
  {
   "cell_type": "code",
   "execution_count": 34,
   "metadata": {},
   "outputs": [
    {
     "data": {
      "text/plain": [
       "-4.650508027621516"
      ]
     },
     "execution_count": 34,
     "metadata": {},
     "output_type": "execute_result"
    }
   ],
   "source": [
    "log_prior_trace[20]"
   ]
  },
  {
   "cell_type": "code",
   "execution_count": 35,
   "metadata": {
    "scrolled": true
   },
   "outputs": [
    {
     "name": "stderr",
     "output_type": "stream",
     "text": [
      "100%|██████████| 10001/10001 [00:42<00:00, 158.59it/s]\n"
     ]
    }
   ],
   "source": [
    "log_prob_trace = [flat_log_p(theta) for theta in tqdm(traj)]"
   ]
  },
  {
   "cell_type": "code",
   "execution_count": 36,
   "metadata": {
    "scrolled": true
   },
   "outputs": [
    {
     "data": {
      "text/plain": [
       "[<matplotlib.lines.Line2D at 0x122d0cac8>]"
      ]
     },
     "execution_count": 36,
     "metadata": {},
     "output_type": "execute_result"
    },
    {
     "data": {
      "image/png": "[encoded data removed]",
      "text/plain": [
       "<matplotlib.figure.Figure at 0x120a00e80>"
      ]
     },
     "metadata": {},
     "output_type": "display_data"
    }
   ],
   "source": [
    "plt.plot(log_prob_trace)"
   ]
  },
  {
   "cell_type": "code",
   "execution_count": 37,
   "metadata": {},
   "outputs": [
    {
     "data": {
      "text/plain": [
       "(-1260.4359137375473, -780.5853294990308)"
      ]
     },
     "execution_count": 37,
     "metadata": {},
     "output_type": "execute_result"
    },
    {
     "data": {
      "image/png": "[encoded data removed]",
      "text/plain": [
       "<matplotlib.figure.Figure at 0x1245e22e8>"
      ]
     },
     "metadata": {},
     "output_type": "display_data"
    }
   ],
   "source": [
    "plt.plot(log_prob_trace)\n",
    "plt.xlim(500,)\n",
    "plt.ylim(log_prob_trace[500],max(log_prob_trace))"
   ]
  },
  {
   "cell_type": "code",
   "execution_count": 38,
   "metadata": {},
   "outputs": [
    {
     "data": {
      "image/png": "[encoded data removed]",
      "text/plain": [
       "<matplotlib.figure.Figure at 0x11168b358>"
      ]
     },
     "metadata": {},
     "output_type": "display_data"
    }
   ],
   "source": [
    "plt.plot(np.array(log_prior_trace), label='prior')\n",
    "plt.plot(np.array(log_prob_trace) - np.array(log_prior_trace), label='likelihood')\n",
    "plt.plot(np.array(log_prob_trace), label='posterior')\n",
    "plt.legend(loc='best')\n",
    "\n",
    "plt.savefig('rjmc-trace.jpg')"
   ]
  },
  {
   "cell_type": "code",
   "execution_count": 39,
   "metadata": {},
   "outputs": [
    {
     "data": {
      "image/png": "[encoded data removed]",
      "text/plain": [
       "<matplotlib.figure.Figure at 0x121fe9940>"
      ]
     },
     "metadata": {},
     "output_type": "display_data"
    }
   ],
   "source": [
    "plt.plot(np.array(log_prior_trace), label='prior')\n",
    "plt.plot(np.array(log_prob_trace) - np.array(log_prior_trace), label='likelihood')\n",
    "plt.plot(np.array(log_prob_trace), label='posterior')\n",
    "plt.legend(loc='best')\n",
    "\n",
    "plt.xlim(500,)\n",
    "plt.ylim(log_prob_trace[500] - 10, max(log_prior_trace) + 10)\n",
    "\n",
    "plt.savefig('rjmc-trace-zoomed.jpg')"
   ]
  },
  {
   "cell_type": "code",
   "execution_count": null,
   "metadata": {},
   "outputs": [],
   "source": []
  },
  {
   "cell_type": "code",
   "execution_count": null,
   "metadata": {},
   "outputs": [],
   "source": []
  }
 ],
 "metadata": {
  "kernelspec": {
   "display_name": "Python 3",
   "language": "python",
   "name": "python3"
  },
  "language_info": {
   "codemirror_mode": {
    "name": "ipython",
    "version": 3
   },
   "file_extension": ".py",
   "mimetype": "text/x-python",
   "name": "python",
   "nbconvert_exporter": "python",
   "pygments_lexer": "ipython3",
   "version": "3.6.5"
  }
 },
 "nbformat": 4,
 "nbformat_minor": 2
}
