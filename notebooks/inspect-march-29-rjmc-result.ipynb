{
 "cells": [
  {
   "cell_type": "code",
   "execution_count": 1,
   "metadata": {
    "ExecuteTime": {
     "end_time": "2019-03-30T18:33:31.611072Z",
     "start_time": "2019-03-30T18:33:31.270999Z"
    }
   },
   "outputs": [],
   "source": [
    "from pickle import load\n",
    "import numpy as np"
   ]
  },
  {
   "cell_type": "code",
   "execution_count": 101,
   "metadata": {
    "ExecuteTime": {
     "end_time": "2019-03-30T20:35:19.339532Z",
     "start_time": "2019-03-30T20:35:19.337022Z"
    }
   },
   "outputs": [],
   "source": [
    "path = '../bayes_implicit_solvent/rjmc_experiments/elaborate_tree_rjmc_march29_run_n_compounds=315_n_iter=100000_gaussian_ll_small_proposals.pkl'"
   ]
  },
  {
   "cell_type": "code",
   "execution_count": 102,
   "metadata": {
    "ExecuteTime": {
     "end_time": "2019-03-30T20:35:19.501231Z",
     "start_time": "2019-03-30T20:35:19.490699Z"
    }
   },
   "outputs": [],
   "source": [
    "with open(path, 'rb') as f:\n",
    "    gaussian_trees = load(f)[1:]"
   ]
  },
  {
   "cell_type": "code",
   "execution_count": 103,
   "metadata": {
    "ExecuteTime": {
     "end_time": "2019-03-30T20:35:20.197266Z",
     "start_time": "2019-03-30T20:35:20.194507Z"
    }
   },
   "outputs": [],
   "source": [
    "t = gaussian_trees[0]"
   ]
  },
  {
   "cell_type": "code",
   "execution_count": 104,
   "metadata": {
    "ExecuteTime": {
     "end_time": "2019-03-30T20:35:20.651795Z",
     "start_time": "2019-03-30T20:35:20.647750Z"
    }
   },
   "outputs": [
    {
     "data": {
      "text/plain": [
       "4000"
      ]
     },
     "execution_count": 104,
     "metadata": {},
     "output_type": "execute_result"
    }
   ],
   "source": [
    "len(gaussian_trees)"
   ]
  },
  {
   "cell_type": "code",
   "execution_count": 105,
   "metadata": {
    "ExecuteTime": {
     "end_time": "2019-03-30T20:35:21.484557Z",
     "start_time": "2019-03-30T20:35:21.480277Z"
    }
   },
   "outputs": [],
   "source": [
    "discrete_trees = [tuple(t.ordered_nodes) for t in gaussian_trees]"
   ]
  },
  {
   "cell_type": "code",
   "execution_count": 106,
   "metadata": {
    "ExecuteTime": {
     "end_time": "2019-03-30T20:35:22.029041Z",
     "start_time": "2019-03-30T20:35:22.024807Z"
    }
   },
   "outputs": [
    {
     "data": {
      "text/plain": [
       "25"
      ]
     },
     "execution_count": 106,
     "metadata": {},
     "output_type": "execute_result"
    }
   ],
   "source": [
    "len(set(discrete_trees))"
   ]
  },
  {
   "cell_type": "code",
   "execution_count": 107,
   "metadata": {
    "ExecuteTime": {
     "end_time": "2019-03-30T20:35:22.604571Z",
     "start_time": "2019-03-30T20:35:22.600832Z"
    }
   },
   "outputs": [],
   "source": [
    "events = [discrete_trees[i] != discrete_trees[i + 1] for i in range(len(discrete_trees) - 1)]"
   ]
  },
  {
   "cell_type": "code",
   "execution_count": 108,
   "metadata": {
    "ExecuteTime": {
     "end_time": "2019-03-30T20:35:23.972559Z",
     "start_time": "2019-03-30T20:35:23.968914Z"
    }
   },
   "outputs": [
    {
     "data": {
      "text/plain": [
       "37"
      ]
     },
     "execution_count": 108,
     "metadata": {},
     "output_type": "execute_result"
    }
   ],
   "source": [
    "sum(events)"
   ]
  },
  {
   "cell_type": "code",
   "execution_count": 109,
   "metadata": {
    "ExecuteTime": {
     "end_time": "2019-03-30T20:35:24.699186Z",
     "start_time": "2019-03-30T20:35:24.694080Z"
    }
   },
   "outputs": [
    {
     "data": {
      "text/plain": [
       "*                             (r = 1.96 Å, s = 0.78)\n",
       "|-[#1]                        (r = 0.59 Å, s = 0.63)\n",
       "|-[#6]                        (r = 1.86 Å, s = 0.87)\n",
       "  |-[#6&r0]                   (r = 1.76 Å, s = 0.95)\n",
       "    |-[#6&r0&H0]              (r = 1.84 Å, s = 0.65)\n",
       "      |-[#6&r0&H0&X4]         (r = 2.05 Å, s = 0.69)\n",
       "      |-[#6&r0&H0&X2]         (r = 1.89 Å, s = 0.65)\n",
       "|-[#7]                        (r = 1.83 Å, s = 0.86)\n",
       "  |-[#7&X2]                   (r = 1.87 Å, s = 0.99)\n",
       "    |-[#7&X2&r0]              (r = 2.31 Å, s = 0.99)\n",
       "|-[#8]                        (r = 1.10 Å, s = 0.83)\n",
       "  |-[#8&+0]                   (r = 1.54 Å, s = 1.00)\n",
       "    |-[#8&+0&H0]              (r = 2.31 Å, s = 0.93)\n",
       "      |-[#8&+0&H0&X2]         (r = 1.69 Å, s = 1.14)\n",
       "        |-[#8&+0&H0&X2&r0]    (r = 2.06 Å, s = 0.83)\n",
       "|-[#9]                        (r = 2.64 Å, s = 0.56)\n",
       "|-[#15]                       (r = 2.30 Å, s = 0.69)\n",
       "|-[#16]                       (r = 2.57 Å, s = 0.72)\n",
       "  |-[#16&X1]                  (r = 2.72 Å, s = 0.79)\n",
       "  |-[#16&X2]                  (r = 2.66 Å, s = 0.70)\n",
       "    |-[#16&X2&H0]             (r = 2.07 Å, s = 0.89)\n",
       "|-[#17]                       (r = 1.35 Å, s = 1.82)\n",
       "|-[#35]                       (r = 1.87 Å, s = 0.99)\n",
       "|-[#53]                       (r = 2.51 Å, s = 0.78)"
      ]
     },
     "execution_count": 109,
     "metadata": {},
     "output_type": "execute_result"
    }
   ],
   "source": [
    "gaussian_trees[-1]"
   ]
  },
  {
   "cell_type": "code",
   "execution_count": 111,
   "metadata": {
    "ExecuteTime": {
     "end_time": "2019-03-30T20:35:33.748022Z",
     "start_time": "2019-03-30T20:35:33.745276Z"
    }
   },
   "outputs": [],
   "source": [
    "path = '../bayes_implicit_solvent/rjmc_experiments/elaborate_tree_rjmc_march29_run_n_compounds=315_n_iter=100000_student-t_ll_small_proposals.pkl'"
   ]
  },
  {
   "cell_type": "code",
   "execution_count": 112,
   "metadata": {
    "ExecuteTime": {
     "end_time": "2019-03-30T20:35:33.903452Z",
     "start_time": "2019-03-30T20:35:33.894786Z"
    }
   },
   "outputs": [],
   "source": [
    "with open(path, 'rb') as f:\n",
    "    student_t_trees = load(f)[1:]"
   ]
  },
  {
   "cell_type": "code",
   "execution_count": 113,
   "metadata": {
    "ExecuteTime": {
     "end_time": "2019-03-30T20:35:36.849736Z",
     "start_time": "2019-03-30T20:35:36.846275Z"
    }
   },
   "outputs": [
    {
     "data": {
      "text/plain": [
       "4000"
      ]
     },
     "execution_count": 113,
     "metadata": {},
     "output_type": "execute_result"
    }
   ],
   "source": [
    "len(student_t_trees)"
   ]
  },
  {
   "cell_type": "code",
   "execution_count": 114,
   "metadata": {
    "ExecuteTime": {
     "end_time": "2019-03-30T20:35:41.606556Z",
     "start_time": "2019-03-30T20:35:41.600292Z"
    }
   },
   "outputs": [
    {
     "data": {
      "text/plain": [
       "22"
      ]
     },
     "execution_count": 114,
     "metadata": {},
     "output_type": "execute_result"
    }
   ],
   "source": [
    "discrete_trees_t = [tuple(t.ordered_nodes) for t in student_t_trees]\n",
    "len(set(discrete_trees_t))"
   ]
  },
  {
   "cell_type": "code",
   "execution_count": 115,
   "metadata": {
    "ExecuteTime": {
     "end_time": "2019-03-30T20:35:41.829021Z",
     "start_time": "2019-03-30T20:35:41.823952Z"
    }
   },
   "outputs": [
    {
     "data": {
      "text/plain": [
       "37"
      ]
     },
     "execution_count": 115,
     "metadata": {},
     "output_type": "execute_result"
    }
   ],
   "source": [
    "events = [discrete_trees_t[i] != discrete_trees_t[i + 1] for i in range(len(discrete_trees_t) - 1)]\n",
    "sum(events)"
   ]
  },
  {
   "cell_type": "code",
   "execution_count": 116,
   "metadata": {
    "ExecuteTime": {
     "end_time": "2019-03-30T20:35:42.709086Z",
     "start_time": "2019-03-30T20:35:42.702782Z"
    }
   },
   "outputs": [
    {
     "data": {
      "text/plain": [
       "(*                        (r = 0.86 Å, s = 0.89)\n",
       " |-[#1]                   (r = 0.61 Å, s = 0.72)\n",
       " |-[#6]                   (r = 1.73 Å, s = 0.96)\n",
       "   |-[#6&X3]              (r = 1.90 Å, s = 0.83)\n",
       "     |-[#6&X3&r0]         (r = 1.82 Å, s = 0.84)\n",
       " |-[#7]                   (r = 1.92 Å, s = 0.88)\n",
       "   |-[#7&A]               (r = 1.84 Å, s = 0.85)\n",
       " |-[#8]                   (r = 1.20 Å, s = 1.02)\n",
       "   |-[#8&+0]              (r = 1.62 Å, s = 0.94)\n",
       "     |-[#8&+0&H0]         (r = 1.94 Å, s = 0.84)\n",
       "       |-[#8&+0&H0&X1]    (r = 2.14 Å, s = 1.01)\n",
       " |-[#9]                   (r = 2.38 Å, s = 0.64)\n",
       " |-[#15]                  (r = 2.04 Å, s = 0.63)\n",
       " |-[#16]                  (r = 2.85 Å, s = 0.60)\n",
       "   |-[#16&X2]             (r = 2.13 Å, s = 0.91)\n",
       " |-[#17]                  (r = 1.51 Å, s = 1.47)\n",
       " |-[#35]                  (r = 1.79 Å, s = 1.28)\n",
       " |-[#53]                  (r = 2.45 Å, s = 0.63),\n",
       " *                             (r = 1.96 Å, s = 0.78)\n",
       " |-[#1]                        (r = 0.59 Å, s = 0.63)\n",
       " |-[#6]                        (r = 1.86 Å, s = 0.87)\n",
       "   |-[#6&r0]                   (r = 1.76 Å, s = 0.95)\n",
       "     |-[#6&r0&H0]              (r = 1.84 Å, s = 0.65)\n",
       "       |-[#6&r0&H0&X4]         (r = 2.05 Å, s = 0.69)\n",
       "       |-[#6&r0&H0&X2]         (r = 1.89 Å, s = 0.65)\n",
       " |-[#7]                        (r = 1.83 Å, s = 0.86)\n",
       "   |-[#7&X2]                   (r = 1.87 Å, s = 0.99)\n",
       "     |-[#7&X2&r0]              (r = 2.31 Å, s = 0.99)\n",
       " |-[#8]                        (r = 1.10 Å, s = 0.83)\n",
       "   |-[#8&+0]                   (r = 1.54 Å, s = 1.00)\n",
       "     |-[#8&+0&H0]              (r = 2.31 Å, s = 0.93)\n",
       "       |-[#8&+0&H0&X2]         (r = 1.69 Å, s = 1.14)\n",
       "         |-[#8&+0&H0&X2&r0]    (r = 2.06 Å, s = 0.83)\n",
       " |-[#9]                        (r = 2.64 Å, s = 0.56)\n",
       " |-[#15]                       (r = 2.30 Å, s = 0.69)\n",
       " |-[#16]                       (r = 2.57 Å, s = 0.72)\n",
       "   |-[#16&X1]                  (r = 2.72 Å, s = 0.79)\n",
       "   |-[#16&X2]                  (r = 2.66 Å, s = 0.70)\n",
       "     |-[#16&X2&H0]             (r = 2.07 Å, s = 0.89)\n",
       " |-[#17]                       (r = 1.35 Å, s = 1.82)\n",
       " |-[#35]                       (r = 1.87 Å, s = 0.99)\n",
       " |-[#53]                       (r = 2.51 Å, s = 0.78))"
      ]
     },
     "execution_count": 116,
     "metadata": {},
     "output_type": "execute_result"
    }
   ],
   "source": [
    "student_t_trees[-1], gaussian_trees[-1]"
   ]
  },
  {
   "cell_type": "code",
   "execution_count": 117,
   "metadata": {
    "ExecuteTime": {
     "end_time": "2019-03-30T20:35:44.643760Z",
     "start_time": "2019-03-30T20:35:44.640044Z"
    }
   },
   "outputs": [],
   "source": [
    "import matplotlib.pyplot as plt\n",
    "%matplotlib inline"
   ]
  },
  {
   "cell_type": "code",
   "execution_count": 118,
   "metadata": {
    "ExecuteTime": {
     "end_time": "2019-03-30T20:35:44.785702Z",
     "start_time": "2019-03-30T20:35:44.782663Z"
    }
   },
   "outputs": [],
   "source": [
    "def get_n_types_traj(trees):\n",
    "    return np.array([t.number_of_nodes for t in trees])"
   ]
  },
  {
   "cell_type": "code",
   "execution_count": 120,
   "metadata": {
    "ExecuteTime": {
     "end_time": "2019-03-30T20:35:49.168831Z",
     "start_time": "2019-03-30T20:35:49.008269Z"
    }
   },
   "outputs": [
    {
     "data": {
      "text/plain": [
       "[<matplotlib.lines.Line2D at 0x1a500317b8>]"
      ]
     },
     "execution_count": 120,
     "metadata": {},
     "output_type": "execute_result"
    },
    {
     "data": {
      "image/png": "[encoded data removed]",
      "text/plain": [
       "<Figure size 432x288 with 1 Axes>"
      ]
     },
     "metadata": {
      "needs_background": "light"
     },
     "output_type": "display_data"
    }
   ],
   "source": [
    "x_iterations = np.arange(len(gaussian_trees)) * 26\n",
    "plt.plot(x_iterations, get_n_types_traj(gaussian_trees))\n",
    "plt.plot(x_iterations, get_n_types_traj(student_t_trees))"
   ]
  },
  {
   "cell_type": "code",
   "execution_count": 121,
   "metadata": {
    "ExecuteTime": {
     "end_time": "2019-03-30T20:35:56.615048Z",
     "start_time": "2019-03-30T20:35:56.611113Z"
    }
   },
   "outputs": [],
   "source": [
    "import networkx as nx\n",
    "\n",
    "def get_tree_depth(tree):\n",
    "    return max(nx.shortest_path_length(tree.G, source='*').values())\n",
    "\n",
    "def get_depth_traj(trees):\n",
    "    return np.array(list(map(get_tree_depth, trees)))"
   ]
  },
  {
   "cell_type": "code",
   "execution_count": 122,
   "metadata": {
    "ExecuteTime": {
     "end_time": "2019-03-30T20:35:57.506068Z",
     "start_time": "2019-03-30T20:35:57.028807Z"
    }
   },
   "outputs": [
    {
     "data": {
      "text/plain": [
       "[<matplotlib.lines.Line2D at 0x1a4ce70780>]"
      ]
     },
     "execution_count": 122,
     "metadata": {},
     "output_type": "execute_result"
    },
    {
     "data": {
      "image/png": "[encoded data removed]",
      "text/plain": [
       "<Figure size 432x288 with 1 Axes>"
      ]
     },
     "metadata": {
      "needs_background": "light"
     },
     "output_type": "display_data"
    }
   ],
   "source": [
    "plt.plot(x_iterations, get_depth_traj(gaussian_trees))\n",
    "plt.plot(x_iterations, get_depth_traj(student_t_trees))"
   ]
  },
  {
   "cell_type": "code",
   "execution_count": 123,
   "metadata": {
    "ExecuteTime": {
     "end_time": "2019-03-30T20:36:10.621835Z",
     "start_time": "2019-03-30T20:36:00.070574Z"
    }
   },
   "outputs": [
    {
     "name": "stdout",
     "output_type": "stream",
     "text": [
      "number of molecules being considered: 642\n",
      "first few CIDs ['mobley_3210206', 'mobley_3589456', 'mobley_1107178', 'mobley_5200358', 'mobley_1781152']\n",
      "discarding c1c(c(=O)[nH]c(=O)[nH]1)C(F)(F)F (mobley_7794077) because its free energy was outside of the range [-15, +5] kcal/mol\n",
      "discarding c1c(c(=O)[nH]c(=O)[nH]1)F (mobley_337666) because its free energy was outside of the range [-15, +5] kcal/mol\n",
      "discarding c1c(=O)[nH]c(=O)[nH]c1Cl (mobley_4338603) because its free energy was outside of the range [-15, +5] kcal/mol\n",
      "discarding C([C@H]([C@H]([C@@H]([C@@H](CO)O)O)O)O)O (mobley_4587267) because its free energy was outside of the range [-15, +5] kcal/mol\n",
      "discarding c1ccc(cc1)n2c(=O)c(c(cn2)N)Cl (mobley_2523689) because its free energy was outside of the range [-15, +5] kcal/mol\n",
      "discarding c1c(c(=O)[nH]c(=O)[nH]1)Cl (mobley_9557440) because its free energy was outside of the range [-15, +5] kcal/mol\n",
      "discarding c1c(c(=O)[nH]c(=O)[nH]1)I (mobley_2727678) because its free energy was outside of the range [-15, +5] kcal/mol\n",
      "discarding C([C@@H]1[C@H]([C@@H]([C@H]([C@@H](O1)O)O)O)O)O (mobley_9534740) because its free energy was outside of the range [-15, +5] kcal/mol\n",
      "discarding c1(=O)[nH]c(=O)[nH]c(=O)[nH]1 (mobley_6239320) because its free energy was outside of the range [-15, +5] kcal/mol\n",
      "discarding c1c(c(=O)[nH]c(=O)[nH]1)Br (mobley_4039055) because its free energy was outside of the range [-15, +5] kcal/mol\n",
      "discarding C1[C@H]([C@@H]([C@H]([C@H](O1)O)O)O)O (mobley_1896013) because its free energy was outside of the range [-15, +5] kcal/mol\n"
     ]
    }
   ],
   "source": [
    "import numpy as np\n",
    "from bayes_implicit_solvent.molecule import Molecule\n",
    "from simtk import unit\n",
    "\n",
    "\n",
    "def sample_path_to_unitted_snapshots(path_to_npy_samples):\n",
    "    xyz = np.load(path_to_npy_samples)\n",
    "    traj = [snapshot * unit.nanometer for snapshot in xyz]\n",
    "    return traj\n",
    "\n",
    "\n",
    "from glob import glob\n",
    "from pkg_resources import resource_filename\n",
    "\n",
    "path_to_vacuum_samples = resource_filename('bayes_implicit_solvent',\n",
    "                                           'vacuum_samples/vacuum_samples_*.npy')\n",
    "paths_to_samples = glob(path_to_vacuum_samples)\n",
    "#np.random.seed(0)\n",
    "#np.random.shuffle(paths_to_samples)\n",
    "#paths_to_samples = paths_to_samples[::2]\n",
    "\n",
    "print('number of molecules being considered: {}'.format(len(paths_to_samples)))\n",
    "\n",
    "\n",
    "def extract_cid_key(path):\n",
    "    i = path.find('mobley_')\n",
    "    j = path.find('.npy')\n",
    "    return path[i:j]\n",
    "\n",
    "\n",
    "cids = list(map(extract_cid_key, paths_to_samples))\n",
    "print('first few CIDs', cids[:5])\n",
    "\n",
    "mols = []\n",
    "\n",
    "n_configuration_samples = 50\n",
    "\n",
    "from bayes_implicit_solvent.freesolv import cid_to_smiles\n",
    "\n",
    "from bayes_implicit_solvent.constants import beta\n",
    "def unreduce(value):\n",
    "    \"\"\"Input value is in units of kB T, turn it into units of kilocalorie_per_mole\"\"\"\n",
    "    return value / (beta * unit.kilocalorie_per_mole)\n",
    "\n",
    "for path in paths_to_samples:\n",
    "    cid = extract_cid_key(path)\n",
    "    smiles = cid_to_smiles[cid]\n",
    "    vacuum_samples = sample_path_to_unitted_snapshots(path)\n",
    "    thinning = int(len(vacuum_samples) / n_configuration_samples)\n",
    "    mol = Molecule(smiles, vacuum_samples=vacuum_samples[::thinning])\n",
    "\n",
    "    if (unreduce(mol.experimental_value) > -15) and (unreduce(mol.experimental_value) < 5):\n",
    "        mols.append(mol)\n",
    "    else:\n",
    "        print('discarding {} ({}) because its free energy was outside of the range [-15, +5] kcal/mol'.format(smiles, cid))\n",
    "        \n",
    "from jax import jit, vmap\n",
    "from bayes_implicit_solvent.gb_models.jax_gb_models import compute_OBC_energy_vectorized\n",
    "from bayes_implicit_solvent.solvation_free_energy import kj_mol_to_kT, one_sided_exp\n",
    "\n",
    "@jit\n",
    "def predict_solvation_free_energy_jax(theta, distance_matrices, charges, element_ind_array):\n",
    "    N = int(len(theta) / 2)\n",
    "    radii_, scaling_factors_ = theta[:N], theta[N:]\n",
    "\n",
    "    radii = radii_[element_ind_array]\n",
    "    scaling_factors = scaling_factors_[element_ind_array]\n",
    "\n",
    "    @jit\n",
    "    def compute_component(distance_matrix):\n",
    "        return compute_OBC_energy_vectorized(distance_matrix, radii, scaling_factors, charges)\n",
    "\n",
    "    W_F = vmap(compute_component)(distance_matrices)\n",
    "\n",
    "    w_F = W_F * kj_mol_to_kT\n",
    "    return one_sided_exp(w_F)\n",
    "\n",
    "distance_matrices = [mol.distance_matrices for mol in mols]\n",
    "charges = [mol.charges for mol in mols]\n",
    "\n",
    "\n",
    "expt_means = unreduce(np.array([mol.experimental_value for mol in mols]))\n",
    "expt_uncs = unreduce(np.array([mol.experimental_uncertainty for mol in mols]))"
   ]
  },
  {
   "cell_type": "code",
   "execution_count": 124,
   "metadata": {
    "ExecuteTime": {
     "end_time": "2019-03-30T20:36:10.627436Z",
     "start_time": "2019-03-30T20:36:10.624182Z"
    }
   },
   "outputs": [],
   "source": [
    "oemols = [mol.mol for mol in mols]"
   ]
  },
  {
   "cell_type": "code",
   "execution_count": 125,
   "metadata": {
    "ExecuteTime": {
     "end_time": "2019-03-30T20:36:10.645164Z",
     "start_time": "2019-03-30T20:36:10.642736Z"
    }
   },
   "outputs": [],
   "source": [
    "# just apply the unique trees!"
   ]
  },
  {
   "cell_type": "code",
   "execution_count": null,
   "metadata": {},
   "outputs": [],
   "source": []
  },
  {
   "cell_type": "code",
   "execution_count": 126,
   "metadata": {
    "ExecuteTime": {
     "end_time": "2019-03-30T20:36:55.880998Z",
     "start_time": "2019-03-30T20:36:13.017642Z"
    }
   },
   "outputs": [
    {
     "name": "stderr",
     "output_type": "stream",
     "text": [
      "100%|██████████| 4000/4000 [00:42<00:00, 93.35it/s]\n"
     ]
    }
   ],
   "source": [
    "from tqdm import tqdm\n",
    "gaussian_typings = {}\n",
    "for t in tqdm(gaussian_trees):\n",
    "    tu = tuple(t.ordered_nodes)\n",
    "    if tu not in gaussian_typings:\n",
    "        gaussian_typings[tu] = t.apply_to_molecule_list(oemols)"
   ]
  },
  {
   "cell_type": "code",
   "execution_count": 127,
   "metadata": {
    "ExecuteTime": {
     "end_time": "2019-03-30T20:36:56.047945Z",
     "start_time": "2019-03-30T20:36:55.883277Z"
    }
   },
   "outputs": [
    {
     "data": {
      "text/plain": [
       "[<matplotlib.lines.Line2D at 0x1a52558198>]"
      ]
     },
     "execution_count": 127,
     "metadata": {},
     "output_type": "execute_result"
    },
    {
     "data": {
      "image/png": "[encoded data removed]",
      "text/plain": [
       "<Figure size 432x288 with 1 Axes>"
      ]
     },
     "metadata": {
      "needs_background": "light"
     },
     "output_type": "display_data"
    }
   ],
   "source": [
    "from scipy.stats import entropy\n",
    "plt.plot([entropy(np.bincount(np.hstack(ty))[1:]) for ty in gaussian_typings.values()])"
   ]
  },
  {
   "cell_type": "code",
   "execution_count": 128,
   "metadata": {
    "ExecuteTime": {
     "end_time": "2019-03-30T20:37:29.242564Z",
     "start_time": "2019-03-30T20:36:56.049564Z"
    }
   },
   "outputs": [
    {
     "name": "stderr",
     "output_type": "stream",
     "text": [
      "100%|██████████| 4000/4000 [00:33<00:00, 120.56it/s]\n"
     ]
    }
   ],
   "source": [
    "t_typings = {}\n",
    "for t in tqdm(student_t_trees):\n",
    "    tu = tuple(t.ordered_nodes)\n",
    "    if tu not in t_typings:\n",
    "        t_typings[tu] = t.apply_to_molecule_list(oemols)"
   ]
  },
  {
   "cell_type": "code",
   "execution_count": 129,
   "metadata": {
    "ExecuteTime": {
     "end_time": "2019-03-30T20:37:29.418713Z",
     "start_time": "2019-03-30T20:37:29.245374Z"
    }
   },
   "outputs": [
    {
     "data": {
      "text/plain": [
       "[<matplotlib.lines.Line2D at 0x1a4d4945f8>]"
      ]
     },
     "execution_count": 129,
     "metadata": {},
     "output_type": "execute_result"
    },
    {
     "data": {
      "image/png": "[encoded data removed]",
      "text/plain": [
       "<Figure size 432x288 with 1 Axes>"
      ]
     },
     "metadata": {
      "needs_background": "light"
     },
     "output_type": "display_data"
    }
   ],
   "source": [
    "plt.plot([entropy(np.bincount(np.hstack(ty))[1:]) for ty in t_typings.values()])\n",
    "plt.plot([entropy(np.bincount(np.hstack(ty))[1:]) for ty in gaussian_typings.values()])"
   ]
  },
  {
   "cell_type": "code",
   "execution_count": 130,
   "metadata": {
    "ExecuteTime": {
     "end_time": "2019-03-30T20:37:29.426669Z",
     "start_time": "2019-03-30T20:37:29.421113Z"
    }
   },
   "outputs": [
    {
     "data": {
      "text/plain": [
       "3"
      ]
     },
     "execution_count": 130,
     "metadata": {},
     "output_type": "execute_result"
    }
   ],
   "source": [
    "len(set(discrete_trees).intersection(set(discrete_trees_t)))"
   ]
  },
  {
   "cell_type": "code",
   "execution_count": 131,
   "metadata": {
    "ExecuteTime": {
     "end_time": "2019-03-30T20:37:29.437508Z",
     "start_time": "2019-03-30T20:37:29.428835Z"
    }
   },
   "outputs": [
    {
     "data": {
      "text/plain": [
       "Quantity(value=array([0.17253617, 0.17253617, 0.06139225, 0.17253617, 0.1936307 ,\n",
       "       0.18442392, 0.12016356, 0.12016356, 0.1936307 , 0.18442392,\n",
       "       0.12016356, 0.12016356, 0.06139225, 0.06139225, 0.06139225,\n",
       "       0.06139225, 0.06139225]), unit=nanometer)"
      ]
     },
     "execution_count": 131,
     "metadata": {},
     "output_type": "execute_result"
    }
   ],
   "source": [
    "t.assign_radii(oemols[0])"
   ]
  },
  {
   "cell_type": "code",
   "execution_count": 58,
   "metadata": {
    "ExecuteTime": {
     "end_time": "2019-03-30T19:49:29.440478Z",
     "start_time": "2019-03-30T19:49:29.437621Z"
    }
   },
   "outputs": [],
   "source": [
    "def get_theta(tree):\n",
    "    return np.hstack([tree.get_radii(), tree.get_scale_factors()])"
   ]
  },
  {
   "cell_type": "code",
   "execution_count": 34,
   "metadata": {
    "ExecuteTime": {
     "end_time": "2019-03-30T18:42:33.039144Z",
     "start_time": "2019-03-30T18:42:33.035626Z"
    }
   },
   "outputs": [],
   "source": [
    "def get_predictions(theta, typings):\n",
    "    return np.array([predict_solvation_free_energy_jax(theta, distance_matrices[i], charges[i], typings[i]) for i in range(len(charges))])\n",
    "\n"
   ]
  },
  {
   "cell_type": "markdown",
   "metadata": {},
   "source": [
    "# Get a prediction trajectory, and make a movie!"
   ]
  },
  {
   "cell_type": "code",
   "execution_count": 200,
   "metadata": {
    "ExecuteTime": {
     "end_time": "2019-03-30T21:21:09.508949Z",
     "start_time": "2019-03-30T21:21:04.521426Z"
    }
   },
   "outputs": [],
   "source": [
    "gaussian_trajs_concat = np.load('../bayes_implicit_solvent/rjmc_experiments/elaborate_tree_rjmc_march29_run_n_compounds=315_n_iter=100000_gaussian_ll_small_proposals.npz')['within_model_trajs']\n",
    "student_t_trajs_concat = np.load('../bayes_implicit_solvent/rjmc_experiments/elaborate_tree_rjmc_march29_run_n_compounds=315_n_iter=100000_student-t_ll_small_proposals.npz')['within_model_trajs']\n"
   ]
  },
  {
   "cell_type": "code",
   "execution_count": 201,
   "metadata": {
    "ExecuteTime": {
     "end_time": "2019-03-30T21:21:10.850196Z",
     "start_time": "2019-03-30T21:21:09.512290Z"
    }
   },
   "outputs": [
    {
     "data": {
      "text/plain": [
       "37315"
      ]
     },
     "execution_count": 201,
     "metadata": {},
     "output_type": "execute_result"
    }
   ],
   "source": [
    "len(set([tuple(t) for t in gaussian_trajs_concat]))"
   ]
  },
  {
   "cell_type": "code",
   "execution_count": 202,
   "metadata": {
    "ExecuteTime": {
     "end_time": "2019-03-30T21:21:10.859515Z",
     "start_time": "2019-03-30T21:21:10.853072Z"
    }
   },
   "outputs": [
    {
     "data": {
      "text/plain": [
       "26.0"
      ]
     },
     "execution_count": 202,
     "metadata": {},
     "output_type": "execute_result"
    }
   ],
   "source": [
    "len(gaussian_trajs_concat) /4000"
   ]
  },
  {
   "cell_type": "code",
   "execution_count": 203,
   "metadata": {
    "ExecuteTime": {
     "end_time": "2019-03-30T21:21:10.955052Z",
     "start_time": "2019-03-30T21:21:10.863865Z"
    }
   },
   "outputs": [],
   "source": [
    "gaussian_trajs = [gaussian_trajs_concat[26*i:26*(i+1)] for i in range(len(gaussian_trees))]\n",
    "student_t_trajs = [student_t_trajs_concat[26*i:26*(i+1)] for i in range(len(student_t_trees))]"
   ]
  },
  {
   "cell_type": "code",
   "execution_count": 204,
   "metadata": {
    "ExecuteTime": {
     "end_time": "2019-03-30T21:21:12.265375Z",
     "start_time": "2019-03-30T21:21:12.255616Z"
    }
   },
   "outputs": [],
   "source": [
    "gaussian_thetas = [traj[-1] for traj in gaussian_trajs]\n",
    "student_t_thetas = [traj[-1] for traj in student_t_trajs]"
   ]
  },
  {
   "cell_type": "code",
   "execution_count": 205,
   "metadata": {
    "ExecuteTime": {
     "end_time": "2019-03-30T21:21:23.639740Z",
     "start_time": "2019-03-30T21:21:23.632239Z"
    }
   },
   "outputs": [
    {
     "data": {
      "text/plain": [
       "({26}, {26})"
      ]
     },
     "execution_count": 205,
     "metadata": {},
     "output_type": "execute_result"
    }
   ],
   "source": [
    "set([len(t) for t in gaussian_trajs]), set([len(t) for t in student_t_trajs])"
   ]
  },
  {
   "cell_type": "code",
   "execution_count": 137,
   "metadata": {
    "ExecuteTime": {
     "end_time": "2019-03-30T20:37:48.824863Z",
     "start_time": "2019-03-30T20:37:48.642020Z"
    }
   },
   "outputs": [
    {
     "data": {
      "text/plain": [
       "[<matplotlib.lines.Line2D at 0x1a3901eda0>]"
      ]
     },
     "execution_count": 137,
     "metadata": {},
     "output_type": "execute_result"
    },
    {
     "data": {
      "image/png": "[encoded data removed]",
      "text/plain": [
       "<Figure size 432x288 with 1 Axes>"
      ]
     },
     "metadata": {
      "needs_background": "light"
     },
     "output_type": "display_data"
    }
   ],
   "source": [
    "plt.plot([len(t) for t in gaussian_trajs_concat])"
   ]
  },
  {
   "cell_type": "code",
   "execution_count": 138,
   "metadata": {
    "ExecuteTime": {
     "end_time": "2019-03-30T20:37:50.918111Z",
     "start_time": "2019-03-30T20:37:50.873914Z"
    }
   },
   "outputs": [
    {
     "data": {
      "text/plain": [
       "104000"
      ]
     },
     "execution_count": 138,
     "metadata": {},
     "output_type": "execute_result"
    }
   ],
   "source": [
    "N_s_continuous = np.array([int(len(t)/2) for t in gaussian_trajs_concat])\n",
    "len(N_s_continuous)"
   ]
  },
  {
   "cell_type": "code",
   "execution_count": 139,
   "metadata": {
    "ExecuteTime": {
     "end_time": "2019-03-30T20:37:53.870130Z",
     "start_time": "2019-03-30T20:37:53.866389Z"
    }
   },
   "outputs": [
    {
     "data": {
      "text/plain": [
       "104000"
      ]
     },
     "execution_count": 139,
     "metadata": {},
     "output_type": "execute_result"
    }
   ],
   "source": [
    "26 * (len(gaussian_trees))"
   ]
  },
  {
   "cell_type": "code",
   "execution_count": null,
   "metadata": {},
   "outputs": [],
   "source": []
  },
  {
   "cell_type": "code",
   "execution_count": 140,
   "metadata": {
    "ExecuteTime": {
     "end_time": "2019-03-30T20:37:55.538004Z",
     "start_time": "2019-03-30T20:37:55.386108Z"
    }
   },
   "outputs": [
    {
     "data": {
      "text/plain": [
       "[<matplotlib.lines.Line2D at 0x1a36ee2ac8>]"
      ]
     },
     "execution_count": 140,
     "metadata": {},
     "output_type": "execute_result"
    },
    {
     "data": {
      "image/png": "[encoded data removed]",
      "text/plain": [
       "<Figure size 432x288 with 1 Axes>"
      ]
     },
     "metadata": {
      "needs_background": "light"
     },
     "output_type": "display_data"
    }
   ],
   "source": [
    "plt.plot([len(t) for t in gaussian_trajs])"
   ]
  },
  {
   "cell_type": "code",
   "execution_count": 141,
   "metadata": {
    "ExecuteTime": {
     "end_time": "2019-03-30T20:37:55.609383Z",
     "start_time": "2019-03-30T20:37:55.604834Z"
    }
   },
   "outputs": [
    {
     "data": {
      "text/plain": [
       "104000"
      ]
     },
     "execution_count": 141,
     "metadata": {},
     "output_type": "execute_result"
    }
   ],
   "source": [
    "len(N_s_continuous)"
   ]
  },
  {
   "cell_type": "code",
   "execution_count": 142,
   "metadata": {
    "ExecuteTime": {
     "end_time": "2019-03-30T20:37:56.048356Z",
     "start_time": "2019-03-30T20:37:56.043116Z"
    }
   },
   "outputs": [
    {
     "data": {
      "text/plain": [
       "104000"
      ]
     },
     "execution_count": 142,
     "metadata": {},
     "output_type": "execute_result"
    }
   ],
   "source": [
    "len(N_s_continuous)"
   ]
  },
  {
   "cell_type": "code",
   "execution_count": 143,
   "metadata": {
    "ExecuteTime": {
     "end_time": "2019-03-30T20:38:03.622056Z",
     "start_time": "2019-03-30T20:38:03.610390Z"
    }
   },
   "outputs": [
    {
     "name": "stderr",
     "output_type": "stream",
     "text": [
      "100%|██████████| 4000/4000 [00:00<00:00, 742979.32it/s]\n"
     ]
    }
   ],
   "source": [
    "okay_inds = []\n",
    "problem_inds = []\n",
    "for i in tqdm(range(len(gaussian_trees))):\n",
    "    n_continuous = N_s_continuous[i * 26]\n",
    "    n_discrete = len(gaussian_trees[i].ordered_nodes)\n",
    "    if n_continuous == n_discrete:\n",
    "        okay_inds.append(i)\n",
    "    else:\n",
    "        problem_inds.append(i)"
   ]
  },
  {
   "cell_type": "code",
   "execution_count": 144,
   "metadata": {
    "ExecuteTime": {
     "end_time": "2019-03-30T20:38:06.124877Z",
     "start_time": "2019-03-30T20:38:06.121390Z"
    }
   },
   "outputs": [
    {
     "data": {
      "text/plain": [
       "0"
      ]
     },
     "execution_count": 144,
     "metadata": {},
     "output_type": "execute_result"
    }
   ],
   "source": [
    "len(problem_inds)"
   ]
  },
  {
   "cell_type": "code",
   "execution_count": 149,
   "metadata": {
    "ExecuteTime": {
     "end_time": "2019-03-30T20:40:05.861083Z",
     "start_time": "2019-03-30T20:40:05.794724Z"
    }
   },
   "outputs": [
    {
     "data": {
      "text/plain": [
       "[array([11, 11,  1, 11, 23,  3,  4,  4, 23,  3,  4,  4,  1,  1,  1,  1,  1]),\n",
       " array([11, 23, 20, 11,  8, 23, 11, 23, 11,  1,  1,  1,  1,  1,  1,  1,  1,\n",
       "         1,  1,  1]),\n",
       " array([11, 11, 10,  1,  1,  1,  1,  1]),\n",
       " array([11, 20, 11, 11, 17, 23, 16, 18,  3, 11, 19, 11,  1,  1,  1,  1,  1,\n",
       "         1,  1,  1,  1,  1,  1,  1,  1,  1]),\n",
       " array([11, 20, 11, 11, 16, 18, 23, 11,  1,  1,  1,  1,  1,  1,  1,  1,  1,\n",
       "         1,  1,  1]),\n",
       " array([11, 11, 23,  6, 14, 23, 11, 11, 23,  2,  2,  2, 12,  2, 12, 11, 11,\n",
       "        11, 11,  1,  1,  1,  1,  1,  1,  1,  1,  1,  1,  1,  1,  1,  1,  1,\n",
       "         1,  1,  1,  1,  1,  1]),\n",
       " array([ 2,  2,  2,  2,  2,  2, 20,  5,  5,  5, 20,  5,  5,  5,  1,  1,  1,\n",
       "         1]),\n",
       " array([11, 11, 11, 18,  1,  1,  1,  1,  1,  1]),\n",
       " array([11, 11,  1,  1,  1,  1,  1,  1]),\n",
       " array([11, 11,  1, 11, 11, 23,  3,  4,  4, 23,  3,  4,  4,  1,  1,  1,  1,\n",
       "         1,  1,  1]),\n",
       " array([11,  2,  1,  2,  2,  2,  1,  2,  1,  2, 13, 11, 11, 11,  1,  1,  1,\n",
       "         1,  1,  1,  1,  1,  1,  1,  1,  1,  1,  1,  1,  1,  1]),\n",
       " array([11, 11, 11, 11, 23, 11, 18,  1,  1,  1,  1,  1,  1,  1,  1,  1,  1]),\n",
       " array([11, 11,  8,  8,  8,  8,  1,  1]),\n",
       " array([15,  1,  1]),\n",
       " array([11,  9,  9,  1,  1]),\n",
       " array([11, 11, 11, 11, 11, 11, 11, 16, 18, 11,  1,  1,  1,  1,  1,  1,  1,\n",
       "         1,  1,  1,  1,  1,  1,  1,  1,  1,  1,  1]),\n",
       " array([11, 21, 11,  1,  1,  1,  1]),\n",
       " array([11, 11, 11, 11, 18,  1,  1,  1,  1,  1,  1]),\n",
       " array([11,  2,  2,  2, 18,  2,  1,  2,  2, 11, 11, 11,  1,  1,  1,  1,  1,\n",
       "         1,  1,  1,  1,  1,  1,  1,  1,  1,  1]),\n",
       " array([11, 11, 11, 11, 18,  1,  1,  1,  1,  1,  1,  1,  1]),\n",
       " array([ 2,  2,  2,  2,  2,  2, 13,  5,  1,  1,  1,  1,  1]),\n",
       " array([ 2,  2, 12,  2,  3,  1,  1,  1,  1]),\n",
       " array([2, 2, 2, 2, 2, 2, 8, 8, 8, 8, 1, 1]),\n",
       " array([11, 11, 11, 11, 16, 18, 23, 11, 11,  1,  1,  1,  1,  1,  1,  1,  1,\n",
       "         1,  1,  1,  1,  1,  1]),\n",
       " array([11, 16, 18, 11,  1,  1,  1,  1,  1,  1]),\n",
       " array([ 2,  2,  2,  2,  2,  2, 15,  1,  1,  1,  1,  1,  1]),\n",
       " array([11, 11, 11, 11, 11, 11, 11, 11, 11, 13,  1,  1,  1,  1,  1,  1,  1,\n",
       "         1,  1,  1,  1,  1,  1,  1,  1,  1,  1,  1,  1,  1]),\n",
       " array([11, 11, 19, 11, 11,  1,  1,  1,  1,  1,  1,  1,  1,  1,  1]),\n",
       " array([2, 2, 2, 2, 2, 2, 1, 1, 1, 1, 1, 1]),\n",
       " array([11, 16, 18,  2,  2,  2, 12,  2,  2,  1,  1,  1,  1,  1,  1,  1]),\n",
       " array([11, 11, 11, 13, 13, 13,  1,  1,  1,  1,  1,  1,  1,  1]),\n",
       " array([11,  2,  2,  2, 18,  3,  2, 18,  3, 20, 11, 11, 11,  8,  1,  1,  1,\n",
       "         1,  1,  1,  1,  1,  1,  1,  1,  1,  1]),\n",
       " array([20, 20,  8,  8,  8,  8,  8,  8]),\n",
       " array([11,  3, 11, 20,  5,  5,  5,  2,  2,  2,  2,  2,  2,  1,  1,  1,  1,\n",
       "         1,  1,  1,  1,  1,  1]),\n",
       " array([11, 16,  8,  8,  1,  1]),\n",
       " array([11,  2,  1,  2,  2,  2,  1,  2,  2, 18, 16, 11, 11,  1,  1,  1,  1,\n",
       "         1,  1,  1,  1,  1,  1,  1,  1,  1,  1]),\n",
       " array([11, 11, 11, 11, 11, 23, 16, 18, 11,  1,  1,  1,  1,  1,  1,  1,  1,\n",
       "         1,  1,  1,  1,  1,  1]),\n",
       " array([11, 11, 11, 11, 11, 11, 11,  1,  1,  1,  1,  1,  1,  1,  1,  1,  1,\n",
       "         1,  1,  1,  1,  1,  1]),\n",
       " array([ 2,  2,  2,  2,  2,  2,  8, 21,  3,  8,  1,  1,  1]),\n",
       " array([11, 11, 21,  3,  1,  1,  1,  1,  1]),\n",
       " array([2, 2, 2, 2, 5, 5, 5, 5, 5, 5, 5, 5]),\n",
       " array([2, 2, 2, 2, 2, 2, 2, 2, 2, 2, 2, 2, 2, 2, 1, 1, 1, 1, 1, 1, 1, 1,\n",
       "        1, 1, 1, 1]),\n",
       " array([11, 11, 11, 11, 16, 18, 13,  1,  1,  1,  1,  1,  1,  1,  1,  1,  1]),\n",
       " array([ 2,  2,  2,  2,  2,  2, 23, 11, 18,  1,  1,  1,  1,  1,  1]),\n",
       " array([2, 2, 2, 2, 2, 2, 3, 1, 1, 1, 1, 1, 1, 1, 1, 1, 1, 1, 1, 1]),\n",
       " array([ 2,  2,  2,  2,  2,  2, 22,  2,  2,  2,  2,  2,  2, 22,  8,  8,  1,\n",
       "         1,  1,  1,  1,  1]),\n",
       " array([11, 11, 11, 11, 11, 11, 18,  1,  1,  1,  1,  1,  1,  1,  1,  1,  1,\n",
       "         1,  1]),\n",
       " array([11,  5,  5,  8,  1]),\n",
       " array([11, 11,  2,  2,  2,  2,  2, 12,  1,  1,  1,  1,  1,  1,  1,  1,  1]),\n",
       " array([11, 16, 11, 11,  1,  1,  1,  1,  1,  1,  1,  1]),\n",
       " array([11, 11, 11, 11, 16, 18, 11,  1,  1,  1,  1,  1,  1,  1,  1,  1,  1,\n",
       "         1,  1]),\n",
       " array([2, 2, 2, 2, 2, 2, 8, 8, 8, 1, 1, 1]),\n",
       " array([11, 11, 11, 11, 11, 11, 18,  1,  1,  1,  1,  1,  1,  1,  1,  1,  1]),\n",
       " array([11,  2,  1,  2,  2,  2,  1,  2, 18,  2, 11, 11, 11,  1,  1,  1,  1,\n",
       "         1,  1,  1,  1,  1,  1,  1,  1,  1,  1,  1,  1]),\n",
       " array([11,  3, 11, 16, 18,  2,  2,  2,  2,  2,  2, 23, 11,  1,  1,  1,  1,\n",
       "         1,  1,  1,  1,  1,  1,  1,  1,  1]),\n",
       " array([11, 11, 11, 23, 16, 18, 11,  1,  1,  1,  1,  1,  1,  1,  1,  1,  1]),\n",
       " array([11, 11, 11,  3, 11, 11, 11,  2,  2,  2,  2,  2,  2,  3,  4,  4,  7,\n",
       "        18, 18, 11,  3,  4,  4,  1,  1,  1,  1,  1,  1,  1,  1,  1,  1,  1,\n",
       "         1,  1,  1,  1,  1,  1,  1,  1]),\n",
       " array([ 2,  2,  2,  2,  2,  2, 13,  8,  1,  1,  1,  1,  1]),\n",
       " array([11, 11, 11, 15,  1,  1,  1,  1,  1,  1,  1,  1]),\n",
       " array([11, 23,  2,  2,  2,  2,  2,  2,  3,  1,  1,  1,  1,  1,  1,  1,  1,\n",
       "         1]),\n",
       " array([11, 11, 11, 13,  1,  1,  1,  1,  1,  1,  1,  1]),\n",
       " array([11, 11, 11, 23, 11, 11, 11,  1,  1,  1,  1,  1,  1,  1,  1,  1,  1,\n",
       "         1,  1,  1,  1]),\n",
       " array([11, 11, 11, 11, 11, 16, 18, 23, 11,  1,  1,  1,  1,  1,  1,  1,  1,\n",
       "         1,  1,  1,  1,  1,  1]),\n",
       " array([11, 11, 23,  6, 18, 23, 11, 11, 23, 11, 11,  1,  1,  1,  1,  1,  1,\n",
       "         1,  1,  1,  1,  1,  1,  1,  1,  1]),\n",
       " array([11, 11, 11, 23, 11, 18,  1,  1,  1,  1,  1,  1,  1,  1]),\n",
       " array([11, 11,  8, 23, 11, 11,  8,  1,  1,  1,  1,  1,  1,  1,  1]),\n",
       " array([ 2,  2,  2,  2,  2,  2, 22,  2,  2,  2,  2,  2,  2,  8,  8,  8,  8,\n",
       "        22,  1,  1,  1,  1]),\n",
       " array([11, 11, 11, 11, 11, 11, 11, 11, 16, 18, 11,  1,  1,  1,  1,  1,  1,\n",
       "         1,  1,  1,  1,  1,  1,  1,  1,  1,  1,  1,  1,  1,  1]),\n",
       " array([2, 2, 2, 2, 2, 2, 2, 2, 2, 2, 2, 2, 8, 1, 1, 1, 1, 1, 1, 1, 1, 1]),\n",
       " array([2, 2, 2, 2, 2, 2, 8, 8, 8, 8, 8, 3, 4, 4]),\n",
       " array([11,  2,  2,  2,  2,  2,  2,  2,  2,  2,  2, 11,  1,  1,  1,  1,  1,\n",
       "         1,  1,  1,  1,  1,  1,  1]),\n",
       " array([11, 11, 11, 11, 11, 11, 11, 11,  1,  1,  1,  1,  1,  1,  1,  1,  1,\n",
       "         1,  1,  1,  1,  1,  1,  1,  1,  1]),\n",
       " array([11, 11, 11, 11,  3, 11, 11, 16, 18, 19, 11, 11, 11,  1,  1,  1,  1,\n",
       "         1,  1,  1,  1,  1,  1,  1,  1,  1,  1,  1,  1,  1,  1,  1,  1,  1]),\n",
       " array([11, 11, 11, 11, 21,  3,  1,  1,  1,  1,  1,  1,  1,  1,  1]),\n",
       " array([2, 2, 2, 2, 2, 2, 3, 3, 4, 4, 1, 1, 1, 1, 1, 1]),\n",
       " array([2, 2, 2, 2, 2, 1, 1, 1, 1, 1, 1, 1, 1, 1, 1]),\n",
       " array([11, 11, 23, 11, 18,  1,  1,  1,  1,  1,  1]),\n",
       " array([11, 16, 18, 23, 11,  1,  1,  1,  1,  1,  1]),\n",
       " array([ 2,  2,  2,  2,  2,  2,  8, 13,  1,  1,  1,  1,  1]),\n",
       " array([11, 11, 11, 11, 11, 11, 11,  1,  1,  1,  1,  1,  1,  1,  1,  1,  1,\n",
       "         1,  1,  1,  1]),\n",
       " array([2, 2, 2, 2, 2, 2, 8, 2, 2, 2, 2, 2, 2, 8, 8, 8, 8, 1, 1, 1, 1, 1]),\n",
       " array([11,  2,  2,  2,  2,  2,  2, 11, 11, 11,  1,  1,  1,  1,  1,  1,  1,\n",
       "         1,  1,  1,  1,  1,  1,  1]),\n",
       " array([ 2,  2,  2,  2,  2,  2, 23,  2,  2,  2,  2,  2,  2,  1,  1,  1,  1,\n",
       "         1,  1,  1,  1,  1,  1]),\n",
       " array([20,  5,  5,  5,  5]),\n",
       " array([ 2,  2,  2,  2,  2,  2, 11,  9,  1,  1,  1,  1,  1,  1,  1]),\n",
       " array([11,  7, 18, 18,  8,  1,  1,  1]),\n",
       " array([11, 11, 11, 11, 11, 13,  1,  1,  1,  1,  1,  1,  1,  1,  1,  1,  1,\n",
       "         1]),\n",
       " array([11, 20, 11, 11,  9,  1,  1,  1,  1,  1,  1,  1,  1,  1]),\n",
       " array([11, 11, 11, 11, 11, 11,  1,  1,  1,  1,  1,  1,  1,  1,  1,  1,  1,\n",
       "         1,  1,  1]),\n",
       " array([11,  2,  2,  2,  2,  2,  2,  2,  2,  2,  2, 11,  1,  1,  1,  1,  1,\n",
       "         1,  1,  1,  1,  1,  1,  1]),\n",
       " array([11,  3,  2,  2,  2,  2,  2,  2,  1,  1,  1,  1,  1,  1,  1,  1,  1]),\n",
       " array([11, 11, 23, 16, 18,  2,  2,  2,  2,  2,  2, 13,  1,  1,  1,  1,  1,\n",
       "         1,  1,  1,  1,  1]),\n",
       " array([11, 11, 11,  1, 11,  2,  2,  2,  2,  2,  2, 13,  3,  4,  4,  3,  4,\n",
       "         4,  1,  1,  1,  1,  1,  1,  1,  1,  1,  1,  1]),\n",
       " array([11, 11, 11, 11, 11, 11, 11, 13,  1,  1,  1,  1,  1,  1,  1,  1,  1,\n",
       "         1,  1,  1,  1,  1,  1,  1]),\n",
       " array([ 2,  2,  2,  2,  2,  2,  8,  8, 22,  2,  2,  2,  2,  2,  2, 22,  8,\n",
       "         8,  1,  1,  1,  1]),\n",
       " array([11, 11, 11, 11, 21, 11,  1,  1,  1,  1,  1,  1,  1,  1,  1,  1]),\n",
       " array([ 2,  2,  2,  2,  2,  2,  8, 22,  2,  2,  2,  2,  2,  2, 22,  8,  1,\n",
       "         1,  1,  1,  1,  1]),\n",
       " array([11, 16, 18,  3, 11,  1,  1,  1,  1,  1,  1,  1]),\n",
       " array([11, 11, 11, 21,  3,  1,  1,  1,  1,  1,  1,  1]),\n",
       " array([11, 11, 11,  9,  1,  1,  1,  1,  1,  1,  1]),\n",
       " array([11, 11,  2,  2,  2,  2, 12,  2,  1,  1,  1,  1,  1,  1,  1,  1,  1]),\n",
       " array([11, 11, 11, 11, 11,  8,  1,  1,  1,  1,  1,  1,  1,  1,  1,  1,  1]),\n",
       " array([11, 11, 11, 11,  3, 11, 11,  2,  2,  2,  2,  2,  2,  3,  4,  4, 20,\n",
       "         5,  5,  5,  3,  4,  4,  1,  1,  1,  1,  1,  1,  1,  1,  1,  1,  1,\n",
       "         1,  1,  1,  1,  1]),\n",
       " array([11, 11,  8,  8,  1,  1]),\n",
       " array([ 2,  2,  2,  2,  2,  2, 11, 18,  1,  1,  1,  1,  1,  1]),\n",
       " array([11, 11, 11, 11,  1,  1,  1,  1,  1,  1]),\n",
       " array([11, 19, 11,  1,  1,  1,  1,  1,  1]),\n",
       " array([11, 16, 18, 23,  2,  2,  2,  2,  2,  2, 16, 18, 13,  1,  1,  1,  1,\n",
       "         1,  1,  1,  1]),\n",
       " array([11, 11, 11, 11,  2,  2,  2,  2,  2,  2,  1,  1,  1,  1,  1,  1,  1,\n",
       "         1,  1,  1,  1,  1,  1,  1]),\n",
       " array([2, 2, 2, 2, 2, 2, 1, 1, 1, 1, 1, 1, 1, 1, 1, 1]),\n",
       " array([11, 11, 19, 11,  1,  1,  1,  1,  1,  1,  1,  1]),\n",
       " array([11, 20, 11, 11,  2,  2,  2,  2,  2,  2, 13,  1,  1,  1,  1,  1,  1,\n",
       "         1,  1,  1,  1,  1,  1,  1,  1]),\n",
       " array([11, 15,  1,  1,  1,  1]),\n",
       " array([11, 11, 23, 11, 11, 23, 16, 18, 11,  1,  1,  1,  1,  1,  1,  1,  1,\n",
       "         1,  1,  1,  1]),\n",
       " array([11, 11,  3,  2, 12,  2, 12,  2, 12,  8,  3, 11, 11,  1,  1,  1,  1,\n",
       "         1,  1,  1,  1,  1,  1,  1,  1]),\n",
       " array([11, 11, 11, 11, 11, 11, 11, 11,  1,  1,  1,  1,  1,  1,  1,  1,  1,\n",
       "         1,  1,  1,  1,  1,  1,  1]),\n",
       " array([11,  3,  4,  4,  1,  1,  1]),\n",
       " array([11, 11,  3, 11, 11,  2,  2,  2,  2,  2,  2,  3,  4,  4,  3, 20,  5,\n",
       "         5,  5,  3,  4,  4,  1,  1,  1,  1,  1,  1,  1,  1,  1,  1,  1,  1,\n",
       "         1]),\n",
       " array([3, 1, 1, 1]),\n",
       " array([11,  2,  2,  2,  2,  2,  2, 11, 13,  1,  1,  1,  1,  1,  1,  1,  1,\n",
       "         1,  1]),\n",
       " array([ 2,  2,  2,  2,  2,  2, 13, 21,  3,  1,  1,  1,  1,  1]),\n",
       " array([11, 11, 11, 11,  2,  2,  2,  2,  2,  2,  1,  1,  1,  1,  1,  1,  1,\n",
       "         1,  1,  1,  1,  1,  1,  1]),\n",
       " array([11,  2,  2,  2,  2,  2,  2,  3,  1,  1,  1,  1,  1,  1,  1,  1,  1]),\n",
       " array([11, 11, 23, 16, 18, 11,  1,  1,  1,  1,  1,  1,  1,  1]),\n",
       " array([11, 16, 11,  2,  2,  2,  2,  2,  2,  1,  1,  1,  1,  1,  1,  1,  1,\n",
       "         1,  1]),\n",
       " array([11, 11, 11,  1, 11,  3,  2, 18,  2,  2,  3,  2, 18, 11,  9,  1,  1,\n",
       "         1,  1,  1,  1,  1,  1,  1,  1,  1,  1]),\n",
       " array([11, 11, 23,  3,  4,  4, 23,  3,  4,  4,  1,  1,  1,  1]),\n",
       " array([11,  2,  2,  2,  2,  2,  2,  3, 11,  1,  1,  1,  1,  1,  1,  1,  1,\n",
       "         1,  1,  1]),\n",
       " array([11, 16, 18, 23, 11, 11, 23, 16, 18, 11,  1,  1,  1,  1,  1,  1,  1,\n",
       "         1,  1,  1]),\n",
       " array([11,  2,  2,  2,  2,  2,  2, 11,  1,  1,  1,  1,  1,  1,  1,  1,  1,\n",
       "         1,  1,  1,  1,  1,  1,  1]),\n",
       " array([11, 11, 11, 11, 11, 11, 11, 11, 11, 16, 18, 11,  1,  1,  1,  1,  1,\n",
       "         1,  1,  1,  1,  1,  1,  1,  1,  1,  1,  1,  1,  1,  1,  1,  1,  1]),\n",
       " array([2, 2, 2, 2, 2, 2, 2, 2, 2, 2, 2, 2, 8, 8, 1, 1, 1, 1, 1, 1, 1, 1]),\n",
       " array([11, 11,  9,  9,  1,  1,  1,  1]),\n",
       " array([2, 2, 2, 2, 2, 2, 2, 2, 2, 2, 2, 2, 8, 8, 8, 1, 1, 1, 1, 1, 1, 1]),\n",
       " array([11, 11, 16, 18,  3,  2,  2,  2,  2,  2,  2,  8,  8,  1,  1,  1,  1,\n",
       "         1,  1,  1,  1,  1]),\n",
       " array([ 2,  2,  2,  2,  2,  1,  2,  1,  2, 18,  3,  2, 18, 19, 20,  8,  8,\n",
       "         8,  1,  1,  1,  1,  1,  1]),\n",
       " array([11, 11,  1,  2,  2,  2,  2,  2,  2, 16, 18,  2,  2,  2,  2,  2,  2,\n",
       "        16, 18, 13,  1,  1,  1,  1,  1,  1,  1,  1,  1,  1,  1,  1,  1]),\n",
       " array([11, 11,  2,  2,  2,  2,  2,  2,  3, 11, 23, 11, 16, 18, 11,  8, 11,\n",
       "        11,  1,  1,  1,  1,  1,  1,  1,  1,  1,  1,  1,  1,  1,  1,  1,  1,\n",
       "         1,  1,  1,  1]),\n",
       " array([11,  2,  2,  2,  2,  2,  2, 13,  1,  1,  1,  1,  1,  1,  1,  1]),\n",
       " array([11, 11, 18,  1,  1,  1,  1]),\n",
       " array([11, 11, 11, 11, 23,  3,  4,  4,  1,  1,  1,  1,  1,  1,  1,  1,  1]),\n",
       " array([11, 11, 11, 11,  9,  1,  1,  1,  1,  1,  1,  1,  1,  1]),\n",
       " array([2, 2, 2, 2, 2, 2, 8, 8, 8, 8, 1, 1]),\n",
       " array([11, 11, 11, 11,  8,  1,  1,  1,  1,  1,  1,  1,  1,  1]),\n",
       " array([2, 2, 2, 2, 2, 2, 2, 2, 2, 2, 2, 2, 1, 1, 1, 1, 1, 1, 1, 1, 1, 1]),\n",
       " array([11,  2,  2,  2, 12,  2,  2, 11,  1,  1,  1,  1,  1,  1,  1,  1,  1]),\n",
       " array([11, 23, 20,  2,  2,  2,  2,  2,  2, 23, 11, 23, 11,  1,  1,  1,  1,\n",
       "         1,  1,  1,  1,  1,  1,  1,  1,  1,  1]),\n",
       " array([ 2,  2,  2,  2,  2,  2, 23, 11,  1, 11,  5,  5,  5,  1,  1,  1,  1,\n",
       "         1,  1]),\n",
       " array([ 2,  2,  2,  2,  2,  2, 22,  2,  2,  2,  2,  2,  2, 22,  8,  1,  1,\n",
       "         1,  1,  1,  1,  1]),\n",
       " array([11, 11, 11, 11, 11, 11,  2,  2,  2,  2,  2,  2,  1,  1,  1,  1,  1,\n",
       "         1,  1,  1,  1,  1,  1,  1,  1,  1,  1,  1,  1,  1]),\n",
       " array([2, 2, 2, 2, 2, 2, 8, 8, 8, 1, 1, 1]),\n",
       " array([11, 11,  3,  1,  1,  1,  1,  1,  1,  1]),\n",
       " array([11, 23, 11, 11,  3,  1,  1,  1,  1,  1,  1,  1,  1,  1]),\n",
       " array([11,  2,  2,  2,  2,  2,  2, 16, 18,  3, 11, 11,  1,  1,  1,  1,  1,\n",
       "         1,  1,  1,  1,  1,  1,  1,  1]),\n",
       " array([11, 11, 11,  3,  4,  4,  1,  1,  1,  1,  1,  1,  1]),\n",
       " array([11,  2,  2,  2,  2, 12,  2, 11,  1,  1,  1,  1,  1,  1,  1,  1,  1]),\n",
       " array([11, 11, 11, 20, 11, 11, 11,  1,  1,  1,  1,  1,  1,  1,  1,  1,  1,\n",
       "         1,  1,  1,  1,  1,  1]),\n",
       " array([11, 23, 11,  1,  1,  1,  1,  1,  1]),\n",
       " array([11, 11, 11, 11, 11, 11, 16, 18, 11,  1,  1,  1,  1,  1,  1,  1,  1,\n",
       "         1,  1,  1,  1,  1,  1,  1,  1]),\n",
       " array([11,  2,  2,  2,  2,  2,  2, 11, 18,  1,  1,  1,  1,  1,  1,  1,  1]),\n",
       " array([11, 11, 11,  8, 11,  8,  1,  1,  1,  1,  1,  1,  1,  1]),\n",
       " array([11, 11, 11,  2,  2,  2,  2,  2,  2,  1,  1,  1,  1,  1,  1,  1,  1,\n",
       "         1,  1,  1,  1]),\n",
       " array([11, 11, 23, 11, 11,  1,  1,  1,  1,  1,  1,  1,  1,  1,  1]),\n",
       " array([ 2,  2,  2, 19,  2,  1,  1,  1,  1]),\n",
       " array([11, 11, 11, 11, 11,  9,  1,  1,  1,  1,  1,  1,  1,  1,  1,  1,  1]),\n",
       " array([11, 11, 11,  3, 11, 11, 11, 16, 18, 19, 11, 11, 11,  1,  1,  1,  1,\n",
       "         1,  1,  1,  1,  1,  1,  1,  1,  1,  1,  1,  1,  1,  1,  1,  1,  1]),\n",
       " array([11, 11, 11,  1, 11,  2,  2,  2,  2,  2,  2,  1,  1,  1,  1,  1,  1,\n",
       "         1,  1,  1,  1,  1,  1,  1]),\n",
       " array([11,  3,  2,  2,  2,  2,  2,  1,  1,  1,  1,  1,  1,  1,  1,  1,  1,\n",
       "         1,  1,  1]),\n",
       " array([11, 11, 11, 11, 23, 16, 18,  2,  2,  2,  2,  2,  2, 13,  1,  1,  1,\n",
       "         1,  1,  1,  1,  1,  1,  1,  1,  1,  1,  1]),\n",
       " array([11, 11,  1,  2,  2,  2,  2,  2,  2, 11, 11, 11, 11, 16, 18, 13,  1,\n",
       "         1,  1,  1,  1,  1,  1,  1,  1,  1,  1,  1,  1,  1,  1,  1,  1]),\n",
       " array([11, 11,  1, 11, 11, 11, 11, 13,  1,  1,  1,  1,  1,  1,  1,  1,  1,\n",
       "         1,  1,  1,  1]),\n",
       " array([11, 11, 16, 18, 23, 11,  1,  1,  1,  1,  1,  1,  1,  1]),\n",
       " array([11, 23,  2,  2,  2,  2,  2,  2, 13,  1,  1,  1,  1,  1,  1,  1,  1]),\n",
       " array([2, 2, 2, 3, 2, 2, 1, 1, 1, 1, 1, 1, 1, 1, 1, 1, 1]),\n",
       " array([11, 23,  2,  2,  2,  2,  2,  2, 16, 18, 23, 11,  1,  1,  1,  1,  1,\n",
       "         1,  1,  1,  1,  1]),\n",
       " array([11, 11,  5,  5,  1,  1,  1,  1]),\n",
       " array([11, 23,  6, 18, 11,  1, 20,  8,  8,  8, 13, 23, 11,  1,  1,  1,  1,\n",
       "         1,  1,  1]),\n",
       " array([11,  3, 11, 16, 18,  3,  2,  2,  2,  2,  2,  2,  1,  1,  1,  1,  1,\n",
       "         1,  1,  1,  1,  1,  1,  1]),\n",
       " array([11,  2,  1,  2,  2,  2,  1, 22, 11,  1,  1,  1,  1,  1,  1,  1,  1,\n",
       "         1,  1]),\n",
       " array([11,  2,  2,  2,  2,  2,  2, 13, 11,  1,  1,  1,  1,  1,  1,  1,  1,\n",
       "         1,  1]),\n",
       " array([11, 11, 11, 11, 11, 11, 23, 16, 18, 11,  1,  1,  1,  1,  1,  1,  1,\n",
       "         1,  1,  1,  1,  1,  1,  1,  1,  1]),\n",
       " array([2, 2, 2, 2, 2, 2, 8, 8, 1, 1, 1, 1]),\n",
       " array([2, 2, 2, 2, 2, 2, 8, 8, 8, 1, 1, 1]),\n",
       " array([11, 11, 16, 11, 11,  1,  1,  1,  1,  1,  1,  1,  1,  1,  1]),\n",
       " array([11,  2,  2,  2,  2,  2,  2, 13,  1,  1,  1,  1,  1,  1,  1,  1]),\n",
       " array([2, 2, 2, 2, 2, 2, 2, 2, 2, 2, 2, 2, 8, 8, 8, 8, 8, 8, 1, 1, 1, 1]),\n",
       " array([2, 2, 2, 2, 2, 2, 3, 1, 1, 1, 1, 1, 1, 1]),\n",
       " array([11,  2,  2,  2,  2,  2,  2, 11, 13,  1,  1,  1,  1,  1,  1,  1,  1,\n",
       "         1,  1]),\n",
       " array([11, 11,  2,  2,  2,  2,  2,  2, 13,  1,  1,  1,  1,  1,  1,  1,  1,\n",
       "         1,  1]),\n",
       " array([11, 11,  2,  2,  2,  2,  2,  2, 11,  1,  1,  1,  1,  1,  1,  1,  1,\n",
       "         1,  1,  1,  1]),\n",
       " array([ 2,  2,  2,  2, 18,  2,  1,  1,  1,  1,  1,  1,  1,  1]),\n",
       " array([11,  2,  2,  2,  2,  2,  2,  1,  1,  1,  1,  1,  1,  1,  1,  1,  1,\n",
       "         1,  1]),\n",
       " array([ 2,  2,  2,  2,  2,  2,  2,  2,  2,  2,  2,  2,  5,  5, 16, 18, 13,\n",
       "        13,  1,  1,  1,  1,  1,  1,  1,  1]),\n",
       " array([11, 11, 11,  1, 11, 13,  1,  1,  1,  1,  1,  1,  1,  1,  1]),\n",
       " array([11, 11,  1, 20,  5,  5,  5, 13,  1,  1,  1,  1]),\n",
       " array([11, 23, 11, 11, 23, 11,  1,  1,  1,  1,  1,  1,  1,  1,  1,  1]),\n",
       " array([11, 23, 16, 18, 11, 21,  3,  1,  1,  1,  1,  1]),\n",
       " array([11,  2,  2,  2,  2,  2,  2,  1,  1,  1,  1,  1,  1,  1,  1]),\n",
       " array([11, 11,  9,  1,  1,  1,  1,  1]),\n",
       " array([ 2,  2,  2,  2,  2,  2, 13,  5,  1,  1,  1,  1,  1]),\n",
       " array([11, 11, 11, 11, 11, 16, 18, 23, 11, 11,  1,  1,  1,  1,  1,  1,  1,\n",
       "         1,  1,  1,  1,  1,  1,  1,  1,  1]),\n",
       " array([11,  2,  2,  2,  2, 19,  1,  1,  1,  1,  1,  1]),\n",
       " array([11, 11, 11, 23, 11, 11, 11,  1,  1,  1,  1,  1,  1,  1,  1,  1,  1,\n",
       "         1,  1,  1,  1]),\n",
       " array([11, 19,  2,  2,  2,  2,  2,  2,  1,  1,  1,  1,  1,  1,  1,  1]),\n",
       " array([11,  2,  2,  2,  2,  2,  2, 11, 13,  1,  1,  1,  1,  1,  1,  1,  1,\n",
       "         1,  1]),\n",
       " array([11, 16, 18, 20, 11, 11, 11,  1,  1,  1,  1,  1,  1,  1,  1,  1,  1,\n",
       "         1,  1]),\n",
       " array([11, 16, 11,  2,  1,  2,  2,  2,  2,  2, 11, 18,  1,  1,  1,  1,  1,\n",
       "         1,  1,  1,  1,  1,  1,  1,  1]),\n",
       " array([11, 11, 11,  8,  1,  1,  1,  1,  1,  1,  1]),\n",
       " array([11, 11, 11, 11, 11,  3,  1,  1,  1,  1,  1,  1,  1,  1,  1,  1,  1,\n",
       "         1,  1]),\n",
       " array([11, 11, 11, 11, 11, 11, 11, 18,  1,  1,  1,  1,  1,  1,  1,  1,  1,\n",
       "         1,  1,  1,  1,  1]),\n",
       " array([11, 11, 23,  3,  4,  4, 11, 23,  3,  4,  4,  1,  1,  1,  1,  1,  1]),\n",
       " array([11, 16, 18, 13,  1,  1,  1,  1]),\n",
       " array([11,  2,  2,  2,  2,  2,  2, 11,  1,  1,  1,  1,  1,  1,  1,  1,  1,\n",
       "         1]),\n",
       " array([11, 11, 11,  3,  1,  1,  1,  1,  1,  1,  1,  1,  1]),\n",
       " array([ 2,  2,  2, 12,  2,  2,  8,  1,  1,  1,  1]),\n",
       " array([11, 11, 21, 11,  1,  1,  1,  1,  1,  1]),\n",
       " array([11, 11, 11, 23, 11,  1,  1,  1,  1,  1,  1,  1,  1,  1,  1]),\n",
       " array([11,  1, 20,  5,  5,  5, 23, 11,  5,  5,  8,  1]),\n",
       " array([11, 16, 18, 11, 23,  3,  4,  4,  1,  1,  1,  1,  1]),\n",
       " array([11,  2,  2,  2,  2,  2,  2, 13,  1,  1,  1,  1,  1,  1,  1,  1]),\n",
       " array([11, 23, 16, 18,  2,  2,  2,  1,  1,  1,  1,  1,  1,  1,  1]),\n",
       " array([16, 16,  5,  5, 20,  5,  5,  5,  5]),\n",
       " array([2, 2, 2, 2, 2, 2, 8, 1, 1, 1, 1, 1]),\n",
       " array([11,  2,  2,  2,  2,  1,  2,  2,  1, 13, 16, 11, 11,  1,  1,  1,  1,\n",
       "         1,  1,  1,  1,  1,  1,  1,  1,  1,  1]),\n",
       " array([11, 11, 11,  2,  2,  2,  2,  2,  2,  1,  1,  1,  1,  1,  1,  1,  1,\n",
       "         1,  1,  1,  1]),\n",
       " array([11,  3,  1,  1,  1,  1,  1]),\n",
       " array([11, 11, 11, 11, 11, 11, 11,  1,  1,  1,  1,  1,  1,  1,  1,  1,  1,\n",
       "         1,  1,  1,  1,  1,  1]),\n",
       " array([11,  3,  2,  2,  3,  2,  2,  1,  1,  1,  1,  1,  1,  1,  1,  1,  1,\n",
       "         1,  1]),\n",
       " array([11, 23,  2,  2,  2,  2,  2,  2,  8, 11, 18,  8, 23, 11, 13,  1,  1,\n",
       "         1,  1,  1,  1,  1,  1]),\n",
       " array([11,  2,  1,  2,  2,  2, 22,  1,  1,  1,  1,  1,  1,  1,  1,  1]),\n",
       " array([11, 11, 23,  6, 14, 23, 11, 11, 19, 11, 19,  2,  2,  2,  2,  2,  2,\n",
       "         8,  1,  1,  1,  1,  1,  1,  1,  1,  1,  1,  1,  1,  1,  1,  1,  1]),\n",
       " array([11, 11, 11, 11, 11, 11,  8,  1,  1,  1,  1,  1,  1,  1,  1,  1,  1,\n",
       "         1,  1,  1]),\n",
       " array([2, 2, 2, 2, 2, 2, 8, 2, 2, 2, 2, 2, 2, 8, 8, 8, 8, 1, 1, 1, 1, 1]),\n",
       " array([2, 2, 2, 2, 2, 2, 3, 8, 1, 1, 1, 1, 1, 1]),\n",
       " array([2, 2, 2, 2, 2, 2, 5, 1, 1, 1, 1, 1]),\n",
       " array([11, 11, 11, 11, 11, 11,  1,  1,  1,  1,  1,  1,  1,  1,  1,  1,  1,\n",
       "         1]),\n",
       " array([11, 11,  8,  1,  1,  1]),\n",
       " array([2, 2, 2, 2, 2, 2, 2, 2, 2, 2, 2, 2, 2, 2, 1, 1, 1, 1, 1, 1, 1, 1,\n",
       "        1, 1]),\n",
       " array([2, 2, 1, 2, 1, 2, 1, 2, 1, 8, 2, 2, 2, 2, 2, 8, 8, 8, 8, 8, 8, 8,\n",
       "        1, 1]),\n",
       " array([2, 2, 2, 2, 2, 2, 8, 8, 8, 2, 2, 2, 2, 2, 2, 8, 8, 8, 8, 1, 1, 1]),\n",
       " array([2, 2, 2, 2, 2, 2, 8, 8, 1, 1, 1, 1]),\n",
       " array([11, 11, 23, 11, 11, 13,  1,  1,  1,  1,  1,  1,  1,  1,  1,  1]),\n",
       " array([11, 11, 11, 11, 23, 11, 11, 13,  1,  1,  1,  1,  1,  1,  1,  1,  1,\n",
       "         1,  1,  1,  1,  1]),\n",
       " array([ 2,  2,  2,  2,  2,  2, 21,  3, 13,  1,  1,  1,  1,  1]),\n",
       " array([11,  2,  2,  2,  2,  2,  2,  8,  1,  1,  1,  1,  1,  1,  1]),\n",
       " array([11, 11, 11,  3, 11, 11, 11,  1,  1,  1,  1,  1,  1,  1,  1,  1,  1,\n",
       "         1,  1,  1,  1,  1]),\n",
       " array([ 2,  2,  2,  2,  2,  2, 13, 10,  1,  1,  1,  1,  1]),\n",
       " array([11, 23,  2,  2,  2,  2,  2,  2, 16, 18, 13,  8,  8,  1,  1,  1,  1,\n",
       "         1,  1]),\n",
       " array([11,  3,  2, 12,  2,  2,  2, 18,  3,  2, 18,  3, 11, 11,  1,  1,  1,\n",
       "         1,  1,  1,  1,  1,  1,  1]),\n",
       " array([11,  3,  2,  2,  3,  2,  2, 11,  1,  1,  1,  1,  1,  1,  1,  1,  1,\n",
       "         1,  1,  1,  1,  1]),\n",
       " array([11,  3, 11, 11,  1,  1,  1,  1,  1,  1,  1,  1,  1]),\n",
       " array([11, 20, 23, 11, 23, 11, 23, 11,  1,  1,  1,  1,  1,  1,  1,  1,  1,\n",
       "         1,  1,  1]),\n",
       " array([11, 11, 11,  1,  1,  1,  1,  1,  1,  1,  1]),\n",
       " array([11, 11, 11, 11, 11, 21, 11,  1,  1,  1,  1,  1,  1,  1,  1,  1,  1,\n",
       "         1,  1]),\n",
       " array([11, 11, 11, 11, 11, 11,  1,  1,  1,  1,  1,  1,  1,  1,  1,  1,  1,\n",
       "         1,  1,  1]),\n",
       " array([11, 10, 10,  1,  1]),\n",
       " array([11, 11, 11, 11, 11,  1,  1,  1,  1,  1,  1,  1,  1,  1,  1,  1,  1]),\n",
       " array([11, 11, 11, 16, 18, 11,  1,  1,  1,  1,  1,  1,  1,  1,  1,  1]),\n",
       " array([11, 11, 11, 11, 11, 11, 11, 11, 11, 11,  1,  1,  1,  1,  1,  1,  1,\n",
       "         1,  1,  1,  1,  1,  1,  1,  1,  1,  1,  1,  1,  1,  1,  1]),\n",
       " array([11, 11, 11, 11,  2,  2, 12,  2,  2, 12,  1,  1,  1,  1,  1,  1,  1,\n",
       "         1,  1,  1,  1,  1]),\n",
       " array([2, 2, 2, 2, 2, 2, 8, 3, 1, 1, 1, 1, 1, 1]),\n",
       " array([11,  2,  2,  2,  2, 12,  2, 11,  1,  1,  1,  1,  1,  1,  1,  1,  1]),\n",
       " array([11, 11, 20, 11, 11, 11, 11,  1,  1,  1,  1,  1,  1,  1,  1,  1,  1,\n",
       "         1,  1,  1,  1,  1,  1]),\n",
       " array([11, 11, 11, 11, 11, 11, 11, 11, 11,  1,  1,  1,  1,  1,  1,  1,  1,\n",
       "         1,  1,  1,  1,  1,  1,  1,  1,  1,  1]),\n",
       " array([ 2,  2,  2,  2,  2,  2,  3,  4,  4, 13,  1,  1,  1,  1,  1]),\n",
       " array([11, 11, 11, 11, 16, 18, 11,  1,  1,  1,  1,  1,  1,  1,  1,  1,  1,\n",
       "         1,  1]),\n",
       " array([11, 11,  2,  2,  2,  2,  2,  2,  1,  1,  1,  1,  1,  1,  1,  1]),\n",
       " array([11, 11,  2,  2,  2,  2,  2,  2, 11,  1,  1,  1,  1,  1,  1,  1,  1,\n",
       "         1,  1,  1,  1]),\n",
       " array([11, 11, 23,  6, 14, 23, 11, 11, 19, 11, 19,  6, 14, 23, 11, 11, 23,\n",
       "        11, 11,  1,  1,  1,  1,  1,  1,  1,  1,  1,  1,  1,  1,  1,  1,  1,\n",
       "         1,  1,  1,  1,  1,  1,  1]),\n",
       " array([2, 2, 2, 2, 2, 2, 2, 2, 2, 2, 2, 2, 2, 2, 2, 2, 1, 1, 1, 1, 1, 1,\n",
       "        1, 1, 1, 1]),\n",
       " array([11, 11, 11, 11, 11, 11,  9,  1,  1,  1,  1,  1,  1,  1,  1,  1,  1,\n",
       "         1,  1,  1]),\n",
       " array([11, 11, 16, 18, 11, 11,  1,  1,  1,  1,  1,  1,  1,  1,  1,  1]),\n",
       " array([ 2,  2,  2,  2,  2,  2, 11, 13,  1,  1,  1,  1,  1,  1,  1,  1]),\n",
       " array([11, 11, 20, 11, 11, 13,  1,  1,  1,  1,  1,  1,  1,  1,  1,  1,  1,\n",
       "         1]),\n",
       " array([11,  2,  2,  2,  2,  2,  2,  2,  2,  2,  2,  1,  1,  1,  1,  1,  1,\n",
       "         1,  1,  1,  1]),\n",
       " array([11, 23,  7, 18, 18, 23, 11,  1,  1,  1,  1,  1,  1]),\n",
       " array([11, 20, 11, 11, 13,  1,  1,  1,  1,  1,  1,  1,  1,  1,  1]),\n",
       " array([2, 2, 3, 2, 1, 1, 1, 1, 1, 1, 1]),\n",
       " array([11, 11,  8,  8,  1,  1,  1,  1]),\n",
       " array([ 2,  2,  2,  2,  2,  2, 13,  3,  4,  4,  1,  1,  1,  1,  1]),\n",
       " array([11, 11, 16, 18, 23, 11, 11,  1,  1,  1,  1,  1,  1,  1,  1,  1,  1]),\n",
       " array([11, 11, 11, 11, 20, 11, 11, 11,  1,  1,  1,  1,  1,  1,  1,  1,  1,\n",
       "         1,  1,  1,  1,  1,  1,  1,  1,  1]),\n",
       " array([11, 11, 23, 11, 11, 23, 11, 11,  1,  1,  1,  1,  1,  1,  1,  1,  1,\n",
       "         1,  1,  1,  1,  1]),\n",
       " array([20,  8,  8,  8,  8]),\n",
       " array([11,  3,  2,  2,  2,  2,  1,  1,  1,  1,  1,  1,  1]),\n",
       " array([11, 11, 11, 19, 11, 11, 11,  1,  1,  1,  1,  1,  1,  1,  1,  1,  1,\n",
       "         1,  1,  1,  1]),\n",
       " array([11, 11, 11, 16, 18, 11, 11, 11,  1,  1,  1,  1,  1,  1,  1,  1,  1,\n",
       "         1,  1,  1,  1,  1]),\n",
       " array([11, 11, 11, 11, 13,  1,  1,  1,  1,  1,  1,  1,  1,  1,  1]),\n",
       " array([11,  2,  2,  2,  2,  2,  1,  1,  1,  1,  1,  1,  1,  1,  1,  1,  1,\n",
       "         1]),\n",
       " array([ 2,  2,  2,  2,  2,  2, 22,  2,  2,  2,  2,  2,  2, 22,  8,  1,  1,\n",
       "         1,  1,  1,  1,  1]),\n",
       " array([11, 11, 19, 19, 11, 11,  1,  1,  1,  1,  1,  1,  1,  1,  1,  1]),\n",
       " array([ 2,  2,  2,  2,  2,  2, 13,  1,  1,  1,  1,  1,  1,  1,  1,  1,  1,\n",
       "         1,  1]),\n",
       " array([11,  3, 11, 11, 18,  1,  1,  1,  1,  1,  1,  1]),\n",
       " array([2, 2, 2, 2, 2, 2, 8, 2, 2, 2, 2, 2, 2, 8, 8, 8, 1, 1, 1, 1, 1, 1]),\n",
       " array([11,  2,  2,  2,  2,  2,  2, 11, 11,  1,  1,  1,  1,  1,  1,  1,  1,\n",
       "         1,  1,  1,  1]),\n",
       " array([2, 2, 2, 2, 2, 2, 2, 2, 2, 2, 2, 2, 2, 1, 1, 1, 1, 1, 1, 1, 1, 1,\n",
       "        1]),\n",
       " array([11,  7, 18, 11,  1,  1,  1,  1,  1,  1]),\n",
       " array([2, 2, 2, 2, 2, 2, 9, 9, 1, 1, 1, 1]),\n",
       " array([20,  5,  5,  5,  9]),\n",
       " array([ 2,  2,  2,  2,  2, 13,  1,  1,  1,  1,  1,  1,  1,  1,  1,  1]),\n",
       " array([2, 2, 2, 1, 2, 1, 2, 1, 2, 2, 2, 2, 2, 8, 8, 8, 8, 8, 8, 8, 1, 1]),\n",
       " array([11, 11,  1,  1,  1,  1]),\n",
       " array([11, 11, 11, 11, 11, 11, 11, 11, 18,  1,  1,  1,  1,  1,  1,  1,  1,\n",
       "         1,  1,  1,  1,  1,  1,  1,  1]),\n",
       " array([11, 11, 11, 11, 11, 11, 11, 11, 11, 18,  1,  1,  1,  1,  1,  1,  1,\n",
       "         1,  1,  1,  1,  1,  1,  1,  1,  1,  1,  1]),\n",
       " array([11, 11, 11, 11, 10,  1,  1,  1,  1,  1,  1,  1,  1,  1]),\n",
       " array([11,  2,  2,  3,  2, 12,  1,  1,  1,  1,  1,  1]),\n",
       " array([ 2,  2,  2,  7,  2, 18, 18,  1,  1,  1,  1,  1,  1,  1,  1]),\n",
       " array([ 2,  2,  2,  2,  2,  2, 11, 18, 13,  1,  1,  1,  1,  1,  1]),\n",
       " array([11, 11, 11, 11, 11,  2,  2,  2,  2,  2,  1,  1,  1,  1,  1,  1,  1,\n",
       "         1,  1,  1,  1,  1,  1,  1,  1,  1,  1,  1,  1,  1]),\n",
       " array([11, 11, 20, 11, 11, 11,  1,  1,  1,  1,  1,  1,  1,  1,  1,  1,  1,\n",
       "         1,  1,  1]),\n",
       " array([11,  2,  2,  2,  2,  2,  2,  2,  2, 22, 23, 16, 18,  3, 11, 11,  1,\n",
       "         1,  1,  1,  1,  1,  1,  1,  1,  1,  1,  1,  1,  1,  1]),\n",
       " array([ 2,  2,  2, 22,  2,  1,  1,  1,  1,  1,  1,  1,  1]),\n",
       " array([11, 11, 11, 11, 16, 18, 23, 11,  1,  1,  1,  1,  1,  1,  1,  1,  1,\n",
       "         1,  1,  1]),\n",
       " array([11, 11, 11, 11, 11, 11, 11, 11, 11,  1,  1,  1,  1,  1,  1,  1,  1,\n",
       "         1,  1,  1,  1,  1,  1,  1,  1,  1,  1,  1,  1]),\n",
       " array([11, 11,  8,  8,  1,  1]),\n",
       " array([11, 23,  2,  2,  2,  2,  2,  2, 23, 11,  1,  1,  1,  1,  1,  1,  1,\n",
       "         1,  1,  1]),\n",
       " array([16, 16,  8,  8,  8,  8]),\n",
       " array([2, 2, 2, 2, 2, 2, 8, 8, 8, 8, 1, 1]),\n",
       " array([11, 11, 23, 16, 18, 11, 16, 18, 23, 11, 11,  1,  1,  1,  1,  1,  1,\n",
       "         1,  1,  1,  1,  1,  1]),\n",
       " array([ 2,  2,  2,  2,  2,  2, 11, 11, 13,  1,  1,  1,  1,  1,  1,  1,  1,\n",
       "         1,  1]),\n",
       " array([11,  2,  2,  2,  2,  2, 12,  1,  1,  1,  1,  1,  1,  1]),\n",
       " array([11, 11, 11,  3, 11, 11, 11,  1,  1,  1,  1,  1,  1,  1,  1,  1,  1,\n",
       "         1,  1,  1,  1,  1]),\n",
       " array([11, 11, 11, 11, 11, 11, 11,  1,  1,  1,  1,  1,  1,  1,  1,  1,  1,\n",
       "         1,  1,  1,  1,  1,  1]),\n",
       " array([11,  2,  2,  2,  2,  2,  2, 11,  3,  2,  2,  2,  2,  2,  2, 16, 18,\n",
       "        13,  1,  1,  1,  1,  1,  1,  1,  1,  1,  1,  1,  1,  1,  1,  1]),\n",
       " array([11, 11, 11, 11, 11, 11, 11, 11,  9,  1,  1,  1,  1,  1,  1,  1,  1,\n",
       "         1,  1,  1,  1,  1,  1,  1,  1,  1]),\n",
       " array([11,  2,  2,  2,  2,  2,  2, 23, 11, 13,  1,  1,  1,  1,  1,  1,  1,\n",
       "         1,  1,  1]),\n",
       " array([ 2,  2, 12,  2,  2,  2, 11, 18,  1,  1,  1,  1,  1]),\n",
       " array([11, 11, 11, 11, 11,  1,  1,  1,  1,  1,  1,  1,  1,  1,  1]),\n",
       " array([11,  2,  2,  3,  2,  2,  2,  2,  2,  2,  1,  1,  1,  1,  1,  1,  1,\n",
       "         1,  1]),\n",
       " array([11, 11, 11,  1, 11,  8,  1,  1,  1,  1,  1,  1,  1,  1]),\n",
       " array([11, 21,  3,  1,  1,  1]),\n",
       " array([11,  2,  2,  2,  2,  2,  2,  9,  1,  1,  1,  1,  1,  1,  1]),\n",
       " array([11, 23,  2,  2,  2,  2,  2,  2,  1,  1,  1,  1,  1,  1,  1,  1]),\n",
       " array([11,  7, 18, 18, 11,  1,  1,  1,  1,  1,  1]),\n",
       " array([11, 11, 11, 11, 11, 11, 11, 11, 11, 11, 13,  1,  1,  1,  1,  1,  1,\n",
       "         1,  1,  1,  1,  1,  1,  1,  1,  1,  1,  1,  1,  1,  1,  1,  1]),\n",
       " array([11, 16, 18,  2,  2,  2,  2, 12,  2,  1,  1,  1,  1,  1,  1,  1]),\n",
       " array([20,  3,  4,  4,  8,  8,  8]),\n",
       " array([11, 11, 23,  6, 14, 23, 11, 11, 19, 11, 19, 11, 11,  1,  1,  1,  1,\n",
       "         1,  1,  1,  1,  1,  1,  1,  1,  1,  1,  1,  1,  1]),\n",
       " array([11, 11, 11, 10,  1,  1,  1,  1,  1,  1,  1]),\n",
       " array([11, 23,  6, 18, 23, 11, 23, 11,  1,  1,  1,  1,  1,  1,  1,  1,  1]),\n",
       " array([11, 11, 11, 11, 11, 11, 11, 11, 18,  1,  1,  1,  1,  1,  1,  1,  1,\n",
       "         1,  1,  1,  1,  1,  1]),\n",
       " array([11, 11, 11, 11,  9,  1,  1,  1,  1,  1,  1,  1,  1,  1]),\n",
       " array([11, 11,  9,  8,  1,  1,  1,  1]),\n",
       " array([11, 11, 16, 18, 13,  1,  1,  1,  1,  1,  1]),\n",
       " array([11, 11,  8,  1,  1,  1,  1,  1]),\n",
       " array([11, 16, 18,  2,  2,  2,  2,  2,  2, 23, 11,  1,  1,  1,  1,  1,  1,\n",
       "         1,  1,  1,  1]),\n",
       " array([2, 2, 2, 2, 2, 2, 2, 2, 2, 2, 3, 1, 1, 1, 1, 1, 1, 1, 1, 1]),\n",
       " array([11, 11, 11, 11, 11, 13,  1,  1,  1,  1,  1,  1,  1,  1,  1,  1,  1,\n",
       "         1]),\n",
       " array([11,  3,  2,  2, 22,  2,  2,  1,  1,  1,  1,  1,  1,  1,  1,  1,  1,\n",
       "         1]),\n",
       " array([11,  2,  2,  2,  2,  2,  2, 11, 11,  1,  1,  1,  1,  1,  1,  1,  1,\n",
       "         1,  1,  1,  1]),\n",
       " array([ 2,  2, 12,  2,  2,  2, 21,  3,  1,  1,  1,  1]),\n",
       " array([11, 11,  3,  2, 12,  2, 12,  2, 12, 19, 11,  3, 11, 11, 11,  1,  1,\n",
       "         1,  1,  1,  1,  1,  1,  1,  1,  1,  1,  1,  1,  1,  1,  1]),\n",
       " array([11,  2,  2,  2,  2,  2,  2, 11,  1,  1,  1,  1,  1,  1,  1,  1,  1,\n",
       "         1]),\n",
       " array([11, 11, 13,  1,  1,  1,  1,  1,  1]),\n",
       " array([11, 20, 11, 11, 23, 11,  1,  1,  1,  1,  1,  1,  1,  1,  1,  1,  1,\n",
       "         1]),\n",
       " array([11, 11, 11, 13,  1,  1,  1,  1,  1,  1,  1,  1]),\n",
       " array([11, 11,  3, 11, 11, 11, 11,  1,  1,  1,  1,  1,  1,  1,  1,  1,  1,\n",
       "         1,  1,  1,  1,  1]),\n",
       " array([11, 11, 11, 11, 11, 16, 18, 13,  1,  1,  1,  1,  1,  1,  1,  1,  1,\n",
       "         1,  1,  1]),\n",
       " array([ 2,  2,  2,  2,  2,  2,  3,  4,  4, 13,  1,  1,  1,  1,  1]),\n",
       " array([11, 11,  3,  4,  4,  1,  1,  1,  1,  1]),\n",
       " array([ 2,  2,  1,  2,  1,  2, 22,  7, 18, 22,  2,  2,  2,  2,  2,  8,  8,\n",
       "         8,  8,  8,  8,  1,  1,  1,  1]),\n",
       " array([11, 11, 11, 19, 11, 11, 11,  1,  1,  1,  1,  1,  1,  1,  1,  1,  1,\n",
       "         1,  1,  1,  1]),\n",
       " array([11, 11,  2,  2,  2, 12,  2,  2,  1,  1,  1,  1,  1,  1,  1,  1,  1]),\n",
       " array([11, 11, 11, 16, 18, 23, 11,  1,  1,  1,  1,  1,  1,  1,  1,  1,  1]),\n",
       " array([11,  1,  1,  1,  1]),\n",
       " array([11,  1, 20,  5,  5,  5,  5,  9]),\n",
       " array([11, 13,  1,  1,  1,  1]),\n",
       " array([11, 11, 11, 11, 11, 11, 13,  1,  1,  1,  1,  1,  1,  1,  1,  1,  1,\n",
       "         1,  1,  1,  1]),\n",
       " array([ 2,  2,  2,  2,  2,  2, 22,  2,  2,  2,  2,  2,  2, 22,  8,  8,  8,\n",
       "         1,  1,  1,  1,  1]),\n",
       " array([11, 11, 11,  3, 11, 11, 11,  2,  2,  2,  2,  2,  2,  3,  4,  4, 20,\n",
       "         5,  5,  5,  3,  4,  4,  1,  1,  1,  1,  1,  1,  1,  1,  1,  1,  1,\n",
       "         1,  1,  1,  1,  1]),\n",
       " array([11, 23,  2,  2,  2,  2,  2,  2, 13,  1,  1,  1,  1,  1,  1,  1,  1]),\n",
       " array([11,  2,  2,  2,  2,  2,  2,  2,  2,  2,  2, 11,  1,  1,  1,  1,  1,\n",
       "         1,  1,  1,  1,  1,  1,  1]),\n",
       " array([11, 11, 11,  3,  4,  4,  1,  1,  1,  1,  1,  1,  1]),\n",
       " array([11, 10,  1,  1,  1]),\n",
       " array([2, 2, 2, 2, 2, 2, 8, 8, 1, 1, 1, 1]),\n",
       " array([11, 11, 13, 13,  1,  1,  1,  1,  1,  1]),\n",
       " array([11, 23, 20, 11, 21,  3, 23, 11, 23, 11,  1,  1,  1,  1,  1,  1,  1,\n",
       "         1,  1,  1,  1]),\n",
       " array([ 2,  2,  1,  2,  1,  2,  1,  2,  1,  2,  1,  2,  1, 22,  2,  2,  2,\n",
       "         2,  2,  8,  8,  8,  8,  8,  8,  1,  1]),\n",
       " array([ 2,  2, 22,  2,  2,  3,  1,  1,  1,  1,  1,  1,  1,  1,  1]),\n",
       " array([11, 11, 11, 11,  1,  1,  1,  1,  1,  1,  1,  1]),\n",
       " array([11,  2,  2,  2,  2,  2,  2, 13, 11,  1,  1,  1,  1,  1,  1,  1,  1,\n",
       "         1,  1]),\n",
       " array([ 2,  2,  2,  2,  2,  2, 11,  3,  2,  2, 12,  2,  1,  1,  1,  1,  1,\n",
       "         1,  1,  1,  1,  1]),\n",
       " array([11, 11, 23,  2,  2,  2,  2,  2,  2,  1,  1,  1,  1,  1,  1,  1,  1,\n",
       "         1,  1]),\n",
       " array([11,  2,  2,  2,  2,  2,  2,  2,  2,  2,  2, 11,  1,  1,  1,  1,  1,\n",
       "         1,  1,  1,  1,  1,  1,  1]),\n",
       " array([11,  3, 11, 16, 18,  2,  2,  2,  2,  2,  2,  3,  4,  4,  1,  1,  1,\n",
       "         1,  1,  1,  1,  1,  1,  1]),\n",
       " array([11, 11, 11, 23, 11, 18,  1,  1,  1,  1,  1,  1,  1,  1]),\n",
       " array([11, 23,  2,  2,  2,  2,  2,  2, 13, 23, 11,  1,  1,  1,  1,  1,  1,\n",
       "         1,  1,  1,  1]),\n",
       " array([11, 23, 16, 18,  2,  2,  2,  2,  2,  2,  1,  1,  1,  1,  1,  1,  1,\n",
       "         1]),\n",
       " array([11, 11, 11,  3, 11,  2,  2,  2,  2,  2,  2,  2,  2,  2,  3,  4,  4,\n",
       "        20,  5,  5,  5,  3,  4,  4,  1,  1,  1,  1,  1,  1,  1,  1,  1,  1,\n",
       "         1,  1,  1,  1,  1,  1]),\n",
       " array([ 2,  2,  2,  2,  2,  2, 20,  5,  5,  5,  1,  1,  1,  1,  1]),\n",
       " array([11,  3, 11,  1,  1,  1,  1,  1,  1,  1]),\n",
       " array([2, 2, 2, 2, 2, 2, 2, 2, 2, 2, 2, 2, 8, 8, 8, 8, 8, 8, 8, 1, 1, 1]),\n",
       " array([ 2,  2,  2,  2,  2,  2,  2,  2,  2, 12,  1,  1,  1,  1,  1,  1,  1]),\n",
       " array([11, 11, 23,  6, 18, 23, 11, 11, 23, 16, 11,  8,  2,  2,  2,  2,  2,\n",
       "         2,  8,  8,  1,  1,  1,  1,  1,  1,  1,  1,  1,  1,  1,  1,  1,  1]),\n",
       " array([2, 2, 2, 2, 2, 2, 2, 2, 2, 2, 2, 2, 2, 2, 1, 1, 1, 1, 1, 1, 1, 1,\n",
       "        1, 1]),\n",
       " array([11, 11, 11, 11, 11, 11, 21, 11,  1,  1,  1,  1,  1,  1,  1,  1,  1,\n",
       "         1,  1,  1,  1,  1]),\n",
       " array([11,  2,  2,  2,  2, 12,  2, 11,  1,  1,  1,  1,  1,  1,  1,  1,  1]),\n",
       " array([11, 20, 11, 11,  2,  2,  2,  2,  2,  2,  1,  1,  1,  1,  1,  1,  1,\n",
       "         1,  1,  1,  1,  1,  1,  1]),\n",
       " array([11, 11, 23, 11,  1,  1,  1,  1,  1,  1,  1,  1]),\n",
       " array([11, 11, 11, 16, 18, 23, 11, 11, 11,  1,  1,  1,  1,  1,  1,  1,  1,\n",
       "         1,  1,  1,  1,  1,  1]),\n",
       " array([2, 2, 2, 2, 2, 2, 3, 4, 4, 1, 1, 1, 1, 1]),\n",
       " array([11, 11, 11, 11,  3,  1,  1,  1,  1,  1,  1,  1,  1,  1,  1,  1]),\n",
       " array([11, 20, 11, 11, 11,  1,  1,  1,  1,  1,  1,  1,  1,  1,  1,  1,  1]),\n",
       " array([11, 11,  8,  8,  1,  1,  1,  1]),\n",
       " array([11,  8,  1,  1,  1]),\n",
       " array([ 2,  2,  2, 12,  2,  2,  1,  1,  1,  1,  1]),\n",
       " array([11, 23,  2,  2,  2,  2,  2,  2,  3,  1,  1,  1,  1,  1,  1,  1,  1,\n",
       "         1]),\n",
       " array([11, 11,  2,  2, 12,  2,  2, 12,  1,  1,  1,  1,  1,  1,  1,  1]),\n",
       " array([11, 11, 23,  3,  4,  4, 13,  1,  1,  1,  1,  1]),\n",
       " array([11, 11, 15,  1,  1,  1,  1,  1,  1]),\n",
       " array([11, 11, 11,  1, 11, 11, 11, 13,  1,  1,  1,  1,  1,  1,  1,  1,  1,\n",
       "         1,  1,  1,  1]),\n",
       " array([11, 11,  2,  2,  2,  2,  2,  2, 13,  1,  1,  1,  1,  1,  1,  1,  1,\n",
       "         1,  1]),\n",
       " array([ 2,  2,  2,  2,  2,  2, 20,  5,  5,  5, 20,  5,  5,  5,  1,  1,  1,\n",
       "         1]),\n",
       " array([11, 11,  3,  2, 12,  2, 12,  2, 12, 19, 11,  3, 20, 11, 11, 11,  1,\n",
       "         1,  1,  1,  1,  1,  1,  1,  1,  1,  1,  1,  1,  1,  1,  1,  1,  1,\n",
       "         1]),\n",
       " array([11,  3, 16, 18, 23,  2,  2,  2,  2,  2,  2,  2,  2,  2,  2,  1,  1,\n",
       "         1,  1,  1,  1,  1,  1,  1,  1,  1]),\n",
       " array([ 2,  2,  2,  2, 18,  2,  2,  1,  1,  1,  1,  1,  1,  1,  1,  1,  1]),\n",
       " array([11, 11, 11, 11, 11,  1,  1,  1,  1,  1,  1,  1,  1,  1,  1]),\n",
       " array([11, 11, 11, 11, 23, 16, 18, 11,  1,  1,  1,  1,  1,  1,  1,  1,  1,\n",
       "         1,  1,  1]),\n",
       " array([11,  2,  2,  2,  2,  2,  2, 13, 11,  1,  1,  1,  1,  1,  1,  1,  1,\n",
       "         1,  1]),\n",
       " array([11, 11, 16, 18,  3,  1,  1,  1,  1,  1,  1,  1]),\n",
       " array([ 2,  2,  2,  2,  2,  2, 13,  9,  1,  1,  1,  1,  1]),\n",
       " array([11, 11, 11, 11,  1, 11, 13,  1,  1,  1,  1,  1,  1,  1,  1,  1,  1,\n",
       "         1]),\n",
       " array([11, 11, 23,  6, 14, 23, 11, 11, 19, 11,  1, 11,  8,  3,  2, 18,  2,\n",
       "         2,  2,  2,  2,  2,  2, 18,  1,  1,  1,  1,  1,  1,  1,  1,  1,  1,\n",
       "         1,  1,  1,  1,  1,  1]),\n",
       " array([11, 11, 11, 11, 23,  3,  4,  4,  1,  1,  1,  1,  1,  1,  1,  1,  1]),\n",
       " array([11, 23, 11, 23, 11, 23, 11,  1,  1,  1,  1,  1,  1,  1,  1,  1,  1]),\n",
       " array([11, 16, 18,  2,  2,  2,  1,  1,  1,  1,  1,  1,  1,  1]),\n",
       " array([11, 11, 23, 16, 18, 11, 11,  1, 16, 18, 23, 11, 11, 19,  6, 14, 23,\n",
       "        11, 23, 11,  1,  1,  1,  1,  1,  1,  1,  1,  1,  1,  1,  1,  1,  1,\n",
       "         1,  1,  1,  1]),\n",
       " array([11,  1, 20,  5,  5,  5,  8,  9]),\n",
       " array([2, 2, 2, 2, 2, 2, 3, 8, 1, 1, 1, 1, 1, 1]),\n",
       " array([2, 2, 2, 2, 2, 2, 3, 3, 4, 4, 1, 1, 1, 1, 1, 1]),\n",
       " array([ 2,  2,  2,  2, 12,  2, 11, 18,  1,  1,  1,  1,  1]),\n",
       " array([11, 16, 11, 11, 11,  1,  1,  1,  1,  1,  1,  1,  1]),\n",
       " array([2, 2, 2, 2, 2, 1, 1, 1, 1, 1, 1, 1, 1]),\n",
       " array([11, 11, 11,  8,  1,  1,  1,  1,  1,  1,  1]),\n",
       " array([11, 11, 11, 11, 11, 11,  3,  1,  1,  1,  1,  1,  1,  1,  1,  1,  1,\n",
       "         1,  1,  1,  1,  1]),\n",
       " array([11, 11, 11, 11, 11,  1,  1,  1,  1,  1,  1,  1,  1,  1,  1,  1,  1]),\n",
       " array([11,  3, 11, 16, 18,  2,  2,  2,  2,  2,  2,  1,  1,  1,  1,  1,  1,\n",
       "         1,  1,  1,  1,  1]),\n",
       " array([11,  3, 11, 11, 11, 11,  2,  2,  2,  2,  2,  2,  2,  2,  2,  2,  2,\n",
       "         2,  2,  2,  2,  1,  1,  1,  1,  1,  1,  1,  1,  1,  1,  1,  1,  1,\n",
       "         1,  1,  1,  1,  1,  1,  1,  1,  1,  1]),\n",
       " array([11, 23, 11, 18,  1,  1,  1,  1]),\n",
       " array([11, 23,  7, 18, 18, 11,  1,  1,  1,  1,  1,  1]),\n",
       " array([11,  5,  1,  1,  1]),\n",
       " array([11, 11, 11, 16, 18, 11, 11, 11,  1,  1,  1,  1,  1,  1,  1,  1,  1,\n",
       "         1,  1,  1,  1,  1]),\n",
       " array([11, 11, 11, 11,  1, 11, 11, 11,  1,  1,  1,  1,  1,  1,  1,  1,  1,\n",
       "         1,  1,  1,  1,  1,  1]),\n",
       " array([11, 11, 11, 23, 11,  1,  1,  1,  1,  1,  1,  1,  1,  1,  1]),\n",
       " array([ 2,  2,  2,  2,  2,  2, 11, 18, 13,  1,  1,  1,  1,  1,  1]),\n",
       " array([11, 11, 11, 11, 11, 11, 11,  1,  1,  1,  1,  1,  1,  1,  1,  1,  1,\n",
       "         1,  1,  1,  1]),\n",
       " array([11, 16, 11, 11, 11, 16, 11, 11, 13, 11, 11,  1,  1,  1,  1,  1,  1,\n",
       "         1,  1,  1,  1,  1,  1,  1,  1,  1,  1,  1,  1]),\n",
       " array([2, 2, 2, 2, 2, 2, 2, 2, 2, 2, 3, 1, 1, 1, 1, 1, 1, 1, 1, 1]),\n",
       " array([11,  2,  2,  2,  2,  2, 12, 11,  1,  1,  1,  1,  1,  1,  1,  1,  1]),\n",
       " array([11, 23,  6, 14, 23, 11, 23,  2,  2,  2,  2,  2,  2,  3,  4,  4,  1,\n",
       "         1,  1,  1,  1,  1,  1,  1,  1,  1]),\n",
       " array([11, 11, 11, 10,  1,  1,  1,  1,  1,  1,  1]),\n",
       " array([11, 11, 11, 11,  3, 11, 11, 11, 11,  1,  1,  1,  1,  1,  1,  1,  1,\n",
       "         1,  1,  1,  1,  1,  1,  1,  1,  1,  1,  1]),\n",
       " array([11, 23, 16, 18, 20,  5,  5,  5,  1,  1,  1]),\n",
       " array([11, 11, 11, 16, 18, 23, 11, 11,  1,  1,  1,  1,  1,  1,  1,  1,  1,\n",
       "         1,  1,  1]),\n",
       " array([11,  8,  8,  1,  1]),\n",
       " array([ 2,  2,  2, 22,  2,  2,  1,  1,  1,  1,  1,  1,  1,  1,  1,  1]),\n",
       " array([11, 11, 11,  9,  1,  1,  1,  1,  1,  1,  1]),\n",
       " array([11, 23, 11, 23, 11,  1,  1,  1,  1,  1,  1,  1,  1]),\n",
       " array([ 2,  2,  2,  2,  2,  2, 16, 18,  3,  1,  1,  1,  1,  1,  1,  1]),\n",
       " array([11, 11, 11, 11, 16, 18, 13,  1,  1,  1,  1,  1,  1,  1,  1,  1,  1]),\n",
       " array([11, 11, 11, 11,  1, 11, 11, 13,  1,  1,  1,  1,  1,  1,  1,  1,  1,\n",
       "         1,  1,  1,  1]),\n",
       " array([11, 11, 11, 11, 11, 11, 11, 11, 13,  1,  1,  1,  1,  1,  1,  1,  1,\n",
       "         1,  1,  1,  1,  1,  1,  1,  1,  1,  1]),\n",
       " array([11, 11, 23, 16, 18, 11, 23, 16, 18, 11,  1,  1,  1,  1,  1,  1,  1,\n",
       "         1,  1,  1]),\n",
       " array([11, 11, 11, 11, 18,  1,  1,  1,  1,  1,  1,  1,  1]),\n",
       " array([11, 11, 11,  1, 11, 11, 11, 11,  1,  1,  1,  1,  1,  1,  1,  1,  1,\n",
       "         1,  1,  1,  1,  1,  1]),\n",
       " array([11, 11, 11, 11, 16, 18, 11, 11, 11, 11,  1,  1,  1,  1,  1,  1,  1,\n",
       "         1,  1,  1,  1,  1,  1,  1,  1,  1,  1,  1]),\n",
       " array([11, 11, 11, 16, 11, 11,  1,  1,  1,  1,  1,  1,  1,  1,  1,  1,  1,\n",
       "         1]),\n",
       " array([11, 16, 18,  3,  1,  1,  1,  1,  1]),\n",
       " array([11, 20,  8,  8,  8,  8,  8,  1]),\n",
       " array([ 2,  2,  2,  2,  2,  2, 13,  8,  8,  1,  1,  1,  1]),\n",
       " array([11, 11, 23, 16, 18,  2,  2,  2,  2,  2,  2,  1,  1,  1,  1,  1,  1,\n",
       "         1,  1,  1,  1]),\n",
       " array([11, 11, 23,  6, 14, 23, 11, 11, 23,  2,  2,  2,  2,  2, 12,  8,  8,\n",
       "         8,  1,  1,  1,  1,  1,  1,  1,  1,  1,  1,  1]),\n",
       " array([11,  2,  2,  2,  2,  2,  2, 11, 11,  1,  1,  1,  1,  1,  1,  1,  1,\n",
       "         1,  1,  1,  1]),\n",
       " array([11,  2,  2,  2,  2,  2,  2, 16, 18, 11,  1,  1,  1,  1,  1,  1,  1,\n",
       "         1,  1,  1]),\n",
       " array([11,  2,  2,  2,  2,  2,  2,  3,  1,  1,  1,  1,  1,  1,  1,  1,  1]),\n",
       " array([20, 20,  5,  8,  8,  5,  5,  8]),\n",
       " array([11, 11, 11, 11, 11, 20, 11, 11, 11,  1,  1,  1,  1,  1,  1,  1,  1,\n",
       "         1,  1,  1,  1,  1,  1,  1,  1,  1,  1,  1,  1]),\n",
       " array([11, 11, 11, 11, 11, 11, 11,  3,  1,  1,  1,  1,  1,  1,  1,  1,  1,\n",
       "         1,  1,  1,  1,  1,  1,  1,  1]),\n",
       " array([ 2,  2,  2, 18,  2,  2,  2, 18,  1,  1,  1,  1]),\n",
       " array([11,  2,  2,  2, 12,  2,  2,  1,  1,  1,  1,  1,  1,  1]),\n",
       " array([11, 23, 16, 18,  2,  2,  2,  2,  2,  2, 13,  1,  1,  1,  1,  1,  1,\n",
       "         1,  1]),\n",
       " array([2, 2, 2, 2, 2, 2, 2, 2, 2, 2, 2, 2, 8, 8, 8, 8, 8, 8, 1, 1, 1, 1]),\n",
       " array([11, 11, 11, 11, 11, 11, 11, 11,  1,  1,  1,  1,  1,  1,  1,  1,  1,\n",
       "         1,  1,  1,  1,  1,  1,  1,  1,  1]),\n",
       " array([11,  2,  1,  2,  2,  2,  2,  2,  1, 11,  1,  1,  1,  1,  1,  1,  1,\n",
       "         1,  1,  1,  1,  1,  1,  1]),\n",
       " array([11,  2,  2,  2,  2,  2,  2,  8, 13,  1,  1,  1,  1,  1,  1,  1]),\n",
       " array([11, 11, 23, 16, 18, 11, 11, 16, 18, 23, 11, 11,  1,  1,  1,  1,  1,\n",
       "         1,  1,  1,  1,  1,  1,  1,  1,  1]),\n",
       " array([ 2,  2,  2,  2,  2,  2,  2, 18,  2,  2,  2,  2,  2,  2,  2, 18,  3,\n",
       "         1,  1,  1,  1,  1,  1,  1,  1,  1]),\n",
       " array([11, 11, 11, 23, 16, 18,  2,  2,  2,  2,  2,  2, 13,  1,  1,  1,  1,\n",
       "         1,  1,  1,  1,  1,  1,  1,  1]),\n",
       " array([11, 23, 16, 18,  2,  2,  2,  2,  2,  2,  3,  4,  4,  1,  1,  1,  1,\n",
       "         1,  1,  1]),\n",
       " array([11, 11,  1, 11,  8,  8,  1,  1,  1,  1,  1]),\n",
       " array([11, 16, 11, 16, 11, 11,  1,  1,  1,  1,  1,  1,  1,  1,  1,  1]),\n",
       " array([11, 11, 11, 11, 11, 23, 16, 18, 11, 11,  1,  1,  1,  1,  1,  1,  1,\n",
       "         1,  1,  1,  1,  1,  1,  1,  1,  1]),\n",
       " array([11, 16, 18,  2,  2,  2,  2,  2,  2,  1,  1,  1,  1,  1,  1,  1,  1,\n",
       "         1,  1,  1,  1,  1,  1]),\n",
       " array([11, 11, 11,  2,  2,  2,  2,  2,  2, 23, 11, 13,  1,  1,  1,  1,  1,\n",
       "         1,  1,  1,  1,  1,  1,  1,  1,  1]),\n",
       " array([11,  2,  2,  2, 18,  2,  2,  2, 11, 11,  1,  1,  1,  1,  1,  1,  1,\n",
       "         1,  1,  1,  1,  1,  1,  1]),\n",
       " array([11, 11, 11, 11, 11, 11,  1,  1,  1,  1,  1,  1,  1,  1,  1,  1,  1,\n",
       "         1,  1,  1]),\n",
       " array([ 2,  2,  2,  2,  2,  2, 11, 11, 11, 13,  1,  1,  1,  1,  1,  1,  1,\n",
       "         1,  1,  1,  1,  1]),\n",
       " array([11, 11, 11,  2,  2,  2,  2,  2,  1,  1,  1,  1,  1,  1,  1,  1,  1,\n",
       "         1,  1,  1,  1,  1,  1,  1]),\n",
       " array([11, 11, 11, 11, 11, 13,  1,  1,  1,  1,  1,  1,  1,  1,  1,  1,  1,\n",
       "         1]),\n",
       " array([11, 11, 11,  1, 11, 11, 13,  1,  1,  1,  1,  1,  1,  1,  1,  1,  1,\n",
       "         1]),\n",
       " array([ 2,  2,  2,  2,  2,  2, 10,  1,  1,  1,  1,  1]),\n",
       " array([ 2,  2,  2,  2, 12,  2, 21,  3,  1,  1,  1,  1]),\n",
       " array([11,  2,  2, 12,  2,  2, 12,  1,  1,  1,  1,  1,  1]),\n",
       " array([2, 2, 2, 3, 2, 1, 1, 1, 1, 1]),\n",
       " array([11, 11, 11, 11, 13,  1,  1,  1,  1,  1,  1,  1,  1,  1,  1]),\n",
       " array([11, 19, 19, 11,  1,  1,  1,  1,  1,  1]),\n",
       " array([11,  2,  2,  2,  2,  2,  2,  1,  1,  1,  1,  1,  1,  1,  1,  1,  1,\n",
       "         1,  1,  1,  1]),\n",
       " array([2, 2, 2, 2, 2, 2, 2, 2, 2, 2, 2, 2, 1, 1, 1, 1, 1, 1, 1, 1, 1, 1]),\n",
       " array([11,  3, 11,  2,  2,  2,  2,  2,  2,  1,  1,  1,  1,  1,  1,  1,  1,\n",
       "         1,  1,  1]),\n",
       " array([11, 11,  8,  8,  8,  1,  1,  1]),\n",
       " array([11, 11, 11, 16, 18, 13,  1,  1,  1,  1,  1,  1,  1,  1]),\n",
       " array([11, 23, 16, 18,  2,  2,  2,  2,  2,  2,  1,  1,  1,  1,  1,  1,  1,\n",
       "         1,  1,  1,  1,  1,  1,  1]),\n",
       " array([11, 16, 18,  3,  2,  2,  2,  2,  1,  1,  1,  1,  1,  1,  1,  1,  1,\n",
       "         1,  1]),\n",
       " array([11, 11, 11, 11,  1,  1,  1,  1,  1,  1,  1,  1,  1,  1]),\n",
       " array([11, 23, 20, 20,  5,  5,  5, 23, 11, 23, 11,  1,  1,  1,  1,  1,  1,\n",
       "         1,  1,  1]),\n",
       " array([ 2,  2,  2,  2,  2,  2, 21,  3,  1,  1,  1,  1,  1]),\n",
       " array([11, 11, 11, 11, 23, 16, 18, 11,  1,  1,  1,  1,  1,  1,  1,  1,  1,\n",
       "         1,  1,  1]),\n",
       " array([11, 11, 11, 11, 11, 23, 16, 18, 11,  1,  1,  1,  1,  1,  1,  1,  1,\n",
       "         1,  1,  1,  1,  1,  1]),\n",
       " array([11, 11, 11, 11, 11, 11, 11, 11,  3,  1,  1,  1,  1,  1,  1,  1,  1,\n",
       "         1,  1,  1,  1,  1,  1,  1,  1,  1,  1,  1]),\n",
       " array([2, 2, 3, 2, 2, 3, 1, 1, 1, 1, 1, 1, 1, 1, 1, 1]),\n",
       " array([2, 2, 2, 2, 2, 2, 8, 8, 8, 8, 2, 2, 2, 2, 2, 2, 8, 8, 8, 8, 1, 1]),\n",
       " array([ 2,  2,  2,  2,  2,  2,  2, 18,  2,  2,  2,  2,  2,  2,  2, 18,  3,\n",
       "         3,  1,  1,  1,  1,  1,  1,  1,  1,  1,  1]),\n",
       " array([2, 2, 2, 1, 1, 1, 1, 1, 1]),\n",
       " array([ 2,  2,  2,  2,  2,  2,  8,  8,  8,  8, 22,  2,  2,  2,  2,  2,  2,\n",
       "         8,  8,  8,  8, 22]),\n",
       " array([11, 23,  2,  2,  2,  2,  2,  2, 13, 23, 11,  8,  8,  1,  1,  1,  1,\n",
       "         1,  1,  1,  1]),\n",
       " array([11,  2,  2,  2,  2,  2,  2,  3,  4,  4,  1,  1,  1,  1,  1,  1,  1]),\n",
       " array([11,  8,  8,  8,  1]),\n",
       " array([ 2,  2,  2,  2,  2,  2,  8, 22,  2,  2,  2,  2,  2,  2, 22,  8,  8,\n",
       "         8,  1,  1,  1,  1]),\n",
       " array([ 2,  2,  2,  2, 12,  2,  8,  1,  1,  1,  1]),\n",
       " array([11, 11, 11,  1, 11, 23,  3,  4,  4,  1,  1,  1,  1,  1,  1,  1,  1]),\n",
       " array([11, 11, 11, 11, 11, 11, 11, 10,  1,  1,  1,  1,  1,  1,  1,  1,  1,\n",
       "         1,  1,  1,  1,  1,  1]),\n",
       " array([2, 2, 2, 2, 2, 2, 2, 2, 2, 1, 1, 1, 1, 1, 1, 1, 1, 1, 1]),\n",
       " array([11, 11, 11, 11, 11,  3,  4,  4,  1,  1,  1,  1,  1,  1,  1,  1,  1,\n",
       "         1,  1]),\n",
       " array([11, 18,  1,  1]),\n",
       " array([11, 11, 11,  8,  1,  1,  1,  1,  1]),\n",
       " array([11, 11, 11, 23, 11, 11, 13,  1,  1,  1,  1,  1,  1,  1,  1,  1,  1,\n",
       "         1,  1]),\n",
       " array([11,  2,  2,  2,  2, 12,  2,  1,  1,  1,  1,  1,  1,  1]),\n",
       " array([11, 20,  8,  8,  8,  8,  1,  1]),\n",
       " array([11,  9,  9,  9,  1]),\n",
       " array([3, 3, 1, 1, 1, 1]),\n",
       " array([11, 11, 11, 11, 11, 11,  1,  1,  1,  1,  1,  1,  1,  1,  1,  1]),\n",
       " array([11, 11, 11, 11, 11, 11, 11,  9,  1,  1,  1,  1,  1,  1,  1,  1,  1,\n",
       "         1,  1,  1,  1,  1,  1]),\n",
       " array([11,  2,  2,  2, 12,  2,  2, 11,  1,  1,  1,  1,  1,  1,  1,  1,  1]),\n",
       " array([ 2,  2,  2,  2,  2,  2,  8, 22,  2,  2,  2,  2,  2,  2,  8,  8,  8,\n",
       "         8, 22,  1,  1,  1]),\n",
       " array([11, 23, 16, 18, 11,  8,  1,  1,  1,  1,  1]),\n",
       " array([11, 11, 23,  6, 14, 23, 11, 11, 23,  2,  2,  2,  2,  2,  2,  3,  4,\n",
       "         4,  1,  1,  1,  1,  1,  1,  1,  1,  1,  1,  1,  1,  1,  1]),\n",
       " array([11, 23,  2,  2,  2,  2,  2,  2, 13, 23, 11,  8, 11, 18,  1,  1,  1,\n",
       "         1,  1,  1,  1,  1,  1]),\n",
       " array([ 2,  2,  2,  2,  2,  2, 13,  1,  1,  1,  1,  1,  1]),\n",
       " array([11, 23, 20, 11,  8,  8,  5,  5,  1,  1,  1,  1]),\n",
       " array([11, 11, 11, 21, 11,  1,  1,  1,  1,  1,  1,  1,  1]),\n",
       " array([11, 23,  6, 14, 23, 11, 19, 11,  3,  2, 18,  2,  2,  2,  2,  2,  2,\n",
       "        12, 12,  1,  1,  1,  1,  1,  1,  1,  1,  1,  1,  1,  1]),\n",
       " array([11, 11, 11, 11,  1,  1,  1,  1,  1,  1,  1,  1,  1,  1]),\n",
       " array([11, 11,  2,  2,  2,  2,  2,  2, 13,  1,  1,  1,  1,  1,  1,  1,  1,\n",
       "         1,  1]),\n",
       " array([11,  3,  2,  2, 12,  2,  1,  1,  1,  1,  1,  1]),\n",
       " array([11, 23,  2,  2,  2,  2,  2,  2,  3,  1,  1,  1,  1,  1,  1,  1,  1,\n",
       "         1]),\n",
       " array([ 2,  2,  2,  2,  2,  2, 13,  8,  1,  1,  1,  1,  1]),\n",
       " array([11, 11, 11, 11, 11, 11,  1,  1,  1,  1,  1,  1,  1,  1,  1,  1,  1,\n",
       "         1,  1,  1]),\n",
       " array([ 2,  2,  2,  2,  2,  2,  2,  2,  2,  2, 13,  1,  1,  1,  1,  1,  1,\n",
       "         1,  1]),\n",
       " array([11, 11, 11, 11, 11,  1, 11, 11, 11,  1,  1,  1,  1,  1,  1,  1,  1,\n",
       "         1,  1,  1,  1,  1,  1,  1,  1,  1]),\n",
       " array([11, 11,  3, 11, 11,  1,  1,  1,  1,  1,  1,  1,  1,  1,  1,  1]),\n",
       " array([ 2,  2,  2,  2,  2,  2,  2, 18,  2,  2,  2,  2,  2,  2,  2, 18,  3,\n",
       "         1,  1,  1,  1,  1,  1,  1,  1,  1]),\n",
       " array([11, 11, 11, 11, 11,  2,  2,  2,  2,  2,  2,  1,  1,  1,  1,  1,  1,\n",
       "         1,  1,  1,  1,  1,  1,  1,  1,  1,  1]),\n",
       " array([11, 11, 11, 11, 23, 16, 18, 11, 11, 11,  1,  1,  1,  1,  1,  1,  1,\n",
       "         1,  1,  1,  1,  1,  1,  1,  1,  1]),\n",
       " array([11, 11,  2,  2,  2,  2,  2,  2,  1,  1,  1,  1,  1,  1,  1,  1,  1,\n",
       "         1]),\n",
       " array([11, 11,  2,  2,  2,  2,  2,  2,  2,  2,  2,  2,  1,  1,  1,  1,  1,\n",
       "         1,  1,  1,  1,  1,  1,  1]),\n",
       " array([2, 2, 2, 2, 2, 2, 2, 1, 1, 1, 1, 1, 1, 1, 1]),\n",
       " array([11, 11, 11, 11, 11, 16, 18, 11,  1,  1,  1,  1,  1,  1,  1,  1,  1,\n",
       "         1,  1,  1,  1,  1]),\n",
       " array([ 2,  2, 22,  2,  2, 22,  1,  1,  1,  1,  1,  1,  1,  1]),\n",
       " array([11, 11, 11, 11,  3,  4,  4,  1,  1,  1,  1,  1,  1,  1,  1,  1]),\n",
       " array([11,  2,  2,  2,  2,  2,  2,  3,  4,  4,  1,  1,  1,  1,  1,  1,  1]),\n",
       " array([ 2,  2,  2,  2,  2,  2,  2,  2,  2,  2, 13,  1,  1,  1,  1,  1,  1,\n",
       "         1,  1]),\n",
       " array([2, 2, 2, 2, 2, 2, 8, 8, 8, 8, 8, 8]),\n",
       " array([11,  2,  2, 12,  2, 12,  2, 23, 16, 18,  3, 11, 11,  3, 11, 11, 11,\n",
       "         1,  1,  1,  1,  1,  1,  1,  1,  1,  1,  1,  1,  1,  1,  1,  1,  1,\n",
       "         1]),\n",
       " array([11, 11,  1, 20,  5,  5,  5, 13,  1,  1,  1,  1]),\n",
       " array([ 2,  2,  2,  2,  2,  2, 22,  2,  2,  2,  2,  2,  2, 22,  1,  1,  1,\n",
       "         1,  1,  1,  1,  1]),\n",
       " array([11, 20,  5,  5,  5, 13,  1,  1,  1]),\n",
       " array([11, 23, 11, 11, 13,  1,  1,  1,  1,  1,  1,  1,  1]),\n",
       " array([11, 23, 11, 20, 23, 11, 23, 11, 23, 11,  1,  1,  1,  1,  1,  1,  1,\n",
       "         1,  1,  1,  1,  1,  1,  1]),\n",
       " array([2, 2, 2, 2, 2, 2, 2, 2, 2, 2, 2, 2, 8, 8, 8, 8, 1, 1, 1, 1, 1, 1]),\n",
       " array([11, 11, 11, 11, 11, 11, 10,  1,  1,  1,  1,  1,  1,  1,  1,  1,  1,\n",
       "         1,  1,  1]),\n",
       " array([ 2,  2,  2,  2,  2,  2,  2, 18,  2,  2,  2,  2,  2,  2,  2, 18, 13,\n",
       "         3,  1,  1,  1,  1,  1,  1,  1,  1,  1]),\n",
       " array([11, 11, 11, 11, 23, 11, 11, 11, 11,  1,  1,  1,  1,  1,  1,  1,  1,\n",
       "         1,  1,  1,  1,  1,  1,  1,  1,  1,  1]),\n",
       " array([11, 16, 11, 11, 11, 20, 11, 11, 11, 23, 16, 18, 11, 11,  1,  1,  1,\n",
       "         1,  1,  1,  1,  1,  1,  1,  1,  1,  1,  1,  1,  1,  1,  1,  1,  1]),\n",
       " array([11, 11, 11, 11, 11, 11, 11, 16, 18, 23, 11,  1,  1,  1,  1,  1,  1,\n",
       "         1,  1,  1,  1,  1,  1,  1,  1,  1,  1,  1,  1]),\n",
       " array([11, 16,  8,  8,  8,  1]),\n",
       " array([11, 11, 11,  2,  2,  2,  2,  2,  2, 13,  1,  1,  1,  1,  1,  1,  1,\n",
       "         1,  1,  1,  1,  1]),\n",
       " array([ 2,  2,  2,  2,  2,  2,  8,  8, 22,  2,  2,  2,  2,  2,  2,  8,  8,\n",
       "         8,  8, 22,  1,  1]),\n",
       " array([ 2,  2,  2,  2,  2,  2, 11,  8,  1,  1,  1,  1,  1,  1,  1]),\n",
       " array([ 2,  2,  2,  2,  2,  2,  2, 13,  1,  1,  1,  1,  1,  1,  1,  1,  1,\n",
       "         1,  1,  1,  1,  1]),\n",
       " array([11, 11, 11, 23, 16, 18, 11, 11,  1,  1,  1,  1,  1,  1,  1,  1,  1,\n",
       "         1,  1,  1]),\n",
       " array([ 2,  2,  2,  2,  2,  2, 13, 11, 18,  1,  1,  1,  1,  1,  1]),\n",
       " array([2, 2, 2, 2, 2, 2, 3, 4, 4, 3, 1, 1, 1, 1, 1, 1]),\n",
       " array([11, 11, 11, 11, 11,  1,  1,  1,  1,  1,  1,  1,  1]),\n",
       " array([11, 11, 11, 11, 11, 10,  1,  1,  1,  1,  1,  1,  1,  1,  1,  1,  1]),\n",
       " array([11,  3, 11, 11, 11, 23, 11,  2,  2,  2,  2,  2,  2,  2,  2,  2,  2,\n",
       "         2,  2,  1,  1,  1,  1,  1,  1,  1,  1,  1,  1,  1,  1,  1,  1,  1,\n",
       "         1,  1,  1,  1,  1,  1]),\n",
       " array([11, 20,  5,  5,  5,  8,  1,  1]),\n",
       " array([2, 2, 2, 3, 2, 1, 1, 1, 1, 1, 1, 1, 1, 1]),\n",
       " array([ 2,  2,  2,  2,  2,  2,  2, 18,  3,  2, 18,  1,  1,  1,  1,  1]),\n",
       " array([11, 11, 11, 13,  1,  1,  1,  1,  1,  1]),\n",
       " array([11, 11, 11, 11, 11,  1,  1,  1,  1,  1,  1,  1,  1,  1,  1]),\n",
       " array([ 2,  2,  2,  2,  2,  2,  2, 18,  2,  2,  2,  2,  2,  2,  2, 18,  3,\n",
       "        11, 11, 13,  1,  1,  1,  1,  1,  1,  1,  1,  1,  1,  1,  1,  1]),\n",
       " array([11,  2,  2,  2,  2,  2,  2, 11, 18,  1,  1,  1,  1,  1,  1,  1,  1]),\n",
       " array([2, 2, 2, 2, 2, 2, 9, 1, 1, 1, 1, 1]),\n",
       " array([11, 11, 11, 11, 11, 23, 11, 18,  1,  1,  1,  1,  1,  1,  1,  1,  1,\n",
       "         1,  1,  1]),\n",
       " array([11, 11, 11, 23, 16, 18, 11,  1,  1,  1,  1,  1,  1,  1,  1,  1,  1]),\n",
       " array([11, 11, 11, 11, 23, 11, 11,  1, 11, 13,  1,  1,  1,  1,  1,  1,  1,\n",
       "         1,  1,  1,  1,  1,  1,  1,  1]),\n",
       " array([11, 11, 11, 11, 11, 18,  1,  1,  1,  1,  1,  1,  1,  1,  1,  1]),\n",
       " array([11, 11, 23, 11, 11, 23, 11, 11,  1,  1,  1,  1,  1,  1,  1,  1,  1,\n",
       "         1,  1,  1,  1,  1]),\n",
       " array([2, 2, 2, 2, 2, 2, 8, 8, 8, 8, 8, 2, 2, 2, 2, 2, 2, 8, 8, 8, 8, 8]),\n",
       " array([11,  5,  8,  1,  1]),\n",
       " array([2, 2, 2, 2, 2, 2, 2, 2, 2, 2, 1, 1, 1, 1, 1, 1, 1, 1]),\n",
       " array([11, 20, 11, 11,  8,  1,  1,  1,  1,  1,  1,  1,  1,  1]),\n",
       " array([11, 16, 18, 23, 11, 11, 11, 23, 16, 18, 11, 23, 16, 18, 11,  1,  1,\n",
       "         1,  1,  1,  1,  1,  1,  1,  1,  1,  1,  1,  1]),\n",
       " array([11, 11, 11, 11, 11, 11, 23,  3,  4,  4,  1,  1,  1,  1,  1,  1,  1,\n",
       "         1,  1,  1,  1,  1,  1]),\n",
       " array([11, 16,  2,  2,  2,  2,  2,  2,  2,  2,  2,  2,  2,  2,  1,  1,  1,\n",
       "         1,  1,  1,  1,  1,  1,  1,  1,  1]),\n",
       " array([11, 11, 11, 20, 11, 11, 13,  1,  1,  1,  1,  1,  1,  1,  1,  1,  1,\n",
       "         1,  1,  1,  1]),\n",
       " array([11, 16, 18,  2,  2,  2,  2,  2,  2,  1,  1,  1,  1,  1,  1,  1,  1]),\n",
       " array([11, 11,  1,  2,  2,  2,  2,  2,  2,  2,  2,  2,  2, 23, 11, 16, 18,\n",
       "        13,  1,  1,  1,  1,  1,  1,  1,  1,  1,  1,  1,  1,  1]),\n",
       " array([11, 11, 11, 11, 11, 16, 18,  3,  1,  1,  1,  1,  1,  1,  1,  1,  1,\n",
       "         1,  1,  1,  1]),\n",
       " array([11, 11, 23, 11, 23, 11, 11, 23,  2,  2,  2,  2,  2,  2,  1,  1,  1,\n",
       "         1,  1,  1,  1,  1,  1,  1,  1,  1,  1,  1,  1,  1]),\n",
       " array([11, 20,  8,  8,  8,  1,  1,  1]),\n",
       " array([11,  2,  2,  2,  2,  2,  2, 11,  1,  1,  1,  1,  1,  1,  1,  1,  1,\n",
       "         1]),\n",
       " array([11, 11,  1,  2,  2,  2,  2,  2,  2,  5,  2,  2,  2,  2,  2,  2, 16,\n",
       "        18, 13,  1,  1,  1,  1,  1,  1,  1,  1,  1,  1,  1,  1]),\n",
       " array([2, 2, 2, 2, 2, 2, 1, 1, 1, 1, 1, 1, 1, 1, 1, 1, 1, 1]),\n",
       " array([11, 11, 11, 11, 15,  1,  1,  1,  1,  1,  1,  1,  1,  1,  1]),\n",
       " array([11,  9,  1,  1,  1]),\n",
       " array([11, 16, 11, 11, 11, 16, 11, 11, 13, 11, 11,  1,  1,  1,  1,  1,  1,\n",
       "         1,  1,  1,  1,  1,  1,  1,  1,  1,  1,  1,  1]),\n",
       " array([11, 11,  8, 11,  8,  1,  1,  1,  1,  1,  1]),\n",
       " array([11, 11, 11, 16, 18, 11,  1,  1,  1,  1,  1,  1,  1,  1,  1,  1]),\n",
       " array([11, 11, 11,  1,  1,  1,  1,  1,  1]),\n",
       " array([11, 11, 11, 11, 11, 11, 11,  8,  1,  1,  1,  1,  1,  1,  1,  1,  1,\n",
       "         1,  1,  1,  1,  1,  1])]"
      ]
     },
     "execution_count": 149,
     "metadata": {},
     "output_type": "execute_result"
    }
   ],
   "source": []
  },
  {
   "cell_type": "code",
   "execution_count": 150,
   "metadata": {
    "ExecuteTime": {
     "end_time": "2019-03-30T20:40:33.814838Z",
     "start_time": "2019-03-30T20:40:15.972826Z"
    }
   },
   "outputs": [],
   "source": [
    "preds = get_predictions(\n",
    "    gaussian_thetas[-1],\n",
    "    gaussian_typings[tuple(gaussian_trees[-1].ordered_nodes)])"
   ]
  },
  {
   "cell_type": "code",
   "execution_count": 151,
   "metadata": {
    "ExecuteTime": {
     "end_time": "2019-03-30T20:40:51.087654Z",
     "start_time": "2019-03-30T20:40:51.084541Z"
    }
   },
   "outputs": [],
   "source": [
    "def rmse(x, y):\n",
    "    return np.sqrt(np.mean((x - y)**2))"
   ]
  },
  {
   "cell_type": "code",
   "execution_count": 152,
   "metadata": {
    "ExecuteTime": {
     "end_time": "2019-03-30T20:40:57.001035Z",
     "start_time": "2019-03-30T20:40:56.996833Z"
    }
   },
   "outputs": [
    {
     "data": {
      "text/plain": [
       "1.8094774824574047"
      ]
     },
     "execution_count": 152,
     "metadata": {},
     "output_type": "execute_result"
    }
   ],
   "source": [
    "rmse(preds, expt_means)"
   ]
  },
  {
   "cell_type": "code",
   "execution_count": null,
   "metadata": {},
   "outputs": [],
   "source": []
  },
  {
   "cell_type": "code",
   "execution_count": 88,
   "metadata": {
    "ExecuteTime": {
     "end_time": "2019-03-30T20:30:08.824406Z",
     "start_time": "2019-03-30T20:30:08.820290Z"
    }
   },
   "outputs": [
    {
     "data": {
      "text/plain": [
       "array([0.15      , 0.06597002, 0.17384848, 0.16261159, 0.16663971,\n",
       "       0.27500468, 0.18953871, 0.24621566, 0.15795924, 0.17926987,\n",
       "       0.25868332, 0.8       , 0.64642206, 0.87533219, 0.97683573,\n",
       "       0.83096256, 0.63202198, 0.67355931, 0.80857691, 1.37918713,\n",
       "       0.98735107, 0.73669832])"
      ]
     },
     "execution_count": 88,
     "metadata": {},
     "output_type": "execute_result"
    }
   ],
   "source": [
    "gaussian_trajs[0][0]"
   ]
  },
  {
   "cell_type": "code",
   "execution_count": 89,
   "metadata": {
    "ExecuteTime": {
     "end_time": "2019-03-30T20:30:17.064304Z",
     "start_time": "2019-03-30T20:30:17.059640Z"
    }
   },
   "outputs": [
    {
     "data": {
      "text/plain": [
       "*          (r = 1.50 Å, s = 0.80)\n",
       "|-[#1]     (r = 0.66 Å, s = 0.65)\n",
       "|-[#6]     (r = 1.75 Å, s = 0.88)\n",
       "|-[#7]     (r = 1.63 Å, s = 0.98)\n",
       "|-[#8]     (r = 1.67 Å, s = 0.83)\n",
       "|-[#9]     (r = 2.74 Å, s = 0.63)\n",
       "|-[#15]    (r = 1.89 Å, s = 0.67)\n",
       "|-[#16]    (r = 2.47 Å, s = 0.81)\n",
       "|-[#17]    (r = 1.57 Å, s = 1.38)\n",
       "|-[#35]    (r = 1.79 Å, s = 0.99)\n",
       "|-[#53]    (r = 2.58 Å, s = 0.73)"
      ]
     },
     "execution_count": 89,
     "metadata": {},
     "output_type": "execute_result"
    }
   ],
   "source": [
    "gaussian_trees[0]"
   ]
  },
  {
   "cell_type": "code",
   "execution_count": 175,
   "metadata": {
    "ExecuteTime": {
     "end_time": "2019-03-30T21:14:00.243712Z",
     "start_time": "2019-03-30T21:05:08.170007Z"
    }
   },
   "outputs": [
    {
     "name": "stderr",
     "output_type": "stream",
     "text": [
      "100%|██████████| 800/800 [08:52<00:00,  1.42it/s]\n"
     ]
    }
   ],
   "source": [
    "gaussian_prediction_traj = []\n",
    "for i in tqdm(range(len(gaussian_trees))[::5]):\n",
    "    gaussian_prediction_traj.append(get_predictions(\n",
    "        gaussian_thetas[i],\n",
    "        gaussian_typings[tuple(gaussian_trees[i].ordered_nodes)]))"
   ]
  },
  {
   "cell_type": "code",
   "execution_count": 176,
   "metadata": {
    "ExecuteTime": {
     "end_time": "2019-03-30T21:14:01.216212Z",
     "start_time": "2019-03-30T21:14:00.959357Z"
    }
   },
   "outputs": [
    {
     "data": {
      "text/plain": [
       "[<matplotlib.lines.Line2D at 0x1a5fd69048>]"
      ]
     },
     "execution_count": 176,
     "metadata": {},
     "output_type": "execute_result"
    },
    {
     "data": {
      "image/png": "[encoded data removed]",
      "text/plain": [
       "<Figure size 432x288 with 1 Axes>"
      ]
     },
     "metadata": {
      "needs_background": "light"
     },
     "output_type": "display_data"
    }
   ],
   "source": [
    "diag = np.linspace(-15,5)\n",
    "plt.scatter(expt_means, gaussian_prediction_traj[-1])\n",
    "plt.plot(diag, diag, c='grey')"
   ]
  },
  {
   "cell_type": "code",
   "execution_count": 177,
   "metadata": {
    "ExecuteTime": {
     "end_time": "2019-03-30T21:14:02.429823Z",
     "start_time": "2019-03-30T21:14:02.094206Z"
    }
   },
   "outputs": [
    {
     "data": {
      "text/plain": [
       "[<matplotlib.lines.Line2D at 0x1a4bd9e978>]"
      ]
     },
     "execution_count": 177,
     "metadata": {},
     "output_type": "execute_result"
    },
    {
     "data": {
      "image/png": "[encoded data removed]",
      "text/plain": [
       "<Figure size 432x288 with 1 Axes>"
      ]
     },
     "metadata": {
      "needs_background": "light"
     },
     "output_type": "display_data"
    }
   ],
   "source": [
    "diag = np.linspace(-15,5)\n",
    "plt.scatter(expt_means, unreduced_gaussian_prediction_traj[-1])\n",
    "plt.plot(diag, diag, c='grey')"
   ]
  },
  {
   "cell_type": "code",
   "execution_count": 178,
   "metadata": {
    "ExecuteTime": {
     "end_time": "2019-03-30T21:14:04.872503Z",
     "start_time": "2019-03-30T21:14:04.869448Z"
    }
   },
   "outputs": [],
   "source": [
    "# oh, that's not good -- I had accidentally fit to a likelihood that was defined in terms of kcal/mol quantity minus unitless quantity...\n",
    "\n"
   ]
  },
  {
   "cell_type": "code",
   "execution_count": 179,
   "metadata": {
    "ExecuteTime": {
     "end_time": "2019-03-30T21:14:05.094152Z",
     "start_time": "2019-03-30T21:14:05.081829Z"
    }
   },
   "outputs": [],
   "source": [
    "unreduced_gaussian_prediction_traj = unreduce(np.array(gaussian_prediction_traj))"
   ]
  },
  {
   "cell_type": "code",
   "execution_count": 180,
   "metadata": {
    "ExecuteTime": {
     "end_time": "2019-03-30T21:14:06.010848Z",
     "start_time": "2019-03-30T21:14:05.893527Z"
    }
   },
   "outputs": [
    {
     "data": {
      "text/plain": [
       "800"
      ]
     },
     "execution_count": 180,
     "metadata": {},
     "output_type": "execute_result"
    }
   ],
   "source": [
    "len(set([tuple(p) for p in unreduced_gaussian_prediction_traj]))"
   ]
  },
  {
   "cell_type": "code",
   "execution_count": 181,
   "metadata": {
    "ExecuteTime": {
     "end_time": "2019-03-30T21:14:10.765543Z",
     "start_time": "2019-03-30T21:14:06.905480Z"
    }
   },
   "outputs": [
    {
     "data": {
      "text/plain": [
       "42"
      ]
     },
     "execution_count": 181,
     "metadata": {},
     "output_type": "execute_result"
    }
   ],
   "source": [
    "len(set([tuple(t.get_radii()) for t in gaussian_trees]))"
   ]
  },
  {
   "cell_type": "code",
   "execution_count": 182,
   "metadata": {
    "ExecuteTime": {
     "end_time": "2019-03-30T21:14:12.896319Z",
     "start_time": "2019-03-30T21:14:12.884784Z"
    }
   },
   "outputs": [],
   "source": [
    "np.save('march29_gaussian_ll_rjmc_prediction_traj.npy', unreduced_gaussian_prediction_traj)"
   ]
  },
  {
   "cell_type": "code",
   "execution_count": 183,
   "metadata": {
    "ExecuteTime": {
     "end_time": "2019-03-30T21:14:14.229955Z",
     "start_time": "2019-03-30T21:14:13.895338Z"
    }
   },
   "outputs": [
    {
     "data": {
      "text/plain": [
       "[<matplotlib.lines.Line2D at 0x1a60159c18>]"
      ]
     },
     "execution_count": 183,
     "metadata": {},
     "output_type": "execute_result"
    },
    {
     "data": {
      "image/png": "[encoded data removed]",
      "text/plain": [
       "<Figure size 432x288 with 1 Axes>"
      ]
     },
     "metadata": {
      "needs_background": "light"
     },
     "output_type": "display_data"
    }
   ],
   "source": [
    "plt.plot([rmse(p, expt_means) for p in gaussian_prediction_traj])\n",
    "plt.plot([rmse(p, expt_means) for p in unreduced_gaussian_prediction_traj])"
   ]
  },
  {
   "cell_type": "code",
   "execution_count": 184,
   "metadata": {
    "ExecuteTime": {
     "end_time": "2019-03-30T21:14:17.658596Z",
     "start_time": "2019-03-30T21:14:17.652206Z"
    }
   },
   "outputs": [
    {
     "data": {
      "text/plain": [
       "2.2839381161986534"
      ]
     },
     "execution_count": 184,
     "metadata": {},
     "output_type": "execute_result"
    }
   ],
   "source": [
    "rmse(unreduced_gaussian_prediction_traj[-1], expt_means)"
   ]
  },
  {
   "cell_type": "code",
   "execution_count": 185,
   "metadata": {
    "ExecuteTime": {
     "end_time": "2019-03-30T21:14:21.794182Z",
     "start_time": "2019-03-30T21:14:21.785324Z"
    }
   },
   "outputs": [
    {
     "data": {
      "text/plain": [
       "1.8248480062636654"
      ]
     },
     "execution_count": 185,
     "metadata": {},
     "output_type": "execute_result"
    }
   ],
   "source": [
    "rmse(gaussian_prediction_traj[-1], expt_means)"
   ]
  },
  {
   "cell_type": "code",
   "execution_count": 186,
   "metadata": {
    "ExecuteTime": {
     "end_time": "2019-03-30T21:14:23.632100Z",
     "start_time": "2019-03-30T21:14:23.600972Z"
    }
   },
   "outputs": [],
   "source": [
    "train_inds = np.array([  1,   2,   3,   5,   6,   8,  10,  13,  16,  17,  18,  20,  21,\n",
    "        22,  23,  24,  28,  32,  33,  36,  37,  39,  41,  43,  44,  46,\n",
    "        48,  49,  51,  52,  54,  56,  57,  62,  64,  66,  68,  70,  73,\n",
    "        79,  82,  83,  84,  85,  92,  94,  97, 100, 101, 104, 105, 107,\n",
    "       109, 110, 111, 115, 117, 118, 119, 120, 121, 122, 123, 126, 129,\n",
    "       131, 132, 138, 139, 142, 143, 144, 145, 146, 151, 152, 154, 156,\n",
    "       157, 159, 162, 163, 164, 166, 172, 173, 175, 176, 177, 183, 184,\n",
    "       187, 188, 190, 195, 196, 199, 200, 201, 204, 205, 208, 214, 215,\n",
    "       216, 223, 226, 227, 229, 230, 232, 233, 238, 239, 240, 243, 244,\n",
    "       245, 246, 254, 255, 262, 263, 264, 266, 267, 270, 271, 273, 274,\n",
    "       275, 277, 278, 279, 289, 290, 291, 292, 295, 296, 298, 299, 301,\n",
    "       302, 303, 304, 305, 306, 307, 308, 311, 312, 319, 320, 321, 322,\n",
    "       324, 326, 328, 329, 333, 336, 337, 340, 341, 342, 345, 346, 347,\n",
    "       351, 353, 354, 357, 359, 360, 363, 366, 367, 369, 371, 374, 376,\n",
    "       379, 380, 382, 386, 391, 392, 393, 394, 395, 396, 397, 399, 400,\n",
    "       401, 402, 404, 408, 411, 412, 413, 414, 415, 417, 419, 420, 421,\n",
    "       428, 429, 430, 431, 432, 433, 434, 435, 436, 440, 441, 442, 443,\n",
    "       445, 447, 448, 452, 453, 455, 457, 458, 459, 461, 462, 463, 464,\n",
    "       466, 468, 469, 470, 471, 472, 474, 482, 483, 484, 485, 486, 487,\n",
    "       490, 491, 494, 495, 496, 499, 500, 502, 503, 509, 511, 516, 517,\n",
    "       519, 523, 524, 527, 528, 529, 530, 531, 533, 534, 538, 539, 541,\n",
    "       542, 543, 545, 546, 547, 548, 553, 561, 562, 565, 566, 568, 570,\n",
    "       573, 574, 577, 579, 580, 581, 583, 584, 585, 589, 590, 593, 594,\n",
    "       595, 596, 597, 603, 605, 606, 609, 615, 616, 617, 618, 619, 623,\n",
    "       624, 625, 628])"
   ]
  },
  {
   "cell_type": "code",
   "execution_count": 187,
   "metadata": {
    "ExecuteTime": {
     "end_time": "2019-03-30T21:14:23.822129Z",
     "start_time": "2019-03-30T21:14:23.788594Z"
    }
   },
   "outputs": [],
   "source": [
    "test_inds = np.array([  0,   4,   7,   9,  11,  12,  14,  15,  19,  25,  26,  27,  29,\n",
    "        30,  31,  34,  35,  38,  40,  42,  45,  47,  50,  53,  55,  58,\n",
    "        59,  60,  61,  63,  65,  67,  69,  71,  72,  74,  75,  76,  77,\n",
    "        78,  80,  81,  86,  87,  88,  89,  90,  91,  93,  95,  96,  98,\n",
    "        99, 102, 103, 106, 108, 112, 113, 114, 116, 124, 125, 127, 128,\n",
    "       130, 133, 134, 135, 136, 137, 140, 141, 147, 148, 149, 150, 153,\n",
    "       155, 158, 160, 161, 165, 167, 168, 169, 170, 171, 174, 178, 179,\n",
    "       180, 181, 182, 185, 186, 189, 191, 192, 193, 194, 197, 198, 202,\n",
    "       203, 206, 207, 209, 210, 211, 212, 213, 217, 218, 219, 220, 221,\n",
    "       222, 224, 225, 228, 231, 234, 235, 236, 237, 241, 242, 247, 248,\n",
    "       249, 250, 251, 252, 253, 256, 257, 258, 259, 260, 261, 265, 268,\n",
    "       269, 272, 276, 280, 281, 282, 283, 284, 285, 286, 287, 288, 293,\n",
    "       294, 297, 300, 309, 310, 313, 314, 315, 316, 317, 318, 323, 325,\n",
    "       327, 330, 331, 332, 334, 335, 338, 339, 343, 344, 348, 349, 350,\n",
    "       352, 355, 356, 358, 361, 362, 364, 365, 368, 370, 372, 373, 375,\n",
    "       377, 378, 381, 383, 384, 385, 387, 388, 389, 390, 398, 403, 405,\n",
    "       406, 407, 409, 410, 416, 418, 422, 423, 424, 425, 426, 427, 437,\n",
    "       438, 439, 444, 446, 449, 450, 451, 454, 456, 460, 465, 467, 473,\n",
    "       475, 476, 477, 478, 479, 480, 481, 488, 489, 492, 493, 497, 498,\n",
    "       501, 504, 505, 506, 507, 508, 510, 512, 513, 514, 515, 518, 520,\n",
    "       521, 522, 525, 526, 532, 535, 536, 537, 540, 544, 549, 550, 551,\n",
    "       552, 554, 555, 556, 557, 558, 559, 560, 563, 564, 567, 569, 571,\n",
    "       572, 575, 576, 578, 582, 586, 587, 588, 591, 592, 598, 599, 600,\n",
    "       601, 602, 604, 607, 608, 610, 611, 612, 613, 614, 620, 621, 622,\n",
    "       626, 627, 629, 630])"
   ]
  },
  {
   "cell_type": "code",
   "execution_count": 188,
   "metadata": {
    "ExecuteTime": {
     "end_time": "2019-03-30T21:14:25.761205Z",
     "start_time": "2019-03-30T21:14:25.670677Z"
    }
   },
   "outputs": [],
   "source": [
    "def train_rmse(preds):\n",
    "    return rmse(preds[train_inds], expt_means[train_inds])\n",
    "def test_rmse(preds):\n",
    "    return rmse(preds[test_inds], expt_means[test_inds])"
   ]
  },
  {
   "cell_type": "code",
   "execution_count": 189,
   "metadata": {
    "ExecuteTime": {
     "end_time": "2019-03-30T21:14:26.559540Z",
     "start_time": "2019-03-30T21:14:26.260978Z"
    }
   },
   "outputs": [
    {
     "data": {
      "text/plain": [
       "[<matplotlib.lines.Line2D at 0x1a60ff5f98>]"
      ]
     },
     "execution_count": 189,
     "metadata": {},
     "output_type": "execute_result"
    },
    {
     "data": {
      "image/png": "[encoded data removed]",
      "text/plain": [
       "<Figure size 432x288 with 1 Axes>"
      ]
     },
     "metadata": {
      "needs_background": "light"
     },
     "output_type": "display_data"
    }
   ],
   "source": [
    "gaussian_train_rmse_traj = np.array(list(map(train_rmse, gaussian_prediction_traj)))\n",
    "gaussian_test_rmse_traj = np.array(list(map(test_rmse, gaussian_prediction_traj)))\n",
    "\n",
    "plt.plot(gaussian_train_rmse_traj)\n",
    "plt.plot(gaussian_test_rmse_traj)"
   ]
  },
  {
   "cell_type": "code",
   "execution_count": 190,
   "metadata": {
    "ExecuteTime": {
     "end_time": "2019-03-30T21:14:45.881318Z",
     "start_time": "2019-03-30T21:14:45.873855Z"
    }
   },
   "outputs": [
    {
     "data": {
      "text/plain": [
       "array([0.19636951, 0.05873303, 0.18626731, 0.18259716, 0.11016162,\n",
       "       0.26413733, 0.22988651, 0.25650028, 0.13535795, 0.18722107,\n",
       "       0.25054414, 0.17566919, 0.18656397, 0.15409356, 0.27172767,\n",
       "       0.26561169, 0.18436951, 0.23144501, 0.23119033, 0.20742235,\n",
       "       0.20459888, 0.18863809, 0.1694157 , 0.20575973])"
      ]
     },
     "execution_count": 190,
     "metadata": {},
     "output_type": "execute_result"
    }
   ],
   "source": [
    "gaussian_trees[-1].get_radii()"
   ]
  },
  {
   "cell_type": "code",
   "execution_count": 191,
   "metadata": {
    "ExecuteTime": {
     "end_time": "2019-03-30T21:14:48.599308Z",
     "start_time": "2019-03-30T21:14:48.593513Z"
    }
   },
   "outputs": [
    {
     "data": {
      "text/plain": [
       "800"
      ]
     },
     "execution_count": 191,
     "metadata": {},
     "output_type": "execute_result"
    }
   ],
   "source": [
    "len(set(gaussian_test_rmse_traj))"
   ]
  },
  {
   "cell_type": "markdown",
   "metadata": {},
   "source": [
    "# Make a movie of the atom-typing scheme!"
   ]
  },
  {
   "cell_type": "code",
   "execution_count": 50,
   "metadata": {
    "ExecuteTime": {
     "end_time": "2019-03-30T08:01:51.373754Z",
     "start_time": "2019-03-30T08:01:51.365965Z"
    }
   },
   "outputs": [
    {
     "data": {
      "text/plain": [
       "[('*', 0),\n",
       " ('[#1]', 5948),\n",
       " ('[#6]', 4123),\n",
       " ('[#7]', 220),\n",
       " ('[#8]', 630),\n",
       " ('[#9]', 101),\n",
       " ('[#15]', 15),\n",
       " ('[#16]', 52),\n",
       " ('[#17]', 303),\n",
       " ('[#35]', 29),\n",
       " ('[#53]', 12)]"
      ]
     },
     "execution_count": 50,
     "metadata": {},
     "output_type": "execute_result"
    }
   ],
   "source": [
    "list(zip(discrete_trees[0], np.bincount(np.hstack(typings[0]))))"
   ]
  },
  {
   "cell_type": "code",
   "execution_count": 51,
   "metadata": {
    "ExecuteTime": {
     "end_time": "2019-03-30T08:02:02.047756Z",
     "start_time": "2019-03-30T08:02:02.041300Z"
    }
   },
   "outputs": [
    {
     "data": {
      "text/plain": [
       "*                   (r = 0.98 Å, s = 0.82)\n",
       "|-[#1]              (r = 0.62 Å, s = 0.77)\n",
       "|-[#6]              (r = 1.79 Å, s = 0.93)\n",
       "  |-[#6&X3]         (r = 1.90 Å, s = 0.85)\n",
       "|-[#7]              (r = 1.95 Å, s = 0.88)\n",
       "  |-[#7&A]          (r = 1.86 Å, s = 0.87)\n",
       "|-[#8]              (r = 1.10 Å, s = 0.92)\n",
       "  |-[#8&+0]         (r = 1.63 Å, s = 0.89)\n",
       "    |-[#8&+0&H0]    (r = 1.93 Å, s = 0.96)\n",
       "|-[#9]              (r = 2.49 Å, s = 0.61)\n",
       "|-[#15]             (r = 2.15 Å, s = 0.64)\n",
       "|-[#16]             (r = 2.82 Å, s = 0.66)\n",
       "  |-[#16&X2]        (r = 2.02 Å, s = 0.96)\n",
       "|-[#17]             (r = 1.51 Å, s = 1.46)\n",
       "|-[#35]             (r = 1.66 Å, s = 1.19)\n",
       "|-[#53]             (r = 2.48 Å, s = 0.60)"
      ]
     },
     "execution_count": 51,
     "metadata": {},
     "output_type": "execute_result"
    }
   ],
   "source": [
    "student_t_trees[-1]"
   ]
  },
  {
   "cell_type": "code",
   "execution_count": 192,
   "metadata": {
    "ExecuteTime": {
     "end_time": "2019-03-30T21:14:53.682421Z",
     "start_time": "2019-03-30T21:14:53.675456Z"
    }
   },
   "outputs": [],
   "source": [
    "def expt_unc_contained(preds, i, desired_coverage=0.95):\n",
    "    alpha = 100 * ((1 - desired_coverage) / 2)\n",
    "    upper, lower = norm.cdf(np.percentile(preds, q=[100 - alpha, alpha]), loc=expt_means[i], scale=expt_uncs[i])\n",
    "    return upper - lower"
   ]
  },
  {
   "cell_type": "code",
   "execution_count": 193,
   "metadata": {
    "ExecuteTime": {
     "end_time": "2019-03-30T21:14:53.869892Z",
     "start_time": "2019-03-30T21:14:53.860594Z"
    }
   },
   "outputs": [],
   "source": [
    "gaussian_prediction_traj = np.array(gaussian_prediction_traj)"
   ]
  },
  {
   "cell_type": "code",
   "execution_count": 194,
   "metadata": {
    "ExecuteTime": {
     "end_time": "2019-03-30T21:15:06.056479Z",
     "start_time": "2019-03-30T21:14:54.491608Z"
    }
   },
   "outputs": [],
   "source": [
    "from scipy.stats import norm\n",
    "desired_coverages = np.linspace(0,1)\n",
    "actual_coverages = np.vstack([np.array([expt_unc_contained(gaussian_prediction_traj[:,i], i, desired_coverage=p) for i in range(len(mols))]) for p in desired_coverages])"
   ]
  },
  {
   "cell_type": "code",
   "execution_count": 195,
   "metadata": {
    "ExecuteTime": {
     "end_time": "2019-03-30T21:15:06.318411Z",
     "start_time": "2019-03-30T21:15:06.059857Z"
    }
   },
   "outputs": [
    {
     "data": {
      "text/plain": [
       "<matplotlib.collections.PolyCollection at 0x1a6089a240>"
      ]
     },
     "execution_count": 195,
     "metadata": {},
     "output_type": "execute_result"
    },
    {
     "data": {
      "image/png": "[encoded data removed]",
      "text/plain": [
       "<Figure size 432x288 with 1 Axes>"
      ]
     },
     "metadata": {
      "needs_background": "light"
     },
     "output_type": "display_data"
    }
   ],
   "source": [
    "from bayes_implicit_solvent.utils import remove_top_right_spines\n",
    "ax = plt.subplot(1,1,1)\n",
    "remove_top_right_spines(ax)\n",
    "plt.plot(desired_coverages, desired_coverages, c='grey', linestyle='--')\n",
    "\n",
    "plt.plot(desired_coverages, np.mean(actual_coverages, 1), label='gaussian')\n",
    "plt.fill_between(desired_coverages, np.mean(actual_coverages, 1), alpha=0.25)"
   ]
  },
  {
   "cell_type": "code",
   "execution_count": 196,
   "metadata": {
    "ExecuteTime": {
     "end_time": "2019-03-30T21:17:30.811573Z",
     "start_time": "2019-03-30T21:17:30.805287Z"
    }
   },
   "outputs": [
    {
     "data": {
      "text/plain": [
       "0.1330546091247614"
      ]
     },
     "execution_count": 196,
     "metadata": {},
     "output_type": "execute_result"
    }
   ],
   "source": [
    "np.trapz(np.mean(actual_coverages, 1), desired_coverages)"
   ]
  },
  {
   "cell_type": "code",
   "execution_count": 206,
   "metadata": {
    "ExecuteTime": {
     "end_time": "2019-03-30T21:31:01.876544Z",
     "start_time": "2019-03-30T21:21:34.652031Z"
    }
   },
   "outputs": [
    {
     "name": "stderr",
     "output_type": "stream",
     "text": [
      "100%|██████████| 800/800 [09:27<00:00,  1.40it/s]\n"
     ]
    }
   ],
   "source": [
    "student_t_prediction_traj = []\n",
    "for i in tqdm(range(len(student_t_trees))[::5]):\n",
    "    student_t_prediction_traj.append(get_predictions(\n",
    "        student_t_thetas[i],\n",
    "        t_typings[tuple(student_t_trees[i].ordered_nodes)]))"
   ]
  },
  {
   "cell_type": "code",
   "execution_count": 208,
   "metadata": {
    "ExecuteTime": {
     "end_time": "2019-03-30T21:31:16.134098Z",
     "start_time": "2019-03-30T21:31:16.127187Z"
    }
   },
   "outputs": [],
   "source": [
    "student_t_prediction_traj = np.array(student_t_prediction_traj)"
   ]
  },
  {
   "cell_type": "code",
   "execution_count": 209,
   "metadata": {
    "ExecuteTime": {
     "end_time": "2019-03-30T21:31:30.759097Z",
     "start_time": "2019-03-30T21:31:17.016331Z"
    }
   },
   "outputs": [],
   "source": [
    "t_actual_coverages = np.vstack([np.array([expt_unc_contained(student_t_prediction_traj[:,i], i, desired_coverage=p) for i in range(len(mols))]) for p in desired_coverages])"
   ]
  },
  {
   "cell_type": "code",
   "execution_count": 210,
   "metadata": {
    "ExecuteTime": {
     "end_time": "2019-03-30T21:31:31.156365Z",
     "start_time": "2019-03-30T21:31:30.763275Z"
    }
   },
   "outputs": [
    {
     "data": {
      "text/plain": [
       "(0, 1)"
      ]
     },
     "execution_count": 210,
     "metadata": {},
     "output_type": "execute_result"
    },
    {
     "data": {
      "image/png": "[encoded data removed]",
      "text/plain": [
       "<Figure size 432x288 with 1 Axes>"
      ]
     },
     "metadata": {
      "needs_background": "light"
     },
     "output_type": "display_data"
    }
   ],
   "source": [
    "ax = plt.subplot(1,1,1)\n",
    "remove_top_right_spines(ax)\n",
    "plt.plot(desired_coverages, desired_coverages, c='grey', linestyle='--')\n",
    "\n",
    "plt.plot(desired_coverages, np.mean(actual_coverages, 1), label='gaussian')\n",
    "plt.fill_between(desired_coverages, np.mean(actual_coverages, 1), alpha=0.25)\n",
    "\n",
    "plt.plot(desired_coverages, np.mean(t_actual_coverages, 1), label='student-t')\n",
    "plt.fill_between(desired_coverages, np.mean(t_actual_coverages, 1), alpha=0.25)\n",
    "\n",
    "plt.legend()\n",
    "plt.xlabel('desired coverage probability')\n",
    "plt.ylabel('actual coverage probability')\n",
    "plt.xlim(0,1)\n",
    "plt.ylim(0,1)"
   ]
  },
  {
   "cell_type": "code",
   "execution_count": 211,
   "metadata": {
    "ExecuteTime": {
     "end_time": "2019-03-30T21:32:27.169377Z",
     "start_time": "2019-03-30T21:32:26.683390Z"
    }
   },
   "outputs": [
    {
     "data": {
      "text/plain": [
       "[<matplotlib.lines.Line2D at 0x1a38980b70>]"
      ]
     },
     "execution_count": 211,
     "metadata": {},
     "output_type": "execute_result"
    },
    {
     "data": {
      "image/png": "[encoded data removed]",
      "text/plain": [
       "<Figure size 432x288 with 1 Axes>"
      ]
     },
     "metadata": {
      "needs_background": "light"
     },
     "output_type": "display_data"
    }
   ],
   "source": [
    "gaussian_train_rmse_traj = np.array(list(map(train_rmse, gaussian_prediction_traj)))\n",
    "gaussian_test_rmse_traj = np.array(list(map(test_rmse, gaussian_prediction_traj)))\n",
    "\n",
    "t_train_rmse_traj = np.array(list(map(train_rmse, student_t_prediction_traj)))\n",
    "t_test_rmse_traj = np.array(list(map(test_rmse, student_t_prediction_traj)))\n",
    "\n",
    "plt.plot(gaussian_train_rmse_traj)\n",
    "plt.plot(gaussian_test_rmse_traj)\n",
    "\n",
    "plt.plot(t_train_rmse_traj)\n",
    "plt.plot(t_test_rmse_traj)"
   ]
  },
  {
   "cell_type": "code",
   "execution_count": 212,
   "metadata": {
    "ExecuteTime": {
     "end_time": "2019-03-30T21:32:54.104481Z",
     "start_time": "2019-03-30T21:32:54.096509Z"
    }
   },
   "outputs": [
    {
     "data": {
      "text/plain": [
       "2.089022410070848"
      ]
     },
     "execution_count": 212,
     "metadata": {},
     "output_type": "execute_result"
    }
   ],
   "source": [
    "t_test_rmse_traj[-1]"
   ]
  },
  {
   "cell_type": "code",
   "execution_count": 216,
   "metadata": {
    "ExecuteTime": {
     "end_time": "2019-03-30T21:33:49.088063Z",
     "start_time": "2019-03-30T21:33:49.079422Z"
    }
   },
   "outputs": [
    {
     "data": {
      "text/plain": [
       "1.4347409079761044"
      ]
     },
     "execution_count": 216,
     "metadata": {},
     "output_type": "execute_result"
    }
   ],
   "source": [
    "train_rmse(np.mean(student_t_prediction_traj[10:], 0))"
   ]
  },
  {
   "cell_type": "code",
   "execution_count": 218,
   "metadata": {
    "ExecuteTime": {
     "end_time": "2019-03-30T21:34:14.031905Z",
     "start_time": "2019-03-30T21:34:14.023595Z"
    }
   },
   "outputs": [
    {
     "data": {
      "text/plain": [
       "1.4278416872719142"
      ]
     },
     "execution_count": 218,
     "metadata": {},
     "output_type": "execute_result"
    }
   ],
   "source": [
    "train_rmse(np.mean(gaussian_prediction_traj[10:], 0))"
   ]
  },
  {
   "cell_type": "code",
   "execution_count": 215,
   "metadata": {
    "ExecuteTime": {
     "end_time": "2019-03-30T21:33:47.370893Z",
     "start_time": "2019-03-30T21:33:47.363230Z"
    }
   },
   "outputs": [
    {
     "data": {
      "text/plain": [
       "1.847731934494097"
      ]
     },
     "execution_count": 215,
     "metadata": {},
     "output_type": "execute_result"
    }
   ],
   "source": [
    "test_rmse(np.mean(student_t_prediction_traj[10:], 0))"
   ]
  },
  {
   "cell_type": "code",
   "execution_count": 217,
   "metadata": {
    "ExecuteTime": {
     "end_time": "2019-03-30T21:34:02.065908Z",
     "start_time": "2019-03-30T21:34:02.058169Z"
    }
   },
   "outputs": [
    {
     "data": {
      "text/plain": [
       "2.0678690921969354"
      ]
     },
     "execution_count": 217,
     "metadata": {},
     "output_type": "execute_result"
    }
   ],
   "source": [
    "test_rmse(np.mean(gaussian_prediction_traj[10:], 0))"
   ]
  },
  {
   "cell_type": "code",
   "execution_count": null,
   "metadata": {},
   "outputs": [],
   "source": []
  }
 ],
 "metadata": {
  "kernelspec": {
   "display_name": "Python 3",
   "language": "python",
   "name": "python3"
  },
  "language_info": {
   "codemirror_mode": {
    "name": "ipython",
    "version": 3
   },
   "file_extension": ".py",
   "mimetype": "text/x-python",
   "name": "python",
   "nbconvert_exporter": "python",
   "pygments_lexer": "ipython3",
   "version": "3.7.1"
  }
 },
 "nbformat": 4,
 "nbformat_minor": 2
}
