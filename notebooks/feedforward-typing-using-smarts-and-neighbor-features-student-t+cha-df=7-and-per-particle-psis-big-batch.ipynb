{
 "cells": [
  {
   "cell_type": "code",
   "execution_count": 10,
   "metadata": {
    "ExecuteTime": {
     "end_time": "2019-03-07T03:51:14.106963Z",
     "start_time": "2019-03-07T03:51:14.104288Z"
    }
   },
   "outputs": [],
   "source": [
    "from bayes_implicit_solvent.continuous_parameter_experiments.gradient_free import mols"
   ]
  },
  {
   "cell_type": "code",
   "execution_count": 11,
   "metadata": {
    "ExecuteTime": {
     "end_time": "2019-03-07T03:51:14.273778Z",
     "start_time": "2019-03-07T03:51:14.271060Z"
    }
   },
   "outputs": [],
   "source": [
    "all_mols = mols"
   ]
  },
  {
   "cell_type": "code",
   "execution_count": 12,
   "metadata": {
    "ExecuteTime": {
     "end_time": "2019-03-07T03:51:14.420690Z",
     "start_time": "2019-03-07T03:51:14.417624Z"
    }
   },
   "outputs": [],
   "source": [
    "from bayes_implicit_solvent.constants import beta\n",
    "def unreduce(value):\n",
    "    \"\"\"Input value is in units of kB T, turn it into units of kilocalorie_per_mole\"\"\"\n",
    "    return value / (beta * unit.kilocalorie_per_mole)"
   ]
  },
  {
   "cell_type": "code",
   "execution_count": 13,
   "metadata": {
    "ExecuteTime": {
     "end_time": "2019-03-07T03:51:14.562226Z",
     "start_time": "2019-03-07T03:51:14.559778Z"
    }
   },
   "outputs": [],
   "source": [
    "from autograd import numpy as np"
   ]
  },
  {
   "cell_type": "code",
   "execution_count": 14,
   "metadata": {
    "ExecuteTime": {
     "end_time": "2019-03-07T03:51:16.519810Z",
     "start_time": "2019-03-07T03:51:14.703120Z"
    }
   },
   "outputs": [],
   "source": [
    "mols = []\n",
    "    \n",
    "from bayes_implicit_solvent.utils import get_charges\n",
    "from scipy.spatial.distance import pdist, squareform\n",
    "from simtk import unit\n",
    "elements = []\n",
    "charges = []\n",
    "distance_matrices = []\n",
    "expt_means = []\n",
    "expt_uncs = []\n",
    "vacuum_trajs = []\n",
    "for mol in all_mols:\n",
    "    \n",
    "    expt_mean = unreduce(mol.experimental_value)\n",
    "    expt_unc = unreduce(mol.experimental_uncertainty)\n",
    "    \n",
    "    if (expt_mean > -15) and (expt_mean < 5):\n",
    "        \n",
    "        mols.append(mol)\n",
    "        expt_means.append(expt_mean)\n",
    "        expt_uncs.append(expt_unc)\n",
    "\n",
    "        elements.append(np.array([a.element.atomic_number for a in mol.top.atoms()]))\n",
    "        charges.append(get_charges(mol.sys))\n",
    "        distance_matrices.append([squareform(pdist(snapshot / unit.nanometer)) for snapshot in mol.vacuum_traj])\n",
    "expt_means = np.array(expt_means)\n",
    "expt_uncs = np.array(expt_uncs)"
   ]
  },
  {
   "cell_type": "code",
   "execution_count": 15,
   "metadata": {
    "ExecuteTime": {
     "end_time": "2019-03-07T03:51:16.528823Z",
     "start_time": "2019-03-07T03:51:16.522664Z"
    }
   },
   "outputs": [
    {
     "data": {
      "text/plain": [
       "50"
      ]
     },
     "execution_count": 15,
     "metadata": {},
     "output_type": "execute_result"
    }
   ],
   "source": [
    "len(all_mols[0].vacuum_traj)"
   ]
  },
  {
   "cell_type": "code",
   "execution_count": 16,
   "metadata": {
    "ExecuteTime": {
     "end_time": "2019-03-07T03:51:16.534892Z",
     "start_time": "2019-03-07T03:51:16.530744Z"
    }
   },
   "outputs": [
    {
     "name": "stdout",
     "output_type": "stream",
     "text": [
      "631\n"
     ]
    }
   ],
   "source": [
    "print(len(mols))"
   ]
  },
  {
   "cell_type": "code",
   "execution_count": 17,
   "metadata": {
    "ExecuteTime": {
     "end_time": "2019-03-07T03:51:16.541231Z",
     "start_time": "2019-03-07T03:51:16.538811Z"
    }
   },
   "outputs": [],
   "source": [
    "from bayes_implicit_solvent.typers import SMARTSTyper"
   ]
  },
  {
   "cell_type": "code",
   "execution_count": 18,
   "metadata": {
    "ExecuteTime": {
     "end_time": "2019-03-07T03:51:43.778929Z",
     "start_time": "2019-03-07T03:51:16.544199Z"
    }
   },
   "outputs": [],
   "source": [
    "typer = SMARTSTyper(['[a]', '[A]', '[D1]', '[D2]', '[D3]', '[D4]', '[H0]', '[H1]', '[H2]', '[H3]', '[H4]', '[R0]', '[R2]', '[R3]', '[r0]', '[r3]', '[r4]', '[r5]', '[r6]', '[v1]', '[v2]', '[v3]', '[v4]', '[v5]', '[v6]', '[X1]', '[X2]', '[X3]', '[X4]', '[x0]', '[x2]', '[x3]', '[-1]', '[#1]', '[#6]', '[#7]', '[#8]', '[#9]', '[#15]', '[#16]', '[#17]', '[#35]', '[#53]', '*~[a]', '*~[A]', '*~[D1]', '*~[D2]', '*~[D3]', '*~[D4]', '*~[H0]', '*~[H1]', '*~[H2]', '*~[H3]', '*~[H4]', '*~[R0]', '*~[R2]', '*~[R3]', '*~[r0]', '*~[r3]', '*~[r4]', '*~[r5]', '*~[r6]', '*~[v1]', '*~[v2]', '*~[v3]', '*~[v4]', '*~[v5]', '*~[v6]', '*~[X1]', '*~[X2]', '*~[X3]', '*~[X4]', '*~[x0]', '*~[x2]', '*~[x3]', '*~[-1]', '*~[#1]', '*~[#6]', '*~[#7]', '*~[#8]', '*~[#9]', '*~[#15]', '*~[#16]', '*~[#17]', '*~[#35]', '*~[#53]', '*-*', '*-[a]', '*-[A]', '*-[D1]', '*-[D2]', '*-[D3]', '*-[D4]', '*-[H0]', '*-[H1]', '*-[H2]', '*-[H3]', '*-[H4]', '*-[h0]', '*-[R0]', '*-[R2]', '*-[R3]', '*-[r0]', '*-[r3]', '*-[r4]', '*-[r5]', '*-[r6]', '*-[v1]', '*-[v2]', '*-[v3]', '*-[v4]', '*-[v5]', '*-[v6]', '*-[X1]', '*-[X2]', '*-[X3]', '*-[X4]', '*-[x0]', '*-[x2]', '*-[x3]', '*-[-1]', '*-[#1]', '*-[#6]', '*-[#7]', '*-[#8]', '*-[#9]', '*-[#15]', '*-[#16]', '*-[#17]', '*-[#35]', '*-[#53]', '*=*', '*=[a]', '*=[A]', '*=[D1]', '*=[D2]', '*=[D3]', '*=[D4]', '*=[H0]', '*=[H1]', '*=[H2]', '*=[h0]', '*=[R0]', '*=[R2]', '*=[r0]', '*=[r5]', '*=[r6]', '*=[v2]', '*=[v3]', '*=[v4]', '*=[v5]', '*=[v6]', '*=[X1]', '*=[X2]', '*=[X3]', '*=[X4]', '*=[x0]', '*=[x2]', '*=[#6]', '*=[#7]', '*=[#8]', '*=[#15]', '*=[#16]', '*#*', '*#[A]', '*#[D1]', '*#[D2]', '*#[H0]', '*#[H1]', '*#[h0]', '*#[R0]', '*#[r0]', '*#[v3]', '*#[v4]', '*#[X1]', '*#[X2]', '*#[x0]', '*#[#6]', '*#[#7]', '*:*', '*:[a]', '*:[D2]', '*:[D3]', '*:[H0]', '*:[H1]', '*:[h0]', '*:[R2]', '*:[R3]', '*:[r5]', '*:[r6]', '*:[v2]', '*:[v3]', '*:[v4]', '*:[X2]', '*:[X3]', '*:[x2]', '*:[x3]', '*:[#6]', '*:[#7]', '*:[#16]', '*@*', '*@[a]', '*@[A]', '*@[D2]', '*@[D3]', '*@[D4]', '*@[H0]', '*@[H1]', '*@[H2]', '*@[h0]', '*@[R2]', '*@[R3]', '*@[r3]', '*@[r4]', '*@[r5]', '*@[r6]', '*@[v2]', '*@[v3]', '*@[v4]', '*@[v6]', '*@[X2]', '*@[X3]', '*@[X4]', '*@[x2]', '*@[x3]', '*@[#6]', '*@[#7]', '*@[#8]', '*@[#16]'])\n",
    "computed_smarts_features = [typer.get_matches(mol.mol) for mol in mols]"
   ]
  },
  {
   "cell_type": "code",
   "execution_count": 19,
   "metadata": {
    "ExecuteTime": {
     "end_time": "2019-03-07T03:51:43.796082Z",
     "start_time": "2019-03-07T03:51:43.781420Z"
    }
   },
   "outputs": [
    {
     "data": {
      "text/plain": [
       "(3599, 11433)"
      ]
     },
     "execution_count": 19,
     "metadata": {},
     "output_type": "execute_result"
    }
   ],
   "source": [
    "len(set(np.hstack(charges))), len(np.hstack(charges))"
   ]
  },
  {
   "cell_type": "code",
   "execution_count": 20,
   "metadata": {
    "ExecuteTime": {
     "end_time": "2019-03-07T03:51:43.803197Z",
     "start_time": "2019-03-07T03:51:43.798878Z"
    }
   },
   "outputs": [
    {
     "data": {
      "text/plain": [
       "229"
      ]
     },
     "execution_count": 20,
     "metadata": {},
     "output_type": "execute_result"
    }
   ],
   "source": [
    "N = len(computed_smarts_features[0][0])\n",
    "N"
   ]
  },
  {
   "cell_type": "code",
   "execution_count": 21,
   "metadata": {
    "ExecuteTime": {
     "end_time": "2019-03-07T03:51:43.807651Z",
     "start_time": "2019-03-07T03:51:43.805245Z"
    }
   },
   "outputs": [],
   "source": [
    "computed_features = computed_smarts_features"
   ]
  },
  {
   "cell_type": "code",
   "execution_count": 22,
   "metadata": {
    "ExecuteTime": {
     "end_time": "2019-03-07T03:51:43.814346Z",
     "start_time": "2019-03-07T03:51:43.809693Z"
    }
   },
   "outputs": [
    {
     "data": {
      "text/plain": [
       "229"
      ]
     },
     "execution_count": 22,
     "metadata": {},
     "output_type": "execute_result"
    }
   ],
   "source": [
    "N = len(computed_features[0][0])\n",
    "N"
   ]
  },
  {
   "cell_type": "code",
   "execution_count": 23,
   "metadata": {
    "ExecuteTime": {
     "end_time": "2019-03-07T03:51:44.584964Z",
     "start_time": "2019-03-07T03:51:43.817160Z"
    }
   },
   "outputs": [
    {
     "data": {
      "text/plain": [
       "664"
      ]
     },
     "execution_count": 23,
     "metadata": {},
     "output_type": "execute_result"
    }
   ],
   "source": [
    "all_types = np.array(sorted(list(set([tuple(f) for f in np.vstack(computed_features)]))))\n",
    "len(all_types)"
   ]
  },
  {
   "cell_type": "code",
   "execution_count": 24,
   "metadata": {
    "ExecuteTime": {
     "end_time": "2019-03-07T03:51:44.855622Z",
     "start_time": "2019-03-07T03:51:44.587665Z"
    }
   },
   "outputs": [],
   "source": [
    "import matplotlib.pyplot as plt\n",
    "%matplotlib inline"
   ]
  },
  {
   "cell_type": "code",
   "execution_count": 25,
   "metadata": {
    "ExecuteTime": {
     "end_time": "2019-03-07T03:51:44.865794Z",
     "start_time": "2019-03-07T03:51:44.857493Z"
    }
   },
   "outputs": [],
   "source": [
    "from autograd.scipy.stats import norm"
   ]
  },
  {
   "cell_type": "code",
   "execution_count": 26,
   "metadata": {
    "ExecuteTime": {
     "end_time": "2019-03-07T03:51:44.875638Z",
     "start_time": "2019-03-07T03:51:44.870201Z"
    }
   },
   "outputs": [
    {
     "data": {
      "text/plain": [
       "50"
      ]
     },
     "execution_count": 26,
     "metadata": {},
     "output_type": "execute_result"
    }
   ],
   "source": [
    "len(distance_matrices[0])"
   ]
  },
  {
   "cell_type": "code",
   "execution_count": 27,
   "metadata": {
    "ExecuteTime": {
     "end_time": "2019-03-07T03:51:44.886279Z",
     "start_time": "2019-03-07T03:51:44.880342Z"
    }
   },
   "outputs": [],
   "source": [
    "N_atoms = np.array(list(map(len, charges)))"
   ]
  },
  {
   "cell_type": "code",
   "execution_count": 28,
   "metadata": {
    "ExecuteTime": {
     "end_time": "2019-03-07T03:51:44.892687Z",
     "start_time": "2019-03-07T03:51:44.888559Z"
    }
   },
   "outputs": [
    {
     "data": {
      "text/plain": [
       "631"
      ]
     },
     "execution_count": 28,
     "metadata": {},
     "output_type": "execute_result"
    }
   ],
   "source": [
    "len(mols)"
   ]
  },
  {
   "cell_type": "code",
   "execution_count": 29,
   "metadata": {
    "ExecuteTime": {
     "end_time": "2019-03-07T03:51:44.899700Z",
     "start_time": "2019-03-07T03:51:44.894876Z"
    }
   },
   "outputs": [
    {
     "data": {
      "text/plain": [
       "229"
      ]
     },
     "execution_count": 29,
     "metadata": {},
     "output_type": "execute_result"
    }
   ],
   "source": [
    "n_features = N\n",
    "n_features"
   ]
  },
  {
   "cell_type": "code",
   "execution_count": 30,
   "metadata": {
    "ExecuteTime": {
     "end_time": "2019-03-07T03:51:44.908390Z",
     "start_time": "2019-03-07T03:51:44.902404Z"
    }
   },
   "outputs": [
    {
     "data": {
      "text/plain": [
       "array([0.15    , 0.8     , 0.      , 0.8     , 0.      , 2.909125])"
      ]
     },
     "execution_count": 30,
     "metadata": {},
     "output_type": "execute_result"
    }
   ],
   "source": [
    "default_radius = 0.15\n",
    "default_scale = 0.8\n",
    "default_log_tau = 0.0\n",
    "default_psi1_coeff = 0.8\n",
    "default_psi2_coeff = 0.0\n",
    "default_psi3_coeff = 2.909125\n",
    "\n",
    "baseline_bias = np.array([default_radius, default_scale, default_log_tau, default_psi1_coeff, default_psi2_coeff, default_psi3_coeff])\n",
    "baseline_bias"
   ]
  },
  {
   "cell_type": "code",
   "execution_count": 31,
   "metadata": {
    "ExecuteTime": {
     "end_time": "2019-03-07T03:51:44.915396Z",
     "start_time": "2019-03-07T03:51:44.910197Z"
    }
   },
   "outputs": [
    {
     "data": {
      "text/plain": [
       "(4.5399929762484854e-05, 2.718281828459045)"
      ]
     },
     "execution_count": 31,
     "metadata": {},
     "output_type": "execute_result"
    }
   ],
   "source": [
    "np.exp(-10), np.exp(1)"
   ]
  },
  {
   "cell_type": "code",
   "execution_count": 32,
   "metadata": {
    "ExecuteTime": {
     "end_time": "2019-03-07T03:51:44.920124Z",
     "start_time": "2019-03-07T03:51:44.917146Z"
    }
   },
   "outputs": [],
   "source": [
    "def relu(x):\n",
    "    return x * (x > 0)"
   ]
  },
  {
   "cell_type": "code",
   "execution_count": 33,
   "metadata": {
    "ExecuteTime": {
     "end_time": "2019-03-07T03:51:44.946096Z",
     "start_time": "2019-03-07T03:51:44.922037Z"
    }
   },
   "outputs": [],
   "source": [
    "import autograd.numpy.random as npr\n",
    "\n",
    "class NeuralNet():\n",
    "\n",
    "    def __init__(self, layer_sizes, scale=0.01):\n",
    "        assert(layer_sizes[-1] == len(baseline_bias))\n",
    "        self.layer_sizes = layer_sizes\n",
    "        self.scale = scale\n",
    "        self.params = self.init_random_params(scale, layer_sizes)\n",
    "\n",
    "    def init_random_params(self, scale, layer_sizes, rs=npr.RandomState(0)):\n",
    "        return [(scale * rs.randn(m, n),  # weight matrix\n",
    "                 scale * rs.randn(n))  # bias vector\n",
    "                for m, n in zip(layer_sizes[:-1], layer_sizes[1:])]\n",
    "\n",
    "    def neural_net_predict(self, params, inputs):\n",
    "        for W, b in params:\n",
    "            outputs = np.dot(inputs, W) + b\n",
    "            inputs = relu(outputs)\n",
    "        return outputs + baseline_bias\n",
    "\n",
    "    def __call__(self, inputs):\n",
    "        return self.neural_net_predict(self.params, inputs)\n",
    "    \n",
    "# also produce a tau parameter for each \n",
    "npr.seed(0)\n",
    "layer_sizes = [n_features, 1000, 100, len(baseline_bias)]\n",
    "neural_net = NeuralNet(layer_sizes)"
   ]
  },
  {
   "cell_type": "code",
   "execution_count": 34,
   "metadata": {
    "ExecuteTime": {
     "end_time": "2019-03-07T03:51:44.950052Z",
     "start_time": "2019-03-07T03:51:44.947685Z"
    }
   },
   "outputs": [],
   "source": [
    "params = neural_net.params"
   ]
  },
  {
   "cell_type": "code",
   "execution_count": 35,
   "metadata": {
    "ExecuteTime": {
     "end_time": "2019-03-07T03:51:44.961579Z",
     "start_time": "2019-03-07T03:51:44.952279Z"
    }
   },
   "outputs": [
    {
     "data": {
      "text/plain": [
       "array([[ 1.34565705e-01,  7.80200599e-01,  1.04895461e-02,\n",
       "         8.02188311e-01,  1.19935530e-04,  2.91574462e+00],\n",
       "       [ 1.34837788e-01,  7.80075805e-01,  9.96969475e-03,\n",
       "         8.01451753e-01,  4.46502372e-04,  2.91676114e+00],\n",
       "       [ 1.34694812e-01,  7.80126841e-01,  1.04529614e-02,\n",
       "         8.02187055e-01,  2.14175222e-04,  2.91638025e+00],\n",
       "       [ 1.34990493e-01,  7.79836409e-01,  1.02714158e-02,\n",
       "         8.01379370e-01, -3.50431226e-04,  2.91573596e+00],\n",
       "       [ 1.34181397e-01,  7.80190880e-01,  1.03400607e-02,\n",
       "         8.00826457e-01,  4.76846627e-04,  2.91636436e+00],\n",
       "       [ 1.34847141e-01,  7.80019862e-01,  1.01094741e-02,\n",
       "         8.02578552e-01, -8.76196827e-04,  2.91636139e+00],\n",
       "       [ 1.35633877e-01,  7.80492094e-01,  1.01628339e-02,\n",
       "         8.01289625e-01,  4.92504197e-04,  2.91693721e+00],\n",
       "       [ 1.35633877e-01,  7.80492094e-01,  1.01628339e-02,\n",
       "         8.01289625e-01,  4.92504197e-04,  2.91693721e+00],\n",
       "       [ 1.34482733e-01,  7.80266367e-01,  1.00469619e-02,\n",
       "         8.01120749e-01,  3.99295481e-04,  2.91561740e+00],\n",
       "       [ 1.34847141e-01,  7.80019862e-01,  1.01094741e-02,\n",
       "         8.02578552e-01, -8.76196827e-04,  2.91636139e+00],\n",
       "       [ 1.35633877e-01,  7.80492094e-01,  1.01628339e-02,\n",
       "         8.01289625e-01,  4.92504197e-04,  2.91693721e+00],\n",
       "       [ 1.35633877e-01,  7.80492094e-01,  1.01628339e-02,\n",
       "         8.01289625e-01,  4.92504197e-04,  2.91693721e+00],\n",
       "       [ 1.35214988e-01,  7.80668457e-01,  1.04257700e-02,\n",
       "         8.01996518e-01,  7.00323565e-04,  2.91713558e+00],\n",
       "       [ 1.35214988e-01,  7.80668457e-01,  1.04257700e-02,\n",
       "         8.01996518e-01,  7.00323565e-04,  2.91713558e+00],\n",
       "       [ 1.35214988e-01,  7.80668457e-01,  1.04257700e-02,\n",
       "         8.01996518e-01,  7.00323565e-04,  2.91713558e+00],\n",
       "       [ 1.34529089e-01,  7.80276715e-01,  1.03435224e-02,\n",
       "         8.01536328e-01,  6.13245126e-04,  2.91710606e+00],\n",
       "       [ 1.34529089e-01,  7.80276715e-01,  1.03435224e-02,\n",
       "         8.01536328e-01,  6.13245126e-04,  2.91710606e+00]])"
      ]
     },
     "execution_count": 35,
     "metadata": {},
     "output_type": "execute_result"
    }
   ],
   "source": [
    "neural_net(computed_features[0])"
   ]
  },
  {
   "cell_type": "code",
   "execution_count": 36,
   "metadata": {
    "ExecuteTime": {
     "end_time": "2019-03-07T03:51:44.967698Z",
     "start_time": "2019-03-07T03:51:44.964167Z"
    }
   },
   "outputs": [],
   "source": [
    "#from bayes_implicit_solvent.gb_models.numpy_gb_models import compute_OBC_energy_vectorized\n",
    "from bayes_implicit_solvent.gb_models.modular_gb_models import cha_gb_no_threshold"
   ]
  },
  {
   "cell_type": "code",
   "execution_count": 37,
   "metadata": {
    "ExecuteTime": {
     "end_time": "2019-03-07T03:51:44.979876Z",
     "start_time": "2019-03-07T03:51:44.969814Z"
    }
   },
   "outputs": [
    {
     "data": {
      "text/plain": [
       "(array([0.13456571, 0.13483779, 0.13469481, 0.13499049, 0.1341814 ,\n",
       "        0.13484714, 0.13563388, 0.13563388, 0.13448273, 0.13484714,\n",
       "        0.13563388, 0.13563388, 0.13521499, 0.13521499, 0.13521499,\n",
       "        0.13452909, 0.13452909]),\n",
       " array([0.7802006 , 0.7800758 , 0.78012684, 0.77983641, 0.78019088,\n",
       "        0.78001986, 0.78049209, 0.78049209, 0.78026637, 0.78001986,\n",
       "        0.78049209, 0.78049209, 0.78066846, 0.78066846, 0.78066846,\n",
       "        0.78027672, 0.78027672]),\n",
       " array([0.01048955, 0.00996969, 0.01045296, 0.01027142, 0.01034006,\n",
       "        0.01010947, 0.01016283, 0.01016283, 0.01004696, 0.01010947,\n",
       "        0.01016283, 0.01016283, 0.01042577, 0.01042577, 0.01042577,\n",
       "        0.01034352, 0.01034352]),\n",
       " array([0.80218831, 0.80145175, 0.80218705, 0.80137937, 0.80082646,\n",
       "        0.80257855, 0.80128962, 0.80128962, 0.80112075, 0.80257855,\n",
       "        0.80128962, 0.80128962, 0.80199652, 0.80199652, 0.80199652,\n",
       "        0.80153633, 0.80153633]),\n",
       " array([ 0.00011994,  0.0004465 ,  0.00021418, -0.00035043,  0.00047685,\n",
       "        -0.0008762 ,  0.0004925 ,  0.0004925 ,  0.0003993 , -0.0008762 ,\n",
       "         0.0004925 ,  0.0004925 ,  0.00070032,  0.00070032,  0.00070032,\n",
       "         0.00061325,  0.00061325]),\n",
       " array([2.91574462, 2.91676114, 2.91638025, 2.91573596, 2.91636436,\n",
       "        2.91636139, 2.91693721, 2.91693721, 2.9156174 , 2.91636139,\n",
       "        2.91693721, 2.91693721, 2.91713558, 2.91713558, 2.91713558,\n",
       "        2.91710606, 2.91710606]))"
      ]
     },
     "execution_count": 37,
     "metadata": {},
     "output_type": "execute_result"
    }
   ],
   "source": [
    "radii, scales, log_taus, psi_coeffs, psi2_coeffs, psi3_coeffs = neural_net.neural_net_predict(params, computed_features[0]).T\n",
    "radii, scales, log_taus, psi_coeffs, psi2_coeffs, psi3_coeffs"
   ]
  },
  {
   "cell_type": "code",
   "execution_count": 38,
   "metadata": {
    "ExecuteTime": {
     "end_time": "2019-03-07T03:51:44.986835Z",
     "start_time": "2019-03-07T03:51:44.982144Z"
    }
   },
   "outputs": [],
   "source": [
    "npr.seed(0)\n",
    "all_inds = np.arange(len(mols))\n",
    "np.random.shuffle(all_inds)\n",
    "train_inds = all_inds[:470]\n",
    "test_inds = all_inds[470:]"
   ]
  },
  {
   "cell_type": "code",
   "execution_count": 39,
   "metadata": {
    "ExecuteTime": {
     "end_time": "2019-03-07T03:51:44.994802Z",
     "start_time": "2019-03-07T03:51:44.989781Z"
    }
   },
   "outputs": [
    {
     "data": {
      "text/plain": [
       "473.25"
      ]
     },
     "execution_count": 39,
     "metadata": {},
     "output_type": "execute_result"
    }
   ],
   "source": [
    "len(all_inds) * 0.75"
   ]
  },
  {
   "cell_type": "code",
   "execution_count": 40,
   "metadata": {
    "ExecuteTime": {
     "end_time": "2019-03-07T03:51:45.003177Z",
     "start_time": "2019-03-07T03:51:44.997250Z"
    }
   },
   "outputs": [
    {
     "data": {
      "text/plain": [
       "array([-0.1382    ,  0.1522    ,  0.1023    ,  0.1233    , -0.3511    ,\n",
       "        0.37990001, -0.1655    , -0.1655    , -0.37040001,  0.3845    ,\n",
       "       -0.1723    , -0.1723    ,  0.0681    ,  0.0681    ,  0.0681    ,\n",
       "        0.0944    ,  0.0944    ])"
      ]
     },
     "execution_count": 40,
     "metadata": {},
     "output_type": "execute_result"
    }
   ],
   "source": [
    "charges[0]"
   ]
  },
  {
   "cell_type": "code",
   "execution_count": 41,
   "metadata": {
    "ExecuteTime": {
     "end_time": "2019-03-07T03:51:45.011725Z",
     "start_time": "2019-03-07T03:51:45.005301Z"
    }
   },
   "outputs": [],
   "source": [
    "from autograd.scipy.misc import logsumexp\n",
    "from simtk import unit\n",
    "from bayes_implicit_solvent.constants import kB, temperature\n",
    "\n",
    "kj_mol_to_kT = 1.0 * unit.kilojoule_per_mole / (kB * temperature)\n",
    "\n",
    "def one_sided_exp(w_F):\n",
    "    DeltaF = - (logsumexp(- w_F) - np.log(len(w_F)))\n",
    "    return DeltaF"
   ]
  },
  {
   "cell_type": "code",
   "execution_count": 42,
   "metadata": {
    "ExecuteTime": {
     "end_time": "2019-03-07T03:51:45.026170Z",
     "start_time": "2019-03-07T03:51:45.014157Z"
    }
   },
   "outputs": [
    {
     "data": {
      "text/plain": [
       "11"
      ]
     },
     "execution_count": 42,
     "metadata": {},
     "output_type": "execute_result"
    }
   ],
   "source": [
    "type_index = dict(zip([tuple(t) for t in all_types], range(len(all_types))))\n",
    "type_index[tuple(computed_features[0][0])]"
   ]
  },
  {
   "cell_type": "code",
   "execution_count": 43,
   "metadata": {
    "ExecuteTime": {
     "end_time": "2019-03-07T03:51:45.176360Z",
     "start_time": "2019-03-07T03:51:45.028373Z"
    }
   },
   "outputs": [],
   "source": [
    "type_indices = []\n",
    "for i in range(len(computed_features)):\n",
    "    type_indices.append(np.array([type_index[tuple(f)] for f in computed_features[i]]))"
   ]
  },
  {
   "cell_type": "code",
   "execution_count": 44,
   "metadata": {
    "ExecuteTime": {
     "end_time": "2019-03-07T03:51:45.182667Z",
     "start_time": "2019-03-07T03:51:45.177985Z"
    }
   },
   "outputs": [
    {
     "data": {
      "text/plain": [
       "True"
      ]
     },
     "execution_count": 44,
     "metadata": {},
     "output_type": "execute_result"
    }
   ],
   "source": [
    "np.alltrue(all_types[type_indices[0]] == computed_features[0])"
   ]
  },
  {
   "cell_type": "code",
   "execution_count": 45,
   "metadata": {
    "ExecuteTime": {
     "end_time": "2019-03-07T03:51:45.193536Z",
     "start_time": "2019-03-07T03:51:45.184992Z"
    }
   },
   "outputs": [],
   "source": [
    "def make_predictions(params, inds=train_inds, batch_size=25, randomized=True):\n",
    "    all_radii, all_scales, all_log_taus, all_psi_coeffs, all_psi2_coeffs, all_psi3_coeffs = neural_net.neural_net_predict(params, all_types).T\n",
    "    \n",
    "    \n",
    "    predictions = []\n",
    "    for i in inds:\n",
    "        radii, scales, log_taus, psi_coeffs, psi2_coeffs, psi3_coeffs = all_radii[type_indices[i]], all_scales[type_indices[i]], all_log_taus[type_indices[i]], all_psi_coeffs[type_indices[i]], all_psi2_coeffs[type_indices[i]], all_psi3_coeffs[type_indices[i]]\n",
    "        #radii, scales, log_taus = neural_net.neural_net_predict(params, computed_features[i]).T\n",
    "        taus = np.exp(log_taus)\n",
    "        \n",
    "        if randomized:\n",
    "            dmat_inds = np.random.randint(0, len(distance_matrices[i]), batch_size)\n",
    "        else:\n",
    "            dmat_inds = np.arange(min(batch_size, len(distance_matrices[i])))\n",
    "        W_F = np.array([cha_gb_no_threshold(distance_matrices[i][j], radii, scales, taus, charges[i], psi_coefficient=psi_coeffs, psi2_coefficient=psi2_coeffs, psi3_coefficient=psi3_coeffs) for j in dmat_inds])\n",
    "        \n",
    "        w_F = W_F * kj_mol_to_kT\n",
    "        pred_free_energy = unreduce(one_sided_exp(w_F))\n",
    "        predictions.append(pred_free_energy)\n",
    "    return np.array(predictions)"
   ]
  },
  {
   "cell_type": "code",
   "execution_count": 46,
   "metadata": {
    "ExecuteTime": {
     "end_time": "2019-03-07T03:51:48.826157Z",
     "start_time": "2019-03-07T03:51:45.195825Z"
    }
   },
   "outputs": [],
   "source": [
    "predictions = make_predictions(params)"
   ]
  },
  {
   "cell_type": "code",
   "execution_count": 47,
   "metadata": {
    "ExecuteTime": {
     "end_time": "2019-03-07T03:51:48.833500Z",
     "start_time": "2019-03-07T03:51:48.827728Z"
    }
   },
   "outputs": [
    {
     "data": {
      "text/plain": [
       "-8.63061487058597"
      ]
     },
     "execution_count": 47,
     "metadata": {},
     "output_type": "execute_result"
    }
   ],
   "source": [
    "def log_prior(params):\n",
    "    return - sum([np.linalg.norm(W) + np.linalg.norm(b) for (W,b) in params])\n",
    "log_prior(params)"
   ]
  },
  {
   "cell_type": "code",
   "execution_count": 48,
   "metadata": {
    "ExecuteTime": {
     "end_time": "2019-03-07T03:51:48.842079Z",
     "start_time": "2019-03-07T03:51:48.836747Z"
    }
   },
   "outputs": [],
   "source": [
    "from autograd.scipy.stats import t as student_t\n",
    "\n",
    "def log_likelihood(params):\n",
    "    predictions = make_predictions(params)\n",
    "    return np.sum(student_t.logpdf(predictions, loc=expt_means[train_inds], scale=expt_uncs[train_inds], df=7))\n",
    "    #return np.sum(norm.logpdf(predictions, loc=expt_means[train_inds], scale=expt_uncs[train_inds]))"
   ]
  },
  {
   "cell_type": "code",
   "execution_count": 49,
   "metadata": {
    "ExecuteTime": {
     "end_time": "2019-03-07T03:51:48.847794Z",
     "start_time": "2019-03-07T03:51:48.844611Z"
    }
   },
   "outputs": [],
   "source": [
    "def log_posterior(params):\n",
    "    return log_prior(params) + log_likelihood(params)"
   ]
  },
  {
   "cell_type": "code",
   "execution_count": 50,
   "metadata": {
    "ExecuteTime": {
     "end_time": "2019-03-07T03:51:49.058520Z",
     "start_time": "2019-03-07T03:51:48.850142Z"
    }
   },
   "outputs": [
    {
     "data": {
      "text/plain": [
       "<matplotlib.collections.PathCollection at 0x1a296e87f0>"
      ]
     },
     "execution_count": 50,
     "metadata": {},
     "output_type": "execute_result"
    },
    {
     "data": {
      "image/png": "[encoded data removed]",
      "text/plain": [
       "<Figure size 432x288 with 1 Axes>"
      ]
     },
     "metadata": {
      "needs_background": "light"
     },
     "output_type": "display_data"
    }
   ],
   "source": [
    "plt.scatter(predictions, expt_means[train_inds])"
   ]
  },
  {
   "cell_type": "code",
   "execution_count": 51,
   "metadata": {
    "ExecuteTime": {
     "end_time": "2019-03-07T03:51:52.887957Z",
     "start_time": "2019-03-07T03:51:49.060936Z"
    }
   },
   "outputs": [
    {
     "data": {
      "text/plain": [
       "-3509.5638440842367"
      ]
     },
     "execution_count": 51,
     "metadata": {},
     "output_type": "execute_result"
    }
   ],
   "source": [
    "log_posterior(params)"
   ]
  },
  {
   "cell_type": "code",
   "execution_count": 52,
   "metadata": {
    "ExecuteTime": {
     "end_time": "2019-03-07T03:52:59.101921Z",
     "start_time": "2019-03-07T03:51:52.889604Z"
    }
   },
   "outputs": [],
   "source": [
    "from autograd import grad\n",
    "g = grad(log_posterior)(params)"
   ]
  },
  {
   "cell_type": "code",
   "execution_count": 53,
   "metadata": {
    "ExecuteTime": {
     "end_time": "2019-03-07T03:52:59.108572Z",
     "start_time": "2019-03-07T03:52:59.104128Z"
    }
   },
   "outputs": [],
   "source": [
    "def rmse(x, y):\n",
    "    squared_errors = (x - y)**2\n",
    "    mean_squared_errors = np.mean(squared_errors)\n",
    "    root_mean_squared_errors = np.sqrt(mean_squared_errors)\n",
    "    return root_mean_squared_errors"
   ]
  },
  {
   "cell_type": "code",
   "execution_count": 54,
   "metadata": {
    "ExecuteTime": {
     "end_time": "2019-03-07T12:35:56.423815Z",
     "start_time": "2019-03-07T03:52:59.110336Z"
    }
   },
   "outputs": [
    {
     "name": "stderr",
     "output_type": "stream",
     "text": [
      "/Users/joshuafass/anaconda3/lib/python3.7/site-packages/autograd/numpy/numpy_vjps.py:444: FutureWarning: Using a non-tuple sequence for multidimensional indexing is deprecated; use `arr[tuple(seq)]` instead of `arr[seq]`. In the future this will be interpreted as an array index, `arr[np.array(seq)]`, which will result either in an error or a different result.\n",
      "  return lambda g: g[idxs]\n"
     ]
    },
    {
     "name": "stdout",
     "output_type": "stream",
     "text": [
      "Iteration 0\n",
      "\ttrain RMSE = 9.230\n",
      "\ttest RMSE = 8.063\n",
      "Iteration 1\n",
      "\ttrain RMSE = 4.271\n",
      "\ttest RMSE = 4.380\n",
      "Iteration 2\n",
      "\ttrain RMSE = 4.030\n",
      "\ttest RMSE = 4.103\n",
      "Iteration 3\n",
      "\ttrain RMSE = 4.034\n",
      "\ttest RMSE = 4.028\n",
      "Iteration 4\n",
      "\ttrain RMSE = 4.557\n",
      "\ttest RMSE = 4.438\n",
      "Iteration 5\n",
      "\ttrain RMSE = 5.302\n",
      "\ttest RMSE = 5.041\n",
      "Iteration 6\n",
      "\ttrain RMSE = 4.731\n",
      "\ttest RMSE = 4.554\n",
      "Iteration 7\n",
      "\ttrain RMSE = 3.660\n",
      "\ttest RMSE = 3.572\n",
      "Iteration 8\n",
      "\ttrain RMSE = 3.077\n",
      "\ttest RMSE = 2.938\n",
      "Iteration 9\n",
      "\ttrain RMSE = 2.918\n",
      "\ttest RMSE = 2.745\n",
      "Iteration 10\n",
      "\ttrain RMSE = 2.833\n",
      "\ttest RMSE = 2.679\n",
      "Iteration 11\n",
      "\ttrain RMSE = 2.799\n",
      "\ttest RMSE = 2.655\n",
      "Iteration 12\n",
      "\ttrain RMSE = 2.689\n",
      "\ttest RMSE = 2.559\n",
      "Iteration 13\n",
      "\ttrain RMSE = 2.566\n",
      "\ttest RMSE = 2.450\n",
      "Iteration 14\n",
      "\ttrain RMSE = 2.467\n",
      "\ttest RMSE = 2.367\n",
      "Iteration 15\n",
      "\ttrain RMSE = 2.410\n",
      "\ttest RMSE = 2.333\n",
      "Iteration 16\n",
      "\ttrain RMSE = 2.429\n",
      "\ttest RMSE = 2.366\n",
      "Iteration 17\n",
      "\ttrain RMSE = 2.297\n",
      "\ttest RMSE = 2.269\n",
      "Iteration 18\n",
      "\ttrain RMSE = 2.152\n",
      "\ttest RMSE = 2.174\n",
      "Iteration 19\n",
      "\ttrain RMSE = 2.078\n",
      "\ttest RMSE = 2.105\n",
      "Iteration 20\n",
      "\ttrain RMSE = 2.045\n",
      "\ttest RMSE = 2.050\n",
      "Iteration 21\n",
      "\ttrain RMSE = 2.050\n",
      "\ttest RMSE = 2.066\n",
      "Iteration 22\n",
      "\ttrain RMSE = 1.923\n",
      "\ttest RMSE = 1.917\n",
      "Iteration 23\n",
      "\ttrain RMSE = 1.859\n",
      "\ttest RMSE = 1.799\n",
      "Iteration 24\n",
      "\ttrain RMSE = 1.984\n",
      "\ttest RMSE = 1.989\n",
      "Iteration 25\n",
      "\ttrain RMSE = 1.855\n",
      "\ttest RMSE = 1.809\n",
      "Iteration 26\n",
      "\ttrain RMSE = 1.783\n",
      "\ttest RMSE = 1.703\n",
      "Iteration 27\n",
      "\ttrain RMSE = 1.777\n",
      "\ttest RMSE = 1.730\n",
      "Iteration 28\n",
      "\ttrain RMSE = 1.888\n",
      "\ttest RMSE = 1.928\n",
      "Iteration 29\n",
      "\ttrain RMSE = 1.748\n",
      "\ttest RMSE = 1.722\n",
      "Iteration 30\n",
      "\ttrain RMSE = 1.707\n",
      "\ttest RMSE = 1.660\n",
      "Iteration 31\n",
      "\ttrain RMSE = 1.720\n",
      "\ttest RMSE = 1.722\n",
      "Iteration 32\n",
      "\ttrain RMSE = 1.798\n",
      "\ttest RMSE = 1.796\n",
      "Iteration 33\n",
      "\ttrain RMSE = 1.633\n",
      "\ttest RMSE = 1.586\n",
      "Iteration 34\n",
      "\ttrain RMSE = 1.633\n",
      "\ttest RMSE = 1.560\n",
      "Iteration 35\n",
      "\ttrain RMSE = 1.764\n",
      "\ttest RMSE = 1.774\n",
      "Iteration 36\n",
      "\ttrain RMSE = 1.725\n",
      "\ttest RMSE = 1.726\n",
      "Iteration 37\n",
      "\ttrain RMSE = 1.515\n",
      "\ttest RMSE = 1.469\n",
      "Iteration 38\n",
      "\ttrain RMSE = 1.495\n",
      "\ttest RMSE = 1.456\n",
      "Iteration 39\n",
      "\ttrain RMSE = 1.580\n",
      "\ttest RMSE = 1.518\n",
      "Iteration 40\n",
      "\ttrain RMSE = 1.494\n",
      "\ttest RMSE = 1.431\n",
      "Iteration 41\n",
      "\ttrain RMSE = 1.456\n",
      "\ttest RMSE = 1.385\n",
      "Iteration 42\n",
      "\ttrain RMSE = 1.447\n",
      "\ttest RMSE = 1.387\n",
      "Iteration 43\n",
      "\ttrain RMSE = 1.407\n",
      "\ttest RMSE = 1.316\n",
      "Iteration 44\n",
      "\ttrain RMSE = 1.421\n",
      "\ttest RMSE = 1.378\n",
      "Iteration 45\n",
      "\ttrain RMSE = 1.419\n",
      "\ttest RMSE = 1.374\n",
      "Iteration 46\n",
      "\ttrain RMSE = 1.466\n",
      "\ttest RMSE = 1.339\n",
      "Iteration 47\n",
      "\ttrain RMSE = 1.361\n",
      "\ttest RMSE = 1.251\n",
      "Iteration 48\n",
      "\ttrain RMSE = 1.649\n",
      "\ttest RMSE = 1.556\n",
      "Iteration 49\n",
      "\ttrain RMSE = 1.636\n",
      "\ttest RMSE = 1.533\n",
      "Iteration 50\n",
      "\ttrain RMSE = 1.361\n",
      "\ttest RMSE = 1.255\n",
      "Iteration 51\n",
      "\ttrain RMSE = 1.376\n",
      "\ttest RMSE = 1.268\n",
      "Iteration 52\n",
      "\ttrain RMSE = 1.351\n",
      "\ttest RMSE = 1.257\n",
      "Iteration 53\n",
      "\ttrain RMSE = 1.321\n",
      "\ttest RMSE = 1.250\n",
      "Iteration 54\n",
      "\ttrain RMSE = 1.305\n",
      "\ttest RMSE = 1.193\n",
      "Iteration 55\n",
      "\ttrain RMSE = 1.287\n",
      "\ttest RMSE = 1.212\n",
      "Iteration 56\n",
      "\ttrain RMSE = 1.373\n",
      "\ttest RMSE = 1.349\n",
      "Iteration 57\n",
      "\ttrain RMSE = 1.284\n",
      "\ttest RMSE = 1.204\n",
      "Iteration 58\n",
      "\ttrain RMSE = 1.255\n",
      "\ttest RMSE = 1.195\n",
      "Iteration 59\n",
      "\ttrain RMSE = 1.387\n",
      "\ttest RMSE = 1.345\n",
      "Iteration 60\n",
      "\ttrain RMSE = 1.352\n",
      "\ttest RMSE = 1.315\n",
      "Iteration 61\n",
      "\ttrain RMSE = 1.294\n",
      "\ttest RMSE = 1.233\n",
      "Iteration 62\n",
      "\ttrain RMSE = 1.245\n",
      "\ttest RMSE = 1.202\n",
      "Iteration 63\n",
      "\ttrain RMSE = 1.296\n",
      "\ttest RMSE = 1.285\n",
      "Iteration 64\n",
      "\ttrain RMSE = 1.217\n",
      "\ttest RMSE = 1.210\n",
      "Iteration 65\n",
      "\ttrain RMSE = 1.223\n",
      "\ttest RMSE = 1.200\n",
      "Iteration 66\n",
      "\ttrain RMSE = 1.249\n",
      "\ttest RMSE = 1.265\n",
      "Iteration 67\n",
      "\ttrain RMSE = 1.203\n",
      "\ttest RMSE = 1.193\n",
      "Iteration 68\n",
      "\ttrain RMSE = 1.203\n",
      "\ttest RMSE = 1.165\n",
      "Iteration 69\n",
      "\ttrain RMSE = 1.209\n",
      "\ttest RMSE = 1.189\n",
      "Iteration 70\n",
      "\ttrain RMSE = 1.200\n",
      "\ttest RMSE = 1.165\n",
      "Iteration 71\n",
      "\ttrain RMSE = 1.214\n",
      "\ttest RMSE = 1.137\n",
      "Iteration 72\n",
      "\ttrain RMSE = 1.250\n",
      "\ttest RMSE = 1.245\n",
      "Iteration 73\n",
      "\ttrain RMSE = 1.175\n",
      "\ttest RMSE = 1.146\n",
      "Iteration 74\n",
      "\ttrain RMSE = 1.198\n",
      "\ttest RMSE = 1.143\n",
      "Iteration 75\n",
      "\ttrain RMSE = 1.245\n",
      "\ttest RMSE = 1.212\n",
      "Iteration 76\n",
      "\ttrain RMSE = 1.208\n",
      "\ttest RMSE = 1.164\n",
      "Iteration 77\n",
      "\ttrain RMSE = 1.191\n",
      "\ttest RMSE = 1.138\n",
      "Iteration 78\n",
      "\ttrain RMSE = 1.233\n",
      "\ttest RMSE = 1.200\n",
      "Iteration 79\n",
      "\ttrain RMSE = 1.201\n",
      "\ttest RMSE = 1.161\n",
      "Iteration 80\n",
      "\ttrain RMSE = 1.192\n",
      "\ttest RMSE = 1.139\n",
      "Iteration 81\n",
      "\ttrain RMSE = 1.324\n",
      "\ttest RMSE = 1.282\n",
      "Iteration 82\n",
      "\ttrain RMSE = 1.213\n",
      "\ttest RMSE = 1.163\n",
      "Iteration 83\n",
      "\ttrain RMSE = 1.227\n",
      "\ttest RMSE = 1.148\n",
      "Iteration 84\n",
      "\ttrain RMSE = 1.249\n",
      "\ttest RMSE = 1.216\n",
      "Iteration 85\n",
      "\ttrain RMSE = 1.304\n",
      "\ttest RMSE = 1.286\n",
      "Iteration 86\n",
      "\ttrain RMSE = 1.191\n",
      "\ttest RMSE = 1.106\n",
      "Iteration 87\n",
      "\ttrain RMSE = 1.173\n",
      "\ttest RMSE = 1.102\n",
      "Iteration 88\n",
      "\ttrain RMSE = 1.264\n",
      "\ttest RMSE = 1.198\n",
      "Iteration 89\n",
      "\ttrain RMSE = 1.211\n",
      "\ttest RMSE = 1.138\n",
      "Iteration 90\n",
      "\ttrain RMSE = 1.169\n",
      "\ttest RMSE = 1.106\n",
      "Iteration 91\n",
      "\ttrain RMSE = 1.258\n",
      "\ttest RMSE = 1.183\n",
      "Iteration 92\n",
      "\ttrain RMSE = 1.207\n",
      "\ttest RMSE = 1.156\n",
      "Iteration 93\n",
      "\ttrain RMSE = 1.174\n",
      "\ttest RMSE = 1.128\n",
      "Iteration 94\n",
      "\ttrain RMSE = 1.139\n",
      "\ttest RMSE = 1.114\n",
      "Iteration 95\n",
      "\ttrain RMSE = 1.320\n",
      "\ttest RMSE = 1.278\n",
      "Iteration 96\n",
      "\ttrain RMSE = 1.135\n",
      "\ttest RMSE = 1.113\n",
      "Iteration 97\n",
      "\ttrain RMSE = 1.166\n",
      "\ttest RMSE = 1.141\n",
      "Iteration 98\n",
      "\ttrain RMSE = 1.102\n",
      "\ttest RMSE = 1.089\n",
      "Iteration 99\n",
      "\ttrain RMSE = 1.302\n",
      "\ttest RMSE = 1.329\n",
      "Iteration 100\n",
      "\ttrain RMSE = 1.184\n",
      "\ttest RMSE = 1.222\n",
      "Iteration 101\n",
      "\ttrain RMSE = 1.192\n",
      "\ttest RMSE = 1.112\n",
      "Iteration 102\n",
      "\ttrain RMSE = 1.200\n",
      "\ttest RMSE = 1.113\n",
      "Iteration 103\n",
      "\ttrain RMSE = 1.118\n",
      "\ttest RMSE = 1.132\n",
      "Iteration 104\n",
      "\ttrain RMSE = 1.266\n",
      "\ttest RMSE = 1.325\n",
      "Iteration 105\n",
      "\ttrain RMSE = 1.115\n",
      "\ttest RMSE = 1.121\n",
      "Iteration 106\n",
      "\ttrain RMSE = 1.183\n",
      "\ttest RMSE = 1.119\n",
      "Iteration 107\n",
      "\ttrain RMSE = 1.157\n",
      "\ttest RMSE = 1.097\n",
      "Iteration 108\n",
      "\ttrain RMSE = 1.158\n",
      "\ttest RMSE = 1.137\n",
      "Iteration 109\n",
      "\ttrain RMSE = 1.266\n",
      "\ttest RMSE = 1.262\n",
      "Iteration 110\n",
      "\ttrain RMSE = 1.120\n",
      "\ttest RMSE = 1.105\n",
      "Iteration 111\n",
      "\ttrain RMSE = 1.128\n",
      "\ttest RMSE = 1.057\n",
      "Iteration 112\n",
      "\ttrain RMSE = 1.159\n",
      "\ttest RMSE = 1.084\n",
      "Iteration 113\n",
      "\ttrain RMSE = 1.094\n",
      "\ttest RMSE = 1.087\n",
      "Iteration 114\n",
      "\ttrain RMSE = 1.214\n",
      "\ttest RMSE = 1.260\n",
      "Iteration 115\n",
      "\ttrain RMSE = 1.196\n",
      "\ttest RMSE = 1.240\n",
      "Iteration 116\n",
      "\ttrain RMSE = 1.067\n",
      "\ttest RMSE = 1.089\n",
      "Iteration 117\n",
      "\ttrain RMSE = 1.101\n",
      "\ttest RMSE = 1.113\n",
      "Iteration 118\n",
      "\ttrain RMSE = 1.062\n",
      "\ttest RMSE = 1.086\n",
      "Iteration 119\n",
      "\ttrain RMSE = 1.162\n",
      "\ttest RMSE = 1.195\n",
      "Iteration 120\n",
      "\ttrain RMSE = 1.148\n",
      "\ttest RMSE = 1.202\n",
      "Iteration 121\n",
      "\ttrain RMSE = 1.038\n",
      "\ttest RMSE = 1.067\n",
      "Iteration 122\n",
      "\ttrain RMSE = 1.075\n",
      "\ttest RMSE = 1.078\n",
      "Iteration 123\n",
      "\ttrain RMSE = 1.040\n",
      "\ttest RMSE = 1.071\n",
      "Iteration 124\n",
      "\ttrain RMSE = 1.120\n",
      "\ttest RMSE = 1.196\n",
      "Iteration 125\n",
      "\ttrain RMSE = 1.116\n",
      "\ttest RMSE = 1.182\n",
      "Iteration 126\n",
      "\ttrain RMSE = 1.041\n",
      "\ttest RMSE = 1.060\n",
      "Iteration 127\n",
      "\ttrain RMSE = 1.049\n",
      "\ttest RMSE = 1.067\n",
      "Iteration 128\n",
      "\ttrain RMSE = 1.062\n",
      "\ttest RMSE = 1.089\n",
      "Iteration 129\n",
      "\ttrain RMSE = 1.101\n",
      "\ttest RMSE = 1.140\n",
      "Iteration 130\n",
      "\ttrain RMSE = 1.034\n",
      "\ttest RMSE = 1.063\n",
      "Iteration 131\n",
      "\ttrain RMSE = 1.028\n",
      "\ttest RMSE = 1.049\n",
      "Iteration 132\n",
      "\ttrain RMSE = 1.023\n",
      "\ttest RMSE = 1.054\n",
      "Iteration 133\n",
      "\ttrain RMSE = 1.060\n",
      "\ttest RMSE = 1.081\n",
      "Iteration 134\n",
      "\ttrain RMSE = 1.049\n",
      "\ttest RMSE = 1.055\n",
      "Iteration 135\n",
      "\ttrain RMSE = 1.043\n",
      "\ttest RMSE = 1.049\n",
      "Iteration 136\n",
      "\ttrain RMSE = 1.027\n",
      "\ttest RMSE = 1.031\n",
      "Iteration 137\n",
      "\ttrain RMSE = 1.035\n",
      "\ttest RMSE = 1.061\n",
      "Iteration 138\n",
      "\ttrain RMSE = 1.038\n",
      "\ttest RMSE = 1.073\n",
      "Iteration 139\n",
      "\ttrain RMSE = 1.008\n",
      "\ttest RMSE = 1.026\n",
      "Iteration 140\n",
      "\ttrain RMSE = 1.002\n",
      "\ttest RMSE = 1.015\n",
      "Iteration 141\n",
      "\ttrain RMSE = 1.017\n",
      "\ttest RMSE = 1.037\n",
      "Iteration 142\n",
      "\ttrain RMSE = 1.009\n",
      "\ttest RMSE = 1.030\n",
      "Iteration 143\n",
      "\ttrain RMSE = 0.983\n",
      "\ttest RMSE = 1.005\n",
      "Iteration 144\n",
      "\ttrain RMSE = 0.986\n",
      "\ttest RMSE = 1.016\n",
      "Iteration 145\n",
      "\ttrain RMSE = 0.998\n",
      "\ttest RMSE = 1.031\n",
      "Iteration 146\n",
      "\ttrain RMSE = 0.982\n",
      "\ttest RMSE = 0.999\n",
      "Iteration 147\n",
      "\ttrain RMSE = 1.010\n",
      "\ttest RMSE = 1.042\n",
      "Iteration 148\n",
      "\ttrain RMSE = 0.978\n",
      "\ttest RMSE = 1.009\n",
      "Iteration 149\n",
      "\ttrain RMSE = 0.976\n",
      "\ttest RMSE = 1.017\n",
      "Iteration 150\n",
      "\ttrain RMSE = 0.955\n",
      "\ttest RMSE = 1.002\n",
      "Iteration 151\n",
      "\ttrain RMSE = 0.960\n",
      "\ttest RMSE = 1.011\n",
      "Iteration 152\n",
      "\ttrain RMSE = 0.971\n",
      "\ttest RMSE = 1.023\n",
      "Iteration 153\n",
      "\ttrain RMSE = 0.953\n",
      "\ttest RMSE = 0.993\n",
      "Iteration 154\n",
      "\ttrain RMSE = 1.003\n",
      "\ttest RMSE = 1.040\n",
      "Iteration 155\n",
      "\ttrain RMSE = 0.957\n",
      "\ttest RMSE = 1.001\n",
      "Iteration 156\n",
      "\ttrain RMSE = 0.949\n",
      "\ttest RMSE = 0.990\n"
     ]
    },
    {
     "name": "stdout",
     "output_type": "stream",
     "text": [
      "Iteration 157\n",
      "\ttrain RMSE = 1.037\n",
      "\ttest RMSE = 1.112\n",
      "Iteration 158\n",
      "\ttrain RMSE = 0.960\n",
      "\ttest RMSE = 1.018\n",
      "Iteration 159\n",
      "\ttrain RMSE = 0.952\n",
      "\ttest RMSE = 0.998\n",
      "Iteration 160\n",
      "\ttrain RMSE = 0.981\n",
      "\ttest RMSE = 1.045\n",
      "Iteration 161\n",
      "\ttrain RMSE = 1.007\n",
      "\ttest RMSE = 1.066\n",
      "Iteration 162\n",
      "\ttrain RMSE = 0.976\n",
      "\ttest RMSE = 1.035\n",
      "Iteration 163\n",
      "\ttrain RMSE = 0.936\n",
      "\ttest RMSE = 0.991\n",
      "Iteration 164\n",
      "\ttrain RMSE = 1.075\n",
      "\ttest RMSE = 1.149\n",
      "Iteration 165\n",
      "\ttrain RMSE = 0.991\n",
      "\ttest RMSE = 1.064\n",
      "Iteration 166\n",
      "\ttrain RMSE = 0.976\n",
      "\ttest RMSE = 1.007\n",
      "Iteration 167\n",
      "\ttrain RMSE = 0.945\n",
      "\ttest RMSE = 0.990\n",
      "Iteration 168\n",
      "\ttrain RMSE = 0.987\n",
      "\ttest RMSE = 1.065\n",
      "Iteration 169\n",
      "\ttrain RMSE = 1.004\n",
      "\ttest RMSE = 1.077\n",
      "Iteration 170\n",
      "\ttrain RMSE = 0.946\n",
      "\ttest RMSE = 1.017\n",
      "Iteration 171\n",
      "\ttrain RMSE = 0.959\n",
      "\ttest RMSE = 1.022\n",
      "Iteration 172\n",
      "\ttrain RMSE = 0.933\n",
      "\ttest RMSE = 0.996\n",
      "Iteration 173\n",
      "\ttrain RMSE = 0.996\n",
      "\ttest RMSE = 1.066\n",
      "Iteration 174\n",
      "\ttrain RMSE = 0.938\n",
      "\ttest RMSE = 0.974\n",
      "Iteration 175\n",
      "\ttrain RMSE = 0.945\n",
      "\ttest RMSE = 0.977\n",
      "Iteration 176\n",
      "\ttrain RMSE = 0.917\n",
      "\ttest RMSE = 0.978\n",
      "Iteration 177\n",
      "\ttrain RMSE = 0.954\n",
      "\ttest RMSE = 1.021\n",
      "Iteration 178\n",
      "\ttrain RMSE = 0.905\n",
      "\ttest RMSE = 0.982\n",
      "Iteration 179\n",
      "\ttrain RMSE = 0.909\n",
      "\ttest RMSE = 0.987\n",
      "Iteration 180\n",
      "\ttrain RMSE = 0.919\n",
      "\ttest RMSE = 0.995\n",
      "Iteration 181\n",
      "\ttrain RMSE = 0.985\n",
      "\ttest RMSE = 1.054\n",
      "Iteration 182\n",
      "\ttrain RMSE = 0.906\n",
      "\ttest RMSE = 0.970\n",
      "Iteration 183\n",
      "\ttrain RMSE = 0.911\n",
      "\ttest RMSE = 0.972\n",
      "Iteration 184\n",
      "\ttrain RMSE = 0.948\n",
      "\ttest RMSE = 1.007\n",
      "Iteration 185\n",
      "\ttrain RMSE = 0.936\n",
      "\ttest RMSE = 0.999\n",
      "Iteration 186\n",
      "\ttrain RMSE = 0.907\n",
      "\ttest RMSE = 0.980\n",
      "Iteration 187\n",
      "\ttrain RMSE = 0.901\n",
      "\ttest RMSE = 0.974\n",
      "Iteration 188\n",
      "\ttrain RMSE = 0.934\n",
      "\ttest RMSE = 1.012\n",
      "Iteration 189\n",
      "\ttrain RMSE = 0.893\n",
      "\ttest RMSE = 0.951\n",
      "Iteration 190\n",
      "\ttrain RMSE = 0.892\n",
      "\ttest RMSE = 0.943\n",
      "Iteration 191\n",
      "\ttrain RMSE = 0.933\n",
      "\ttest RMSE = 0.989\n",
      "Iteration 192\n",
      "\ttrain RMSE = 0.903\n",
      "\ttest RMSE = 0.950\n",
      "Iteration 193\n",
      "\ttrain RMSE = 0.910\n",
      "\ttest RMSE = 0.961\n",
      "Iteration 194\n",
      "\ttrain RMSE = 0.918\n",
      "\ttest RMSE = 0.963\n",
      "Iteration 195\n",
      "\ttrain RMSE = 0.893\n",
      "\ttest RMSE = 0.953\n",
      "Iteration 196\n",
      "\ttrain RMSE = 0.877\n",
      "\ttest RMSE = 0.948\n",
      "Iteration 197\n",
      "\ttrain RMSE = 0.888\n",
      "\ttest RMSE = 0.956\n",
      "Iteration 198\n",
      "\ttrain RMSE = 0.917\n",
      "\ttest RMSE = 0.974\n",
      "Iteration 199\n",
      "\ttrain RMSE = 0.893\n",
      "\ttest RMSE = 0.967\n",
      "Iteration 200\n",
      "\ttrain RMSE = 0.914\n",
      "\ttest RMSE = 0.973\n",
      "Iteration 201\n",
      "\ttrain RMSE = 0.901\n",
      "\ttest RMSE = 0.969\n",
      "Iteration 202\n",
      "\ttrain RMSE = 0.880\n",
      "\ttest RMSE = 0.946\n",
      "Iteration 203\n",
      "\ttrain RMSE = 0.880\n",
      "\ttest RMSE = 0.951\n",
      "Iteration 204\n",
      "\ttrain RMSE = 0.919\n",
      "\ttest RMSE = 1.009\n",
      "Iteration 205\n",
      "\ttrain RMSE = 0.866\n",
      "\ttest RMSE = 0.950\n",
      "Iteration 206\n",
      "\ttrain RMSE = 0.874\n",
      "\ttest RMSE = 0.962\n",
      "Iteration 207\n",
      "\ttrain RMSE = 0.899\n",
      "\ttest RMSE = 0.987\n",
      "Iteration 208\n",
      "\ttrain RMSE = 0.854\n",
      "\ttest RMSE = 0.949\n",
      "Iteration 209\n",
      "\ttrain RMSE = 0.853\n",
      "\ttest RMSE = 0.956\n",
      "Iteration 210\n",
      "\ttrain RMSE = 0.876\n",
      "\ttest RMSE = 0.977\n",
      "Iteration 211\n",
      "\ttrain RMSE = 0.845\n",
      "\ttest RMSE = 0.939\n",
      "Iteration 212\n",
      "\ttrain RMSE = 0.840\n",
      "\ttest RMSE = 0.933\n",
      "Iteration 213\n",
      "\ttrain RMSE = 0.957\n",
      "\ttest RMSE = 1.024\n",
      "Iteration 214\n",
      "\ttrain RMSE = 0.869\n",
      "\ttest RMSE = 0.951\n",
      "Iteration 215\n",
      "\ttrain RMSE = 0.914\n",
      "\ttest RMSE = 1.018\n",
      "Iteration 216\n",
      "\ttrain RMSE = 0.845\n",
      "\ttest RMSE = 0.942\n",
      "Iteration 217\n",
      "\ttrain RMSE = 0.986\n",
      "\ttest RMSE = 1.080\n",
      "Iteration 218\n",
      "\ttrain RMSE = 0.901\n",
      "\ttest RMSE = 1.000\n",
      "Iteration 219\n",
      "\ttrain RMSE = 0.896\n",
      "\ttest RMSE = 0.990\n",
      "Iteration 220\n",
      "\ttrain RMSE = 0.871\n",
      "\ttest RMSE = 0.967\n",
      "Iteration 221\n",
      "\ttrain RMSE = 0.927\n",
      "\ttest RMSE = 1.026\n",
      "Iteration 222\n",
      "\ttrain RMSE = 0.954\n",
      "\ttest RMSE = 1.047\n",
      "Iteration 223\n",
      "\ttrain RMSE = 0.833\n",
      "\ttest RMSE = 0.926\n",
      "Iteration 224\n",
      "\ttrain RMSE = 0.860\n",
      "\ttest RMSE = 0.951\n",
      "Iteration 225\n",
      "\ttrain RMSE = 0.836\n",
      "\ttest RMSE = 0.928\n",
      "Iteration 226\n",
      "\ttrain RMSE = 0.906\n",
      "\ttest RMSE = 0.994\n",
      "Iteration 227\n",
      "\ttrain RMSE = 0.832\n",
      "\ttest RMSE = 0.933\n",
      "Iteration 228\n",
      "\ttrain RMSE = 0.836\n",
      "\ttest RMSE = 0.944\n",
      "Iteration 229\n",
      "\ttrain RMSE = 0.824\n",
      "\ttest RMSE = 0.929\n",
      "Iteration 230\n",
      "\ttrain RMSE = 0.904\n",
      "\ttest RMSE = 0.988\n",
      "Iteration 231\n",
      "\ttrain RMSE = 0.836\n",
      "\ttest RMSE = 0.934\n",
      "Iteration 232\n",
      "\ttrain RMSE = 0.877\n",
      "\ttest RMSE = 0.988\n",
      "Iteration 233\n",
      "\ttrain RMSE = 0.827\n",
      "\ttest RMSE = 0.936\n",
      "Iteration 234\n",
      "\ttrain RMSE = 0.909\n",
      "\ttest RMSE = 0.999\n",
      "Iteration 235\n",
      "\ttrain RMSE = 0.876\n",
      "\ttest RMSE = 0.974\n",
      "Iteration 236\n",
      "\ttrain RMSE = 0.819\n",
      "\ttest RMSE = 0.937\n",
      "Iteration 237\n",
      "\ttrain RMSE = 0.815\n",
      "\ttest RMSE = 0.935\n",
      "Iteration 238\n",
      "\ttrain RMSE = 0.872\n",
      "\ttest RMSE = 0.976\n",
      "Iteration 239\n",
      "\ttrain RMSE = 0.843\n",
      "\ttest RMSE = 0.958\n",
      "Iteration 240\n",
      "\ttrain RMSE = 0.827\n",
      "\ttest RMSE = 0.950\n",
      "Iteration 241\n",
      "\ttrain RMSE = 0.822\n",
      "\ttest RMSE = 0.942\n",
      "Iteration 242\n",
      "\ttrain RMSE = 0.890\n",
      "\ttest RMSE = 0.999\n",
      "Iteration 243\n",
      "\ttrain RMSE = 0.827\n",
      "\ttest RMSE = 0.945\n",
      "Iteration 244\n",
      "\ttrain RMSE = 0.806\n",
      "\ttest RMSE = 0.930\n",
      "Iteration 245\n",
      "\ttrain RMSE = 0.802\n",
      "\ttest RMSE = 0.930\n",
      "Iteration 246\n",
      "\ttrain RMSE = 0.836\n",
      "\ttest RMSE = 0.953\n",
      "Iteration 247\n",
      "\ttrain RMSE = 0.796\n",
      "\ttest RMSE = 0.936\n",
      "Iteration 248\n",
      "\ttrain RMSE = 0.794\n",
      "\ttest RMSE = 0.934\n",
      "Iteration 249\n",
      "\ttrain RMSE = 0.845\n",
      "\ttest RMSE = 0.956\n",
      "Iteration 250\n",
      "\ttrain RMSE = 0.816\n",
      "\ttest RMSE = 0.932\n",
      "Iteration 251\n",
      "\ttrain RMSE = 0.808\n",
      "\ttest RMSE = 0.930\n",
      "Iteration 252\n",
      "\ttrain RMSE = 0.838\n",
      "\ttest RMSE = 0.948\n",
      "Iteration 253\n",
      "\ttrain RMSE = 0.803\n",
      "\ttest RMSE = 0.932\n",
      "Iteration 254\n",
      "\ttrain RMSE = 0.801\n",
      "\ttest RMSE = 0.956\n",
      "Iteration 255\n",
      "\ttrain RMSE = 0.797\n",
      "\ttest RMSE = 0.941\n",
      "Iteration 256\n",
      "\ttrain RMSE = 0.802\n",
      "\ttest RMSE = 0.944\n",
      "Iteration 257\n",
      "\ttrain RMSE = 0.790\n",
      "\ttest RMSE = 0.941\n",
      "Iteration 258\n",
      "\ttrain RMSE = 0.799\n",
      "\ttest RMSE = 0.937\n",
      "Iteration 259\n",
      "\ttrain RMSE = 0.810\n",
      "\ttest RMSE = 0.941\n",
      "Iteration 260\n",
      "\ttrain RMSE = 0.788\n",
      "\ttest RMSE = 0.926\n",
      "Iteration 261\n",
      "\ttrain RMSE = 0.796\n",
      "\ttest RMSE = 0.924\n",
      "Iteration 262\n",
      "\ttrain RMSE = 0.819\n",
      "\ttest RMSE = 0.937\n",
      "Iteration 263\n",
      "\ttrain RMSE = 0.788\n",
      "\ttest RMSE = 0.939\n",
      "Iteration 264\n",
      "\ttrain RMSE = 0.780\n",
      "\ttest RMSE = 0.929\n",
      "Iteration 265\n",
      "\ttrain RMSE = 0.819\n",
      "\ttest RMSE = 0.959\n",
      "Iteration 266\n",
      "\ttrain RMSE = 0.775\n",
      "\ttest RMSE = 0.928\n",
      "Iteration 267\n",
      "\ttrain RMSE = 0.772\n",
      "\ttest RMSE = 0.929\n",
      "Iteration 268\n",
      "\ttrain RMSE = 0.813\n",
      "\ttest RMSE = 0.956\n",
      "Iteration 269\n",
      "\ttrain RMSE = 0.788\n",
      "\ttest RMSE = 0.947\n",
      "Iteration 270\n",
      "\ttrain RMSE = 0.795\n",
      "\ttest RMSE = 0.949\n",
      "Iteration 271\n",
      "\ttrain RMSE = 0.794\n",
      "\ttest RMSE = 0.951\n",
      "Iteration 272\n",
      "\ttrain RMSE = 0.770\n",
      "\ttest RMSE = 0.950\n",
      "Iteration 273\n",
      "\ttrain RMSE = 0.773\n",
      "\ttest RMSE = 0.943\n",
      "Iteration 274\n",
      "\ttrain RMSE = 0.785\n",
      "\ttest RMSE = 0.946\n",
      "Iteration 275\n",
      "\ttrain RMSE = 0.775\n",
      "\ttest RMSE = 0.946\n",
      "Iteration 276\n",
      "\ttrain RMSE = 0.799\n",
      "\ttest RMSE = 0.961\n",
      "Iteration 277\n",
      "\ttrain RMSE = 0.769\n",
      "\ttest RMSE = 0.938\n",
      "Iteration 278\n",
      "\ttrain RMSE = 0.774\n",
      "\ttest RMSE = 0.937\n",
      "Iteration 279\n",
      "\ttrain RMSE = 0.775\n",
      "\ttest RMSE = 0.935\n",
      "Iteration 280\n",
      "\ttrain RMSE = 0.758\n",
      "\ttest RMSE = 0.931\n",
      "Iteration 281\n",
      "\ttrain RMSE = 0.758\n",
      "\ttest RMSE = 0.932\n",
      "Iteration 282\n",
      "\ttrain RMSE = 0.758\n",
      "\ttest RMSE = 0.932\n",
      "Iteration 283\n",
      "\ttrain RMSE = 0.769\n",
      "\ttest RMSE = 0.943\n",
      "Iteration 284\n",
      "\ttrain RMSE = 0.760\n",
      "\ttest RMSE = 0.945\n",
      "Iteration 285\n",
      "\ttrain RMSE = 0.788\n",
      "\ttest RMSE = 0.962\n",
      "Iteration 286\n",
      "\ttrain RMSE = 0.757\n",
      "\ttest RMSE = 0.937\n",
      "Iteration 287\n",
      "\ttrain RMSE = 0.747\n",
      "\ttest RMSE = 0.934\n",
      "Iteration 288\n",
      "\ttrain RMSE = 0.757\n",
      "\ttest RMSE = 0.942\n",
      "Iteration 289\n",
      "\ttrain RMSE = 0.760\n",
      "\ttest RMSE = 0.948\n",
      "Iteration 290\n",
      "\ttrain RMSE = 0.767\n",
      "\ttest RMSE = 0.978\n",
      "Iteration 291\n",
      "\ttrain RMSE = 0.776\n",
      "\ttest RMSE = 0.963\n",
      "Iteration 292\n",
      "\ttrain RMSE = 0.766\n",
      "\ttest RMSE = 0.958\n",
      "Iteration 293\n",
      "\ttrain RMSE = 0.744\n",
      "\ttest RMSE = 0.941\n",
      "Iteration 294\n",
      "\ttrain RMSE = 0.761\n",
      "\ttest RMSE = 0.946\n",
      "Iteration 295\n",
      "\ttrain RMSE = 0.780\n",
      "\ttest RMSE = 0.953\n",
      "Iteration 296\n",
      "\ttrain RMSE = 0.757\n",
      "\ttest RMSE = 0.948\n",
      "Iteration 297\n",
      "\ttrain RMSE = 0.767\n",
      "\ttest RMSE = 0.945\n",
      "Iteration 298\n",
      "\ttrain RMSE = 0.743\n",
      "\ttest RMSE = 0.936\n",
      "Iteration 299\n",
      "\ttrain RMSE = 0.751\n",
      "\ttest RMSE = 0.942\n",
      "Iteration 300\n",
      "\ttrain RMSE = 0.747\n",
      "\ttest RMSE = 0.940\n",
      "Iteration 301\n",
      "\ttrain RMSE = 0.742\n",
      "\ttest RMSE = 0.954\n",
      "Iteration 302\n",
      "\ttrain RMSE = 0.772\n",
      "\ttest RMSE = 0.949\n",
      "Iteration 303\n",
      "\ttrain RMSE = 0.731\n",
      "\ttest RMSE = 0.931\n",
      "Iteration 304\n",
      "\ttrain RMSE = 0.734\n",
      "\ttest RMSE = 0.934\n",
      "Iteration 305\n",
      "\ttrain RMSE = 0.790\n",
      "\ttest RMSE = 0.973\n",
      "Iteration 306\n",
      "\ttrain RMSE = 0.734\n",
      "\ttest RMSE = 0.947\n",
      "Iteration 307\n",
      "\ttrain RMSE = 0.736\n",
      "\ttest RMSE = 0.951\n",
      "Iteration 308\n",
      "\ttrain RMSE = 0.784\n",
      "\ttest RMSE = 0.968\n",
      "Iteration 309\n",
      "\ttrain RMSE = 0.747\n",
      "\ttest RMSE = 0.945\n",
      "Iteration 310\n",
      "\ttrain RMSE = 0.729\n",
      "\ttest RMSE = 0.949\n",
      "Iteration 311\n",
      "\ttrain RMSE = 0.746\n",
      "\ttest RMSE = 0.935\n"
     ]
    },
    {
     "name": "stdout",
     "output_type": "stream",
     "text": [
      "Iteration 312\n",
      "\ttrain RMSE = 0.740\n",
      "\ttest RMSE = 0.934\n",
      "Iteration 313\n",
      "\ttrain RMSE = 0.729\n",
      "\ttest RMSE = 0.941\n",
      "Iteration 314\n",
      "\ttrain RMSE = 0.740\n",
      "\ttest RMSE = 0.948\n",
      "Iteration 315\n",
      "\ttrain RMSE = 0.794\n",
      "\ttest RMSE = 0.983\n",
      "Iteration 316\n",
      "\ttrain RMSE = 0.740\n",
      "\ttest RMSE = 0.960\n",
      "Iteration 317\n",
      "\ttrain RMSE = 0.725\n",
      "\ttest RMSE = 0.939\n",
      "Iteration 318\n",
      "\ttrain RMSE = 0.769\n",
      "\ttest RMSE = 0.953\n",
      "Iteration 319\n",
      "\ttrain RMSE = 0.724\n",
      "\ttest RMSE = 0.927\n",
      "Iteration 320\n",
      "\ttrain RMSE = 0.720\n",
      "\ttest RMSE = 0.943\n",
      "Iteration 321\n",
      "\ttrain RMSE = 0.743\n",
      "\ttest RMSE = 0.921\n",
      "Iteration 322\n",
      "\ttrain RMSE = 0.763\n",
      "\ttest RMSE = 0.937\n",
      "Iteration 323\n",
      "\ttrain RMSE = 0.743\n",
      "\ttest RMSE = 0.952\n",
      "Iteration 324\n",
      "\ttrain RMSE = 0.737\n",
      "\ttest RMSE = 0.957\n",
      "Iteration 325\n",
      "\ttrain RMSE = 0.746\n",
      "\ttest RMSE = 0.967\n",
      "Iteration 326\n",
      "\ttrain RMSE = 0.727\n",
      "\ttest RMSE = 0.956\n",
      "Iteration 327\n",
      "\ttrain RMSE = 0.722\n",
      "\ttest RMSE = 0.957\n",
      "Iteration 328\n",
      "\ttrain RMSE = 0.737\n",
      "\ttest RMSE = 0.947\n",
      "Iteration 329\n",
      "\ttrain RMSE = 0.724\n",
      "\ttest RMSE = 0.942\n",
      "Iteration 330\n",
      "\ttrain RMSE = 0.710\n",
      "\ttest RMSE = 0.940\n",
      "Iteration 331\n",
      "\ttrain RMSE = 0.744\n",
      "\ttest RMSE = 0.946\n",
      "Iteration 332\n",
      "\ttrain RMSE = 0.715\n",
      "\ttest RMSE = 0.929\n",
      "Iteration 333\n",
      "\ttrain RMSE = 0.727\n",
      "\ttest RMSE = 0.942\n",
      "Iteration 334\n",
      "\ttrain RMSE = 0.733\n",
      "\ttest RMSE = 0.936\n",
      "Iteration 335\n",
      "\ttrain RMSE = 0.730\n",
      "\ttest RMSE = 0.944\n",
      "Iteration 336\n",
      "\ttrain RMSE = 0.738\n",
      "\ttest RMSE = 0.963\n",
      "Iteration 337\n",
      "\ttrain RMSE = 0.754\n",
      "\ttest RMSE = 0.972\n",
      "Iteration 338\n",
      "\ttrain RMSE = 0.729\n",
      "\ttest RMSE = 0.970\n",
      "Iteration 339\n",
      "\ttrain RMSE = 0.714\n",
      "\ttest RMSE = 0.963\n",
      "Iteration 340\n",
      "\ttrain RMSE = 0.722\n",
      "\ttest RMSE = 0.962\n",
      "Iteration 341\n",
      "\ttrain RMSE = 0.704\n",
      "\ttest RMSE = 0.958\n",
      "Iteration 342\n",
      "\ttrain RMSE = 0.718\n",
      "\ttest RMSE = 0.965\n",
      "Iteration 343\n",
      "\ttrain RMSE = 0.733\n",
      "\ttest RMSE = 0.975\n",
      "Iteration 344\n",
      "\ttrain RMSE = 0.711\n",
      "\ttest RMSE = 0.980\n",
      "Iteration 345\n",
      "\ttrain RMSE = 0.716\n",
      "\ttest RMSE = 0.954\n",
      "Iteration 346\n",
      "\ttrain RMSE = 0.706\n",
      "\ttest RMSE = 0.940\n",
      "Iteration 347\n",
      "\ttrain RMSE = 0.702\n",
      "\ttest RMSE = 0.937\n",
      "Iteration 348\n",
      "\ttrain RMSE = 0.694\n",
      "\ttest RMSE = 0.942\n",
      "Iteration 349\n",
      "\ttrain RMSE = 0.708\n",
      "\ttest RMSE = 0.948\n",
      "Iteration 350\n",
      "\ttrain RMSE = 0.698\n",
      "\ttest RMSE = 0.950\n",
      "Iteration 351\n",
      "\ttrain RMSE = 0.709\n",
      "\ttest RMSE = 0.950\n",
      "Iteration 352\n",
      "\ttrain RMSE = 0.703\n",
      "\ttest RMSE = 0.953\n",
      "Iteration 353\n",
      "\ttrain RMSE = 0.746\n",
      "\ttest RMSE = 0.971\n",
      "Iteration 354\n",
      "\ttrain RMSE = 0.705\n",
      "\ttest RMSE = 0.948\n",
      "Iteration 355\n",
      "\ttrain RMSE = 0.689\n",
      "\ttest RMSE = 0.947\n",
      "Iteration 356\n",
      "\ttrain RMSE = 0.694\n",
      "\ttest RMSE = 0.944\n",
      "Iteration 357\n",
      "\ttrain RMSE = 0.700\n",
      "\ttest RMSE = 0.940\n",
      "Iteration 358\n",
      "\ttrain RMSE = 0.692\n",
      "\ttest RMSE = 0.951\n",
      "Iteration 359\n",
      "\ttrain RMSE = 0.715\n",
      "\ttest RMSE = 0.959\n",
      "Iteration 360\n",
      "\ttrain RMSE = 0.698\n",
      "\ttest RMSE = 0.961\n",
      "Iteration 361\n",
      "\ttrain RMSE = 0.688\n",
      "\ttest RMSE = 0.969\n",
      "Iteration 362\n",
      "\ttrain RMSE = 0.690\n",
      "\ttest RMSE = 0.965\n",
      "Iteration 363\n",
      "\ttrain RMSE = 0.705\n",
      "\ttest RMSE = 0.960\n",
      "Iteration 364\n",
      "\ttrain RMSE = 0.682\n",
      "\ttest RMSE = 0.959\n",
      "Iteration 365\n",
      "\ttrain RMSE = 0.690\n",
      "\ttest RMSE = 0.951\n",
      "Iteration 366\n",
      "\ttrain RMSE = 0.697\n",
      "\ttest RMSE = 0.958\n",
      "Iteration 367\n",
      "\ttrain RMSE = 0.677\n",
      "\ttest RMSE = 0.971\n",
      "Iteration 368\n",
      "\ttrain RMSE = 0.712\n",
      "\ttest RMSE = 0.972\n",
      "Iteration 369\n",
      "\ttrain RMSE = 0.678\n",
      "\ttest RMSE = 0.983\n",
      "Iteration 370\n",
      "\ttrain RMSE = 0.691\n",
      "\ttest RMSE = 0.977\n",
      "Iteration 371\n",
      "\ttrain RMSE = 0.727\n",
      "\ttest RMSE = 0.989\n",
      "Iteration 372\n",
      "\ttrain RMSE = 0.694\n",
      "\ttest RMSE = 0.983\n",
      "Iteration 373\n",
      "\ttrain RMSE = 0.688\n",
      "\ttest RMSE = 0.968\n",
      "Iteration 374\n",
      "\ttrain RMSE = 0.675\n",
      "\ttest RMSE = 0.968\n",
      "Iteration 375\n",
      "\ttrain RMSE = 0.695\n",
      "\ttest RMSE = 0.971\n",
      "Iteration 376\n",
      "\ttrain RMSE = 0.687\n",
      "\ttest RMSE = 0.982\n",
      "Iteration 377\n",
      "\ttrain RMSE = 0.675\n",
      "\ttest RMSE = 0.968\n",
      "Iteration 378\n",
      "\ttrain RMSE = 0.691\n",
      "\ttest RMSE = 0.958\n",
      "Iteration 379\n",
      "\ttrain RMSE = 0.682\n",
      "\ttest RMSE = 0.954\n",
      "Iteration 380\n",
      "\ttrain RMSE = 0.700\n",
      "\ttest RMSE = 0.965\n",
      "Iteration 381\n",
      "\ttrain RMSE = 0.717\n",
      "\ttest RMSE = 0.980\n",
      "Iteration 382\n",
      "\ttrain RMSE = 0.680\n",
      "\ttest RMSE = 0.990\n",
      "Iteration 383\n",
      "\ttrain RMSE = 0.674\n",
      "\ttest RMSE = 0.972\n",
      "Iteration 384\n",
      "\ttrain RMSE = 0.728\n",
      "\ttest RMSE = 0.989\n",
      "Iteration 385\n",
      "\ttrain RMSE = 0.676\n",
      "\ttest RMSE = 0.994\n",
      "Iteration 386\n",
      "\ttrain RMSE = 0.666\n",
      "\ttest RMSE = 0.970\n",
      "Iteration 387\n",
      "\ttrain RMSE = 0.807\n",
      "\ttest RMSE = 1.020\n",
      "Iteration 388\n",
      "\ttrain RMSE = 0.690\n",
      "\ttest RMSE = 0.960\n",
      "Iteration 389\n",
      "\ttrain RMSE = 0.716\n",
      "\ttest RMSE = 1.017\n",
      "Iteration 390\n",
      "\ttrain RMSE = 0.683\n",
      "\ttest RMSE = 0.954\n",
      "Iteration 391\n",
      "\ttrain RMSE = 0.739\n",
      "\ttest RMSE = 0.980\n",
      "Iteration 392\n",
      "\ttrain RMSE = 0.682\n",
      "\ttest RMSE = 0.984\n",
      "Iteration 393\n",
      "\ttrain RMSE = 0.669\n",
      "\ttest RMSE = 0.970\n",
      "Iteration 394\n",
      "\ttrain RMSE = 0.775\n",
      "\ttest RMSE = 1.015\n",
      "Iteration 395\n",
      "\ttrain RMSE = 0.688\n",
      "\ttest RMSE = 0.970\n",
      "Iteration 396\n",
      "\ttrain RMSE = 0.693\n",
      "\ttest RMSE = 0.986\n",
      "Iteration 397\n",
      "\ttrain RMSE = 0.731\n",
      "\ttest RMSE = 0.978\n",
      "Iteration 398\n",
      "\ttrain RMSE = 0.687\n",
      "\ttest RMSE = 0.955\n",
      "Iteration 399\n",
      "\ttrain RMSE = 0.678\n",
      "\ttest RMSE = 0.973\n",
      "Iteration 400\n",
      "\ttrain RMSE = 0.667\n",
      "\ttest RMSE = 0.964\n",
      "Iteration 401\n",
      "\ttrain RMSE = 0.690\n",
      "\ttest RMSE = 0.976\n",
      "Iteration 402\n",
      "\ttrain RMSE = 0.666\n",
      "\ttest RMSE = 0.981\n",
      "Iteration 403\n",
      "\ttrain RMSE = 0.668\n",
      "\ttest RMSE = 0.976\n",
      "Iteration 404\n",
      "\ttrain RMSE = 0.699\n",
      "\ttest RMSE = 0.964\n",
      "Iteration 405\n",
      "\ttrain RMSE = 0.682\n",
      "\ttest RMSE = 0.951\n",
      "Iteration 406\n",
      "\ttrain RMSE = 0.675\n",
      "\ttest RMSE = 0.968\n",
      "Iteration 407\n",
      "\ttrain RMSE = 0.686\n",
      "\ttest RMSE = 0.967\n",
      "Iteration 408\n",
      "\ttrain RMSE = 0.699\n",
      "\ttest RMSE = 0.985\n",
      "Iteration 409\n",
      "\ttrain RMSE = 0.675\n",
      "\ttest RMSE = 0.995\n",
      "Iteration 410\n",
      "\ttrain RMSE = 0.668\n",
      "\ttest RMSE = 0.976\n",
      "Iteration 411\n",
      "\ttrain RMSE = 0.697\n",
      "\ttest RMSE = 0.964\n",
      "Iteration 412\n",
      "\ttrain RMSE = 0.677\n",
      "\ttest RMSE = 0.962\n",
      "Iteration 413\n",
      "\ttrain RMSE = 0.663\n",
      "\ttest RMSE = 0.976\n",
      "Iteration 414\n",
      "\ttrain RMSE = 0.687\n",
      "\ttest RMSE = 0.993\n",
      "Iteration 415\n",
      "\ttrain RMSE = 0.659\n",
      "\ttest RMSE = 1.001\n",
      "Iteration 416\n",
      "\ttrain RMSE = 0.668\n",
      "\ttest RMSE = 0.988\n",
      "Iteration 417\n",
      "\ttrain RMSE = 0.658\n",
      "\ttest RMSE = 0.982\n",
      "Iteration 418\n",
      "\ttrain RMSE = 0.664\n",
      "\ttest RMSE = 0.966\n",
      "Iteration 419\n",
      "\ttrain RMSE = 0.654\n",
      "\ttest RMSE = 0.969\n",
      "Iteration 420\n",
      "\ttrain RMSE = 0.677\n",
      "\ttest RMSE = 0.976\n",
      "Iteration 421\n",
      "\ttrain RMSE = 0.660\n",
      "\ttest RMSE = 0.993\n",
      "Iteration 422\n",
      "\ttrain RMSE = 0.661\n",
      "\ttest RMSE = 0.975\n",
      "Iteration 423\n",
      "\ttrain RMSE = 0.661\n",
      "\ttest RMSE = 0.976\n",
      "Iteration 424\n",
      "\ttrain RMSE = 0.655\n",
      "\ttest RMSE = 0.998\n",
      "Iteration 425\n",
      "\ttrain RMSE = 0.672\n",
      "\ttest RMSE = 0.999\n",
      "Iteration 426\n",
      "\ttrain RMSE = 0.651\n",
      "\ttest RMSE = 1.002\n",
      "Iteration 427\n",
      "\ttrain RMSE = 0.658\n",
      "\ttest RMSE = 0.993\n",
      "Iteration 428\n",
      "\ttrain RMSE = 0.673\n",
      "\ttest RMSE = 0.974\n",
      "Iteration 429\n",
      "\ttrain RMSE = 0.648\n",
      "\ttest RMSE = 0.972\n",
      "Iteration 430\n",
      "\ttrain RMSE = 0.650\n",
      "\ttest RMSE = 0.983\n",
      "Iteration 431\n",
      "\ttrain RMSE = 0.676\n",
      "\ttest RMSE = 0.995\n",
      "Iteration 432\n",
      "\ttrain RMSE = 0.669\n",
      "\ttest RMSE = 1.023\n",
      "Iteration 433\n",
      "\ttrain RMSE = 0.661\n",
      "\ttest RMSE = 0.985\n",
      "Iteration 434\n",
      "\ttrain RMSE = 0.647\n",
      "\ttest RMSE = 0.968\n",
      "Iteration 435\n",
      "\ttrain RMSE = 0.659\n",
      "\ttest RMSE = 0.973\n",
      "Iteration 436\n",
      "\ttrain RMSE = 0.665\n",
      "\ttest RMSE = 0.966\n",
      "Iteration 437\n",
      "\ttrain RMSE = 0.670\n",
      "\ttest RMSE = 0.977\n",
      "Iteration 438\n",
      "\ttrain RMSE = 0.661\n",
      "\ttest RMSE = 1.007\n",
      "Iteration 439\n",
      "\ttrain RMSE = 0.672\n",
      "\ttest RMSE = 0.991\n",
      "Iteration 440\n",
      "\ttrain RMSE = 0.656\n",
      "\ttest RMSE = 0.970\n"
     ]
    },
    {
     "ename": "KeyboardInterrupt",
     "evalue": "",
     "output_type": "error",
     "traceback": [
      "\u001b[0;31m---------------------------------------------------------------------------\u001b[0m",
      "\u001b[0;31mKeyboardInterrupt\u001b[0m                         Traceback (most recent call last)",
      "\u001b[0;32m<ipython-input-54-4ce3c4671e11>\u001b[0m in \u001b[0;36m<module>\u001b[0;34m\u001b[0m\n\u001b[1;32m     17\u001b[0m     \u001b[0mprint\u001b[0m\u001b[0;34m(\u001b[0m\u001b[0;34m'Iteration {}\\n\\ttrain RMSE = {:.3f}\\n\\ttest RMSE = {:.3f}'\u001b[0m\u001b[0;34m.\u001b[0m\u001b[0mformat\u001b[0m\u001b[0;34m(\u001b[0m\u001b[0mi\u001b[0m\u001b[0;34m,\u001b[0m \u001b[0mtrain_rmse\u001b[0m\u001b[0;34m,\u001b[0m \u001b[0mtest_rmse\u001b[0m\u001b[0;34m)\u001b[0m\u001b[0;34m)\u001b[0m\u001b[0;34m\u001b[0m\u001b[0;34m\u001b[0m\u001b[0m\n\u001b[1;32m     18\u001b[0m     \u001b[0mtraj\u001b[0m\u001b[0;34m.\u001b[0m\u001b[0mappend\u001b[0m\u001b[0;34m(\u001b[0m\u001b[0;34m(\u001b[0m\u001b[0mx\u001b[0m\u001b[0;34m,\u001b[0m\u001b[0mi\u001b[0m\u001b[0;34m,\u001b[0m\u001b[0mg\u001b[0m\u001b[0;34m)\u001b[0m\u001b[0;34m)\u001b[0m\u001b[0;34m\u001b[0m\u001b[0;34m\u001b[0m\u001b[0m\n\u001b[0;32m---> 19\u001b[0;31m \u001b[0mresult\u001b[0m \u001b[0;34m=\u001b[0m \u001b[0madam\u001b[0m\u001b[0;34m(\u001b[0m\u001b[0mgrad_loss\u001b[0m\u001b[0;34m,\u001b[0m \u001b[0mparams\u001b[0m\u001b[0;34m,\u001b[0m \u001b[0mcallback\u001b[0m\u001b[0;34m=\u001b[0m\u001b[0mcallback\u001b[0m\u001b[0;34m,\u001b[0m \u001b[0mnum_iters\u001b[0m\u001b[0;34m=\u001b[0m\u001b[0;36m1000\u001b[0m\u001b[0;34m)\u001b[0m\u001b[0;34m\u001b[0m\u001b[0;34m\u001b[0m\u001b[0m\n\u001b[0m",
      "\u001b[0;32m~/anaconda3/lib/python3.7/site-packages/autograd/misc/optimizers.py\u001b[0m in \u001b[0;36m_optimize\u001b[0;34m(grad, x0, callback, *args, **kwargs)\u001b[0m\n\u001b[1;32m     26\u001b[0m         \u001b[0;32melse\u001b[0m\u001b[0;34m:\u001b[0m\u001b[0;34m\u001b[0m\u001b[0;34m\u001b[0m\u001b[0m\n\u001b[1;32m     27\u001b[0m             \u001b[0m_callback\u001b[0m \u001b[0;34m=\u001b[0m \u001b[0;32mNone\u001b[0m\u001b[0;34m\u001b[0m\u001b[0;34m\u001b[0m\u001b[0m\n\u001b[0;32m---> 28\u001b[0;31m         \u001b[0;32mreturn\u001b[0m \u001b[0munflatten\u001b[0m\u001b[0;34m(\u001b[0m\u001b[0moptimize\u001b[0m\u001b[0;34m(\u001b[0m\u001b[0m_grad\u001b[0m\u001b[0;34m,\u001b[0m \u001b[0m_x0\u001b[0m\u001b[0;34m,\u001b[0m \u001b[0m_callback\u001b[0m\u001b[0;34m,\u001b[0m \u001b[0;34m*\u001b[0m\u001b[0margs\u001b[0m\u001b[0;34m,\u001b[0m \u001b[0;34m**\u001b[0m\u001b[0mkwargs\u001b[0m\u001b[0;34m)\u001b[0m\u001b[0;34m)\u001b[0m\u001b[0;34m\u001b[0m\u001b[0;34m\u001b[0m\u001b[0m\n\u001b[0m\u001b[1;32m     29\u001b[0m \u001b[0;34m\u001b[0m\u001b[0m\n\u001b[1;32m     30\u001b[0m     \u001b[0;32mreturn\u001b[0m \u001b[0m_optimize\u001b[0m\u001b[0;34m\u001b[0m\u001b[0;34m\u001b[0m\u001b[0m\n",
      "\u001b[0;32m~/anaconda3/lib/python3.7/site-packages/autograd/misc/optimizers.py\u001b[0m in \u001b[0;36madam\u001b[0;34m(grad, x, callback, num_iters, step_size, b1, b2, eps)\u001b[0m\n\u001b[1;32m     62\u001b[0m     \u001b[0mv\u001b[0m \u001b[0;34m=\u001b[0m \u001b[0mnp\u001b[0m\u001b[0;34m.\u001b[0m\u001b[0mzeros\u001b[0m\u001b[0;34m(\u001b[0m\u001b[0mlen\u001b[0m\u001b[0;34m(\u001b[0m\u001b[0mx\u001b[0m\u001b[0;34m)\u001b[0m\u001b[0;34m)\u001b[0m\u001b[0;34m\u001b[0m\u001b[0;34m\u001b[0m\u001b[0m\n\u001b[1;32m     63\u001b[0m     \u001b[0;32mfor\u001b[0m \u001b[0mi\u001b[0m \u001b[0;32min\u001b[0m \u001b[0mrange\u001b[0m\u001b[0;34m(\u001b[0m\u001b[0mnum_iters\u001b[0m\u001b[0;34m)\u001b[0m\u001b[0;34m:\u001b[0m\u001b[0;34m\u001b[0m\u001b[0;34m\u001b[0m\u001b[0m\n\u001b[0;32m---> 64\u001b[0;31m         \u001b[0mg\u001b[0m \u001b[0;34m=\u001b[0m \u001b[0mgrad\u001b[0m\u001b[0;34m(\u001b[0m\u001b[0mx\u001b[0m\u001b[0;34m,\u001b[0m \u001b[0mi\u001b[0m\u001b[0;34m)\u001b[0m\u001b[0;34m\u001b[0m\u001b[0;34m\u001b[0m\u001b[0m\n\u001b[0m\u001b[1;32m     65\u001b[0m         \u001b[0;32mif\u001b[0m \u001b[0mcallback\u001b[0m\u001b[0;34m:\u001b[0m \u001b[0mcallback\u001b[0m\u001b[0;34m(\u001b[0m\u001b[0mx\u001b[0m\u001b[0;34m,\u001b[0m \u001b[0mi\u001b[0m\u001b[0;34m,\u001b[0m \u001b[0mg\u001b[0m\u001b[0;34m)\u001b[0m\u001b[0;34m\u001b[0m\u001b[0;34m\u001b[0m\u001b[0m\n\u001b[1;32m     66\u001b[0m         \u001b[0mm\u001b[0m \u001b[0;34m=\u001b[0m \u001b[0;34m(\u001b[0m\u001b[0;36m1\u001b[0m \u001b[0;34m-\u001b[0m \u001b[0mb1\u001b[0m\u001b[0;34m)\u001b[0m \u001b[0;34m*\u001b[0m \u001b[0mg\u001b[0m      \u001b[0;34m+\u001b[0m \u001b[0mb1\u001b[0m \u001b[0;34m*\u001b[0m \u001b[0mm\u001b[0m  \u001b[0;31m# First  moment estimate.\u001b[0m\u001b[0;34m\u001b[0m\u001b[0;34m\u001b[0m\u001b[0m\n",
      "\u001b[0;32m~/anaconda3/lib/python3.7/site-packages/autograd/misc/optimizers.py\u001b[0m in \u001b[0;36m<lambda>\u001b[0;34m(x, i)\u001b[0m\n\u001b[1;32m     21\u001b[0m     \u001b[0;32mdef\u001b[0m \u001b[0m_optimize\u001b[0m\u001b[0;34m(\u001b[0m\u001b[0mgrad\u001b[0m\u001b[0;34m,\u001b[0m \u001b[0mx0\u001b[0m\u001b[0;34m,\u001b[0m \u001b[0mcallback\u001b[0m\u001b[0;34m=\u001b[0m\u001b[0;32mNone\u001b[0m\u001b[0;34m,\u001b[0m \u001b[0;34m*\u001b[0m\u001b[0margs\u001b[0m\u001b[0;34m,\u001b[0m \u001b[0;34m**\u001b[0m\u001b[0mkwargs\u001b[0m\u001b[0;34m)\u001b[0m\u001b[0;34m:\u001b[0m\u001b[0;34m\u001b[0m\u001b[0;34m\u001b[0m\u001b[0m\n\u001b[1;32m     22\u001b[0m         \u001b[0m_x0\u001b[0m\u001b[0;34m,\u001b[0m \u001b[0munflatten\u001b[0m \u001b[0;34m=\u001b[0m \u001b[0mflatten\u001b[0m\u001b[0;34m(\u001b[0m\u001b[0mx0\u001b[0m\u001b[0;34m)\u001b[0m\u001b[0;34m\u001b[0m\u001b[0;34m\u001b[0m\u001b[0m\n\u001b[0;32m---> 23\u001b[0;31m         \u001b[0m_grad\u001b[0m \u001b[0;34m=\u001b[0m \u001b[0;32mlambda\u001b[0m \u001b[0mx\u001b[0m\u001b[0;34m,\u001b[0m \u001b[0mi\u001b[0m\u001b[0;34m:\u001b[0m \u001b[0mflatten\u001b[0m\u001b[0;34m(\u001b[0m\u001b[0mgrad\u001b[0m\u001b[0;34m(\u001b[0m\u001b[0munflatten\u001b[0m\u001b[0;34m(\u001b[0m\u001b[0mx\u001b[0m\u001b[0;34m)\u001b[0m\u001b[0;34m,\u001b[0m \u001b[0mi\u001b[0m\u001b[0;34m)\u001b[0m\u001b[0;34m)\u001b[0m\u001b[0;34m[\u001b[0m\u001b[0;36m0\u001b[0m\u001b[0;34m]\u001b[0m\u001b[0;34m\u001b[0m\u001b[0;34m\u001b[0m\u001b[0m\n\u001b[0m\u001b[1;32m     24\u001b[0m         \u001b[0;32mif\u001b[0m \u001b[0mcallback\u001b[0m\u001b[0;34m:\u001b[0m\u001b[0;34m\u001b[0m\u001b[0;34m\u001b[0m\u001b[0m\n\u001b[1;32m     25\u001b[0m             \u001b[0m_callback\u001b[0m \u001b[0;34m=\u001b[0m \u001b[0;32mlambda\u001b[0m \u001b[0mx\u001b[0m\u001b[0;34m,\u001b[0m \u001b[0mi\u001b[0m\u001b[0;34m,\u001b[0m \u001b[0mg\u001b[0m\u001b[0;34m:\u001b[0m \u001b[0mcallback\u001b[0m\u001b[0;34m(\u001b[0m\u001b[0munflatten\u001b[0m\u001b[0;34m(\u001b[0m\u001b[0mx\u001b[0m\u001b[0;34m)\u001b[0m\u001b[0;34m,\u001b[0m \u001b[0mi\u001b[0m\u001b[0;34m,\u001b[0m \u001b[0munflatten\u001b[0m\u001b[0;34m(\u001b[0m\u001b[0mg\u001b[0m\u001b[0;34m)\u001b[0m\u001b[0;34m)\u001b[0m\u001b[0;34m\u001b[0m\u001b[0;34m\u001b[0m\u001b[0m\n",
      "\u001b[0;32m<ipython-input-54-4ce3c4671e11>\u001b[0m in \u001b[0;36mgrad_loss\u001b[0;34m(x, i)\u001b[0m\n\u001b[1;32m      5\u001b[0m \u001b[0;34m\u001b[0m\u001b[0m\n\u001b[1;32m      6\u001b[0m \u001b[0;32mdef\u001b[0m \u001b[0mgrad_loss\u001b[0m\u001b[0;34m(\u001b[0m\u001b[0mx\u001b[0m\u001b[0;34m,\u001b[0m \u001b[0mi\u001b[0m\u001b[0;34m)\u001b[0m\u001b[0;34m:\u001b[0m\u001b[0;34m\u001b[0m\u001b[0;34m\u001b[0m\u001b[0m\n\u001b[0;32m----> 7\u001b[0;31m     \u001b[0;32mreturn\u001b[0m \u001b[0mgrad\u001b[0m\u001b[0;34m(\u001b[0m\u001b[0mloss\u001b[0m\u001b[0;34m)\u001b[0m\u001b[0;34m(\u001b[0m\u001b[0mx\u001b[0m\u001b[0;34m)\u001b[0m\u001b[0;34m\u001b[0m\u001b[0;34m\u001b[0m\u001b[0m\n\u001b[0m\u001b[1;32m      8\u001b[0m \u001b[0;34m\u001b[0m\u001b[0m\n\u001b[1;32m      9\u001b[0m \u001b[0;34m\u001b[0m\u001b[0m\n",
      "\u001b[0;32m~/anaconda3/lib/python3.7/site-packages/autograd/wrap_util.py\u001b[0m in \u001b[0;36mnary_f\u001b[0;34m(*args, **kwargs)\u001b[0m\n\u001b[1;32m     18\u001b[0m             \u001b[0;32melse\u001b[0m\u001b[0;34m:\u001b[0m\u001b[0;34m\u001b[0m\u001b[0;34m\u001b[0m\u001b[0m\n\u001b[1;32m     19\u001b[0m                 \u001b[0mx\u001b[0m \u001b[0;34m=\u001b[0m \u001b[0mtuple\u001b[0m\u001b[0;34m(\u001b[0m\u001b[0margs\u001b[0m\u001b[0;34m[\u001b[0m\u001b[0mi\u001b[0m\u001b[0;34m]\u001b[0m \u001b[0;32mfor\u001b[0m \u001b[0mi\u001b[0m \u001b[0;32min\u001b[0m \u001b[0margnum\u001b[0m\u001b[0;34m)\u001b[0m\u001b[0;34m\u001b[0m\u001b[0;34m\u001b[0m\u001b[0m\n\u001b[0;32m---> 20\u001b[0;31m             \u001b[0;32mreturn\u001b[0m \u001b[0munary_operator\u001b[0m\u001b[0;34m(\u001b[0m\u001b[0munary_f\u001b[0m\u001b[0;34m,\u001b[0m \u001b[0mx\u001b[0m\u001b[0;34m,\u001b[0m \u001b[0;34m*\u001b[0m\u001b[0mnary_op_args\u001b[0m\u001b[0;34m,\u001b[0m \u001b[0;34m**\u001b[0m\u001b[0mnary_op_kwargs\u001b[0m\u001b[0;34m)\u001b[0m\u001b[0;34m\u001b[0m\u001b[0;34m\u001b[0m\u001b[0m\n\u001b[0m\u001b[1;32m     21\u001b[0m         \u001b[0;32mreturn\u001b[0m \u001b[0mnary_f\u001b[0m\u001b[0;34m\u001b[0m\u001b[0;34m\u001b[0m\u001b[0m\n\u001b[1;32m     22\u001b[0m     \u001b[0;32mreturn\u001b[0m \u001b[0mnary_operator\u001b[0m\u001b[0;34m\u001b[0m\u001b[0;34m\u001b[0m\u001b[0m\n",
      "\u001b[0;31mKeyboardInterrupt\u001b[0m: "
     ]
    }
   ],
   "source": [
    "from autograd.misc.optimizers import adam, sgd\n",
    "\n",
    "def loss(x):\n",
    "    return - log_posterior(x)\n",
    "\n",
    "def grad_loss(x, i):\n",
    "    return grad(loss)(x)\n",
    "\n",
    "\n",
    "traj = []\n",
    "prediction_traj = []\n",
    "def callback(x,i,g):\n",
    "    predictions = make_predictions(x, inds=np.arange(len(mols)), batch_size=50, randomized=False)\n",
    "    prediction_traj.append(predictions)\n",
    "    train_rmse = rmse(predictions[train_inds], expt_means[train_inds])\n",
    "    test_rmse = rmse(predictions[test_inds], expt_means[test_inds])\n",
    "    print('Iteration {}\\n\\ttrain RMSE = {:.3f}\\n\\ttest RMSE = {:.3f}'.format(i, train_rmse, test_rmse))\n",
    "    traj.append((x,i,g))\n",
    "result = adam(grad_loss, params, callback=callback, num_iters=1000)"
   ]
  },
  {
   "cell_type": "code",
   "execution_count": 55,
   "metadata": {
    "ExecuteTime": {
     "end_time": "2019-03-07T12:36:02.261260Z",
     "start_time": "2019-03-07T12:35:58.688010Z"
    }
   },
   "outputs": [],
   "source": [
    "np.savez('feedforward_typing_march6_result_student_t_loss_with_cha_correction_df=7_with_neighbors_and_per_particle_psis_big_batch.npz',\n",
    "         prediction_traj=prediction_traj,\n",
    "         train_inds=train_inds,\n",
    "         test_inds=test_inds,\n",
    "         expt_means=expt_means,\n",
    "         expt_uncs=expt_uncs,\n",
    "         traj=traj[::10],\n",
    "         layer_sizes=layer_sizes,\n",
    "        )"
   ]
  },
  {
   "cell_type": "code",
   "execution_count": 56,
   "metadata": {
    "ExecuteTime": {
     "end_time": "2019-03-07T12:36:03.432260Z",
     "start_time": "2019-03-07T12:36:03.411353Z"
    }
   },
   "outputs": [],
   "source": [
    "train_rmses = [rmse(snapshot[train_inds], expt_means[train_inds]) for snapshot in prediction_traj]\n",
    "test_rmses = [rmse(snapshot[test_inds], expt_means[test_inds]) for snapshot in prediction_traj]"
   ]
  },
  {
   "cell_type": "code",
   "execution_count": 57,
   "metadata": {
    "ExecuteTime": {
     "end_time": "2019-03-07T12:36:04.303232Z",
     "start_time": "2019-03-07T12:36:04.135925Z"
    }
   },
   "outputs": [
    {
     "name": "stdout",
     "output_type": "stream",
     "text": [
      "0.35883800317534864 0.6148984986562431\n"
     ]
    },
    {
     "data": {
      "text/plain": [
       "Text(0, 0.5, 'MUE')"
      ]
     },
     "execution_count": 57,
     "metadata": {},
     "output_type": "execute_result"
    },
    {
     "data": {
      "image/png": "[encoded data removed]",
      "text/plain": [
       "<Figure size 432x288 with 1 Axes>"
      ]
     },
     "metadata": {
      "needs_background": "light"
     },
     "output_type": "display_data"
    }
   ],
   "source": [
    "def mue(x,y):\n",
    "    return np.mean(np.abs(x-y))\n",
    "\n",
    "train_mues = [mue(snapshot[train_inds], expt_means[train_inds]) for snapshot in prediction_traj]\n",
    "test_mues = [mue(snapshot[test_inds], expt_means[test_inds]) for snapshot in prediction_traj]\n",
    "\n",
    "plt.plot(train_mues, )\n",
    "plt.plot(test_mues)\n",
    "\n",
    "print(train_mues[-1], test_mues[-1])\n",
    "plt.xlabel('Adam iteration')\n",
    "plt.ylabel('MUE')"
   ]
  },
  {
   "cell_type": "code",
   "execution_count": 58,
   "metadata": {
    "ExecuteTime": {
     "end_time": "2019-03-07T12:36:08.898354Z",
     "start_time": "2019-03-07T12:36:08.738151Z"
    }
   },
   "outputs": [
    {
     "name": "stdout",
     "output_type": "stream",
     "text": [
      "-0.03617901350936859 -0.07283700981756588\n"
     ]
    },
    {
     "data": {
      "text/plain": [
       "Text(0, 0.5, 'avg errors')"
      ]
     },
     "execution_count": 58,
     "metadata": {},
     "output_type": "execute_result"
    },
    {
     "data": {
      "image/png": "[encoded data removed]",
      "text/plain": [
       "<Figure size 432x288 with 1 Axes>"
      ]
     },
     "metadata": {
      "needs_background": "light"
     },
     "output_type": "display_data"
    }
   ],
   "source": [
    "def average_error(x,y):\n",
    "    return np.mean(x-y)\n",
    "\n",
    "train_avg_errors = [average_error(snapshot[train_inds], expt_means[train_inds]) for snapshot in prediction_traj]\n",
    "test_avg_errors = [average_error(snapshot[test_inds], expt_means[test_inds]) for snapshot in prediction_traj]\n",
    "\n",
    "plt.plot(train_avg_errors, )\n",
    "plt.plot(test_avg_errors)\n",
    "\n",
    "print(train_avg_errors[-1], test_avg_errors[-1])\n",
    "plt.xlabel('Adam iteration')\n",
    "plt.ylabel('avg errors')"
   ]
  },
  {
   "cell_type": "code",
   "execution_count": 59,
   "metadata": {
    "ExecuteTime": {
     "end_time": "2019-03-07T12:36:09.945681Z",
     "start_time": "2019-03-07T12:36:09.809142Z"
    }
   },
   "outputs": [
    {
     "data": {
      "text/plain": [
       "Text(0, 0.5, 'RMSE (kcal/mol)')"
      ]
     },
     "execution_count": 59,
     "metadata": {},
     "output_type": "execute_result"
    },
    {
     "data": {
      "image/png": "[encoded data removed]",
      "text/plain": [
       "<Figure size 432x288 with 1 Axes>"
      ]
     },
     "metadata": {
      "needs_background": "light"
     },
     "output_type": "display_data"
    }
   ],
   "source": [
    "plt.plot(train_rmses, )\n",
    "plt.plot(test_rmses)\n",
    "\n",
    "plt.hlines(2.425900278028874, 0, len(train_rmses), linestyles='--')\n",
    "\n",
    "plt.xlabel('Adam iteration')\n",
    "plt.ylabel('RMSE (kcal/mol)')"
   ]
  },
  {
   "cell_type": "code",
   "execution_count": 60,
   "metadata": {
    "ExecuteTime": {
     "end_time": "2019-03-07T12:36:11.246803Z",
     "start_time": "2019-03-07T12:36:11.241997Z"
    }
   },
   "outputs": [
    {
     "data": {
      "text/plain": [
       "(0.6558019089717088, 0.97020511440037)"
      ]
     },
     "execution_count": 60,
     "metadata": {},
     "output_type": "execute_result"
    }
   ],
   "source": [
    "train_rmses[-1], test_rmses[-1]"
   ]
  },
  {
   "cell_type": "code",
   "execution_count": 61,
   "metadata": {
    "ExecuteTime": {
     "end_time": "2019-03-07T12:36:12.158333Z",
     "start_time": "2019-03-07T12:36:12.153614Z"
    }
   },
   "outputs": [
    {
     "data": {
      "text/plain": [
       "(0.6465405526590177, 0.9207564300293462)"
      ]
     },
     "execution_count": 61,
     "metadata": {},
     "output_type": "execute_result"
    }
   ],
   "source": [
    "min(train_rmses), min(test_rmses)"
   ]
  },
  {
   "cell_type": "code",
   "execution_count": 62,
   "metadata": {
    "ExecuteTime": {
     "end_time": "2019-03-07T12:36:14.700951Z",
     "start_time": "2019-03-07T12:36:12.448145Z"
    }
   },
   "outputs": [
    {
     "data": {
      "text/plain": [
       "[<matplotlib.lines.Line2D at 0x1b25103128>]"
      ]
     },
     "execution_count": 62,
     "metadata": {},
     "output_type": "execute_result"
    },
    {
     "data": {
      "image/png": "[encoded data removed]",
      "text/plain": [
       "<Figure size 432x288 with 1 Axes>"
      ]
     },
     "metadata": {
      "needs_background": "light"
     },
     "output_type": "display_data"
    }
   ],
   "source": [
    "prior_traj = np.array([log_prior(t[0]) for t in traj])\n",
    "plt.plot(prior_traj)"
   ]
  },
  {
   "cell_type": "code",
   "execution_count": 63,
   "metadata": {
    "ExecuteTime": {
     "end_time": "2019-03-07T12:36:15.546657Z",
     "start_time": "2019-03-07T12:36:15.481801Z"
    }
   },
   "outputs": [],
   "source": [
    "likelihood_traj = np.array([np.sum(norm.logpdf(predictions[train_inds], loc=expt_means[train_inds], scale=expt_uncs[train_inds])) for predictions in prediction_traj])"
   ]
  },
  {
   "cell_type": "code",
   "execution_count": 64,
   "metadata": {
    "ExecuteTime": {
     "end_time": "2019-03-07T12:36:16.577742Z",
     "start_time": "2019-03-07T12:36:16.442754Z"
    }
   },
   "outputs": [
    {
     "data": {
      "text/plain": [
       "[<matplotlib.lines.Line2D at 0x1b257fc630>]"
      ]
     },
     "execution_count": 64,
     "metadata": {},
     "output_type": "execute_result"
    },
    {
     "data": {
      "image/png": "[encoded data removed]",
      "text/plain": [
       "<Figure size 432x288 with 1 Axes>"
      ]
     },
     "metadata": {
      "needs_background": "light"
     },
     "output_type": "display_data"
    }
   ],
   "source": [
    "plt.plot(likelihood_traj)"
   ]
  },
  {
   "cell_type": "code",
   "execution_count": 65,
   "metadata": {
    "ExecuteTime": {
     "end_time": "2019-03-07T12:36:17.752213Z",
     "start_time": "2019-03-07T12:36:17.612298Z"
    }
   },
   "outputs": [
    {
     "data": {
      "text/plain": [
       "[<matplotlib.lines.Line2D at 0x1b25089208>]"
      ]
     },
     "execution_count": 65,
     "metadata": {},
     "output_type": "execute_result"
    },
    {
     "data": {
      "image/png": "[encoded data removed]",
      "text/plain": [
       "<Figure size 432x288 with 1 Axes>"
      ]
     },
     "metadata": {
      "needs_background": "light"
     },
     "output_type": "display_data"
    }
   ],
   "source": [
    "plt.plot(prior_traj + likelihood_traj)"
   ]
  },
  {
   "cell_type": "code",
   "execution_count": 66,
   "metadata": {
    "ExecuteTime": {
     "end_time": "2019-03-07T12:36:18.591431Z",
     "start_time": "2019-03-07T12:36:18.423847Z"
    }
   },
   "outputs": [
    {
     "data": {
      "text/plain": [
       "[<matplotlib.lines.Line2D at 0x1b253294e0>]"
      ]
     },
     "execution_count": 66,
     "metadata": {},
     "output_type": "execute_result"
    },
    {
     "data": {
      "image/png": "[encoded data removed]",
      "text/plain": [
       "<Figure size 432x288 with 1 Axes>"
      ]
     },
     "metadata": {
      "needs_background": "light"
     },
     "output_type": "display_data"
    }
   ],
   "source": [
    "plt.plot((prior_traj + likelihood_traj)[150:])"
   ]
  },
  {
   "cell_type": "code",
   "execution_count": 67,
   "metadata": {
    "ExecuteTime": {
     "end_time": "2019-03-07T12:36:19.281138Z",
     "start_time": "2019-03-07T12:36:19.273685Z"
    }
   },
   "outputs": [
    {
     "data": {
      "text/plain": [
       "(-51.50729949663214, 6.906153451435357)"
      ]
     },
     "execution_count": 67,
     "metadata": {},
     "output_type": "execute_result"
    }
   ],
   "source": [
    "minval, maxval = np.min(prediction_traj[3:]), np.max(prediction_traj[3:])\n",
    "minval, maxval"
   ]
  },
  {
   "cell_type": "code",
   "execution_count": 68,
   "metadata": {
    "ExecuteTime": {
     "end_time": "2019-03-07T12:36:20.741375Z",
     "start_time": "2019-03-07T12:36:20.737154Z"
    }
   },
   "outputs": [
    {
     "data": {
      "text/plain": [
       "(-15.5, 5.5)"
      ]
     },
     "execution_count": 68,
     "metadata": {},
     "output_type": "execute_result"
    }
   ],
   "source": [
    "minval, maxval = -15.5, 5.5\n",
    "minval, maxval"
   ]
  },
  {
   "cell_type": "code",
   "execution_count": 69,
   "metadata": {
    "ExecuteTime": {
     "end_time": "2019-03-07T12:36:21.422022Z",
     "start_time": "2019-03-07T12:36:21.418799Z"
    }
   },
   "outputs": [],
   "source": [
    "train_color = 'lightblue'\n",
    "test_color = 'green'\n",
    "train_style = '--'\n",
    "test_style = '-'"
   ]
  },
  {
   "cell_type": "code",
   "execution_count": 106,
   "metadata": {
    "ExecuteTime": {
     "end_time": "2019-03-07T13:07:14.746185Z",
     "start_time": "2019-03-07T13:02:33.547224Z"
    }
   },
   "outputs": [],
   "source": [
    "from tqdm import tqdm\n",
    "from bayes_implicit_solvent.utils import remove_top_right_spines\n",
    "diag = np.arange(minval, maxval)\n",
    "\n",
    "s = 10\n",
    "\n",
    "for t in range(len(prediction_traj)):\n",
    "    plt.figure(figsize=(6*1.5,3*1.5))\n",
    "    ax = plt.subplot(1,2,1)\n",
    "    remove_top_right_spines(ax)\n",
    "    \n",
    "    plt.plot(train_rmses[:t], c=train_color, linestyle=train_style, label='train (n={})'.format(len(train_inds)))\n",
    "    plt.plot(test_rmses[:t], c=test_color, linestyle=test_style, label='test (n={})'.format(len(test_inds)))\n",
    "    plt.hlines(2.425900278028874, 0, len(train_rmses), linestyles='-', label='OBC2 (n=631)')\n",
    "    plt.hlines(1.642, 0, len(train_rmses), linestyles='--', label='SMIRNOFF+TIP3P (n=642)')\n",
    "    plt.hlines(0.98, 0, len(train_rmses), linestyles='dotted', label='OPLS3e (n=418)')\n",
    "    \n",
    "    plt.ylabel('RMSE (kcal/mol)')\n",
    "    plt.xlabel('adam iterations')\n",
    "    plt.legend(loc='upper right')\n",
    "    plt.xlim(0, len(train_rmses))\n",
    "    plt.ylim(0, 4)\n",
    "    \n",
    "    plt.title('RMSE trace')\n",
    "    \n",
    "    ax = plt.subplot(1,2,2)\n",
    "    remove_top_right_spines(ax)\n",
    "    \n",
    "    plt.plot(diag, diag, linestyle='--', c='grey')\n",
    "    plt.scatter(prediction_traj[t][train_inds], expt_means[train_inds], c=train_color, alpha=0.8, s=s)\n",
    "    plt.scatter(prediction_traj[t][test_inds], expt_means[test_inds], c=test_color, alpha=0.8, s=s)\n",
    "    plt.xlim(minval, maxval)\n",
    "    plt.ylim(minval, maxval)\n",
    "    plt.xticks([-15,-10,-5,0,5])\n",
    "    plt.yticks([-15,-10,-5,0,5])\n",
    "    \n",
    "    plt.xlabel(r'predicted $\\Delta G$ (kcal/mol)')\n",
    "    plt.ylabel(r'measured $\\Delta G$ (kcal/mol)')\n",
    "    \n",
    "    plt.title('train RMSE: {:.2f}\\ntest RMSE: {:.2f}'.format(train_rmses[t], test_rmses[t]))\n",
    "    plt.tight_layout()\n",
    "    plt.savefig('neural_radii_scales_and_per_particle_psi_from_atom_and_neighbor_smarts_student_t_loss_df=7_big_batch/{:04}.png'.format(t), bbox_inches='tight')\n",
    "    \n",
    "    plt.close()"
   ]
  },
  {
   "cell_type": "code",
   "execution_count": 70,
   "metadata": {
    "ExecuteTime": {
     "end_time": "2019-03-07T12:36:28.266659Z",
     "start_time": "2019-03-07T12:36:28.082003Z"
    }
   },
   "outputs": [
    {
     "data": {
      "image/png": "[encoded data removed]",
      "text/plain": [
       "<Figure size 432x288 with 1 Axes>"
      ]
     },
     "metadata": {
      "needs_background": "light"
     },
     "output_type": "display_data"
    }
   ],
   "source": [
    "for i in train_inds[:10]:\n",
    "    plt.plot([p[i] for p in prediction_traj])\n",
    "    plt.hlines(expt_means[i], 0, len(prediction_traj))"
   ]
  },
  {
   "cell_type": "code",
   "execution_count": 71,
   "metadata": {
    "ExecuteTime": {
     "end_time": "2019-03-07T12:36:29.327086Z",
     "start_time": "2019-03-07T12:36:29.129011Z"
    }
   },
   "outputs": [
    {
     "data": {
      "image/png": "[encoded data removed]",
      "text/plain": [
       "<Figure size 432x288 with 1 Axes>"
      ]
     },
     "metadata": {
      "needs_background": "light"
     },
     "output_type": "display_data"
    }
   ],
   "source": [
    "for i in test_inds[:10]:\n",
    "    plt.plot([p[i] for p in prediction_traj])\n",
    "    plt.hlines(expt_means[i], 0, len(prediction_traj))"
   ]
  },
  {
   "cell_type": "code",
   "execution_count": 72,
   "metadata": {
    "ExecuteTime": {
     "end_time": "2019-03-07T12:36:37.712793Z",
     "start_time": "2019-03-07T12:36:36.065933Z"
    },
    "scrolled": false
   },
   "outputs": [
    {
     "data": {
      "image/png": "[encoded data removed]",
      "text/plain": [
       "<Figure size 432x288 with 1 Axes>"
      ]
     },
     "metadata": {
      "needs_background": "light"
     },
     "output_type": "display_data"
    },
    {
     "data": {
      "image/png": "[encoded data removed]",
      "text/plain": [
       "<Figure size 432x288 with 1 Axes>"
      ]
     },
     "metadata": {
      "needs_background": "light"
     },
     "output_type": "display_data"
    },
    {
     "data": {
      "image/png": "[encoded data removed]",
      "text/plain": [
       "<Figure size 432x288 with 1 Axes>"
      ]
     },
     "metadata": {
      "needs_background": "light"
     },
     "output_type": "display_data"
    },
    {
     "data": {
      "image/png": "[encoded data removed]",
      "text/plain": [
       "<Figure size 432x288 with 1 Axes>"
      ]
     },
     "metadata": {
      "needs_background": "light"
     },
     "output_type": "display_data"
    },
    {
     "data": {
      "image/png": "[encoded data removed]",
      "text/plain": [
       "<Figure size 432x288 with 1 Axes>"
      ]
     },
     "metadata": {
      "needs_background": "light"
     },
     "output_type": "display_data"
    },
    {
     "data": {
      "image/png": "[encoded data removed]",
      "text/plain": [
       "<Figure size 432x288 with 1 Axes>"
      ]
     },
     "metadata": {
      "needs_background": "light"
     },
     "output_type": "display_data"
    },
    {
     "data": {
      "image/png": "[encoded data removed]",
      "text/plain": [
       "<Figure size 432x288 with 1 Axes>"
      ]
     },
     "metadata": {
      "needs_background": "light"
     },
     "output_type": "display_data"
    },
    {
     "data": {
      "image/png": "[encoded data removed]",
      "text/plain": [
       "<Figure size 432x288 with 1 Axes>"
      ]
     },
     "metadata": {
      "needs_background": "light"
     },
     "output_type": "display_data"
    },
    {
     "data": {
      "image/png": "[encoded data removed]",
      "text/plain": [
       "<Figure size 432x288 with 1 Axes>"
      ]
     },
     "metadata": {
      "needs_background": "light"
     },
     "output_type": "display_data"
    },
    {
     "data": {
      "image/png": "[encoded data removed]",
      "text/plain": [
       "<Figure size 432x288 with 1 Axes>"
      ]
     },
     "metadata": {
      "needs_background": "light"
     },
     "output_type": "display_data"
    }
   ],
   "source": [
    "for i in train_inds[:10]:\n",
    "    plt.figure()\n",
    "    plt.hist([p[i] for p in prediction_traj[100:]])\n",
    "    plt.vlines(expt_means[i], 0, 10)\n",
    "    plt.xlim(minval, maxval)"
   ]
  },
  {
   "cell_type": "code",
   "execution_count": 73,
   "metadata": {
    "ExecuteTime": {
     "end_time": "2019-03-07T12:36:39.338486Z",
     "start_time": "2019-03-07T12:36:37.715366Z"
    },
    "scrolled": false
   },
   "outputs": [
    {
     "data": {
      "image/png": "[encoded data removed]",
      "text/plain": [
       "<Figure size 432x288 with 1 Axes>"
      ]
     },
     "metadata": {
      "needs_background": "light"
     },
     "output_type": "display_data"
    },
    {
     "data": {
      "image/png": "[encoded data removed]",
      "text/plain": [
       "<Figure size 432x288 with 1 Axes>"
      ]
     },
     "metadata": {
      "needs_background": "light"
     },
     "output_type": "display_data"
    },
    {
     "data": {
      "image/png": "[encoded data removed]",
      "text/plain": [
       "<Figure size 432x288 with 1 Axes>"
      ]
     },
     "metadata": {
      "needs_background": "light"
     },
     "output_type": "display_data"
    },
    {
     "data": {
      "image/png": "[encoded data removed]",
      "text/plain": [
       "<Figure size 432x288 with 1 Axes>"
      ]
     },
     "metadata": {
      "needs_background": "light"
     },
     "output_type": "display_data"
    },
    {
     "data": {
      "image/png": "[encoded data removed]",
      "text/plain": [
       "<Figure size 432x288 with 1 Axes>"
      ]
     },
     "metadata": {
      "needs_background": "light"
     },
     "output_type": "display_data"
    },
    {
     "data": {
      "image/png": "[encoded data removed]",
      "text/plain": [
       "<Figure size 432x288 with 1 Axes>"
      ]
     },
     "metadata": {
      "needs_background": "light"
     },
     "output_type": "display_data"
    },
    {
     "data": {
      "image/png": "[encoded data removed]",
      "text/plain": [
       "<Figure size 432x288 with 1 Axes>"
      ]
     },
     "metadata": {
      "needs_background": "light"
     },
     "output_type": "display_data"
    },
    {
     "data": {
      "image/png": "[encoded data removed]",
      "text/plain": [
       "<Figure size 432x288 with 1 Axes>"
      ]
     },
     "metadata": {
      "needs_background": "light"
     },
     "output_type": "display_data"
    },
    {
     "data": {
      "image/png": "[encoded data removed]",
      "text/plain": [
       "<Figure size 432x288 with 1 Axes>"
      ]
     },
     "metadata": {
      "needs_background": "light"
     },
     "output_type": "display_data"
    },
    {
     "data": {
      "image/png": "[encoded data removed]",
      "text/plain": [
       "<Figure size 432x288 with 1 Axes>"
      ]
     },
     "metadata": {
      "needs_background": "light"
     },
     "output_type": "display_data"
    }
   ],
   "source": [
    "for i in test_inds[:10]:\n",
    "    plt.figure()\n",
    "    plt.hist([p[i] for p in prediction_traj[100:]])\n",
    "    plt.vlines(expt_means[i], 0, 10)\n",
    "    plt.xlim(minval, maxval)"
   ]
  },
  {
   "cell_type": "code",
   "execution_count": 74,
   "metadata": {
    "ExecuteTime": {
     "end_time": "2019-03-07T12:36:39.362054Z",
     "start_time": "2019-03-07T12:36:39.340879Z"
    }
   },
   "outputs": [],
   "source": [
    "snapshot = traj[-1][0]\n",
    "radii, scales, log_taus, psi_coeffs, psi2_coeffs, psi3_coeffs = neural_net.neural_net_predict(snapshot, all_types).T"
   ]
  },
  {
   "cell_type": "code",
   "execution_count": 75,
   "metadata": {
    "ExecuteTime": {
     "end_time": "2019-03-07T12:36:39.540046Z",
     "start_time": "2019-03-07T12:36:39.364437Z"
    }
   },
   "outputs": [
    {
     "data": {
      "text/plain": [
       "<matplotlib.collections.PathCollection at 0x1b25d00438>"
      ]
     },
     "execution_count": 75,
     "metadata": {},
     "output_type": "execute_result"
    },
    {
     "data": {
      "image/png": "[encoded data removed]",
      "text/plain": [
       "<Figure size 432x288 with 1 Axes>"
      ]
     },
     "metadata": {
      "needs_background": "light"
     },
     "output_type": "display_data"
    }
   ],
   "source": [
    "plt.scatter(radii, scales, s=1)"
   ]
  },
  {
   "cell_type": "code",
   "execution_count": 76,
   "metadata": {
    "ExecuteTime": {
     "end_time": "2019-03-07T12:36:39.860759Z",
     "start_time": "2019-03-07T12:36:39.707672Z"
    }
   },
   "outputs": [
    {
     "data": {
      "text/plain": [
       "<matplotlib.collections.PathCollection at 0x1aab205ef0>"
      ]
     },
     "execution_count": 76,
     "metadata": {},
     "output_type": "execute_result"
    },
    {
     "data": {
      "image/png": "[encoded data removed]",
      "text/plain": [
       "<Figure size 432x288 with 1 Axes>"
      ]
     },
     "metadata": {
      "needs_background": "light"
     },
     "output_type": "display_data"
    }
   ],
   "source": [
    "plt.scatter(log_taus, scales)"
   ]
  },
  {
   "cell_type": "code",
   "execution_count": 77,
   "metadata": {
    "ExecuteTime": {
     "end_time": "2019-03-07T12:36:40.673213Z",
     "start_time": "2019-03-07T12:36:40.360883Z"
    }
   },
   "outputs": [
    {
     "data": {
      "text/plain": [
       "<matplotlib.collections.PathCollection at 0x1a79277eb8>"
      ]
     },
     "execution_count": 77,
     "metadata": {},
     "output_type": "execute_result"
    },
    {
     "data": {
      "image/png": "[encoded data removed]",
      "text/plain": [
       "<Figure size 432x288 with 1 Axes>"
      ]
     },
     "metadata": {
      "needs_background": "light"
     },
     "output_type": "display_data"
    },
    {
     "data": {
      "image/png": "[encoded data removed]",
      "text/plain": [
       "<Figure size 432x288 with 1 Axes>"
      ]
     },
     "metadata": {
      "needs_background": "light"
     },
     "output_type": "display_data"
    }
   ],
   "source": [
    "plt.scatter(psi_coeffs, psi2_coeffs)\n",
    "plt.figure()\n",
    "plt.scatter(psi_coeffs, psi3_coeffs)"
   ]
  },
  {
   "cell_type": "code",
   "execution_count": 78,
   "metadata": {
    "ExecuteTime": {
     "end_time": "2019-03-07T12:36:41.647694Z",
     "start_time": "2019-03-07T12:36:41.643599Z"
    }
   },
   "outputs": [
    {
     "data": {
      "text/plain": [
       "array([0.15    , 0.8     , 0.      , 0.8     , 0.      , 2.909125])"
      ]
     },
     "execution_count": 78,
     "metadata": {},
     "output_type": "execute_result"
    }
   ],
   "source": [
    "baseline_bias"
   ]
  },
  {
   "cell_type": "code",
   "execution_count": 79,
   "metadata": {
    "ExecuteTime": {
     "end_time": "2019-03-07T12:36:42.523159Z",
     "start_time": "2019-03-07T12:36:42.518648Z"
    }
   },
   "outputs": [
    {
     "data": {
      "text/plain": [
       "(664, 229)"
      ]
     },
     "execution_count": 79,
     "metadata": {},
     "output_type": "execute_result"
    }
   ],
   "source": [
    "# greedily merge pairs of types?\n",
    "\n",
    "all_types.shape\n"
   ]
  },
  {
   "cell_type": "code",
   "execution_count": 80,
   "metadata": {
    "ExecuteTime": {
     "end_time": "2019-03-07T12:36:43.370192Z",
     "start_time": "2019-03-07T12:36:43.198310Z"
    }
   },
   "outputs": [
    {
     "data": {
      "text/plain": [
       "[<matplotlib.lines.Line2D at 0x1a792a7668>]"
      ]
     },
     "execution_count": 80,
     "metadata": {},
     "output_type": "execute_result"
    },
    {
     "data": {
      "image/png": "[encoded data removed]",
      "text/plain": [
       "<Figure size 432x288 with 1 Axes>"
      ]
     },
     "metadata": {
      "needs_background": "light"
     },
     "output_type": "display_data"
    }
   ],
   "source": [
    "plt.plot(test_rmses)"
   ]
  },
  {
   "cell_type": "code",
   "execution_count": 81,
   "metadata": {
    "ExecuteTime": {
     "end_time": "2019-03-07T12:36:44.305868Z",
     "start_time": "2019-03-07T12:36:44.302480Z"
    }
   },
   "outputs": [],
   "source": [
    "def moving_average(a, n=3) :\n",
    "    ret = np.cumsum(a, dtype=float)\n",
    "    ret[n:] = ret[n:] - ret[:-n]\n",
    "    return ret[n - 1:] / n"
   ]
  },
  {
   "cell_type": "code",
   "execution_count": 82,
   "metadata": {
    "ExecuteTime": {
     "end_time": "2019-03-07T12:36:45.170598Z",
     "start_time": "2019-03-07T12:36:45.030317Z"
    }
   },
   "outputs": [
    {
     "data": {
      "text/plain": [
       "<matplotlib.collections.LineCollection at 0x1a7927a518>"
      ]
     },
     "execution_count": 82,
     "metadata": {},
     "output_type": "execute_result"
    },
    {
     "data": {
      "image/png": "[encoded data removed]",
      "text/plain": [
       "<Figure size 432x288 with 1 Axes>"
      ]
     },
     "metadata": {
      "needs_background": "light"
     },
     "output_type": "display_data"
    }
   ],
   "source": [
    "plt.plot(moving_average(test_rmses, n=1))\n",
    "plt.ylim(0.9,1.4)\n",
    "plt.hlines(1,0,len(test_rmses))"
   ]
  },
  {
   "cell_type": "code",
   "execution_count": 97,
   "metadata": {
    "ExecuteTime": {
     "end_time": "2019-03-07T12:44:38.442003Z",
     "start_time": "2019-03-07T12:44:38.301920Z"
    }
   },
   "outputs": [
    {
     "data": {
      "text/plain": [
       "<matplotlib.collections.LineCollection at 0x1adedd7e48>"
      ]
     },
     "execution_count": 97,
     "metadata": {},
     "output_type": "execute_result"
    },
    {
     "data": {
      "image/png": "[encoded data removed]",
      "text/plain": [
       "<Figure size 432x288 with 1 Axes>"
      ]
     },
     "metadata": {
      "needs_background": "light"
     },
     "output_type": "display_data"
    }
   ],
   "source": [
    "plt.plot(moving_average(test_rmses, n=50))\n",
    "plt.ylim(0.9,1.4)\n",
    "plt.hlines(1,0,len(test_rmses))"
   ]
  },
  {
   "cell_type": "code",
   "execution_count": 91,
   "metadata": {
    "ExecuteTime": {
     "end_time": "2019-03-07T12:43:46.521932Z",
     "start_time": "2019-03-07T12:43:46.516445Z"
    }
   },
   "outputs": [
    {
     "data": {
      "text/plain": [
       "392"
      ]
     },
     "execution_count": 91,
     "metadata": {},
     "output_type": "execute_result"
    }
   ],
   "source": [
    "len(moving_average(test_rmses, n=50))"
   ]
  },
  {
   "cell_type": "code",
   "execution_count": 85,
   "metadata": {
    "ExecuteTime": {
     "end_time": "2019-03-07T12:37:03.286418Z",
     "start_time": "2019-03-07T12:37:03.282752Z"
    }
   },
   "outputs": [
    {
     "data": {
      "text/plain": [
       "441"
      ]
     },
     "execution_count": 85,
     "metadata": {},
     "output_type": "execute_result"
    }
   ],
   "source": [
    "len(test_rmses)"
   ]
  },
  {
   "cell_type": "code",
   "execution_count": 86,
   "metadata": {
    "ExecuteTime": {
     "end_time": "2019-03-07T12:37:09.295711Z",
     "start_time": "2019-03-07T12:37:09.290910Z"
    }
   },
   "outputs": [
    {
     "data": {
      "text/plain": [
       "0.9422627250468372"
      ]
     },
     "execution_count": 86,
     "metadata": {},
     "output_type": "execute_result"
    }
   ],
   "source": [
    "min(moving_average(test_rmses, n=50))"
   ]
  },
  {
   "cell_type": "code",
   "execution_count": 87,
   "metadata": {
    "ExecuteTime": {
     "end_time": "2019-03-07T12:37:14.462357Z",
     "start_time": "2019-03-07T12:37:14.458339Z"
    }
   },
   "outputs": [
    {
     "data": {
      "text/plain": [
       "0.9207564300293462"
      ]
     },
     "execution_count": 87,
     "metadata": {},
     "output_type": "execute_result"
    }
   ],
   "source": [
    "min(test_rmses)"
   ]
  },
  {
   "cell_type": "code",
   "execution_count": null,
   "metadata": {},
   "outputs": [],
   "source": []
  }
 ],
 "metadata": {
  "kernelspec": {
   "display_name": "Python 3",
   "language": "python",
   "name": "python3"
  },
  "language_info": {
   "codemirror_mode": {
    "name": "ipython",
    "version": 3
   },
   "file_extension": ".py",
   "mimetype": "text/x-python",
   "name": "python",
   "nbconvert_exporter": "python",
   "pygments_lexer": "ipython3",
   "version": "3.7.1"
  }
 },
 "nbformat": 4,
 "nbformat_minor": 2
}
