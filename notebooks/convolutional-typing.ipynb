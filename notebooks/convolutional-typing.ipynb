{
 "cells": [
  {
   "cell_type": "code",
   "execution_count": 12,
   "metadata": {
    "ExecuteTime": {
     "end_time": "2019-03-01T04:44:34.960218Z",
     "start_time": "2019-03-01T04:44:34.957838Z"
    }
   },
   "outputs": [],
   "source": [
    "from bayes_implicit_solvent.continuous_parameter_experiments.gradient_free import mols"
   ]
  },
  {
   "cell_type": "code",
   "execution_count": 13,
   "metadata": {
    "ExecuteTime": {
     "end_time": "2019-03-01T04:44:37.196280Z",
     "start_time": "2019-03-01T04:44:37.184258Z"
    }
   },
   "outputs": [],
   "source": [
    "# THE CODE IN THIS CELL IS ADAPTED FROM https://github.com/HIPS/neural-fingerprint\n",
    "# ACCOMPANYING \"Convolutional Networks on Graphs for Learning Molecular Fingerprints\"\n",
    "# by David Duvenaud, Dougal Maclaurin, Jorge Aguilera-Iparraguirre, Rafael Gómez-Bombarelli, Timothy Hirzel, Alán Aspuru-Guzik, and Ryan P. Adams.\n",
    "\n",
    "import autograd.numpy as np\n",
    "from rdkit import Chem\n",
    "\n",
    "def one_of_k_encoding(x, allowable_set):\n",
    "    if x not in allowable_set:\n",
    "        raise Exception(\"input {0} not in allowable set{1}:\".format(x, allowable_set))\n",
    "    return list(map(lambda s: x == s, allowable_set))\n",
    "\n",
    "def one_of_k_encoding_unk(x, allowable_set):\n",
    "    \"\"\"Maps inputs not in the allowable set to the last element.\"\"\"\n",
    "    if x not in allowable_set:\n",
    "        x = allowable_set[-1]\n",
    "    return list(map(lambda s: x == s, allowable_set))\n",
    "\n",
    "#def atom_features_rdkit(atom):\n",
    "#    return np.array(one_of_k_encoding_unk(atom.GetSymbol(),\n",
    "#                                      ['C', 'N', 'O', 'S', 'F', 'Si', 'P', 'Cl', 'Br', 'Mg', 'Na',\n",
    "#                                       'Ca', 'Fe', 'As', 'Al', 'I', 'B', 'V', 'K', 'Tl', 'Yb',\n",
    "#                                       'Sb', 'Sn', 'Ag', 'Pd', 'Co', 'Se', 'Ti', 'Zn', 'H',    # H?\n",
    "#                                       'Li', 'Ge', 'Cu', 'Au', 'Ni', 'Cd', 'In', 'Mn', 'Zr',\n",
    "#                                       'Cr', 'Pt', 'Hg', 'Pb', 'Unknown']) +\n",
    "#                    one_of_k_encoding(atom.GetDegree(), [0, 1, 2, 3, 4, 5]) +\n",
    "#                    one_of_k_encoding_unk(atom.GetTotalNumHs(), [0, 1, 2, 3, 4]) +\n",
    "#                    one_of_k_encoding_unk(atom.GetImplicitValence(), [0, 1, 2, 3, 4, 5]) +\n",
    "#                    [atom.GetIsAromatic()] + \n",
    "#                   )\n",
    "\n",
    "\n",
    "def atom_features(atom):\n",
    "    \"\"\"Use some OpenEye features instead\"\"\"\n",
    "    return np.array(one_of_k_encoding_unk(atom.GetAtomicNum(),\n",
    "                                      [1, 35, 6, 7, 8, 9, 15, 16, 17, 53, -1]) +\n",
    "                    one_of_k_encoding(atom.GetDegree(), [1, 2, 3, 4]) +\n",
    "                    one_of_k_encoding(atom.GetValence(), [1, 2, 3, 4, 5, 6]) +\n",
    "                    one_of_k_encoding(atom.GetHvyValence(), [0, 1, 2, 3, 4, 5, 6]) +\n",
    "                    one_of_k_encoding(atom.GetHvyDegree(), [0, 1, 2, 3, 4]) +\n",
    "                    one_of_k_encoding(atom.GetTotalHCount(), [0, 1, 2, 3, 4]) +\n",
    "                    [atom.GetPartialCharge()] + # float features\n",
    "                    [atom.IsAromatic(), atom.IsHalogen(), atom.IsPolarHydrogen(), atom.IsMetal(), atom.IsInRing()] # binary features\n",
    "                   )\n",
    "\n",
    "#def bond_features_rdkit(bond):\n",
    "#    bt = bond.GetBondType()\n",
    "#    return np.array([bt == Chem.rdchem.BondType.SINGLE,\n",
    "#                     bt == Chem.rdchem.BondType.DOUBLE,\n",
    "#                     bt == Chem.rdchem.BondType.TRIPLE,\n",
    "#                     bt == Chem.rdchem.BondType.AROMATIC,\n",
    "#                     bond.GetIsConjugated(),\n",
    "#                     bond.IsInRing()])\n",
    "\n",
    "def bond_features(bond):\n",
    "    \"\"\"Use OpenEye features instead\"\"\"\n",
    "    return np.array(one_of_k_encoding(bond.GetOrder(), [1, 2, 3]) +\n",
    "                    [bond.IsAromatic(), bond.IsInRing(), bond.IsRotor()] # binary features\n",
    "                   )\n",
    "    \n",
    "\n",
    "def num_atom_features():\n",
    "    atoms = list(mols[0].mol.GetAtoms())\n",
    "    return len(atom_features(atoms[0]))\n",
    "\n",
    "\n",
    "def num_bond_features():\n",
    "    bonds = list(mols[0].mol.GetBonds())\n",
    "    return len(bond_features(bonds[0]))\n"
   ]
  },
  {
   "cell_type": "code",
   "execution_count": 14,
   "metadata": {
    "ExecuteTime": {
     "end_time": "2019-03-01T04:44:37.360586Z",
     "start_time": "2019-03-01T04:44:37.355248Z"
    }
   },
   "outputs": [
    {
     "data": {
      "text/plain": [
       "(44, 6)"
      ]
     },
     "execution_count": 14,
     "metadata": {},
     "output_type": "execute_result"
    }
   ],
   "source": [
    "num_atom_features(), num_bond_features()"
   ]
  },
  {
   "cell_type": "code",
   "execution_count": 15,
   "metadata": {
    "ExecuteTime": {
     "end_time": "2019-03-01T04:44:41.345139Z",
     "start_time": "2019-03-01T04:44:41.331074Z"
    }
   },
   "outputs": [],
   "source": [
    "# THE CODE IN THIS CELL IS ADAPTED FROM https://github.com/HIPS/neural-fingerprint\n",
    "# ACCOMPANYING \"Convolutional Networks on Graphs for Learning Molecular Fingerprints\"\n",
    "# by David Duvenaud, Dougal Maclaurin, Jorge Aguilera-Iparraguirre, Rafael Gómez-Bombarelli, Timothy Hirzel, Alán Aspuru-Guzik, and Ryan P. Adams.\n",
    "\n",
    "import numpy as np\n",
    "\n",
    "degrees = [0, 1, 2, 3, 4, 5]\n",
    "#degrees = [0]\n",
    "\n",
    "class MolGraph(object):\n",
    "    def __init__(self):\n",
    "        self.nodes = {} # dict of lists of nodes, keyed by node type\n",
    "\n",
    "    def new_node(self, ntype, features=None, rdkit_ix=None):\n",
    "        new_node = Node(ntype, features, rdkit_ix)\n",
    "        self.nodes.setdefault(ntype, []).append(new_node)\n",
    "        return new_node\n",
    "\n",
    "    def add_subgraph(self, subgraph):\n",
    "        old_nodes = self.nodes\n",
    "        new_nodes = subgraph.nodes\n",
    "        for ntype in set(old_nodes.keys()) | set(new_nodes.keys()):\n",
    "            old_nodes.setdefault(ntype, []).extend(new_nodes.get(ntype, []))\n",
    "\n",
    "    def sort_nodes_by_degree(self, ntype):\n",
    "        nodes_by_degree = {i : [] for i in degrees}\n",
    "        for node in self.nodes[ntype]:\n",
    "            nodes_by_degree[len(node.get_neighbors(ntype))].append(node)\n",
    "\n",
    "        new_nodes = []\n",
    "        for degree in degrees:\n",
    "            cur_nodes = nodes_by_degree[degree]\n",
    "            self.nodes[(ntype, degree)] = cur_nodes\n",
    "            new_nodes.extend(cur_nodes)\n",
    "\n",
    "        self.nodes[ntype] = new_nodes\n",
    "\n",
    "    def feature_array(self, ntype):\n",
    "        assert ntype in self.nodes\n",
    "        return np.array([node.features for node in self.nodes[ntype]])\n",
    "\n",
    "    def rdkit_ix_array(self):\n",
    "        return np.array([node.rdkit_ix for node in self.nodes['atom']])\n",
    "\n",
    "    def neighbor_list(self, self_ntype, neighbor_ntype):\n",
    "        assert self_ntype in self.nodes and neighbor_ntype in self.nodes\n",
    "        neighbor_idxs = {n : i for i, n in enumerate(self.nodes[neighbor_ntype])}\n",
    "        return [[neighbor_idxs[neighbor]\n",
    "                 for neighbor in self_node.get_neighbors(neighbor_ntype)]\n",
    "                for self_node in self.nodes[self_ntype]]\n",
    "\n",
    "class Node(object):\n",
    "    __slots__ = ['ntype', 'features', '_neighbors', 'rdkit_ix']\n",
    "    def __init__(self, ntype, features, rdkit_ix):\n",
    "        self.ntype = ntype\n",
    "        self.features = features\n",
    "        self._neighbors = []\n",
    "        self.rdkit_ix = rdkit_ix\n",
    "\n",
    "    def add_neighbors(self, neighbor_list):\n",
    "        for neighbor in neighbor_list:\n",
    "            self._neighbors.append(neighbor)\n",
    "            neighbor._neighbors.append(self)\n",
    "\n",
    "    def get_neighbors(self, ntype):\n",
    "        return [n for n in self._neighbors if n.ntype == ntype]\n",
    "\n",
    "#def graph_from_smiles_tuple(smiles_tuple):\n",
    "#    graph_list = [graph_from_smiles(s) for s in smiles_tuple]\n",
    "#    big_graph = MolGraph()\n",
    "#    for subgraph in graph_list:\n",
    "#        big_graph.add_subgraph(subgraph)\n",
    "#\n",
    "#    # This sorting allows an efficient (but brittle!) indexing later on.\n",
    "#    big_graph.sort_nodes_by_degree('atom')\n",
    "#    return big_graph\n",
    "#\n",
    "#def graph_from_smiles(smiles):\n",
    "#    graph = MolGraph()\n",
    "#    mol = MolFromSmiles(smiles)\n",
    "#    if not mol:\n",
    "#        raise ValueError(\"Could not parse SMILES string:\", smiles)\n",
    "#    atoms_by_rd_idx = {}\n",
    "#   for atom in mol.GetAtoms():\n",
    "#        new_atom_node = graph.new_node('atom', features=atom_features(atom), rdkit_ix=atom.GetIdx())\n",
    "#        atoms_by_rd_idx[atom.GetIdx()] = new_atom_node\n",
    "#\n",
    "#    for bond in mol.GetBonds():\n",
    "#        atom1_node = atoms_by_rd_idx[bond.GetBeginAtom().GetIdx()]\n",
    "#        atom2_node = atoms_by_rd_idx[bond.GetEndAtom().GetIdx()]\n",
    "#        new_bond_node = graph.new_node('bond', features=bond_features(bond))\n",
    "#        new_bond_node.add_neighbors((atom1_node, atom2_node))\n",
    "#        atom1_node.add_neighbors((atom2_node,))\n",
    "#\n",
    "#    mol_node = graph.new_node('molecule')\n",
    "#    mol_node.add_neighbors(graph.nodes['atom'])\n",
    "#    return graph"
   ]
  },
  {
   "cell_type": "code",
   "execution_count": 16,
   "metadata": {
    "ExecuteTime": {
     "end_time": "2019-03-01T04:44:41.741579Z",
     "start_time": "2019-03-01T04:44:41.733759Z"
    }
   },
   "outputs": [],
   "source": [
    "def graph_from_mol_tuple(mol_tuple):\n",
    "    graph_list = [graph_from_mol(m) for m in mol_tuple]\n",
    "    big_graph = MolGraph()\n",
    "    for subgraph in graph_list:\n",
    "        big_graph.add_subgraph(subgraph)\n",
    "\n",
    "    # This sorting allows an efficient (but brittle!) indexing later on.\n",
    "    big_graph.sort_nodes_by_degree('atom')\n",
    "    return big_graph\n",
    "\n",
    "def graph_from_mol(oemol):\n",
    "    graph = MolGraph()\n",
    "    atoms_by_rd_idx = {}\n",
    "    for atom in oemol.GetAtoms():\n",
    "        new_atom_node = graph.new_node('atom', features=atom_features(atom), rdkit_ix=atom.GetIdx())\n",
    "        atoms_by_rd_idx[atom.GetIdx()] = new_atom_node\n",
    "\n",
    "    for bond in oemol.GetBonds():\n",
    "        atom1_node = atoms_by_rd_idx[bond.GetBgn().GetIdx()]\n",
    "        atom2_node = atoms_by_rd_idx[bond.GetEnd().GetIdx()]\n",
    "        new_bond_node = graph.new_node('bond', features=bond_features(bond))\n",
    "        new_bond_node.add_neighbors((atom1_node, atom2_node))\n",
    "        atom1_node.add_neighbors((atom2_node,))\n",
    "\n",
    "    mol_node = graph.new_node('molecule')\n",
    "    mol_node.add_neighbors(graph.nodes['atom'])\n",
    "    return graph"
   ]
  },
  {
   "cell_type": "code",
   "execution_count": 17,
   "metadata": {
    "ExecuteTime": {
     "end_time": "2019-03-01T04:44:42.286268Z",
     "start_time": "2019-03-01T04:44:42.276993Z"
    }
   },
   "outputs": [],
   "source": [
    "# THE CODE IN THIS CELL IS ADAPTED FROM https://github.com/HIPS/neural-fingerprint\n",
    "# ACCOMPANYING \"Convolutional Networks on Graphs for Learning Molecular Fingerprints\"\n",
    "# by David Duvenaud, Dougal Maclaurin, Jorge Aguilera-Iparraguirre, Rafael Gómez-Bombarelli, Timothy Hirzel, Alán Aspuru-Guzik, and Ryan P. Adams.\n",
    "\n",
    "from functools import partial\n",
    "from collections import OrderedDict\n",
    "\n",
    "class memoize(object):\n",
    "    def __init__(self, func):\n",
    "        self.func = func\n",
    "        self.cache = {}\n",
    "\n",
    "    def __call__(self, *args):\n",
    "        if args in self.cache:\n",
    "            return self.cache[args]\n",
    "        else:\n",
    "            result = self.func(*args)\n",
    "            self.cache[args] = result\n",
    "            return result\n",
    "\n",
    "    def __get__(self, obj, objtype):\n",
    "        return partial(self.__call__, obj)\n",
    "\n",
    "class WeightsParser(object):\n",
    "    \"\"\"A kind of dictionary of weights shapes,\n",
    "       which can pick out named subsets from a long vector.\n",
    "       Does not actually store any weights itself.\"\"\"\n",
    "    def __init__(self):\n",
    "        self.idxs_and_shapes = OrderedDict()\n",
    "        self.N = 0\n",
    "\n",
    "    def add_weights(self, name, shape):\n",
    "        start = self.N\n",
    "        self.N += np.prod(shape)\n",
    "        self.idxs_and_shapes[name] = (slice(start, self.N), shape)\n",
    "\n",
    "    def get(self, vect, name):\n",
    "        \"\"\"Takes in a vector and returns the subset indexed by name.\"\"\"\n",
    "        idxs, shape = self.idxs_and_shapes[name]\n",
    "        return np.reshape(vect[idxs], shape)\n",
    "\n",
    "    def set(self, vect, name, value):\n",
    "        \"\"\"Takes in a vector and returns the subset indexed by name.\"\"\"\n",
    "        idxs, _ = self.idxs_and_shapes[name]\n",
    "        vect[idxs] = np.ravel(value)\n",
    "\n",
    "    def __len__(self):\n",
    "        return self.N"
   ]
  },
  {
   "cell_type": "code",
   "execution_count": 18,
   "metadata": {
    "ExecuteTime": {
     "end_time": "2019-03-01T04:44:42.591808Z",
     "start_time": "2019-03-01T04:44:42.564541Z"
    }
   },
   "outputs": [],
   "source": [
    "# THE CODE IN THIS CELL IS ADAPTED FROM https://github.com/HIPS/neural-fingerprint\n",
    "# ACCOMPANYING \"Convolutional Networks on Graphs for Learning Molecular Fingerprints\"\n",
    "# by David Duvenaud, Dougal Maclaurin, Jorge Aguilera-Iparraguirre, Rafael Gómez-Bombarelli, Timothy Hirzel, Alán Aspuru-Guzik, and Ryan P. Adams.\n",
    "\n",
    "\n",
    "import autograd.numpy as np\n",
    "from autograd.scipy.misc import logsumexp\n",
    "\n",
    "def batch_normalize(activations):\n",
    "    mbmean = np.mean(activations, axis=0, keepdims=True)\n",
    "    return (activations - mbmean) / (np.std(activations, axis=0, keepdims=True) + 1)\n",
    "\n",
    "def relu(X):\n",
    "    \"Rectified linear activation function.\"\n",
    "    return X * (X > 0)\n",
    "\n",
    "def fast_array_from_list(xs):\n",
    "    return np.concatenate([np.expand_dims(x, axis=0) for x in xs], axis=0)\n",
    "\n",
    "def sum_and_stack(features, idxs_list_of_lists):\n",
    "    return fast_array_from_list([np.sum(features[idx_list], axis=0) for idx_list in idxs_list_of_lists])\n",
    "\n",
    "def softmax(X, axis=0):\n",
    "    return np.exp(X - logsumexp(X, axis=axis, keepdims=True))\n",
    "\n",
    "def matmult_neighbors(array_rep, atom_features, bond_features, get_weights):\n",
    "    activations_by_degree = []\n",
    "    for degree in degrees:\n",
    "        atom_neighbors_list = array_rep[('atom_neighbors', degree)]\n",
    "        bond_neighbors_list = array_rep[('bond_neighbors', degree)]\n",
    "        if len(atom_neighbors_list) > 0:\n",
    "            neighbor_features = [atom_features[atom_neighbors_list],\n",
    "                                 bond_features[bond_neighbors_list]]\n",
    "            # dims of stacked_neighbors are [atoms, neighbors, atom and bond features]\n",
    "            stacked_neighbors = np.concatenate(neighbor_features, axis=2)\n",
    "            summed_neighbors = np.sum(stacked_neighbors, axis=1)\n",
    "            activations = np.dot(summed_neighbors, get_weights(degree))\n",
    "            activations_by_degree.append(activations)\n",
    "    # This operation relies on atoms being sorted by degree,\n",
    "    # in Node.graph_from_smiles_tuple()\n",
    "    return np.concatenate(activations_by_degree, axis=0)\n",
    "\n",
    "def weights_name(layer, degree):\n",
    "    return \"layer \" + str(layer) + \" degree \" + str(degree) + \" filter\"\n",
    "\n",
    "def build_convnet_fingerprint_fun(num_hidden_features=[100, 100], fp_length=512,\n",
    "                                  normalize=True, activation_function=relu):\n",
    "    \"\"\"Sets up functions to compute convnets over all molecules in a minibatch together.\"\"\"\n",
    "\n",
    "    # Specify weight shapes.\n",
    "    parser = WeightsParser()\n",
    "    all_layer_sizes = [num_atom_features()] + num_hidden_features\n",
    "    for layer in range(len(all_layer_sizes)):\n",
    "        parser.add_weights(('layer output weights', layer), (all_layer_sizes[layer], fp_length))\n",
    "        parser.add_weights(('layer output bias', layer),    (1, fp_length))\n",
    "\n",
    "    in_and_out_sizes = zip(all_layer_sizes[:-1], all_layer_sizes[1:])\n",
    "    for layer, (N_prev, N_cur) in enumerate(in_and_out_sizes):\n",
    "        parser.add_weights((\"layer\", layer, \"biases\"), (1, N_cur))\n",
    "        parser.add_weights((\"layer\", layer, \"self filter\"), (N_prev, N_cur))\n",
    "        for degree in degrees:\n",
    "            parser.add_weights(weights_name(layer, degree), (N_prev + num_bond_features(), N_cur))\n",
    "\n",
    "    def update_layer(weights, layer, atom_features, bond_features, array_rep, normalize=False):\n",
    "        def get_weights_func(degree):\n",
    "            return parser.get(weights, weights_name(layer, degree))\n",
    "        layer_bias         = parser.get(weights, (\"layer\", layer, \"biases\"))\n",
    "        layer_self_weights = parser.get(weights, (\"layer\", layer, \"self filter\"))\n",
    "        self_activations = np.dot(atom_features, layer_self_weights)\n",
    "        neighbour_activations = matmult_neighbors(\n",
    "            array_rep, atom_features, bond_features, get_weights_func)\n",
    "\n",
    "        total_activations = neighbour_activations + self_activations + layer_bias\n",
    "        if normalize:\n",
    "            total_activations = batch_normalize(total_activations)\n",
    "        return activation_function(total_activations)\n",
    "\n",
    "    def output_layer_fun_and_atom_activations(weights, mol):\n",
    "        \"\"\"Computes layer-wise convolution, and returns a fixed-size output.\"\"\"\n",
    "\n",
    "        array_rep = array_rep_from_mol(tuple(mol))\n",
    "        atom_features = array_rep['atom_features']\n",
    "        bond_features = array_rep['bond_features']\n",
    "\n",
    "        all_layer_fps = []\n",
    "        atom_activations = []\n",
    "        def write_to_fingerprint(atom_features, layer):\n",
    "            cur_out_weights = parser.get(weights, ('layer output weights', layer))\n",
    "            cur_out_bias    = parser.get(weights, ('layer output bias', layer))\n",
    "            atom_outputs = softmax(cur_out_bias + np.dot(atom_features, cur_out_weights), axis=1)\n",
    "            atom_activations.append(atom_outputs)\n",
    "            # Sum over all atoms within a moleclue:\n",
    "            layer_output = sum_and_stack(atom_outputs, array_rep['atom_list'])\n",
    "            all_layer_fps.append(layer_output)\n",
    "\n",
    "        num_layers = len(num_hidden_features)\n",
    "        for layer in range(num_layers):\n",
    "            write_to_fingerprint(atom_features, layer)\n",
    "            atom_features = update_layer(weights, layer, atom_features, bond_features, array_rep,\n",
    "                                         normalize=normalize)\n",
    "        write_to_fingerprint(atom_features, num_layers)\n",
    "        return sum(all_layer_fps), atom_activations, array_rep, atom_features\n",
    "\n",
    "    def output_layer_fun(weights, smiles):\n",
    "        output, _, _, _ = output_layer_fun_and_atom_activations(weights, smiles)\n",
    "        return output\n",
    "\n",
    "    def compute_atom_activations(weights, smiles):\n",
    "        _, atom_activations, array_rep, _ = output_layer_fun_and_atom_activations(weights, smiles)\n",
    "        return atom_activations, array_rep\n",
    "    \n",
    "    def compute_atom_features(weights, smiles):\n",
    "        _, _, _, atom_features = output_layer_fun_and_atom_activations(weights, smiles)\n",
    "        return atom_features\n",
    "\n",
    "    return output_layer_fun, parser, compute_atom_activations, compute_atom_features\n",
    "\n",
    "@memoize\n",
    "def array_rep_from_mol(mol):\n",
    "    \"\"\"Precompute everything we need from MolGraph so that we can free the memory asap.\"\"\"\n",
    "    molgraph = graph_from_mol_tuple(mol)\n",
    "    arrayrep = {'atom_features' : molgraph.feature_array('atom'),\n",
    "                'bond_features' : molgraph.feature_array('bond'),\n",
    "                'atom_list'     : molgraph.neighbor_list('molecule', 'atom'), # List of lists.\n",
    "                'rdkit_ix'      : molgraph.rdkit_ix_array()}  # For plotting only.\n",
    "    for degree in degrees:\n",
    "        arrayrep[('atom_neighbors', degree)] = \\\n",
    "            np.array(molgraph.neighbor_list(('atom', degree), 'atom'), dtype=int)\n",
    "        arrayrep[('bond_neighbors', degree)] = \\\n",
    "            np.array(molgraph.neighbor_list(('atom', degree), 'bond'), dtype=int)\n",
    "    return arrayrep"
   ]
  },
  {
   "cell_type": "code",
   "execution_count": 19,
   "metadata": {
    "ExecuteTime": {
     "end_time": "2019-03-01T04:44:42.906133Z",
     "start_time": "2019-03-01T04:44:42.902314Z"
    }
   },
   "outputs": [],
   "source": [
    "output_layer_fun, parser, compute_atom_activations, compute_atom_features = build_convnet_fingerprint_fun(\n",
    "    #num_hidden_features=[100,100,2],\n",
    "    num_hidden_features=[2],\n",
    "    fp_length=1,\n",
    "    normalize=True,\n",
    "    activation_function=relu)"
   ]
  },
  {
   "cell_type": "code",
   "execution_count": 20,
   "metadata": {
    "ExecuteTime": {
     "end_time": "2019-03-01T04:44:43.401287Z",
     "start_time": "2019-03-01T04:44:43.397470Z"
    }
   },
   "outputs": [
    {
     "data": {
      "text/plain": [
       "738"
      ]
     },
     "execution_count": 20,
     "metadata": {},
     "output_type": "execute_result"
    }
   ],
   "source": [
    "parser.N"
   ]
  },
  {
   "cell_type": "code",
   "execution_count": 21,
   "metadata": {
    "ExecuteTime": {
     "end_time": "2019-03-01T04:44:44.216225Z",
     "start_time": "2019-03-01T04:44:44.213153Z"
    }
   },
   "outputs": [],
   "source": [
    "weights = 0.01 * np.random.randn(parser.N)"
   ]
  },
  {
   "cell_type": "code",
   "execution_count": 22,
   "metadata": {
    "ExecuteTime": {
     "end_time": "2019-03-01T04:44:44.721822Z",
     "start_time": "2019-03-01T04:44:44.708634Z"
    }
   },
   "outputs": [
    {
     "data": {
      "text/plain": [
       "array([[False,  True],\n",
       "       [False,  True],\n",
       "       [False,  True],\n",
       "       [False,  True],\n",
       "       [False,  True],\n",
       "       [ True,  True],\n",
       "       [ True,  True],\n",
       "       [ True,  True],\n",
       "       [False,  True],\n",
       "       [False,  True],\n",
       "       [ True, False],\n",
       "       [ True, False],\n",
       "       [False, False],\n",
       "       [False, False],\n",
       "       [ True,  True],\n",
       "       [ True, False],\n",
       "       [False, False]])"
      ]
     },
     "execution_count": 22,
     "metadata": {},
     "output_type": "execute_result"
    }
   ],
   "source": [
    "compute_atom_features(weights, (mols[0].mol,)) == 0"
   ]
  },
  {
   "cell_type": "code",
   "execution_count": 23,
   "metadata": {
    "ExecuteTime": {
     "end_time": "2019-03-01T04:44:44.965873Z",
     "start_time": "2019-03-01T04:44:44.962310Z"
    }
   },
   "outputs": [],
   "source": [
    "computed_features = compute_atom_features(weights, (mols[0].mol,))"
   ]
  },
  {
   "cell_type": "code",
   "execution_count": 24,
   "metadata": {
    "ExecuteTime": {
     "end_time": "2019-03-01T04:44:45.583380Z",
     "start_time": "2019-03-01T04:44:45.579461Z"
    }
   },
   "outputs": [
    {
     "data": {
      "text/plain": [
       "(17, 2)"
      ]
     },
     "execution_count": 24,
     "metadata": {},
     "output_type": "execute_result"
    }
   ],
   "source": [
    "computed_features.shape"
   ]
  },
  {
   "cell_type": "code",
   "execution_count": 25,
   "metadata": {
    "ExecuteTime": {
     "end_time": "2019-03-01T04:44:46.145099Z",
     "start_time": "2019-03-01T04:44:45.916943Z"
    }
   },
   "outputs": [],
   "source": [
    "import matplotlib.pyplot as plt\n",
    "%matplotlib inline"
   ]
  },
  {
   "cell_type": "code",
   "execution_count": 26,
   "metadata": {
    "ExecuteTime": {
     "end_time": "2019-03-01T04:44:48.182768Z",
     "start_time": "2019-03-01T04:44:46.416621Z"
    }
   },
   "outputs": [],
   "source": [
    "from bayes_implicit_solvent.utils import get_charges\n",
    "from scipy.spatial.distance import pdist, squareform\n",
    "from simtk import unit\n",
    "elements = []\n",
    "charges = []\n",
    "distance_matrices = []\n",
    "expt_means = []\n",
    "expt_uncs = []\n",
    "vacuum_trajs = []\n",
    "for mol in mols:\n",
    "    expt_means.append(mol.experimental_value)\n",
    "    expt_uncs.append(mol.experimental_uncertainty)\n",
    "\n",
    "    elements.append(np.array([a.element.atomic_number for a in mol.top.atoms()]))\n",
    "    charges.append(get_charges(mol.sys))\n",
    "    distance_matrices.append([squareform(pdist(snapshot / unit.nanometer)) for snapshot in mol.vacuum_traj])"
   ]
  },
  {
   "cell_type": "code",
   "execution_count": 27,
   "metadata": {
    "ExecuteTime": {
     "end_time": "2019-03-01T04:44:48.190427Z",
     "start_time": "2019-03-01T04:44:48.185140Z"
    }
   },
   "outputs": [],
   "source": [
    "N_atoms = np.array(list(map(len, charges)))"
   ]
  },
  {
   "cell_type": "code",
   "execution_count": 28,
   "metadata": {
    "ExecuteTime": {
     "end_time": "2019-03-01T04:44:48.195197Z",
     "start_time": "2019-03-01T04:44:48.191833Z"
    }
   },
   "outputs": [
    {
     "data": {
      "text/plain": [
       "642"
      ]
     },
     "execution_count": 28,
     "metadata": {},
     "output_type": "execute_result"
    }
   ],
   "source": [
    "len(mols)"
   ]
  },
  {
   "cell_type": "code",
   "execution_count": 29,
   "metadata": {
    "ExecuteTime": {
     "end_time": "2019-03-01T04:44:48.210362Z",
     "start_time": "2019-03-01T04:44:48.197714Z"
    },
    "scrolled": false
   },
   "outputs": [
    {
     "data": {
      "text/plain": [
       "{'atom_features': array([[ 1.        ,  0.        ,  0.        ,  0.        ,  0.        ,\n",
       "          0.        ,  0.        ,  0.        ,  0.        ,  0.        ,\n",
       "          0.        ,  1.        ,  0.        ,  0.        ,  0.        ,\n",
       "          1.        ,  0.        ,  0.        ,  0.        ,  0.        ,\n",
       "          0.        ,  0.        ,  1.        ,  0.        ,  0.        ,\n",
       "          0.        ,  0.        ,  0.        ,  0.        ,  1.        ,\n",
       "          0.        ,  0.        ,  0.        ,  1.        ,  0.        ,\n",
       "          0.        ,  0.        ,  0.        ,  0.1023    ,  0.        ,\n",
       "          0.        ,  0.        ,  0.        ,  0.        ],\n",
       "        [ 0.        ,  0.        ,  0.        ,  0.        ,  1.        ,\n",
       "          0.        ,  0.        ,  0.        ,  0.        ,  0.        ,\n",
       "          0.        ,  1.        ,  0.        ,  0.        ,  0.        ,\n",
       "          1.        ,  0.        ,  0.        ,  0.        ,  0.        ,\n",
       "          0.        ,  0.        ,  1.        ,  0.        ,  0.        ,\n",
       "          0.        ,  0.        ,  0.        ,  0.        ,  1.        ,\n",
       "          0.        ,  0.        ,  0.        ,  1.        ,  0.        ,\n",
       "          0.        ,  0.        ,  0.        , -0.1655    ,  0.        ,\n",
       "          0.        ,  0.        ,  0.        ,  0.        ],\n",
       "        [ 0.        ,  0.        ,  0.        ,  0.        ,  1.        ,\n",
       "          0.        ,  0.        ,  0.        ,  0.        ,  0.        ,\n",
       "          0.        ,  1.        ,  0.        ,  0.        ,  0.        ,\n",
       "          1.        ,  0.        ,  0.        ,  0.        ,  0.        ,\n",
       "          0.        ,  0.        ,  1.        ,  0.        ,  0.        ,\n",
       "          0.        ,  0.        ,  0.        ,  0.        ,  1.        ,\n",
       "          0.        ,  0.        ,  0.        ,  1.        ,  0.        ,\n",
       "          0.        ,  0.        ,  0.        , -0.1655    ,  0.        ,\n",
       "          0.        ,  0.        ,  0.        ,  0.        ],\n",
       "        [ 0.        ,  0.        ,  0.        ,  0.        ,  1.        ,\n",
       "          0.        ,  0.        ,  0.        ,  0.        ,  0.        ,\n",
       "          0.        ,  1.        ,  0.        ,  0.        ,  0.        ,\n",
       "          1.        ,  0.        ,  0.        ,  0.        ,  0.        ,\n",
       "          0.        ,  0.        ,  1.        ,  0.        ,  0.        ,\n",
       "          0.        ,  0.        ,  0.        ,  0.        ,  1.        ,\n",
       "          0.        ,  0.        ,  0.        ,  1.        ,  0.        ,\n",
       "          0.        ,  0.        ,  0.        , -0.1723    ,  0.        ,\n",
       "          0.        ,  0.        ,  0.        ,  0.        ],\n",
       "        [ 0.        ,  0.        ,  0.        ,  0.        ,  1.        ,\n",
       "          0.        ,  0.        ,  0.        ,  0.        ,  0.        ,\n",
       "          0.        ,  1.        ,  0.        ,  0.        ,  0.        ,\n",
       "          1.        ,  0.        ,  0.        ,  0.        ,  0.        ,\n",
       "          0.        ,  0.        ,  1.        ,  0.        ,  0.        ,\n",
       "          0.        ,  0.        ,  0.        ,  0.        ,  1.        ,\n",
       "          0.        ,  0.        ,  0.        ,  1.        ,  0.        ,\n",
       "          0.        ,  0.        ,  0.        , -0.1723    ,  0.        ,\n",
       "          0.        ,  0.        ,  0.        ,  0.        ],\n",
       "        [ 1.        ,  0.        ,  0.        ,  0.        ,  0.        ,\n",
       "          0.        ,  0.        ,  0.        ,  0.        ,  0.        ,\n",
       "          0.        ,  1.        ,  0.        ,  0.        ,  0.        ,\n",
       "          1.        ,  0.        ,  0.        ,  0.        ,  0.        ,\n",
       "          0.        ,  0.        ,  1.        ,  0.        ,  0.        ,\n",
       "          0.        ,  0.        ,  0.        ,  0.        ,  1.        ,\n",
       "          0.        ,  0.        ,  0.        ,  1.        ,  0.        ,\n",
       "          0.        ,  0.        ,  0.        ,  0.0681    ,  0.        ,\n",
       "          0.        ,  0.        ,  0.        ,  0.        ],\n",
       "        [ 1.        ,  0.        ,  0.        ,  0.        ,  0.        ,\n",
       "          0.        ,  0.        ,  0.        ,  0.        ,  0.        ,\n",
       "          0.        ,  1.        ,  0.        ,  0.        ,  0.        ,\n",
       "          1.        ,  0.        ,  0.        ,  0.        ,  0.        ,\n",
       "          0.        ,  0.        ,  1.        ,  0.        ,  0.        ,\n",
       "          0.        ,  0.        ,  0.        ,  0.        ,  1.        ,\n",
       "          0.        ,  0.        ,  0.        ,  1.        ,  0.        ,\n",
       "          0.        ,  0.        ,  0.        ,  0.0681    ,  0.        ,\n",
       "          0.        ,  0.        ,  0.        ,  0.        ],\n",
       "        [ 1.        ,  0.        ,  0.        ,  0.        ,  0.        ,\n",
       "          0.        ,  0.        ,  0.        ,  0.        ,  0.        ,\n",
       "          0.        ,  1.        ,  0.        ,  0.        ,  0.        ,\n",
       "          1.        ,  0.        ,  0.        ,  0.        ,  0.        ,\n",
       "          0.        ,  0.        ,  1.        ,  0.        ,  0.        ,\n",
       "          0.        ,  0.        ,  0.        ,  0.        ,  1.        ,\n",
       "          0.        ,  0.        ,  0.        ,  1.        ,  0.        ,\n",
       "          0.        ,  0.        ,  0.        ,  0.0681    ,  0.        ,\n",
       "          0.        ,  0.        ,  0.        ,  0.        ],\n",
       "        [ 1.        ,  0.        ,  0.        ,  0.        ,  0.        ,\n",
       "          0.        ,  0.        ,  0.        ,  0.        ,  0.        ,\n",
       "          0.        ,  1.        ,  0.        ,  0.        ,  0.        ,\n",
       "          1.        ,  0.        ,  0.        ,  0.        ,  0.        ,\n",
       "          0.        ,  0.        ,  1.        ,  0.        ,  0.        ,\n",
       "          0.        ,  0.        ,  0.        ,  0.        ,  1.        ,\n",
       "          0.        ,  0.        ,  0.        ,  1.        ,  0.        ,\n",
       "          0.        ,  0.        ,  0.        ,  0.0944    ,  0.        ,\n",
       "          0.        ,  0.        ,  0.        ,  0.        ],\n",
       "        [ 1.        ,  0.        ,  0.        ,  0.        ,  0.        ,\n",
       "          0.        ,  0.        ,  0.        ,  0.        ,  0.        ,\n",
       "          0.        ,  1.        ,  0.        ,  0.        ,  0.        ,\n",
       "          1.        ,  0.        ,  0.        ,  0.        ,  0.        ,\n",
       "          0.        ,  0.        ,  1.        ,  0.        ,  0.        ,\n",
       "          0.        ,  0.        ,  0.        ,  0.        ,  1.        ,\n",
       "          0.        ,  0.        ,  0.        ,  1.        ,  0.        ,\n",
       "          0.        ,  0.        ,  0.        ,  0.0944    ,  0.        ,\n",
       "          0.        ,  0.        ,  0.        ,  0.        ],\n",
       "        [ 0.        ,  0.        ,  0.        ,  0.        ,  1.        ,\n",
       "          0.        ,  0.        ,  0.        ,  0.        ,  0.        ,\n",
       "          0.        ,  0.        ,  1.        ,  0.        ,  0.        ,\n",
       "          0.        ,  1.        ,  0.        ,  0.        ,  0.        ,\n",
       "          0.        ,  0.        ,  0.        ,  1.        ,  0.        ,\n",
       "          0.        ,  0.        ,  0.        ,  0.        ,  0.        ,\n",
       "          1.        ,  0.        ,  0.        ,  1.        ,  0.        ,\n",
       "          0.        ,  0.        ,  0.        , -0.3511    ,  0.        ,\n",
       "          0.        ,  0.        ,  0.        ,  0.        ],\n",
       "        [ 0.        ,  0.        ,  0.        ,  0.        ,  1.        ,\n",
       "          0.        ,  0.        ,  0.        ,  0.        ,  0.        ,\n",
       "          0.        ,  0.        ,  1.        ,  0.        ,  0.        ,\n",
       "          0.        ,  1.        ,  0.        ,  0.        ,  0.        ,\n",
       "          0.        ,  0.        ,  0.        ,  1.        ,  0.        ,\n",
       "          0.        ,  0.        ,  0.        ,  0.        ,  0.        ,\n",
       "          1.        ,  0.        ,  0.        ,  1.        ,  0.        ,\n",
       "          0.        ,  0.        ,  0.        , -0.37040001,  0.        ,\n",
       "          0.        ,  0.        ,  0.        ,  0.        ],\n",
       "        [ 0.        ,  0.        ,  0.        ,  1.        ,  0.        ,\n",
       "          0.        ,  0.        ,  0.        ,  0.        ,  0.        ,\n",
       "          0.        ,  0.        ,  0.        ,  1.        ,  0.        ,\n",
       "          0.        ,  0.        ,  1.        ,  0.        ,  0.        ,\n",
       "          0.        ,  0.        ,  0.        ,  0.        ,  1.        ,\n",
       "          0.        ,  0.        ,  0.        ,  0.        ,  0.        ,\n",
       "          0.        ,  1.        ,  0.        ,  1.        ,  0.        ,\n",
       "          0.        ,  0.        ,  0.        ,  0.37990001,  0.        ,\n",
       "          0.        ,  0.        ,  0.        ,  0.        ],\n",
       "        [ 0.        ,  0.        ,  0.        ,  1.        ,  0.        ,\n",
       "          0.        ,  0.        ,  0.        ,  0.        ,  0.        ,\n",
       "          0.        ,  0.        ,  0.        ,  1.        ,  0.        ,\n",
       "          0.        ,  0.        ,  1.        ,  0.        ,  0.        ,\n",
       "          0.        ,  0.        ,  0.        ,  0.        ,  1.        ,\n",
       "          0.        ,  0.        ,  0.        ,  0.        ,  0.        ,\n",
       "          0.        ,  1.        ,  0.        ,  1.        ,  0.        ,\n",
       "          0.        ,  0.        ,  0.        ,  0.3845    ,  0.        ,\n",
       "          0.        ,  0.        ,  0.        ,  0.        ],\n",
       "        [ 0.        ,  0.        ,  1.        ,  0.        ,  0.        ,\n",
       "          0.        ,  0.        ,  0.        ,  0.        ,  0.        ,\n",
       "          0.        ,  0.        ,  0.        ,  0.        ,  1.        ,\n",
       "          0.        ,  0.        ,  0.        ,  1.        ,  0.        ,\n",
       "          0.        ,  0.        ,  1.        ,  0.        ,  0.        ,\n",
       "          0.        ,  0.        ,  0.        ,  0.        ,  1.        ,\n",
       "          0.        ,  0.        ,  0.        ,  0.        ,  0.        ,\n",
       "          0.        ,  1.        ,  0.        , -0.1382    ,  0.        ,\n",
       "          0.        ,  0.        ,  0.        ,  0.        ],\n",
       "        [ 0.        ,  0.        ,  1.        ,  0.        ,  0.        ,\n",
       "          0.        ,  0.        ,  0.        ,  0.        ,  0.        ,\n",
       "          0.        ,  0.        ,  0.        ,  0.        ,  1.        ,\n",
       "          0.        ,  0.        ,  0.        ,  1.        ,  0.        ,\n",
       "          0.        ,  0.        ,  0.        ,  0.        ,  1.        ,\n",
       "          0.        ,  0.        ,  0.        ,  0.        ,  0.        ,\n",
       "          0.        ,  1.        ,  0.        ,  0.        ,  1.        ,\n",
       "          0.        ,  0.        ,  0.        ,  0.1522    ,  0.        ,\n",
       "          0.        ,  0.        ,  0.        ,  0.        ],\n",
       "        [ 0.        ,  0.        ,  1.        ,  0.        ,  0.        ,\n",
       "          0.        ,  0.        ,  0.        ,  0.        ,  0.        ,\n",
       "          0.        ,  0.        ,  0.        ,  0.        ,  1.        ,\n",
       "          0.        ,  0.        ,  0.        ,  1.        ,  0.        ,\n",
       "          0.        ,  0.        ,  0.        ,  1.        ,  0.        ,\n",
       "          0.        ,  0.        ,  0.        ,  0.        ,  0.        ,\n",
       "          1.        ,  0.        ,  0.        ,  0.        ,  0.        ,\n",
       "          1.        ,  0.        ,  0.        ,  0.1233    ,  0.        ,\n",
       "          0.        ,  0.        ,  0.        ,  0.        ]]),\n",
       " 'bond_features': array([[ True, False, False, False, False, False],\n",
       "        [ True, False, False, False, False, False],\n",
       "        [ True, False, False, False, False,  True],\n",
       "        [ True, False, False, False, False,  True],\n",
       "        [ True, False, False, False, False,  True],\n",
       "        [ True, False, False, False, False, False],\n",
       "        [ True, False, False, False, False, False],\n",
       "        [ True, False, False, False, False,  True],\n",
       "        [ True, False, False, False, False,  True],\n",
       "        [ True, False, False, False, False, False],\n",
       "        [ True, False, False, False, False, False],\n",
       "        [ True, False, False, False, False, False],\n",
       "        [ True, False, False, False, False, False],\n",
       "        [ True, False, False, False, False, False],\n",
       "        [ True, False, False, False, False, False],\n",
       "        [ True, False, False, False, False, False]]),\n",
       " 'atom_list': [[14, 15, 0, 16, 10, 12, 1, 2, 11, 13, 3, 4, 5, 6, 7, 8, 9]],\n",
       " 'rdkit_ix': array([ 2,  6,  7, 10, 11, 12, 13, 14, 15, 16,  4,  8,  5,  9,  0,  1,  3]),\n",
       " ('atom_neighbors', 0): array([], dtype=int64),\n",
       " ('bond_neighbors', 0): array([], dtype=int64),\n",
       " ('atom_neighbors', 1): array([[15],\n",
       "        [12],\n",
       "        [12],\n",
       "        [13],\n",
       "        [13],\n",
       "        [14],\n",
       "        [14],\n",
       "        [14],\n",
       "        [16],\n",
       "        [16]]),\n",
       " ('bond_neighbors', 1): array([[ 1],\n",
       "        [ 5],\n",
       "        [ 6],\n",
       "        [ 9],\n",
       "        [10],\n",
       "        [11],\n",
       "        [12],\n",
       "        [13],\n",
       "        [14],\n",
       "        [15]]),\n",
       " ('atom_neighbors', 2): array([[16, 12],\n",
       "        [15, 13]]),\n",
       " ('bond_neighbors', 2): array([[3, 4],\n",
       "        [7, 8]]),\n",
       " ('atom_neighbors', 3): array([[10,  1,  2],\n",
       "        [11,  3,  4]]),\n",
       " ('bond_neighbors', 3): array([[ 4,  5,  6],\n",
       "        [ 8,  9, 10]]),\n",
       " ('atom_neighbors', 4): array([[15,  5,  6,  7],\n",
       "        [14,  0, 16, 11],\n",
       "        [15, 10,  8,  9]]),\n",
       " ('bond_neighbors', 4): array([[ 0, 11, 12, 13],\n",
       "        [ 0,  1,  2,  7],\n",
       "        [ 2,  3, 14, 15]]),\n",
       " ('atom_neighbors', 5): array([], dtype=int64),\n",
       " ('bond_neighbors', 5): array([], dtype=int64)}"
      ]
     },
     "execution_count": 29,
     "metadata": {},
     "output_type": "execute_result"
    }
   ],
   "source": [
    "array_rep_from_mol((mols[0].mol,))"
   ]
  },
  {
   "cell_type": "code",
   "execution_count": 30,
   "metadata": {
    "ExecuteTime": {
     "end_time": "2019-03-01T04:44:48.226102Z",
     "start_time": "2019-03-01T04:44:48.213108Z"
    }
   },
   "outputs": [
    {
     "data": {
      "text/plain": [
       "{'atom_features': array([[ 1.        ,  0.        ,  0.        ,  0.        ,  0.        ,\n",
       "          0.        ,  0.        ,  0.        ,  0.        ,  0.        ,\n",
       "          0.        ,  1.        ,  0.        ,  0.        ,  0.        ,\n",
       "          1.        ,  0.        ,  0.        ,  0.        ,  0.        ,\n",
       "          0.        ,  0.        ,  1.        ,  0.        ,  0.        ,\n",
       "          0.        ,  0.        ,  0.        ,  0.        ,  1.        ,\n",
       "          0.        ,  0.        ,  0.        ,  1.        ,  0.        ,\n",
       "          0.        ,  0.        ,  0.        ,  0.1023    ,  0.        ,\n",
       "          0.        ,  0.        ,  0.        ,  0.        ],\n",
       "        [ 0.        ,  0.        ,  0.        ,  0.        ,  1.        ,\n",
       "          0.        ,  0.        ,  0.        ,  0.        ,  0.        ,\n",
       "          0.        ,  1.        ,  0.        ,  0.        ,  0.        ,\n",
       "          1.        ,  0.        ,  0.        ,  0.        ,  0.        ,\n",
       "          0.        ,  0.        ,  1.        ,  0.        ,  0.        ,\n",
       "          0.        ,  0.        ,  0.        ,  0.        ,  1.        ,\n",
       "          0.        ,  0.        ,  0.        ,  1.        ,  0.        ,\n",
       "          0.        ,  0.        ,  0.        , -0.1655    ,  0.        ,\n",
       "          0.        ,  0.        ,  0.        ,  0.        ],\n",
       "        [ 0.        ,  0.        ,  0.        ,  0.        ,  1.        ,\n",
       "          0.        ,  0.        ,  0.        ,  0.        ,  0.        ,\n",
       "          0.        ,  1.        ,  0.        ,  0.        ,  0.        ,\n",
       "          1.        ,  0.        ,  0.        ,  0.        ,  0.        ,\n",
       "          0.        ,  0.        ,  1.        ,  0.        ,  0.        ,\n",
       "          0.        ,  0.        ,  0.        ,  0.        ,  1.        ,\n",
       "          0.        ,  0.        ,  0.        ,  1.        ,  0.        ,\n",
       "          0.        ,  0.        ,  0.        , -0.1655    ,  0.        ,\n",
       "          0.        ,  0.        ,  0.        ,  0.        ],\n",
       "        [ 0.        ,  0.        ,  0.        ,  0.        ,  1.        ,\n",
       "          0.        ,  0.        ,  0.        ,  0.        ,  0.        ,\n",
       "          0.        ,  1.        ,  0.        ,  0.        ,  0.        ,\n",
       "          1.        ,  0.        ,  0.        ,  0.        ,  0.        ,\n",
       "          0.        ,  0.        ,  1.        ,  0.        ,  0.        ,\n",
       "          0.        ,  0.        ,  0.        ,  0.        ,  1.        ,\n",
       "          0.        ,  0.        ,  0.        ,  1.        ,  0.        ,\n",
       "          0.        ,  0.        ,  0.        , -0.1723    ,  0.        ,\n",
       "          0.        ,  0.        ,  0.        ,  0.        ],\n",
       "        [ 0.        ,  0.        ,  0.        ,  0.        ,  1.        ,\n",
       "          0.        ,  0.        ,  0.        ,  0.        ,  0.        ,\n",
       "          0.        ,  1.        ,  0.        ,  0.        ,  0.        ,\n",
       "          1.        ,  0.        ,  0.        ,  0.        ,  0.        ,\n",
       "          0.        ,  0.        ,  1.        ,  0.        ,  0.        ,\n",
       "          0.        ,  0.        ,  0.        ,  0.        ,  1.        ,\n",
       "          0.        ,  0.        ,  0.        ,  1.        ,  0.        ,\n",
       "          0.        ,  0.        ,  0.        , -0.1723    ,  0.        ,\n",
       "          0.        ,  0.        ,  0.        ,  0.        ],\n",
       "        [ 1.        ,  0.        ,  0.        ,  0.        ,  0.        ,\n",
       "          0.        ,  0.        ,  0.        ,  0.        ,  0.        ,\n",
       "          0.        ,  1.        ,  0.        ,  0.        ,  0.        ,\n",
       "          1.        ,  0.        ,  0.        ,  0.        ,  0.        ,\n",
       "          0.        ,  0.        ,  1.        ,  0.        ,  0.        ,\n",
       "          0.        ,  0.        ,  0.        ,  0.        ,  1.        ,\n",
       "          0.        ,  0.        ,  0.        ,  1.        ,  0.        ,\n",
       "          0.        ,  0.        ,  0.        ,  0.0681    ,  0.        ,\n",
       "          0.        ,  0.        ,  0.        ,  0.        ],\n",
       "        [ 1.        ,  0.        ,  0.        ,  0.        ,  0.        ,\n",
       "          0.        ,  0.        ,  0.        ,  0.        ,  0.        ,\n",
       "          0.        ,  1.        ,  0.        ,  0.        ,  0.        ,\n",
       "          1.        ,  0.        ,  0.        ,  0.        ,  0.        ,\n",
       "          0.        ,  0.        ,  1.        ,  0.        ,  0.        ,\n",
       "          0.        ,  0.        ,  0.        ,  0.        ,  1.        ,\n",
       "          0.        ,  0.        ,  0.        ,  1.        ,  0.        ,\n",
       "          0.        ,  0.        ,  0.        ,  0.0681    ,  0.        ,\n",
       "          0.        ,  0.        ,  0.        ,  0.        ],\n",
       "        [ 1.        ,  0.        ,  0.        ,  0.        ,  0.        ,\n",
       "          0.        ,  0.        ,  0.        ,  0.        ,  0.        ,\n",
       "          0.        ,  1.        ,  0.        ,  0.        ,  0.        ,\n",
       "          1.        ,  0.        ,  0.        ,  0.        ,  0.        ,\n",
       "          0.        ,  0.        ,  1.        ,  0.        ,  0.        ,\n",
       "          0.        ,  0.        ,  0.        ,  0.        ,  1.        ,\n",
       "          0.        ,  0.        ,  0.        ,  1.        ,  0.        ,\n",
       "          0.        ,  0.        ,  0.        ,  0.0681    ,  0.        ,\n",
       "          0.        ,  0.        ,  0.        ,  0.        ],\n",
       "        [ 1.        ,  0.        ,  0.        ,  0.        ,  0.        ,\n",
       "          0.        ,  0.        ,  0.        ,  0.        ,  0.        ,\n",
       "          0.        ,  1.        ,  0.        ,  0.        ,  0.        ,\n",
       "          1.        ,  0.        ,  0.        ,  0.        ,  0.        ,\n",
       "          0.        ,  0.        ,  1.        ,  0.        ,  0.        ,\n",
       "          0.        ,  0.        ,  0.        ,  0.        ,  1.        ,\n",
       "          0.        ,  0.        ,  0.        ,  1.        ,  0.        ,\n",
       "          0.        ,  0.        ,  0.        ,  0.0944    ,  0.        ,\n",
       "          0.        ,  0.        ,  0.        ,  0.        ],\n",
       "        [ 1.        ,  0.        ,  0.        ,  0.        ,  0.        ,\n",
       "          0.        ,  0.        ,  0.        ,  0.        ,  0.        ,\n",
       "          0.        ,  1.        ,  0.        ,  0.        ,  0.        ,\n",
       "          1.        ,  0.        ,  0.        ,  0.        ,  0.        ,\n",
       "          0.        ,  0.        ,  1.        ,  0.        ,  0.        ,\n",
       "          0.        ,  0.        ,  0.        ,  0.        ,  1.        ,\n",
       "          0.        ,  0.        ,  0.        ,  1.        ,  0.        ,\n",
       "          0.        ,  0.        ,  0.        ,  0.0944    ,  0.        ,\n",
       "          0.        ,  0.        ,  0.        ,  0.        ],\n",
       "        [ 0.        ,  0.        ,  0.        ,  0.        ,  1.        ,\n",
       "          0.        ,  0.        ,  0.        ,  0.        ,  0.        ,\n",
       "          0.        ,  0.        ,  1.        ,  0.        ,  0.        ,\n",
       "          0.        ,  1.        ,  0.        ,  0.        ,  0.        ,\n",
       "          0.        ,  0.        ,  0.        ,  1.        ,  0.        ,\n",
       "          0.        ,  0.        ,  0.        ,  0.        ,  0.        ,\n",
       "          1.        ,  0.        ,  0.        ,  1.        ,  0.        ,\n",
       "          0.        ,  0.        ,  0.        , -0.3511    ,  0.        ,\n",
       "          0.        ,  0.        ,  0.        ,  0.        ],\n",
       "        [ 0.        ,  0.        ,  0.        ,  0.        ,  1.        ,\n",
       "          0.        ,  0.        ,  0.        ,  0.        ,  0.        ,\n",
       "          0.        ,  0.        ,  1.        ,  0.        ,  0.        ,\n",
       "          0.        ,  1.        ,  0.        ,  0.        ,  0.        ,\n",
       "          0.        ,  0.        ,  0.        ,  1.        ,  0.        ,\n",
       "          0.        ,  0.        ,  0.        ,  0.        ,  0.        ,\n",
       "          1.        ,  0.        ,  0.        ,  1.        ,  0.        ,\n",
       "          0.        ,  0.        ,  0.        , -0.37040001,  0.        ,\n",
       "          0.        ,  0.        ,  0.        ,  0.        ],\n",
       "        [ 0.        ,  0.        ,  0.        ,  1.        ,  0.        ,\n",
       "          0.        ,  0.        ,  0.        ,  0.        ,  0.        ,\n",
       "          0.        ,  0.        ,  0.        ,  1.        ,  0.        ,\n",
       "          0.        ,  0.        ,  1.        ,  0.        ,  0.        ,\n",
       "          0.        ,  0.        ,  0.        ,  0.        ,  1.        ,\n",
       "          0.        ,  0.        ,  0.        ,  0.        ,  0.        ,\n",
       "          0.        ,  1.        ,  0.        ,  1.        ,  0.        ,\n",
       "          0.        ,  0.        ,  0.        ,  0.37990001,  0.        ,\n",
       "          0.        ,  0.        ,  0.        ,  0.        ],\n",
       "        [ 0.        ,  0.        ,  0.        ,  1.        ,  0.        ,\n",
       "          0.        ,  0.        ,  0.        ,  0.        ,  0.        ,\n",
       "          0.        ,  0.        ,  0.        ,  1.        ,  0.        ,\n",
       "          0.        ,  0.        ,  1.        ,  0.        ,  0.        ,\n",
       "          0.        ,  0.        ,  0.        ,  0.        ,  1.        ,\n",
       "          0.        ,  0.        ,  0.        ,  0.        ,  0.        ,\n",
       "          0.        ,  1.        ,  0.        ,  1.        ,  0.        ,\n",
       "          0.        ,  0.        ,  0.        ,  0.3845    ,  0.        ,\n",
       "          0.        ,  0.        ,  0.        ,  0.        ],\n",
       "        [ 0.        ,  0.        ,  1.        ,  0.        ,  0.        ,\n",
       "          0.        ,  0.        ,  0.        ,  0.        ,  0.        ,\n",
       "          0.        ,  0.        ,  0.        ,  0.        ,  1.        ,\n",
       "          0.        ,  0.        ,  0.        ,  1.        ,  0.        ,\n",
       "          0.        ,  0.        ,  1.        ,  0.        ,  0.        ,\n",
       "          0.        ,  0.        ,  0.        ,  0.        ,  1.        ,\n",
       "          0.        ,  0.        ,  0.        ,  0.        ,  0.        ,\n",
       "          0.        ,  1.        ,  0.        , -0.1382    ,  0.        ,\n",
       "          0.        ,  0.        ,  0.        ,  0.        ],\n",
       "        [ 0.        ,  0.        ,  1.        ,  0.        ,  0.        ,\n",
       "          0.        ,  0.        ,  0.        ,  0.        ,  0.        ,\n",
       "          0.        ,  0.        ,  0.        ,  0.        ,  1.        ,\n",
       "          0.        ,  0.        ,  0.        ,  1.        ,  0.        ,\n",
       "          0.        ,  0.        ,  0.        ,  0.        ,  1.        ,\n",
       "          0.        ,  0.        ,  0.        ,  0.        ,  0.        ,\n",
       "          0.        ,  1.        ,  0.        ,  0.        ,  1.        ,\n",
       "          0.        ,  0.        ,  0.        ,  0.1522    ,  0.        ,\n",
       "          0.        ,  0.        ,  0.        ,  0.        ],\n",
       "        [ 0.        ,  0.        ,  1.        ,  0.        ,  0.        ,\n",
       "          0.        ,  0.        ,  0.        ,  0.        ,  0.        ,\n",
       "          0.        ,  0.        ,  0.        ,  0.        ,  1.        ,\n",
       "          0.        ,  0.        ,  0.        ,  1.        ,  0.        ,\n",
       "          0.        ,  0.        ,  0.        ,  1.        ,  0.        ,\n",
       "          0.        ,  0.        ,  0.        ,  0.        ,  0.        ,\n",
       "          1.        ,  0.        ,  0.        ,  0.        ,  0.        ,\n",
       "          1.        ,  0.        ,  0.        ,  0.1233    ,  0.        ,\n",
       "          0.        ,  0.        ,  0.        ,  0.        ]]),\n",
       " 'bond_features': array([[ True, False, False, False, False, False],\n",
       "        [ True, False, False, False, False, False],\n",
       "        [ True, False, False, False, False,  True],\n",
       "        [ True, False, False, False, False,  True],\n",
       "        [ True, False, False, False, False,  True],\n",
       "        [ True, False, False, False, False, False],\n",
       "        [ True, False, False, False, False, False],\n",
       "        [ True, False, False, False, False,  True],\n",
       "        [ True, False, False, False, False,  True],\n",
       "        [ True, False, False, False, False, False],\n",
       "        [ True, False, False, False, False, False],\n",
       "        [ True, False, False, False, False, False],\n",
       "        [ True, False, False, False, False, False],\n",
       "        [ True, False, False, False, False, False],\n",
       "        [ True, False, False, False, False, False],\n",
       "        [ True, False, False, False, False, False]]),\n",
       " 'atom_list': [[14, 15, 0, 16, 10, 12, 1, 2, 11, 13, 3, 4, 5, 6, 7, 8, 9]],\n",
       " 'rdkit_ix': array([ 2,  6,  7, 10, 11, 12, 13, 14, 15, 16,  4,  8,  5,  9,  0,  1,  3]),\n",
       " ('atom_neighbors', 0): array([], dtype=int64),\n",
       " ('bond_neighbors', 0): array([], dtype=int64),\n",
       " ('atom_neighbors', 1): array([[15],\n",
       "        [12],\n",
       "        [12],\n",
       "        [13],\n",
       "        [13],\n",
       "        [14],\n",
       "        [14],\n",
       "        [14],\n",
       "        [16],\n",
       "        [16]]),\n",
       " ('bond_neighbors', 1): array([[ 1],\n",
       "        [ 5],\n",
       "        [ 6],\n",
       "        [ 9],\n",
       "        [10],\n",
       "        [11],\n",
       "        [12],\n",
       "        [13],\n",
       "        [14],\n",
       "        [15]]),\n",
       " ('atom_neighbors', 2): array([[16, 12],\n",
       "        [15, 13]]),\n",
       " ('bond_neighbors', 2): array([[3, 4],\n",
       "        [7, 8]]),\n",
       " ('atom_neighbors', 3): array([[10,  1,  2],\n",
       "        [11,  3,  4]]),\n",
       " ('bond_neighbors', 3): array([[ 4,  5,  6],\n",
       "        [ 8,  9, 10]]),\n",
       " ('atom_neighbors', 4): array([[15,  5,  6,  7],\n",
       "        [14,  0, 16, 11],\n",
       "        [15, 10,  8,  9]]),\n",
       " ('bond_neighbors', 4): array([[ 0, 11, 12, 13],\n",
       "        [ 0,  1,  2,  7],\n",
       "        [ 2,  3, 14, 15]]),\n",
       " ('atom_neighbors', 5): array([], dtype=int64),\n",
       " ('bond_neighbors', 5): array([], dtype=int64)}"
      ]
     },
     "execution_count": 30,
     "metadata": {},
     "output_type": "execute_result"
    }
   ],
   "source": [
    "array_rep_from_mol((mols[0].mol,))"
   ]
  },
  {
   "cell_type": "code",
   "execution_count": 31,
   "metadata": {
    "ExecuteTime": {
     "end_time": "2019-03-01T04:44:51.207587Z",
     "start_time": "2019-03-01T04:44:48.228142Z"
    }
   },
   "outputs": [],
   "source": [
    "from tqdm import tqdm\n",
    "\n",
    "okay_inds = []\n",
    "for i in range(len(mols)):\n",
    "    try:\n",
    "        array_rep_from_mol((mols[i].mol,))\n",
    "        okay_inds.append(i)\n",
    "    except AssertionError:\n",
    "        print('problem encountered for {}!'.format(mol.mol))\n",
    "    #_ = array_rep_from_smiles((smiles,))"
   ]
  },
  {
   "cell_type": "code",
   "execution_count": 32,
   "metadata": {
    "ExecuteTime": {
     "end_time": "2019-03-01T04:44:51.214152Z",
     "start_time": "2019-03-01T04:44:51.209235Z"
    }
   },
   "outputs": [],
   "source": [
    "okay_inds = np.array(okay_inds)"
   ]
  },
  {
   "cell_type": "code",
   "execution_count": 33,
   "metadata": {
    "ExecuteTime": {
     "end_time": "2019-03-01T04:44:51.219891Z",
     "start_time": "2019-03-01T04:44:51.216207Z"
    }
   },
   "outputs": [],
   "source": [
    "np.random.seed(0)\n",
    "train_inds = np.array(okay_inds)\n",
    "np.random.shuffle(train_inds)\n",
    "train_inds = train_inds[::2]"
   ]
  },
  {
   "cell_type": "code",
   "execution_count": 34,
   "metadata": {
    "ExecuteTime": {
     "end_time": "2019-03-01T04:44:51.224810Z",
     "start_time": "2019-03-01T04:44:51.221744Z"
    }
   },
   "outputs": [],
   "source": [
    "train_mols = tuple(mols[i].mol for i in train_inds)"
   ]
  },
  {
   "cell_type": "code",
   "execution_count": 35,
   "metadata": {
    "ExecuteTime": {
     "end_time": "2019-03-01T04:44:52.646082Z",
     "start_time": "2019-03-01T04:44:51.227034Z"
    }
   },
   "outputs": [],
   "source": [
    "computed_features = compute_atom_features(weights, train_mols)"
   ]
  },
  {
   "cell_type": "code",
   "execution_count": 36,
   "metadata": {
    "ExecuteTime": {
     "end_time": "2019-03-01T04:44:52.654982Z",
     "start_time": "2019-03-01T04:44:52.647550Z"
    }
   },
   "outputs": [
    {
     "data": {
      "text/plain": [
       "5729"
      ]
     },
     "execution_count": 36,
     "metadata": {},
     "output_type": "execute_result"
    }
   ],
   "source": [
    "train_sizes = [len(array_rep_from_mol((mol,))['atom_list'][0]) for mol in train_mols]\n",
    "sum(train_sizes)"
   ]
  },
  {
   "cell_type": "code",
   "execution_count": 37,
   "metadata": {
    "ExecuteTime": {
     "end_time": "2019-03-01T04:44:52.665333Z",
     "start_time": "2019-03-01T04:44:52.657201Z"
    }
   },
   "outputs": [
    {
     "data": {
      "text/plain": [
       "5729"
      ]
     },
     "execution_count": 37,
     "metadata": {},
     "output_type": "execute_result"
    }
   ],
   "source": [
    "train_sizes = [len(array_rep_from_mol((mol,))['atom_features']) for mol in train_mols]\n",
    "sum(train_sizes)"
   ]
  },
  {
   "cell_type": "code",
   "execution_count": 38,
   "metadata": {
    "ExecuteTime": {
     "end_time": "2019-03-01T04:44:52.872128Z",
     "start_time": "2019-03-01T04:44:52.667607Z"
    }
   },
   "outputs": [
    {
     "data": {
      "text/plain": [
       "[<matplotlib.lines.Line2D at 0x1a31141e48>]"
      ]
     },
     "execution_count": 38,
     "metadata": {},
     "output_type": "execute_result"
    },
    {
     "data": {
      "image/png": "[encoded data removed]",
      "text/plain": [
       "<Figure size 432x288 with 1 Axes>"
      ]
     },
     "metadata": {
      "needs_background": "light"
     },
     "output_type": "display_data"
    }
   ],
   "source": [
    "plt.scatter(N_atoms[train_inds], train_sizes)\n",
    "plt.xlabel('# of atoms in OpenMM systems')\n",
    "plt.ylabel('# atoms in RDKit systems')\n",
    "plt.plot(train_sizes, train_sizes)"
   ]
  },
  {
   "cell_type": "code",
   "execution_count": 39,
   "metadata": {
    "ExecuteTime": {
     "end_time": "2019-03-01T04:44:52.877850Z",
     "start_time": "2019-03-01T04:44:52.873824Z"
    }
   },
   "outputs": [
    {
     "data": {
      "text/plain": [
       "(5729, 2)"
      ]
     },
     "execution_count": 39,
     "metadata": {},
     "output_type": "execute_result"
    }
   ],
   "source": [
    "computed_features.shape"
   ]
  },
  {
   "cell_type": "code",
   "execution_count": 40,
   "metadata": {
    "ExecuteTime": {
     "end_time": "2019-03-01T04:44:52.883478Z",
     "start_time": "2019-03-01T04:44:52.879414Z"
    }
   },
   "outputs": [],
   "source": [
    "# initialize near sensible values, rather than initialize at very small magnitude values\n",
    "default_radius = 0.15\n",
    "default_scale = 0.8\n",
    "def construct_arrays(theta):\n",
    "    computed_features = compute_atom_features(theta, train_mols)\n",
    "    start_ind = 0\n",
    "    arrays = []\n",
    "    \n",
    "    for i in range(len(train_inds)):\n",
    "        features = computed_features[start_ind:start_ind + train_sizes[i]]\n",
    "        radii, scales = features[:,0] + default_radius, features[:,1] + default_scale\n",
    "        arrays.append((radii, scales))\n",
    "        start_ind += train_sizes[i]\n",
    "    return arrays"
   ]
  },
  {
   "cell_type": "code",
   "execution_count": 41,
   "metadata": {
    "ExecuteTime": {
     "end_time": "2019-03-01T04:44:52.907946Z",
     "start_time": "2019-03-01T04:44:52.884846Z"
    }
   },
   "outputs": [],
   "source": [
    "arrays = construct_arrays(weights)"
   ]
  },
  {
   "cell_type": "code",
   "execution_count": 42,
   "metadata": {
    "ExecuteTime": {
     "end_time": "2019-03-01T04:44:52.917195Z",
     "start_time": "2019-03-01T04:44:52.910278Z"
    }
   },
   "outputs": [
    {
     "data": {
      "text/plain": [
       "(array([0.15      , 0.15      , 0.15      , 0.17932691, 0.17988976,\n",
       "        0.17934562, 0.18002804, 0.15852876, 0.15852876, 0.15      ,\n",
       "        0.15      , 0.15      , 0.15      , 0.15      , 0.15      ,\n",
       "        0.15      , 0.15      ]),\n",
       " array([0.8       , 0.8       , 0.8       , 0.8       , 0.8       ,\n",
       "        0.8       , 0.8       , 0.80264342, 0.80264342, 0.8       ,\n",
       "        0.8       , 0.8       , 0.8       , 0.8       , 0.8       ,\n",
       "        0.8       , 0.8       ]))"
      ]
     },
     "execution_count": 42,
     "metadata": {},
     "output_type": "execute_result"
    }
   ],
   "source": [
    "arrays[0]"
   ]
  },
  {
   "cell_type": "code",
   "execution_count": 43,
   "metadata": {
    "ExecuteTime": {
     "end_time": "2019-03-01T04:44:52.931107Z",
     "start_time": "2019-03-01T04:44:52.923713Z"
    }
   },
   "outputs": [],
   "source": [
    "from autograd import numpy as np\n",
    "from autograd.scipy.stats import norm\n",
    "from autograd.scipy.stats import t as student_t\n",
    "from autograd import grad\n",
    "from autograd.scipy.misc import logsumexp\n",
    "from simtk import unit\n",
    "from bayes_implicit_solvent.constants import kB, temperature\n",
    "\n",
    "kj_mol_to_kT = 1.0 * unit.kilojoule_per_mole / (kB * temperature)\n",
    "\n",
    "def one_sided_exp(w_F):\n",
    "    DeltaF = - (logsumexp(- w_F) - np.log(len(w_F)))\n",
    "    return DeltaF\n",
    "\n",
    "\n",
    "from bayes_implicit_solvent.gb_models.numpy_gb_models import compute_OBC_energy_vectorized\n",
    "\n",
    "\n",
    "\n",
    "\n"
   ]
  },
  {
   "cell_type": "markdown",
   "metadata": {},
   "source": [
    "def log_prob(theta):\n",
    "    parameterized_list = construct_arrays(theta)\n",
    "    L = 0\n",
    "    for i in range(len(train_inds)):\n",
    "        radii, scales = parameterized_list[i]\n",
    "        train_ind = train_inds[i]\n",
    "        \n",
    "        N_atoms = len(distance_matrices[train_ind][0])\n",
    "        assert(N_atoms == len(radii))\n",
    "        W_F = np.array([compute_OBC_energy_vectorized(distance_matrix, radii, scales, charges[train_ind]) for distance_matrix in\n",
    "                        distance_matrices[train_ind]])\n",
    "        w_F = W_F * kj_mol_to_kT\n",
    "        pred_free_energy = one_sided_exp(w_F)\n",
    "        L += norm.logpdf(pred_free_energy, loc=expt_means[i], scale=expt_uncs[i] ** 2)\n",
    "    return L"
   ]
  },
  {
   "cell_type": "code",
   "execution_count": 44,
   "metadata": {
    "ExecuteTime": {
     "end_time": "2019-03-01T04:44:52.943842Z",
     "start_time": "2019-03-01T04:44:52.933704Z"
    }
   },
   "outputs": [],
   "source": [
    "def log_prob(theta, n_confs=20): #n_mols=100\n",
    "    L = - 10 * np.linalg.norm(theta)\n",
    "    \n",
    "    parameterized_list = construct_arrays(theta)\n",
    "    \n",
    "    #for i in np.random.randint(0, len(train_inds), n_mols):\n",
    "    for i in range(len(train_inds)):\n",
    "        radii, scales = parameterized_list[i]\n",
    "        train_ind = train_inds[i]\n",
    "        \n",
    "        N_atoms = len(distance_matrices[train_ind][0])\n",
    "        assert(N_atoms == len(radii))\n",
    "        \n",
    "        \n",
    "        W_F = np.array([compute_OBC_energy_vectorized(distance_matrices[train_ind][dmat_ind], radii, scales, charges[train_ind])\n",
    "                        for dmat_ind in\n",
    "                        np.random.randint(0, len(distance_matrices[train_ind]), n_confs)])\n",
    "        w_F = W_F * kj_mol_to_kT\n",
    "        pred_free_energy = one_sided_exp(w_F)\n",
    "        #L += norm.logpdf(pred_free_energy, loc=expt_means[i], scale=expt_uncs[i] ** 2)\n",
    "        L += student_t.logpdf(pred_free_energy, loc=expt_means[i],\n",
    "                                         scale=expt_uncs[i] ** 2,\n",
    "                                         df=7)\n",
    "    return L\n"
   ]
  },
  {
   "cell_type": "markdown",
   "metadata": {},
   "source": [
    "def log_prob(theta, distance_matrix_inds=None, train_mol_inds=None):\n",
    "    \n",
    "    if type(train_mol_inds) != type(None):\n",
    "        train_inds_ = np.arange(len(train_inds))[train_mol_inds]\n",
    "    else:\n",
    "        train_inds_ = train_inds\n",
    "    \n",
    "    if type(distance_matrix_inds) != type(None):\n",
    "        distance_matrix_inds_ = distance_matrix_inds\n",
    "    else:\n",
    "        distance_matrix_inds_ = np.arange(len(distance_matrices[0]))\n",
    "        \n",
    "\n",
    "    parameterized_list = construct_arrays(theta)\n",
    "    L = 0\n",
    "    for i in train_inds_:\n",
    "        radii, scales = parameterized_list[i]\n",
    "        train_ind = train_inds_[i]\n",
    "        \n",
    "        N_atoms = len(distance_matrices[train_ind][0])\n",
    "        assert(N_atoms == len(radii))\n",
    "        \n",
    "        \n",
    "        W_F = np.array([compute_OBC_energy_vectorized(distance_matrices[train_ind][dmat_ind], radii, scales, charges[train_ind])\n",
    "                        for dmat_ind in\n",
    "                        distance_matrices[train_ind][distance_matrix_inds_]])\n",
    "        w_F = W_F * kj_mol_to_kT\n",
    "        pred_free_energy = one_sided_exp(w_F)\n",
    "        L += norm.logpdf(pred_free_energy, loc=expt_means[i], scale=expt_uncs[i] ** 2)\n",
    "    return L\n"
   ]
  },
  {
   "cell_type": "code",
   "execution_count": 45,
   "metadata": {
    "ExecuteTime": {
     "end_time": "2019-03-01T04:44:52.951858Z",
     "start_time": "2019-03-01T04:44:52.946251Z"
    }
   },
   "outputs": [],
   "source": [
    "def sample_random_distance_matrix_inds(n_confs=10):\n",
    "    return np.random.randint(0, 50, n_confs)\n",
    "def sample_random_train_mol_inds(n_mols=50):\n",
    "    return np.random.randint(0, len(train_inds), n_mols)"
   ]
  },
  {
   "cell_type": "code",
   "execution_count": 46,
   "metadata": {
    "ExecuteTime": {
     "end_time": "2019-03-01T04:44:54.683419Z",
     "start_time": "2019-03-01T04:44:52.954078Z"
    }
   },
   "outputs": [],
   "source": [
    "L = log_prob(weights)"
   ]
  },
  {
   "cell_type": "code",
   "execution_count": 47,
   "metadata": {
    "ExecuteTime": {
     "end_time": "2019-03-01T04:44:56.407391Z",
     "start_time": "2019-03-01T04:44:54.685291Z"
    }
   },
   "outputs": [],
   "source": [
    "L = log_prob(weights)"
   ]
  },
  {
   "cell_type": "code",
   "execution_count": 48,
   "metadata": {
    "ExecuteTime": {
     "end_time": "2019-03-01T04:45:25.644331Z",
     "start_time": "2019-03-01T04:44:56.409470Z"
    }
   },
   "outputs": [
    {
     "name": "stderr",
     "output_type": "stream",
     "text": [
      "/Users/joshuafass/anaconda3/lib/python3.7/site-packages/autograd/numpy/numpy_vjps.py:444: FutureWarning: Using a non-tuple sequence for multidimensional indexing is deprecated; use `arr[tuple(seq)]` instead of `arr[seq]`. In the future this will be interpreted as an array index, `arr[np.array(seq)]`, which will result either in an error or a different result.\n",
      "  return lambda g: g[idxs]\n"
     ]
    }
   ],
   "source": [
    "g = grad(log_prob)(weights)"
   ]
  },
  {
   "cell_type": "code",
   "execution_count": 49,
   "metadata": {
    "ExecuteTime": {
     "end_time": "2019-03-01T04:45:25.650532Z",
     "start_time": "2019-03-01T04:45:25.646032Z"
    }
   },
   "outputs": [
    {
     "data": {
      "text/plain": [
       "8571.696339492286"
      ]
     },
     "execution_count": 49,
     "metadata": {},
     "output_type": "execute_result"
    }
   ],
   "source": [
    "np.linalg.norm(g)"
   ]
  },
  {
   "cell_type": "code",
   "execution_count": 50,
   "metadata": {
    "ExecuteTime": {
     "end_time": "2019-03-01T04:45:52.760402Z",
     "start_time": "2019-03-01T04:45:25.651975Z"
    }
   },
   "outputs": [],
   "source": [
    "g = grad(log_prob)(weights)"
   ]
  },
  {
   "cell_type": "code",
   "execution_count": 51,
   "metadata": {
    "ExecuteTime": {
     "end_time": "2019-03-01T04:45:52.766179Z",
     "start_time": "2019-03-01T04:45:52.762118Z"
    }
   },
   "outputs": [
    {
     "data": {
      "text/plain": [
       "8562.542407181805"
      ]
     },
     "execution_count": 51,
     "metadata": {},
     "output_type": "execute_result"
    }
   ],
   "source": [
    "np.linalg.norm(g)"
   ]
  },
  {
   "cell_type": "code",
   "execution_count": 52,
   "metadata": {
    "ExecuteTime": {
     "end_time": "2019-03-01T12:14:07.918579Z",
     "start_time": "2019-03-01T04:45:52.768052Z"
    }
   },
   "outputs": [
    {
     "name": "stdout",
     "output_type": "stream",
     "text": [
      "iteration: |gradient|\n",
      "0: 7237.235\n",
      "1: 9464.664\n",
      "2: 18050.722\n",
      "3: 8853.675\n",
      "4: 13400.713\n",
      "5: 17190.174\n",
      "6: 22862.348\n",
      "7: 15048.914\n",
      "8: 10834.639\n",
      "9: 14364.318\n",
      "10: 19732.663\n",
      "11: 25881.584\n",
      "12: 27149.846\n",
      "13: 40730.890\n",
      "14: 24664.210\n",
      "15: 22541.135\n",
      "16: 24834.537\n",
      "17: 16720.654\n",
      "18: 12945.813\n",
      "19: 20463.951\n",
      "20: 16655.210\n",
      "21: 25010.110\n",
      "22: 22412.535\n",
      "23: 30064.179\n",
      "24: 61406.425\n",
      "25: 32109.841\n",
      "26: 17254.817\n",
      "27: 19021.230\n",
      "28: 23749.153\n",
      "29: 25268.822\n",
      "30: 30114.917\n",
      "31: 24269.719\n",
      "32: 25192.734\n",
      "33: 32011.308\n",
      "34: 23834.444\n",
      "35: 18133.981\n",
      "36: 62865.715\n",
      "37: 33933.811\n",
      "38: 29560.025\n",
      "39: 28679.821\n",
      "40: 29799.110\n",
      "41: 25337.268\n",
      "42: 20373.998\n",
      "43: 26355.684\n",
      "44: 29064.526\n",
      "45: 18081.174\n",
      "46: 40286.461\n",
      "47: 14606.294\n",
      "48: 28875.088\n",
      "49: 34555.139\n",
      "50: 68454.795\n",
      "51: 19383.581\n",
      "52: 30881.638\n",
      "53: 19829.081\n",
      "54: 17743.704\n",
      "55: 22843.553\n",
      "56: 29650.942\n",
      "57: 35130.029\n",
      "58: 33102.970\n",
      "59: 27406.244\n",
      "60: 20616.698\n",
      "61: 24584.997\n",
      "62: 22009.625\n",
      "63: 20688.836\n",
      "64: 23897.557\n",
      "65: 23612.407\n",
      "66: 33726.489\n",
      "67: 32863.709\n",
      "68: 20894.281\n",
      "69: 26616.150\n",
      "70: 28473.408\n",
      "71: 28534.769\n",
      "72: 26096.142\n",
      "73: 23130.814\n",
      "74: 35762.440\n",
      "75: 16907.695\n",
      "76: 18912.929\n",
      "77: 24836.371\n",
      "78: 18331.809\n",
      "79: 25361.836\n",
      "80: 16793.098\n",
      "81: 20019.888\n",
      "82: 15434.885\n",
      "83: 24946.744\n",
      "84: 45969.918\n",
      "85: 31589.145\n",
      "86: 17439.969\n",
      "87: 14147.789\n",
      "88: 24447.101\n",
      "89: 48233.915\n",
      "90: 15023.517\n",
      "91: 36497.992\n",
      "92: 20409.912\n",
      "93: 24973.235\n",
      "94: 33515.392\n",
      "95: 15036.120\n",
      "96: 26359.205\n",
      "97: 17034.915\n",
      "98: 23331.606\n",
      "99: 32597.088\n",
      "100: 33177.304\n",
      "101: 23430.202\n",
      "102: 18518.887\n",
      "103: 32086.996\n",
      "104: 15012.008\n",
      "105: 21131.606\n",
      "106: 41419.885\n",
      "107: 41420.806\n",
      "108: 24529.494\n",
      "109: 29303.861\n",
      "110: 42322.107\n",
      "111: 25736.647\n",
      "112: 28381.547\n",
      "113: 25374.922\n",
      "114: 32779.300\n",
      "115: 30634.190\n",
      "116: 33108.539\n",
      "117: 15297.476\n",
      "118: 33025.279\n",
      "119: 30616.019\n",
      "120: 25998.039\n",
      "121: 35331.153\n",
      "122: 21989.340\n",
      "123: 28021.352\n",
      "124: 28424.519\n",
      "125: 23292.936\n",
      "126: 38215.117\n",
      "127: 54078.416\n",
      "128: 13721.179\n",
      "129: 53364.437\n",
      "130: 46637.181\n",
      "131: 15266.440\n",
      "132: 25360.887\n",
      "133: 29471.322\n",
      "134: 42562.017\n",
      "135: 45154.841\n",
      "136: 47518.444\n",
      "137: 27254.014\n",
      "138: 41781.279\n",
      "139: 47758.822\n",
      "140: 55533.963\n",
      "141: 26382.948\n",
      "142: 19150.996\n",
      "143: 38808.745\n",
      "144: 25363.859\n",
      "145: 32162.708\n",
      "146: 29587.821\n",
      "147: 25041.123\n",
      "148: 33636.558\n",
      "149: 12752.719\n",
      "150: 43331.713\n",
      "151: 13854.798\n",
      "152: 17510.859\n",
      "153: 23460.735\n",
      "154: 24528.749\n",
      "155: 19368.581\n",
      "156: 23577.692\n",
      "157: 27039.267\n",
      "158: 27487.518\n",
      "159: 33846.817\n",
      "160: 22012.618\n",
      "161: 21289.679\n",
      "162: 23515.675\n",
      "163: 18968.180\n",
      "164: 32850.506\n",
      "165: 25091.927\n",
      "166: 53227.425\n",
      "167: 28728.523\n",
      "168: 24360.019\n",
      "169: 23931.537\n",
      "170: 33437.733\n",
      "171: 28873.282\n",
      "172: 48398.086\n",
      "173: 35776.254\n",
      "174: 33475.386\n",
      "175: 36404.327\n",
      "176: 43799.991\n",
      "177: 23172.201\n",
      "178: 30336.127\n",
      "179: 23912.516\n",
      "180: 23596.886\n",
      "181: 25672.904\n",
      "182: 28850.280\n",
      "183: 27840.976\n",
      "184: 20377.791\n",
      "185: 22987.158\n",
      "186: 16853.819\n",
      "187: 46651.623\n",
      "188: 42041.069\n",
      "189: 23476.846\n",
      "190: 32828.207\n",
      "191: 25102.058\n",
      "192: 22829.993\n",
      "193: 35916.322\n",
      "194: 40172.554\n",
      "195: 30754.575\n",
      "196: 27129.734\n",
      "197: 15465.984\n",
      "198: 54005.430\n",
      "199: 18842.323\n",
      "200: 36873.190\n",
      "201: 22719.463\n",
      "202: 23217.100\n",
      "203: 33209.254\n",
      "204: 47059.708\n",
      "205: 22603.055\n",
      "206: 44098.938\n",
      "207: 40705.416\n",
      "208: 13147.212\n",
      "209: 31497.323\n",
      "210: 21864.790\n",
      "211: 17536.171\n",
      "212: 29667.735\n",
      "213: 33294.871\n",
      "214: 44424.719\n",
      "215: 26113.880\n",
      "216: 19044.567\n",
      "217: 28508.388\n",
      "218: 28033.721\n",
      "219: 29220.075\n",
      "220: 28983.675\n",
      "221: 31274.109\n",
      "222: 24524.861\n",
      "223: 29916.996\n",
      "224: 33436.083\n",
      "225: 83166.970\n",
      "226: 21594.119\n",
      "227: 21576.659\n",
      "228: 16397.568\n",
      "229: 23315.590\n",
      "230: 21182.315\n",
      "231: 19791.870\n",
      "232: 18394.067\n",
      "233: 34971.256\n",
      "234: 24570.396\n",
      "235: 17868.347\n",
      "236: 23945.880\n",
      "237: 16813.075\n",
      "238: 17639.527\n",
      "239: 14542.471\n",
      "240: 17714.327\n",
      "241: 24811.828\n",
      "242: 40324.391\n",
      "243: 28359.367\n",
      "244: 26614.683\n",
      "245: 25462.800\n",
      "246: 50138.736\n",
      "247: 50446.744\n",
      "248: 25764.912\n",
      "249: 22867.417\n",
      "250: 13771.774\n",
      "251: 23483.711\n",
      "252: 23268.592\n",
      "253: 20404.343\n",
      "254: 22071.533\n",
      "255: 34113.706\n",
      "256: 18887.008\n",
      "257: 29435.278\n",
      "258: 34479.071\n",
      "259: 42391.644\n",
      "260: 27346.345\n",
      "261: 20172.218\n",
      "262: 30911.414\n",
      "263: 25701.326\n",
      "264: 24524.717\n",
      "265: 33913.801\n",
      "266: 39365.194\n",
      "267: 34943.018\n",
      "268: 35710.907\n",
      "269: 36300.211\n",
      "270: 33235.496\n",
      "271: 44139.013\n",
      "272: 50404.535\n",
      "273: 18964.107\n",
      "274: 25479.662\n",
      "275: 34900.408\n",
      "276: 30987.412\n",
      "277: 29133.308\n",
      "278: 39625.008\n",
      "279: 49185.484\n",
      "280: 27119.519\n",
      "281: 23535.976\n",
      "282: 32579.109\n",
      "283: 22314.973\n",
      "284: 23248.670\n",
      "285: 65675.707\n",
      "286: 47132.912\n",
      "287: 29150.098\n",
      "288: 29661.038\n",
      "289: 35897.856\n",
      "290: 42708.280\n",
      "291: 24325.719\n",
      "292: 17976.805\n",
      "293: 33998.376\n",
      "294: 34717.569\n",
      "295: 12607.641\n",
      "296: 15907.410\n",
      "297: 92321.362\n",
      "298: 35729.563\n",
      "299: 20755.795\n",
      "300: 27633.671\n",
      "301: 42551.602\n",
      "302: 34398.233\n",
      "303: 33140.310\n",
      "304: 22978.955\n",
      "305: 27856.320\n",
      "306: 22107.014\n",
      "307: 18321.978\n",
      "308: 18719.207\n",
      "309: 26002.922\n",
      "310: 22234.795\n",
      "311: 31191.844\n",
      "312: 27851.770\n",
      "313: 22036.930\n",
      "314: 21315.803\n",
      "315: 31113.151\n",
      "316: 22235.893\n",
      "317: 18784.792\n",
      "318: 35170.217\n",
      "319: 70417.683\n",
      "320: 26022.792\n",
      "321: 19663.918\n",
      "322: 56728.622\n",
      "323: 39355.719\n",
      "324: 36732.999\n",
      "325: 43837.414\n",
      "326: 20501.807\n",
      "327: 25274.700\n",
      "328: 29145.210\n",
      "329: 54896.869\n",
      "330: 26878.193\n",
      "331: 19682.745\n",
      "332: 18758.449\n",
      "333: 29001.034\n",
      "334: 41325.847\n",
      "335: 28289.426\n",
      "336: 25510.162\n",
      "337: 28787.739\n",
      "338: 21368.920\n",
      "339: 28960.716\n",
      "340: 17440.960\n",
      "341: 32324.009\n",
      "342: 50879.066\n",
      "343: 43283.099\n",
      "344: 21261.442\n",
      "345: 33732.266\n",
      "346: 31526.934\n",
      "347: 34249.158\n",
      "348: 15648.222\n",
      "349: 39269.689\n",
      "350: 35642.665\n",
      "351: 28240.570\n",
      "352: 41355.974\n",
      "353: 36106.950\n",
      "354: 53093.840\n",
      "355: 24664.501\n",
      "356: 19677.019\n",
      "357: 23324.255\n",
      "358: 31265.643\n",
      "359: 27020.271\n",
      "360: 69346.591\n",
      "361: 33850.199\n",
      "362: 18796.463\n",
      "363: 27551.586\n",
      "364: 27018.846\n",
      "365: 35078.868\n",
      "366: 28721.797\n",
      "367: 18148.931\n",
      "368: 19543.687\n",
      "369: 19486.598\n",
      "370: 48822.480\n",
      "371: 24540.686\n",
      "372: 52960.954\n",
      "373: 21751.425\n",
      "374: 18633.128\n",
      "375: 27124.135\n",
      "376: 32185.254\n",
      "377: 28868.893\n",
      "378: 24677.340\n",
      "379: 21514.589\n",
      "380: 31981.902\n",
      "381: 26249.173\n",
      "382: 24177.912\n",
      "383: 16307.266\n",
      "384: 20979.100\n",
      "385: 33694.226\n",
      "386: 26924.239\n",
      "387: 55331.154\n",
      "388: 25941.016\n",
      "389: 34831.139\n",
      "390: 34899.138\n",
      "391: 23324.485\n",
      "392: 29521.644\n",
      "393: 22965.391\n",
      "394: 17610.458\n",
      "395: 25903.178\n",
      "396: 21779.406\n",
      "397: 17857.842\n",
      "398: 23695.602\n",
      "399: 18625.648\n",
      "400: 38987.582\n",
      "401: 19486.470\n",
      "402: 33271.061\n",
      "403: 48489.668\n",
      "404: 19895.305\n",
      "405: 62980.015\n",
      "406: 56982.163\n",
      "407: 27757.806\n",
      "408: 34464.359\n",
      "409: 44337.122\n",
      "410: 49717.784\n",
      "411: 22391.912\n",
      "412: 35143.038\n",
      "413: 37888.992\n",
      "414: 17023.429\n",
      "415: 45090.055\n",
      "416: 26864.456\n",
      "417: 44578.257\n",
      "418: 24014.787\n",
      "419: 24671.156\n",
      "420: 29188.429\n",
      "421: 32244.362\n",
      "422: 19923.890\n",
      "423: 38665.272\n",
      "424: 39162.356\n",
      "425: 16473.073\n",
      "426: 35710.472\n",
      "427: 46207.402\n",
      "428: 24854.407\n",
      "429: 30944.977\n",
      "430: 34413.747\n",
      "431: 32768.554\n",
      "432: 37729.208\n",
      "433: 24766.981\n",
      "434: 21506.030\n",
      "435: 24403.883\n",
      "436: 51211.249\n",
      "437: 29170.004\n",
      "438: 27437.079\n",
      "439: 39608.304\n",
      "440: 30767.791\n",
      "441: 21690.827\n",
      "442: 22869.967\n",
      "443: 44475.566\n",
      "444: 36153.427\n",
      "445: 31491.914\n",
      "446: 26713.072\n",
      "447: 27888.186\n",
      "448: 33091.578\n",
      "449: 28326.665\n",
      "450: 27118.932\n",
      "451: 48205.050\n",
      "452: 26118.240\n",
      "453: 48449.132\n",
      "454: 43754.353\n",
      "455: 35194.537\n",
      "456: 34466.639\n",
      "457: 24113.760\n",
      "458: 34992.936\n",
      "459: 39440.649\n",
      "460: 25999.224\n",
      "461: 18418.419\n",
      "462: 26391.082\n",
      "463: 29736.938\n",
      "464: 24815.155\n",
      "465: 22346.912\n",
      "466: 23020.922\n",
      "467: 47475.853\n",
      "468: 63421.171\n",
      "469: 34202.689\n",
      "470: 34272.783\n",
      "471: 25889.041\n",
      "472: 20094.817\n",
      "473: 21962.657\n",
      "474: 24273.725\n",
      "475: 16327.342\n",
      "476: 24332.837\n",
      "477: 20361.051\n",
      "478: 32517.070\n",
      "479: 35713.767\n",
      "480: 25169.163\n",
      "481: 38995.385\n",
      "482: 22198.073\n",
      "483: 66357.096\n",
      "484: 17018.000\n",
      "485: 21519.219\n",
      "486: 31843.276\n",
      "487: 33038.184\n",
      "488: 21048.484\n",
      "489: 30645.724\n",
      "490: 34466.687\n",
      "491: 36996.369\n",
      "492: 18010.462\n",
      "493: 27307.978\n",
      "494: 33376.542\n",
      "495: 23850.993\n",
      "496: 32017.631\n",
      "497: 31404.824\n",
      "498: 25139.389\n",
      "499: 43902.666\n",
      "500: 21334.716\n",
      "501: 20580.804\n",
      "502: 45957.829\n",
      "503: 29127.874\n",
      "504: 31670.526\n",
      "505: 40013.164\n",
      "506: 28173.662\n",
      "507: 27941.879\n",
      "508: 45339.558\n",
      "509: 26218.395\n",
      "510: 27958.848\n",
      "511: 25750.727\n",
      "512: 28214.126\n",
      "513: 24080.026\n",
      "514: 44287.243\n",
      "515: 51599.668\n",
      "516: 24888.345\n",
      "517: 27839.375\n",
      "518: 51604.455\n",
      "519: 57174.722\n",
      "520: 18697.190\n",
      "521: 29658.456\n",
      "522: 47844.957\n",
      "523: 29410.540\n",
      "524: 21009.933\n",
      "525: 44937.447\n",
      "526: 26528.975\n",
      "527: 28506.004\n",
      "528: 41723.966\n",
      "529: 24758.298\n",
      "530: 27379.219\n",
      "531: 23393.889\n",
      "532: 42551.468\n",
      "533: 26598.102\n",
      "534: 29259.988\n",
      "535: 30234.677\n",
      "536: 39917.201\n",
      "537: 26277.028\n",
      "538: 31792.868\n",
      "539: 33110.464\n",
      "540: 23294.992\n",
      "541: 33182.191\n",
      "542: 30366.893\n",
      "543: 49564.862\n",
      "544: 27798.072\n",
      "545: 70829.131\n",
      "546: 50063.558\n",
      "547: 50349.226\n",
      "548: 42542.694\n",
      "549: 33132.050\n",
      "550: 26334.256\n",
      "551: 27581.447\n",
      "552: 25907.906\n"
     ]
    },
    {
     "name": "stdout",
     "output_type": "stream",
     "text": [
      "553: 33898.836\n",
      "554: 42694.075\n",
      "555: 24945.311\n",
      "556: 23194.768\n",
      "557: 38357.134\n",
      "558: 36215.213\n",
      "559: 31886.403\n",
      "560: 43533.609\n",
      "561: 41454.075\n",
      "562: 29497.159\n",
      "563: 48090.949\n",
      "564: 43741.567\n",
      "565: 37834.417\n",
      "566: 23057.350\n",
      "567: 31827.640\n",
      "568: 46079.289\n",
      "569: 24833.577\n",
      "570: 22769.365\n",
      "571: 39162.905\n",
      "572: 49584.251\n",
      "573: 35913.675\n",
      "574: 29893.310\n",
      "575: 41490.329\n",
      "576: 31832.003\n",
      "577: 28281.198\n",
      "578: 20437.954\n",
      "579: 33536.232\n",
      "580: 40685.101\n",
      "581: 26355.669\n",
      "582: 51726.325\n",
      "583: 43573.801\n",
      "584: 26944.467\n",
      "585: 37774.470\n",
      "586: 32940.883\n",
      "587: 33609.350\n",
      "588: 18607.140\n",
      "589: 24466.733\n",
      "590: 18701.233\n",
      "591: 31846.786\n",
      "592: 38648.049\n",
      "593: 25305.960\n",
      "594: 23743.466\n",
      "595: 22081.333\n",
      "596: 20682.985\n",
      "597: 30197.414\n",
      "598: 29143.266\n",
      "599: 28397.164\n",
      "600: 28633.761\n",
      "601: 24833.531\n",
      "602: 30194.069\n",
      "603: 30333.250\n",
      "604: 57166.802\n",
      "605: 48964.582\n",
      "606: 25321.048\n",
      "607: 31996.749\n",
      "608: 21655.389\n",
      "609: 19298.986\n",
      "610: 21919.297\n",
      "611: 35481.040\n",
      "612: 43458.406\n",
      "613: 28121.449\n",
      "614: 46578.911\n",
      "615: 18524.784\n",
      "616: 38076.248\n",
      "617: 44083.471\n",
      "618: 19795.612\n",
      "619: 26407.160\n",
      "620: 25838.606\n",
      "621: 32700.340\n",
      "622: 48593.006\n",
      "623: 21016.266\n",
      "624: 26615.521\n",
      "625: 39398.945\n",
      "626: 60477.355\n",
      "627: 25160.824\n",
      "628: 46640.076\n",
      "629: 27701.396\n",
      "630: 47876.036\n",
      "631: 25076.043\n",
      "632: 31155.150\n",
      "633: 27929.947\n",
      "634: 23057.705\n",
      "635: 27469.212\n",
      "636: 17291.172\n",
      "637: 48055.741\n",
      "638: 28480.359\n",
      "639: 22805.597\n",
      "640: 27073.499\n",
      "641: 21802.595\n",
      "642: 22603.602\n",
      "643: 22628.696\n",
      "644: 20156.925\n",
      "645: 23834.251\n",
      "646: 41199.558\n",
      "647: 23918.013\n",
      "648: 28764.340\n",
      "649: 29705.163\n",
      "650: 23222.071\n",
      "651: 54912.122\n",
      "652: 33567.016\n",
      "653: 49864.265\n",
      "654: 46377.865\n",
      "655: 34320.828\n",
      "656: 27598.784\n",
      "657: 39103.977\n",
      "658: 69353.417\n",
      "659: 22604.669\n",
      "660: 27011.506\n",
      "661: 33706.086\n",
      "662: 46412.283\n",
      "663: 28232.225\n",
      "664: 27285.737\n",
      "665: 26143.005\n",
      "666: 31068.953\n",
      "667: 21556.548\n",
      "668: 20050.032\n",
      "669: 31940.936\n",
      "670: 28025.052\n",
      "671: 24950.071\n",
      "672: 24983.032\n",
      "673: 37199.168\n",
      "674: 31669.092\n",
      "675: 27656.979\n",
      "676: 27210.594\n",
      "677: 34295.780\n",
      "678: 39041.026\n",
      "679: 29197.278\n",
      "680: 17839.964\n",
      "681: 32038.179\n",
      "682: 36029.349\n",
      "683: 21979.521\n",
      "684: 28363.053\n",
      "685: 32021.496\n",
      "686: 51523.585\n",
      "687: 44495.366\n",
      "688: 45268.004\n",
      "689: 20621.388\n",
      "690: 43660.952\n",
      "691: 26756.466\n",
      "692: 34874.859\n",
      "693: 32074.546\n",
      "694: 23154.873\n",
      "695: 25545.636\n",
      "696: 51944.973\n",
      "697: 28564.373\n",
      "698: 20587.817\n",
      "699: 29619.968\n",
      "700: 23881.885\n",
      "701: 17984.697\n",
      "702: 39052.454\n",
      "703: 39592.641\n",
      "704: 19392.207\n",
      "705: 62407.143\n",
      "706: 37201.883\n",
      "707: 30216.924\n",
      "708: 25546.388\n",
      "709: 23783.268\n",
      "710: 31578.850\n",
      "711: 27378.428\n",
      "712: 46953.211\n",
      "713: 30874.230\n",
      "714: 42009.922\n",
      "715: 54304.024\n",
      "716: 24993.142\n",
      "717: 20841.213\n",
      "718: 33340.363\n",
      "719: 46349.828\n",
      "720: 41229.064\n",
      "721: 23303.934\n",
      "722: 29423.992\n",
      "723: 57180.993\n",
      "724: 25613.188\n",
      "725: 25059.190\n",
      "726: 32604.759\n",
      "727: 26487.028\n",
      "728: 32921.795\n",
      "729: 23829.433\n",
      "730: 28295.107\n",
      "731: 26848.313\n",
      "732: 21439.354\n",
      "733: 45497.579\n",
      "734: 29886.654\n",
      "735: 36760.349\n",
      "736: 47216.755\n",
      "737: 28498.612\n",
      "738: 23929.486\n",
      "739: 25010.849\n",
      "740: 26295.824\n",
      "741: 28914.124\n",
      "742: 37265.446\n",
      "743: 45453.000\n",
      "744: 56703.120\n",
      "745: 62796.737\n",
      "746: 35118.810\n",
      "747: 42810.116\n",
      "748: 44342.562\n",
      "749: 44928.638\n",
      "750: 34471.639\n",
      "751: 31797.750\n",
      "752: 45648.623\n",
      "753: 39896.218\n",
      "754: 30742.526\n",
      "755: 54904.619\n",
      "756: 47889.262\n",
      "757: 18831.606\n",
      "758: 39129.310\n",
      "759: 39584.765\n",
      "760: 39083.180\n",
      "761: 23179.535\n",
      "762: 23270.488\n",
      "763: 41918.591\n",
      "764: 22952.094\n",
      "765: 19438.243\n",
      "766: 22206.388\n",
      "767: 24270.846\n",
      "768: 22996.929\n",
      "769: 22115.735\n",
      "770: 30386.175\n",
      "771: 33830.513\n",
      "772: 36844.229\n",
      "773: 38522.763\n",
      "774: 50859.670\n",
      "775: 24226.228\n",
      "776: 25144.453\n",
      "777: 23782.551\n",
      "778: 64148.961\n",
      "779: 18887.902\n",
      "780: 35094.135\n",
      "781: 41243.380\n",
      "782: 24804.461\n",
      "783: 31255.135\n",
      "784: 36379.188\n",
      "785: 44755.783\n",
      "786: 35980.648\n",
      "787: 42536.812\n",
      "788: 37760.481\n",
      "789: 40657.843\n",
      "790: 38373.552\n",
      "791: 42482.536\n",
      "792: 35342.558\n",
      "793: 38676.302\n",
      "794: 39203.043\n",
      "795: 48169.693\n",
      "796: 32779.827\n",
      "797: 30606.571\n",
      "798: 30387.929\n",
      "799: 35897.040\n",
      "800: 37989.772\n",
      "801: 22038.194\n",
      "802: 19832.173\n",
      "803: 38346.688\n",
      "804: 29934.450\n",
      "805: 41082.381\n",
      "806: 29040.478\n",
      "807: 41782.907\n",
      "808: 24832.293\n",
      "809: 34165.796\n",
      "810: 33330.451\n",
      "811: 24163.519\n",
      "812: 38896.668\n",
      "813: 26577.434\n",
      "814: 32738.962\n",
      "815: 38309.414\n",
      "816: 28960.164\n",
      "817: 30540.592\n",
      "818: 20734.132\n",
      "819: 35437.962\n",
      "820: 36178.354\n",
      "821: 24200.493\n",
      "822: 46167.947\n",
      "823: 42615.122\n",
      "824: 22426.458\n",
      "825: 52575.125\n",
      "826: 25712.897\n",
      "827: 22646.387\n",
      "828: 14775.491\n",
      "829: 16192.931\n",
      "830: 50875.669\n",
      "831: 16680.513\n",
      "832: 23658.622\n",
      "833: 32611.409\n",
      "834: 26339.223\n",
      "835: 20366.534\n",
      "836: 19423.316\n",
      "837: 37579.207\n",
      "838: 28743.711\n",
      "839: 26655.226\n",
      "840: 22984.065\n",
      "841: 21721.920\n",
      "842: 20388.244\n",
      "843: 27007.219\n",
      "844: 47039.788\n",
      "845: 29692.258\n",
      "846: 40232.008\n",
      "847: 25803.064\n",
      "848: 24424.320\n",
      "849: 21687.270\n",
      "850: 35543.776\n",
      "851: 21092.395\n",
      "852: 22912.757\n",
      "853: 33140.425\n",
      "854: 17372.418\n",
      "855: 23818.686\n",
      "856: 28297.603\n",
      "857: 43415.828\n",
      "858: 29785.584\n",
      "859: 22036.492\n",
      "860: 21768.447\n",
      "861: 31324.251\n",
      "862: 17429.482\n",
      "863: 27196.046\n",
      "864: 22984.139\n",
      "865: 32489.039\n",
      "866: 26838.132\n",
      "867: 41021.894\n",
      "868: 59070.133\n",
      "869: 42108.158\n",
      "870: 34334.705\n",
      "871: 26674.494\n",
      "872: 33831.676\n",
      "873: 30865.285\n",
      "874: 31167.603\n",
      "875: 37804.498\n",
      "876: 35834.279\n",
      "877: 38072.190\n",
      "878: 32613.456\n",
      "879: 27258.663\n",
      "880: 32911.615\n",
      "881: 16353.777\n",
      "882: 25689.096\n",
      "883: 42191.482\n",
      "884: 21433.030\n",
      "885: 26711.608\n",
      "886: 27379.434\n",
      "887: 36958.157\n",
      "888: 33159.359\n",
      "889: 49812.541\n",
      "890: 31430.841\n",
      "891: 53167.376\n",
      "892: 32820.156\n",
      "893: 34955.601\n",
      "894: 20951.725\n",
      "895: 39095.441\n",
      "896: 41774.077\n",
      "897: 33235.356\n",
      "898: 41056.674\n",
      "899: 42348.926\n",
      "900: 21905.253\n",
      "901: 28188.269\n",
      "902: 21385.384\n",
      "903: 53015.934\n",
      "904: 25067.713\n",
      "905: 34365.441\n",
      "906: 20664.927\n",
      "907: 21673.142\n",
      "908: 31238.286\n",
      "909: 40513.354\n",
      "910: 36348.478\n",
      "911: 23709.141\n",
      "912: 17025.824\n",
      "913: 21755.110\n",
      "914: 28032.293\n",
      "915: 16781.105\n",
      "916: 28805.885\n",
      "917: 32750.574\n",
      "918: 34001.181\n",
      "919: 37617.653\n",
      "920: 30792.315\n",
      "921: 62470.221\n",
      "922: 17954.693\n",
      "923: 36592.889\n",
      "924: 31164.984\n",
      "925: 20247.297\n",
      "926: 26943.075\n",
      "927: 21723.053\n",
      "928: 16043.914\n",
      "929: 37720.927\n",
      "930: 34960.798\n",
      "931: 26181.877\n",
      "932: 24864.878\n",
      "933: 27135.428\n",
      "934: 18703.053\n",
      "935: 28843.158\n",
      "936: 19024.456\n",
      "937: 23234.085\n",
      "938: 49013.576\n",
      "939: 14015.125\n",
      "940: 15899.831\n",
      "941: 12177.808\n",
      "942: 29563.374\n",
      "943: 19244.799\n",
      "944: 26162.233\n",
      "945: 29849.065\n",
      "946: 23462.276\n",
      "947: 48306.280\n",
      "948: 20107.865\n",
      "949: 19441.946\n",
      "950: 50267.595\n",
      "951: 27861.822\n",
      "952: 35766.232\n",
      "953: 32132.346\n",
      "954: 27359.787\n",
      "955: 18447.263\n",
      "956: 63738.160\n",
      "957: 51399.801\n",
      "958: 47063.430\n",
      "959: 42465.528\n",
      "960: 40237.588\n",
      "961: 29658.517\n",
      "962: 40969.353\n",
      "963: 38444.093\n",
      "964: 54295.003\n",
      "965: 36116.987\n",
      "966: 16283.834\n",
      "967: 41581.277\n",
      "968: 44681.298\n",
      "969: 37642.835\n",
      "970: 26796.821\n",
      "971: 49060.673\n",
      "972: 45189.237\n",
      "973: 42300.704\n",
      "974: 52472.353\n",
      "975: 32498.445\n",
      "976: 40732.186\n",
      "977: 34288.901\n",
      "978: 39528.723\n",
      "979: 27299.327\n",
      "980: 34116.969\n",
      "981: 38525.200\n",
      "982: 32562.293\n",
      "983: 29727.617\n",
      "984: 34216.216\n",
      "985: 37850.548\n",
      "986: 44280.641\n",
      "987: 18392.930\n",
      "988: 45740.534\n",
      "989: 21620.614\n",
      "990: 39430.016\n",
      "991: 34329.993\n",
      "992: 34618.829\n",
      "993: 20244.662\n",
      "994: 23369.089\n",
      "995: 33877.688\n",
      "996: 37566.229\n",
      "997: 28325.754\n",
      "998: 22543.062\n",
      "999: 23358.849\n"
     ]
    }
   ],
   "source": [
    "# grad(x,i), callback(x,i,g)\n",
    "\n",
    "from autograd.misc.optimizers import adam, sgd\n",
    "\n",
    "def grad_loss(x,i):\n",
    "    return - grad(log_prob)(x)\n",
    "\n",
    "traj = []\n",
    "print('iteration: |gradient|')\n",
    "def callback(x,i,g):\n",
    "    if np.sum(np.isnan(x)) > 0:\n",
    "        raise(RuntimeError('NaNs encountered!'))\n",
    "    print('{}: {:.3f}'.format(i, np.linalg.norm(g)))\n",
    "    traj.append((x,i,g))\n",
    "#result = sgd(grad_loss, weights, callback=callback, num_iters=1000, step_size=0.00000001, mass=0.9)\n",
    "result = adam(grad_loss, weights, callback=callback, num_iters=1000)"
   ]
  },
  {
   "cell_type": "code",
   "execution_count": 53,
   "metadata": {
    "ExecuteTime": {
     "end_time": "2019-03-01T12:14:07.924622Z",
     "start_time": "2019-03-01T12:14:07.920500Z"
    }
   },
   "outputs": [
    {
     "data": {
      "text/plain": [
       "17"
      ]
     },
     "execution_count": 53,
     "metadata": {},
     "output_type": "execute_result"
    }
   ],
   "source": [
    "mol = mols[0]\n",
    "mol.n_atoms"
   ]
  },
  {
   "cell_type": "code",
   "execution_count": 54,
   "metadata": {
    "ExecuteTime": {
     "end_time": "2019-03-01T12:14:07.933884Z",
     "start_time": "2019-03-01T12:14:07.927138Z"
    }
   },
   "outputs": [],
   "source": [
    "def construct_all_arrays(theta):\n",
    "    computed_features = compute_atom_features(theta, [mol.mol for mol in mols])\n",
    "    start_ind = 0\n",
    "    arrays = []\n",
    "    \n",
    "    for i in range(len(mols)):\n",
    "        features = computed_features[start_ind:start_ind + mols[i].n_atoms]\n",
    "        radii, scales = features[:,0] + default_radius, features[:,1] + default_scale\n",
    "        arrays.append((radii, scales))\n",
    "        start_ind += mols[i].n_atoms\n",
    "    return arrays\n",
    "def get_preds(theta):\n",
    "    parameterized_list = construct_all_arrays(theta)\n",
    "    preds = []\n",
    "    for i, (radii, scales) in enumerate(parameterized_list):\n",
    "        W_F = np.array([compute_OBC_energy_vectorized(distance_matrix, radii, scales, charges[i])\n",
    "                        for distance_matrix in distance_matrices[i]])\n",
    "        w_F = W_F * kj_mol_to_kT\n",
    "        pred_free_energy = one_sided_exp(w_F)\n",
    "        preds.append(pred_free_energy)\n",
    "    return np.array(preds)"
   ]
  },
  {
   "cell_type": "code",
   "execution_count": 55,
   "metadata": {
    "ExecuteTime": {
     "end_time": "2019-03-01T12:14:18.678638Z",
     "start_time": "2019-03-01T12:14:07.935411Z"
    }
   },
   "outputs": [],
   "source": [
    "initial_preds = get_preds(traj[0][0])"
   ]
  },
  {
   "cell_type": "code",
   "execution_count": 56,
   "metadata": {
    "ExecuteTime": {
     "end_time": "2019-03-01T12:14:18.692780Z",
     "start_time": "2019-03-01T12:14:18.680605Z"
    }
   },
   "outputs": [
    {
     "data": {
      "text/plain": [
       "array([-4.89250855e-26, -1.48841332e-25,  1.45830655e-25, -4.57777830e-26,\n",
       "       -1.96029867e-27, -7.97741272e-26,  2.64894603e-25,  1.28013295e-26,\n",
       "        9.81873136e-26, -4.50161905e-26,  2.30857038e-26,  1.16500742e-25,\n",
       "       -2.72131122e-26, -2.12862587e-25, -1.56976175e-25,  2.47187756e-26,\n",
       "       -1.12927347e-26, -1.28629016e-26,  1.76506069e-26,  1.04080898e-25,\n",
       "       -2.16572731e-25, -3.90412397e-26,  4.49952768e-25, -3.13034136e-25,\n",
       "       -3.36981417e-25, -8.85513802e-26, -1.27618685e-25,  5.99673486e-27,\n",
       "       -1.84029946e-25,  4.40387936e-26,  3.19920647e-26, -8.76469266e-27,\n",
       "        3.28646129e-26,  1.95599426e-26, -1.07626731e-25,  4.35513944e-26,\n",
       "       -1.40039960e-26,  2.59392937e-25, -1.76163118e-26, -1.74370607e-25,\n",
       "       -7.37066375e-26,  1.73637263e-26, -7.56779347e-27,  1.08975212e-25,\n",
       "       -2.02941871e-25,  3.60959449e-26, -2.34220007e-25, -6.16888121e-26,\n",
       "       -1.12452779e-12, -3.78833017e-13,  4.29045931e-03, -2.31761321e-02,\n",
       "        8.34977927e-03,  6.83540554e-02,  1.75882236e-02,  8.07580902e-03,\n",
       "       -1.86839369e-02,  3.85357389e-02, -1.21342887e-02, -4.22776695e-02,\n",
       "        1.10879260e-02,  3.62778712e-02, -4.32495879e-03,  4.94055252e-03,\n",
       "       -2.88085705e-02, -8.94303128e-02, -4.24619182e-02,  2.95454470e-02,\n",
       "        4.03951096e-02,  2.70585926e-02,  1.68416613e-26, -5.90046469e-27,\n",
       "       -1.66268262e-02, -1.01082600e-02, -2.24188703e-02,  9.62894869e-03,\n",
       "       -5.99918415e-03, -8.52342987e-04,  9.21216209e-03, -1.04475032e-02,\n",
       "        7.87564391e-03, -1.88978898e-02,  1.31960766e-02, -4.12374509e-02,\n",
       "       -2.92831383e-02,  5.23049617e-02, -2.42073963e-03, -5.24498141e-03,\n",
       "        1.44680274e-02,  7.17034899e-03, -2.62147306e-02,  4.29796276e-02,\n",
       "        7.95350607e-03, -1.00144363e-01,  1.91739873e-02, -2.34281150e-02,\n",
       "       -2.90905568e-02, -2.33036998e-02, -2.55735992e-03,  5.82788706e-02,\n",
       "        1.52251459e-02, -4.57332530e-02,  6.15594077e-03,  1.58420626e-02,\n",
       "       -3.30435904e-02,  3.93256623e-02,  7.68106278e-03, -1.01503716e-01,\n",
       "        2.85805921e-02, -2.43610120e-02, -4.01582820e-03,  3.84222633e-02,\n",
       "       -2.30392982e-02, -2.36115464e-02,  2.15648086e-02, -1.01911459e-02,\n",
       "        7.73184569e-03, -5.95042863e-03, -3.41562603e-03,  4.79571916e-02,\n",
       "       -1.99694006e-02,  1.78622573e-03,  9.30572570e-03, -5.55546029e-02,\n",
       "        1.99157384e-25, -2.65061800e-26,  2.64536375e-02,  2.72275351e-02,\n",
       "        6.86421220e-03,  1.39576911e-02, -5.41397371e-04,  3.61078051e-02,\n",
       "       -1.25036749e-02,  2.39740506e-02, -7.25048519e-26,  1.46536293e-26,\n",
       "       -2.36934046e-02, -2.44759000e-03, -5.68865991e-26,  1.04606697e-25,\n",
       "        9.76684415e-27, -1.53084783e-25, -1.06280559e-25, -3.65855396e-25,\n",
       "        5.77438276e-26,  1.78654957e-25,  1.86269197e-26, -1.11026513e-25,\n",
       "       -1.10137082e-25,  2.54748240e-26, -1.07978384e-25,  1.31827566e-25,\n",
       "        2.16483831e-26,  1.45165274e-26,  3.21423244e-26,  1.15812081e-25,\n",
       "        1.20482173e-28,  3.99928975e-25,  5.08417114e-27,  3.25699145e-26,\n",
       "        1.36813055e-25,  3.27290938e-25,  1.31335466e-25, -1.60323858e-25,\n",
       "       -4.95027213e-27,  1.26298736e-26,  6.44063261e-26,  3.40803884e-25,\n",
       "        6.82416931e-26, -1.16544026e-25,  2.17296537e-25,  2.59247169e-25,\n",
       "        3.25990862e-25, -1.11866859e-25, -5.78187253e-26, -1.16665629e-25,\n",
       "        1.26898421e-25, -1.40041047e-25,  1.63237966e-26, -1.79550626e-25,\n",
       "       -1.77511134e-26, -1.70041583e-25,  2.09437140e-25, -5.49412609e-27,\n",
       "       -6.06622249e-26, -1.54006754e-29,  2.57373599e-25,  1.23385718e-25,\n",
       "        7.20276444e-27, -2.57315690e-25, -3.13043191e-26,  5.17541687e-26,\n",
       "       -8.77049715e-27, -1.08353963e-25,  3.57342697e-26,  1.04867805e-27,\n",
       "       -1.59205841e-25, -9.51525297e-26,  2.03153273e-25, -6.92056642e-27,\n",
       "        2.21258789e-26,  1.16051661e-26, -8.11403606e-27, -3.57387338e-26,\n",
       "        1.19598791e-25,  5.24072923e-25, -3.54986465e-26, -9.36533784e-26,\n",
       "        3.18289270e-25, -1.25767057e-25,  3.15176281e-26, -2.97551714e-26,\n",
       "        5.78365346e-26,  7.29152998e-26,  4.54772022e-25, -2.38724681e-25,\n",
       "       -4.21497718e-26,  1.85560735e-26, -3.78564768e-27,  5.81102719e-26,\n",
       "       -2.95299079e-25,  3.75262057e-26,  1.09960923e-25, -2.06923962e-25,\n",
       "       -2.74009012e-25,  3.23917836e-26,  1.69110462e-27, -1.19740608e-25,\n",
       "       -3.64541761e-25,  2.44518984e-25,  5.41644181e-27, -2.01143737e-26,\n",
       "       -1.73351086e-25,  2.77997909e-25,  6.74041056e-27,  8.91676626e-26,\n",
       "        2.34534401e-25,  3.41837250e-26, -1.14313673e-25, -8.67624191e-26,\n",
       "       -7.70203067e-26,  2.59273219e-25, -1.46225672e-02,  2.12646927e-04,\n",
       "       -1.61526055e-02, -3.45104710e-02, -9.29028374e-03, -5.10338373e-02,\n",
       "       -2.79307575e-26, -2.15818506e-25,  4.18950262e-03,  9.98003849e-02,\n",
       "        3.47502361e-02,  9.62778631e-02,  7.96796586e-26,  1.06315173e-26,\n",
       "        1.79345135e-25,  4.48499517e-25,  1.85846124e-26, -3.40001757e-26,\n",
       "        1.06829716e-25, -1.24655073e-26,  6.52477426e-03,  8.47531247e-02,\n",
       "       -7.65945071e-03, -4.95428377e-02,  1.75188840e-02,  1.11937631e-02,\n",
       "       -7.87179245e-27, -4.37207792e-26,  1.28955300e-02,  1.37567568e-02,\n",
       "       -3.05052220e-03, -3.32053647e-02, -1.29063721e-02, -1.27934424e-02,\n",
       "       -1.75773773e-02,  9.61011857e-02, -1.72833334e-02,  6.52524488e-02,\n",
       "        8.06666730e-02,  3.48093332e-02,  1.44244694e-02, -2.77071862e-02,\n",
       "       -7.64350138e-03, -5.61773395e-02,  2.03541188e-02,  3.61796898e-02,\n",
       "       -1.26400202e-03,  3.11799509e-02,  1.05731158e-02,  9.93160065e-02,\n",
       "       -1.11441891e-02,  7.58760680e-02,  9.61878227e-02,  3.47943078e-02,\n",
       "       -3.15934265e-03, -4.01349120e-02,  1.56120940e-02, -3.70851530e-02,\n",
       "       -2.31817178e-02,  4.80788960e-02,  2.50238028e-03,  1.64633391e-02,\n",
       "        6.67561570e-03,  1.38554012e-02,  1.73839800e-05,  4.17611490e-02,\n",
       "        7.41106785e-03, -2.55701933e-02,  5.90817819e-03, -4.70499215e-02,\n",
       "        5.93134124e-26, -3.57436203e-26,  4.43962694e-02,  5.04603898e-02,\n",
       "        6.69627338e-03, -1.12566186e-02,  2.07974260e-25,  3.01730132e-26,\n",
       "       -1.22533834e-25,  3.70764487e-25, -7.21800109e-26, -7.00238526e-26,\n",
       "       -5.02281469e-02, -5.02971137e-02, -2.45827357e-02, -1.15502085e-02,\n",
       "        1.94337456e-02, -4.13653635e-02,  8.62322851e-03,  1.38574396e-01,\n",
       "        2.57860339e-25, -3.62182335e-26,  3.84116083e-26,  5.82232942e-26,\n",
       "       -6.29342228e-26,  5.67588840e-26,  1.45734244e-02,  5.67340719e-02,\n",
       "       -2.54122914e-26,  2.94817074e-26, -1.89998204e-02, -4.08856866e-02,\n",
       "        1.33862255e-02,  2.71326825e-01,  6.66967576e-03, -1.16796960e-01,\n",
       "       -1.72613887e-26,  6.74245116e-25, -7.47488059e-03, -1.08464984e-02,\n",
       "        1.02085033e-02, -4.95209464e-02,  1.33688432e-25,  1.33210900e-25,\n",
       "        5.53959458e-26,  9.06600208e-26, -2.28297442e-26, -1.21954801e-25,\n",
       "        1.06298441e-02, -6.00797210e-02,  9.31171241e-03,  2.06265082e-01,\n",
       "       -1.16468519e-02, -8.74074785e-02,  9.16074113e-04,  7.55828305e-02,\n",
       "        2.22896026e-03,  4.63452005e-02,  1.90772738e-02, -1.58970915e-01,\n",
       "        2.49990184e-02,  2.59223105e-01, -2.42262316e-02, -2.60114389e-02,\n",
       "        7.53504668e-03, -1.50211357e-02,  8.83668491e-03, -1.13558342e-02,\n",
       "       -1.26111508e-26,  1.07358831e-25,  2.99933844e-02,  8.50965585e-02,\n",
       "       -1.39003077e-03, -2.55199608e-02, -1.68389809e-02,  7.15247183e-02,\n",
       "        2.61407405e-04, -5.36344482e-02, -5.70879066e-03, -1.47371645e-02,\n",
       "        6.83204021e-03, -1.23883770e-02,  1.23374621e-25,  3.12730918e-25,\n",
       "        2.41066097e-02,  3.25903704e-02, -2.81447264e-02, -2.04619260e-02,\n",
       "        3.52567778e-03, -5.33991854e-02,  8.33945824e-03,  1.67148015e-01,\n",
       "       -1.94879328e-02,  2.27178532e-02, -8.19884106e-03, -6.76215984e-02,\n",
       "        5.71712390e-03,  6.98068556e-03,  2.79062188e-02,  1.02356653e-01,\n",
       "       -3.05301477e-25,  5.29326815e-25,  3.48202751e-03, -4.99615856e-02,\n",
       "        3.50717195e-03, -3.85328565e-02, -9.49670114e-27, -2.32354005e-25,\n",
       "        5.69605093e-03, -1.45067501e-01, -1.02434823e-27,  3.23811915e-26,\n",
       "        4.05928844e-04,  2.70599488e-03, -1.67985404e-02, -1.45187942e-02,\n",
       "        3.86592266e-02,  9.72321541e-03,  7.19235196e-03,  1.08864982e-01,\n",
       "        1.20211778e-02,  5.84887177e-02,  1.05321251e-02,  9.92188102e-02,\n",
       "        3.98194695e-02,  2.22472278e-02, -4.03821413e-03, -1.84144491e-03,\n",
       "       -2.55993688e-02, -5.10448383e-03, -2.41593652e-02, -4.40891972e-03,\n",
       "        1.35772672e-04,  3.10418050e-02,  2.41879927e-02,  2.70832116e-02,\n",
       "        1.02293399e-01,  2.07596575e-01, -5.04489101e-25, -4.29142618e-26,\n",
       "       -5.38468893e-02, -1.69046913e-02,  1.27643008e-02, -3.89169303e-02,\n",
       "       -3.25653398e-02,  3.56570795e-02,  7.22215406e-26, -1.86798925e-26,\n",
       "        6.24643322e-03,  3.39025015e-02,  2.34758936e-02,  9.68273305e-03,\n",
       "       -6.15534468e-03, -1.67320215e-02, -2.52721997e-02,  4.67991588e-02,\n",
       "       -4.17263876e-03, -5.44587461e-03,  2.90137696e-02,  4.34832959e-03,\n",
       "       -9.86071907e-03,  1.20974749e-02,  1.22512679e-02, -1.97013224e-03,\n",
       "       -9.27022292e-27,  7.19192307e-27, -3.44843312e-02, -3.20616476e-02,\n",
       "        1.85088854e-25,  4.65824100e-27, -1.56973570e-02, -2.23352097e-02,\n",
       "        1.35575008e-02,  2.14402791e-02,  9.00716919e-03, -1.73737431e-02,\n",
       "        1.92781451e-02,  7.55894862e-02, -1.19869246e-27, -5.29328233e-26,\n",
       "       -3.41739068e-02, -3.20965681e-02,  1.75000402e-26,  5.85098512e-27,\n",
       "       -1.40359497e-02, -2.37210920e-03,  7.97107832e-03, -7.71844338e-03,\n",
       "       -2.13603003e-02, -2.95025392e-03,  1.00302537e-01,  1.22459777e-01,\n",
       "        2.35302732e-02,  3.95069773e-02,  9.50431637e-04, -3.24543710e-02,\n",
       "       -1.98286453e-02,  4.70283092e-02, -2.77771009e-02, -9.54777160e-02,\n",
       "        2.73928733e-25, -1.48815564e-25,  1.79343141e-02, -1.38174643e-02,\n",
       "       -1.54039255e-02,  2.46267391e-03,  1.62748545e-02,  1.01939253e-02,\n",
       "        7.67007245e-03,  6.10040391e-03, -2.42451541e-26, -8.81486720e-26,\n",
       "       -1.46477649e-02, -5.76032541e-04, -7.51942030e-04, -2.25275779e-02,\n",
       "        2.70044807e-03,  1.45387267e-03, -5.44403677e-26,  1.39577264e-26,\n",
       "        3.29200178e-03,  1.02110542e-02,  2.67216142e-02,  7.71377164e-03,\n",
       "       -3.38139232e-03, -4.25393448e-03, -1.47180189e-02, -6.82230435e-03,\n",
       "        1.27230654e-01, -8.35265694e-03, -1.64352942e-02, -1.04976145e-02,\n",
       "       -2.39233450e-02,  9.16356205e-03, -1.51746157e-02,  2.59810353e-02,\n",
       "       -1.35727795e-02, -6.28870322e-04,  7.43865073e-03, -4.93984311e-04,\n",
       "        3.24092542e-02, -3.72200048e-05, -5.43931739e-02, -1.67810049e-01,\n",
       "        3.57881489e-02,  4.35089779e-03, -3.82030388e-25,  2.34007491e-25,\n",
       "        1.35175558e-02, -2.61070291e-02, -7.98003185e-03,  1.52428496e-02,\n",
       "        4.06804588e-02,  2.02953694e-02, -1.63826745e-02,  4.53331830e-04,\n",
       "       -1.41707062e-02, -1.44147349e-02,  1.23258562e-02,  1.95734529e-02,\n",
       "       -2.18762229e-03, -4.04108851e-03,  6.96032735e-03,  3.51904994e-03,\n",
       "        7.43865787e-03, -5.81834574e-04, -2.89169806e-02, -6.39062926e-02,\n",
       "       -4.74773699e-26, -1.13861108e-25, -2.97368206e-02, -8.94914111e-03,\n",
       "       -9.17134404e-03,  2.75743559e-03, -1.25279105e-02,  6.35606107e-02,\n",
       "       -7.89464092e-03, -9.13316519e-02,  7.43865122e-03, -5.00852704e-04,\n",
       "       -3.07073625e-02, -6.36868824e-02,  8.47795675e-26, -2.54992425e-25,\n",
       "        2.39092169e-02, -1.32378508e-02, -6.67168142e-03,  1.24006029e-02,\n",
       "       -4.81682233e-02,  5.03065284e-02, -1.50895299e-02, -1.99569478e-01,\n",
       "       -9.55355791e-04,  6.03585146e-03,  2.45143562e-02, -2.38728143e-01,\n",
       "       -6.67246317e-03,  3.00716726e-02,  2.66011031e-02, -9.04970833e-03,\n",
       "        1.29447899e-25, -1.78328142e-26,  8.81618986e-03,  2.31455100e-02,\n",
       "        9.08607505e-02, -1.41072538e-01, -1.70697662e-02, -1.03005349e-01,\n",
       "       -4.22814942e-26, -5.90700614e-26,  1.65437650e-25, -3.65575072e-25,\n",
       "       -3.45371140e-04,  3.43800491e-02, -1.66820072e-03,  6.74800319e-04,\n",
       "        1.72029940e-02,  2.62750276e-03, -4.24665397e-26,  9.19903535e-26,\n",
       "        2.00872178e-25,  3.60455309e-25,  4.47909820e-02,  9.88044696e-02,\n",
       "       -5.54414781e-04,  4.24862817e-03,  1.27089883e-26,  3.52497039e-25,\n",
       "        3.02002849e-25,  9.19770813e-27,  3.82727543e-25,  3.98141577e-25,\n",
       "       -8.00895976e-26, -7.42943545e-26, -1.15800266e-25, -1.89392099e-25,\n",
       "        1.75630416e-26, -5.42212041e-26,  1.08380485e-25, -1.18331004e-27,\n",
       "        2.80216757e-26, -2.28725090e-26,  2.40582265e-25, -3.29101856e-26,\n",
       "       -1.34765283e-27, -1.05152290e-25, -3.42229372e-26, -8.83292487e-26,\n",
       "       -1.01610838e-25, -8.73833828e-26,  1.82736556e-25,  7.75343563e-26,\n",
       "       -2.81326318e-25, -1.55307746e-25,  2.01142499e-27,  5.66196049e-26,\n",
       "        2.75649474e-26,  1.34252708e-25, -9.67119328e-26, -9.66804529e-27,\n",
       "       -7.36822404e-25,  8.28302569e-27, -1.81623836e-26,  5.48891334e-26,\n",
       "       -2.54262397e-26, -3.20815411e-26,  1.68244450e-25,  6.07454078e-26,\n",
       "       -3.56697333e-25,  1.51084407e-25,  3.23708905e-25, -1.53118849e-25,\n",
       "        1.22381866e-25,  8.89857056e-27, -1.08599194e-25,  1.09761677e-26,\n",
       "       -2.40744160e-25,  2.31242120e-26,  2.70390698e-25,  2.33701676e-26,\n",
       "       -4.37689134e-26,  2.23261315e-25, -6.06753416e-26,  1.21173719e-25,\n",
       "        4.01438464e-26, -1.17398724e-25, -2.71016074e-25,  1.75792772e-25,\n",
       "        5.39445697e-26,  2.12650358e-26, -1.57149607e-25, -5.75075702e-26,\n",
       "       -5.12148913e-26, -4.07038236e-26, -3.59318196e-26, -6.29015834e-26,\n",
       "       -5.23565766e-27,  3.44144222e-26,  4.51234357e-26, -4.65389077e-26,\n",
       "        4.34829004e-25, -9.44176031e-26, -2.87501925e-25,  3.47380912e-25,\n",
       "        2.71387434e-26,  4.25173566e-26,  5.52577797e-26, -1.24137249e-25,\n",
       "        1.58204720e-25, -5.17807770e-26, -1.66779087e-25, -1.64375073e-26,\n",
       "        3.07370084e-25, -1.09543116e-25, -3.89348655e-25,  1.79214917e-25,\n",
       "        1.73687514e-25,  4.02300472e-26, -3.29045714e-26, -2.97375314e-25,\n",
       "        8.84634379e-26, -3.38714237e-25,  1.48016010e-25,  1.46101424e-25,\n",
       "       -8.27937845e-26,  4.43833791e-26])"
      ]
     },
     "execution_count": 56,
     "metadata": {},
     "output_type": "execute_result"
    }
   ],
   "source": [
    "traj[-1][0]"
   ]
  },
  {
   "cell_type": "code",
   "execution_count": 57,
   "metadata": {
    "ExecuteTime": {
     "end_time": "2019-03-01T18:56:15.500467Z",
     "start_time": "2019-03-01T18:56:06.939385Z"
    }
   },
   "outputs": [],
   "source": [
    "final_preds = get_preds(traj[-1][0])"
   ]
  },
  {
   "cell_type": "code",
   "execution_count": 58,
   "metadata": {
    "ExecuteTime": {
     "end_time": "2019-03-01T18:56:15.509455Z",
     "start_time": "2019-03-01T18:56:15.503147Z"
    }
   },
   "outputs": [],
   "source": [
    "expt = np.array([mol.experimental_value for mol in mols])"
   ]
  },
  {
   "cell_type": "code",
   "execution_count": 59,
   "metadata": {
    "ExecuteTime": {
     "end_time": "2019-03-01T18:56:15.651123Z",
     "start_time": "2019-03-01T18:56:15.512281Z"
    }
   },
   "outputs": [
    {
     "data": {
      "text/plain": [
       "<matplotlib.collections.PathCollection at 0x1a36f38c50>"
      ]
     },
     "execution_count": 59,
     "metadata": {},
     "output_type": "execute_result"
    },
    {
     "data": {
      "image/png": "[encoded data removed]",
      "text/plain": [
       "<Figure size 432x288 with 1 Axes>"
      ]
     },
     "metadata": {
      "needs_background": "light"
     },
     "output_type": "display_data"
    }
   ],
   "source": [
    "plt.scatter(initial_preds, expt)"
   ]
  },
  {
   "cell_type": "code",
   "execution_count": 60,
   "metadata": {
    "ExecuteTime": {
     "end_time": "2019-03-01T18:56:15.811068Z",
     "start_time": "2019-03-01T18:56:15.653687Z"
    }
   },
   "outputs": [
    {
     "data": {
      "text/plain": [
       "<matplotlib.collections.PathCollection at 0x1a372512b0>"
      ]
     },
     "execution_count": 60,
     "metadata": {},
     "output_type": "execute_result"
    },
    {
     "data": {
      "image/png": "[encoded data removed]",
      "text/plain": [
       "<Figure size 432x288 with 1 Axes>"
      ]
     },
     "metadata": {
      "needs_background": "light"
     },
     "output_type": "display_data"
    }
   ],
   "source": [
    "plt.scatter(final_preds, expt, )"
   ]
  },
  {
   "cell_type": "code",
   "execution_count": 61,
   "metadata": {
    "ExecuteTime": {
     "end_time": "2019-03-01T18:56:15.816664Z",
     "start_time": "2019-03-01T18:56:15.813418Z"
    }
   },
   "outputs": [],
   "source": [
    "c = np.zeros(len(mols))\n",
    "c[train_inds] = 1"
   ]
  },
  {
   "cell_type": "code",
   "execution_count": 62,
   "metadata": {
    "ExecuteTime": {
     "end_time": "2019-03-01T18:56:16.014059Z",
     "start_time": "2019-03-01T18:56:15.818507Z"
    }
   },
   "outputs": [
    {
     "data": {
      "text/plain": [
       "<matplotlib.collections.PathCollection at 0x1a36f8d550>"
      ]
     },
     "execution_count": 62,
     "metadata": {},
     "output_type": "execute_result"
    },
    {
     "data": {
      "image/png": "[encoded data removed]",
      "text/plain": [
       "<Figure size 432x288 with 1 Axes>"
      ]
     },
     "metadata": {
      "needs_background": "light"
     },
     "output_type": "display_data"
    }
   ],
   "source": [
    "plt.scatter(final_preds, expt, c=c)"
   ]
  },
  {
   "cell_type": "code",
   "execution_count": 63,
   "metadata": {
    "ExecuteTime": {
     "end_time": "2019-03-01T18:56:16.019515Z",
     "start_time": "2019-03-01T18:56:16.016562Z"
    }
   },
   "outputs": [],
   "source": [
    "def rmse(x,y):\n",
    "    return np.sqrt(np.mean((x-y)**2))"
   ]
  },
  {
   "cell_type": "code",
   "execution_count": 64,
   "metadata": {
    "ExecuteTime": {
     "end_time": "2019-03-01T18:56:16.024792Z",
     "start_time": "2019-03-01T18:56:16.021110Z"
    }
   },
   "outputs": [
    {
     "data": {
      "text/plain": [
       "(6.1916951556733215, 6.484371500544675)"
      ]
     },
     "execution_count": 64,
     "metadata": {},
     "output_type": "execute_result"
    }
   ],
   "source": [
    "rmse(initial_preds, expt), rmse(final_preds, expt)"
   ]
  },
  {
   "cell_type": "code",
   "execution_count": 65,
   "metadata": {
    "ExecuteTime": {
     "end_time": "2019-03-01T18:56:16.032289Z",
     "start_time": "2019-03-01T18:56:16.027366Z"
    }
   },
   "outputs": [
    {
     "data": {
      "text/plain": [
       "(6.282418466150152, 6.281354132393313)"
      ]
     },
     "execution_count": 65,
     "metadata": {},
     "output_type": "execute_result"
    }
   ],
   "source": [
    "rmse(initial_preds[train_inds], expt[train_inds]), rmse(final_preds[train_inds], expt[train_inds])"
   ]
  },
  {
   "cell_type": "code",
   "execution_count": 66,
   "metadata": {
    "ExecuteTime": {
     "end_time": "2019-03-01T18:56:16.177998Z",
     "start_time": "2019-03-01T18:56:16.033881Z"
    }
   },
   "outputs": [
    {
     "data": {
      "text/plain": [
       "(-40, 10)"
      ]
     },
     "execution_count": 66,
     "metadata": {},
     "output_type": "execute_result"
    },
    {
     "data": {
      "image/png": "[encoded data removed]",
      "text/plain": [
       "<Figure size 432x288 with 1 Axes>"
      ]
     },
     "metadata": {
      "needs_background": "light"
     },
     "output_type": "display_data"
    }
   ],
   "source": [
    "plt.scatter(final_preds, expt, )\n",
    "plt.xlim(-40,10)"
   ]
  },
  {
   "cell_type": "code",
   "execution_count": 67,
   "metadata": {
    "ExecuteTime": {
     "end_time": "2019-03-01T18:56:16.550931Z",
     "start_time": "2019-03-01T18:56:16.179792Z"
    }
   },
   "outputs": [
    {
     "data": {
      "image/png": "[encoded data removed]",
      "text/plain": [
       "<Figure size 432x288 with 1 Axes>"
      ]
     },
     "metadata": {
      "needs_background": "light"
     },
     "output_type": "display_data"
    }
   ],
   "source": [
    "plt.hist(initial_preds, bins=50);\n",
    "plt.hist(final_preds, bins=50);"
   ]
  },
  {
   "cell_type": "code",
   "execution_count": null,
   "metadata": {},
   "outputs": [],
   "source": []
  },
  {
   "cell_type": "code",
   "execution_count": null,
   "metadata": {},
   "outputs": [],
   "source": []
  }
 ],
 "metadata": {
  "kernelspec": {
   "display_name": "Python 3",
   "language": "python",
   "name": "python3"
  },
  "language_info": {
   "codemirror_mode": {
    "name": "ipython",
    "version": 3
   },
   "file_extension": ".py",
   "mimetype": "text/x-python",
   "name": "python",
   "nbconvert_exporter": "python",
   "pygments_lexer": "ipython3",
   "version": "3.7.1"
  }
 },
 "nbformat": 4,
 "nbformat_minor": 2
}
