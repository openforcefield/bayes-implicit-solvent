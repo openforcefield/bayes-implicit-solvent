{
 "cells": [
  {
   "cell_type": "markdown",
   "metadata": {},
   "source": [
    "Inspect minimization results"
   ]
  },
  {
   "cell_type": "code",
   "execution_count": 60,
   "metadata": {
    "ExecuteTime": {
     "end_time": "2019-02-20T03:06:10.237349Z",
     "start_time": "2019-02-20T03:06:10.168211Z"
    }
   },
   "outputs": [],
   "source": [
    "from glob import glob"
   ]
  },
  {
   "cell_type": "code",
   "execution_count": 61,
   "metadata": {
    "ExecuteTime": {
     "end_time": "2019-02-20T03:06:10.323302Z",
     "start_time": "2019-02-20T03:06:10.258504Z"
    }
   },
   "outputs": [],
   "source": [
    "fnames = glob('../bayes_implicit_solvent/data/all_types_newton-cg_freesolv_n_config=100_smiles_ind=*_gaussian_ll.npy')"
   ]
  },
  {
   "cell_type": "code",
   "execution_count": 62,
   "metadata": {
    "ExecuteTime": {
     "end_time": "2019-02-20T03:06:10.458511Z",
     "start_time": "2019-02-20T03:06:10.431890Z"
    }
   },
   "outputs": [
    {
     "data": {
      "text/plain": [
       "642"
      ]
     },
     "execution_count": 62,
     "metadata": {},
     "output_type": "execute_result"
    }
   ],
   "source": [
    "len(fnames)"
   ]
  },
  {
   "cell_type": "code",
   "execution_count": 63,
   "metadata": {
    "ExecuteTime": {
     "end_time": "2019-02-20T03:06:10.747994Z",
     "start_time": "2019-02-20T03:06:10.734027Z"
    }
   },
   "outputs": [],
   "source": [
    "import numpy as np"
   ]
  },
  {
   "cell_type": "code",
   "execution_count": 64,
   "metadata": {
    "ExecuteTime": {
     "end_time": "2019-02-20T03:06:14.680028Z",
     "start_time": "2019-02-20T03:06:11.046661Z"
    }
   },
   "outputs": [],
   "source": [
    "thetas = list(map(np.load, fnames))"
   ]
  },
  {
   "cell_type": "code",
   "execution_count": 65,
   "metadata": {
    "ExecuteTime": {
     "end_time": "2019-02-20T03:06:14.724971Z",
     "start_time": "2019-02-20T03:06:14.686852Z"
    }
   },
   "outputs": [
    {
     "data": {
      "text/plain": [
       "array([0.14809923, 0.14140771, 0.12318463, 0.13925251, 0.1223743 ,\n",
       "       0.12238308, 0.12236414, 0.84979658, 0.84895926, 0.84925009,\n",
       "       0.85013432, 0.84938589, 0.84938491, 0.84938721])"
      ]
     },
     "execution_count": 65,
     "metadata": {},
     "output_type": "execute_result"
    }
   ],
   "source": [
    "thetas[0]"
   ]
  },
  {
   "cell_type": "code",
   "execution_count": 66,
   "metadata": {
    "ExecuteTime": {
     "end_time": "2019-02-20T03:06:14.998441Z",
     "start_time": "2019-02-20T03:06:14.732060Z"
    }
   },
   "outputs": [],
   "source": [
    "X = []\n",
    "\n",
    "def unpack(theta):\n",
    "    n = int((len(theta)) / 2)\n",
    "    radii, scales = theta[:n], theta[n:2 * n]\n",
    "    return radii, scales\n",
    "\n",
    "for theta in thetas:\n",
    "    radii, scales = unpack(theta)\n",
    "    for i in range(len(radii)):\n",
    "        X.append([radii[i], scales[i]])\n",
    "X = np.array(X)"
   ]
  },
  {
   "cell_type": "code",
   "execution_count": 67,
   "metadata": {
    "ExecuteTime": {
     "end_time": "2019-02-20T03:06:16.574952Z",
     "start_time": "2019-02-20T03:06:15.004323Z"
    }
   },
   "outputs": [
    {
     "data": {
      "image/png": "[encoded data removed]",
      "text/plain": [
       "<Figure size 432x288 with 1 Axes>"
      ]
     },
     "metadata": {
      "needs_background": "light"
     },
     "output_type": "display_data"
    }
   ],
   "source": [
    "import matplotlib.pyplot as plt\n",
    "%matplotlib inline\n",
    "plt.hexbin(X[:,0], X[:,1], bins='log', cmap='Blues');\n"
   ]
  },
  {
   "cell_type": "code",
   "execution_count": 68,
   "metadata": {
    "ExecuteTime": {
     "end_time": "2019-02-20T03:06:18.442234Z",
     "start_time": "2019-02-20T03:06:16.579333Z"
    }
   },
   "outputs": [
    {
     "data": {
      "image/png": "[encoded data removed]",
      "text/plain": [
       "<Figure size 432x288 with 1 Axes>"
      ]
     },
     "metadata": {
      "needs_background": "light"
     },
     "output_type": "display_data"
    }
   ],
   "source": [
    "plt.hist(X[:,0], bins=100);\n",
    "plt.vlines(0.12,1,10**3)\n",
    "plt.yscale('log')"
   ]
  },
  {
   "cell_type": "code",
   "execution_count": 69,
   "metadata": {
    "ExecuteTime": {
     "end_time": "2019-02-20T03:06:20.976783Z",
     "start_time": "2019-02-20T03:06:18.446053Z"
    }
   },
   "outputs": [
    {
     "data": {
      "image/png": "[encoded data removed]",
      "text/plain": [
       "<Figure size 432x288 with 1 Axes>"
      ]
     },
     "metadata": {
      "needs_background": "light"
     },
     "output_type": "display_data"
    }
   ],
   "source": [
    "plt.hist(X[:,1], bins=100);\n",
    "plt.vlines(0.85,1,10**3)\n",
    "plt.yscale('log')"
   ]
  },
  {
   "cell_type": "code",
   "execution_count": 70,
   "metadata": {
    "ExecuteTime": {
     "end_time": "2019-02-20T03:06:20.986853Z",
     "start_time": "2019-02-20T03:06:20.980531Z"
    }
   },
   "outputs": [],
   "source": [
    "from sklearn.decomposition import PCA"
   ]
  },
  {
   "cell_type": "code",
   "execution_count": 71,
   "metadata": {
    "ExecuteTime": {
     "end_time": "2019-02-20T03:06:20.999258Z",
     "start_time": "2019-02-20T03:06:20.990853Z"
    }
   },
   "outputs": [],
   "source": [
    "pca = PCA()"
   ]
  },
  {
   "cell_type": "code",
   "execution_count": 72,
   "metadata": {
    "ExecuteTime": {
     "end_time": "2019-02-20T03:06:21.029746Z",
     "start_time": "2019-02-20T03:06:21.003364Z"
    }
   },
   "outputs": [
    {
     "data": {
      "text/plain": [
       "PCA(copy=True, iterated_power='auto', n_components=None, random_state=None,\n",
       "  svd_solver='auto', tol=0.0, whiten=False)"
      ]
     },
     "execution_count": 72,
     "metadata": {},
     "output_type": "execute_result"
    }
   ],
   "source": [
    "pca.fit(X)"
   ]
  },
  {
   "cell_type": "code",
   "execution_count": 73,
   "metadata": {
    "ExecuteTime": {
     "end_time": "2019-02-20T03:06:21.041118Z",
     "start_time": "2019-02-20T03:06:21.033584Z"
    }
   },
   "outputs": [],
   "source": [
    "y = pca.transform(X)"
   ]
  },
  {
   "cell_type": "code",
   "execution_count": 74,
   "metadata": {
    "ExecuteTime": {
     "end_time": "2019-02-20T03:06:21.763402Z",
     "start_time": "2019-02-20T03:06:21.045632Z"
    }
   },
   "outputs": [
    {
     "data": {
      "image/png": "[encoded data removed]",
      "text/plain": [
       "<Figure size 432x288 with 1 Axes>"
      ]
     },
     "metadata": {
      "needs_background": "light"
     },
     "output_type": "display_data"
    }
   ],
   "source": [
    "plt.scatter(y[:,0], y[:,1], s=1);"
   ]
  },
  {
   "cell_type": "code",
   "execution_count": 75,
   "metadata": {
    "ExecuteTime": {
     "end_time": "2019-02-20T03:06:22.918930Z",
     "start_time": "2019-02-20T03:06:21.767899Z"
    }
   },
   "outputs": [
    {
     "data": {
      "image/png": "[encoded data removed]",
      "text/plain": [
       "<Figure size 432x288 with 1 Axes>"
      ]
     },
     "metadata": {
      "needs_background": "light"
     },
     "output_type": "display_data"
    }
   ],
   "source": [
    "plt.hexbin(y[:,0], y[:,1], bins='log', cmap='Blues');"
   ]
  },
  {
   "cell_type": "code",
   "execution_count": null,
   "metadata": {},
   "outputs": [],
   "source": []
  },
  {
   "cell_type": "code",
   "execution_count": null,
   "metadata": {},
   "outputs": [],
   "source": []
  }
 ],
 "metadata": {
  "kernelspec": {
   "display_name": "Python 3",
   "language": "python",
   "name": "python3"
  },
  "language_info": {
   "codemirror_mode": {
    "name": "ipython",
    "version": 3
   },
   "file_extension": ".py",
   "mimetype": "text/x-python",
   "name": "python",
   "nbconvert_exporter": "python",
   "pygments_lexer": "ipython3",
   "version": "3.7.1"
  }
 },
 "nbformat": 4,
 "nbformat_minor": 2
}
