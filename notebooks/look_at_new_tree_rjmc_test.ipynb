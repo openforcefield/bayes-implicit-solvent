{
 "cells": [
  {
   "cell_type": "code",
   "execution_count": 1,
   "metadata": {
    "ExecuteTime": {
     "end_time": "2019-03-14T13:45:25.362703Z",
     "start_time": "2019-03-14T13:45:24.826045Z"
    }
   },
   "outputs": [],
   "source": [
    "import matplotlib.pyplot as plt\n",
    "import numpy as np\n",
    "%matplotlib inline"
   ]
  },
  {
   "cell_type": "code",
   "execution_count": 2,
   "metadata": {
    "ExecuteTime": {
     "end_time": "2019-03-14T13:45:25.396347Z",
     "start_time": "2019-03-14T13:45:25.370529Z"
    }
   },
   "outputs": [],
   "source": [
    "#rjmc_test_result = np.load('../bayes_implicit_solvent/marginal_likelihood/rjmc_test.npz')"
   ]
  },
  {
   "cell_type": "code",
   "execution_count": 4,
   "metadata": {
    "ExecuteTime": {
     "end_time": "2019-03-14T13:45:52.764222Z",
     "start_time": "2019-03-14T13:45:52.757894Z"
    }
   },
   "outputs": [
    {
     "data": {
      "text/plain": [
       "50"
      ]
     },
     "execution_count": 4,
     "metadata": {},
     "output_type": "execute_result"
    }
   ],
   "source": [
    "from glob import glob\n",
    "rjmc_test_result_paths = glob('../bayes_implicit_solvent/marginal_likelihood/rjmc_test_fine_grid/*.npz')\n",
    "len(rjmc_test_result_paths)"
   ]
  },
  {
   "cell_type": "code",
   "execution_count": 5,
   "metadata": {
    "ExecuteTime": {
     "end_time": "2019-03-14T13:46:12.274203Z",
     "start_time": "2019-03-14T13:46:12.269882Z"
    }
   },
   "outputs": [],
   "source": [
    "rjmc_test_result = np.load(rjmc_test_result_paths[0])"
   ]
  },
  {
   "cell_type": "code",
   "execution_count": 6,
   "metadata": {
    "ExecuteTime": {
     "end_time": "2019-03-14T13:46:13.010385Z",
     "start_time": "2019-03-14T13:46:13.005724Z"
    }
   },
   "outputs": [
    {
     "data": {
      "text/plain": [
       "['proposal_sigma',\n",
       " 'n_types_traj',\n",
       " 'log_probs',\n",
       " 'log_accept_prob_traj',\n",
       " 'proposal_dims',\n",
       " 'tree_strings',\n",
       " 'radii',\n",
       " 'scales']"
      ]
     },
     "execution_count": 6,
     "metadata": {},
     "output_type": "execute_result"
    }
   ],
   "source": [
    "list(rjmc_test_result.keys())"
   ]
  },
  {
   "cell_type": "code",
   "execution_count": 9,
   "metadata": {
    "ExecuteTime": {
     "end_time": "2019-03-14T13:48:23.875787Z",
     "start_time": "2019-03-14T13:48:23.871912Z"
    }
   },
   "outputs": [],
   "source": [
    "def get_proposal_sigma(path):\n",
    "    return np.load(path)['proposal_sigma']\n",
    "\n",
    "def get_counting_estimate_of_bayes_factor(path):\n",
    "    n_types_traj = np.load(path)['n_types_traj']\n",
    "    counting_estimate_of_bayes_factor = np.log(np.sum(n_types_traj==2) / np.sum(n_types_traj==1))\n",
    "    return counting_estimate_of_bayes_factor"
   ]
  },
  {
   "cell_type": "code",
   "execution_count": 58,
   "metadata": {
    "ExecuteTime": {
     "end_time": "2019-03-14T18:28:29.120052Z",
     "start_time": "2019-03-14T18:28:29.116723Z"
    }
   },
   "outputs": [],
   "source": [
    "def get_num_accepted_cross_model_proposals(path):\n",
    "    n_types_traj = np.load(path)['n_types_traj']\n",
    "    return np.sum(np.diff(n_types_traj) > 0)"
   ]
  },
  {
   "cell_type": "code",
   "execution_count": 10,
   "metadata": {
    "ExecuteTime": {
     "end_time": "2019-03-14T13:48:46.406691Z",
     "start_time": "2019-03-14T13:48:46.334293Z"
    }
   },
   "outputs": [
    {
     "name": "stderr",
     "output_type": "stream",
     "text": [
      "/Users/joshuafass/anaconda3/lib/python3.7/site-packages/ipykernel_launcher.py:6: RuntimeWarning: divide by zero encountered in log\n",
      "  \n"
     ]
    }
   ],
   "source": [
    "proposal_sigmas = np.array([get_proposal_sigma(path) for path in rjmc_test_result_paths])\n",
    "bayes_factors = np.array([get_counting_estimate_of_bayes_factor(path) for path in rjmc_test_result_paths])"
   ]
  },
  {
   "cell_type": "code",
   "execution_count": 16,
   "metadata": {
    "ExecuteTime": {
     "end_time": "2019-03-14T13:50:28.035707Z",
     "start_time": "2019-03-14T13:50:27.874069Z"
    }
   },
   "outputs": [
    {
     "data": {
      "text/plain": [
       "Text(0, 0.5, 'RJMC-estimated Bayes factor - AIS-guessed Bayes factor')"
      ]
     },
     "execution_count": 16,
     "metadata": {},
     "output_type": "execute_result"
    },
    {
     "data": {
      "image/png": "[encoded data removed]",
      "text/plain": [
       "<Figure size 432x288 with 1 Axes>"
      ]
     },
     "metadata": {
      "needs_background": "light"
     },
     "output_type": "display_data"
    }
   ],
   "source": [
    "plt.scatter(proposal_sigmas, bayes_factors)\n",
    "plt.hlines(0, min(proposal_sigmas), max(proposal_sigmas))\n",
    "plt.xlabel('proposal $\\sigma$')\n",
    "plt.ylabel('RJMC-estimated Bayes factor - AIS-guessed Bayes factor')"
   ]
  },
  {
   "cell_type": "code",
   "execution_count": null,
   "metadata": {},
   "outputs": [],
   "source": []
  },
  {
   "cell_type": "code",
   "execution_count": null,
   "metadata": {},
   "outputs": [],
   "source": []
  },
  {
   "cell_type": "code",
   "execution_count": 19,
   "metadata": {
    "ExecuteTime": {
     "end_time": "2019-03-14T13:51:15.221744Z",
     "start_time": "2019-03-14T13:51:15.215747Z"
    }
   },
   "outputs": [
    {
     "data": {
      "text/plain": [
       "10000"
      ]
     },
     "execution_count": 19,
     "metadata": {},
     "output_type": "execute_result"
    }
   ],
   "source": [
    "proposal_dims = rjmc_test_result['proposal_dims']\n",
    "len(proposal_dims)"
   ]
  },
  {
   "cell_type": "code",
   "execution_count": 21,
   "metadata": {
    "ExecuteTime": {
     "end_time": "2019-03-14T13:51:52.613878Z",
     "start_time": "2019-03-14T13:51:52.608532Z"
    }
   },
   "outputs": [
    {
     "data": {
      "text/plain": [
       "10000"
      ]
     },
     "execution_count": 21,
     "metadata": {},
     "output_type": "execute_result"
    }
   ],
   "source": [
    "log_accept_probs = rjmc_test_result['log_accept_prob_traj']\n",
    "len(log_accept_probs)"
   ]
  },
  {
   "cell_type": "code",
   "execution_count": 24,
   "metadata": {
    "ExecuteTime": {
     "end_time": "2019-03-14T13:52:54.427143Z",
     "start_time": "2019-03-14T13:52:54.370027Z"
    }
   },
   "outputs": [
    {
     "data": {
      "text/plain": [
       "10001"
      ]
     },
     "execution_count": 24,
     "metadata": {},
     "output_type": "execute_result"
    }
   ],
   "source": [
    "radii = rjmc_test_result['radii']\n",
    "len(radii)"
   ]
  },
  {
   "cell_type": "code",
   "execution_count": 25,
   "metadata": {
    "ExecuteTime": {
     "end_time": "2019-03-14T13:53:15.208128Z",
     "start_time": "2019-03-14T13:53:15.202031Z"
    }
   },
   "outputs": [
    {
     "data": {
      "text/plain": [
       "array([1, 1, 1, ..., 2, 2, 2])"
      ]
     },
     "execution_count": 25,
     "metadata": {},
     "output_type": "execute_result"
    }
   ],
   "source": [
    "current_dims = np.array(list(map(len, radii[:-1])))\n",
    "current_dims"
   ]
  },
  {
   "cell_type": "code",
   "execution_count": 27,
   "metadata": {
    "ExecuteTime": {
     "end_time": "2019-03-14T13:53:54.077510Z",
     "start_time": "2019-03-14T13:53:54.072488Z"
    }
   },
   "outputs": [
    {
     "data": {
      "text/plain": [
       "2283"
      ]
     },
     "execution_count": 27,
     "metadata": {},
     "output_type": "execute_result"
    }
   ],
   "source": [
    "# how many cross-model proposals did we make from model 1 to model 2?\n",
    "np.sum((current_dims == 1) * (proposal_dims == 2))"
   ]
  },
  {
   "cell_type": "code",
   "execution_count": 29,
   "metadata": {
    "ExecuteTime": {
     "end_time": "2019-03-14T13:54:09.837339Z",
     "start_time": "2019-03-14T13:54:09.832456Z"
    }
   },
   "outputs": [
    {
     "data": {
      "text/plain": [
       "213"
      ]
     },
     "execution_count": 29,
     "metadata": {},
     "output_type": "execute_result"
    }
   ],
   "source": [
    "# and the reverse?\n",
    "np.sum((current_dims == 2) * (proposal_dims == 1))"
   ]
  },
  {
   "cell_type": "code",
   "execution_count": 30,
   "metadata": {
    "ExecuteTime": {
     "end_time": "2019-03-14T13:55:02.581602Z",
     "start_time": "2019-03-14T13:55:02.577957Z"
    }
   },
   "outputs": [],
   "source": [
    "w_F = - log_accept_probs[(current_dims == 1) * (proposal_dims == 2)]\n",
    "w_R = - log_accept_probs[(current_dims == 2) * (proposal_dims == 1)]"
   ]
  },
  {
   "cell_type": "code",
   "execution_count": 36,
   "metadata": {
    "ExecuteTime": {
     "end_time": "2019-03-14T13:56:09.966264Z",
     "start_time": "2019-03-14T13:56:09.806203Z"
    }
   },
   "outputs": [
    {
     "data": {
      "image/png": "[encoded data removed]",
      "text/plain": [
       "<Figure size 432x288 with 1 Axes>"
      ]
     },
     "metadata": {
      "needs_background": "light"
     },
     "output_type": "display_data"
    }
   ],
   "source": [
    "plt.title('log acceptance probabilities for 1->2 jumps')\n",
    "plt.hist(-w_F);"
   ]
  },
  {
   "cell_type": "code",
   "execution_count": 38,
   "metadata": {
    "ExecuteTime": {
     "end_time": "2019-03-14T13:56:23.294375Z",
     "start_time": "2019-03-14T13:56:23.133080Z"
    }
   },
   "outputs": [
    {
     "data": {
      "image/png": "[encoded data removed]",
      "text/plain": [
       "<Figure size 432x288 with 1 Axes>"
      ]
     },
     "metadata": {
      "needs_background": "light"
     },
     "output_type": "display_data"
    }
   ],
   "source": [
    "plt.title('log acceptance probabilities for 2->1 jumps')\n",
    "plt.hist(-w_R);"
   ]
  },
  {
   "cell_type": "code",
   "execution_count": 43,
   "metadata": {
    "ExecuteTime": {
     "end_time": "2019-03-14T13:58:36.893150Z",
     "start_time": "2019-03-14T13:58:36.751090Z"
    }
   },
   "outputs": [
    {
     "ename": "TypeError",
     "evalue": "bad operand type for unary -: 'list'",
     "output_type": "error",
     "traceback": [
      "\u001b[0;31m---------------------------------------------------------------------------\u001b[0m",
      "\u001b[0;31mTypeError\u001b[0m                                 Traceback (most recent call last)",
      "\u001b[0;32m<ipython-input-43-e821076e227c>\u001b[0m in \u001b[0;36m<module>\u001b[0;34m\u001b[0m\n\u001b[1;32m      1\u001b[0m \u001b[0;32mfrom\u001b[0m \u001b[0mpymbar\u001b[0m \u001b[0;32mimport\u001b[0m \u001b[0mBAR\u001b[0m\u001b[0;34m\u001b[0m\u001b[0;34m\u001b[0m\u001b[0m\n\u001b[0;32m----> 2\u001b[0;31m \u001b[0mBAR\u001b[0m\u001b[0;34m(\u001b[0m\u001b[0mw_F\u001b[0m\u001b[0;34m,\u001b[0m \u001b[0;34m[\u001b[0m\u001b[0;34m]\u001b[0m\u001b[0;34m)\u001b[0m\u001b[0;34m\u001b[0m\u001b[0;34m\u001b[0m\u001b[0m\n\u001b[0m",
      "\u001b[0;32m~/anaconda3/lib/python3.7/site-packages/pymbar/bar.py\u001b[0m in \u001b[0;36mBAR\u001b[0;34m(w_F, w_R, DeltaF, compute_uncertainty, maximum_iterations, relative_tolerance, verbose, method, iterated_solution)\u001b[0m\n\u001b[1;32m    223\u001b[0m     \u001b[0;32mif\u001b[0m \u001b[0mmethod\u001b[0m \u001b[0;34m==\u001b[0m \u001b[0;34m'bisection'\u001b[0m \u001b[0;32mor\u001b[0m \u001b[0mmethod\u001b[0m \u001b[0;34m==\u001b[0m \u001b[0;34m'false-position'\u001b[0m\u001b[0;34m:\u001b[0m\u001b[0;34m\u001b[0m\u001b[0;34m\u001b[0m\u001b[0m\n\u001b[1;32m    224\u001b[0m         \u001b[0mUpperB\u001b[0m \u001b[0;34m=\u001b[0m \u001b[0mEXP\u001b[0m\u001b[0;34m(\u001b[0m\u001b[0mw_F\u001b[0m\u001b[0;34m)\u001b[0m\u001b[0;34m[\u001b[0m\u001b[0;36m0\u001b[0m\u001b[0;34m]\u001b[0m\u001b[0;34m\u001b[0m\u001b[0;34m\u001b[0m\u001b[0m\n\u001b[0;32m--> 225\u001b[0;31m         \u001b[0mLowerB\u001b[0m \u001b[0;34m=\u001b[0m \u001b[0;34m-\u001b[0m\u001b[0mEXP\u001b[0m\u001b[0;34m(\u001b[0m\u001b[0mw_R\u001b[0m\u001b[0;34m)\u001b[0m\u001b[0;34m[\u001b[0m\u001b[0;36m0\u001b[0m\u001b[0;34m]\u001b[0m\u001b[0;34m\u001b[0m\u001b[0;34m\u001b[0m\u001b[0m\n\u001b[0m\u001b[1;32m    226\u001b[0m \u001b[0;34m\u001b[0m\u001b[0m\n\u001b[1;32m    227\u001b[0m         \u001b[0mFUpperB\u001b[0m \u001b[0;34m=\u001b[0m \u001b[0mBARzero\u001b[0m\u001b[0;34m(\u001b[0m\u001b[0mw_F\u001b[0m\u001b[0;34m,\u001b[0m \u001b[0mw_R\u001b[0m\u001b[0;34m,\u001b[0m \u001b[0mUpperB\u001b[0m\u001b[0;34m)\u001b[0m\u001b[0;34m\u001b[0m\u001b[0;34m\u001b[0m\u001b[0m\n",
      "\u001b[0;32m~/anaconda3/lib/python3.7/site-packages/pymbar/exp.py\u001b[0m in \u001b[0;36mEXP\u001b[0;34m(w_F, compute_uncertainty, is_timeseries)\u001b[0m\n\u001b[1;32m     96\u001b[0m \u001b[0;34m\u001b[0m\u001b[0m\n\u001b[1;32m     97\u001b[0m     \u001b[0;31m# Estimate free energy difference by exponential averaging using DeltaF = - log < exp(-w_F) >\u001b[0m\u001b[0;34m\u001b[0m\u001b[0;34m\u001b[0m\u001b[0;34m\u001b[0m\u001b[0m\n\u001b[0;32m---> 98\u001b[0;31m     \u001b[0mDeltaF\u001b[0m \u001b[0;34m=\u001b[0m \u001b[0;34m-\u001b[0m \u001b[0;34m(\u001b[0m\u001b[0mlogsumexp\u001b[0m\u001b[0;34m(\u001b[0m\u001b[0;34m-\u001b[0m \u001b[0mw_F\u001b[0m\u001b[0;34m)\u001b[0m \u001b[0;34m-\u001b[0m \u001b[0mnp\u001b[0m\u001b[0;34m.\u001b[0m\u001b[0mlog\u001b[0m\u001b[0;34m(\u001b[0m\u001b[0mT\u001b[0m\u001b[0;34m)\u001b[0m\u001b[0;34m)\u001b[0m\u001b[0;34m\u001b[0m\u001b[0;34m\u001b[0m\u001b[0m\n\u001b[0m\u001b[1;32m     99\u001b[0m \u001b[0;34m\u001b[0m\u001b[0m\n\u001b[1;32m    100\u001b[0m     \u001b[0;32mif\u001b[0m \u001b[0mcompute_uncertainty\u001b[0m\u001b[0;34m:\u001b[0m\u001b[0;34m\u001b[0m\u001b[0;34m\u001b[0m\u001b[0m\n",
      "\u001b[0;31mTypeError\u001b[0m: bad operand type for unary -: 'list'"
     ]
    }
   ],
   "source": [
    "from pymbar import BAR\n",
    "BAR(w_F, w_R)"
   ]
  },
  {
   "cell_type": "code",
   "execution_count": 46,
   "metadata": {
    "ExecuteTime": {
     "end_time": "2019-03-14T14:02:52.977014Z",
     "start_time": "2019-03-14T14:02:52.970694Z"
    }
   },
   "outputs": [],
   "source": [
    "def get_estimated_free_energy_difference(path):\n",
    "    rjmc_test_result = np.load(path)\n",
    "    proposal_dims = rjmc_test_result['proposal_dims']\n",
    "    log_accept_probs = rjmc_test_result['log_accept_prob_traj']\n",
    "    radii = rjmc_test_result['radii']\n",
    "    current_dims = np.array(list(map(len, radii[:-1])))\n",
    "    w_F = - log_accept_probs[(current_dims == 1) * (proposal_dims == 2)]\n",
    "    w_R = - log_accept_probs[(current_dims == 2) * (proposal_dims == 1)]\n",
    "    \n",
    "    if min(len(w_F), len(w_R)) < 10:\n",
    "        if len(w_F) < 10:\n",
    "            DeltaF, dDeltaF = EXP(w_R)\n",
    "            return (-DeltaF, dDeltaF)\n",
    "        else:\n",
    "            return EXP(w_F)\n",
    "    else:\n",
    "        return BAR(w_F, w_R)"
   ]
  },
  {
   "cell_type": "code",
   "execution_count": 52,
   "metadata": {
    "ExecuteTime": {
     "end_time": "2019-03-14T14:31:23.366996Z",
     "start_time": "2019-03-14T14:31:23.362285Z"
    }
   },
   "outputs": [],
   "source": [
    "def get_forward_average_accept_probs(path):\n",
    "    rjmc_test_result = np.load(path)\n",
    "    proposal_dims = rjmc_test_result['proposal_dims']\n",
    "    log_accept_probs = rjmc_test_result['log_accept_prob_traj']\n",
    "    radii = rjmc_test_result['radii']\n",
    "    current_dims = np.array(list(map(len, radii[:-1])))\n",
    "    return np.mean(np.exp(log_accept_probs[(current_dims == 1) * (proposal_dims == 2)]))"
   ]
  },
  {
   "cell_type": "code",
   "execution_count": 80,
   "metadata": {
    "ExecuteTime": {
     "end_time": "2019-03-14T18:48:26.607280Z",
     "start_time": "2019-03-14T18:48:26.601955Z"
    }
   },
   "outputs": [
    {
     "data": {
      "text/plain": [
       "(10001,)"
      ]
     },
     "execution_count": 80,
     "metadata": {},
     "output_type": "execute_result"
    }
   ],
   "source": [
    "rjmc_test_result['log_probs'].shape"
   ]
  },
  {
   "cell_type": "code",
   "execution_count": 57,
   "metadata": {
    "ExecuteTime": {
     "end_time": "2019-03-14T14:32:20.545730Z",
     "start_time": "2019-03-14T14:32:17.911113Z"
    }
   },
   "outputs": [
    {
     "data": {
      "text/plain": [
       "Text(0, 0.5, 'model 1->2 acceptance prob')"
      ]
     },
     "execution_count": 57,
     "metadata": {},
     "output_type": "execute_result"
    },
    {
     "data": {
      "image/png": "[encoded data removed]",
      "text/plain": [
       "<Figure size 432x288 with 1 Axes>"
      ]
     },
     "metadata": {
      "needs_background": "light"
     },
     "output_type": "display_data"
    }
   ],
   "source": [
    "plt.scatter(proposal_sigmas, [get_forward_average_accept_probs(path) for path in rjmc_test_result_paths])\n",
    "#plt.hlines(0, min(proposal_sigmas), max(proposal_sigmas))\n",
    "plt.xlabel('proposal $\\sigma$')\n",
    "plt.ylabel('model 1->2 acceptance prob')\n",
    "#plt.yscale('log')"
   ]
  },
  {
   "cell_type": "code",
   "execution_count": 60,
   "metadata": {
    "ExecuteTime": {
     "end_time": "2019-03-14T18:29:47.538262Z",
     "start_time": "2019-03-14T18:29:47.348060Z"
    }
   },
   "outputs": [
    {
     "data": {
      "text/plain": [
       "Text(0, 0.5, '# accepted cross-model proposals')"
      ]
     },
     "execution_count": 60,
     "metadata": {},
     "output_type": "execute_result"
    },
    {
     "data": {
      "image/png": "[encoded data removed]",
      "text/plain": [
       "<Figure size 432x288 with 1 Axes>"
      ]
     },
     "metadata": {
      "needs_background": "light"
     },
     "output_type": "display_data"
    }
   ],
   "source": [
    "num_accepted_cross_model_proposals = np.array([get_num_accepted_cross_model_proposals(path) for path in rjmc_test_result_paths])\n",
    "plt.scatter(proposal_sigmas, num_accepted_cross_model_proposals)\n",
    "#plt.hlines(0, min(proposal_sigmas), max(proposal_sigmas))\n",
    "plt.xlabel('proposal $\\sigma$')\n",
    "plt.ylabel('# accepted cross-model proposals')\n",
    "#plt.yscale('log')"
   ]
  },
  {
   "cell_type": "code",
   "execution_count": 71,
   "metadata": {
    "ExecuteTime": {
     "end_time": "2019-03-14T18:32:35.034777Z",
     "start_time": "2019-03-14T18:32:34.801781Z"
    }
   },
   "outputs": [
    {
     "data": {
      "text/plain": [
       "Text(0.5, 1.0, 'colored by number of accepted cross-model jumps')"
      ]
     },
     "execution_count": 71,
     "metadata": {},
     "output_type": "execute_result"
    },
    {
     "data": {
      "image/png": "[encoded data removed]",
      "text/plain": [
       "<Figure size 432x288 with 2 Axes>"
      ]
     },
     "metadata": {
      "needs_background": "light"
     },
     "output_type": "display_data"
    }
   ],
   "source": [
    "threshold = 10\n",
    "plt.scatter(proposal_sigmas,\n",
    "            bayes_factors, c=num_accepted_cross_model_proposals, cmap='viridis_r')\n",
    "plt.colorbar()\n",
    "plt.hlines(0, min(proposal_sigmas), max(proposal_sigmas))\n",
    "plt.xlabel('proposal $\\sigma$')\n",
    "plt.ylabel('RJMC-estimated Bayes factor - AIS-guessed Bayes factor')\n",
    "plt.title('colored by number of accepted cross-model jumps')"
   ]
  },
  {
   "cell_type": "code",
   "execution_count": 77,
   "metadata": {
    "ExecuteTime": {
     "end_time": "2019-03-14T18:33:38.030337Z",
     "start_time": "2019-03-14T18:33:37.792517Z"
    }
   },
   "outputs": [
    {
     "data": {
      "text/plain": [
       "Text(0.5, 1.0, 'colored by whether # accepted\\ncross-model jumps > 10')"
      ]
     },
     "execution_count": 77,
     "metadata": {},
     "output_type": "execute_result"
    },
    {
     "data": {
      "image/png": "[encoded data removed]",
      "text/plain": [
       "<Figure size 432x288 with 2 Axes>"
      ]
     },
     "metadata": {
      "needs_background": "light"
     },
     "output_type": "display_data"
    }
   ],
   "source": [
    "threshold = 10\n",
    "plt.scatter(proposal_sigmas,\n",
    "            bayes_factors, c=num_accepted_cross_model_proposals <= threshold, cmap='coolwarm')\n",
    "plt.colorbar()\n",
    "plt.hlines(0, min(proposal_sigmas), max(proposal_sigmas))\n",
    "plt.xlabel('proposal $\\sigma$')\n",
    "plt.ylabel('RJMC-estimated Bayes factor - AIS-guessed Bayes factor')\n",
    "plt.title('colored by whether # accepted\\ncross-model jumps > {}'.format(threshold))"
   ]
  },
  {
   "cell_type": "code",
   "execution_count": 78,
   "metadata": {
    "ExecuteTime": {
     "end_time": "2019-03-14T18:34:24.303417Z",
     "start_time": "2019-03-14T18:34:24.130243Z"
    }
   },
   "outputs": [
    {
     "data": {
      "text/plain": [
       "Text(0.5, 1.0, 'only including runs with > 10 accepted cross model jumps')"
      ]
     },
     "execution_count": 78,
     "metadata": {},
     "output_type": "execute_result"
    },
    {
     "data": {
      "image/png": "[encoded data removed]",
      "text/plain": [
       "<Figure size 432x288 with 1 Axes>"
      ]
     },
     "metadata": {
      "needs_background": "light"
     },
     "output_type": "display_data"
    }
   ],
   "source": [
    "plt.scatter(proposal_sigmas[num_accepted_cross_model_proposals > threshold],\n",
    "            bayes_factors[num_accepted_cross_model_proposals > threshold])\n",
    "plt.hlines(0, min(proposal_sigmas), max(proposal_sigmas))\n",
    "plt.xlabel('proposal $\\sigma$')\n",
    "plt.ylabel('RJMC-estimated Bayes factor - AIS-guessed Bayes factor')\n",
    "plt.title('only including runs with > 10 accepted cross model jumps')"
   ]
  },
  {
   "cell_type": "code",
   "execution_count": null,
   "metadata": {},
   "outputs": [],
   "source": []
  },
  {
   "cell_type": "code",
   "execution_count": 47,
   "metadata": {
    "ExecuteTime": {
     "end_time": "2019-03-14T14:02:56.377944Z",
     "start_time": "2019-03-14T14:02:53.746472Z"
    }
   },
   "outputs": [
    {
     "name": "stdout",
     "output_type": "stream",
     "text": [
      "Warning: BAR is likely to be inaccurate because of poor overlap. Improve the sampling, or decrease the spacing betweeen states.  For now, guessing that the free energy difference is 0 with no uncertainty.\n",
      "Warning: BAR is likely to be inaccurate because of poor overlap. Improve the sampling, or decrease the spacing betweeen states.  For now, guessing that the free energy difference is 0 with no uncertainty.\n",
      "Warning: BAR is likely to be inaccurate because of poor overlap. Improve the sampling, or decrease the spacing betweeen states.  For now, guessing that the free energy difference is 0 with no uncertainty.\n",
      "Warning: BAR is likely to be inaccurate because of poor overlap. Improve the sampling, or decrease the spacing betweeen states.  For now, guessing that the free energy difference is 0 with no uncertainty.\n",
      "Warning: BAR is likely to be inaccurate because of poor overlap. Improve the sampling, or decrease the spacing betweeen states.  For now, guessing that the free energy difference is 0 with no uncertainty.\n",
      "Warning: BAR is likely to be inaccurate because of poor overlap. Improve the sampling, or decrease the spacing betweeen states.  For now, guessing that the free energy difference is 0 with no uncertainty.\n",
      "Warning: BAR is likely to be inaccurate because of poor overlap. Improve the sampling, or decrease the spacing betweeen states.  For now, guessing that the free energy difference is 0 with no uncertainty.\n",
      "Warning: BAR is likely to be inaccurate because of poor overlap. Improve the sampling, or decrease the spacing betweeen states.  For now, guessing that the free energy difference is 0 with no uncertainty.\n",
      "Warning: BAR is likely to be inaccurate because of poor overlap. Improve the sampling, or decrease the spacing betweeen states.  For now, guessing that the free energy difference is 0 with no uncertainty.\n",
      "Warning: BAR is likely to be inaccurate because of poor overlap. Improve the sampling, or decrease the spacing betweeen states.  For now, guessing that the free energy difference is 0 with no uncertainty.\n",
      "Warning: BAR is likely to be inaccurate because of poor overlap. Improve the sampling, or decrease the spacing betweeen states.  For now, guessing that the free energy difference is 0 with no uncertainty.\n",
      "Warning: BAR is likely to be inaccurate because of poor overlap. Improve the sampling, or decrease the spacing betweeen states.  For now, guessing that the free energy difference is 0 with no uncertainty.\n",
      "Warning: BAR is likely to be inaccurate because of poor overlap. Improve the sampling, or decrease the spacing betweeen states.  For now, guessing that the free energy difference is 0 with no uncertainty.\n",
      "Warning: BAR is likely to be inaccurate because of poor overlap. Improve the sampling, or decrease the spacing betweeen states.  For now, guessing that the free energy difference is 0 with no uncertainty.\n",
      "Warning: BAR is likely to be inaccurate because of poor overlap. Improve the sampling, or decrease the spacing betweeen states.  For now, guessing that the free energy difference is 0 with no uncertainty.\n",
      "Warning: BAR is likely to be inaccurate because of poor overlap. Improve the sampling, or decrease the spacing betweeen states.  For now, guessing that the free energy difference is 0 with no uncertainty.\n",
      "Warning: BAR is likely to be inaccurate because of poor overlap. Improve the sampling, or decrease the spacing betweeen states.  For now, guessing that the free energy difference is 0 with no uncertainty.\n",
      "Warning: BAR is likely to be inaccurate because of poor overlap. Improve the sampling, or decrease the spacing betweeen states.  For now, guessing that the free energy difference is 0 with no uncertainty.\n",
      "Warning: BAR is likely to be inaccurate because of poor overlap. Improve the sampling, or decrease the spacing betweeen states.  For now, guessing that the free energy difference is 0 with no uncertainty.\n",
      "Warning: BAR is likely to be inaccurate because of poor overlap. Improve the sampling, or decrease the spacing betweeen states.  For now, guessing that the free energy difference is 0 with no uncertainty.\n",
      "Warning: BAR is likely to be inaccurate because of poor overlap. Improve the sampling, or decrease the spacing betweeen states.  For now, guessing that the free energy difference is 0 with no uncertainty.\n",
      "Warning: BAR is likely to be inaccurate because of poor overlap. Improve the sampling, or decrease the spacing betweeen states.  For now, guessing that the free energy difference is 0 with no uncertainty.\n"
     ]
    }
   ],
   "source": [
    "estimated_free_energy_differences = list(map(get_estimated_free_energy_difference, rjmc_test_result_paths))"
   ]
  },
  {
   "cell_type": "code",
   "execution_count": 49,
   "metadata": {
    "ExecuteTime": {
     "end_time": "2019-03-14T14:04:21.921835Z",
     "start_time": "2019-03-14T14:04:21.750232Z"
    }
   },
   "outputs": [
    {
     "data": {
      "text/plain": [
       "Text(0, 0.5, 'RJMC-estimated Bayes factor - AIS-guessed Bayes factor')"
      ]
     },
     "execution_count": 49,
     "metadata": {},
     "output_type": "execute_result"
    },
    {
     "data": {
      "image/png": "[encoded data removed]",
      "text/plain": [
       "<Figure size 432x288 with 1 Axes>"
      ]
     },
     "metadata": {
      "needs_background": "light"
     },
     "output_type": "display_data"
    }
   ],
   "source": [
    "plt.scatter(proposal_sigmas, [-DeltaF for (DeltaF, dDeltaF) in estimated_free_energy_differences])\n",
    "plt.hlines(0, min(proposal_sigmas), max(proposal_sigmas))\n",
    "plt.xlabel('proposal $\\sigma$')\n",
    "plt.ylabel('RJMC-estimated Bayes factor - AIS-guessed Bayes factor')"
   ]
  },
  {
   "cell_type": "code",
   "execution_count": 41,
   "metadata": {
    "ExecuteTime": {
     "end_time": "2019-03-14T13:57:00.119742Z",
     "start_time": "2019-03-14T13:57:00.114544Z"
    }
   },
   "outputs": [
    {
     "data": {
      "text/plain": [
       "((4.966597615594486, 0.10566865839136712),\n",
       " (2.6315789481439897, 0.22962506027559967))"
      ]
     },
     "execution_count": 41,
     "metadata": {},
     "output_type": "execute_result"
    }
   ],
   "source": [
    "from pymbar import EXP\n",
    "EXP(w_F), EXP(w_R)"
   ]
  },
  {
   "cell_type": "code",
   "execution_count": null,
   "metadata": {},
   "outputs": [],
   "source": []
  },
  {
   "cell_type": "code",
   "execution_count": 7,
   "metadata": {
    "ExecuteTime": {
     "end_time": "2019-03-14T01:02:07.490518Z",
     "start_time": "2019-03-14T01:02:07.484352Z"
    }
   },
   "outputs": [],
   "source": [
    "n_types_trajs = rjmc_test_result['n_types_trajs']"
   ]
  },
  {
   "cell_type": "code",
   "execution_count": 8,
   "metadata": {
    "ExecuteTime": {
     "end_time": "2019-03-14T01:02:23.673564Z",
     "start_time": "2019-03-14T01:02:23.668723Z"
    }
   },
   "outputs": [],
   "source": [
    "log_prob_trajs = rjmc_test_result['log_prob_trajs']"
   ]
  },
  {
   "cell_type": "code",
   "execution_count": 9,
   "metadata": {
    "ExecuteTime": {
     "end_time": "2019-03-14T01:02:30.071323Z",
     "start_time": "2019-03-14T01:02:30.066107Z"
    }
   },
   "outputs": [],
   "source": [
    "log_accept_prob_trajs = rjmc_test_result['log_accept_prob_trajs']"
   ]
  },
  {
   "cell_type": "code",
   "execution_count": 17,
   "metadata": {
    "ExecuteTime": {
     "end_time": "2019-03-14T01:03:24.646525Z",
     "start_time": "2019-03-14T01:03:24.510817Z"
    }
   },
   "outputs": [
    {
     "data": {
      "text/plain": [
       "[<matplotlib.lines.Line2D at 0x11fc204a8>]"
      ]
     },
     "execution_count": 17,
     "metadata": {},
     "output_type": "execute_result"
    },
    {
     "data": {
      "image/png": "[encoded data removed]",
      "text/plain": [
       "<Figure size 432x288 with 1 Axes>"
      ]
     },
     "metadata": {
      "needs_background": "light"
     },
     "output_type": "display_data"
    }
   ],
   "source": [
    "plt.plot(n_types_trajs[1])"
   ]
  },
  {
   "cell_type": "code",
   "execution_count": 35,
   "metadata": {
    "ExecuteTime": {
     "end_time": "2019-03-14T01:07:18.341017Z",
     "start_time": "2019-03-14T01:07:18.196366Z"
    }
   },
   "outputs": [
    {
     "data": {
      "text/plain": [
       "[<matplotlib.lines.Line2D at 0x11fc4fac8>]"
      ]
     },
     "execution_count": 35,
     "metadata": {},
     "output_type": "execute_result"
    },
    {
     "data": {
      "image/png": "[encoded data removed]",
      "text/plain": [
       "<Figure size 432x288 with 1 Axes>"
      ]
     },
     "metadata": {
      "needs_background": "light"
     },
     "output_type": "display_data"
    }
   ],
   "source": [
    "plt.plot(proposal_sigmas, [np.mean(t==2) for t in n_types_trajs])"
   ]
  },
  {
   "cell_type": "code",
   "execution_count": 37,
   "metadata": {
    "ExecuteTime": {
     "end_time": "2019-03-14T01:08:18.893924Z",
     "start_time": "2019-03-14T01:08:18.764134Z"
    }
   },
   "outputs": [
    {
     "data": {
      "text/plain": [
       "[<matplotlib.lines.Line2D at 0x11fcfe160>]"
      ]
     },
     "execution_count": 37,
     "metadata": {},
     "output_type": "execute_result"
    },
    {
     "data": {
      "image/png": "[encoded data removed]",
      "text/plain": [
       "<Figure size 432x288 with 1 Axes>"
      ]
     },
     "metadata": {
      "needs_background": "light"
     },
     "output_type": "display_data"
    }
   ],
   "source": [
    "\n",
    "plt.plot(proposal_sigmas, counting_estimate_of_bayes_factor)"
   ]
  },
  {
   "cell_type": "code",
   "execution_count": 38,
   "metadata": {
    "ExecuteTime": {
     "end_time": "2019-03-14T01:08:36.368803Z",
     "start_time": "2019-03-14T01:08:36.365006Z"
    }
   },
   "outputs": [
    {
     "data": {
      "text/plain": [
       "array([-9.21034037, -1.71911803,  0.61392276,  1.12019345, -1.08704686])"
      ]
     },
     "execution_count": 38,
     "metadata": {},
     "output_type": "execute_result"
    }
   ],
   "source": [
    "counting_estimate_of_bayes_factor"
   ]
  },
  {
   "cell_type": "code",
   "execution_count": 40,
   "metadata": {
    "ExecuteTime": {
     "end_time": "2019-03-14T01:08:57.356242Z",
     "start_time": "2019-03-14T01:08:57.223487Z"
    }
   },
   "outputs": [
    {
     "data": {
      "text/plain": [
       "[<matplotlib.lines.Line2D at 0x11fd83a90>]"
      ]
     },
     "execution_count": 40,
     "metadata": {},
     "output_type": "execute_result"
    },
    {
     "data": {
      "image/png": "[encoded data removed]",
      "text/plain": [
       "<Figure size 432x288 with 1 Axes>"
      ]
     },
     "metadata": {
      "needs_background": "light"
     },
     "output_type": "display_data"
    }
   ],
   "source": [
    "plt.plot(proposal_sigmas[1:], counting_estimate_of_bayes_factor[1:])"
   ]
  },
  {
   "cell_type": "code",
   "execution_count": 45,
   "metadata": {
    "ExecuteTime": {
     "end_time": "2019-03-14T02:09:32.345235Z",
     "start_time": "2019-03-14T02:09:32.340722Z"
    }
   },
   "outputs": [
    {
     "data": {
      "text/plain": [
       "array([0.001     , 0.00302041, 0.00504082, 0.00706122, 0.00908163,\n",
       "       0.01110204, 0.01312245, 0.01514286, 0.01716327, 0.01918367,\n",
       "       0.02120408, 0.02322449, 0.0252449 , 0.02726531, 0.02928571,\n",
       "       0.03130612, 0.03332653, 0.03534694, 0.03736735, 0.03938776,\n",
       "       0.04140816, 0.04342857, 0.04544898, 0.04746939, 0.0494898 ,\n",
       "       0.0515102 , 0.05353061, 0.05555102, 0.05757143, 0.05959184,\n",
       "       0.06161224, 0.06363265, 0.06565306, 0.06767347, 0.06969388,\n",
       "       0.07171429, 0.07373469, 0.0757551 , 0.07777551, 0.07979592,\n",
       "       0.08181633, 0.08383673, 0.08585714, 0.08787755, 0.08989796,\n",
       "       0.09191837, 0.09393878, 0.09595918, 0.09797959, 0.1       ])"
      ]
     },
     "execution_count": 45,
     "metadata": {},
     "output_type": "execute_result"
    }
   ],
   "source": []
  },
  {
   "cell_type": "code",
   "execution_count": 23,
   "metadata": {
    "ExecuteTime": {
     "end_time": "2019-03-14T01:05:10.113544Z",
     "start_time": "2019-03-14T01:05:09.964930Z"
    }
   },
   "outputs": [
    {
     "data": {
      "text/plain": [
       "[<matplotlib.lines.Line2D at 0x11fefc5f8>]"
      ]
     },
     "execution_count": 23,
     "metadata": {},
     "output_type": "execute_result"
    },
    {
     "data": {
      "image/png": "[encoded data removed]",
      "text/plain": [
       "<Figure size 432x288 with 1 Axes>"
      ]
     },
     "metadata": {
      "needs_background": "light"
     },
     "output_type": "display_data"
    }
   ],
   "source": [
    "plt.plot(proposal_sigmas, [np.mean(np.diff(t) != 0) for t in n_types_trajs])"
   ]
  },
  {
   "cell_type": "code",
   "execution_count": 43,
   "metadata": {
    "ExecuteTime": {
     "end_time": "2019-03-14T01:14:39.232386Z",
     "start_time": "2019-03-14T01:14:38.804076Z"
    }
   },
   "outputs": [
    {
     "data": {
      "image/png": "[encoded data removed]",
      "text/plain": [
       "<Figure size 432x288 with 1 Axes>"
      ]
     },
     "metadata": {
      "needs_background": "light"
     },
     "output_type": "display_data"
    }
   ],
   "source": [
    "for t in log_prob_trajs[:3]:\n",
    "    plt.hist(t[1000:], bins=50, alpha=0.5);"
   ]
  },
  {
   "cell_type": "code",
   "execution_count": null,
   "metadata": {},
   "outputs": [],
   "source": []
  }
 ],
 "metadata": {
  "kernelspec": {
   "display_name": "Python 3",
   "language": "python",
   "name": "python3"
  },
  "language_info": {
   "codemirror_mode": {
    "name": "ipython",
    "version": 3
   },
   "file_extension": ".py",
   "mimetype": "text/x-python",
   "name": "python",
   "nbconvert_exporter": "python",
   "pygments_lexer": "ipython3",
   "version": "3.7.1"
  }
 },
 "nbformat": 4,
 "nbformat_minor": 2
}
