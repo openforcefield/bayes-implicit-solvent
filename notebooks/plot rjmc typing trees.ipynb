{
 "cells": [
  {
   "cell_type": "markdown",
   "metadata": {},
   "source": [
    "Representations:\n",
    "* Individual tree\n",
    "* Trajectory\n",
    "    * Radii vs. iteration, with summaries such as log-probability, and the marginal likelihoods of various models\n",
    "    * Include SMIRKS tags for the individual types"
   ]
  },
  {
   "cell_type": "code",
   "execution_count": 2,
   "metadata": {},
   "outputs": [],
   "source": [
    "from pickle import load"
   ]
  },
  {
   "cell_type": "code",
   "execution_count": 3,
   "metadata": {},
   "outputs": [
    {
     "name": "stdout",
     "output_type": "stream",
     "text": [
      "using the following decorators\n"
     ]
    }
   ],
   "source": [
    "with open('../bayes_implicit_solvent/rjmc_experiments/tree_rjmc_run_64.pkl', 'rb') as f:\n",
    "    result = load(f)"
   ]
  },
  {
   "cell_type": "code",
   "execution_count": null,
   "metadata": {},
   "outputs": [],
   "source": []
  }
 ],
 "metadata": {
  "kernelspec": {
   "display_name": "Python 3",
   "language": "python",
   "name": "python3"
  },
  "language_info": {
   "codemirror_mode": {
    "name": "ipython",
    "version": 3
   },
   "file_extension": ".py",
   "mimetype": "text/x-python",
   "name": "python",
   "nbconvert_exporter": "python",
   "pygments_lexer": "ipython3",
   "version": "3.6.5"
  }
 },
 "nbformat": 4,
 "nbformat_minor": 2
}
