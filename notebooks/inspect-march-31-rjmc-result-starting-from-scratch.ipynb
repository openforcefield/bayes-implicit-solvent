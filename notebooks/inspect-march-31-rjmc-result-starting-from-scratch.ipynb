{
 "cells": [
  {
   "cell_type": "code",
   "execution_count": 75,
   "metadata": {
    "ExecuteTime": {
     "end_time": "2019-04-01T19:59:40.735493Z",
     "start_time": "2019-04-01T19:59:40.732942Z"
    }
   },
   "outputs": [],
   "source": [
    "from pickle import load\n",
    "import numpy as np"
   ]
  },
  {
   "cell_type": "code",
   "execution_count": 76,
   "metadata": {
    "ExecuteTime": {
     "end_time": "2019-04-01T19:59:41.076989Z",
     "start_time": "2019-04-01T19:59:41.074218Z"
    }
   },
   "outputs": [],
   "source": [
    "path = '../bayes_implicit_solvent/rjmc_experiments/elaborate_tree_rjmc_march31_run_n_compounds=315_n_iter=100000_gaussian_ll_small_proposals_formatted.pkl'\n",
    "\n"
   ]
  },
  {
   "cell_type": "code",
   "execution_count": 77,
   "metadata": {
    "ExecuteTime": {
     "end_time": "2019-04-01T19:59:41.283081Z",
     "start_time": "2019-04-01T19:59:41.249661Z"
    }
   },
   "outputs": [],
   "source": [
    "with open(path, 'rb') as f:\n",
    "    gaussian_trees = load(f)[1:]"
   ]
  },
  {
   "cell_type": "code",
   "execution_count": 78,
   "metadata": {
    "ExecuteTime": {
     "end_time": "2019-04-01T19:59:41.626391Z",
     "start_time": "2019-04-01T19:59:41.623528Z"
    }
   },
   "outputs": [],
   "source": [
    "t = gaussian_trees[0]"
   ]
  },
  {
   "cell_type": "code",
   "execution_count": 79,
   "metadata": {
    "ExecuteTime": {
     "end_time": "2019-04-01T19:59:41.887597Z",
     "start_time": "2019-04-01T19:59:41.883654Z"
    }
   },
   "outputs": [
    {
     "data": {
      "text/plain": [
       "500"
      ]
     },
     "execution_count": 79,
     "metadata": {},
     "output_type": "execute_result"
    }
   ],
   "source": [
    "len(gaussian_trees)"
   ]
  },
  {
   "cell_type": "code",
   "execution_count": 80,
   "metadata": {
    "ExecuteTime": {
     "end_time": "2019-04-01T19:59:42.295391Z",
     "start_time": "2019-04-01T19:59:42.292468Z"
    }
   },
   "outputs": [],
   "source": [
    "discrete_trees = [tuple(t.ordered_nodes) for t in gaussian_trees]"
   ]
  },
  {
   "cell_type": "code",
   "execution_count": 81,
   "metadata": {
    "ExecuteTime": {
     "end_time": "2019-04-01T19:59:43.009922Z",
     "start_time": "2019-04-01T19:59:43.005569Z"
    }
   },
   "outputs": [
    {
     "data": {
      "text/plain": [
       "23"
      ]
     },
     "execution_count": 81,
     "metadata": {},
     "output_type": "execute_result"
    }
   ],
   "source": [
    "len(set(discrete_trees))"
   ]
  },
  {
   "cell_type": "code",
   "execution_count": 82,
   "metadata": {
    "ExecuteTime": {
     "end_time": "2019-04-01T19:59:44.943087Z",
     "start_time": "2019-04-01T19:59:44.939934Z"
    }
   },
   "outputs": [],
   "source": [
    "events = [discrete_trees[i] != discrete_trees[i + 1] for i in range(len(discrete_trees) - 1)]"
   ]
  },
  {
   "cell_type": "code",
   "execution_count": 83,
   "metadata": {
    "ExecuteTime": {
     "end_time": "2019-04-01T19:59:45.465141Z",
     "start_time": "2019-04-01T19:59:45.461618Z"
    }
   },
   "outputs": [
    {
     "data": {
      "text/plain": [
       "25"
      ]
     },
     "execution_count": 83,
     "metadata": {},
     "output_type": "execute_result"
    }
   ],
   "source": [
    "sum(events)"
   ]
  },
  {
   "cell_type": "code",
   "execution_count": 84,
   "metadata": {
    "ExecuteTime": {
     "end_time": "2019-04-01T19:59:47.242645Z",
     "start_time": "2019-04-01T19:59:47.238034Z"
    }
   },
   "outputs": [
    {
     "data": {
      "text/plain": [
       "*                   (r = 1.00 Å, s = 0.85)\n",
       "|-[r0]              (r = 1.70 Å, s = 0.81)\n",
       "  |-[r0&#8]         (r = 1.81 Å, s = 1.04)\n",
       "    |-[r0&#8&H1]    (r = 1.41 Å, s = 0.89)\n",
       "  |-[r0&H2]         (r = 1.56 Å, s = 0.83)\n",
       "  |-[r0&-1]         (r = 1.18 Å, s = 0.82)\n",
       "  |-[r0&#1]         (r = 1.11 Å, s = 0.85)\n",
       "|-[#7]              (r = 1.02 Å, s = 0.91)\n",
       "|-[#15]             (r = 1.98 Å, s = 0.92)\n",
       "|-[#17]             (r = 1.05 Å, s = 0.98)\n",
       "|-[H3]              (r = 1.45 Å, s = 0.97)\n",
       "|-[#16]             (r = 1.92 Å, s = 0.96)\n",
       "  |-[#16&H2]        (r = 2.05 Å, s = 0.96)\n",
       "  |-[#16&X1]        (r = 2.24 Å, s = 0.93)\n",
       "  |-[#16&r7]        (r = 2.06 Å, s = 0.96)\n",
       "|-[#35]             (r = 1.55 Å, s = 0.99)\n",
       "|-[H2]              (r = 1.43 Å, s = 0.99)"
      ]
     },
     "execution_count": 84,
     "metadata": {},
     "output_type": "execute_result"
    }
   ],
   "source": [
    "gaussian_trees[-1]"
   ]
  },
  {
   "cell_type": "code",
   "execution_count": 126,
   "metadata": {
    "ExecuteTime": {
     "end_time": "2019-04-01T20:19:27.063590Z",
     "start_time": "2019-04-01T20:19:27.061098Z"
    }
   },
   "outputs": [],
   "source": [
    "path = '../bayes_implicit_solvent/rjmc_experiments/elaborate_tree_rjmc_march31_run_n_compounds=315_n_iter=100000_student-t_ll_small_proposals.pkl'\n",
    "\n"
   ]
  },
  {
   "cell_type": "code",
   "execution_count": 127,
   "metadata": {
    "ExecuteTime": {
     "end_time": "2019-04-01T20:19:28.065614Z",
     "start_time": "2019-04-01T20:19:27.292096Z"
    }
   },
   "outputs": [],
   "source": [
    "with open(path, 'rb') as f:\n",
    "    student_t_trees = load(f)[1:]"
   ]
  },
  {
   "cell_type": "code",
   "execution_count": 128,
   "metadata": {
    "ExecuteTime": {
     "end_time": "2019-04-01T20:19:28.071647Z",
     "start_time": "2019-04-01T20:19:28.068025Z"
    }
   },
   "outputs": [
    {
     "data": {
      "text/plain": [
       "4000"
      ]
     },
     "execution_count": 128,
     "metadata": {},
     "output_type": "execute_result"
    }
   ],
   "source": [
    "len(student_t_trees)"
   ]
  },
  {
   "cell_type": "code",
   "execution_count": 129,
   "metadata": {
    "ExecuteTime": {
     "end_time": "2019-04-01T20:19:28.083579Z",
     "start_time": "2019-04-01T20:19:28.073497Z"
    }
   },
   "outputs": [
    {
     "data": {
      "text/plain": [
       "43"
      ]
     },
     "execution_count": 129,
     "metadata": {},
     "output_type": "execute_result"
    }
   ],
   "source": [
    "discrete_trees_t = [tuple(t.ordered_nodes) for t in student_t_trees]\n",
    "len(set(discrete_trees_t))"
   ]
  },
  {
   "cell_type": "code",
   "execution_count": 130,
   "metadata": {
    "ExecuteTime": {
     "end_time": "2019-04-01T20:19:28.091627Z",
     "start_time": "2019-04-01T20:19:28.086416Z"
    }
   },
   "outputs": [
    {
     "data": {
      "text/plain": [
       "73"
      ]
     },
     "execution_count": 130,
     "metadata": {},
     "output_type": "execute_result"
    }
   ],
   "source": [
    "events = [discrete_trees_t[i] != discrete_trees_t[i + 1] for i in range(len(discrete_trees_t) - 1)]\n",
    "sum(events)"
   ]
  },
  {
   "cell_type": "code",
   "execution_count": 131,
   "metadata": {
    "ExecuteTime": {
     "end_time": "2019-04-01T20:19:28.098050Z",
     "start_time": "2019-04-01T20:19:28.093581Z"
    }
   },
   "outputs": [
    {
     "data": {
      "text/plain": [
       "*                  (r = 0.45 Å, s = 0.76)\n",
       "|-[*]              (r = 1.51 Å, s = 0.89)\n",
       "  |-[*&H2]         (r = 1.82 Å, s = 1.21)\n",
       "    |-[*&H2&X4]    (r = 1.57 Å, s = 0.54)\n",
       "  |-[*&#9]         (r = 2.43 Å, s = 0.68)\n",
       "  |-[*&H1]         (r = 0.98 Å, s = 1.15)\n",
       "  |-[*&#17]        (r = 1.24 Å, s = 1.10)\n",
       "  |-[*&H3]         (r = 1.60 Å, s = 0.66)\n",
       "  |-[*&#15]        (r = 3.54 Å, s = 0.73)\n",
       "  |-[*&-1]         (r = 1.09 Å, s = 1.14)\n",
       "  |-[*&#16]        (r = 1.69 Å, s = 1.00)\n",
       "  |-[*&#53]        (r = 2.02 Å, s = 0.96)"
      ]
     },
     "execution_count": 131,
     "metadata": {},
     "output_type": "execute_result"
    }
   ],
   "source": [
    "student_t_trees[-1]"
   ]
  },
  {
   "cell_type": "code",
   "execution_count": 132,
   "metadata": {
    "ExecuteTime": {
     "end_time": "2019-04-01T20:19:28.253584Z",
     "start_time": "2019-04-01T20:19:28.247015Z"
    }
   },
   "outputs": [
    {
     "data": {
      "text/plain": [
       "(*                  (r = 0.45 Å, s = 0.76)\n",
       " |-[*]              (r = 1.51 Å, s = 0.89)\n",
       "   |-[*&H2]         (r = 1.82 Å, s = 1.21)\n",
       "     |-[*&H2&X4]    (r = 1.57 Å, s = 0.54)\n",
       "   |-[*&#9]         (r = 2.43 Å, s = 0.68)\n",
       "   |-[*&H1]         (r = 0.98 Å, s = 1.15)\n",
       "   |-[*&#17]        (r = 1.24 Å, s = 1.10)\n",
       "   |-[*&H3]         (r = 1.60 Å, s = 0.66)\n",
       "   |-[*&#15]        (r = 3.54 Å, s = 0.73)\n",
       "   |-[*&-1]         (r = 1.09 Å, s = 1.14)\n",
       "   |-[*&#16]        (r = 1.69 Å, s = 1.00)\n",
       "   |-[*&#53]        (r = 2.02 Å, s = 0.96),\n",
       " *                   (r = 1.00 Å, s = 0.85)\n",
       " |-[r0]              (r = 1.70 Å, s = 0.81)\n",
       "   |-[r0&#8]         (r = 1.81 Å, s = 1.04)\n",
       "     |-[r0&#8&H1]    (r = 1.41 Å, s = 0.89)\n",
       "   |-[r0&H2]         (r = 1.56 Å, s = 0.83)\n",
       "   |-[r0&-1]         (r = 1.18 Å, s = 0.82)\n",
       "   |-[r0&#1]         (r = 1.11 Å, s = 0.85)\n",
       " |-[#7]              (r = 1.02 Å, s = 0.91)\n",
       " |-[#15]             (r = 1.98 Å, s = 0.92)\n",
       " |-[#17]             (r = 1.05 Å, s = 0.98)\n",
       " |-[H3]              (r = 1.45 Å, s = 0.97)\n",
       " |-[#16]             (r = 1.92 Å, s = 0.96)\n",
       "   |-[#16&H2]        (r = 2.05 Å, s = 0.96)\n",
       "   |-[#16&X1]        (r = 2.24 Å, s = 0.93)\n",
       "   |-[#16&r7]        (r = 2.06 Å, s = 0.96)\n",
       " |-[#35]             (r = 1.55 Å, s = 0.99)\n",
       " |-[H2]              (r = 1.43 Å, s = 0.99))"
      ]
     },
     "execution_count": 132,
     "metadata": {},
     "output_type": "execute_result"
    }
   ],
   "source": [
    "student_t_trees[-1], gaussian_trees[-1]"
   ]
  },
  {
   "cell_type": "code",
   "execution_count": 18,
   "metadata": {
    "ExecuteTime": {
     "end_time": "2019-04-01T19:24:32.699086Z",
     "start_time": "2019-04-01T19:24:32.493598Z"
    }
   },
   "outputs": [],
   "source": [
    "import matplotlib.pyplot as plt\n",
    "%matplotlib inline"
   ]
  },
  {
   "cell_type": "code",
   "execution_count": 19,
   "metadata": {
    "ExecuteTime": {
     "end_time": "2019-04-01T19:24:33.225420Z",
     "start_time": "2019-04-01T19:24:33.222678Z"
    }
   },
   "outputs": [],
   "source": [
    "def get_n_types_traj(trees):\n",
    "    return np.array([t.number_of_nodes for t in trees])"
   ]
  },
  {
   "cell_type": "code",
   "execution_count": 20,
   "metadata": {
    "ExecuteTime": {
     "end_time": "2019-04-01T19:24:35.430559Z",
     "start_time": "2019-04-01T19:24:35.232679Z"
    }
   },
   "outputs": [
    {
     "data": {
      "text/plain": [
       "[<matplotlib.lines.Line2D at 0x1a2bc6bef0>]"
      ]
     },
     "execution_count": 20,
     "metadata": {},
     "output_type": "execute_result"
    },
    {
     "data": {
      "image/png": "[encoded data removed]",
      "text/plain": [
       "<Figure size 432x288 with 1 Axes>"
      ]
     },
     "metadata": {
      "needs_background": "light"
     },
     "output_type": "display_data"
    }
   ],
   "source": [
    "#x_iterations = np.arange(len(gaussian_trees)) * 26\n",
    "#plt.plot(x_iterations, get_n_types_traj(gaussian_trees))\n",
    "x_iterations = np.arange(len(student_t_trees)) * 26\n",
    "plt.plot(x_iterations, get_n_types_traj(student_t_trees))"
   ]
  },
  {
   "cell_type": "code",
   "execution_count": 21,
   "metadata": {
    "ExecuteTime": {
     "end_time": "2019-04-01T19:24:38.555933Z",
     "start_time": "2019-04-01T19:24:38.552545Z"
    }
   },
   "outputs": [],
   "source": [
    "import networkx as nx\n",
    "\n",
    "def get_tree_depth(tree):\n",
    "    return max(nx.shortest_path_length(tree.G, source='*').values())\n",
    "\n",
    "def get_depth_traj(trees):\n",
    "    return np.array(list(map(get_tree_depth, trees)))"
   ]
  },
  {
   "cell_type": "code",
   "execution_count": 22,
   "metadata": {
    "ExecuteTime": {
     "end_time": "2019-04-01T19:24:39.039356Z",
     "start_time": "2019-04-01T19:24:38.776132Z"
    }
   },
   "outputs": [
    {
     "data": {
      "text/plain": [
       "[<matplotlib.lines.Line2D at 0x1a2bd2fd30>]"
      ]
     },
     "execution_count": 22,
     "metadata": {},
     "output_type": "execute_result"
    },
    {
     "data": {
      "image/png": "[encoded data removed]",
      "text/plain": [
       "<Figure size 432x288 with 1 Axes>"
      ]
     },
     "metadata": {
      "needs_background": "light"
     },
     "output_type": "display_data"
    }
   ],
   "source": [
    "x_iterations = np.arange(len(gaussian_trees)) * 26\n",
    "plt.plot(x_iterations, get_depth_traj(gaussian_trees))\n",
    "x_iterations = np.arange(len(student_t_trees)) * 26\n",
    "plt.plot(x_iterations, get_depth_traj(student_t_trees))"
   ]
  },
  {
   "cell_type": "code",
   "execution_count": 23,
   "metadata": {
    "ExecuteTime": {
     "end_time": "2019-04-01T19:24:59.886949Z",
     "start_time": "2019-04-01T19:24:46.822924Z"
    }
   },
   "outputs": [
    {
     "name": "stdout",
     "output_type": "stream",
     "text": [
      "number of molecules being considered: 642\n",
      "first few CIDs ['mobley_3210206', 'mobley_3589456', 'mobley_1107178', 'mobley_5200358', 'mobley_1781152']\n"
     ]
    },
    {
     "name": "stderr",
     "output_type": "stream",
     "text": [
      "/Users/joshuafass/anaconda3/lib/python3.7/site-packages/jax/lib/xla_bridge.py:167: UserWarning: No GPU found, falling back to CPU.\n",
      "  warnings.warn('No GPU found, falling back to CPU.')\n"
     ]
    },
    {
     "name": "stdout",
     "output_type": "stream",
     "text": [
      "discarding c1c(c(=O)[nH]c(=O)[nH]1)C(F)(F)F (mobley_7794077) because its free energy was outside of the range [-15, +5] kcal/mol\n",
      "discarding c1c(c(=O)[nH]c(=O)[nH]1)F (mobley_337666) because its free energy was outside of the range [-15, +5] kcal/mol\n",
      "discarding c1c(=O)[nH]c(=O)[nH]c1Cl (mobley_4338603) because its free energy was outside of the range [-15, +5] kcal/mol\n",
      "discarding C([C@H]([C@H]([C@@H]([C@@H](CO)O)O)O)O)O (mobley_4587267) because its free energy was outside of the range [-15, +5] kcal/mol\n",
      "discarding c1ccc(cc1)n2c(=O)c(c(cn2)N)Cl (mobley_2523689) because its free energy was outside of the range [-15, +5] kcal/mol\n",
      "discarding c1c(c(=O)[nH]c(=O)[nH]1)Cl (mobley_9557440) because its free energy was outside of the range [-15, +5] kcal/mol\n",
      "discarding c1c(c(=O)[nH]c(=O)[nH]1)I (mobley_2727678) because its free energy was outside of the range [-15, +5] kcal/mol\n",
      "discarding C([C@@H]1[C@H]([C@@H]([C@H]([C@@H](O1)O)O)O)O)O (mobley_9534740) because its free energy was outside of the range [-15, +5] kcal/mol\n",
      "discarding c1(=O)[nH]c(=O)[nH]c(=O)[nH]1 (mobley_6239320) because its free energy was outside of the range [-15, +5] kcal/mol\n",
      "discarding c1c(c(=O)[nH]c(=O)[nH]1)Br (mobley_4039055) because its free energy was outside of the range [-15, +5] kcal/mol\n",
      "discarding C1[C@H]([C@@H]([C@H]([C@H](O1)O)O)O)O (mobley_1896013) because its free energy was outside of the range [-15, +5] kcal/mol\n"
     ]
    }
   ],
   "source": [
    "import numpy as np\n",
    "from bayes_implicit_solvent.molecule import Molecule\n",
    "from simtk import unit\n",
    "\n",
    "\n",
    "def sample_path_to_unitted_snapshots(path_to_npy_samples):\n",
    "    xyz = np.load(path_to_npy_samples)\n",
    "    traj = [snapshot * unit.nanometer for snapshot in xyz]\n",
    "    return traj\n",
    "\n",
    "\n",
    "from glob import glob\n",
    "from pkg_resources import resource_filename\n",
    "\n",
    "path_to_vacuum_samples = resource_filename('bayes_implicit_solvent',\n",
    "                                           'vacuum_samples/vacuum_samples_*.npy')\n",
    "paths_to_samples = glob(path_to_vacuum_samples)\n",
    "#np.random.seed(0)\n",
    "#np.random.shuffle(paths_to_samples)\n",
    "#paths_to_samples = paths_to_samples[::2]\n",
    "\n",
    "print('number of molecules being considered: {}'.format(len(paths_to_samples)))\n",
    "\n",
    "\n",
    "def extract_cid_key(path):\n",
    "    i = path.find('mobley_')\n",
    "    j = path.find('.npy')\n",
    "    return path[i:j]\n",
    "\n",
    "\n",
    "cids = list(map(extract_cid_key, paths_to_samples))\n",
    "print('first few CIDs', cids[:5])\n",
    "\n",
    "mols = []\n",
    "\n",
    "n_configuration_samples = 50\n",
    "\n",
    "from bayes_implicit_solvent.freesolv import cid_to_smiles\n",
    "\n",
    "from bayes_implicit_solvent.constants import beta\n",
    "def unreduce(value):\n",
    "    \"\"\"Input value is in units of kB T, turn it into units of kilocalorie_per_mole\"\"\"\n",
    "    return value / (beta * unit.kilocalorie_per_mole)\n",
    "\n",
    "for path in paths_to_samples:\n",
    "    cid = extract_cid_key(path)\n",
    "    smiles = cid_to_smiles[cid]\n",
    "    vacuum_samples = sample_path_to_unitted_snapshots(path)\n",
    "    thinning = int(len(vacuum_samples) / n_configuration_samples)\n",
    "    mol = Molecule(smiles, vacuum_samples=vacuum_samples[::thinning])\n",
    "\n",
    "    if (unreduce(mol.experimental_value) > -15) and (unreduce(mol.experimental_value) < 5):\n",
    "        mols.append(mol)\n",
    "    else:\n",
    "        print('discarding {} ({}) because its free energy was outside of the range [-15, +5] kcal/mol'.format(smiles, cid))\n",
    "        \n",
    "from jax import jit, vmap\n",
    "from bayes_implicit_solvent.gb_models.jax_gb_models import compute_OBC_energy_vectorized\n",
    "from bayes_implicit_solvent.solvation_free_energy import kj_mol_to_kT, one_sided_exp\n",
    "\n",
    "@jit\n",
    "def predict_solvation_free_energy_jax(theta, distance_matrices, charges, element_ind_array):\n",
    "    N = int(len(theta) / 2)\n",
    "    radii_, scaling_factors_ = theta[:N], theta[N:]\n",
    "\n",
    "    radii = radii_[element_ind_array]\n",
    "    scaling_factors = scaling_factors_[element_ind_array]\n",
    "\n",
    "    @jit\n",
    "    def compute_component(distance_matrix):\n",
    "        return compute_OBC_energy_vectorized(distance_matrix, radii, scaling_factors, charges)\n",
    "\n",
    "    W_F = vmap(compute_component)(distance_matrices)\n",
    "\n",
    "    w_F = W_F * kj_mol_to_kT\n",
    "    return one_sided_exp(w_F)\n",
    "\n",
    "distance_matrices = [mol.distance_matrices for mol in mols]\n",
    "charges = [mol.charges for mol in mols]\n",
    "\n",
    "\n",
    "expt_means = unreduce(np.array([mol.experimental_value for mol in mols]))\n",
    "expt_uncs = unreduce(np.array([mol.experimental_uncertainty for mol in mols]))"
   ]
  },
  {
   "cell_type": "code",
   "execution_count": 24,
   "metadata": {
    "ExecuteTime": {
     "end_time": "2019-04-01T19:25:14.793911Z",
     "start_time": "2019-04-01T19:25:14.791082Z"
    }
   },
   "outputs": [],
   "source": [
    "oemols = [mol.mol for mol in mols]"
   ]
  },
  {
   "cell_type": "code",
   "execution_count": 25,
   "metadata": {
    "ExecuteTime": {
     "end_time": "2019-04-01T19:25:15.711386Z",
     "start_time": "2019-04-01T19:25:15.708871Z"
    }
   },
   "outputs": [],
   "source": [
    "# just apply the unique trees!"
   ]
  },
  {
   "cell_type": "code",
   "execution_count": 26,
   "metadata": {
    "ExecuteTime": {
     "end_time": "2019-04-01T19:25:16.186909Z",
     "start_time": "2019-04-01T19:25:16.184564Z"
    }
   },
   "outputs": [],
   "source": [
    "from tqdm import tqdm"
   ]
  },
  {
   "cell_type": "code",
   "execution_count": 27,
   "metadata": {
    "ExecuteTime": {
     "end_time": "2019-04-01T19:25:40.768366Z",
     "start_time": "2019-04-01T19:25:18.682701Z"
    }
   },
   "outputs": [
    {
     "name": "stderr",
     "output_type": "stream",
     "text": [
      "100%|██████████| 500/500 [00:22<00:00, 22.64it/s]\n"
     ]
    }
   ],
   "source": [
    "\n",
    "gaussian_typings = {}\n",
    "for t in tqdm(gaussian_trees):\n",
    "    tu = tuple(t.ordered_nodes)\n",
    "    if tu not in gaussian_typings:\n",
    "        gaussian_typings[tu] = t.apply_to_molecule_list(oemols)"
   ]
  },
  {
   "cell_type": "code",
   "execution_count": 28,
   "metadata": {
    "ExecuteTime": {
     "end_time": "2019-04-01T19:25:52.972393Z",
     "start_time": "2019-04-01T19:25:52.822699Z"
    }
   },
   "outputs": [
    {
     "data": {
      "text/plain": [
       "[<matplotlib.lines.Line2D at 0x1a318067f0>]"
      ]
     },
     "execution_count": 28,
     "metadata": {},
     "output_type": "execute_result"
    },
    {
     "data": {
      "image/png": "[encoded data removed]",
      "text/plain": [
       "<Figure size 432x288 with 1 Axes>"
      ]
     },
     "metadata": {
      "needs_background": "light"
     },
     "output_type": "display_data"
    }
   ],
   "source": [
    "from scipy.stats import entropy\n",
    "plt.plot([entropy(np.bincount(np.hstack(ty))[1:]) for ty in gaussian_typings.values()])"
   ]
  },
  {
   "cell_type": "code",
   "execution_count": 133,
   "metadata": {
    "ExecuteTime": {
     "end_time": "2019-04-01T20:20:23.229194Z",
     "start_time": "2019-04-01T20:19:47.074677Z"
    },
    "scrolled": true
   },
   "outputs": [
    {
     "name": "stderr",
     "output_type": "stream",
     "text": [
      "100%|██████████| 4000/4000 [00:36<00:00, 110.69it/s]\n"
     ]
    }
   ],
   "source": [
    "t_typings = {}\n",
    "for t in tqdm(student_t_trees):\n",
    "    tu = tuple(t.ordered_nodes)\n",
    "    if tu not in t_typings:\n",
    "        t_typings[tu] = t.apply_to_molecule_list(oemols)"
   ]
  },
  {
   "cell_type": "code",
   "execution_count": 104,
   "metadata": {
    "ExecuteTime": {
     "end_time": "2019-04-01T20:02:24.172467Z",
     "start_time": "2019-04-01T20:02:23.982677Z"
    }
   },
   "outputs": [
    {
     "data": {
      "text/plain": [
       "[<matplotlib.lines.Line2D at 0x1a48013198>]"
      ]
     },
     "execution_count": 104,
     "metadata": {},
     "output_type": "execute_result"
    },
    {
     "data": {
      "image/png": "[encoded data removed]",
      "text/plain": [
       "<Figure size 432x288 with 1 Axes>"
      ]
     },
     "metadata": {
      "needs_background": "light"
     },
     "output_type": "display_data"
    }
   ],
   "source": [
    "plt.plot([entropy(np.bincount(np.hstack(ty))[1:]) for ty in t_typings.values()])\n",
    "plt.plot([entropy(np.bincount(np.hstack(ty))[1:]) for ty in gaussian_typings.values()])"
   ]
  },
  {
   "cell_type": "code",
   "execution_count": 31,
   "metadata": {
    "ExecuteTime": {
     "end_time": "2019-04-01T19:26:34.393615Z",
     "start_time": "2019-04-01T19:26:34.389185Z"
    }
   },
   "outputs": [
    {
     "data": {
      "text/plain": [
       "2"
      ]
     },
     "execution_count": 31,
     "metadata": {},
     "output_type": "execute_result"
    }
   ],
   "source": [
    "len(set(discrete_trees).intersection(set(discrete_trees_t)))"
   ]
  },
  {
   "cell_type": "code",
   "execution_count": 32,
   "metadata": {
    "ExecuteTime": {
     "end_time": "2019-04-01T19:26:34.402996Z",
     "start_time": "2019-04-01T19:26:34.395833Z"
    }
   },
   "outputs": [
    {
     "data": {
      "text/plain": [
       "Quantity(value=array([0.16000539, 0.09814204, 0.15076736, 0.15685591, 0.15076736,\n",
       "       0.15076736, 0.10914619, 0.10914619, 0.15076736, 0.15076736,\n",
       "       0.10914619, 0.10914619, 0.15076736, 0.15076736, 0.15076736,\n",
       "       0.15076736, 0.15076736]), unit=nanometer)"
      ]
     },
     "execution_count": 32,
     "metadata": {},
     "output_type": "execute_result"
    }
   ],
   "source": [
    "t.assign_radii(oemols[0])"
   ]
  },
  {
   "cell_type": "code",
   "execution_count": 134,
   "metadata": {
    "ExecuteTime": {
     "end_time": "2019-04-01T20:20:29.141291Z",
     "start_time": "2019-04-01T20:20:29.138348Z"
    }
   },
   "outputs": [],
   "source": [
    "def get_theta(tree):\n",
    "    return np.hstack([tree.get_radii(), tree.get_scale_factors()])"
   ]
  },
  {
   "cell_type": "code",
   "execution_count": 135,
   "metadata": {
    "ExecuteTime": {
     "end_time": "2019-04-01T20:20:29.308480Z",
     "start_time": "2019-04-01T20:20:29.304838Z"
    }
   },
   "outputs": [],
   "source": [
    "def get_predictions(theta, typings):\n",
    "    return np.array([predict_solvation_free_energy_jax(theta, distance_matrices[i], charges[i], typings[i]) for i in range(len(charges))])\n",
    "\n"
   ]
  },
  {
   "cell_type": "markdown",
   "metadata": {},
   "source": [
    "# Get a prediction trajectory, and make a movie!"
   ]
  },
  {
   "cell_type": "code",
   "execution_count": 136,
   "metadata": {
    "ExecuteTime": {
     "end_time": "2019-04-01T20:20:33.284336Z",
     "start_time": "2019-04-01T20:20:32.161766Z"
    }
   },
   "outputs": [],
   "source": [
    "gaussian_trajs_concat = np.load('../bayes_implicit_solvent/rjmc_experiments/elaborate_tree_rjmc_march31_run_n_compounds=315_n_iter=100000_gaussian_ll_small_proposals.npz')['within_model_trajs']\n",
    "student_t_trajs_concat = np.load('../bayes_implicit_solvent/rjmc_experiments/elaborate_tree_rjmc_march31_run_n_compounds=315_n_iter=100000_student-t_ll_small_proposals.npz')['within_model_trajs']\n"
   ]
  },
  {
   "cell_type": "code",
   "execution_count": 34,
   "metadata": {
    "ExecuteTime": {
     "end_time": "2019-04-01T19:26:52.132698Z",
     "start_time": "2019-04-01T19:26:52.075474Z"
    }
   },
   "outputs": [
    {
     "data": {
      "text/plain": [
       "6831"
      ]
     },
     "execution_count": 34,
     "metadata": {},
     "output_type": "execute_result"
    }
   ],
   "source": [
    "len(set([tuple(t) for t in gaussian_trajs_concat]))"
   ]
  },
  {
   "cell_type": "code",
   "execution_count": 35,
   "metadata": {
    "ExecuteTime": {
     "end_time": "2019-04-01T19:26:56.770649Z",
     "start_time": "2019-04-01T19:26:56.766783Z"
    }
   },
   "outputs": [
    {
     "data": {
      "text/plain": [
       "3.25"
      ]
     },
     "execution_count": 35,
     "metadata": {},
     "output_type": "execute_result"
    }
   ],
   "source": [
    "len(gaussian_trajs_concat) /4000"
   ]
  },
  {
   "cell_type": "code",
   "execution_count": 137,
   "metadata": {
    "ExecuteTime": {
     "end_time": "2019-04-01T20:20:35.631097Z",
     "start_time": "2019-04-01T20:20:35.598749Z"
    }
   },
   "outputs": [],
   "source": [
    "gaussian_trajs = [gaussian_trajs_concat[26*i:26*(i+1)] for i in range(len(gaussian_trees))]\n",
    "student_t_trajs = [student_t_trajs_concat[26*i:26*(i+1)] for i in range(len(student_t_trees))]"
   ]
  },
  {
   "cell_type": "code",
   "execution_count": 138,
   "metadata": {
    "ExecuteTime": {
     "end_time": "2019-04-01T20:20:36.427877Z",
     "start_time": "2019-04-01T20:20:36.420505Z"
    }
   },
   "outputs": [],
   "source": [
    "gaussian_thetas = [traj[-1] for traj in gaussian_trajs]\n",
    "student_t_thetas = [traj[-1] for traj in student_t_trajs]"
   ]
  },
  {
   "cell_type": "code",
   "execution_count": 38,
   "metadata": {
    "ExecuteTime": {
     "end_time": "2019-04-01T19:27:08.848625Z",
     "start_time": "2019-04-01T19:27:08.843862Z"
    }
   },
   "outputs": [
    {
     "data": {
      "text/plain": [
       "({26}, {26})"
      ]
     },
     "execution_count": 38,
     "metadata": {},
     "output_type": "execute_result"
    }
   ],
   "source": [
    "set([len(t) for t in gaussian_trajs]), set([len(t) for t in student_t_trajs])"
   ]
  },
  {
   "cell_type": "code",
   "execution_count": 39,
   "metadata": {
    "ExecuteTime": {
     "end_time": "2019-04-01T19:27:11.110107Z",
     "start_time": "2019-04-01T19:27:10.963791Z"
    }
   },
   "outputs": [
    {
     "data": {
      "text/plain": [
       "[<matplotlib.lines.Line2D at 0x1a373a6358>]"
      ]
     },
     "execution_count": 39,
     "metadata": {},
     "output_type": "execute_result"
    },
    {
     "data": {
      "image/png": "[encoded data removed]",
      "text/plain": [
       "<Figure size 432x288 with 1 Axes>"
      ]
     },
     "metadata": {
      "needs_background": "light"
     },
     "output_type": "display_data"
    }
   ],
   "source": [
    "plt.plot([len(t) for t in gaussian_trajs_concat])"
   ]
  },
  {
   "cell_type": "code",
   "execution_count": 40,
   "metadata": {
    "ExecuteTime": {
     "end_time": "2019-04-01T19:27:15.977107Z",
     "start_time": "2019-04-01T19:27:15.968730Z"
    }
   },
   "outputs": [
    {
     "data": {
      "text/plain": [
       "13000"
      ]
     },
     "execution_count": 40,
     "metadata": {},
     "output_type": "execute_result"
    }
   ],
   "source": [
    "N_s_continuous = np.array([int(len(t)/2) for t in gaussian_trajs_concat])\n",
    "len(N_s_continuous)"
   ]
  },
  {
   "cell_type": "code",
   "execution_count": 41,
   "metadata": {
    "ExecuteTime": {
     "end_time": "2019-04-01T19:27:17.030635Z",
     "start_time": "2019-04-01T19:27:17.026950Z"
    }
   },
   "outputs": [
    {
     "data": {
      "text/plain": [
       "13000"
      ]
     },
     "execution_count": 41,
     "metadata": {},
     "output_type": "execute_result"
    }
   ],
   "source": [
    "26 * (len(gaussian_trees))"
   ]
  },
  {
   "cell_type": "code",
   "execution_count": null,
   "metadata": {},
   "outputs": [],
   "source": []
  },
  {
   "cell_type": "code",
   "execution_count": 42,
   "metadata": {
    "ExecuteTime": {
     "end_time": "2019-04-01T19:27:18.339474Z",
     "start_time": "2019-04-01T19:27:18.210729Z"
    }
   },
   "outputs": [
    {
     "data": {
      "text/plain": [
       "[<matplotlib.lines.Line2D at 0x1a372d9630>]"
      ]
     },
     "execution_count": 42,
     "metadata": {},
     "output_type": "execute_result"
    },
    {
     "data": {
      "image/png": "[encoded data removed]",
      "text/plain": [
       "<Figure size 432x288 with 1 Axes>"
      ]
     },
     "metadata": {
      "needs_background": "light"
     },
     "output_type": "display_data"
    }
   ],
   "source": [
    "plt.plot([len(t) for t in gaussian_trajs])"
   ]
  },
  {
   "cell_type": "code",
   "execution_count": 43,
   "metadata": {
    "ExecuteTime": {
     "end_time": "2019-04-01T19:27:22.830685Z",
     "start_time": "2019-04-01T19:27:22.826728Z"
    }
   },
   "outputs": [
    {
     "data": {
      "text/plain": [
       "13000"
      ]
     },
     "execution_count": 43,
     "metadata": {},
     "output_type": "execute_result"
    }
   ],
   "source": [
    "len(N_s_continuous)"
   ]
  },
  {
   "cell_type": "code",
   "execution_count": 44,
   "metadata": {
    "ExecuteTime": {
     "end_time": "2019-04-01T19:27:23.078203Z",
     "start_time": "2019-04-01T19:27:23.074409Z"
    }
   },
   "outputs": [
    {
     "data": {
      "text/plain": [
       "13000"
      ]
     },
     "execution_count": 44,
     "metadata": {},
     "output_type": "execute_result"
    }
   ],
   "source": [
    "len(N_s_continuous)"
   ]
  },
  {
   "cell_type": "code",
   "execution_count": 45,
   "metadata": {
    "ExecuteTime": {
     "end_time": "2019-04-01T19:27:23.284404Z",
     "start_time": "2019-04-01T19:27:23.276172Z"
    }
   },
   "outputs": [
    {
     "name": "stderr",
     "output_type": "stream",
     "text": [
      "100%|██████████| 500/500 [00:00<00:00, 228025.66it/s]\n"
     ]
    }
   ],
   "source": [
    "okay_inds = []\n",
    "problem_inds = []\n",
    "for i in tqdm(range(len(gaussian_trees))):\n",
    "    n_continuous = N_s_continuous[i * 26]\n",
    "    n_discrete = len(gaussian_trees[i].ordered_nodes)\n",
    "    if n_continuous == n_discrete:\n",
    "        okay_inds.append(i)\n",
    "    else:\n",
    "        problem_inds.append(i)"
   ]
  },
  {
   "cell_type": "code",
   "execution_count": 46,
   "metadata": {
    "ExecuteTime": {
     "end_time": "2019-04-01T19:27:24.654455Z",
     "start_time": "2019-04-01T19:27:24.651201Z"
    }
   },
   "outputs": [
    {
     "data": {
      "text/plain": [
       "0"
      ]
     },
     "execution_count": 46,
     "metadata": {},
     "output_type": "execute_result"
    }
   ],
   "source": [
    "len(problem_inds)"
   ]
  },
  {
   "cell_type": "code",
   "execution_count": null,
   "metadata": {
    "ExecuteTime": {
     "end_time": "2019-03-30T20:40:05.861083Z",
     "start_time": "2019-03-30T20:40:05.794724Z"
    }
   },
   "outputs": [],
   "source": []
  },
  {
   "cell_type": "code",
   "execution_count": 139,
   "metadata": {
    "ExecuteTime": {
     "end_time": "2019-04-01T20:20:42.320134Z",
     "start_time": "2019-04-01T20:20:41.939559Z"
    }
   },
   "outputs": [],
   "source": [
    "preds = get_predictions(\n",
    "    student_t_thetas[-1],\n",
    "    t_typings[tuple(student_t_trees[-1].ordered_nodes)])"
   ]
  },
  {
   "cell_type": "code",
   "execution_count": 140,
   "metadata": {
    "ExecuteTime": {
     "end_time": "2019-04-01T20:20:42.325780Z",
     "start_time": "2019-04-01T20:20:42.322387Z"
    }
   },
   "outputs": [],
   "source": [
    "def rmse(x, y):\n",
    "    return np.sqrt(np.mean((x - y)**2))"
   ]
  },
  {
   "cell_type": "code",
   "execution_count": 141,
   "metadata": {
    "ExecuteTime": {
     "end_time": "2019-04-01T20:20:42.926774Z",
     "start_time": "2019-04-01T20:20:42.922688Z"
    }
   },
   "outputs": [
    {
     "data": {
      "text/plain": [
       "1.9987678160938642"
      ]
     },
     "execution_count": 141,
     "metadata": {},
     "output_type": "execute_result"
    }
   ],
   "source": [
    "rmse(unreduce(preds), expt_means)"
   ]
  },
  {
   "cell_type": "code",
   "execution_count": null,
   "metadata": {},
   "outputs": [],
   "source": []
  },
  {
   "cell_type": "code",
   "execution_count": 53,
   "metadata": {
    "ExecuteTime": {
     "end_time": "2019-04-01T19:29:26.276829Z",
     "start_time": "2019-04-01T19:29:26.272880Z"
    }
   },
   "outputs": [
    {
     "data": {
      "text/plain": [
       "array([0.1       , 0.1       , 0.10070859, 0.85      , 0.85      ,\n",
       "       0.85073041])"
      ]
     },
     "execution_count": 53,
     "metadata": {},
     "output_type": "execute_result"
    }
   ],
   "source": [
    "gaussian_trajs[0][0]"
   ]
  },
  {
   "cell_type": "code",
   "execution_count": 54,
   "metadata": {
    "ExecuteTime": {
     "end_time": "2019-04-01T19:29:27.268421Z",
     "start_time": "2019-04-01T19:29:27.264347Z"
    }
   },
   "outputs": [
    {
     "data": {
      "text/plain": [
       "*             (r = 1.00 Å, s = 0.85)\n",
       "|-[*]         (r = 1.02 Å, s = 0.85)\n",
       "  |-[*&#8]    (r = 1.02 Å, s = 0.85)"
      ]
     },
     "execution_count": 54,
     "metadata": {},
     "output_type": "execute_result"
    }
   ],
   "source": [
    "gaussian_trees[0]"
   ]
  },
  {
   "cell_type": "code",
   "execution_count": 55,
   "metadata": {
    "ExecuteTime": {
     "end_time": "2019-04-01T19:34:44.213650Z",
     "start_time": "2019-04-01T19:29:28.217076Z"
    }
   },
   "outputs": [
    {
     "name": "stderr",
     "output_type": "stream",
     "text": [
      "100%|██████████| 100/100 [05:15<00:00,  3.31s/it]\n"
     ]
    }
   ],
   "source": [
    "gaussian_prediction_traj = []\n",
    "for i in tqdm(range(len(gaussian_trees))[::5]):\n",
    "    gaussian_prediction_traj.append(get_predictions(\n",
    "        gaussian_thetas[i],\n",
    "        gaussian_typings[tuple(gaussian_trees[i].ordered_nodes)]))"
   ]
  },
  {
   "cell_type": "code",
   "execution_count": 56,
   "metadata": {
    "ExecuteTime": {
     "end_time": "2019-04-01T19:34:54.511851Z",
     "start_time": "2019-04-01T19:34:54.359229Z"
    }
   },
   "outputs": [
    {
     "data": {
      "text/plain": [
       "[<matplotlib.lines.Line2D at 0x1a3730eb00>]"
      ]
     },
     "execution_count": 56,
     "metadata": {},
     "output_type": "execute_result"
    },
    {
     "data": {
      "image/png": "[encoded data removed]",
      "text/plain": [
       "<Figure size 432x288 with 1 Axes>"
      ]
     },
     "metadata": {
      "needs_background": "light"
     },
     "output_type": "display_data"
    }
   ],
   "source": [
    "diag = np.linspace(-15,5)\n",
    "plt.scatter(expt_means, gaussian_prediction_traj[-1])\n",
    "plt.plot(diag, diag, c='grey')"
   ]
  },
  {
   "cell_type": "code",
   "execution_count": 57,
   "metadata": {
    "ExecuteTime": {
     "end_time": "2019-04-01T19:34:57.289525Z",
     "start_time": "2019-04-01T19:34:57.286110Z"
    }
   },
   "outputs": [],
   "source": [
    "unreduced_gaussian_prediction_traj = unreduce(np.array(gaussian_prediction_traj))"
   ]
  },
  {
   "cell_type": "code",
   "execution_count": 58,
   "metadata": {
    "ExecuteTime": {
     "end_time": "2019-04-01T19:34:57.984178Z",
     "start_time": "2019-04-01T19:34:57.826730Z"
    }
   },
   "outputs": [
    {
     "data": {
      "text/plain": [
       "[<matplotlib.lines.Line2D at 0x1a473b6c88>]"
      ]
     },
     "execution_count": 58,
     "metadata": {},
     "output_type": "execute_result"
    },
    {
     "data": {
      "image/png": "[encoded data removed]",
      "text/plain": [
       "<Figure size 432x288 with 1 Axes>"
      ]
     },
     "metadata": {
      "needs_background": "light"
     },
     "output_type": "display_data"
    }
   ],
   "source": [
    "diag = np.linspace(-15,5)\n",
    "plt.scatter(expt_means, unreduced_gaussian_prediction_traj[-1])\n",
    "plt.plot(diag, diag, c='grey')"
   ]
  },
  {
   "cell_type": "code",
   "execution_count": null,
   "metadata": {
    "ExecuteTime": {
     "end_time": "2019-03-31T07:39:55.796433Z",
     "start_time": "2019-03-31T07:39:55.744636Z"
    }
   },
   "outputs": [],
   "source": [
    "len(set([tuple(p) for p in unreduced_gaussian_prediction_traj]))"
   ]
  },
  {
   "cell_type": "code",
   "execution_count": null,
   "metadata": {
    "ExecuteTime": {
     "end_time": "2019-03-31T07:39:57.597870Z",
     "start_time": "2019-03-31T07:39:56.011577Z"
    }
   },
   "outputs": [],
   "source": [
    "len(set([tuple(t.get_radii()) for t in gaussian_trees]))"
   ]
  },
  {
   "cell_type": "code",
   "execution_count": null,
   "metadata": {
    "ExecuteTime": {
     "end_time": "2019-03-31T07:39:57.620276Z",
     "start_time": "2019-03-31T07:39:57.602004Z"
    }
   },
   "outputs": [],
   "source": [
    "np.save('march30_gaussian_ll_rjmc_prediction_traj.npy', unreduced_gaussian_prediction_traj)"
   ]
  },
  {
   "cell_type": "code",
   "execution_count": 59,
   "metadata": {
    "ExecuteTime": {
     "end_time": "2019-04-01T19:35:04.811117Z",
     "start_time": "2019-04-01T19:35:04.666624Z"
    }
   },
   "outputs": [
    {
     "data": {
      "text/plain": [
       "[<matplotlib.lines.Line2D at 0x1a47618860>]"
      ]
     },
     "execution_count": 59,
     "metadata": {},
     "output_type": "execute_result"
    },
    {
     "data": {
      "image/png": "[encoded data removed]",
      "text/plain": [
       "<Figure size 432x288 with 1 Axes>"
      ]
     },
     "metadata": {
      "needs_background": "light"
     },
     "output_type": "display_data"
    }
   ],
   "source": [
    "plt.plot([rmse(p, expt_means) for p in gaussian_prediction_traj])\n",
    "plt.plot([rmse(p, expt_means) for p in unreduced_gaussian_prediction_traj])"
   ]
  },
  {
   "cell_type": "code",
   "execution_count": 60,
   "metadata": {
    "ExecuteTime": {
     "end_time": "2019-04-01T19:35:22.356270Z",
     "start_time": "2019-04-01T19:35:22.217944Z"
    }
   },
   "outputs": [
    {
     "data": {
      "text/plain": [
       "[<matplotlib.lines.Line2D at 0x1a477557b8>]"
      ]
     },
     "execution_count": 60,
     "metadata": {},
     "output_type": "execute_result"
    },
    {
     "data": {
      "image/png": "[encoded data removed]",
      "text/plain": [
       "<Figure size 432x288 with 1 Axes>"
      ]
     },
     "metadata": {
      "needs_background": "light"
     },
     "output_type": "display_data"
    }
   ],
   "source": [
    "plt.plot([rmse(p, expt_means) for p in unreduced_gaussian_prediction_traj[10:]])"
   ]
  },
  {
   "cell_type": "code",
   "execution_count": null,
   "metadata": {
    "ExecuteTime": {
     "end_time": "2019-03-31T07:40:10.116337Z",
     "start_time": "2019-03-31T07:40:10.111676Z"
    }
   },
   "outputs": [],
   "source": [
    "rmse(unreduced_gaussian_prediction_traj[-1], expt_means)"
   ]
  },
  {
   "cell_type": "code",
   "execution_count": null,
   "metadata": {
    "ExecuteTime": {
     "end_time": "2019-03-31T07:40:20.333122Z",
     "start_time": "2019-03-31T07:40:20.328182Z"
    }
   },
   "outputs": [],
   "source": [
    "rmse(gaussian_prediction_traj[-1], expt_means)"
   ]
  },
  {
   "cell_type": "code",
   "execution_count": 61,
   "metadata": {
    "ExecuteTime": {
     "end_time": "2019-04-01T19:36:34.530108Z",
     "start_time": "2019-04-01T19:36:34.515691Z"
    }
   },
   "outputs": [],
   "source": [
    "train_inds = np.array([  1,   2,   3,   5,   6,   8,  10,  13,  16,  17,  18,  20,  21,\n",
    "        22,  23,  24,  28,  32,  33,  36,  37,  39,  41,  43,  44,  46,\n",
    "        48,  49,  51,  52,  54,  56,  57,  62,  64,  66,  68,  70,  73,\n",
    "        79,  82,  83,  84,  85,  92,  94,  97, 100, 101, 104, 105, 107,\n",
    "       109, 110, 111, 115, 117, 118, 119, 120, 121, 122, 123, 126, 129,\n",
    "       131, 132, 138, 139, 142, 143, 144, 145, 146, 151, 152, 154, 156,\n",
    "       157, 159, 162, 163, 164, 166, 172, 173, 175, 176, 177, 183, 184,\n",
    "       187, 188, 190, 195, 196, 199, 200, 201, 204, 205, 208, 214, 215,\n",
    "       216, 223, 226, 227, 229, 230, 232, 233, 238, 239, 240, 243, 244,\n",
    "       245, 246, 254, 255, 262, 263, 264, 266, 267, 270, 271, 273, 274,\n",
    "       275, 277, 278, 279, 289, 290, 291, 292, 295, 296, 298, 299, 301,\n",
    "       302, 303, 304, 305, 306, 307, 308, 311, 312, 319, 320, 321, 322,\n",
    "       324, 326, 328, 329, 333, 336, 337, 340, 341, 342, 345, 346, 347,\n",
    "       351, 353, 354, 357, 359, 360, 363, 366, 367, 369, 371, 374, 376,\n",
    "       379, 380, 382, 386, 391, 392, 393, 394, 395, 396, 397, 399, 400,\n",
    "       401, 402, 404, 408, 411, 412, 413, 414, 415, 417, 419, 420, 421,\n",
    "       428, 429, 430, 431, 432, 433, 434, 435, 436, 440, 441, 442, 443,\n",
    "       445, 447, 448, 452, 453, 455, 457, 458, 459, 461, 462, 463, 464,\n",
    "       466, 468, 469, 470, 471, 472, 474, 482, 483, 484, 485, 486, 487,\n",
    "       490, 491, 494, 495, 496, 499, 500, 502, 503, 509, 511, 516, 517,\n",
    "       519, 523, 524, 527, 528, 529, 530, 531, 533, 534, 538, 539, 541,\n",
    "       542, 543, 545, 546, 547, 548, 553, 561, 562, 565, 566, 568, 570,\n",
    "       573, 574, 577, 579, 580, 581, 583, 584, 585, 589, 590, 593, 594,\n",
    "       595, 596, 597, 603, 605, 606, 609, 615, 616, 617, 618, 619, 623,\n",
    "       624, 625, 628])"
   ]
  },
  {
   "cell_type": "code",
   "execution_count": 62,
   "metadata": {
    "ExecuteTime": {
     "end_time": "2019-04-01T19:36:36.096476Z",
     "start_time": "2019-04-01T19:36:36.082524Z"
    }
   },
   "outputs": [],
   "source": [
    "test_inds = np.array([  0,   4,   7,   9,  11,  12,  14,  15,  19,  25,  26,  27,  29,\n",
    "        30,  31,  34,  35,  38,  40,  42,  45,  47,  50,  53,  55,  58,\n",
    "        59,  60,  61,  63,  65,  67,  69,  71,  72,  74,  75,  76,  77,\n",
    "        78,  80,  81,  86,  87,  88,  89,  90,  91,  93,  95,  96,  98,\n",
    "        99, 102, 103, 106, 108, 112, 113, 114, 116, 124, 125, 127, 128,\n",
    "       130, 133, 134, 135, 136, 137, 140, 141, 147, 148, 149, 150, 153,\n",
    "       155, 158, 160, 161, 165, 167, 168, 169, 170, 171, 174, 178, 179,\n",
    "       180, 181, 182, 185, 186, 189, 191, 192, 193, 194, 197, 198, 202,\n",
    "       203, 206, 207, 209, 210, 211, 212, 213, 217, 218, 219, 220, 221,\n",
    "       222, 224, 225, 228, 231, 234, 235, 236, 237, 241, 242, 247, 248,\n",
    "       249, 250, 251, 252, 253, 256, 257, 258, 259, 260, 261, 265, 268,\n",
    "       269, 272, 276, 280, 281, 282, 283, 284, 285, 286, 287, 288, 293,\n",
    "       294, 297, 300, 309, 310, 313, 314, 315, 316, 317, 318, 323, 325,\n",
    "       327, 330, 331, 332, 334, 335, 338, 339, 343, 344, 348, 349, 350,\n",
    "       352, 355, 356, 358, 361, 362, 364, 365, 368, 370, 372, 373, 375,\n",
    "       377, 378, 381, 383, 384, 385, 387, 388, 389, 390, 398, 403, 405,\n",
    "       406, 407, 409, 410, 416, 418, 422, 423, 424, 425, 426, 427, 437,\n",
    "       438, 439, 444, 446, 449, 450, 451, 454, 456, 460, 465, 467, 473,\n",
    "       475, 476, 477, 478, 479, 480, 481, 488, 489, 492, 493, 497, 498,\n",
    "       501, 504, 505, 506, 507, 508, 510, 512, 513, 514, 515, 518, 520,\n",
    "       521, 522, 525, 526, 532, 535, 536, 537, 540, 544, 549, 550, 551,\n",
    "       552, 554, 555, 556, 557, 558, 559, 560, 563, 564, 567, 569, 571,\n",
    "       572, 575, 576, 578, 582, 586, 587, 588, 591, 592, 598, 599, 600,\n",
    "       601, 602, 604, 607, 608, 610, 611, 612, 613, 614, 620, 621, 622,\n",
    "       626, 627, 629, 630])"
   ]
  },
  {
   "cell_type": "code",
   "execution_count": 63,
   "metadata": {
    "ExecuteTime": {
     "end_time": "2019-04-01T19:36:36.297908Z",
     "start_time": "2019-04-01T19:36:36.294477Z"
    }
   },
   "outputs": [],
   "source": [
    "def train_rmse(preds):\n",
    "    return rmse(preds[train_inds], expt_means[train_inds])\n",
    "def test_rmse(preds):\n",
    "    return rmse(preds[test_inds], expt_means[test_inds])"
   ]
  },
  {
   "cell_type": "code",
   "execution_count": 64,
   "metadata": {
    "ExecuteTime": {
     "end_time": "2019-04-01T19:36:39.346544Z",
     "start_time": "2019-04-01T19:36:39.200480Z"
    }
   },
   "outputs": [
    {
     "data": {
      "text/plain": [
       "[<matplotlib.lines.Line2D at 0x1a47825588>]"
      ]
     },
     "execution_count": 64,
     "metadata": {},
     "output_type": "execute_result"
    },
    {
     "data": {
      "image/png": "[encoded data removed]",
      "text/plain": [
       "<Figure size 432x288 with 1 Axes>"
      ]
     },
     "metadata": {
      "needs_background": "light"
     },
     "output_type": "display_data"
    }
   ],
   "source": [
    "gaussian_train_rmse_traj = np.array(list(map(train_rmse, unreduced_gaussian_prediction_traj)))\n",
    "gaussian_test_rmse_traj = np.array(list(map(test_rmse, unreduced_gaussian_prediction_traj)))\n",
    "\n",
    "plt.plot(gaussian_train_rmse_traj)\n",
    "plt.plot(gaussian_test_rmse_traj)"
   ]
  },
  {
   "cell_type": "code",
   "execution_count": 66,
   "metadata": {
    "ExecuteTime": {
     "end_time": "2019-04-01T19:36:56.077860Z",
     "start_time": "2019-04-01T19:36:55.946577Z"
    }
   },
   "outputs": [
    {
     "data": {
      "text/plain": [
       "[<matplotlib.lines.Line2D at 0x1a4785a400>]"
      ]
     },
     "execution_count": 66,
     "metadata": {},
     "output_type": "execute_result"
    },
    {
     "data": {
      "image/png": "[encoded data removed]",
      "text/plain": [
       "<Figure size 432x288 with 1 Axes>"
      ]
     },
     "metadata": {
      "needs_background": "light"
     },
     "output_type": "display_data"
    }
   ],
   "source": [
    "plt.plot(gaussian_train_rmse_traj[5:])\n",
    "plt.plot(gaussian_test_rmse_traj[5:])"
   ]
  },
  {
   "cell_type": "code",
   "execution_count": 67,
   "metadata": {
    "ExecuteTime": {
     "end_time": "2019-04-01T19:36:59.837457Z",
     "start_time": "2019-04-01T19:36:59.832614Z"
    }
   },
   "outputs": [
    {
     "data": {
      "text/plain": [
       "array([0.10899437, 0.14807948, 0.16990919, 0.10162536, 0.19826005,\n",
       "       0.10497405, 0.14500035, 0.19239225, 0.15525736, 0.14302566,\n",
       "       0.18124783, 0.1558685 , 0.11775291, 0.11097758, 0.20503532,\n",
       "       0.22430716, 0.20640468, 0.14146332])"
      ]
     },
     "execution_count": 67,
     "metadata": {},
     "output_type": "execute_result"
    }
   ],
   "source": [
    "gaussian_trees[-1].get_radii()"
   ]
  },
  {
   "cell_type": "code",
   "execution_count": 68,
   "metadata": {
    "ExecuteTime": {
     "end_time": "2019-04-01T19:37:00.721468Z",
     "start_time": "2019-04-01T19:37:00.717327Z"
    }
   },
   "outputs": [
    {
     "data": {
      "text/plain": [
       "100"
      ]
     },
     "execution_count": 68,
     "metadata": {},
     "output_type": "execute_result"
    }
   ],
   "source": [
    "len(set(gaussian_test_rmse_traj))"
   ]
  },
  {
   "cell_type": "markdown",
   "metadata": {},
   "source": [
    "# Make a movie of the atom-typing scheme!"
   ]
  },
  {
   "cell_type": "code",
   "execution_count": 69,
   "metadata": {
    "ExecuteTime": {
     "end_time": "2019-04-01T19:37:02.889042Z",
     "start_time": "2019-04-01T19:37:02.883046Z"
    }
   },
   "outputs": [
    {
     "data": {
      "text/plain": [
       "[('*', 0), ('[*]', 10803), ('[*&#8]', 630)]"
      ]
     },
     "execution_count": 69,
     "metadata": {},
     "output_type": "execute_result"
    }
   ],
   "source": [
    "list(zip(discrete_trees[0], np.bincount(np.hstack(list(gaussian_typings.values())[0]))))"
   ]
  },
  {
   "cell_type": "code",
   "execution_count": 70,
   "metadata": {
    "ExecuteTime": {
     "end_time": "2019-04-01T19:37:03.619934Z",
     "start_time": "2019-04-01T19:37:03.614763Z"
    }
   },
   "outputs": [
    {
     "data": {
      "text/plain": [
       "*                  (r = 0.45 Å, s = 0.76)\n",
       "|-[*]              (r = 1.51 Å, s = 0.89)\n",
       "  |-[*&H2]         (r = 1.82 Å, s = 1.21)\n",
       "    |-[*&H2&X4]    (r = 1.57 Å, s = 0.54)\n",
       "  |-[*&#9]         (r = 2.43 Å, s = 0.68)\n",
       "  |-[*&H1]         (r = 0.98 Å, s = 1.15)\n",
       "  |-[*&#17]        (r = 1.24 Å, s = 1.10)\n",
       "  |-[*&H3]         (r = 1.60 Å, s = 0.66)\n",
       "  |-[*&#15]        (r = 3.54 Å, s = 0.73)\n",
       "  |-[*&-1]         (r = 1.09 Å, s = 1.14)\n",
       "  |-[*&#16]        (r = 1.69 Å, s = 1.00)\n",
       "  |-[*&#53]        (r = 2.02 Å, s = 0.96)"
      ]
     },
     "execution_count": 70,
     "metadata": {},
     "output_type": "execute_result"
    }
   ],
   "source": [
    "student_t_trees[-1]"
   ]
  },
  {
   "cell_type": "code",
   "execution_count": 97,
   "metadata": {
    "ExecuteTime": {
     "end_time": "2019-04-01T20:00:51.235274Z",
     "start_time": "2019-04-01T20:00:51.231555Z"
    }
   },
   "outputs": [],
   "source": [
    "def expt_unc_contained(preds, i, desired_coverage=0.95):\n",
    "    alpha = 100 * ((1 - desired_coverage) / 2)\n",
    "    upper, lower = norm.cdf(np.percentile(preds, q=[100 - alpha, alpha]), loc=expt_means[i], scale=expt_uncs[i])\n",
    "    return upper - lower"
   ]
  },
  {
   "cell_type": "code",
   "execution_count": 98,
   "metadata": {
    "ExecuteTime": {
     "end_time": "2019-04-01T20:00:51.995979Z",
     "start_time": "2019-04-01T20:00:51.992946Z"
    }
   },
   "outputs": [],
   "source": [
    "from scipy.stats import norm\n",
    "from bayes_implicit_solvent.utils import remove_top_right_spines\n",
    "desired_coverages = np.linspace(0,1)"
   ]
  },
  {
   "cell_type": "code",
   "execution_count": 99,
   "metadata": {
    "ExecuteTime": {
     "end_time": "2019-04-01T20:00:58.893433Z",
     "start_time": "2019-04-01T20:00:52.609308Z"
    }
   },
   "outputs": [],
   "source": [
    "\n",
    "\n",
    "actual_coverages = np.vstack([np.array([expt_unc_contained(unreduced_gaussian_prediction_traj[:,i], i, desired_coverage=p) for i in range(len(mols))]) for p in desired_coverages])\n",
    "\n"
   ]
  },
  {
   "cell_type": "code",
   "execution_count": 124,
   "metadata": {
    "ExecuteTime": {
     "end_time": "2019-04-01T20:11:05.058068Z",
     "start_time": "2019-04-01T20:11:04.919115Z"
    }
   },
   "outputs": [
    {
     "data": {
      "text/plain": [
       "<matplotlib.collections.PolyCollection at 0x1a4a8a3cf8>"
      ]
     },
     "execution_count": 124,
     "metadata": {},
     "output_type": "execute_result"
    },
    {
     "data": {
      "image/png": "[encoded data removed]",
      "text/plain": [
       "<Figure size 432x288 with 1 Axes>"
      ]
     },
     "metadata": {
      "needs_background": "light"
     },
     "output_type": "display_data"
    }
   ],
   "source": [
    "\n",
    "ax = plt.subplot(1,1,1)\n",
    "remove_top_right_spines(ax)\n",
    "plt.plot(desired_coverages, desired_coverages, c='grey', linestyle='--')\n",
    "\n",
    "plt.plot(desired_coverages, np.median(actual_coverages, 1), label='gaussian')\n",
    "plt.fill_between(desired_coverages, np.median(actual_coverages, 1), alpha=0.25)"
   ]
  },
  {
   "cell_type": "code",
   "execution_count": 101,
   "metadata": {
    "ExecuteTime": {
     "end_time": "2019-04-01T20:01:09.328635Z",
     "start_time": "2019-04-01T20:01:09.324500Z"
    }
   },
   "outputs": [
    {
     "data": {
      "text/plain": [
       "0.2842287450680915"
      ]
     },
     "execution_count": 101,
     "metadata": {},
     "output_type": "execute_result"
    }
   ],
   "source": [
    "np.trapz(np.mean(actual_coverages, 1), desired_coverages)"
   ]
  },
  {
   "cell_type": "code",
   "execution_count": 147,
   "metadata": {
    "ExecuteTime": {
     "end_time": "2019-04-01T20:24:28.281459Z",
     "start_time": "2019-04-01T20:22:04.769570Z"
    }
   },
   "outputs": [
    {
     "name": "stderr",
     "output_type": "stream",
     "text": [
      "100%|██████████| 400/400 [02:23<00:00,  2.80it/s]\n"
     ]
    }
   ],
   "source": [
    "student_t_prediction_traj = []\n",
    "for i in tqdm(range(len(student_t_trees))[::10]):\n",
    "    student_t_prediction_traj.append(get_predictions(\n",
    "        student_t_thetas[i],\n",
    "        t_typings[tuple(student_t_trees[i].ordered_nodes)]))"
   ]
  },
  {
   "cell_type": "code",
   "execution_count": 148,
   "metadata": {
    "ExecuteTime": {
     "end_time": "2019-04-01T20:24:31.803652Z",
     "start_time": "2019-04-01T20:24:31.798083Z"
    }
   },
   "outputs": [],
   "source": [
    "student_t_prediction_traj = np.array(student_t_prediction_traj)"
   ]
  },
  {
   "cell_type": "code",
   "execution_count": 149,
   "metadata": {
    "ExecuteTime": {
     "end_time": "2019-04-01T20:24:32.546356Z",
     "start_time": "2019-04-01T20:24:32.542268Z"
    }
   },
   "outputs": [],
   "source": [
    "unreduced_student_t_prediction_traj = unreduce(np.array(student_t_prediction_traj))"
   ]
  },
  {
   "cell_type": "code",
   "execution_count": 150,
   "metadata": {
    "ExecuteTime": {
     "end_time": "2019-04-01T20:24:39.686500Z",
     "start_time": "2019-04-01T20:24:33.269936Z"
    }
   },
   "outputs": [],
   "source": [
    "t_actual_coverages = np.vstack([np.array([expt_unc_contained(unreduced_student_t_prediction_traj[:,i], i, desired_coverage=p) for i in range(len(mols))]) for p in desired_coverages])"
   ]
  },
  {
   "cell_type": "code",
   "execution_count": 154,
   "metadata": {
    "ExecuteTime": {
     "end_time": "2019-04-01T20:25:07.359925Z",
     "start_time": "2019-04-01T20:25:07.196633Z"
    }
   },
   "outputs": [
    {
     "data": {
      "text/plain": [
       "(0, 1)"
      ]
     },
     "execution_count": 154,
     "metadata": {},
     "output_type": "execute_result"
    },
    {
     "data": {
      "image/png": "[encoded data removed]",
      "text/plain": [
       "<Figure size 432x288 with 1 Axes>"
      ]
     },
     "metadata": {
      "needs_background": "light"
     },
     "output_type": "display_data"
    }
   ],
   "source": [
    "ax = plt.subplot(1,1,1)\n",
    "remove_top_right_spines(ax)\n",
    "plt.plot(desired_coverages, desired_coverages, c='grey', linestyle='--')\n",
    "\n",
    "#for a in actual_coverages.T[10:]:\n",
    "#    plt.plot(desired_coverages, a, c='lightblue', alpha=0.5)\n",
    "#plt.plot(desired_coverages, np.mean(actual_coverages[:,10:], 1), label='gaussian')\n",
    "#plt.fill_between(desired_coverages, np.mean(actual_coverages[:,10:], 1), alpha=0.25)\n",
    "\n",
    "plt.plot(desired_coverages, np.mean(t_actual_coverages, 1), label='student-t')\n",
    "plt.fill_between(desired_coverages, np.mean(t_actual_coverages, 1), alpha=0.25)\n",
    "\n",
    "plt.legend()\n",
    "plt.xlabel('desired coverage probability')\n",
    "plt.ylabel('actual coverage probability')\n",
    "plt.xlim(0,1)\n",
    "plt.ylim(0,1)"
   ]
  },
  {
   "cell_type": "code",
   "execution_count": 111,
   "metadata": {
    "ExecuteTime": {
     "end_time": "2019-04-01T20:03:18.546119Z",
     "start_time": "2019-04-01T20:03:18.366228Z"
    }
   },
   "outputs": [
    {
     "data": {
      "text/plain": [
       "(0, 1)"
      ]
     },
     "execution_count": 111,
     "metadata": {},
     "output_type": "execute_result"
    },
    {
     "data": {
      "image/png": "[encoded data removed]",
      "text/plain": [
       "<Figure size 432x288 with 1 Axes>"
      ]
     },
     "metadata": {
      "needs_background": "light"
     },
     "output_type": "display_data"
    }
   ],
   "source": [
    "ax = plt.subplot(1,1,1)\n",
    "remove_top_right_spines(ax)\n",
    "plt.plot(desired_coverages, desired_coverages, c='grey', linestyle='--')\n",
    "\n",
    "plt.plot(desired_coverages, np.mean(actual_coverages, 1), label='gaussian')\n",
    "plt.fill_between(desired_coverages, np.mean(actual_coverages, 1), alpha=0.25)\n",
    "\n",
    "plt.plot(desired_coverages, np.mean(t_actual_coverages, 1), label='student-t')\n",
    "plt.fill_between(desired_coverages, np.mean(t_actual_coverages, 1), alpha=0.25)\n",
    "\n",
    "plt.legend()\n",
    "plt.xlabel('desired coverage probability')\n",
    "plt.ylabel('actual coverage probability')\n",
    "plt.xlim(0,1)\n",
    "plt.ylim(0,1)"
   ]
  },
  {
   "cell_type": "code",
   "execution_count": 112,
   "metadata": {
    "ExecuteTime": {
     "end_time": "2019-04-01T20:03:25.321127Z",
     "start_time": "2019-04-01T20:03:25.315595Z"
    }
   },
   "outputs": [
    {
     "data": {
      "text/plain": [
       "nan"
      ]
     },
     "execution_count": 112,
     "metadata": {},
     "output_type": "execute_result"
    }
   ],
   "source": [
    "np.trapz(np.mean(t_actual_coverages, 1), desired_coverages)"
   ]
  },
  {
   "cell_type": "code",
   "execution_count": 155,
   "metadata": {
    "ExecuteTime": {
     "end_time": "2019-04-01T20:25:13.281026Z",
     "start_time": "2019-04-01T20:25:12.977855Z"
    }
   },
   "outputs": [
    {
     "data": {
      "text/plain": [
       "[<matplotlib.lines.Line2D at 0x1a2a28d780>]"
      ]
     },
     "execution_count": 155,
     "metadata": {},
     "output_type": "execute_result"
    },
    {
     "data": {
      "image/png": "[encoded data removed]",
      "text/plain": [
       "<Figure size 432x288 with 1 Axes>"
      ]
     },
     "metadata": {
      "needs_background": "light"
     },
     "output_type": "display_data"
    },
    {
     "data": {
      "image/png": "[encoded data removed]",
      "text/plain": [
       "<Figure size 432x288 with 1 Axes>"
      ]
     },
     "metadata": {
      "needs_background": "light"
     },
     "output_type": "display_data"
    }
   ],
   "source": [
    "gaussian_train_rmse_traj = np.array(list(map(train_rmse, unreduced_gaussian_prediction_traj)))\n",
    "gaussian_test_rmse_traj = np.array(list(map(test_rmse, unreduced_gaussian_prediction_traj)))\n",
    "\n",
    "t_train_rmse_traj = np.array(list(map(train_rmse, unreduced_student_t_prediction_traj)))\n",
    "t_test_rmse_traj = np.array(list(map(test_rmse, unreduced_student_t_prediction_traj)))\n",
    "\n",
    "\n",
    "plt.plot(gaussian_train_rmse_traj)\n",
    "plt.plot(gaussian_test_rmse_traj)\n",
    "plt.figure()\n",
    "plt.plot(t_train_rmse_traj)\n",
    "plt.plot(t_test_rmse_traj)"
   ]
  },
  {
   "cell_type": "code",
   "execution_count": 157,
   "metadata": {
    "ExecuteTime": {
     "end_time": "2019-04-01T20:25:22.468371Z",
     "start_time": "2019-04-01T20:25:22.327181Z"
    }
   },
   "outputs": [
    {
     "data": {
      "text/plain": [
       "[<matplotlib.lines.Line2D at 0x1a2a3f69b0>]"
      ]
     },
     "execution_count": 157,
     "metadata": {},
     "output_type": "execute_result"
    },
    {
     "data": {
      "image/png": "[encoded data removed]",
      "text/plain": [
       "<Figure size 432x288 with 1 Axes>"
      ]
     },
     "metadata": {
      "needs_background": "light"
     },
     "output_type": "display_data"
    }
   ],
   "source": [
    "plt.plot(t_train_rmse_traj[1:])\n",
    "#plt.plot(t_test_rmse_traj[1:])"
   ]
  },
  {
   "cell_type": "code",
   "execution_count": 158,
   "metadata": {
    "ExecuteTime": {
     "end_time": "2019-04-01T20:25:31.598174Z",
     "start_time": "2019-04-01T20:25:31.590488Z"
    }
   },
   "outputs": [
    {
     "data": {
      "text/plain": [
       "array([31.24728361,  3.02976019,  3.22971199,  3.18767314,  3.15664611,\n",
       "        3.17769525,  3.19014679,  3.18754501,  3.09686904,  3.13957914,\n",
       "        3.11191206,  3.04377827,  3.06020113,  3.13374768,  3.11739739,\n",
       "        3.13894471,  3.19319219,  3.13041019,  3.126507  ,  3.15616214,\n",
       "        3.10616269,  3.05691288,  3.09541472,  3.14605141,  3.11306841,\n",
       "        3.1108387 ,  3.13163933,  3.10221318,  2.96788607,  2.79390205,\n",
       "        2.7562477 ,  2.71460362,  2.64656166,  2.60512243,  2.45414994,\n",
       "        2.4916949 ,  2.43788184,  2.47759178,  2.42750359,  2.42806711,\n",
       "        2.47649005,  2.41005409,  2.47662036,  2.46625059,  2.48344635,\n",
       "        2.41275434,  2.47520583,  2.53986717,  2.55686956,  2.49503533,\n",
       "        2.48031411,  2.46249192,  2.48395993,  2.47554168,  2.48515941,\n",
       "        2.48363676,  2.42826231,  2.40644541,  2.44382171,  2.4577123 ,\n",
       "        2.37187342,  2.49608814,  2.49990206,  2.46013529,  2.53300493,\n",
       "        2.43159006,  2.41670213,  2.40498565,  2.46106587,  2.44740485,\n",
       "        2.4230536 ,  2.44255499,  2.38375269,  2.40312487,  2.40803004,\n",
       "        2.46659707,  2.42662613,  2.42578537,  2.44101479,  2.48287409,\n",
       "        2.41699227,  2.42641874,  2.37732877,  2.43981763,  2.47925324,\n",
       "        2.42434464,  2.38155062,  2.4236394 ,  2.40265317,  2.39102991,\n",
       "        2.45279802,  2.3646307 ,  2.41811087,  2.40294623,  2.40684523,\n",
       "        2.37103495,  2.46767594,  2.39849941,  2.42053857,  2.40796045,\n",
       "        2.37238283,  2.45319293,  2.37643229,  2.39802208,  2.33594321,\n",
       "        2.36989312,  2.31156945,  2.3216386 ,  2.31694921,  2.32491759,\n",
       "        2.32511854,  2.33487827,  2.31496056,  2.31764697,  2.26933743,\n",
       "        2.33182553,  2.30766299,  2.27360398,  2.29644451,  2.30381893,\n",
       "        2.29254437,  2.23226066,  2.27304711,  2.27115912,  2.24899349,\n",
       "        2.24097454,  2.23024746,  2.28036892,  2.28482866,  2.29305574,\n",
       "        2.3050067 ,  2.29008951,  2.29503559,  2.32681882,  2.29198242,\n",
       "        2.3173502 ,  2.26442433,  2.2711643 ,  2.27246152,  2.2801773 ,\n",
       "        2.28876461,  2.2828771 ,  2.29152039,  2.28645341,  2.26176662,\n",
       "        2.29757269,  2.25720757,  2.28677766,  2.28295475,  2.32318404,\n",
       "        2.28982824,  2.29374926,  2.25493793,  2.24557792,  2.27089615,\n",
       "        2.25449748,  2.2762809 ,  2.27508144,  2.26158212,  2.2597564 ,\n",
       "        2.26729876,  2.24705464,  2.26830356,  2.20890585,  2.18045751,\n",
       "        2.18678094,  2.14189218,  2.12649605,  2.09449355,  2.03763197,\n",
       "        2.06795377,  2.07103803,  2.07158889,  2.08636983,  2.0538245 ,\n",
       "        2.04930532,  2.06629804,  2.16028803,  2.18725344,  2.13428053,\n",
       "        2.09386036,  2.12154018,  2.12556289,  2.09708001,  2.08179362,\n",
       "        2.05542504,  2.08944689,  2.10807825,  2.06031915,  2.04857143,\n",
       "        2.10133287,  2.05339164,  2.08901059,  2.05565367,  2.04820292,\n",
       "        2.05368922,  2.11378289,  2.10244724,  2.08722811,  2.06429598,\n",
       "        2.02117817,  2.07323585,  2.06878814,  2.04544117,  2.05635406,\n",
       "        2.05902715,  2.02405575,  2.00895275,  2.00948143,  1.99095753,\n",
       "        2.07133107,  2.08290837,  2.04321539,  2.05422044,  2.06025268,\n",
       "        2.0826472 ,  2.09094405,  2.06174361,  2.08082372,  2.04850824,\n",
       "        2.03486222,  2.10533007,  2.03924907,  2.01313739,  2.06568648,\n",
       "        2.05639003,  2.02721734,  2.03069397,  2.02874756,  2.09593148,\n",
       "        2.08741226,  2.09308018,  2.01932286,  2.07242435,  2.11066357,\n",
       "        2.089866  ,  2.06950237,  2.04065059,  2.04850935,  2.06213992,\n",
       "        2.04940393,  2.04731287,  2.06243498,  2.06992706,  2.130749  ,\n",
       "        2.05284798,  2.05900729,  2.05668347,  2.06560396,  2.06355949,\n",
       "        2.03415361,  2.06644991,  2.03383528,  2.0585095 ,  2.08372483,\n",
       "        2.07286756,  2.08815163,  2.0611975 ,  2.06475204,  2.03354933,\n",
       "        2.0336084 ,  2.07660915,  2.06262081,  2.07412934,  2.06894179,\n",
       "        2.06516474,  2.07805066,  2.09556955,  2.11994534,  2.15174593,\n",
       "        2.07502783,  2.06543179,  2.08542751,  2.09527012,  2.1042115 ,\n",
       "        2.11192315,  2.07486601,  2.03603884,  2.08814245,  2.04716092,\n",
       "        2.06370674,  2.057015  ,  2.05496495,  2.03137132,  2.01713976,\n",
       "        2.04355178,  2.05844358,  2.01755148,  2.0390497 ,  2.02409679,\n",
       "        2.0085399 ,  2.03404955,  2.02072119,  2.11123311,  2.06257227,\n",
       "        2.06587843,  2.06674573,  2.05856722,  2.06868489,  2.04395292,\n",
       "        2.02526062,  2.01711369,  2.03170512,  2.02468997,  2.00925623,\n",
       "        2.0698288 ,  2.03454527,  2.08441448,  2.03764728,  2.07927638,\n",
       "        2.03837816,  2.04482027,  2.04480231,  2.13621436,  2.1337635 ,\n",
       "        2.11008346,  2.04140774,  2.08393054,  2.05665679,  2.13449189,\n",
       "        2.13959154,  2.13472318,  2.12707919,  2.13442825,  2.12656339,\n",
       "        2.1673481 ,  2.12070261,  2.10318395,  2.14537431,  2.05451055,\n",
       "        2.07790732,  2.08013907,  2.06924873,  2.07104616,  2.08137714,\n",
       "        2.10000902,  2.09784129,  2.10914916,  2.13460634,  2.15759589,\n",
       "        2.09505947,  2.0998568 ,  2.1301895 ,  2.12779697,  2.1240429 ,\n",
       "        2.11473321,  2.0572206 ,  2.01801358,  2.0260575 ,  2.08615603,\n",
       "        2.07279282,  2.084145  ,  2.04041129,  2.0625773 ,  2.07868624,\n",
       "        2.13219669,  2.13411865,  2.10725801,  2.08433864,  2.06687322,\n",
       "        2.08007364,  2.08240332,  2.0858461 ,  2.09515618,  2.08138946,\n",
       "        2.10219822,  2.09115419,  2.08389613,  2.13783246,  2.12680948,\n",
       "        2.07514298,  2.0679682 ,  2.09524659,  2.12093778,  2.08095278,\n",
       "        2.0996448 ,  2.08332882,  2.05325734,  2.0719692 ,  2.10415137,\n",
       "        2.14177643,  2.08408718,  2.11280443,  2.09212984,  2.09196473,\n",
       "        2.07797054,  2.05786237,  2.09510757,  2.08405583,  2.10355562,\n",
       "        2.12301992,  2.08381042,  2.11128264,  2.15883353,  2.13212584,\n",
       "        2.08650135,  2.06270884,  2.06311664,  2.07586012,  2.09124021])"
      ]
     },
     "execution_count": 158,
     "metadata": {},
     "output_type": "execute_result"
    }
   ],
   "source": [
    "t_test_rmse_traj"
   ]
  },
  {
   "cell_type": "code",
   "execution_count": null,
   "metadata": {
    "ExecuteTime": {
     "end_time": "2019-03-31T07:52:04.836753Z",
     "start_time": "2019-03-31T07:52:04.831699Z"
    }
   },
   "outputs": [],
   "source": [
    "t_test_rmse_traj[-1]"
   ]
  },
  {
   "cell_type": "code",
   "execution_count": null,
   "metadata": {
    "ExecuteTime": {
     "end_time": "2019-03-31T07:52:07.235027Z",
     "start_time": "2019-03-31T07:52:07.228731Z"
    }
   },
   "outputs": [],
   "source": [
    "train_rmse(np.mean(unreduced_student_t_prediction_traj[10:], 0))"
   ]
  },
  {
   "cell_type": "code",
   "execution_count": null,
   "metadata": {
    "ExecuteTime": {
     "end_time": "2019-03-31T07:52:08.035735Z",
     "start_time": "2019-03-31T07:52:08.029232Z"
    }
   },
   "outputs": [],
   "source": [
    "train_rmse(np.mean(unreduced_gaussian_prediction_traj[10:], 0))"
   ]
  },
  {
   "cell_type": "code",
   "execution_count": null,
   "metadata": {
    "ExecuteTime": {
     "end_time": "2019-03-31T07:52:09.444510Z",
     "start_time": "2019-03-31T07:52:09.437829Z"
    }
   },
   "outputs": [],
   "source": [
    "test_rmse(np.mean(unreduced_student_t_prediction_traj[10:], 0))"
   ]
  },
  {
   "cell_type": "code",
   "execution_count": null,
   "metadata": {
    "ExecuteTime": {
     "end_time": "2019-03-31T07:52:59.106135Z",
     "start_time": "2019-03-31T07:52:59.099061Z"
    }
   },
   "outputs": [],
   "source": [
    "np.min(t_test_rmse_traj)"
   ]
  },
  {
   "cell_type": "code",
   "execution_count": null,
   "metadata": {
    "ExecuteTime": {
     "end_time": "2019-03-31T07:52:11.397435Z",
     "start_time": "2019-03-31T07:52:11.390937Z"
    }
   },
   "outputs": [],
   "source": [
    "test_rmse(np.mean(unreduced_gaussian_prediction_traj[10:], 0))"
   ]
  },
  {
   "cell_type": "code",
   "execution_count": null,
   "metadata": {
    "ExecuteTime": {
     "end_time": "2019-03-30T22:55:42.526190Z",
     "start_time": "2019-03-30T22:55:42.522763Z"
    }
   },
   "outputs": [],
   "source": [
    "# oh, wait, each one of the predictions has an uncertainty I've neglected!"
   ]
  },
  {
   "cell_type": "code",
   "execution_count": null,
   "metadata": {
    "ExecuteTime": {
     "end_time": "2019-03-30T23:01:37.465592Z",
     "start_time": "2019-03-30T23:01:37.460180Z"
    }
   },
   "outputs": [],
   "source": [
    "@jit\n",
    "def compute_exp_uncertainty(w_F):\n",
    "    x = np.exp(w_F - np.max(w_F))\n",
    "    Ex = np.mean(x)\n",
    "    dx = np.std(x) / np.sqrt(len(x))\n",
    "    return dx / Ex"
   ]
  },
  {
   "cell_type": "code",
   "execution_count": null,
   "metadata": {
    "ExecuteTime": {
     "end_time": "2019-03-30T23:01:56.929219Z",
     "start_time": "2019-03-30T23:01:56.923427Z"
    }
   },
   "outputs": [],
   "source": [
    "@jit\n",
    "def predict_solvation_free_energy_jax_w_unc(theta, distance_matrices, charges, element_ind_array):\n",
    "    N = int(len(theta) / 2)\n",
    "    radii_, scaling_factors_ = theta[:N], theta[N:]\n",
    "\n",
    "    radii = radii_[element_ind_array]\n",
    "    scaling_factors = scaling_factors_[element_ind_array]\n",
    "\n",
    "    @jit\n",
    "    def compute_component(distance_matrix):\n",
    "        return compute_OBC_energy_vectorized(distance_matrix, radii, scaling_factors, charges)\n",
    "\n",
    "    W_F = vmap(compute_component)(distance_matrices)\n",
    "\n",
    "    w_F = W_F * kj_mol_to_kT\n",
    "    unc = compute_exp_uncertainty(w_F)\n",
    "    return one_sided_exp(w_F), unc"
   ]
  },
  {
   "cell_type": "code",
   "execution_count": null,
   "metadata": {
    "ExecuteTime": {
     "end_time": "2019-03-30T23:08:32.619576Z",
     "start_time": "2019-03-30T23:08:32.612435Z"
    }
   },
   "outputs": [],
   "source": [
    "import jax.numpy as np\n",
    "def get_predictions_and_uncs(theta, typings):\n",
    "    \n",
    "    ## TypeError: 'FilledConstant' object does not support item assignment\n",
    "    #preds = np.zeros(len(typings))\n",
    "    #uncs = np.zeros(len(typings))\n",
    "    #for i in range(len(charges)):\n",
    "    #    preds[i], uncs[i] = predict_solvation_free_energy_jax_w_unc(theta, distance_matrices[i], charges[i], typings[i])\n",
    "    \n",
    "    # OKAY, fine a list comprehension...\n",
    "    preds_and_uncs = [predict_solvation_free_energy_jax_w_unc(theta, distance_matrices[i], charges[i], typings[i]) for i in range(len(typings))]\n",
    "    preds = np.array([p for (p,u) in preds_and_uncs])\n",
    "    uncs = np.array([u for (p,u) in preds_and_uncs])\n",
    "    return preds, uncs"
   ]
  },
  {
   "cell_type": "code",
   "execution_count": null,
   "metadata": {
    "ExecuteTime": {
     "end_time": "2019-03-30T23:11:42.487752Z",
     "start_time": "2019-03-30T23:08:33.764508Z"
    }
   },
   "outputs": [],
   "source": [
    "student_t_prediction_traj = []\n",
    "student_t_unc_traj = []\n",
    "for i in tqdm(range(len(student_t_trees))[::5]):\n",
    "    preds, uncs = get_predictions_and_uncs(\n",
    "        student_t_thetas[i],\n",
    "        t_typings[tuple(student_t_trees[i].ordered_nodes)])\n",
    "    student_t_prediction_traj.append(preds)\n",
    "    student_t_unc_traj.append(uncs)"
   ]
  },
  {
   "cell_type": "code",
   "execution_count": null,
   "metadata": {
    "ExecuteTime": {
     "end_time": "2019-03-30T23:12:09.612968Z",
     "start_time": "2019-03-30T23:12:09.490002Z"
    }
   },
   "outputs": [],
   "source": [
    "student_t_prediction_traj = np.array(student_t_prediction_traj)\n",
    "student_t_unc_traj = np.array(student_t_unc_traj)"
   ]
  },
  {
   "cell_type": "code",
   "execution_count": null,
   "metadata": {
    "ExecuteTime": {
     "end_time": "2019-03-30T23:12:44.465167Z",
     "start_time": "2019-03-30T23:12:44.427671Z"
    }
   },
   "outputs": [],
   "source": [
    "student_t_unc_traj.flatten().max()"
   ]
  },
  {
   "cell_type": "code",
   "execution_count": null,
   "metadata": {
    "ExecuteTime": {
     "end_time": "2019-03-30T23:13:06.424979Z",
     "start_time": "2019-03-30T23:13:06.111400Z"
    }
   },
   "outputs": [],
   "source": [
    "plt.hist(student_t_unc_traj.flatten(), bins=50);"
   ]
  },
  {
   "cell_type": "code",
   "execution_count": null,
   "metadata": {
    "ExecuteTime": {
     "end_time": "2019-03-30T23:15:29.360759Z",
     "start_time": "2019-03-30T23:15:29.331167Z"
    }
   },
   "outputs": [],
   "source": [
    "preds, uncs = student_t_prediction_traj[:,0], student_t_unc_traj[:,0]"
   ]
  },
  {
   "cell_type": "code",
   "execution_count": null,
   "metadata": {
    "ExecuteTime": {
     "end_time": "2019-03-30T23:16:19.597332Z",
     "start_time": "2019-03-30T23:16:19.593459Z"
    }
   },
   "outputs": [],
   "source": [
    "x_ = np.linspace(-15,5,1000)"
   ]
  },
  {
   "cell_type": "code",
   "execution_count": null,
   "metadata": {
    "ExecuteTime": {
     "end_time": "2019-03-30T23:19:50.137090Z",
     "start_time": "2019-03-30T23:19:49.929615Z"
    }
   },
   "outputs": [],
   "source": [
    "plt.hist(preds, density=True);"
   ]
  },
  {
   "cell_type": "code",
   "execution_count": null,
   "metadata": {
    "ExecuteTime": {
     "end_time": "2019-03-30T23:19:13.015271Z",
     "start_time": "2019-03-30T23:19:13.010694Z"
    }
   },
   "outputs": [],
   "source": [
    "def uncertainty_density(x, preds, uncs):\n",
    "    return sum([norm.pdf(x, loc=mu, scale=sigma) for (mu, sigma) in zip(preds, uncs)]) / len(preds)"
   ]
  },
  {
   "cell_type": "code",
   "execution_count": null,
   "metadata": {
    "ExecuteTime": {
     "end_time": "2019-03-30T23:19:16.800644Z",
     "start_time": "2019-03-30T23:19:16.681539Z"
    }
   },
   "outputs": [],
   "source": [
    "y_ = uncertainty_density(x_, preds, uncs)"
   ]
  },
  {
   "cell_type": "code",
   "execution_count": null,
   "metadata": {
    "ExecuteTime": {
     "end_time": "2019-03-30T23:20:56.281606Z",
     "start_time": "2019-03-30T23:20:56.011253Z"
    }
   },
   "outputs": [],
   "source": [
    "plt.plot(x_, y_)\n",
    "plt.xlim(-12,-4)\n",
    "plt.hist(preds, density=True);\n",
    "plt.plot(x_, norm.pdf(x_, expt_means[0], expt_uncs[0]))"
   ]
  },
  {
   "cell_type": "code",
   "execution_count": null,
   "metadata": {
    "ExecuteTime": {
     "end_time": "2019-03-30T23:19:18.152711Z",
     "start_time": "2019-03-30T23:19:18.145860Z"
    }
   },
   "outputs": [],
   "source": [
    "from numpy import trapz\n",
    "trapz(y_, x_)"
   ]
  },
  {
   "cell_type": "code",
   "execution_count": null,
   "metadata": {
    "ExecuteTime": {
     "end_time": "2019-03-30T23:21:27.207806Z",
     "start_time": "2019-03-30T23:21:26.896762Z"
    }
   },
   "outputs": [],
   "source": [
    "plt.plot(x_, norm.pdf(x_, preds[0], uncs[0]))\n",
    "plt.plot(x_, norm.pdf(x_, expt_means[0], expt_uncs[0]))"
   ]
  },
  {
   "cell_type": "code",
   "execution_count": null,
   "metadata": {
    "ExecuteTime": {
     "end_time": "2019-03-30T23:24:41.030966Z",
     "start_time": "2019-03-30T23:24:40.803144Z"
    }
   },
   "outputs": [],
   "source": [
    "i = train_inds[10]\n",
    "preds, uncs = student_t_prediction_traj[:,i], student_t_unc_traj[:,i]\n",
    "\n",
    "plt.plot(x_, norm.pdf(x_, expt_means[i], expt_uncs[i]))\n",
    "plt.plot(x_, norm.pdf(x_, preds[0], uncs[0]))\n",
    "plt.xlim(-8,-1)"
   ]
  },
  {
   "cell_type": "code",
   "execution_count": null,
   "metadata": {
    "ExecuteTime": {
     "end_time": "2019-03-30T23:24:42.640867Z",
     "start_time": "2019-03-30T23:24:42.319574Z"
    }
   },
   "outputs": [],
   "source": [
    "plt.plot(x_, norm.pdf(x_, expt_means[i], expt_uncs[i]))\n",
    "y_ = uncertainty_density(x_, preds, uncs)\n",
    "plt.plot(x_, y_)\n",
    "plt.xlim(-8,-1)"
   ]
  },
  {
   "cell_type": "code",
   "execution_count": null,
   "metadata": {
    "ExecuteTime": {
     "end_time": "2019-03-31T10:46:47.411459Z",
     "start_time": "2019-03-31T10:46:47.251516Z"
    }
   },
   "outputs": [],
   "source": [
    "diag = np.linspace(-15,5)\n",
    "plt.scatter(expt_means, unreduced_student_t_prediction_traj[-1])\n",
    "plt.plot(diag, diag, c='grey')"
   ]
  },
  {
   "cell_type": "code",
   "execution_count": null,
   "metadata": {
    "ExecuteTime": {
     "end_time": "2019-03-31T10:47:01.883393Z",
     "start_time": "2019-03-31T10:47:01.733307Z"
    }
   },
   "outputs": [],
   "source": [
    "diag = np.linspace(-15,5)\n",
    "plt.scatter(expt_means[train_inds], unreduced_student_t_prediction_traj[-1][train_inds])\n",
    "plt.plot(diag, diag, c='grey')"
   ]
  },
  {
   "cell_type": "code",
   "execution_count": null,
   "metadata": {
    "ExecuteTime": {
     "end_time": "2019-03-31T10:47:13.876312Z",
     "start_time": "2019-03-31T10:47:13.722584Z"
    }
   },
   "outputs": [],
   "source": [
    "diag = np.linspace(-15,5)\n",
    "plt.scatter(expt_means[test_inds], unreduced_student_t_prediction_traj[-1][test_inds])\n",
    "plt.plot(diag, diag, c='grey')"
   ]
  },
  {
   "cell_type": "code",
   "execution_count": null,
   "metadata": {
    "ExecuteTime": {
     "end_time": "2019-03-31T10:48:36.336337Z",
     "start_time": "2019-03-31T10:48:36.327608Z"
    }
   },
   "outputs": [],
   "source": [
    "averaged_prediction = np.mean(unreduced_student_t_prediction_traj, 0)\n",
    "median_prediction = np.median(unreduced_student_t_prediction_traj, 0)"
   ]
  },
  {
   "cell_type": "code",
   "execution_count": null,
   "metadata": {
    "ExecuteTime": {
     "end_time": "2019-03-31T10:48:07.172685Z",
     "start_time": "2019-03-31T10:48:07.021926Z"
    }
   },
   "outputs": [],
   "source": [
    "diag = np.linspace(-15,5)\n",
    "plt.scatter(averaged_prediction[test_inds], expt_means[test_inds])\n",
    "plt.plot(diag, diag, c='grey')"
   ]
  },
  {
   "cell_type": "code",
   "execution_count": null,
   "metadata": {
    "ExecuteTime": {
     "end_time": "2019-03-31T10:48:39.934655Z",
     "start_time": "2019-03-31T10:48:39.789322Z"
    }
   },
   "outputs": [],
   "source": [
    "diag = np.linspace(-15,5)\n",
    "plt.scatter(median_prediction[test_inds], expt_means[test_inds])\n",
    "plt.plot(diag, diag, c='grey')"
   ]
  },
  {
   "cell_type": "code",
   "execution_count": null,
   "metadata": {
    "ExecuteTime": {
     "end_time": "2019-03-31T10:48:58.825282Z",
     "start_time": "2019-03-31T10:48:58.821219Z"
    }
   },
   "outputs": [],
   "source": []
  },
  {
   "cell_type": "code",
   "execution_count": null,
   "metadata": {
    "ExecuteTime": {
     "end_time": "2019-03-31T10:49:31.168407Z",
     "start_time": "2019-03-31T10:49:31.164757Z"
    }
   },
   "outputs": [],
   "source": []
  },
  {
   "cell_type": "code",
   "execution_count": null,
   "metadata": {
    "ExecuteTime": {
     "end_time": "2019-03-31T10:50:04.312993Z",
     "start_time": "2019-03-31T10:50:04.302039Z"
    }
   },
   "outputs": [],
   "source": [
    "averaged_prediction = np.mean(unreduced_student_t_prediction_traj, 0)\n",
    "median_prediction = np.median(unreduced_student_t_prediction_traj, 0)\n",
    "\n",
    "rmse(median_prediction[test_inds], expt_means[test_inds]), rmse(averaged_prediction[test_inds], expt_means[test_inds])"
   ]
  },
  {
   "cell_type": "code",
   "execution_count": null,
   "metadata": {
    "ExecuteTime": {
     "end_time": "2019-03-31T10:50:15.132891Z",
     "start_time": "2019-03-31T10:50:15.123021Z"
    }
   },
   "outputs": [],
   "source": [
    "averaged_prediction = np.mean(unreduced_gaussian_prediction_traj, 0)\n",
    "median_prediction = np.median(unreduced_gaussian_prediction_traj, 0)\n",
    "\n",
    "rmse(median_prediction[test_inds], expt_means[test_inds]), rmse(averaged_prediction[test_inds], expt_means[test_inds])"
   ]
  },
  {
   "cell_type": "code",
   "execution_count": 164,
   "metadata": {
    "ExecuteTime": {
     "end_time": "2019-04-01T20:26:30.352329Z",
     "start_time": "2019-04-01T20:26:29.706563Z"
    }
   },
   "outputs": [],
   "source": [
    "burn_in = 10\n",
    "running_median_prediction = np.array([np.median(unreduced_student_t_prediction_traj[burn_in:t], 0) for t in range(burn_in, len(unreduced_student_t_prediction_traj))])\n",
    "\n"
   ]
  },
  {
   "cell_type": "code",
   "execution_count": 165,
   "metadata": {
    "ExecuteTime": {
     "end_time": "2019-04-01T20:26:30.875256Z",
     "start_time": "2019-04-01T20:26:30.854485Z"
    }
   },
   "outputs": [],
   "source": [
    "t_train_rmse_traj_med = np.array(list(map(train_rmse, running_median_prediction)))\n",
    "t_test_rmse_traj_med = np.array(list(map(test_rmse, running_median_prediction)))"
   ]
  },
  {
   "cell_type": "code",
   "execution_count": 168,
   "metadata": {
    "ExecuteTime": {
     "end_time": "2019-04-01T20:26:46.365660Z",
     "start_time": "2019-04-01T20:26:46.186833Z"
    }
   },
   "outputs": [
    {
     "data": {
      "text/plain": [
       "<matplotlib.legend.Legend at 0x1a2aaf5978>"
      ]
     },
     "execution_count": 168,
     "metadata": {},
     "output_type": "execute_result"
    },
    {
     "data": {
      "image/png": "[encoded data removed]",
      "text/plain": [
       "<Figure size 432x288 with 1 Axes>"
      ]
     },
     "metadata": {
      "needs_background": "light"
     },
     "output_type": "display_data"
    }
   ],
   "source": [
    "plt.title('instantaneous predictions')\n",
    "plt.plot(t_train_rmse_traj[burn_in:], label='train')\n",
    "plt.plot(t_test_rmse_traj[burn_in:], label='test')\n",
    "plt.legend()"
   ]
  },
  {
   "cell_type": "code",
   "execution_count": 169,
   "metadata": {
    "ExecuteTime": {
     "end_time": "2019-04-01T20:26:47.640686Z",
     "start_time": "2019-04-01T20:26:47.468161Z"
    }
   },
   "outputs": [
    {
     "data": {
      "text/plain": [
       "<matplotlib.legend.Legend at 0x1a2ac55160>"
      ]
     },
     "execution_count": 169,
     "metadata": {},
     "output_type": "execute_result"
    },
    {
     "data": {
      "image/png": "[encoded data removed]",
      "text/plain": [
       "<Figure size 432x288 with 1 Axes>"
      ]
     },
     "metadata": {
      "needs_background": "light"
     },
     "output_type": "display_data"
    }
   ],
   "source": [
    "plt.title('running median predictions')\n",
    "plt.plot(t_train_rmse_traj_med, label='train')\n",
    "plt.plot(t_test_rmse_traj_med, label='test')\n",
    "plt.legend()"
   ]
  },
  {
   "cell_type": "code",
   "execution_count": 170,
   "metadata": {
    "ExecuteTime": {
     "end_time": "2019-04-01T20:27:24.611583Z",
     "start_time": "2019-04-01T20:27:24.505226Z"
    }
   },
   "outputs": [],
   "source": [
    "Deltas = np.zeros((len(test_inds), len(test_inds)))\n",
    "\n",
    "for i in range(len(test_inds)):\n",
    "    for j in range(len(test_inds)):\n",
    "        Deltas[i,j] = expt_means[test_inds[i]] - expt_means[test_inds[j]]"
   ]
  },
  {
   "cell_type": "code",
   "execution_count": 171,
   "metadata": {
    "ExecuteTime": {
     "end_time": "2019-04-01T20:27:25.311517Z",
     "start_time": "2019-04-01T20:27:25.256035Z"
    }
   },
   "outputs": [],
   "source": [
    "flat_Deltas = []\n",
    "\n",
    "for i in range(len(test_inds)):\n",
    "    for j in range(i+1, len(test_inds)):\n",
    "        flat_Deltas.append(expt_means[test_inds[i]] - expt_means[test_inds[j]])\n",
    "flat_Deltas = np.array(flat_Deltas)"
   ]
  },
  {
   "cell_type": "code",
   "execution_count": 172,
   "metadata": {
    "ExecuteTime": {
     "end_time": "2019-04-01T20:27:25.956214Z",
     "start_time": "2019-04-01T20:27:25.953952Z"
    }
   },
   "outputs": [],
   "source": [
    "preds = running_median_prediction[-1]"
   ]
  },
  {
   "cell_type": "code",
   "execution_count": 173,
   "metadata": {
    "ExecuteTime": {
     "end_time": "2019-04-01T20:27:26.661902Z",
     "start_time": "2019-04-01T20:27:26.553977Z"
    }
   },
   "outputs": [],
   "source": [
    "predicted_Deltas = np.zeros((len(test_inds), len(test_inds)))\n",
    "\n",
    "for i in range(len(test_inds)):\n",
    "    for j in range(len(test_inds)):\n",
    "        predicted_Deltas[i,j] = preds[test_inds[i]] - preds[test_inds[j]]"
   ]
  },
  {
   "cell_type": "code",
   "execution_count": 174,
   "metadata": {
    "ExecuteTime": {
     "end_time": "2019-04-01T20:27:27.467493Z",
     "start_time": "2019-04-01T20:27:27.408175Z"
    }
   },
   "outputs": [],
   "source": [
    "flat_predicted_Deltas = []\n",
    "\n",
    "for i in range(len(test_inds)):\n",
    "    for j in range(i+1, len(test_inds)):\n",
    "        flat_predicted_Deltas.append(preds[test_inds[i]] - preds[test_inds[j]])\n",
    "flat_predicted_Deltas = np.array(flat_predicted_Deltas)"
   ]
  },
  {
   "cell_type": "code",
   "execution_count": 175,
   "metadata": {
    "ExecuteTime": {
     "end_time": "2019-04-01T20:27:28.004244Z",
     "start_time": "2019-04-01T20:27:27.999282Z"
    }
   },
   "outputs": [
    {
     "data": {
      "text/plain": [
       "0.8344986939923649"
      ]
     },
     "execution_count": 175,
     "metadata": {},
     "output_type": "execute_result"
    }
   ],
   "source": [
    "np.mean(np.sign(flat_Deltas) == np.sign(flat_predicted_Deltas))"
   ]
  },
  {
   "cell_type": "code",
   "execution_count": 176,
   "metadata": {
    "ExecuteTime": {
     "end_time": "2019-04-01T20:27:30.227441Z",
     "start_time": "2019-04-01T20:27:30.224333Z"
    }
   },
   "outputs": [],
   "source": [
    "disagreements = np.sign(flat_Deltas) != np.sign(flat_predicted_Deltas)"
   ]
  },
  {
   "cell_type": "code",
   "execution_count": 177,
   "metadata": {
    "ExecuteTime": {
     "end_time": "2019-04-01T20:27:30.733842Z",
     "start_time": "2019-04-01T20:27:30.729751Z"
    }
   },
   "outputs": [
    {
     "data": {
      "text/plain": [
       "0.16550130600763513"
      ]
     },
     "execution_count": 177,
     "metadata": {},
     "output_type": "execute_result"
    }
   ],
   "source": [
    "np.mean(disagreements)"
   ]
  },
  {
   "cell_type": "code",
   "execution_count": 178,
   "metadata": {
    "ExecuteTime": {
     "end_time": "2019-04-01T20:27:37.814464Z",
     "start_time": "2019-04-01T20:27:37.599094Z"
    }
   },
   "outputs": [
    {
     "data": {
      "text/plain": [
       "<matplotlib.collections.PathCollection at 0x1a2aeb81d0>"
      ]
     },
     "execution_count": 178,
     "metadata": {},
     "output_type": "execute_result"
    },
    {
     "data": {
      "image/png": "[encoded data removed]",
      "text/plain": [
       "<Figure size 432x288 with 1 Axes>"
      ]
     },
     "metadata": {
      "needs_background": "light"
     },
     "output_type": "display_data"
    }
   ],
   "source": [
    "plt.scatter(flat_Deltas[disagreements], flat_predicted_Deltas[disagreements], s=1)"
   ]
  },
  {
   "cell_type": "code",
   "execution_count": 179,
   "metadata": {
    "ExecuteTime": {
     "end_time": "2019-04-01T20:27:40.901060Z",
     "start_time": "2019-04-01T20:27:40.479848Z"
    }
   },
   "outputs": [
    {
     "data": {
      "text/plain": [
       "<matplotlib.collections.PolyCollection at 0x1a2aff7860>"
      ]
     },
     "execution_count": 179,
     "metadata": {},
     "output_type": "execute_result"
    },
    {
     "data": {
      "image/png": "[encoded data removed]",
      "text/plain": [
       "<Figure size 432x288 with 1 Axes>"
      ]
     },
     "metadata": {
      "needs_background": "light"
     },
     "output_type": "display_data"
    }
   ],
   "source": [
    "plt.hexbin(flat_Deltas[disagreements], flat_predicted_Deltas[disagreements], bins='log', cmap='Blues')"
   ]
  },
  {
   "cell_type": "code",
   "execution_count": null,
   "metadata": {},
   "outputs": [],
   "source": []
  },
  {
   "cell_type": "code",
   "execution_count": null,
   "metadata": {},
   "outputs": [],
   "source": []
  },
  {
   "cell_type": "markdown",
   "metadata": {},
   "source": [
    "# Instead of comparing the means here, should be doing a statistical test or something!"
   ]
  },
  {
   "cell_type": "markdown",
   "metadata": {},
   "source": [
    "# Need to compare with predictions from original OBC2 model!"
   ]
  },
  {
   "cell_type": "markdown",
   "metadata": {},
   "source": [
    "# Should move these analyses into a submodule, maybe performance_metrics or similar..."
   ]
  },
  {
   "cell_type": "code",
   "execution_count": null,
   "metadata": {
    "ExecuteTime": {
     "end_time": "2019-03-31T11:01:56.928289Z",
     "start_time": "2019-03-31T11:01:56.923735Z"
    }
   },
   "outputs": [],
   "source": [
    "np.mean((Deltas - predicted_Deltas)**2)"
   ]
  },
  {
   "cell_type": "code",
   "execution_count": null,
   "metadata": {
    "ExecuteTime": {
     "end_time": "2019-03-31T11:01:17.098072Z",
     "start_time": "2019-03-31T11:01:16.156631Z"
    }
   },
   "outputs": [],
   "source": [
    "plt.scatter(Deltas.flatten(), predicted_Deltas.flatten(), s=1)"
   ]
  },
  {
   "cell_type": "code",
   "execution_count": null,
   "metadata": {
    "ExecuteTime": {
     "end_time": "2019-03-31T15:54:27.763001Z",
     "start_time": "2019-03-31T15:54:27.312640Z"
    }
   },
   "outputs": [],
   "source": [
    "plt.hexbin(flat_Deltas, predicted_Deltas, bins='log', cmap='Blues')"
   ]
  },
  {
   "cell_type": "code",
   "execution_count": null,
   "metadata": {
    "ExecuteTime": {
     "end_time": "2019-03-31T11:00:30.167548Z",
     "start_time": "2019-03-31T11:00:30.163358Z"
    }
   },
   "outputs": [],
   "source": [
    "np.argmax(Deltas - predicted_Deltas)"
   ]
  },
  {
   "cell_type": "code",
   "execution_count": null,
   "metadata": {
    "ExecuteTime": {
     "end_time": "2019-03-31T15:52:11.814123Z",
     "start_time": "2019-03-31T15:52:11.807917Z"
    }
   },
   "outputs": [],
   "source": [
    "mbondi2_preds, mbondi2_uncs = unreduce(np.load('mbondi2_preds.npy')).T"
   ]
  },
  {
   "cell_type": "code",
   "execution_count": null,
   "metadata": {
    "ExecuteTime": {
     "end_time": "2019-03-31T15:53:28.521414Z",
     "start_time": "2019-03-31T15:53:28.507680Z"
    }
   },
   "outputs": [],
   "source": [
    "rmse(mbondi2_preds, expt_means)"
   ]
  },
  {
   "cell_type": "code",
   "execution_count": null,
   "metadata": {
    "ExecuteTime": {
     "end_time": "2019-03-31T15:57:30.900610Z",
     "start_time": "2019-03-31T15:57:30.898154Z"
    }
   },
   "outputs": [],
   "source": [
    "from bayes_implicit_solvent.gb_models.obc2_parameters import mbondi2_model"
   ]
  },
  {
   "cell_type": "code",
   "execution_count": null,
   "metadata": {
    "ExecuteTime": {
     "end_time": "2019-03-31T15:57:45.330829Z",
     "start_time": "2019-03-31T15:57:44.055099Z"
    }
   },
   "outputs": [],
   "source": [
    "mbondi2_types = mbondi2_model.apply_to_molecule_list(oemols)"
   ]
  },
  {
   "cell_type": "code",
   "execution_count": null,
   "metadata": {
    "ExecuteTime": {
     "end_time": "2019-03-31T15:58:37.992402Z",
     "start_time": "2019-03-31T15:58:37.989360Z"
    }
   },
   "outputs": [],
   "source": [
    "mbondi2_radii = mbondi2_model.get_radii()\n",
    "mbondi2_scales = mbondi2_model.get_scale_factors()\n",
    "mbondi2_theta = np.hstack([mbondi2_radii, mbondi2_scales])"
   ]
  },
  {
   "cell_type": "code",
   "execution_count": null,
   "metadata": {
    "ExecuteTime": {
     "end_time": "2019-03-31T15:59:31.613868Z",
     "start_time": "2019-03-31T15:59:31.123206Z"
    }
   },
   "outputs": [],
   "source": [
    "reduced_mbondi2_preds, reduced_mbondi2_uncs = get_predictions_and_uncs(mbondi2_theta, mbondi2_types)"
   ]
  },
  {
   "cell_type": "code",
   "execution_count": null,
   "metadata": {
    "ExecuteTime": {
     "end_time": "2019-03-31T15:59:50.554992Z",
     "start_time": "2019-03-31T15:59:50.552363Z"
    }
   },
   "outputs": [],
   "source": [
    "mbondi2_preds = unreduce(reduced_mbondi2_preds)\n",
    "mbondi2_uncs = unreduce(reduced_mbondi2_uncs)"
   ]
  },
  {
   "cell_type": "code",
   "execution_count": null,
   "metadata": {
    "ExecuteTime": {
     "end_time": "2019-03-31T15:59:51.331705Z",
     "start_time": "2019-03-31T15:59:51.328174Z"
    }
   },
   "outputs": [],
   "source": [
    "rmse(mbondi2_preds, expt_means)"
   ]
  },
  {
   "cell_type": "code",
   "execution_count": null,
   "metadata": {
    "ExecuteTime": {
     "end_time": "2019-03-31T17:18:18.995887Z",
     "start_time": "2019-03-31T17:18:18.894475Z"
    }
   },
   "outputs": [],
   "source": [
    "OBC2_Deltas = np.zeros((len(test_inds), len(test_inds)))\n",
    "\n",
    "for i in range(len(test_inds)):\n",
    "    for j in range(len(test_inds)):\n",
    "        OBC2_Deltas[i,j] = mbondi2_preds[test_inds[i]] - mbondi2_preds[test_inds[j]]"
   ]
  },
  {
   "cell_type": "code",
   "execution_count": null,
   "metadata": {
    "ExecuteTime": {
     "end_time": "2019-03-31T16:00:36.383790Z",
     "start_time": "2019-03-31T16:00:36.319933Z"
    }
   },
   "outputs": [],
   "source": [
    "flat_OBC2_Deltas = []\n",
    "\n",
    "for i in range(len(test_inds)):\n",
    "    for j in range(i+1, len(test_inds)):\n",
    "        flat_OBC2_Deltas.append(mbondi2_preds[test_inds[i]] - mbondi2_preds[test_inds[j]])\n",
    "flat_OBC2_Deltas = np.array(flat_OBC2_Deltas)"
   ]
  },
  {
   "cell_type": "code",
   "execution_count": null,
   "metadata": {
    "ExecuteTime": {
     "end_time": "2019-03-31T16:01:09.966143Z",
     "start_time": "2019-03-31T16:01:09.486492Z"
    }
   },
   "outputs": [],
   "source": [
    "plt.hexbin(flat_Deltas, flat_OBC2_Deltas, bins='log', cmap='Blues')"
   ]
  },
  {
   "cell_type": "code",
   "execution_count": null,
   "metadata": {
    "ExecuteTime": {
     "end_time": "2019-03-31T16:02:52.562113Z",
     "start_time": "2019-03-31T16:02:52.556595Z"
    }
   },
   "outputs": [],
   "source": [
    "np.median((flat_Deltas - flat_OBC2_Deltas)**2)"
   ]
  },
  {
   "cell_type": "code",
   "execution_count": null,
   "metadata": {
    "ExecuteTime": {
     "end_time": "2019-03-31T16:03:16.088885Z",
     "start_time": "2019-03-31T16:03:16.083711Z"
    }
   },
   "outputs": [],
   "source": [
    "np.median((flat_Deltas - flat_predicted_Deltas)**2)"
   ]
  },
  {
   "cell_type": "code",
   "execution_count": null,
   "metadata": {
    "ExecuteTime": {
     "end_time": "2019-03-31T18:00:49.075042Z",
     "start_time": "2019-03-31T18:00:49.064340Z"
    }
   },
   "outputs": [],
   "source": [
    "disagreements = np.sign(flat_Deltas) != np.sign(flat_OBC2_Deltas)"
   ]
  },
  {
   "cell_type": "code",
   "execution_count": null,
   "metadata": {
    "ExecuteTime": {
     "end_time": "2019-03-31T18:00:50.931827Z",
     "start_time": "2019-03-31T18:00:50.918318Z"
    }
   },
   "outputs": [],
   "source": [
    "1 - np.mean(disagreements)"
   ]
  },
  {
   "cell_type": "code",
   "execution_count": null,
   "metadata": {
    "ExecuteTime": {
     "end_time": "2019-03-31T16:18:06.624966Z",
     "start_time": "2019-03-31T16:18:06.219833Z"
    }
   },
   "outputs": [],
   "source": [
    "plt.hexbin(flat_OBC2_Deltas[disagreements],flat_Deltas[disagreements],  bins='log', cmap='Blues')\n",
    "plt.xlabel('OBC2 prediction')\n",
    "plt.ylabel('experimental value')"
   ]
  },
  {
   "cell_type": "code",
   "execution_count": null,
   "metadata": {
    "ExecuteTime": {
     "end_time": "2019-03-31T16:18:32.562850Z",
     "start_time": "2019-03-31T16:18:32.558684Z"
    }
   },
   "outputs": [],
   "source": [
    "np.max(flat_OBC2_Deltas[disagreements]-flat_Deltas[disagreements])"
   ]
  },
  {
   "cell_type": "code",
   "execution_count": null,
   "metadata": {
    "ExecuteTime": {
     "end_time": "2019-03-31T16:18:39.878792Z",
     "start_time": "2019-03-31T16:18:39.873966Z"
    }
   },
   "outputs": [],
   "source": [
    "np.min(flat_OBC2_Deltas[disagreements]-flat_Deltas[disagreements])"
   ]
  },
  {
   "cell_type": "code",
   "execution_count": null,
   "metadata": {},
   "outputs": [],
   "source": []
  },
  {
   "cell_type": "code",
   "execution_count": null,
   "metadata": {
    "ExecuteTime": {
     "end_time": "2019-03-31T16:15:01.802175Z",
     "start_time": "2019-03-31T16:15:01.471511Z"
    }
   },
   "outputs": [],
   "source": [
    "plt.hist(flat_OBC2_Deltas[disagreements], bins=50);\n",
    "plt.hist(flat_Deltas[disagreements], bins=50);"
   ]
  },
  {
   "cell_type": "code",
   "execution_count": null,
   "metadata": {
    "ExecuteTime": {
     "end_time": "2019-03-31T16:24:32.468777Z",
     "start_time": "2019-03-31T16:24:32.466566Z"
    }
   },
   "outputs": [],
   "source": [
    "# for each one of these pairs, can I do a substructure analysis to see how similar they are?\n",
    "# then I could pick some extreme examples on both ends, and some moderate examples:\n",
    "# * a very similar-looking pair with a very big difference in hydration free energy\n",
    "# * a very different-looking pair with a very small difference in hydration free energy\n",
    "# * less extreme examples..."
   ]
  },
  {
   "cell_type": "code",
   "execution_count": null,
   "metadata": {
    "ExecuteTime": {
     "end_time": "2019-03-31T16:34:11.978927Z",
     "start_time": "2019-03-31T16:34:11.975430Z"
    }
   },
   "outputs": [],
   "source": [
    "from openeye import oechem\n",
    "\n"
   ]
  },
  {
   "cell_type": "code",
   "execution_count": null,
   "metadata": {
    "ExecuteTime": {
     "end_time": "2019-03-31T16:34:23.978716Z",
     "start_time": "2019-03-31T16:34:23.975188Z"
    }
   },
   "outputs": [],
   "source": [
    "mcss.SetMCSFunc(oechem.OEMCSMaxAtoms())"
   ]
  },
  {
   "cell_type": "code",
   "execution_count": null,
   "metadata": {
    "ExecuteTime": {
     "end_time": "2019-03-31T16:41:32.149853Z",
     "start_time": "2019-03-31T16:41:32.145482Z"
    }
   },
   "outputs": [],
   "source": [
    "def size_of_mcs(m1, m2):\n",
    "    atomexpr = oechem.OEExprOpts_DefaultAtoms\n",
    "    bondexpr = oechem.OEExprOpts_DefaultBonds\n",
    "    mcss = oechem.OEMCSSearch(m1, atomexpr, bondexpr, oechem.OEMCSType_Approximate)\n",
    "    mcss.SetMCSFunc(oechem.OEMCSMaxAtoms())\n",
    "\n",
    "    match_sizes = [0]\n",
    "    for count, match in enumerate(mcss.Match(m2, True)):\n",
    "        m = oechem.OEGraphMol()\n",
    "        oechem.OESubsetMol(m, match, True)\n",
    "        match_sizes.append(m.NumAtoms())\n",
    "    return max(match_sizes)"
   ]
  },
  {
   "cell_type": "code",
   "execution_count": null,
   "metadata": {
    "ExecuteTime": {
     "end_time": "2019-03-31T17:04:32.464675Z",
     "start_time": "2019-03-31T16:41:35.289437Z"
    },
    "scrolled": true
   },
   "outputs": [],
   "source": [
    "test_mols = [oemols[i] for i in test_inds]\n",
    "mcs_sizes = np.zeros((len(test_mols), len(test_mols)))\n",
    "for i in tqdm(range(len(test_mols))):\n",
    "    for j in range(len(test_mols)):\n",
    "        mcs_sizes[i,j] = size_of_mcs(test_mols[i], test_mols[j])"
   ]
  },
  {
   "cell_type": "code",
   "execution_count": null,
   "metadata": {
    "ExecuteTime": {
     "end_time": "2019-03-31T16:41:25.903399Z",
     "start_time": "2019-03-31T16:41:25.900186Z"
    }
   },
   "outputs": [],
   "source": [
    "oechem.OEMCSType_Approximate"
   ]
  },
  {
   "cell_type": "code",
   "execution_count": null,
   "metadata": {
    "ExecuteTime": {
     "end_time": "2019-03-31T17:48:58.902032Z",
     "start_time": "2019-03-31T17:48:58.661798Z"
    }
   },
   "outputs": [],
   "source": [
    "sizes = np.array([m.NumAtoms() for m in test_mols])\n",
    "pair_min_sizes = np.minimum(np.outer(sizes, np.ones(len(sizes))).T, np.outer(sizes, np.ones(len(sizes))))\n",
    "\n",
    "pair_max_sizes = np.maximum(np.outer(sizes, np.ones(len(sizes))).T, np.outer(sizes, np.ones(len(sizes))))\n",
    "plt.imshow(mcs_sizes / pair_max_sizes)\n",
    "plt.colorbar()"
   ]
  },
  {
   "cell_type": "code",
   "execution_count": null,
   "metadata": {
    "ExecuteTime": {
     "end_time": "2019-03-31T17:19:55.363126Z",
     "start_time": "2019-03-31T17:19:55.360175Z"
    }
   },
   "outputs": [],
   "source": [
    "affinities = mcs_sizes / pair_max_sizes"
   ]
  },
  {
   "cell_type": "code",
   "execution_count": null,
   "metadata": {
    "ExecuteTime": {
     "end_time": "2019-03-31T17:24:16.164696Z",
     "start_time": "2019-03-31T17:24:15.414082Z"
    }
   },
   "outputs": [],
   "source": [
    "from sklearn.cluster.bicluster import SpectralBiclustering\n",
    "bic = SpectralBiclustering(n_clusters=6)\n",
    "bic.fit(affinities)\n",
    "inds = np.argsort(bic.column_labels_)\n",
    "plt.imshow(affinities[inds][:,inds])\n",
    "plt.colorbar()"
   ]
  },
  {
   "cell_type": "code",
   "execution_count": null,
   "metadata": {
    "ExecuteTime": {
     "end_time": "2019-03-31T17:19:59.836781Z",
     "start_time": "2019-03-31T17:19:58.878647Z"
    }
   },
   "outputs": [],
   "source": [
    "plt.scatter(affinities.flatten(), np.abs(Deltas).flatten(), s=1)"
   ]
  },
  {
   "cell_type": "code",
   "execution_count": null,
   "metadata": {
    "ExecuteTime": {
     "end_time": "2019-03-31T17:20:04.563812Z",
     "start_time": "2019-03-31T17:20:04.064538Z"
    }
   },
   "outputs": [],
   "source": [
    "plt.hexbin(affinities.flatten(), np.abs(Deltas).flatten(),bins='log', cmap='Blues')"
   ]
  },
  {
   "cell_type": "code",
   "execution_count": null,
   "metadata": {
    "ExecuteTime": {
     "end_time": "2019-03-31T17:22:28.673354Z",
     "start_time": "2019-03-31T17:22:27.914653Z"
    }
   },
   "outputs": [],
   "source": [
    "plt.hexbin(affinities.flatten(), Deltas.flatten(),bins='log', cmap='Blues')\n",
    "plt.xlabel('|MCS(m1,m2)| / max(|m1|, |m2|)')\n",
    "plt.ylabel(r'$\\Delta G_{hyd}(m_1) - \\Delta G_{hyd}(m_2)$')"
   ]
  },
  {
   "cell_type": "code",
   "execution_count": null,
   "metadata": {
    "ExecuteTime": {
     "end_time": "2019-03-31T17:43:54.942288Z",
     "start_time": "2019-03-31T17:43:51.585862Z"
    }
   },
   "outputs": [],
   "source": [
    "# find pareto front of MCS size and absolute value of Delta\n",
    "\n",
    "X = np.vstack([affinities.flatten(), np.abs(Deltas.flatten())]).T\n",
    "\n",
    "pareto_front = [0]\n",
    "\n",
    "for i in range(len(X)):\n",
    "    pareto_optimal = True\n",
    "    \n",
    "    for j in pareto_front:\n",
    "        if (X[j] > X[i]).all():\n",
    "            pareto_optimal = False\n",
    "            break\n",
    "    \n",
    "    if pareto_optimal:\n",
    "        pareto_front.append(i)"
   ]
  },
  {
   "cell_type": "code",
   "execution_count": null,
   "metadata": {
    "ExecuteTime": {
     "end_time": "2019-03-31T17:43:55.643242Z",
     "start_time": "2019-03-31T17:43:55.639346Z"
    }
   },
   "outputs": [],
   "source": [
    "len(pareto_front)"
   ]
  },
  {
   "cell_type": "code",
   "execution_count": null,
   "metadata": {
    "ExecuteTime": {
     "end_time": "2019-03-31T17:43:56.767202Z",
     "start_time": "2019-03-31T17:43:56.624834Z"
    }
   },
   "outputs": [],
   "source": [
    "plt.scatter(*X[pareto_front].T)"
   ]
  },
  {
   "cell_type": "code",
   "execution_count": null,
   "metadata": {
    "ExecuteTime": {
     "end_time": "2019-03-31T17:44:59.533869Z",
     "start_time": "2019-03-31T17:44:59.529021Z"
    }
   },
   "outputs": [],
   "source": [
    "np.max(np.abs(Deltas.flatten())[affinities.flatten() > 0.9])"
   ]
  },
  {
   "cell_type": "code",
   "execution_count": null,
   "metadata": {
    "ExecuteTime": {
     "end_time": "2019-03-31T17:47:33.427156Z",
     "start_time": "2019-03-31T17:47:33.062565Z"
    }
   },
   "outputs": [],
   "source": [
    "x_affinities = sorted(list(set(affinities.flatten())))[:-1]\n",
    "y_Deltas = [np.max(np.abs(Deltas.flatten())[affinities.flatten() > thresh]) for thresh in x_affinities]\n",
    "plt.scatter(x_affinities, np.abs(y_Deltas))\n"
   ]
  },
  {
   "cell_type": "code",
   "execution_count": null,
   "metadata": {
    "ExecuteTime": {
     "end_time": "2019-03-31T17:48:02.915907Z",
     "start_time": "2019-03-31T17:48:02.913582Z"
    }
   },
   "outputs": [],
   "source": [
    "# maybe instead of \"affinities\" say \"atoms not in common\"..."
   ]
  },
  {
   "cell_type": "code",
   "execution_count": null,
   "metadata": {
    "ExecuteTime": {
     "end_time": "2019-03-31T17:49:46.301527Z",
     "start_time": "2019-03-31T17:49:46.297082Z"
    }
   },
   "outputs": [],
   "source": [
    "atoms_not_in_common = pair_max_sizes - mcs_sizes\n",
    "np.min(atoms_not_in_common), np.max(atoms_not_in_common)"
   ]
  },
  {
   "cell_type": "code",
   "execution_count": null,
   "metadata": {
    "ExecuteTime": {
     "end_time": "2019-03-31T18:01:16.444753Z",
     "start_time": "2019-03-31T18:01:15.546895Z"
    }
   },
   "outputs": [],
   "source": [
    "x_atoms_not_in_common = sorted(list(set(atoms_not_in_common.flatten())))[1:]\n",
    "y_Deltas = [np.max(np.abs(Deltas.flatten())[atoms_not_in_common.flatten() < thresh]) for thresh in x_atoms_not_in_common]\n",
    "plt.scatter(x_atoms_not_in_common, np.abs(y_Deltas))\n",
    "plt.xlabel('atoms not in common')\n",
    "\n",
    "y_Deltas = [np.max(np.abs(OBC2_Deltas.flatten())[atoms_not_in_common.flatten() < thresh]) for thresh in x_atoms_not_in_common]\n",
    "plt.scatter(x_atoms_not_in_common, np.abs(y_Deltas))\n",
    "\n",
    "y_Deltas = [np.max(np.abs(predicted_Deltas.flatten())[atoms_not_in_common.flatten() < thresh]) for thresh in x_atoms_not_in_common]\n",
    "plt.scatter(x_atoms_not_in_common, np.abs(y_Deltas))"
   ]
  },
  {
   "cell_type": "code",
   "execution_count": null,
   "metadata": {
    "ExecuteTime": {
     "end_time": "2019-03-31T17:56:06.779449Z",
     "start_time": "2019-03-31T17:56:06.602238Z"
    }
   },
   "outputs": [],
   "source": [
    "x_atoms_not_in_common = sorted(list(set(atoms_not_in_common.flatten())))[1:]\n",
    "y_Deltas = [np.max(np.abs(Deltas.flatten())[atoms_not_in_common.flatten() < thresh]) for thresh in x_atoms_not_in_common]\n",
    "plt.scatter(x_atoms_not_in_common, np.abs(y_Deltas))\n",
    "plt.xlabel('atoms not in common')\n",
    "plt.xlim(0,6.5)"
   ]
  },
  {
   "cell_type": "code",
   "execution_count": null,
   "metadata": {
    "ExecuteTime": {
     "end_time": "2019-03-31T17:55:42.344506Z",
     "start_time": "2019-03-31T17:55:42.340847Z"
    }
   },
   "outputs": [],
   "source": [
    "y_Deltas"
   ]
  },
  {
   "cell_type": "code",
   "execution_count": null,
   "metadata": {
    "ExecuteTime": {
     "end_time": "2019-03-31T18:08:23.901814Z",
     "start_time": "2019-03-31T18:08:23.896384Z"
    }
   },
   "outputs": [],
   "source": [
    "i_s, j_s = np.where(Deltas == 7.18)"
   ]
  },
  {
   "cell_type": "code",
   "execution_count": null,
   "metadata": {
    "ExecuteTime": {
     "end_time": "2019-03-31T18:08:50.742171Z",
     "start_time": "2019-03-31T18:08:50.737862Z"
    }
   },
   "outputs": [],
   "source": [
    "expt_means[test_inds][i_s] - expt_means[test_inds][j_s]"
   ]
  },
  {
   "cell_type": "code",
   "execution_count": null,
   "metadata": {
    "ExecuteTime": {
     "end_time": "2019-03-31T18:13:33.567294Z",
     "start_time": "2019-03-31T18:13:33.562886Z"
    }
   },
   "outputs": [],
   "source": [
    "atoms_not_in_common[i_s, j_s]"
   ]
  },
  {
   "cell_type": "code",
   "execution_count": null,
   "metadata": {
    "ExecuteTime": {
     "end_time": "2019-03-31T18:09:38.017206Z",
     "start_time": "2019-03-31T18:09:38.014507Z"
    }
   },
   "outputs": [],
   "source": [
    "z = np.argmin(atoms_not_in_common[i_s, j_s])\n",
    "i,j = i_s[z], j_s[z]"
   ]
  },
  {
   "cell_type": "code",
   "execution_count": null,
   "metadata": {
    "ExecuteTime": {
     "end_time": "2019-03-31T18:11:08.489735Z",
     "start_time": "2019-03-31T18:11:08.485219Z"
    }
   },
   "outputs": [],
   "source": [
    "smiles_i, smiles_j = mols[test_inds[i]].smiles, mols[test_inds[j]].smiles\n",
    "smiles_i, smiles_j"
   ]
  },
  {
   "cell_type": "code",
   "execution_count": null,
   "metadata": {
    "ExecuteTime": {
     "end_time": "2019-03-31T18:13:09.523629Z",
     "start_time": "2019-03-31T18:13:09.518065Z"
    }
   },
   "outputs": [],
   "source": [
    "print('ClC1')"
   ]
  },
  {
   "cell_type": "code",
   "execution_count": null,
   "metadata": {
    "ExecuteTime": {
     "end_time": "2019-03-31T18:10:30.836449Z",
     "start_time": "2019-03-31T18:10:30.832347Z"
    }
   },
   "outputs": [],
   "source": [
    "test_inds[i], test_inds[j]"
   ]
  },
  {
   "cell_type": "code",
   "execution_count": null,
   "metadata": {
    "ExecuteTime": {
     "end_time": "2019-03-31T18:11:23.496869Z",
     "start_time": "2019-03-31T18:11:23.493108Z"
    }
   },
   "outputs": [],
   "source": [
    "from bayes_implicit_solvent.freesolv import smiles_to_cid\n",
    "smiles_to_cid[smiles_i], smiles_to_cid[smiles_j]"
   ]
  },
  {
   "cell_type": "code",
   "execution_count": null,
   "metadata": {},
   "outputs": [],
   "source": []
  },
  {
   "cell_type": "code",
   "execution_count": null,
   "metadata": {
    "ExecuteTime": {
     "end_time": "2019-03-31T17:53:55.461766Z",
     "start_time": "2019-03-31T17:53:55.293008Z"
    }
   },
   "outputs": [],
   "source": [
    "x_atoms_not_in_common = sorted(list(set(atoms_not_in_common.flatten())))[:-1]\n",
    "y_Deltas = [np.min(np.abs(Deltas.flatten())[atoms_not_in_common.flatten() > thresh]) for thresh in x_atoms_not_in_common]\n",
    "plt.scatter(x_atoms_not_in_common, np.abs(y_Deltas))\n",
    "plt.xlabel('atoms not in common')\n"
   ]
  },
  {
   "cell_type": "code",
   "execution_count": null,
   "metadata": {
    "ExecuteTime": {
     "end_time": "2019-03-31T17:52:07.933832Z",
     "start_time": "2019-03-31T17:52:07.929906Z"
    }
   },
   "outputs": [],
   "source": [
    "x_atoms_not_in_common"
   ]
  },
  {
   "cell_type": "code",
   "execution_count": null,
   "metadata": {
    "ExecuteTime": {
     "end_time": "2019-03-31T17:30:26.890241Z",
     "start_time": "2019-03-31T17:30:26.886549Z"
    }
   },
   "outputs": [],
   "source": [
    "X[0]"
   ]
  },
  {
   "cell_type": "code",
   "execution_count": null,
   "metadata": {
    "ExecuteTime": {
     "end_time": "2019-03-31T17:28:54.613863Z",
     "start_time": "2019-03-31T17:28:54.608144Z"
    }
   },
   "outputs": [],
   "source": [
    "np.vstack([affinities.flatten(), np.abs(Deltas.flatten())]).T.shape"
   ]
  },
  {
   "cell_type": "code",
   "execution_count": null,
   "metadata": {
    "ExecuteTime": {
     "end_time": "2019-03-31T17:20:10.432110Z",
     "start_time": "2019-03-31T17:20:09.947667Z"
    }
   },
   "outputs": [],
   "source": [
    "plt.hexbin(affinities.flatten(), OBC2_Deltas.flatten(),bins='log', cmap='Blues')"
   ]
  },
  {
   "cell_type": "code",
   "execution_count": null,
   "metadata": {
    "ExecuteTime": {
     "end_time": "2019-03-31T17:23:06.274976Z",
     "start_time": "2019-03-31T17:23:05.771494Z"
    }
   },
   "outputs": [],
   "source": [
    "plt.hexbin(mcs_sizes.flatten(), Deltas.flatten(),bins='log', cmap='Blues')\n",
    "plt.xlabel('|MCS(m1,m2)|')\n",
    "plt.ylabel(r'$\\Delta G_{hyd}(m_1) - \\Delta G_{hyd}(m_2)$')"
   ]
  },
  {
   "cell_type": "code",
   "execution_count": null,
   "metadata": {},
   "outputs": [],
   "source": []
  }
 ],
 "metadata": {
  "kernelspec": {
   "display_name": "Python 3",
   "language": "python",
   "name": "python3"
  },
  "language_info": {
   "codemirror_mode": {
    "name": "ipython",
    "version": 3
   },
   "file_extension": ".py",
   "mimetype": "text/x-python",
   "name": "python",
   "nbconvert_exporter": "python",
   "pygments_lexer": "ipython3",
   "version": "3.7.1"
  }
 },
 "nbformat": 4,
 "nbformat_minor": 2
}
