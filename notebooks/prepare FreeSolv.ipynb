{
 "cells": [
  {
   "cell_type": "code",
   "execution_count": 1,
   "metadata": {},
   "outputs": [],
   "source": [
    "path = \"../../../MSKCC/Chodera Lab/feedstock/FreeSolv-0.51/database.txt\"\n",
    "from pickle import load\n",
    "with open(path, 'r') as f:\n",
    "    freesolv = f.read()\n",
    "from tqdm import tqdm"
   ]
  },
  {
   "cell_type": "code",
   "execution_count": 2,
   "metadata": {},
   "outputs": [
    {
     "name": "stdout",
     "output_type": "stream",
     "text": [
      "[(0, '# compound id (and file prefix)'), (1, 'SMILES'), (2, 'iupac name (or alternative if IUPAC is unavailable or not parseable by OEChem)'), (3, 'experimental value (kcal/mol)'), (4, 'experimental uncertainty (kcal/mol)'), (5, 'Mobley group calculated value (GAFF) (kcal/mol)'), (6, 'calculated uncertainty (kcal/mol)'), (7, 'experimental reference (original or paper this value was taken from)'), (8, 'calculated reference'), (9, 'text notes.')]\n"
     ]
    }
   ],
   "source": [
    "legend = freesolv.split('\\n')[2].split('; ')\n",
    "print(list(zip(range(len(legend)), legend)))"
   ]
  },
  {
   "cell_type": "code",
   "execution_count": 3,
   "metadata": {},
   "outputs": [],
   "source": [
    "db = []\n",
    "for entry in freesolv.split('\\n')[3:-1]:\n",
    "    db.append(entry.split('; '))"
   ]
  },
  {
   "cell_type": "code",
   "execution_count": 4,
   "metadata": {},
   "outputs": [],
   "source": [
    "smiles_list = [entry[1] for entry in db]"
   ]
  },
  {
   "cell_type": "code",
   "execution_count": 5,
   "metadata": {},
   "outputs": [
    {
     "data": {
      "text/plain": [
       "['S',\n",
       " 'N',\n",
       " 'C',\n",
       " 'CO',\n",
       " 'CC',\n",
       " 'CI',\n",
       " 'CS',\n",
       " 'CN',\n",
       " 'NN',\n",
       " 'CF',\n",
       " 'CCI',\n",
       " 'CCS',\n",
       " 'CCC',\n",
       " 'C=O',\n",
       " 'CCO',\n",
       " 'CCN',\n",
       " 'CCl',\n",
       " 'CNC',\n",
       " 'C=C',\n",
       " 'COC',\n",
       " 'CBr',\n",
       " 'CSC',\n",
       " 'CCCI',\n",
       " 'CCCS',\n",
       " 'CCCC',\n",
       " 'CC=O',\n",
       " 'CCSC',\n",
       " 'CCCl',\n",
       " 'CC=C',\n",
       " 'CCCO',\n",
       " 'CCOC',\n",
       " 'CC#N',\n",
       " 'CSSC',\n",
       " 'CC#C',\n",
       " 'CCCN',\n",
       " 'CCBr',\n",
       " 'CCCCO',\n",
       " 'CCOCC',\n",
       " 'CCCCS',\n",
       " 'CCC=C',\n",
       " 'COC=O',\n",
       " 'CCCCl',\n",
       " 'CCCOC',\n",
       " 'C1CC1',\n",
       " 'COCOC',\n",
       " 'CCC#N',\n",
       " 'CCSCC',\n",
       " 'CCCCC',\n",
       " 'COCCO',\n",
       " 'C=CCl',\n",
       " 'CCC=O',\n",
       " 'C(I)I',\n",
       " 'COCCN',\n",
       " 'CCCBr',\n",
       " 'C=CCO',\n",
       " 'CCNCC',\n",
       " 'CCCCI',\n",
       " 'CCC#C',\n",
       " 'CCCCN',\n",
       " 'CC(C)I',\n",
       " 'CCOC=O',\n",
       " 'CCCCBr',\n",
       " 'CC(F)F',\n",
       " 'C(F)Cl',\n",
       " 'CCCCCl',\n",
       " 'CCCC=C',\n",
       " 'CCCC#C',\n",
       " 'COCCOC',\n",
       " 'C(CO)O',\n",
       " 'C=CC=C',\n",
       " 'CC(C)C',\n",
       " 'CCCCCO',\n",
       " 'CCSSCC',\n",
       " 'C1CNC1',\n",
       " 'CCCCCC',\n",
       " 'C=CCCl',\n",
       " 'CCCCCN',\n",
       " 'CC(C)O',\n",
       " 'CCCC#N',\n",
       " 'CCCCCI',\n",
       " 'CCCC=O',\n",
       " 'CN(C)C',\n",
       " 'CCOCCO',\n",
       " 'CC(C)Cl',\n",
       " 'CCCCC#C',\n",
       " 'CCC(C)C',\n",
       " 'CCCCCCl',\n",
       " 'CC(C)CO',\n",
       " 'CCCNCCC',\n",
       " 'c1ccsc1',\n",
       " 'CC(=C)C',\n",
       " 'CC(=O)O',\n",
       " 'CC(C)OC',\n",
       " 'CCCCCCO',\n",
       " 'CCCCCBr',\n",
       " 'C(Cl)Cl',\n",
       " 'CC(=O)C',\n",
       " 'CCCOCCO',\n",
       " 'CCCCC#N',\n",
       " 'CCCSCCC',\n",
       " 'CCCCC=C',\n",
       " 'CCCCCCN',\n",
       " 'CCCCCCI',\n",
       " 'C1CCNC1',\n",
       " 'CCCOCCC',\n",
       " 'C1CCCC1',\n",
       " 'CC(=O)N',\n",
       " 'CCCCC=O',\n",
       " 'CS(=O)C',\n",
       " 'CCCCCCC',\n",
       " 'CCCOC=O',\n",
       " 'C1CCOC1',\n",
       " 'C=CCC=C',\n",
       " 'C(Br)Br',\n",
       " 'CC(C)Br',\n",
       " 'C1COCCN1',\n",
       " 'C(CBr)Br',\n",
       " 'CCCCCC=O',\n",
       " 'C(CCl)Cl',\n",
       " 'CCCCCCCl',\n",
       " 'CC(=O)NC',\n",
       " 'CC(C)C=C',\n",
       " 'CCC(C)CC',\n",
       " 'C1CCCCC1',\n",
       " 'c1ccncc1',\n",
       " 'c1ccccc1',\n",
       " 'CCCCCCCC',\n",
       " 'C1CCOCC1',\n",
       " 'Cn1cccc1',\n",
       " 'CC(=O)OC',\n",
       " 'CC(Cl)Cl',\n",
       " 'CCOCCOCC',\n",
       " 'CCCCCCCI',\n",
       " 'CCCCCC=C',\n",
       " 'CCCCCC#C',\n",
       " 'CCCCCCCO',\n",
       " 'Cn1ccnc1',\n",
       " 'CC(C)C=O',\n",
       " 'C=CCCC=C',\n",
       " 'CC1CCCC1',\n",
       " 'CCCCOCCO',\n",
       " 'CC(C)CCO',\n",
       " 'CC(C)CBr',\n",
       " 'C1CCNCC1',\n",
       " 'C1COCCO1',\n",
       " 'CCCC(C)C',\n",
       " 'CCCCCCCN',\n",
       " 'CCC(CC)O',\n",
       " 'CCC(=O)O',\n",
       " 'C(CBr)Cl',\n",
       " 'CC=C(C)C',\n",
       " 'CN(C)C=O',\n",
       " 'CCC(=O)N',\n",
       " 'C1CC=CC1',\n",
       " 'CC/C=C\\\\C',\n",
       " 'CCCCCCBr',\n",
       " 'C1CNCCN1',\n",
       " 'Cc1cccs1',\n",
       " 'CCC(=O)OC',\n",
       " 'CC(C)(C)C',\n",
       " 'CCCCOCCCC',\n",
       " 'Cc1ccncc1',\n",
       " 'CC(C)(C)O',\n",
       " 'Cc1ccccc1',\n",
       " 'CCC(=O)CC',\n",
       " 'CCCC(=O)C',\n",
       " 'CCCC(=C)C',\n",
       " 'COC(OC)OC',\n",
       " 'C=C(Cl)Cl',\n",
       " 'CCCCCCCBr',\n",
       " 'CN1CCNCC1',\n",
       " 'C1CCC=CC1',\n",
       " 'CCCCCCCCO',\n",
       " 'CCCCC(C)C',\n",
       " 'Cc1ccccn1',\n",
       " 'CCCCCCCCC',\n",
       " 'Cc1cccnc1',\n",
       " 'CCCCCCCCN',\n",
       " 'CN1CCCCC1',\n",
       " 'C/C=C/C=O',\n",
       " 'CC(C)OC=O',\n",
       " 'CCOC(=O)C',\n",
       " 'CCCCCCCCl',\n",
       " 'CCCCCCC=O',\n",
       " 'CCCCNCCCC',\n",
       " 'CCCC(=O)O',\n",
       " 'C(F)(F)Cl',\n",
       " 'CCN(CC)CC',\n",
       " 'CCCCCCC#C',\n",
       " 'CN1CCOCC1',\n",
       " 'CC(=C)C=C',\n",
       " 'Cc1cnccn1',\n",
       " 'CC1CCCCC1',\n",
       " 'CCCCCCC=C',\n",
       " 'C(CCl)CCl',\n",
       " 'CSc1ccccc1',\n",
       " 'CCCCCCCCCC',\n",
       " 'Cc1ccncc1C',\n",
       " 'CCCCC(=O)C',\n",
       " 'c1cc[nH]c1',\n",
       " 'Cc1ccccc1N',\n",
       " 'C(C(CO)O)O',\n",
       " 'CCCCCCCCCO',\n",
       " 'CCOC(C)OCC',\n",
       " 'CCCCCCCC=C',\n",
       " 'Cc1ccccc1O',\n",
       " 'CC(C)C(C)C',\n",
       " 'CCCCCCCC=O',\n",
       " 'CCCCC(=O)O',\n",
       " 'CCc1cccnc1',\n",
       " 'CCc1cnccn1',\n",
       " 'C(CCCl)CCl',\n",
       " 'CCCC(=O)OC',\n",
       " 'CCC(C)(C)C',\n",
       " 'CCc1ccncc1',\n",
       " 'CCCC1CCCC1',\n",
       " 'CC1=CCCCC1',\n",
       " 'COC(=O)CCl',\n",
       " 'CCc1ccccn1',\n",
       " 'CC(C)(C)Cl',\n",
       " 'COc1ccccc1',\n",
       " 'CC(C)COC=O',\n",
       " 'CCCOC(=O)C',\n",
       " 'c1cnc[nH]1',\n",
       " 'CC(C)(C)Br',\n",
       " 'CNc1ccccc1',\n",
       " 'CCC(=O)OCC',\n",
       " 'CCc1ccccc1',\n",
       " 'CCCC/C=C/C',\n",
       " 'Cc1cccnc1C',\n",
       " 'C1CCC(C1)O',\n",
       " 'CCCCCCCCBr',\n",
       " 'Cc1ccccc1C',\n",
       " 'CC(C)(C)OC',\n",
       " 'CCC(C)(C)O',\n",
       " 'C1CCC(CC1)N',\n",
       " 'CC(C)OC(C)C',\n",
       " 'CS(=O)(=O)C',\n",
       " 'CCCC(=O)OCC',\n",
       " 'CCCCCC(=O)O',\n",
       " 'Cc1ccccc1Cl',\n",
       " 'CC[C@H](C)O',\n",
       " 'CC(=O)C1CC1',\n",
       " 'CCCCCCCCC=O',\n",
       " 'c1ccc(cc1)O',\n",
       " 'CCc1ccccc1O',\n",
       " 'CCCCC(=O)OC',\n",
       " 'CCCCOC(=O)C',\n",
       " 'CCCC(=O)CCC',\n",
       " 'CCCC(C)(C)C',\n",
       " 'CCC(C)(C)CC',\n",
       " 'CCOc1ccccc1',\n",
       " 'CCC/C=C/C=O',\n",
       " 'C=Cc1ccccc1',\n",
       " 'C(Cl)(Cl)Cl',\n",
       " 'CCc1ccccc1C',\n",
       " 'CCCCCCCCCCO',\n",
       " 'c1ccc(cc1)I',\n",
       " 'CCCC(C)(C)O',\n",
       " 'COc1ccccc1O',\n",
       " 'CCCCCC(=O)C',\n",
       " 'C1CCC(=O)C1',\n",
       " 'C(=C\\\\Cl)\\\\Cl',\n",
       " 'c1ccc(cc1)F',\n",
       " 'C(CCl)OCCCl',\n",
       " 'c1ccc(cc1)N',\n",
       " 'CC(C)CCOC=O',\n",
       " 'c1cnccc1C#N',\n",
       " 'COc1ccccc1N',\n",
       " 'c1ccc(cc1)S',\n",
       " 'Cc1c[nH]cn1',\n",
       " 'CCCOC(=O)CC',\n",
       " 'CCCc1ccccc1',\n",
       " 'C(F)(F)(F)F',\n",
       " 'C1CCC(CC1)O',\n",
       " 'CCCCCC(=O)N',\n",
       " 'C(Br)(Br)Br',\n",
       " 'CC(C)CC(C)C',\n",
       " 'CC(C)NC(C)C',\n",
       " 'CC(C)C(=O)C',\n",
       " 'c1cnccc1C=O',\n",
       " 'COC(=O)CC#N',\n",
       " 'C(=C/Cl)\\\\Cl',\n",
       " 'CC(C)SC(C)C',\n",
       " 'CCCCCC(=O)OC',\n",
       " 'C1CCCC(CC1)O',\n",
       " 'C(C(Cl)Cl)Cl',\n",
       " 'Cc1cc(cnc1)C',\n",
       " 'Cc1cccc(c1)C',\n",
       " 'CCCCCC1CCCC1',\n",
       " 'COc1ccccc1OC',\n",
       " 'c1cc(cnc1)Cl',\n",
       " 'Cc1ccc(cc1)O',\n",
       " 'CC(C)CC(=O)O',\n",
       " 'C(C(F)(F)F)O',\n",
       " 'Cc1ccc(cc1)C',\n",
       " 'C1CCC(=O)CC1',\n",
       " 'CCCC(=O)OCCC',\n",
       " 'CC(Cl)(Cl)Cl',\n",
       " 'CN1CCN(CC1)C',\n",
       " 'c1ccnc(c1)Cl',\n",
       " 'Cc1cccc(n1)C',\n",
       " 'COC(=O)C1CC1',\n",
       " 'CS(=O)(=O)Cl',\n",
       " 'C[C@H]1CCCO1',\n",
       " 'c1ccc(cc1)CO',\n",
       " 'CC(OC)(OC)OC',\n",
       " 'Cc1ccc(cc1)N',\n",
       " 'CC[C@H](C)Cl',\n",
       " 'CCCCC(=O)OCC',\n",
       " 'CC(C)OC(=O)C',\n",
       " 'CCOCCOC(=O)C',\n",
       " 'c1ccc(cc1)Br',\n",
       " 'c1ccc(cc1)Cl',\n",
       " 'C(F)(F)(F)Br',\n",
       " 'CC(C)CC(=O)C',\n",
       " 'CCCCCOC(=O)C',\n",
       " 'c1cc(ccc1O)F',\n",
       " 'Cc1cccc(c1)O',\n",
       " 'CCCCc1ccccc1',\n",
       " 'Cc1ccnc(c1)C',\n",
       " 'Cc1ccccc1C=O',\n",
       " 'CC(=C)C(=C)C',\n",
       " 'CC1CCC(CC1)C',\n",
       " 'COS(=O)(=O)C',\n",
       " 'CCCCCCC(=O)C',\n",
       " 'Cc1ccc(nc1)C',\n",
       " 'C1C=CC=CC=C1',\n",
       " 'CCCCCCCC(=O)C',\n",
       " 'Cc1cccc(c1C)O',\n",
       " 'CCCCCC(=O)OCC',\n",
       " 'c1cc(ccc1O)Br',\n",
       " 'Cc1cccc(c1O)C',\n",
       " 'c1ccc(cc1)CCO',\n",
       " 'c1ccc(cc1)CBr',\n",
       " 'C[N+](=O)[O-]',\n",
       " 'CCc1cccc(c1)O',\n",
       " 'c1ccc(cc1)C#N',\n",
       " 'COc1cccc(c1)O',\n",
       " 'c1ccc(cc1)CCl',\n",
       " 'CCCCCCOC(=O)C',\n",
       " 'CC(=O)N1CCCC1',\n",
       " 'CCC[C@@H](C)O',\n",
       " 'CCc1ccc(cc1)O',\n",
       " 'CCCCC(=O)CCCC',\n",
       " 'Cc1cccc(c1C)C',\n",
       " 'CCCCCc1ccccc1',\n",
       " 'CCCCCOC(=O)CC',\n",
       " 'c1ccc(cc1)C=O',\n",
       " 'COc1ccc(cc1)N',\n",
       " 'Cc1ccc(cc1)Br',\n",
       " 'CN(C)c1ccccc1',\n",
       " 'CC(C)c1ccccc1',\n",
       " 'Cc1cccc(c1N)C',\n",
       " 'COS(=O)(=O)OC',\n",
       " 'CCCCC/C=C/C=O',\n",
       " 'COP(=O)(OC)OC',\n",
       " 'c1cc(cnc1)C=O',\n",
       " 'Cc1ccc(cc1C)O',\n",
       " 'c1cc(ccc1O)Cl',\n",
       " 'COc1cccc(c1)N',\n",
       " 'C(=C(Cl)Cl)Cl',\n",
       " 'CCC[C@H](CC)O',\n",
       " 'CC[C@@H](C)CO',\n",
       " 'C(C(F)(F)F)Cl',\n",
       " 'CC(C)COC(=O)C',\n",
       " 'c1cc(ccc1N)Cl',\n",
       " 'c1cc(cnc1)C#N',\n",
       " 'CCC[C@H](C)CC',\n",
       " 'CCc1ccc(cc1)C',\n",
       " 'c1ccc(cc1)OC=O',\n",
       " 'CC(C)CC(C)(C)C',\n",
       " 'CC(=O)C1CCCCC1',\n",
       " 'c1cc(ccc1C#N)O',\n",
       " 'CC(C)Cc1cnccn1',\n",
       " 'c1ccc2ccccc2c1',\n",
       " 'COC(CCl)(OC)OC',\n",
       " 'CC(=C)c1ccccc1',\n",
       " 'CC(C)C(C)C(C)C',\n",
       " 'CC(C)Cc1ccccc1',\n",
       " 'Cc1cc(ccc1Cl)O',\n",
       " 'c1cc(ccc1Cl)Cl',\n",
       " 'CCCc1ccc(cc1)O',\n",
       " 'C[C@@H](CCl)Cl',\n",
       " 'CC(=O)C(C)(C)C',\n",
       " 'CC(C)CCOC(=O)C',\n",
       " 'COCC(OC)(OC)OC',\n",
       " 'CCCCCCc1ccccc1',\n",
       " 'Cc1ccc(cc1)C=O',\n",
       " 'CC(=O)c1cccnc1',\n",
       " 'CC(=O)c1ccncc1',\n",
       " 'c1cc(ccc1Br)Br',\n",
       " 'c1ccc(c(c1)O)F',\n",
       " 'c1ccc(cc1)CCCO',\n",
       " 'CC(=O)c1ccccc1',\n",
       " 'CCCCCCCC(=O)OC',\n",
       " 'c1cc(ccc1C=O)O',\n",
       " 'CC[N+](=O)[O-]',\n",
       " 'c1ccc(c(c1)O)I',\n",
       " 'CCCCCCCCC(=O)C',\n",
       " 'c1ccc(c(c1)O)Cl',\n",
       " 'CC(C)(C)C(=O)OC',\n",
       " 'Cc1cc(cc(c1)C)C',\n",
       " 'CC(C)CCC(C)(C)C',\n",
       " 'Cc1ccc(c(c1)O)C',\n",
       " 'c1ccc(c(c1)N)Cl',\n",
       " 'Cc1ccc(c(c1)C)C',\n",
       " 'COC(=O)c1ccccc1',\n",
       " 'CC(C)C(=O)C(C)C',\n",
       " 'Cc1ccc(c(c1)C)O',\n",
       " 'COc1cccc(c1O)OC',\n",
       " 'c1ccc2c(c1)CCC2',\n",
       " 'C[C@H](CC(C)C)O',\n",
       " 'c1cc(cc(c1)Cl)N',\n",
       " 'C(Cl)(Cl)(Cl)Cl',\n",
       " 'CCCC[C@@H](C)CC',\n",
       " 'COC(=O)C1CCCCC1',\n",
       " 'Cc1cc(cc(c1)O)C',\n",
       " 'CCCCCCCCCC(=O)C',\n",
       " 'CC[C@H](C(C)C)O',\n",
       " 'CCCCOC[C@H](C)O',\n",
       " 'c1cc(cc(c1)Cl)O',\n",
       " 'COC(CC#N)(OC)OC',\n",
       " 'COC(=O)C(F)(F)F',\n",
       " 'Cc1cccc2c1cccc2',\n",
       " 'CCC[N+](=O)[O-]',\n",
       " 'c1cc(cc(c1)Cl)Cl',\n",
       " 'CCOP(=O)(OCC)OCC',\n",
       " 'Cc1ccc(cc1)C(C)C',\n",
       " 'c1ccc(cc1)C(=O)N',\n",
       " 'C(C(Cl)(Cl)Cl)Cl',\n",
       " 'c1ccc(c(c1)Cl)Cl',\n",
       " 'c1cc(cc(c1)O)C#N',\n",
       " 'c1ccc(c(c1)C=O)O',\n",
       " 'CC(=O)OCCOC(=O)C',\n",
       " 'C1=CC(=O)C=CC1=O',\n",
       " 'CCOC(=O)c1ccccc1',\n",
       " 'CC(=O)OCCOC(=O)C',\n",
       " 'CCc1cccc2c1cccc2',\n",
       " 'COC(C(Cl)Cl)(F)F',\n",
       " 'Cc1cc2ccccc2cc1C',\n",
       " 'c1ccc2c(c1)cccn2',\n",
       " 'Cc1ccc(c(c1)OC)O',\n",
       " 'CCCC[N+](=O)[O-]',\n",
       " 'C(C(Cl)Cl)(Cl)Cl',\n",
       " 'c1cc(cc(c1)O)C=O',\n",
       " 'CC(C)(C)c1ccccc1',\n",
       " 'CC[C@@H](C)C(C)C',\n",
       " 'CCCCC[N+](=O)[O-]',\n",
       " 'Cc1c[nH]c2c1cccc2',\n",
       " 'CCOC(=O)CC(=O)OCC',\n",
       " 'c1ccc2cc(ccc2c1)N',\n",
       " 'Cc1ccc(cc1)C(=O)C',\n",
       " 'c1ccc2cc(ccc2c1)O',\n",
       " 'c1ccc2c(c1)cccc2N',\n",
       " 'C(=C(Cl)Cl)(Cl)Cl',\n",
       " 'CC(C)COC(=O)C(C)C',\n",
       " 'c1ccc2c(c1)cccc2O',\n",
       " 'CCCCO[N+](=O)[O-]',\n",
       " 'c1cc(c(cc1O)Cl)Cl',\n",
       " 'CC(C)[N+](=O)[O-]',\n",
       " 'C[C@H](C(F)(F)F)O',\n",
       " 'CCCCN(CC)C(=O)SCCC',\n",
       " 'CCOC(=O)CCC(=O)OCC',\n",
       " 'c1ccc(cc1)c2ccccc2',\n",
       " 'CC[C@H](C)c1ccccc1',\n",
       " 'COC(=O)c1ccc(cc1)O',\n",
       " 'c1c(cc(cc1Cl)Cl)Cl',\n",
       " 'CCCc1ccc(c(c1)OC)O',\n",
       " 'Cc1ccc(c2c1cccc2)C',\n",
       " 'CN(C)C(=O)c1ccccc1',\n",
       " 'CC(OC(=O)C)OC(=O)C',\n",
       " 'c1ccc(cc1)Cn2ccnc2',\n",
       " 'CCOC(OCC)Oc1ccccc1',\n",
       " 'Cc1ccc2cc(ccc2c1)C',\n",
       " 'Cc1cc(c2ccccc2c1)C',\n",
       " 'c1cc(ccc1N)N(=O)=O',\n",
       " 'C[C@@H](C(F)(F)F)O',\n",
       " 'CC(=O)c1ccc(cc1)OC',\n",
       " 'C(CO[N+](=O)[O-])O',\n",
       " 'c1cc(c(cc1Cl)Cl)Cl',\n",
       " 'CCCN(CCC)C(=O)SCCC',\n",
       " 'c1ccc(cc1)C(F)(F)F',\n",
       " 'CCOP(=S)(OCC)SCSCC',\n",
       " 'CC(C)CO[N+](=O)[O-]',\n",
       " 'COC(c1ccccc1)(OC)OC',\n",
       " 'CCCCCCO[N+](=O)[O-]',\n",
       " 'CCOC(=O)c1ccc(cc1)O',\n",
       " 'CC(C)(C)c1ccc(cc1)O',\n",
       " 'c1ccc(cc1)Oc2ccccc2',\n",
       " 'CN(C)C(=O)Nc1ccccc1',\n",
       " 'COC(C(F)(F)F)(OC)OC',\n",
       " 'COc1ccc(cc1)C(=O)OC',\n",
       " 'c1cc2cccc3c2c(c1)CC3',\n",
       " 'C(C(Cl)(Cl)Cl)(Cl)Cl',\n",
       " 'c1cc(c(c(c1)Cl)Cl)Cl',\n",
       " 'C[C@@H]1CCCC[C@@H]1C',\n",
       " 'CC(=O)CO[N+](=O)[O-]',\n",
       " 'C(=C(F)F)(C(F)(F)F)F',\n",
       " 'CCCOC(=O)c1ccc(cc1)O',\n",
       " 'c1ccc2cc3ccccc3cc2c1',\n",
       " 'CC1=CC(=O)CC(C1)(C)C',\n",
       " 'CC(=CCC/C(=C/CO)/C)C',\n",
       " 'CCNc1nc(nc(n1)Cl)NCC',\n",
       " 'C[C@H]1CC[C@@H](O1)C',\n",
       " 'c1ccc(cc1)c2ccccc2Cl',\n",
       " 'CC(=CCC/C(=C\\\\CO)/C)C',\n",
       " 'C(C(F)(Cl)Cl)(F)(F)Cl',\n",
       " 'Cc1ccc(cc1)C(=O)N(C)C',\n",
       " 'c1ccc2c(c1)C(=O)NC2=O',\n",
       " 'CC(=O)Oc1ccccc1C(=O)O',\n",
       " 'CN(CC(F)(F)F)c1ccccc1',\n",
       " 'C=C(c1ccccc1)c2ccccc2',\n",
       " 'Cc1ccccc1[N+](=O)[O-]',\n",
       " 'CCCCOC(=O)c1ccc(cc1)O',\n",
       " '[C@@H](C(F)(F)F)(F)Br',\n",
       " 'c1cc(c(c(c1)Cl)C#N)Cl',\n",
       " 'c1ccc2c(c1)Oc3ccccc3O2',\n",
       " 'c1c(cc(c(c1Cl)Cl)Cl)Cl',\n",
       " 'c1ccc2c(c1)Cc3ccccc3C2',\n",
       " 'c1ccc(cc1)[N+](=O)[O-]',\n",
       " 'c1cc(c(c(c1Cl)Cl)Cl)Cl',\n",
       " '[C@@H](C(F)(F)F)(Cl)Br',\n",
       " 'CC(C)(/C=N\\\\OC(=O)NC)SC',\n",
       " 'CN(C)C(=O)c1ccc(cc1)OC',\n",
       " 'c1c(c(cc(c1Cl)Cl)Cl)Cl',\n",
       " 'c1ccc2c(c1)ccc3c2cccc3',\n",
       " 'CNC(=O)Oc1cccc2c1cccc2',\n",
       " 'c1ccc-2c(c1)Cc3c2cccc3',\n",
       " 'c1cc(ccc1[N+](=O)[O-])O',\n",
       " 'CCNc1nc(nc(n1)SC)NC(C)C',\n",
       " 'C1CC[S+2](C1)([O-])[O-]',\n",
       " 'COc1c(cc(c(c1O)OC)Cl)Cl',\n",
       " 'Cc1cccc(c1)[N+](=O)[O-]',\n",
       " 'CC[C@H](C)O[N+](=O)[O-]',\n",
       " 'C(C(Cl)(Cl)Cl)(Cl)(Cl)Cl',\n",
       " 'COc1cc(c(c(c1O)OC)Cl)C=O',\n",
       " 'c1c(=O)[nH]c(=O)[nH]c1Cl',\n",
       " 'CC(=C)[C@H]1CCC(=CC1)C=O',\n",
       " 'COc1c(ccc(c1C(=O)O)Cl)Cl',\n",
       " 'c1ccc(cc1)c2cc(ccc2Cl)Cl',\n",
       " 'CCC(=O)Nc1ccc(c(c1)Cl)Cl',\n",
       " 'C([N+](=O)[O-])(Cl)(Cl)Cl',\n",
       " 'c1c(c(=O)[nH]c(=O)[nH]1)I',\n",
       " 'c1c(c(=O)[nH]c(=O)[nH]1)F',\n",
       " 'c1cc(cc(c1)[N+](=O)[O-])N',\n",
       " 'c1ccc(c(c1)[N+](=O)[O-])O',\n",
       " 'c1ccc(c(c1)N)[N+](=O)[O-]',\n",
       " 'c1ccc(cc1)O[C@@H](C(F)F)F',\n",
       " 'c1cc(cc(c1)O)[N+](=O)[O-]',\n",
       " '[C@@H](C(F)(F)F)(OC(F)F)Cl',\n",
       " 'c1cc2ccc3cccc4c3c2c(c1)cc4',\n",
       " 'c1c(c(=O)[nH]c(=O)[nH]1)Br',\n",
       " 'c1ccc2c(c1)Oc3ccc(cc3O2)Cl',\n",
       " 'CC(=O)OCC(COC(=O)C)OC(=O)C',\n",
       " 'CCNc1nc(nc(n1)SC)NC(C)(C)C',\n",
       " 'c1ccc2c(c1)Oc3cccc(c3O2)Cl',\n",
       " 'Cn1cnc2c1c(=O)n(c(=O)n2C)C',\n",
       " 'CC1=CC(=O)[C@@H](CC1)C(C)C',\n",
       " 'c1c(c(=O)[nH]c(=O)[nH]1)Cl',\n",
       " 'CN(C)CCOC(c1ccccc1)c2ccccc2',\n",
       " 'Cc1cccc(c1C)Nc2ccccc2C(=O)O',\n",
       " 'CC1(Cc2cccc(c2O1)OC(=O)NC)C',\n",
       " 'C[C@@H]1CC[C@H](CC1=O)C(=C)C',\n",
       " 'C1(C(C(C1(F)F)(F)F)(F)F)(F)F',\n",
       " 'CCOP(=S)(OCC)SCSc1ccc(cc1)Cl',\n",
       " 'c1cc2c(cc1Cl)Oc3ccc(cc3O2)Cl',\n",
       " 'c1cc(cc(c1)C(F)(F)F)C(F)(F)F',\n",
       " 'c1ccc(cc1)c2c(cc(cc2Cl)Cl)Cl',\n",
       " 'COc1c(c(c(c(c1Cl)C=O)Cl)OC)O',\n",
       " 'c1ccc(c(c1)C(F)(F)F)C(F)(F)F',\n",
       " 'CC(=CCC[C@](C)(C=C)OC(=O)C)C',\n",
       " 'CCc1cccc(c1N(COC)C(=O)CCl)CC',\n",
       " 'CC1=CC[C@H](C[C@@H]1O)C(=C)C',\n",
       " 'COC(=O)c1ccc(cc1)[N+](=O)[O-]',\n",
       " 'c1ccc(cc1)n2c(=O)c(c(cn2)N)Cl',\n",
       " 'C[C@@H]1CC[C@H](C(=O)C1)C(C)C',\n",
       " 'c1(=O)[nH]c(=O)[nH]c(=O)[nH]1',\n",
       " 'CCOP(=S)(OCC)SCSP(=S)(OCC)OCC',\n",
       " 'c1ccc2c(c1)Oc3cc(c(cc3O2)Cl)Cl',\n",
       " 'Cc1c(nc(nc1OC(=O)N(C)C)N(C)C)C',\n",
       " 'c1(c(c(c(c(c1Cl)Cl)Cl)Cl)Cl)Cl',\n",
       " 'C(CO[N+](=O)[O-])O[N+](=O)[O-]',\n",
       " 'CN(C)CCC=C1c2ccccc2CCc3c1cccc3',\n",
       " 'COP(=O)([C@H](C(Cl)(Cl)Cl)O)OC',\n",
       " 'COP(=S)(OC)SCn1c(=O)c2ccccc2nn1',\n",
       " 'C[C@@H](c1ccc(cc1)CC(C)C)C(=O)O',\n",
       " 'C(CO[N+](=O)[O-])CO[N+](=O)[O-]',\n",
       " 'c1ccc2c(c1)C(=O)c3ccc(cc3C2=O)N',\n",
       " 'c1cc(c(cc1c2ccc(cc2F)F)C(=O)O)O',\n",
       " 'c1ccc2c(c1)C(=O)c3cccc(c3C2=O)N',\n",
       " 'CCOP(=S)(OCC)Oc1cc(nc(n1)C(C)C)C',\n",
       " 'c1cc(c(c(c1)Cl)c2c(cccc2Cl)Cl)Cl',\n",
       " 'CN(C)C(=O)c1ccc(cc1)[N+](=O)[O-]',\n",
       " 'c1c(c(=O)[nH]c(=O)[nH]1)C(F)(F)F',\n",
       " 'c1ccc(cc1)c2cc(c(c(c2Cl)Cl)Cl)Cl',\n",
       " 'C[C@@H](c1ccc2cc(ccc2c1)OC)C(=O)O',\n",
       " 'C[C@@H]1CC[C@H]([C@@H](C1)O)C(C)C',\n",
       " 'COP(=S)(OC)Oc1ccc(cc1)[N+](=O)[O-]',\n",
       " 'CC[C@H](C)n1c(=O)c(c([nH]c1=O)C)Br',\n",
       " 'c1ccc2c(c1)C(=O)c3cccc(c3C2=O)NCCO',\n",
       " 'c1ccc2c(c1)C(=O)c3c(ccc(c3C2=O)N)N',\n",
       " 'Cc1c(c(=O)n(c(=O)[nH]1)C(C)(C)C)Cl',\n",
       " 'c1ccc2c(c1)C(=O)c3c(ccc(c3C2=O)O)N',\n",
       " 'CCOP(=S)(OCC)Oc1c(cc(c(n1)Cl)Cl)Cl',\n",
       " 'c1ccc2c(c1)Oc3c(cc(c(c3O2)Cl)Cl)Cl',\n",
       " 'c1(c(c(c(c(c1Cl)Cl)Cl)Cl)Cl)N(=O)=O',\n",
       " 'C[C@@H](c1ccc(c(c1)F)c2ccccc2)C(=O)O',\n",
       " 'c1cc2c(cc1Cl)Oc3cc(c(c(c3O2)Cl)Cl)Cl',\n",
       " 'c1c2c(cc(c1Cl)Cl)Oc3cc(c(cc3O2)Cl)Cl',\n",
       " 'C[C@@H](CO[N+](=O)[O-])O[N+](=O)[O-]',\n",
       " 'c1cc(c(c(c1)Cl)c2c(cc(cc2Cl)Cl)Cl)Cl',\n",
       " 'c1cc(c(cc1Cl)c2cc(c(c(c2)Cl)Cl)Cl)Cl',\n",
       " 'CCOC(=O)C[C@H](C(=O)OCC)SP(=S)(OC)OC',\n",
       " 'CCOP(=S)(OCC)Oc1ccc(cc1)[N+](=O)[O-]',\n",
       " 'C1[C@H]([C@@H]([C@H]([C@H](O1)O)O)O)O',\n",
       " 'C[C@@H](CCO[N+](=O)[O-])O[N+](=O)[O-]',\n",
       " 'c1cc(c(cc1c2cc(c(c(c2Cl)Cl)Cl)Cl)Cl)Cl',\n",
       " 'C[C@@H](c1cccc(c1)C(=O)c2ccccc2)C(=O)O',\n",
       " 'c1ccc2c(c1)Oc3c(c(c(c(c3Cl)Cl)Cl)Cl)O2',\n",
       " 'CCOP(=O)(OCC)O/C(=C/Cl)/c1ccc(cc1Cl)Cl',\n",
       " 'c1cc(c(cc1c2c(c(cc(c2Cl)Cl)Cl)Cl)Cl)Cl',\n",
       " 'c1cc2c(cc1Cl)Oc3c(c(c(c(c3Cl)Cl)Cl)Cl)O2',\n",
       " 'C([C@H]([C@H]([C@@H]([C@@H](CO)O)O)O)O)O',\n",
       " 'c1c(cc(c(c1Cl)Cl)Cl)c2cc(c(c(c2Cl)Cl)Cl)Cl',\n",
       " 'c1cc(c(c(c1c2cc(c(c(c2Cl)Cl)Cl)Cl)Cl)Cl)Cl',\n",
       " 'C1C=CC[C@@H]2[C@@H]1C(=O)N(C2=O)SC(Cl)(Cl)Cl',\n",
       " 'CCOP(=S)(OCC)S[C@@H](CCl)N1C(=O)c2ccccc2C1=O',\n",
       " 'c1c2c(cc(c1Cl)Cl)Oc3c(c(c(c(c3Cl)Cl)Cl)Cl)O2',\n",
       " 'c1c(c(c(c(c1Cl)Cl)Cl)Cl)c2c(cc(c(c2Cl)Cl)Cl)Cl',\n",
       " 'C([C@@H]1[C@H]([C@@H]([C@H]([C@@H](O1)O)O)O)O)O',\n",
       " 'CC[C@@H](C)c1cc(cc(c1O)[N+](=O)[O-])[N+](=O)[O-]',\n",
       " 'c12c(c(c(c(c1Cl)Cl)Cl)Cl)Oc3c(c(c(c(c3Cl)Cl)Cl)Cl)O2',\n",
       " 'CCCN(CCC)c1c(cc(cc1[N+](=O)[O-])C(F)(F)F)[N+](=O)[O-]',\n",
       " 'CCN(CC)c1c(cc(c(c1[N+](=O)[O-])N)C(F)(F)F)[N+](=O)[O-]',\n",
       " 'c1(c(c(c(c(c1Cl)Cl)Cl)Cl)Cl)c2c(c(c(c(c2Cl)Cl)Cl)Cl)Cl',\n",
       " 'CCCN(CCC)c1c(cc(cc1[N+](=O)[O-])S(=O)(=O)C)[N+](=O)[O-]',\n",
       " 'CCCC[N@](CC)c1c(cc(cc1[N+](=O)[O-])C(F)(F)F)[N+](=O)[O-]',\n",
       " 'CCC[N@@](CC1CC1)c2c(cc(cc2[N+](=O)[O-])C(F)(F)F)[N+](=O)[O-]',\n",
       " 'C1[C@@H]2[C@H](COS(=O)O1)[C@@]3(C(=C([C@]2(C3(Cl)Cl)Cl)Cl)Cl)Cl',\n",
       " 'C1=C[C@@H]([C@@H]2[C@H]1[C@@]3(C(=C([C@]2(C3(Cl)Cl)Cl)Cl)Cl)Cl)Cl',\n",
       " 'C1[C@H]([C@@H]2[C@H]([C@H]1Cl)[C@]3(C(=C([C@@]2(C3(Cl)Cl)Cl)Cl)Cl)Cl)Cl',\n",
       " 'C1[C@@H]2[C@H]3[C@@H]([C@H]1[C@H]4[C@@H]2O4)[C@@]5(C(=C([C@]3(C5(Cl)Cl)Cl)Cl)Cl)Cl']"
      ]
     },
     "execution_count": 5,
     "metadata": {},
     "output_type": "execute_result"
    }
   ],
   "source": [
    "sorted(smiles_list, key=len)"
   ]
  },
  {
   "cell_type": "code",
   "execution_count": 6,
   "metadata": {},
   "outputs": [],
   "source": [
    "import openeye"
   ]
  },
  {
   "cell_type": "code",
   "execution_count": 7,
   "metadata": {},
   "outputs": [],
   "source": [
    "from openeye import oeomega  # Omega toolkit\n",
    "omega = oeomega.OEOmega()\n",
    "omega.SetMaxConfs(800)  # Best-practice? Expensive...\n",
    "omega.SetIncludeInput(False)\n",
    "omega.SetStrictStereo(True)  # Refuse to generate conformers if stereochemistry not provided\n",
    "\n",
    "from openforcefield.typing.engines.smirnoff import ForceField, generateTopologyFromOEMol\n",
    "from openeye import oechem  # OpenEye Python toolkits\n",
    "\n",
    "from openeye import oequacpac  # Charge toolkit\n",
    "\n",
    "ff = ForceField('forcefield/smirnoff99Frosst.offxml')\n",
    "\n",
    "def generate_oemol(smiles):\n",
    "    \"\"\"Add hydrogens, assign charges, generate conformers, and return molecule\"\"\"\n",
    "    mol = oechem.OEMol()\n",
    "    chargeEngine = oequacpac.OEAM1BCCCharges()\n",
    "    oechem.OEParseSmiles(mol, smiles)\n",
    "    oechem.OEAddExplicitHydrogens(mol)\n",
    "    status = omega(mol)\n",
    "    if not status: print(\"Something went wrong in `generate_oemol({})!\".format(smiles))\n",
    "    oechem.OETriposAtomNames(mol)\n",
    "    oequacpac.OESetNeutralpHModel(mol)\n",
    "    oequacpac.OEAssignCharges(mol, chargeEngine)\n",
    "    _ = generateTopologyFromOEMol(mol)\n",
    "    return mol\n",
    "\n",
    "\n",
    "def generate_mol_top_sys_pos(smiles):\n",
    "    \"\"\"Generate an openmm topology, openmm system, and coordinate array from a smiles string\"\"\"\n",
    "    print(smiles)\n",
    "    mol = generate_oemol(smiles)\n",
    "\n",
    "    coord_dict = mol.GetCoords()\n",
    "    positions = np.array([coord_dict[key] for key in coord_dict])\n",
    "\n",
    "    topology = generateTopologyFromOEMol(mol)\n",
    "\n",
    "    system = ff.createSystem(topology, [mol])\n",
    "\n",
    "    return mol, topology, system, positions"
   ]
  },
  {
   "cell_type": "code",
   "execution_count": 8,
   "metadata": {},
   "outputs": [],
   "source": [
    "sorted_smiles = sorted(list(set(smiles_list)), key=len)[::-1]"
   ]
  },
  {
   "cell_type": "code",
   "execution_count": 9,
   "metadata": {},
   "outputs": [
    {
     "name": "stderr",
     "output_type": "stream",
     "text": [
      "\r",
      "  0%|          | 0/642 [00:00<?, ?it/s]"
     ]
    },
    {
     "name": "stdout",
     "output_type": "stream",
     "text": [
      "C1[C@@H]2[C@H]3[C@@H]([C@H]1[C@H]4[C@@H]2O4)[C@@]5(C(=C([C@]3(C5(Cl)Cl)Cl)Cl)Cl)Cl\n"
     ]
    },
    {
     "name": "stderr",
     "output_type": "stream",
     "text": [
      "\r",
      "  0%|          | 1/642 [00:01<15:26,  1.45s/it]"
     ]
    },
    {
     "name": "stdout",
     "output_type": "stream",
     "text": [
      "C1[C@H]([C@@H]2[C@H]([C@H]1Cl)[C@]3(C(=C([C@@]2(C3(Cl)Cl)Cl)Cl)Cl)Cl)Cl\n"
     ]
    },
    {
     "name": "stderr",
     "output_type": "stream",
     "text": [
      "\r",
      "  0%|          | 2/642 [00:02<11:48,  1.11s/it]"
     ]
    },
    {
     "name": "stdout",
     "output_type": "stream",
     "text": [
      "C1=C[C@@H]([C@@H]2[C@H]1[C@@]3(C(=C([C@]2(C3(Cl)Cl)Cl)Cl)Cl)Cl)Cl\n"
     ]
    },
    {
     "name": "stderr",
     "output_type": "stream",
     "text": [
      "\r",
      "  0%|          | 3/642 [00:02<10:10,  1.05it/s]"
     ]
    },
    {
     "name": "stdout",
     "output_type": "stream",
     "text": [
      "C1[C@@H]2[C@H](COS(=O)O1)[C@@]3(C(=C([C@]2(C3(Cl)Cl)Cl)Cl)Cl)Cl\n"
     ]
    },
    {
     "name": "stderr",
     "output_type": "stream",
     "text": [
      "\r",
      "  1%|          | 4/642 [00:04<13:05,  1.23s/it]"
     ]
    },
    {
     "name": "stdout",
     "output_type": "stream",
     "text": [
      "CCC[N@@](CC1CC1)c2c(cc(cc2[N+](=O)[O-])C(F)(F)F)[N+](=O)[O-]\n"
     ]
    },
    {
     "name": "stderr",
     "output_type": "stream",
     "text": [
      "\r",
      "  1%|          | 5/642 [01:13<2:36:50, 14.77s/it]"
     ]
    },
    {
     "name": "stdout",
     "output_type": "stream",
     "text": [
      "CCCC[N@](CC)c1c(cc(cc1[N+](=O)[O-])C(F)(F)F)[N+](=O)[O-]\n"
     ]
    },
    {
     "name": "stderr",
     "output_type": "stream",
     "text": [
      "\r",
      "  1%|          | 6/642 [02:09<3:48:01, 21.51s/it]"
     ]
    },
    {
     "name": "stdout",
     "output_type": "stream",
     "text": [
      "CCCN(CCC)c1c(cc(cc1[N+](=O)[O-])S(=O)(=O)C)[N+](=O)[O-]\n"
     ]
    },
    {
     "name": "stderr",
     "output_type": "stream",
     "text": [
      "\r",
      "  1%|          | 7/642 [02:26<3:42:13, 21.00s/it]"
     ]
    },
    {
     "name": "stdout",
     "output_type": "stream",
     "text": [
      "c1(c(c(c(c(c1Cl)Cl)Cl)Cl)Cl)c2c(c(c(c(c2Cl)Cl)Cl)Cl)Cl\n"
     ]
    },
    {
     "name": "stderr",
     "output_type": "stream",
     "text": [
      "\r",
      "  1%|          | 8/642 [02:27<3:15:09, 18.47s/it]"
     ]
    },
    {
     "name": "stdout",
     "output_type": "stream",
     "text": [
      "CCN(CC)c1c(cc(c(c1[N+](=O)[O-])N)C(F)(F)F)[N+](=O)[O-]\n"
     ]
    },
    {
     "name": "stderr",
     "output_type": "stream",
     "text": [
      "\r",
      "  1%|▏         | 9/642 [02:36<3:03:53, 17.43s/it]"
     ]
    },
    {
     "name": "stdout",
     "output_type": "stream",
     "text": [
      "CCCN(CCC)c1c(cc(cc1[N+](=O)[O-])C(F)(F)F)[N+](=O)[O-]\n"
     ]
    },
    {
     "name": "stderr",
     "output_type": "stream",
     "text": [
      "\r",
      "  2%|▏         | 10/642 [02:57<3:06:32, 17.71s/it]"
     ]
    },
    {
     "name": "stdout",
     "output_type": "stream",
     "text": [
      "c12c(c(c(c(c1Cl)Cl)Cl)Cl)Oc3c(c(c(c(c3Cl)Cl)Cl)Cl)O2\n"
     ]
    },
    {
     "name": "stderr",
     "output_type": "stream",
     "text": [
      "\r",
      "  2%|▏         | 11/642 [02:57<2:50:05, 16.17s/it]"
     ]
    },
    {
     "name": "stdout",
     "output_type": "stream",
     "text": [
      "CC[C@@H](C)c1cc(cc(c1O)[N+](=O)[O-])[N+](=O)[O-]\n"
     ]
    },
    {
     "name": "stderr",
     "output_type": "stream",
     "text": [
      "\r",
      "  2%|▏         | 12/642 [03:03<2:40:19, 15.27s/it]"
     ]
    },
    {
     "name": "stdout",
     "output_type": "stream",
     "text": [
      "C([C@@H]1[C@H]([C@@H]([C@H]([C@@H](O1)O)O)O)O)O\n"
     ]
    },
    {
     "name": "stderr",
     "output_type": "stream",
     "text": [
      "\r",
      "  2%|▏         | 13/642 [03:04<2:28:32, 14.17s/it]"
     ]
    },
    {
     "name": "stdout",
     "output_type": "stream",
     "text": [
      "c1c(c(c(c(c1Cl)Cl)Cl)Cl)c2c(cc(c(c2Cl)Cl)Cl)Cl\n"
     ]
    },
    {
     "name": "stderr",
     "output_type": "stream",
     "text": [
      "\r",
      "  2%|▏         | 14/642 [03:05<2:18:27, 13.23s/it]"
     ]
    },
    {
     "name": "stdout",
     "output_type": "stream",
     "text": [
      "c1c2c(cc(c1Cl)Cl)Oc3c(c(c(c(c3Cl)Cl)Cl)Cl)O2\n"
     ]
    },
    {
     "name": "stderr",
     "output_type": "stream",
     "text": [
      "\r",
      "  2%|▏         | 15/642 [03:05<2:09:20, 12.38s/it]"
     ]
    },
    {
     "name": "stdout",
     "output_type": "stream",
     "text": [
      "C1C=CC[C@@H]2[C@@H]1C(=O)N(C2=O)SC(Cl)(Cl)Cl\n"
     ]
    },
    {
     "name": "stderr",
     "output_type": "stream",
     "text": [
      "\r",
      "  2%|▏         | 16/642 [03:06<2:01:22, 11.63s/it]"
     ]
    },
    {
     "name": "stdout",
     "output_type": "stream",
     "text": [
      "CCOP(=S)(OCC)S[C@@H](CCl)N1C(=O)c2ccccc2C1=O\n"
     ]
    },
    {
     "name": "stderr",
     "output_type": "stream",
     "text": [
      "\r",
      "  3%|▎         | 17/642 [10:52<6:39:58, 38.40s/it]"
     ]
    },
    {
     "name": "stdout",
     "output_type": "stream",
     "text": [
      "c1c(cc(c(c1Cl)Cl)Cl)c2cc(c(c(c2Cl)Cl)Cl)Cl\n"
     ]
    },
    {
     "name": "stderr",
     "output_type": "stream",
     "text": [
      "\r",
      "  3%|▎         | 18/642 [10:53<6:17:20, 36.28s/it]"
     ]
    },
    {
     "name": "stdout",
     "output_type": "stream",
     "text": [
      "c1cc(c(c(c1c2cc(c(c(c2Cl)Cl)Cl)Cl)Cl)Cl)Cl\n"
     ]
    },
    {
     "name": "stderr",
     "output_type": "stream",
     "text": [
      "\r",
      "  3%|▎         | 19/642 [10:54<5:57:35, 34.44s/it]"
     ]
    },
    {
     "name": "stdout",
     "output_type": "stream",
     "text": [
      "C([C@H]([C@H]([C@@H]([C@@H](CO)O)O)O)O)O\n"
     ]
    },
    {
     "name": "stderr",
     "output_type": "stream",
     "text": [
      "\r",
      "  3%|▎         | 20/642 [12:01<6:14:03, 36.08s/it]"
     ]
    },
    {
     "name": "stdout",
     "output_type": "stream",
     "text": [
      "c1cc2c(cc1Cl)Oc3c(c(c(c(c3Cl)Cl)Cl)Cl)O2\n"
     ]
    },
    {
     "name": "stderr",
     "output_type": "stream",
     "text": [
      "\r",
      "  3%|▎         | 21/642 [12:02<5:55:54, 34.39s/it]"
     ]
    },
    {
     "name": "stdout",
     "output_type": "stream",
     "text": [
      "c1cc(c(cc1c2cc(c(c(c2Cl)Cl)Cl)Cl)Cl)Cl\n"
     ]
    },
    {
     "name": "stderr",
     "output_type": "stream",
     "text": [
      "\r",
      "  3%|▎         | 22/642 [12:02<5:39:25, 32.85s/it]"
     ]
    },
    {
     "name": "stdout",
     "output_type": "stream",
     "text": [
      "CCOP(=O)(OCC)O/C(=C/Cl)/c1ccc(cc1Cl)Cl\n"
     ]
    },
    {
     "name": "stderr",
     "output_type": "stream",
     "text": [
      "\r",
      "  4%|▎         | 23/642 [28:28<12:46:23, 74.29s/it]"
     ]
    },
    {
     "name": "stdout",
     "output_type": "stream",
     "text": [
      "c1ccc2c(c1)Oc3c(c(c(c(c3Cl)Cl)Cl)Cl)O2\n"
     ]
    },
    {
     "name": "stderr",
     "output_type": "stream",
     "text": [
      "\r",
      "  4%|▎         | 24/642 [28:28<12:13:23, 71.20s/it]"
     ]
    },
    {
     "name": "stdout",
     "output_type": "stream",
     "text": [
      "c1cc(c(cc1c2c(c(cc(c2Cl)Cl)Cl)Cl)Cl)Cl\n"
     ]
    },
    {
     "name": "stderr",
     "output_type": "stream",
     "text": [
      "\r",
      "  4%|▍         | 25/642 [28:29<11:43:04, 68.37s/it]"
     ]
    },
    {
     "name": "stdout",
     "output_type": "stream",
     "text": [
      "C[C@@H](c1cccc(c1)C(=O)c2ccccc2)C(=O)O\n"
     ]
    },
    {
     "name": "stderr",
     "output_type": "stream",
     "text": [
      "\r",
      "  4%|▍         | 26/642 [28:54<11:24:49, 66.70s/it]"
     ]
    },
    {
     "name": "stdout",
     "output_type": "stream",
     "text": [
      "C[C@@H](CCO[N+](=O)[O-])O[N+](=O)[O-]\n"
     ]
    },
    {
     "name": "stderr",
     "output_type": "stream",
     "text": [
      "\r",
      "  4%|▍         | 27/642 [29:27<11:11:09, 65.48s/it]"
     ]
    },
    {
     "name": "stdout",
     "output_type": "stream",
     "text": [
      "C1[C@H]([C@@H]([C@H]([C@H](O1)O)O)O)O\n"
     ]
    },
    {
     "name": "stderr",
     "output_type": "stream",
     "text": [
      "\r",
      "  4%|▍         | 28/642 [29:28<10:46:21, 63.16s/it]"
     ]
    },
    {
     "name": "stdout",
     "output_type": "stream",
     "text": [
      "c1cc(c(cc1Cl)c2cc(c(c(c2)Cl)Cl)Cl)Cl\n"
     ]
    },
    {
     "name": "stderr",
     "output_type": "stream",
     "text": [
      "\r",
      "  5%|▍         | 29/642 [29:28<10:23:09, 60.99s/it]"
     ]
    },
    {
     "name": "stdout",
     "output_type": "stream",
     "text": [
      "C[C@@H](c1ccc(c(c1)F)c2ccccc2)C(=O)O\n"
     ]
    },
    {
     "name": "stderr",
     "output_type": "stream",
     "text": [
      "\r",
      "  5%|▍         | 30/642 [29:39<10:04:52, 59.30s/it]"
     ]
    },
    {
     "name": "stdout",
     "output_type": "stream",
     "text": [
      "c1c2c(cc(c1Cl)Cl)Oc3cc(c(cc3O2)Cl)Cl\n"
     ]
    },
    {
     "name": "stderr",
     "output_type": "stream",
     "text": [
      "\r",
      "  5%|▍         | 31/642 [29:39<9:44:32, 57.40s/it] "
     ]
    },
    {
     "name": "stdout",
     "output_type": "stream",
     "text": [
      "c1cc2c(cc1Cl)Oc3cc(c(c(c3O2)Cl)Cl)Cl\n"
     ]
    },
    {
     "name": "stderr",
     "output_type": "stream",
     "text": [
      "\r",
      "  5%|▍         | 32/642 [29:39<9:25:27, 55.62s/it]"
     ]
    },
    {
     "name": "stdout",
     "output_type": "stream",
     "text": [
      "CCOC(=O)C[C@H](C(=O)OCC)SP(=S)(OC)OC\n"
     ]
    },
    {
     "name": "stderr",
     "output_type": "stream",
     "text": [
      "\r",
      "  5%|▌         | 33/642 [50:11<15:26:09, 91.25s/it]"
     ]
    },
    {
     "name": "stdout",
     "output_type": "stream",
     "text": [
      "C[C@@H](CO[N+](=O)[O-])O[N+](=O)[O-]\n"
     ]
    },
    {
     "name": "stderr",
     "output_type": "stream",
     "text": [
      "\r",
      "  5%|▌         | 34/642 [50:27<15:02:11, 89.03s/it]"
     ]
    },
    {
     "name": "stdout",
     "output_type": "stream",
     "text": [
      "c1cc(c(c(c1)Cl)c2c(cc(cc2Cl)Cl)Cl)Cl\n"
     ]
    },
    {
     "name": "stderr",
     "output_type": "stream",
     "text": [
      "\r",
      "  5%|▌         | 35/642 [50:27<14:35:05, 86.50s/it]"
     ]
    },
    {
     "name": "stdout",
     "output_type": "stream",
     "text": [
      "CCOP(=S)(OCC)Oc1ccc(cc1)[N+](=O)[O-]\n"
     ]
    },
    {
     "name": "stderr",
     "output_type": "stream",
     "text": [
      "\r",
      "  6%|▌         | 36/642 [52:28<14:43:25, 87.47s/it]"
     ]
    },
    {
     "name": "stdout",
     "output_type": "stream",
     "text": [
      "c1(c(c(c(c(c1Cl)Cl)Cl)Cl)Cl)N(=O)=O\n"
     ]
    },
    {
     "name": "stderr",
     "output_type": "stream",
     "text": [
      "\r",
      "  6%|▌         | 37/642 [52:29<14:18:19, 85.12s/it]"
     ]
    },
    {
     "name": "stdout",
     "output_type": "stream",
     "text": [
      "CCOP(=S)(OCC)Oc1c(cc(c(n1)Cl)Cl)Cl\n"
     ]
    },
    {
     "name": "stderr",
     "output_type": "stream",
     "text": [
      "\r",
      "  6%|▌         | 38/642 [54:52<14:32:09, 86.64s/it]"
     ]
    },
    {
     "name": "stdout",
     "output_type": "stream",
     "text": [
      "Cc1c(c(=O)n(c(=O)[nH]1)C(C)(C)C)Cl\n"
     ]
    },
    {
     "name": "stderr",
     "output_type": "stream",
     "text": [
      "\r",
      "  6%|▌         | 39/642 [54:53<14:08:39, 84.44s/it]"
     ]
    },
    {
     "name": "stdout",
     "output_type": "stream",
     "text": [
      "c1ccc2c(c1)C(=O)c3c(ccc(c3C2=O)O)N\n"
     ]
    },
    {
     "name": "stderr",
     "output_type": "stream",
     "text": [
      "\r",
      "  6%|▌         | 40/642 [54:53<13:46:12, 82.35s/it]"
     ]
    },
    {
     "name": "stdout",
     "output_type": "stream",
     "text": [
      "c1ccc2c(c1)C(=O)c3cccc(c3C2=O)NCCO\n"
     ]
    },
    {
     "name": "stderr",
     "output_type": "stream",
     "text": [
      "\r",
      "  6%|▋         | 41/642 [54:59<13:26:11, 80.48s/it]"
     ]
    },
    {
     "name": "stdout",
     "output_type": "stream",
     "text": [
      "c1ccc2c(c1)Oc3c(cc(c(c3O2)Cl)Cl)Cl\n"
     ]
    },
    {
     "name": "stderr",
     "output_type": "stream",
     "text": [
      "\r",
      "  7%|▋         | 42/642 [55:00<13:05:46, 78.58s/it]"
     ]
    },
    {
     "name": "stdout",
     "output_type": "stream",
     "text": [
      "c1ccc2c(c1)C(=O)c3c(ccc(c3C2=O)N)N\n"
     ]
    },
    {
     "name": "stderr",
     "output_type": "stream",
     "text": [
      "\r",
      "  7%|▋         | 43/642 [55:00<12:46:21, 76.76s/it]"
     ]
    },
    {
     "name": "stdout",
     "output_type": "stream",
     "text": [
      "CC[C@H](C)n1c(=O)c(c([nH]c1=O)C)Br\n"
     ]
    },
    {
     "name": "stderr",
     "output_type": "stream",
     "text": [
      "\r",
      "  7%|▋         | 44/642 [55:03<12:28:15, 75.08s/it]"
     ]
    },
    {
     "name": "stdout",
     "output_type": "stream",
     "text": [
      "COP(=S)(OC)Oc1ccc(cc1)[N+](=O)[O-]\n"
     ]
    },
    {
     "name": "stderr",
     "output_type": "stream",
     "text": [
      "\r",
      "  7%|▋         | 45/642 [55:20<12:14:17, 73.80s/it]"
     ]
    },
    {
     "name": "stdout",
     "output_type": "stream",
     "text": [
      "C[C@@H](c1ccc2cc(ccc2c1)OC)C(=O)O\n"
     ]
    },
    {
     "name": "stderr",
     "output_type": "stream",
     "text": [
      "\r",
      "  7%|▋         | 46/642 [55:31<11:59:26, 72.43s/it]"
     ]
    },
    {
     "name": "stdout",
     "output_type": "stream",
     "text": [
      "C[C@@H]1CC[C@H]([C@@H](C1)O)C(C)C\n"
     ]
    },
    {
     "name": "stderr",
     "output_type": "stream",
     "text": [
      "\r",
      "  7%|▋         | 47/642 [55:33<11:43:16, 70.92s/it]"
     ]
    },
    {
     "name": "stdout",
     "output_type": "stream",
     "text": [
      "c1c(c(=O)[nH]c(=O)[nH]1)C(F)(F)F\n"
     ]
    },
    {
     "name": "stderr",
     "output_type": "stream",
     "text": [
      "\r",
      "  7%|▋         | 48/642 [55:33<11:27:30, 69.45s/it]"
     ]
    },
    {
     "name": "stdout",
     "output_type": "stream",
     "text": [
      "CCOP(=S)(OCC)Oc1cc(nc(n1)C(C)C)C\n"
     ]
    },
    {
     "name": "stderr",
     "output_type": "stream",
     "text": [
      "\r",
      "  8%|▊         | 49/642 [1:12:12<14:33:48, 88.41s/it]"
     ]
    },
    {
     "name": "stdout",
     "output_type": "stream",
     "text": [
      "CN(C)C(=O)c1ccc(cc1)[N+](=O)[O-]\n"
     ]
    },
    {
     "name": "stderr",
     "output_type": "stream",
     "text": [
      "\r",
      "  8%|▊         | 50/642 [1:12:13<14:15:03, 86.66s/it]"
     ]
    },
    {
     "name": "stdout",
     "output_type": "stream",
     "text": [
      "c1cc(c(c(c1)Cl)c2c(cccc2Cl)Cl)Cl\n"
     ]
    },
    {
     "name": "stderr",
     "output_type": "stream",
     "text": [
      "\r",
      "  8%|▊         | 51/642 [1:12:13<13:56:57, 84.97s/it]"
     ]
    },
    {
     "name": "stdout",
     "output_type": "stream",
     "text": [
      "c1ccc(cc1)c2cc(c(c(c2Cl)Cl)Cl)Cl\n"
     ]
    },
    {
     "name": "stderr",
     "output_type": "stream",
     "text": [
      "\r",
      "  8%|▊         | 52/642 [1:12:13<13:39:31, 83.34s/it]"
     ]
    },
    {
     "name": "stdout",
     "output_type": "stream",
     "text": [
      "c1ccc2c(c1)C(=O)c3ccc(cc3C2=O)N\n"
     ]
    },
    {
     "name": "stderr",
     "output_type": "stream",
     "text": [
      "\r",
      "  8%|▊         | 53/642 [1:12:14<13:22:47, 81.78s/it]"
     ]
    },
    {
     "name": "stdout",
     "output_type": "stream",
     "text": [
      "COP(=S)(OC)SCn1c(=O)c2ccccc2nn1\n"
     ]
    },
    {
     "name": "stderr",
     "output_type": "stream",
     "text": [
      "\r",
      "  8%|▊         | 54/642 [1:16:26<13:52:18, 84.93s/it]"
     ]
    },
    {
     "name": "stdout",
     "output_type": "stream",
     "text": [
      "C[C@@H](c1ccc(cc1)CC(C)C)C(=O)O\n"
     ]
    },
    {
     "name": "stderr",
     "output_type": "stream",
     "text": [
      "\r",
      "  9%|▊         | 55/642 [1:16:41<13:38:29, 83.66s/it]"
     ]
    },
    {
     "name": "stdout",
     "output_type": "stream",
     "text": [
      "c1ccc2c(c1)C(=O)c3cccc(c3C2=O)N\n"
     ]
    },
    {
     "name": "stderr",
     "output_type": "stream",
     "text": [
      "\r",
      "  9%|▊         | 56/642 [1:16:41<13:22:35, 82.18s/it]"
     ]
    },
    {
     "name": "stdout",
     "output_type": "stream",
     "text": [
      "C(CO[N+](=O)[O-])CO[N+](=O)[O-]\n"
     ]
    },
    {
     "name": "stderr",
     "output_type": "stream",
     "text": [
      "\r",
      "  9%|▉         | 57/642 [1:17:03<13:10:49, 81.11s/it]"
     ]
    },
    {
     "name": "stdout",
     "output_type": "stream",
     "text": [
      "c1cc(c(cc1c2ccc(cc2F)F)C(=O)O)O\n"
     ]
    },
    {
     "name": "stderr",
     "output_type": "stream",
     "text": [
      "\r",
      "  9%|▉         | 58/642 [1:17:07<12:56:33, 79.78s/it]"
     ]
    },
    {
     "name": "stdout",
     "output_type": "stream",
     "text": [
      "COP(=O)([C@H](C(Cl)(Cl)Cl)O)OC\n"
     ]
    },
    {
     "name": "stderr",
     "output_type": "stream",
     "text": [
      "\r",
      "  9%|▉         | 59/642 [1:17:15<12:43:24, 78.57s/it]"
     ]
    },
    {
     "name": "stdout",
     "output_type": "stream",
     "text": [
      "c1ccc2c(c1)Oc3cc(c(cc3O2)Cl)Cl\n"
     ]
    },
    {
     "name": "stderr",
     "output_type": "stream",
     "text": [
      "\r",
      "  9%|▉         | 60/642 [1:17:15<12:29:26, 77.26s/it]"
     ]
    },
    {
     "name": "stdout",
     "output_type": "stream",
     "text": [
      "CN(C)CCC=C1c2ccccc2CCc3c1cccc3\n"
     ]
    },
    {
     "name": "stderr",
     "output_type": "stream",
     "text": [
      "\r",
      " 10%|▉         | 61/642 [1:17:40<12:19:53, 76.41s/it]"
     ]
    },
    {
     "name": "stdout",
     "output_type": "stream",
     "text": [
      "C(CO[N+](=O)[O-])O[N+](=O)[O-]\n"
     ]
    },
    {
     "name": "stderr",
     "output_type": "stream",
     "text": [
      "\r",
      " 10%|▉         | 62/642 [1:17:48<12:07:49, 75.29s/it]"
     ]
    },
    {
     "name": "stdout",
     "output_type": "stream",
     "text": [
      "c1(c(c(c(c(c1Cl)Cl)Cl)Cl)Cl)Cl\n",
      "Cc1c(nc(nc1OC(=O)N(C)C)N(C)C)C\n"
     ]
    },
    {
     "name": "stderr",
     "output_type": "stream",
     "text": [
      "\r",
      " 10%|▉         | 64/642 [1:18:02<11:44:53, 73.17s/it]"
     ]
    },
    {
     "name": "stdout",
     "output_type": "stream",
     "text": [
      "COC(=O)c1ccc(cc1)[N+](=O)[O-]\n"
     ]
    },
    {
     "name": "stderr",
     "output_type": "stream",
     "text": [
      "\r",
      " 10%|█         | 65/642 [1:18:03<11:32:54, 72.05s/it]"
     ]
    },
    {
     "name": "stdout",
     "output_type": "stream",
     "text": [
      "c1ccc(cc1)n2c(=O)c(c(cn2)N)Cl\n"
     ]
    },
    {
     "name": "stderr",
     "output_type": "stream",
     "text": [
      "\r",
      " 10%|█         | 66/642 [1:18:04<11:21:19, 70.97s/it]"
     ]
    },
    {
     "name": "stdout",
     "output_type": "stream",
     "text": [
      "CCOP(=S)(OCC)SCSP(=S)(OCC)OCC\n"
     ]
    },
    {
     "name": "stderr",
     "output_type": "stream",
     "text": [
      "\r",
      " 10%|█         | 67/642 [1:41:17<14:29:15, 90.71s/it]"
     ]
    },
    {
     "name": "stdout",
     "output_type": "stream",
     "text": [
      "C[C@@H]1CC[C@H](C(=O)C1)C(C)C\n"
     ]
    },
    {
     "name": "stderr",
     "output_type": "stream",
     "text": [
      "\r",
      " 11%|█         | 68/642 [1:41:19<14:15:18, 89.40s/it]"
     ]
    },
    {
     "name": "stdout",
     "output_type": "stream",
     "text": [
      "c1(=O)[nH]c(=O)[nH]c(=O)[nH]1\n"
     ]
    },
    {
     "name": "stderr",
     "output_type": "stream",
     "text": [
      "\r",
      " 11%|█         | 69/642 [1:41:19<14:01:29, 88.11s/it]"
     ]
    },
    {
     "name": "stdout",
     "output_type": "stream",
     "text": [
      "CCOP(=S)(OCC)SCSc1ccc(cc1)Cl\n"
     ]
    },
    {
     "name": "stderr",
     "output_type": "stream",
     "text": [
      "\r",
      " 11%|█         | 70/642 [1:50:15<15:00:58, 94.51s/it]"
     ]
    },
    {
     "name": "stdout",
     "output_type": "stream",
     "text": [
      "CC1=CC[C@H](C[C@@H]1O)C(=C)C\n"
     ]
    },
    {
     "name": "stderr",
     "output_type": "stream",
     "text": [
      "\r",
      " 11%|█         | 71/642 [1:50:16<14:46:53, 93.19s/it]"
     ]
    },
    {
     "name": "stdout",
     "output_type": "stream",
     "text": [
      "CC(=CCC[C@](C)(C=C)OC(=O)C)C\n"
     ]
    },
    {
     "name": "stderr",
     "output_type": "stream",
     "text": [
      "\r",
      " 11%|█         | 72/642 [1:51:05<14:39:25, 92.57s/it]"
     ]
    },
    {
     "name": "stdout",
     "output_type": "stream",
     "text": [
      "c1cc(cc(c1)C(F)(F)F)C(F)(F)F\n"
     ]
    },
    {
     "name": "stderr",
     "output_type": "stream",
     "text": [
      "\r",
      " 11%|█▏        | 73/642 [1:51:05<14:25:53, 91.31s/it]"
     ]
    },
    {
     "name": "stdout",
     "output_type": "stream",
     "text": [
      "CCc1cccc(c1N(COC)C(=O)CCl)CC\n"
     ]
    },
    {
     "name": "stderr",
     "output_type": "stream",
     "text": [
      "\r",
      " 12%|█▏        | 74/642 [1:52:31<14:23:41, 91.23s/it]"
     ]
    },
    {
     "name": "stdout",
     "output_type": "stream",
     "text": [
      "c1ccc(c(c1)C(F)(F)F)C(F)(F)F\n"
     ]
    },
    {
     "name": "stderr",
     "output_type": "stream",
     "text": [
      "\r",
      " 12%|█▏        | 75/642 [1:52:31<14:10:42, 90.02s/it]"
     ]
    },
    {
     "name": "stdout",
     "output_type": "stream",
     "text": [
      "c1ccc(cc1)c2c(cc(cc2Cl)Cl)Cl\n"
     ]
    },
    {
     "name": "stderr",
     "output_type": "stream",
     "text": [
      "\r",
      " 12%|█▏        | 76/642 [1:52:32<13:58:05, 88.84s/it]"
     ]
    },
    {
     "name": "stdout",
     "output_type": "stream",
     "text": [
      "C[C@@H]1CC[C@H](CC1=O)C(=C)C\n"
     ]
    },
    {
     "name": "stderr",
     "output_type": "stream",
     "text": [
      "\r",
      " 12%|█▏        | 77/642 [1:52:33<13:45:56, 87.71s/it]"
     ]
    },
    {
     "name": "stdout",
     "output_type": "stream",
     "text": [
      "C1(C(C(C1(F)F)(F)F)(F)F)(F)F\n"
     ]
    },
    {
     "name": "stderr",
     "output_type": "stream",
     "text": [
      "\r",
      " 12%|█▏        | 78/642 [1:52:34<13:33:57, 86.59s/it]"
     ]
    },
    {
     "name": "stdout",
     "output_type": "stream",
     "text": [
      "COc1c(c(c(c(c1Cl)C=O)Cl)OC)O\n"
     ]
    },
    {
     "name": "stderr",
     "output_type": "stream",
     "text": [
      "\r",
      " 12%|█▏        | 79/642 [1:52:35<13:22:23, 85.51s/it]"
     ]
    },
    {
     "name": "stdout",
     "output_type": "stream",
     "text": [
      "c1cc2c(cc1Cl)Oc3ccc(cc3O2)Cl\n"
     ]
    },
    {
     "name": "stderr",
     "output_type": "stream",
     "text": [
      "\r",
      " 12%|█▏        | 80/642 [1:52:36<13:11:01, 84.45s/it]"
     ]
    },
    {
     "name": "stdout",
     "output_type": "stream",
     "text": [
      "Cc1cccc(c1C)Nc2ccccc2C(=O)O\n"
     ]
    },
    {
     "name": "stderr",
     "output_type": "stream",
     "text": [
      "\r",
      " 13%|█▎        | 81/642 [1:53:17<13:04:38, 83.92s/it]"
     ]
    },
    {
     "name": "stdout",
     "output_type": "stream",
     "text": [
      "CN(C)CCOC(c1ccccc1)c2ccccc2\n"
     ]
    },
    {
     "name": "stderr",
     "output_type": "stream",
     "text": [
      "\r",
      " 13%|█▎        | 82/642 [1:54:23<13:01:12, 83.70s/it]"
     ]
    },
    {
     "name": "stdout",
     "output_type": "stream",
     "text": [
      "CC1(Cc2cccc(c2O1)OC(=O)NC)C\n"
     ]
    },
    {
     "name": "stderr",
     "output_type": "stream",
     "text": [
      "\r",
      " 13%|█▎        | 83/642 [1:54:43<12:52:37, 82.93s/it]"
     ]
    },
    {
     "name": "stdout",
     "output_type": "stream",
     "text": [
      "c1ccc2c(c1)Oc3cccc(c3O2)Cl\n"
     ]
    },
    {
     "name": "stderr",
     "output_type": "stream",
     "text": [
      "\r",
      " 13%|█▎        | 84/642 [1:54:43<12:42:05, 81.95s/it]"
     ]
    },
    {
     "name": "stdout",
     "output_type": "stream",
     "text": [
      "c1cc2ccc3cccc4c3c2c(c1)cc4\n"
     ]
    },
    {
     "name": "stderr",
     "output_type": "stream",
     "text": [
      "\r",
      " 13%|█▎        | 85/642 [1:54:43<12:31:50, 80.99s/it]"
     ]
    },
    {
     "name": "stdout",
     "output_type": "stream",
     "text": [
      "c1ccc2c(c1)Oc3ccc(cc3O2)Cl\n"
     ]
    },
    {
     "name": "stderr",
     "output_type": "stream",
     "text": [
      "\r",
      " 13%|█▎        | 86/642 [1:54:44<12:21:48, 80.05s/it]"
     ]
    },
    {
     "name": "stdout",
     "output_type": "stream",
     "text": [
      "[C@@H](C(F)(F)F)(OC(F)F)Cl\n"
     ]
    },
    {
     "name": "stderr",
     "output_type": "stream",
     "text": [
      "\r",
      " 14%|█▎        | 87/642 [1:54:44<12:12:00, 79.14s/it]"
     ]
    },
    {
     "name": "stdout",
     "output_type": "stream",
     "text": [
      "CCNc1nc(nc(n1)SC)NC(C)(C)C\n"
     ]
    },
    {
     "name": "stderr",
     "output_type": "stream",
     "text": [
      "\r",
      " 14%|█▎        | 88/642 [1:56:05<12:10:50, 79.15s/it]"
     ]
    },
    {
     "name": "stdout",
     "output_type": "stream",
     "text": [
      "c1c(c(=O)[nH]c(=O)[nH]1)Br\n"
     ]
    },
    {
     "name": "stderr",
     "output_type": "stream",
     "text": [
      "\r",
      " 14%|█▍        | 89/642 [1:56:05<12:01:21, 78.27s/it]"
     ]
    },
    {
     "name": "stdout",
     "output_type": "stream",
     "text": [
      "CC1=CC(=O)[C@@H](CC1)C(C)C\n"
     ]
    },
    {
     "name": "stderr",
     "output_type": "stream",
     "text": [
      "\r",
      " 14%|█▍        | 90/642 [1:56:07<11:52:12, 77.41s/it]"
     ]
    },
    {
     "name": "stdout",
     "output_type": "stream",
     "text": [
      "Cn1cnc2c1c(=O)n(c(=O)n2C)C\n"
     ]
    },
    {
     "name": "stderr",
     "output_type": "stream",
     "text": [
      " 14%|█▍        | 92/642 [1:56:07<11:34:15, 75.74s/it]"
     ]
    },
    {
     "name": "stdout",
     "output_type": "stream",
     "text": [
      "c1c(c(=O)[nH]c(=O)[nH]1)Cl\n",
      "CC(=O)OCC(COC(=O)C)OC(=O)C\n"
     ]
    },
    {
     "name": "stderr",
     "output_type": "stream",
     "text": [
      "\r",
      " 14%|█▍        | 93/642 [2:00:54<11:53:47, 78.01s/it]"
     ]
    },
    {
     "name": "stdout",
     "output_type": "stream",
     "text": [
      "c1ccc(c(c1)N)[N+](=O)[O-]\n"
     ]
    },
    {
     "name": "stderr",
     "output_type": "stream",
     "text": [
      "\r",
      " 15%|█▍        | 94/642 [2:00:55<11:44:58, 77.19s/it]"
     ]
    },
    {
     "name": "stdout",
     "output_type": "stream",
     "text": [
      "c1ccc(cc1)O[C@@H](C(F)F)F\n"
     ]
    },
    {
     "name": "stderr",
     "output_type": "stream",
     "text": [
      "\r",
      " 15%|█▍        | 95/642 [2:01:00<11:36:47, 76.43s/it]"
     ]
    },
    {
     "name": "stdout",
     "output_type": "stream",
     "text": [
      "c1cc(cc(c1)[N+](=O)[O-])N\n"
     ]
    },
    {
     "name": "stderr",
     "output_type": "stream",
     "text": [
      "\r",
      " 15%|█▍        | 96/642 [2:01:01<11:28:17, 75.64s/it]"
     ]
    },
    {
     "name": "stdout",
     "output_type": "stream",
     "text": [
      "c1ccc(c(c1)[N+](=O)[O-])O\n"
     ]
    },
    {
     "name": "stderr",
     "output_type": "stream",
     "text": [
      " 15%|█▌        | 98/642 [2:01:01<11:11:49, 74.10s/it]"
     ]
    },
    {
     "name": "stdout",
     "output_type": "stream",
     "text": [
      "c1c(c(=O)[nH]c(=O)[nH]1)F\n",
      "C([N+](=O)[O-])(Cl)(Cl)Cl\n"
     ]
    },
    {
     "name": "stderr",
     "output_type": "stream",
     "text": [
      "\r",
      " 16%|█▌        | 100/642 [2:01:01<10:55:59, 72.62s/it]"
     ]
    },
    {
     "name": "stdout",
     "output_type": "stream",
     "text": [
      "c1cc(cc(c1)O)[N+](=O)[O-]\n",
      "c1c(c(=O)[nH]c(=O)[nH]1)I\n"
     ]
    },
    {
     "name": "stderr",
     "output_type": "stream",
     "text": [
      "\r",
      " 16%|█▌        | 101/642 [2:01:02<10:48:18, 71.90s/it]"
     ]
    },
    {
     "name": "stdout",
     "output_type": "stream",
     "text": [
      "CC(=C)[C@H]1CCC(=CC1)C=O\n"
     ]
    },
    {
     "name": "stderr",
     "output_type": "stream",
     "text": [
      "\r",
      " 16%|█▌        | 102/642 [2:01:03<10:40:53, 71.21s/it]"
     ]
    },
    {
     "name": "stdout",
     "output_type": "stream",
     "text": [
      "c1ccc(cc1)c2cc(ccc2Cl)Cl\n"
     ]
    },
    {
     "name": "stderr",
     "output_type": "stream",
     "text": [
      "\r",
      " 16%|█▌        | 103/642 [2:01:03<10:33:30, 70.52s/it]"
     ]
    },
    {
     "name": "stdout",
     "output_type": "stream",
     "text": [
      "COc1cc(c(c(c1O)OC)Cl)C=O\n"
     ]
    },
    {
     "name": "stderr",
     "output_type": "stream",
     "text": [
      " 16%|█▋        | 105/642 [2:01:07<10:19:26, 69.21s/it]"
     ]
    },
    {
     "name": "stdout",
     "output_type": "stream",
     "text": [
      "c1c(=O)[nH]c(=O)[nH]c1Cl\n",
      "COc1c(ccc(c1C(=O)O)Cl)Cl\n"
     ]
    },
    {
     "name": "stderr",
     "output_type": "stream",
     "text": [
      "\r",
      " 17%|█▋        | 106/642 [2:01:08<10:12:31, 68.57s/it]"
     ]
    },
    {
     "name": "stdout",
     "output_type": "stream",
     "text": [
      "C(C(Cl)(Cl)Cl)(Cl)(Cl)Cl\n",
      "CCC(=O)Nc1ccc(c(c1)Cl)Cl\n"
     ]
    },
    {
     "name": "stderr",
     "output_type": "stream",
     "text": [
      "\r",
      " 17%|█▋        | 108/642 [2:01:10<9:59:06, 67.32s/it] "
     ]
    },
    {
     "name": "stdout",
     "output_type": "stream",
     "text": [
      "CC[C@H](C)O[N+](=O)[O-]\n"
     ]
    },
    {
     "name": "stderr",
     "output_type": "stream",
     "text": [
      "\r",
      " 17%|█▋        | 109/642 [2:01:12<9:52:41, 66.72s/it]"
     ]
    },
    {
     "name": "stdout",
     "output_type": "stream",
     "text": [
      "CCNc1nc(nc(n1)SC)NC(C)C\n"
     ]
    },
    {
     "name": "stderr",
     "output_type": "stream",
     "text": [
      "\r",
      " 17%|█▋        | 110/642 [2:02:58<9:54:47, 67.08s/it]"
     ]
    },
    {
     "name": "stdout",
     "output_type": "stream",
     "text": [
      "COc1c(cc(c(c1O)OC)Cl)Cl\n"
     ]
    },
    {
     "name": "stderr",
     "output_type": "stream",
     "text": [
      " 17%|█▋        | 112/642 [2:02:59<9:42:01, 65.89s/it]"
     ]
    },
    {
     "name": "stdout",
     "output_type": "stream",
     "text": [
      "c1cc(ccc1[N+](=O)[O-])O\n",
      "C1CC[S+2](C1)([O-])[O-]\n"
     ]
    },
    {
     "name": "stderr",
     "output_type": "stream",
     "text": [
      " 18%|█▊        | 114/642 [2:03:00<9:29:41, 64.74s/it]"
     ]
    },
    {
     "name": "stdout",
     "output_type": "stream",
     "text": [
      "Cc1cccc(c1)[N+](=O)[O-]\n",
      "c1c(cc(c(c1Cl)Cl)Cl)Cl\n"
     ]
    },
    {
     "name": "stderr",
     "output_type": "stream",
     "text": [
      " 18%|█▊        | 116/642 [2:03:00<9:17:45, 63.62s/it]"
     ]
    },
    {
     "name": "stdout",
     "output_type": "stream",
     "text": [
      "c1c(c(cc(c1Cl)Cl)Cl)Cl\n",
      "CC(C)(/C=N\\OC(=O)NC)SC\n"
     ]
    },
    {
     "name": "stderr",
     "output_type": "stream",
     "text": [
      "\r",
      " 18%|█▊        | 117/642 [2:03:14<9:13:00, 63.20s/it]"
     ]
    },
    {
     "name": "stdout",
     "output_type": "stream",
     "text": [
      "c1ccc2c(c1)Oc3ccccc3O2\n"
     ]
    },
    {
     "name": "stderr",
     "output_type": "stream",
     "text": [
      " 19%|█▊        | 119/642 [2:03:14<9:01:40, 62.14s/it]"
     ]
    },
    {
     "name": "stdout",
     "output_type": "stream",
     "text": [
      "c1cc(c(c(c1Cl)Cl)Cl)Cl\n",
      "c1ccc-2c(c1)Cc3c2cccc3\n"
     ]
    },
    {
     "name": "stderr",
     "output_type": "stream",
     "text": [
      " 19%|█▉        | 121/642 [2:03:15<8:50:42, 61.12s/it]"
     ]
    },
    {
     "name": "stdout",
     "output_type": "stream",
     "text": [
      "c1ccc(cc1)[N+](=O)[O-]\n",
      "CN(C)C(=O)c1ccc(cc1)OC\n"
     ]
    },
    {
     "name": "stderr",
     "output_type": "stream",
     "text": [
      "\r",
      " 19%|█▉        | 122/642 [2:03:17<8:45:30, 60.64s/it]"
     ]
    },
    {
     "name": "stdout",
     "output_type": "stream",
     "text": [
      "CNC(=O)Oc1cccc2c1cccc2\n"
     ]
    },
    {
     "name": "stderr",
     "output_type": "stream",
     "text": [
      " 19%|█▉        | 124/642 [2:03:24<8:35:29, 59.71s/it]"
     ]
    },
    {
     "name": "stdout",
     "output_type": "stream",
     "text": [
      "[C@@H](C(F)(F)F)(Cl)Br\n",
      "c1ccc2c(c1)Cc3ccccc3C2\n"
     ]
    },
    {
     "name": "stderr",
     "output_type": "stream",
     "text": [
      "\r",
      " 19%|█▉        | 125/642 [2:03:24<8:30:24, 59.24s/it]"
     ]
    },
    {
     "name": "stdout",
     "output_type": "stream",
     "text": [
      "c1ccc2c(c1)ccc3c2cccc3\n"
     ]
    },
    {
     "name": "stderr",
     "output_type": "stream",
     "text": [
      " 20%|█▉        | 127/642 [2:03:24<8:20:27, 58.31s/it]"
     ]
    },
    {
     "name": "stdout",
     "output_type": "stream",
     "text": [
      "Cc1ccccc1[N+](=O)[O-]\n",
      "CC(=O)Oc1ccccc1C(=O)O\n"
     ]
    },
    {
     "name": "stderr",
     "output_type": "stream",
     "text": [
      " 20%|██        | 129/642 [2:03:31<8:11:12, 57.45s/it]"
     ]
    },
    {
     "name": "stdout",
     "output_type": "stream",
     "text": [
      "C(C(F)(Cl)Cl)(F)(F)Cl\n",
      "CN(CC(F)(F)F)c1ccccc1\n"
     ]
    },
    {
     "name": "stderr",
     "output_type": "stream",
     "text": [
      "\r",
      " 20%|██        | 130/642 [2:03:32<8:06:32, 57.02s/it]"
     ]
    },
    {
     "name": "stdout",
     "output_type": "stream",
     "text": [
      "Cc1ccc(cc1)C(=O)N(C)C\n"
     ]
    },
    {
     "name": "stderr",
     "output_type": "stream",
     "text": [
      "\r",
      " 20%|██        | 131/642 [2:03:32<8:01:55, 56.59s/it]"
     ]
    },
    {
     "name": "stdout",
     "output_type": "stream",
     "text": [
      "c1ccc2c(c1)C(=O)NC2=O\n"
     ]
    },
    {
     "name": "stderr",
     "output_type": "stream",
     "text": [
      " 21%|██        | 133/642 [2:03:33<7:52:50, 55.74s/it]"
     ]
    },
    {
     "name": "stdout",
     "output_type": "stream",
     "text": [
      "[C@@H](C(F)(F)F)(F)Br\n",
      "c1cc(c(c(c1)Cl)C#N)Cl\n"
     ]
    },
    {
     "name": "stderr",
     "output_type": "stream",
     "text": [
      "\r",
      " 21%|██        | 134/642 [2:03:33<7:48:24, 55.32s/it]"
     ]
    },
    {
     "name": "stdout",
     "output_type": "stream",
     "text": [
      "C=C(c1ccccc1)c2ccccc2\n"
     ]
    },
    {
     "name": "stderr",
     "output_type": "stream",
     "text": [
      "\r",
      " 21%|██        | 135/642 [2:03:34<7:44:06, 54.92s/it]"
     ]
    },
    {
     "name": "stdout",
     "output_type": "stream",
     "text": [
      "CCCCOC(=O)c1ccc(cc1)O\n"
     ]
    },
    {
     "name": "stderr",
     "output_type": "stream",
     "text": [
      "\r",
      " 21%|██        | 136/642 [2:04:20<7:42:37, 54.86s/it]"
     ]
    },
    {
     "name": "stdout",
     "output_type": "stream",
     "text": [
      "CC1=CC(=O)CC(C1)(C)C\n"
     ]
    },
    {
     "name": "stderr",
     "output_type": "stream",
     "text": [
      "\r",
      " 21%|██▏       | 137/642 [2:04:21<7:38:22, 54.46s/it]"
     ]
    },
    {
     "name": "stdout",
     "output_type": "stream",
     "text": [
      "CC(=CCC/C(=C\\CO)/C)C\n"
     ]
    },
    {
     "name": "stderr",
     "output_type": "stream",
     "text": [
      "\r",
      " 21%|██▏       | 138/642 [2:04:59<7:36:29, 54.35s/it]"
     ]
    },
    {
     "name": "stdout",
     "output_type": "stream",
     "text": [
      "CCNc1nc(nc(n1)Cl)NCC\n"
     ]
    },
    {
     "name": "stderr",
     "output_type": "stream",
     "text": [
      "\r",
      " 22%|██▏       | 139/642 [2:05:08<7:32:49, 54.01s/it]"
     ]
    },
    {
     "name": "stdout",
     "output_type": "stream",
     "text": [
      "C[C@@H]1CCCC[C@@H]1C\n"
     ]
    },
    {
     "name": "stderr",
     "output_type": "stream",
     "text": [
      " 22%|██▏       | 142/642 [2:05:08<7:20:38, 52.88s/it]"
     ]
    },
    {
     "name": "stdout",
     "output_type": "stream",
     "text": [
      "C(C(Cl)(Cl)Cl)(Cl)Cl\n",
      "C(=C(F)F)(C(F)(F)F)F\n",
      "CC(=O)CO[N+](=O)[O-]\n"
     ]
    },
    {
     "name": "stderr",
     "output_type": "stream",
     "text": [
      "\r",
      " 22%|██▏       | 143/642 [2:05:11<7:16:52, 52.53s/it]"
     ]
    },
    {
     "name": "stdout",
     "output_type": "stream",
     "text": [
      "c1ccc(cc1)c2ccccc2Cl\n"
     ]
    },
    {
     "name": "stderr",
     "output_type": "stream",
     "text": [
      "\r",
      " 22%|██▏       | 144/642 [2:05:12<7:12:59, 52.17s/it]"
     ]
    },
    {
     "name": "stdout",
     "output_type": "stream",
     "text": [
      "C[C@H]1CC[C@@H](O1)C\n"
     ]
    },
    {
     "name": "stderr",
     "output_type": "stream",
     "text": [
      "\r",
      " 23%|██▎       | 145/642 [2:05:12<7:09:09, 51.81s/it]"
     ]
    },
    {
     "name": "stdout",
     "output_type": "stream",
     "text": [
      "CC(=CCC/C(=C/CO)/C)C\n"
     ]
    },
    {
     "name": "stderr",
     "output_type": "stream",
     "text": [
      " 23%|██▎       | 147/642 [2:05:49<7:03:43, 51.36s/it]"
     ]
    },
    {
     "name": "stdout",
     "output_type": "stream",
     "text": [
      "c1cc(c(c(c1)Cl)Cl)Cl\n",
      "c1cc2cccc3c2c(c1)CC3\n"
     ]
    },
    {
     "name": "stderr",
     "output_type": "stream",
     "text": [
      "\r",
      " 23%|██▎       | 148/642 [2:05:50<7:00:01, 51.02s/it]"
     ]
    },
    {
     "name": "stdout",
     "output_type": "stream",
     "text": [
      "CCCOC(=O)c1ccc(cc1)O\n"
     ]
    },
    {
     "name": "stderr",
     "output_type": "stream",
     "text": [
      "\r",
      " 23%|██▎       | 149/642 [2:06:09<6:57:25, 50.80s/it]"
     ]
    },
    {
     "name": "stdout",
     "output_type": "stream",
     "text": [
      "c1ccc2cc3ccccc3cc2c1\n"
     ]
    },
    {
     "name": "stderr",
     "output_type": "stream",
     "text": [
      "\r",
      " 23%|██▎       | 150/642 [2:06:09<6:53:48, 50.46s/it]"
     ]
    },
    {
     "name": "stdout",
     "output_type": "stream",
     "text": [
      "COc1ccc(cc1)C(=O)OC\n"
     ]
    },
    {
     "name": "stderr",
     "output_type": "stream",
     "text": [
      "\r",
      " 24%|██▎       | 151/642 [2:06:10<6:50:17, 50.14s/it]"
     ]
    },
    {
     "name": "stdout",
     "output_type": "stream",
     "text": [
      "CCCCCCO[N+](=O)[O-]\n"
     ]
    },
    {
     "name": "stderr",
     "output_type": "stream",
     "text": [
      "\r",
      " 24%|██▎       | 152/642 [2:06:55<6:49:10, 50.10s/it]"
     ]
    },
    {
     "name": "stdout",
     "output_type": "stream",
     "text": [
      "COC(c1ccccc1)(OC)OC\n"
     ]
    },
    {
     "name": "stderr",
     "output_type": "stream",
     "text": [
      "\r",
      " 24%|██▍       | 153/642 [2:06:56<6:45:43, 49.78s/it]"
     ]
    },
    {
     "name": "stdout",
     "output_type": "stream",
     "text": [
      "CN(C)C(=O)Nc1ccccc1\n"
     ]
    },
    {
     "name": "stderr",
     "output_type": "stream",
     "text": [
      "\r",
      " 24%|██▍       | 154/642 [2:06:57<6:42:19, 49.47s/it]"
     ]
    },
    {
     "name": "stdout",
     "output_type": "stream",
     "text": [
      "CCOC(=O)c1ccc(cc1)O\n"
     ]
    },
    {
     "name": "stderr",
     "output_type": "stream",
     "text": [
      "\r",
      " 24%|██▍       | 155/642 [2:07:00<6:39:04, 49.17s/it]"
     ]
    },
    {
     "name": "stdout",
     "output_type": "stream",
     "text": [
      "CC(C)(C)c1ccc(cc1)O\n"
     ]
    },
    {
     "name": "stderr",
     "output_type": "stream",
     "text": [
      "\r",
      " 24%|██▍       | 156/642 [2:07:01<6:35:43, 48.85s/it]"
     ]
    },
    {
     "name": "stdout",
     "output_type": "stream",
     "text": [
      "CC(C)CO[N+](=O)[O-]\n"
     ]
    },
    {
     "name": "stderr",
     "output_type": "stream",
     "text": [
      "\r",
      " 24%|██▍       | 157/642 [2:07:02<6:32:28, 48.55s/it]"
     ]
    },
    {
     "name": "stdout",
     "output_type": "stream",
     "text": [
      "COC(C(F)(F)F)(OC)OC\n"
     ]
    },
    {
     "name": "stderr",
     "output_type": "stream",
     "text": [
      "\r",
      " 25%|██▍       | 158/642 [2:07:04<6:29:15, 48.25s/it]"
     ]
    },
    {
     "name": "stdout",
     "output_type": "stream",
     "text": [
      "c1ccc(cc1)Oc2ccccc2\n"
     ]
    },
    {
     "name": "stderr",
     "output_type": "stream",
     "text": [
      "\r",
      " 25%|██▍       | 159/642 [2:07:04<6:26:02, 47.96s/it]"
     ]
    },
    {
     "name": "stdout",
     "output_type": "stream",
     "text": [
      "CCCc1ccc(c(c1)OC)O\n"
     ]
    },
    {
     "name": "stderr",
     "output_type": "stream",
     "text": [
      "\r",
      " 25%|██▍       | 160/642 [2:07:10<6:23:06, 47.69s/it]"
     ]
    },
    {
     "name": "stdout",
     "output_type": "stream",
     "text": [
      "CCOC(=O)CCC(=O)OCC\n"
     ]
    },
    {
     "name": "stderr",
     "output_type": "stream",
     "text": [
      "\r",
      " 25%|██▌       | 161/642 [2:09:10<6:25:56, 48.14s/it]"
     ]
    },
    {
     "name": "stdout",
     "output_type": "stream",
     "text": [
      "Cc1cc(c2ccccc2c1)C\n"
     ]
    },
    {
     "name": "stderr",
     "output_type": "stream",
     "text": [
      "\r",
      " 25%|██▌       | 162/642 [2:09:11<6:22:46, 47.85s/it]"
     ]
    },
    {
     "name": "stdout",
     "output_type": "stream",
     "text": [
      "Cc1ccc2cc(ccc2c1)C\n"
     ]
    },
    {
     "name": "stderr",
     "output_type": "stream",
     "text": [
      "\r",
      " 25%|██▌       | 163/642 [2:09:11<6:19:38, 47.55s/it]"
     ]
    },
    {
     "name": "stdout",
     "output_type": "stream",
     "text": [
      "CCCN(CCC)C(=O)SCCC\n"
     ]
    },
    {
     "name": "stderr",
     "output_type": "stream",
     "text": [
      "\r",
      " 26%|██▌       | 164/642 [2:16:43<6:38:30, 50.02s/it]"
     ]
    },
    {
     "name": "stdout",
     "output_type": "stream",
     "text": [
      "CC(OC(=O)C)OC(=O)C\n"
     ]
    },
    {
     "name": "stderr",
     "output_type": "stream",
     "text": [
      "\r",
      " 26%|██▌       | 165/642 [2:16:46<6:35:25, 49.74s/it]"
     ]
    },
    {
     "name": "stdout",
     "output_type": "stream",
     "text": [
      "CN(C)C(=O)c1ccccc1\n"
     ]
    },
    {
     "name": "stderr",
     "output_type": "stream",
     "text": [
      " 26%|██▌       | 167/642 [2:16:47<6:29:05, 49.15s/it]"
     ]
    },
    {
     "name": "stdout",
     "output_type": "stream",
     "text": [
      "c1ccc(cc1)C(F)(F)F\n"
     ]
    },
    {
     "name": "stderr",
     "output_type": "stream",
     "text": [
      "\r",
      " 26%|██▌       | 168/642 [2:16:48<6:25:58, 48.86s/it]"
     ]
    },
    {
     "name": "stdout",
     "output_type": "stream",
     "text": [
      "c1cc(c(cc1Cl)Cl)Cl\n",
      "c1cc(ccc1N)N(=O)=O\n"
     ]
    },
    {
     "name": "stderr",
     "output_type": "stream",
     "text": [
      "\r",
      " 26%|██▋       | 169/642 [2:16:48<6:22:53, 48.57s/it]"
     ]
    },
    {
     "name": "stdout",
     "output_type": "stream",
     "text": [
      "CC(=O)c1ccc(cc1)OC\n"
     ]
    },
    {
     "name": "stderr",
     "output_type": "stream",
     "text": [
      "\r",
      " 26%|██▋       | 170/642 [2:16:49<6:19:54, 48.29s/it]"
     ]
    },
    {
     "name": "stdout",
     "output_type": "stream",
     "text": [
      "CCOP(=S)(OCC)SCSCC\n"
     ]
    },
    {
     "name": "stderr",
     "output_type": "stream",
     "text": [
      "\r",
      " 27%|██▋       | 171/642 [2:23:27<6:35:09, 50.34s/it]"
     ]
    },
    {
     "name": "stdout",
     "output_type": "stream",
     "text": [
      "CCCCN(CC)C(=O)SCCC\n"
     ]
    },
    {
     "name": "stderr",
     "output_type": "stream",
     "text": [
      "\r",
      " 27%|██▋       | 172/642 [2:30:32<6:51:21, 52.51s/it]"
     ]
    },
    {
     "name": "stdout",
     "output_type": "stream",
     "text": [
      "COC(=O)c1ccc(cc1)O\n"
     ]
    },
    {
     "name": "stderr",
     "output_type": "stream",
     "text": [
      "\r",
      " 27%|██▋       | 173/642 [2:30:32<6:48:07, 52.21s/it]"
     ]
    },
    {
     "name": "stdout",
     "output_type": "stream",
     "text": [
      "c1ccc(cc1)c2ccccc2\n"
     ]
    },
    {
     "name": "stderr",
     "output_type": "stream",
     "text": [
      " 27%|██▋       | 175/642 [2:30:33<6:41:46, 51.62s/it]"
     ]
    },
    {
     "name": "stdout",
     "output_type": "stream",
     "text": [
      "c1c(cc(cc1Cl)Cl)Cl\n",
      "c1ccc(cc1)Cn2ccnc2\n"
     ]
    },
    {
     "name": "stderr",
     "output_type": "stream",
     "text": [
      " 28%|██▊       | 177/642 [2:30:34<6:35:35, 51.04s/it]"
     ]
    },
    {
     "name": "stdout",
     "output_type": "stream",
     "text": [
      "C[C@@H](C(F)(F)F)O\n",
      "Cc1ccc(c2c1cccc2)C\n"
     ]
    },
    {
     "name": "stderr",
     "output_type": "stream",
     "text": [
      "\r",
      " 28%|██▊       | 178/642 [2:30:35<6:32:32, 50.76s/it]"
     ]
    },
    {
     "name": "stdout",
     "output_type": "stream",
     "text": [
      "CC[C@H](C)c1ccccc1\n"
     ]
    },
    {
     "name": "stderr",
     "output_type": "stream",
     "text": [
      "\r",
      " 28%|██▊       | 179/642 [2:30:37<6:29:35, 50.49s/it]"
     ]
    },
    {
     "name": "stdout",
     "output_type": "stream",
     "text": [
      "CCOC(OCC)Oc1ccccc1\n"
     ]
    },
    {
     "name": "stderr",
     "output_type": "stream",
     "text": [
      "\r",
      " 28%|██▊       | 180/642 [2:31:41<6:29:19, 50.56s/it]"
     ]
    },
    {
     "name": "stdout",
     "output_type": "stream",
     "text": [
      "C(CO[N+](=O)[O-])O\n"
     ]
    },
    {
     "name": "stderr",
     "output_type": "stream",
     "text": [
      "\r",
      " 28%|██▊       | 181/642 [2:31:42<6:26:24, 50.29s/it]"
     ]
    },
    {
     "name": "stdout",
     "output_type": "stream",
     "text": [
      "Cc1ccc(cc1)C(=O)C\n"
     ]
    },
    {
     "name": "stderr",
     "output_type": "stream",
     "text": [
      " 29%|██▊       | 183/642 [2:31:43<6:20:33, 49.75s/it]"
     ]
    },
    {
     "name": "stdout",
     "output_type": "stream",
     "text": [
      "C[C@H](C(F)(F)F)O\n",
      "Cc1c[nH]c2c1cccc2\n"
     ]
    },
    {
     "name": "stderr",
     "output_type": "stream",
     "text": [
      "\r",
      " 29%|██▊       | 184/642 [2:31:43<6:17:40, 49.48s/it]"
     ]
    },
    {
     "name": "stdout",
     "output_type": "stream",
     "text": [
      "c1ccc2c(c1)cccc2O\n"
     ]
    },
    {
     "name": "stderr",
     "output_type": "stream",
     "text": [
      "\r",
      " 29%|██▉       | 185/642 [2:31:43<6:14:49, 49.21s/it]"
     ]
    },
    {
     "name": "stdout",
     "output_type": "stream",
     "text": [
      "CCOC(=O)CC(=O)OCC\n"
     ]
    },
    {
     "name": "stderr",
     "output_type": "stream",
     "text": [
      "\r",
      " 29%|██▉       | 186/642 [2:32:32<6:13:58, 49.21s/it]"
     ]
    },
    {
     "name": "stdout",
     "output_type": "stream",
     "text": [
      "CCCCO[N+](=O)[O-]\n"
     ]
    },
    {
     "name": "stderr",
     "output_type": "stream",
     "text": [
      "\r",
      " 29%|██▉       | 187/642 [2:32:37<6:11:22, 48.97s/it]"
     ]
    },
    {
     "name": "stdout",
     "output_type": "stream",
     "text": [
      "C(=C(Cl)Cl)(Cl)Cl\n",
      "CC(C)[N+](=O)[O-]\n"
     ]
    },
    {
     "name": "stderr",
     "output_type": "stream",
     "text": [
      "\r",
      " 29%|██▉       | 189/642 [2:32:38<6:05:50, 48.46s/it]"
     ]
    },
    {
     "name": "stdout",
     "output_type": "stream",
     "text": [
      "CC(C)COC(=O)C(C)C\n"
     ]
    },
    {
     "name": "stderr",
     "output_type": "stream",
     "text": [
      "\r",
      " 30%|██▉       | 190/642 [2:32:50<6:03:36, 48.27s/it]"
     ]
    },
    {
     "name": "stdout",
     "output_type": "stream",
     "text": [
      "c1ccc2c(c1)cccc2N\n"
     ]
    },
    {
     "name": "stderr",
     "output_type": "stream",
     "text": [
      "\r",
      " 30%|██▉       | 191/642 [2:32:50<6:00:54, 48.02s/it]"
     ]
    },
    {
     "name": "stdout",
     "output_type": "stream",
     "text": [
      "CCCCC[N+](=O)[O-]\n"
     ]
    },
    {
     "name": "stderr",
     "output_type": "stream",
     "text": [
      "\r",
      " 30%|██▉       | 192/642 [2:32:54<5:58:22, 47.78s/it]"
     ]
    },
    {
     "name": "stdout",
     "output_type": "stream",
     "text": [
      "c1ccc2cc(ccc2c1)O\n"
     ]
    },
    {
     "name": "stderr",
     "output_type": "stream",
     "text": [
      "\r",
      " 30%|███       | 193/642 [2:32:54<5:55:44, 47.54s/it]"
     ]
    },
    {
     "name": "stdout",
     "output_type": "stream",
     "text": [
      "c1ccc2cc(ccc2c1)N\n"
     ]
    },
    {
     "name": "stderr",
     "output_type": "stream",
     "text": [
      " 30%|███       | 195/642 [2:32:55<5:50:32, 47.05s/it]"
     ]
    },
    {
     "name": "stdout",
     "output_type": "stream",
     "text": [
      "c1cc(c(cc1O)Cl)Cl\n",
      "Cc1ccc(c(c1)OC)O\n"
     ]
    },
    {
     "name": "stderr",
     "output_type": "stream",
     "text": [
      "\r",
      " 31%|███       | 196/642 [2:32:55<5:47:58, 46.81s/it]"
     ]
    },
    {
     "name": "stdout",
     "output_type": "stream",
     "text": [
      "C(C(Cl)(Cl)Cl)Cl\n",
      "COC(C(Cl)Cl)(F)F\n"
     ]
    },
    {
     "name": "stderr",
     "output_type": "stream",
     "text": [
      "\r",
      " 31%|███       | 198/642 [2:32:56<5:42:57, 46.35s/it]"
     ]
    },
    {
     "name": "stdout",
     "output_type": "stream",
     "text": [
      "c1cc(cc(c1)O)C=O\n"
     ]
    },
    {
     "name": "stderr",
     "output_type": "stream",
     "text": [
      " 31%|███       | 200/642 [2:32:56<5:38:00, 45.88s/it]"
     ]
    },
    {
     "name": "stdout",
     "output_type": "stream",
     "text": [
      "C1=CC(=O)C=CC1=O\n",
      "CC(C)(C)c1ccccc1\n"
     ]
    },
    {
     "name": "stderr",
     "output_type": "stream",
     "text": [
      "\r",
      " 31%|███▏      | 201/642 [2:32:57<5:35:34, 45.66s/it]"
     ]
    },
    {
     "name": "stdout",
     "output_type": "stream",
     "text": [
      "c1ccc(c(c1)C=O)O\n"
     ]
    },
    {
     "name": "stderr",
     "output_type": "stream",
     "text": [
      "\r",
      " 31%|███▏      | 202/642 [2:32:57<5:33:10, 45.43s/it]"
     ]
    },
    {
     "name": "stdout",
     "output_type": "stream",
     "text": [
      "Cc1ccc(cc1)C(C)C\n"
     ]
    },
    {
     "name": "stderr",
     "output_type": "stream",
     "text": [
      "\r",
      " 32%|███▏      | 203/642 [2:32:57<5:30:47, 45.21s/it]"
     ]
    },
    {
     "name": "stdout",
     "output_type": "stream",
     "text": [
      "c1ccc(cc1)C(=O)N\n"
     ]
    },
    {
     "name": "stderr",
     "output_type": "stream",
     "text": [
      " 32%|███▏      | 205/642 [2:32:58<5:26:05, 44.77s/it]"
     ]
    },
    {
     "name": "stdout",
     "output_type": "stream",
     "text": [
      "c1cc(cc(c1)O)C#N\n",
      "CCc1cccc2c1cccc2\n"
     ]
    },
    {
     "name": "stderr",
     "output_type": "stream",
     "text": [
      "\r",
      " 32%|███▏      | 206/642 [2:32:59<5:23:47, 44.56s/it]"
     ]
    },
    {
     "name": "stdout",
     "output_type": "stream",
     "text": [
      "CC[C@@H](C)C(C)C\n"
     ]
    },
    {
     "name": "stderr",
     "output_type": "stream",
     "text": [
      "\r",
      " 32%|███▏      | 207/642 [2:33:00<5:21:31, 44.35s/it]"
     ]
    },
    {
     "name": "stdout",
     "output_type": "stream",
     "text": [
      "c1cc(cc(c1)Cl)Cl\n",
      "c1ccc(c(c1)Cl)Cl\n"
     ]
    },
    {
     "name": "stderr",
     "output_type": "stream",
     "text": [
      " 33%|███▎      | 210/642 [2:33:00<5:14:45, 43.72s/it]"
     ]
    },
    {
     "name": "stdout",
     "output_type": "stream",
     "text": [
      "C(C(Cl)Cl)(Cl)Cl\n",
      "Cc1cc2ccccc2cc1C\n"
     ]
    },
    {
     "name": "stderr",
     "output_type": "stream",
     "text": [
      "\r",
      " 33%|███▎      | 211/642 [2:33:00<5:12:33, 43.51s/it]"
     ]
    },
    {
     "name": "stdout",
     "output_type": "stream",
     "text": [
      "CCCC[N+](=O)[O-]\n"
     ]
    },
    {
     "name": "stderr",
     "output_type": "stream",
     "text": [
      "\r",
      " 33%|███▎      | 212/642 [2:33:01<5:10:23, 43.31s/it]"
     ]
    },
    {
     "name": "stdout",
     "output_type": "stream",
     "text": [
      "CCOP(=O)(OCC)OCC\n"
     ]
    },
    {
     "name": "stderr",
     "output_type": "stream",
     "text": [
      "\r",
      " 33%|███▎      | 213/642 [2:33:27<5:09:05, 43.23s/it]"
     ]
    },
    {
     "name": "stdout",
     "output_type": "stream",
     "text": [
      "CC(=O)OCCOC(=O)C\n"
     ]
    },
    {
     "name": "stderr",
     "output_type": "stream",
     "text": [
      " 33%|███▎      | 215/642 [2:33:37<5:05:06, 42.87s/it]"
     ]
    },
    {
     "name": "stdout",
     "output_type": "stream",
     "text": [
      "c1ccc2c(c1)cccn2\n",
      "CCOC(=O)c1ccccc1\n"
     ]
    },
    {
     "name": "stderr",
     "output_type": "stream",
     "text": [
      " 34%|███▍      | 217/642 [2:33:39<5:00:56, 42.49s/it]"
     ]
    },
    {
     "name": "stdout",
     "output_type": "stream",
     "text": [
      "Cc1ccc(c(c1)C)C\n",
      "CC(C)CCC(C)(C)C\n"
     ]
    },
    {
     "name": "stderr",
     "output_type": "stream",
     "text": [
      " 34%|███▍      | 219/642 [2:33:40<4:56:50, 42.10s/it]"
     ]
    },
    {
     "name": "stdout",
     "output_type": "stream",
     "text": [
      "Cc1ccc(c(c1)O)C\n",
      "Cc1ccc(c(c1)C)O\n"
     ]
    },
    {
     "name": "stderr",
     "output_type": "stream",
     "text": [
      " 34%|███▍      | 221/642 [2:33:41<4:52:46, 41.73s/it]"
     ]
    },
    {
     "name": "stdout",
     "output_type": "stream",
     "text": [
      "c1cc(cc(c1)Cl)N\n",
      "COC(=O)C(F)(F)F\n",
      "Cc1cccc2c1cccc2\n"
     ]
    },
    {
     "name": "stderr",
     "output_type": "stream",
     "text": [
      "\r",
      " 35%|███▍      | 223/642 [2:33:41<4:48:46, 41.35s/it]"
     ]
    },
    {
     "name": "stdout",
     "output_type": "stream",
     "text": [
      "C[C@H](CC(C)C)O\n"
     ]
    },
    {
     "name": "stderr",
     "output_type": "stream",
     "text": [
      "\r",
      " 35%|███▍      | 224/642 [2:33:42<4:46:49, 41.17s/it]"
     ]
    },
    {
     "name": "stdout",
     "output_type": "stream",
     "text": [
      "c1ccc2c(c1)CCC2\n"
     ]
    },
    {
     "name": "stderr",
     "output_type": "stream",
     "text": [
      " 35%|███▌      | 226/642 [2:33:42<4:42:55, 40.81s/it]"
     ]
    },
    {
     "name": "stdout",
     "output_type": "stream",
     "text": [
      "c1cc(cc(c1)Cl)O\n",
      "CCCCOC[C@H](C)O\n"
     ]
    },
    {
     "name": "stderr",
     "output_type": "stream",
     "text": [
      "\r",
      " 35%|███▌      | 227/642 [2:33:59<4:41:31, 40.70s/it]"
     ]
    },
    {
     "name": "stdout",
     "output_type": "stream",
     "text": [
      "COc1cccc(c1O)OC\n"
     ]
    },
    {
     "name": "stderr",
     "output_type": "stream",
     "text": [
      "\r",
      " 36%|███▌      | 228/642 [2:33:59<4:39:37, 40.53s/it]"
     ]
    },
    {
     "name": "stdout",
     "output_type": "stream",
     "text": [
      "CCC[N+](=O)[O-]\n"
     ]
    },
    {
     "name": "stderr",
     "output_type": "stream",
     "text": [
      "\r",
      " 36%|███▌      | 229/642 [2:34:00<4:37:44, 40.35s/it]"
     ]
    },
    {
     "name": "stdout",
     "output_type": "stream",
     "text": [
      "COC(CC#N)(OC)OC\n"
     ]
    },
    {
     "name": "stderr",
     "output_type": "stream",
     "text": [
      "\r",
      " 36%|███▌      | 230/642 [2:34:02<4:35:55, 40.18s/it]"
     ]
    },
    {
     "name": "stdout",
     "output_type": "stream",
     "text": [
      "COC(=O)C1CCCCC1\n"
     ]
    },
    {
     "name": "stderr",
     "output_type": "stream",
     "text": [
      "\r",
      " 36%|███▌      | 231/642 [2:34:03<4:34:05, 40.01s/it]"
     ]
    },
    {
     "name": "stdout",
     "output_type": "stream",
     "text": [
      "CCCC[C@@H](C)CC\n"
     ]
    },
    {
     "name": "stderr",
     "output_type": "stream",
     "text": [
      " 36%|███▋      | 233/642 [2:34:08<4:30:34, 39.69s/it]"
     ]
    },
    {
     "name": "stdout",
     "output_type": "stream",
     "text": [
      "c1ccc(c(c1)O)Cl\n",
      "COC(=O)c1ccccc1\n"
     ]
    },
    {
     "name": "stderr",
     "output_type": "stream",
     "text": [
      "\r",
      " 36%|███▋      | 234/642 [2:34:08<4:28:46, 39.53s/it]"
     ]
    },
    {
     "name": "stdout",
     "output_type": "stream",
     "text": [
      "CC[C@H](C(C)C)O\n"
     ]
    },
    {
     "name": "stderr",
     "output_type": "stream",
     "text": [
      " 37%|███▋      | 236/642 [2:34:09<4:25:12, 39.19s/it]"
     ]
    },
    {
     "name": "stdout",
     "output_type": "stream",
     "text": [
      "Cc1cc(cc(c1)C)C\n",
      "c1ccc(c(c1)N)Cl\n"
     ]
    },
    {
     "name": "stderr",
     "output_type": "stream",
     "text": [
      "\r",
      " 37%|███▋      | 237/642 [2:34:09<4:23:26, 39.03s/it]"
     ]
    },
    {
     "name": "stdout",
     "output_type": "stream",
     "text": [
      "CC(C)C(=O)C(C)C\n"
     ]
    },
    {
     "name": "stderr",
     "output_type": "stream",
     "text": [
      "\r",
      " 37%|███▋      | 238/642 [2:34:10<4:21:43, 38.87s/it]"
     ]
    },
    {
     "name": "stdout",
     "output_type": "stream",
     "text": [
      "CCCCCCCCCC(=O)C\n"
     ]
    },
    {
     "name": "stderr",
     "output_type": "stream",
     "text": [
      "\r",
      " 37%|███▋      | 239/642 [2:40:35<4:30:47, 40.32s/it]"
     ]
    },
    {
     "name": "stdout",
     "output_type": "stream",
     "text": [
      "Cc1cc(cc(c1)O)C\n"
     ]
    },
    {
     "name": "stderr",
     "output_type": "stream",
     "text": [
      "\r",
      " 37%|███▋      | 240/642 [2:40:35<4:28:59, 40.15s/it]"
     ]
    },
    {
     "name": "stdout",
     "output_type": "stream",
     "text": [
      "CC(C)(C)C(=O)OC\n"
     ]
    },
    {
     "name": "stderr",
     "output_type": "stream",
     "text": [
      "\r",
      " 38%|███▊      | 241/642 [2:40:35<4:27:13, 39.98s/it]"
     ]
    },
    {
     "name": "stdout",
     "output_type": "stream",
     "text": [
      "C(Cl)(Cl)(Cl)Cl\n",
      "CC(C)Cc1ccccc1\n"
     ]
    },
    {
     "name": "stderr",
     "output_type": "stream",
     "text": [
      "\r",
      " 38%|███▊      | 243/642 [2:40:36<4:23:42, 39.66s/it]"
     ]
    },
    {
     "name": "stdout",
     "output_type": "stream",
     "text": [
      "COC(CCl)(OC)OC\n"
     ]
    },
    {
     "name": "stderr",
     "output_type": "stream",
     "text": [
      " 38%|███▊      | 245/642 [2:40:38<4:20:18, 39.34s/it]"
     ]
    },
    {
     "name": "stdout",
     "output_type": "stream",
     "text": [
      "CC[N+](=O)[O-]\n",
      "CC(=O)c1ccccc1\n"
     ]
    },
    {
     "name": "stderr",
     "output_type": "stream",
     "text": [
      "\r",
      " 38%|███▊      | 246/642 [2:40:38<4:18:36, 39.18s/it]"
     ]
    },
    {
     "name": "stdout",
     "output_type": "stream",
     "text": [
      "c1cc(ccc1C=O)O\n"
     ]
    },
    {
     "name": "stderr",
     "output_type": "stream",
     "text": [
      "\r",
      " 38%|███▊      | 247/642 [2:40:39<4:16:54, 39.02s/it]"
     ]
    },
    {
     "name": "stdout",
     "output_type": "stream",
     "text": [
      "CCCCCCCCC(=O)C\n"
     ]
    },
    {
     "name": "stderr",
     "output_type": "stream",
     "text": [
      "\r",
      " 39%|███▊      | 248/642 [2:44:22<4:21:09, 39.77s/it]"
     ]
    },
    {
     "name": "stdout",
     "output_type": "stream",
     "text": [
      "CC(=O)C(C)(C)C\n"
     ]
    },
    {
     "name": "stderr",
     "output_type": "stream",
     "text": [
      " 39%|███▉      | 250/642 [2:44:23<4:17:45, 39.45s/it]"
     ]
    },
    {
     "name": "stdout",
     "output_type": "stream",
     "text": [
      "c1cc(ccc1Br)Br\n",
      "CCCCCCc1ccccc1\n"
     ]
    },
    {
     "name": "stderr",
     "output_type": "stream",
     "text": [
      " 39%|███▉      | 252/642 [2:44:44<4:14:57, 39.23s/it]"
     ]
    },
    {
     "name": "stdout",
     "output_type": "stream",
     "text": [
      "Cc1cc(ccc1Cl)O\n",
      "CC(=O)c1cccnc1\n"
     ]
    },
    {
     "name": "stderr",
     "output_type": "stream",
     "text": [
      "\r",
      " 39%|███▉      | 253/642 [2:44:45<4:13:18, 39.07s/it]"
     ]
    },
    {
     "name": "stdout",
     "output_type": "stream",
     "text": [
      "CCCc1ccc(cc1)O\n"
     ]
    },
    {
     "name": "stderr",
     "output_type": "stream",
     "text": [
      "\r",
      " 40%|███▉      | 254/642 [2:44:45<4:11:41, 38.92s/it]"
     ]
    },
    {
     "name": "stdout",
     "output_type": "stream",
     "text": [
      "c1ccc(cc1)CCCO\n"
     ]
    },
    {
     "name": "stderr",
     "output_type": "stream",
     "text": [
      " 40%|███▉      | 256/642 [2:44:47<4:08:27, 38.62s/it]"
     ]
    },
    {
     "name": "stdout",
     "output_type": "stream",
     "text": [
      "c1ccc(c(c1)O)F\n",
      "c1cc(ccc1Cl)Cl\n",
      "c1cc(ccc1C#N)O\n"
     ]
    },
    {
     "name": "stderr",
     "output_type": "stream",
     "text": [
      "\r",
      " 40%|████      | 258/642 [2:44:47<4:05:15, 38.32s/it]"
     ]
    },
    {
     "name": "stdout",
     "output_type": "stream",
     "text": [
      "CC(C)C(C)C(C)C\n"
     ]
    },
    {
     "name": "stderr",
     "output_type": "stream",
     "text": [
      "\r",
      " 40%|████      | 259/642 [2:44:48<4:03:42, 38.18s/it]"
     ]
    },
    {
     "name": "stdout",
     "output_type": "stream",
     "text": [
      "CCCCCCCC(=O)OC\n"
     ]
    },
    {
     "name": "stderr",
     "output_type": "stream",
     "text": [
      " 41%|████      | 261/642 [2:47:15<4:04:09, 38.45s/it]"
     ]
    },
    {
     "name": "stdout",
     "output_type": "stream",
     "text": [
      "Cc1ccc(cc1)C=O\n",
      "CC(C)CC(C)(C)C\n"
     ]
    },
    {
     "name": "stderr",
     "output_type": "stream",
     "text": [
      "\r",
      " 41%|████      | 262/642 [2:47:16<4:02:36, 38.31s/it]"
     ]
    },
    {
     "name": "stdout",
     "output_type": "stream",
     "text": [
      "CC(=C)c1ccccc1\n"
     ]
    },
    {
     "name": "stderr",
     "output_type": "stream",
     "text": [
      " 41%|████      | 264/642 [2:47:16<3:59:30, 38.02s/it]"
     ]
    },
    {
     "name": "stdout",
     "output_type": "stream",
     "text": [
      "c1ccc2ccccc2c1\n",
      "c1ccc(c(c1)O)I\n"
     ]
    },
    {
     "name": "stderr",
     "output_type": "stream",
     "text": [
      "\r",
      " 41%|████▏     | 265/642 [2:47:16<3:57:58, 37.88s/it]"
     ]
    },
    {
     "name": "stdout",
     "output_type": "stream",
     "text": [
      "CC(=O)c1ccncc1\n"
     ]
    },
    {
     "name": "stderr",
     "output_type": "stream",
     "text": [
      "\r",
      " 41%|████▏     | 266/642 [2:47:17<3:56:27, 37.73s/it]"
     ]
    },
    {
     "name": "stdout",
     "output_type": "stream",
     "text": [
      "c1ccc(cc1)OC=O\n"
     ]
    },
    {
     "name": "stderr",
     "output_type": "stream",
     "text": [
      " 42%|████▏     | 268/642 [2:47:17<3:53:27, 37.45s/it]"
     ]
    },
    {
     "name": "stdout",
     "output_type": "stream",
     "text": [
      "C[C@@H](CCl)Cl\n",
      "COCC(OC)(OC)OC\n"
     ]
    },
    {
     "name": "stderr",
     "output_type": "stream",
     "text": [
      "\r",
      " 42%|████▏     | 269/642 [2:47:21<3:52:03, 37.33s/it]"
     ]
    },
    {
     "name": "stdout",
     "output_type": "stream",
     "text": [
      "CC(=O)C1CCCCC1\n"
     ]
    },
    {
     "name": "stderr",
     "output_type": "stream",
     "text": [
      "\r",
      " 42%|████▏     | 270/642 [2:47:21<3:50:35, 37.19s/it]"
     ]
    },
    {
     "name": "stdout",
     "output_type": "stream",
     "text": [
      "CC(C)CCOC(=O)C\n"
     ]
    },
    {
     "name": "stderr",
     "output_type": "stream",
     "text": [
      "\r",
      " 42%|████▏     | 271/642 [2:47:27<3:49:15, 37.08s/it]"
     ]
    },
    {
     "name": "stdout",
     "output_type": "stream",
     "text": [
      "CC(C)Cc1cnccn1\n"
     ]
    },
    {
     "name": "stderr",
     "output_type": "stream",
     "text": [
      "\r",
      " 42%|████▏     | 272/642 [2:47:28<3:47:49, 36.94s/it]"
     ]
    },
    {
     "name": "stdout",
     "output_type": "stream",
     "text": [
      "Cc1cccc(c1N)C\n"
     ]
    },
    {
     "name": "stderr",
     "output_type": "stream",
     "text": [
      "\r",
      " 43%|████▎     | 273/642 [2:47:29<3:46:22, 36.81s/it]"
     ]
    },
    {
     "name": "stdout",
     "output_type": "stream",
     "text": [
      "C[N+](=O)[O-]\n",
      "CC[C@@H](C)CO\n"
     ]
    },
    {
     "name": "stderr",
     "output_type": "stream",
     "text": [
      "\r",
      " 43%|████▎     | 275/642 [2:47:30<3:43:32, 36.55s/it]"
     ]
    },
    {
     "name": "stdout",
     "output_type": "stream",
     "text": [
      "COc1cccc(c1)N\n"
     ]
    },
    {
     "name": "stderr",
     "output_type": "stream",
     "text": [
      "\r",
      " 43%|████▎     | 276/642 [2:47:30<3:42:07, 36.41s/it]"
     ]
    },
    {
     "name": "stdout",
     "output_type": "stream",
     "text": [
      "c1ccc(cc1)CCO\n"
     ]
    },
    {
     "name": "stderr",
     "output_type": "stream",
     "text": [
      "\r",
      " 43%|████▎     | 277/642 [2:47:31<3:40:44, 36.29s/it]"
     ]
    },
    {
     "name": "stdout",
     "output_type": "stream",
     "text": [
      "C(=C(Cl)Cl)Cl\n",
      "CC(C)c1ccccc1\n"
     ]
    },
    {
     "name": "stderr",
     "output_type": "stream",
     "text": [
      "\r",
      " 43%|████▎     | 279/642 [2:47:31<3:37:58, 36.03s/it]"
     ]
    },
    {
     "name": "stdout",
     "output_type": "stream",
     "text": [
      "CCC[C@H](CC)O\n"
     ]
    },
    {
     "name": "stderr",
     "output_type": "stream",
     "text": [
      "\r",
      " 44%|████▎     | 280/642 [2:47:33<3:36:37, 35.91s/it]"
     ]
    },
    {
     "name": "stdout",
     "output_type": "stream",
     "text": [
      "COc1cccc(c1)O\n"
     ]
    },
    {
     "name": "stderr",
     "output_type": "stream",
     "text": [
      "\r",
      " 44%|████▍     | 281/642 [2:47:33<3:35:16, 35.78s/it]"
     ]
    },
    {
     "name": "stdout",
     "output_type": "stream",
     "text": [
      "CCCCCC(=O)OCC\n"
     ]
    },
    {
     "name": "stderr",
     "output_type": "stream",
     "text": [
      "\r",
      " 44%|████▍     | 282/642 [2:48:52<3:35:34, 35.93s/it]"
     ]
    },
    {
     "name": "stdout",
     "output_type": "stream",
     "text": [
      "COP(=O)(OC)OC\n"
     ]
    },
    {
     "name": "stderr",
     "output_type": "stream",
     "text": [
      " 44%|████▍     | 284/642 [2:48:53<3:32:54, 35.68s/it]"
     ]
    },
    {
     "name": "stdout",
     "output_type": "stream",
     "text": [
      "c1ccc(cc1)CBr\n",
      "CCc1ccc(cc1)O\n"
     ]
    },
    {
     "name": "stderr",
     "output_type": "stream",
     "text": [
      "\r",
      " 44%|████▍     | 285/642 [2:48:53<3:31:34, 35.56s/it]"
     ]
    },
    {
     "name": "stdout",
     "output_type": "stream",
     "text": [
      "CC(C)COC(=O)C\n"
     ]
    },
    {
     "name": "stderr",
     "output_type": "stream",
     "text": [
      "\r",
      " 45%|████▍     | 286/642 [2:48:55<3:30:16, 35.44s/it]"
     ]
    },
    {
     "name": "stdout",
     "output_type": "stream",
     "text": [
      "Cc1cccc(c1C)O\n"
     ]
    },
    {
     "name": "stderr",
     "output_type": "stream",
     "text": [
      "\r",
      " 45%|████▍     | 287/642 [2:48:55<3:28:57, 35.32s/it]"
     ]
    },
    {
     "name": "stdout",
     "output_type": "stream",
     "text": [
      "CC(=O)N1CCCC1\n"
     ]
    },
    {
     "name": "stderr",
     "output_type": "stream",
     "text": [
      "\r",
      " 45%|████▍     | 288/642 [2:48:55<3:27:38, 35.19s/it]"
     ]
    },
    {
     "name": "stdout",
     "output_type": "stream",
     "text": [
      "CN(C)c1ccccc1\n"
     ]
    },
    {
     "name": "stderr",
     "output_type": "stream",
     "text": [
      "\r",
      " 45%|████▌     | 289/642 [2:48:56<3:26:20, 35.07s/it]"
     ]
    },
    {
     "name": "stdout",
     "output_type": "stream",
     "text": [
      "CCCCC/C=C/C=O\n"
     ]
    },
    {
     "name": "stderr",
     "output_type": "stream",
     "text": [
      " 45%|████▌     | 291/642 [2:49:18<3:24:13, 34.91s/it]"
     ]
    },
    {
     "name": "stdout",
     "output_type": "stream",
     "text": [
      "Cc1ccc(cc1C)O\n",
      "CCc1ccc(cc1)C\n"
     ]
    },
    {
     "name": "stderr",
     "output_type": "stream",
     "text": [
      "\r",
      " 45%|████▌     | 292/642 [2:49:18<3:22:56, 34.79s/it]"
     ]
    },
    {
     "name": "stdout",
     "output_type": "stream",
     "text": [
      "C(C(F)(F)F)Cl\n",
      "COS(=O)(=O)OC\n"
     ]
    },
    {
     "name": "stderr",
     "output_type": "stream",
     "text": [
      "\r",
      " 46%|████▌     | 294/642 [2:49:19<3:20:25, 34.56s/it]"
     ]
    },
    {
     "name": "stdout",
     "output_type": "stream",
     "text": [
      "CCCCCc1ccccc1\n"
     ]
    },
    {
     "name": "stderr",
     "output_type": "stream",
     "text": [
      " 46%|████▌     | 296/642 [2:49:26<3:18:03, 34.35s/it]"
     ]
    },
    {
     "name": "stdout",
     "output_type": "stream",
     "text": [
      "Cc1cccc(c1O)C\n",
      "c1ccc(cc1)CCl\n"
     ]
    },
    {
     "name": "stderr",
     "output_type": "stream",
     "text": [
      " 46%|████▋     | 298/642 [2:49:26<3:15:36, 34.12s/it]"
     ]
    },
    {
     "name": "stdout",
     "output_type": "stream",
     "text": [
      "c1cc(ccc1N)Cl\n",
      "CCCCC(=O)CCCC\n"
     ]
    },
    {
     "name": "stderr",
     "output_type": "stream",
     "text": [
      " 47%|████▋     | 300/642 [2:51:09<3:15:07, 34.23s/it]"
     ]
    },
    {
     "name": "stdout",
     "output_type": "stream",
     "text": [
      "c1ccc(cc1)C=O\n",
      "c1cc(ccc1O)Cl\n"
     ]
    },
    {
     "name": "stderr",
     "output_type": "stream",
     "text": [
      " 47%|████▋     | 302/642 [2:51:09<3:12:42, 34.01s/it]"
     ]
    },
    {
     "name": "stdout",
     "output_type": "stream",
     "text": [
      "c1cc(cnc1)C#N\n",
      "CCC[C@@H](C)O\n"
     ]
    },
    {
     "name": "stderr",
     "output_type": "stream",
     "text": [
      "\r",
      " 47%|████▋     | 303/642 [2:51:10<3:11:30, 33.90s/it]"
     ]
    },
    {
     "name": "stdout",
     "output_type": "stream",
     "text": [
      "CCC[C@H](C)CC\n"
     ]
    },
    {
     "name": "stderr",
     "output_type": "stream",
     "text": [
      " 48%|████▊     | 305/642 [2:51:12<3:09:10, 33.68s/it]"
     ]
    },
    {
     "name": "stdout",
     "output_type": "stream",
     "text": [
      "c1cc(ccc1O)Br\n",
      "COc1ccc(cc1)N\n"
     ]
    },
    {
     "name": "stderr",
     "output_type": "stream",
     "text": [
      "\r",
      " 48%|████▊     | 306/642 [2:51:12<3:07:59, 33.57s/it]"
     ]
    },
    {
     "name": "stdout",
     "output_type": "stream",
     "text": [
      "CCCCCCCC(=O)C\n"
     ]
    },
    {
     "name": "stderr",
     "output_type": "stream",
     "text": [
      "\r",
      " 48%|████▊     | 307/642 [2:52:32<3:08:16, 33.72s/it]"
     ]
    },
    {
     "name": "stdout",
     "output_type": "stream",
     "text": [
      "Cc1cccc(c1C)C\n"
     ]
    },
    {
     "name": "stderr",
     "output_type": "stream",
     "text": [
      "\r",
      " 48%|████▊     | 308/642 [2:52:33<3:07:06, 33.61s/it]"
     ]
    },
    {
     "name": "stdout",
     "output_type": "stream",
     "text": [
      "CCc1cccc(c1)O\n"
     ]
    },
    {
     "name": "stderr",
     "output_type": "stream",
     "text": [
      "\r",
      " 48%|████▊     | 309/642 [2:52:33<3:05:57, 33.51s/it]"
     ]
    },
    {
     "name": "stdout",
     "output_type": "stream",
     "text": [
      "c1ccc(cc1)C#N\n",
      "Cc1ccc(cc1)Br\n"
     ]
    },
    {
     "name": "stderr",
     "output_type": "stream",
     "text": [
      "\r",
      " 48%|████▊     | 311/642 [2:52:33<3:03:39, 33.29s/it]"
     ]
    },
    {
     "name": "stdout",
     "output_type": "stream",
     "text": [
      "CCCCCOC(=O)CC\n"
     ]
    },
    {
     "name": "stderr",
     "output_type": "stream",
     "text": [
      " 49%|████▉     | 313/642 [2:53:40<3:02:33, 33.29s/it]"
     ]
    },
    {
     "name": "stdout",
     "output_type": "stream",
     "text": [
      "c1cc(cnc1)C=O\n",
      "CCCCCCOC(=O)C\n"
     ]
    },
    {
     "name": "stderr",
     "output_type": "stream",
     "text": [
      " 49%|████▉     | 315/642 [2:54:09<3:00:47, 33.17s/it]"
     ]
    },
    {
     "name": "stdout",
     "output_type": "stream",
     "text": [
      "Cc1ccc(cc1)O\n",
      "CC[C@H](C)Cl\n"
     ]
    },
    {
     "name": "stderr",
     "output_type": "stream",
     "text": [
      " 49%|████▉     | 317/642 [2:54:10<2:58:33, 32.97s/it]"
     ]
    },
    {
     "name": "stdout",
     "output_type": "stream",
     "text": [
      "Cc1ccc(nc1)C\n",
      "C(F)(F)(F)Br\n",
      "COc1ccccc1OC\n"
     ]
    },
    {
     "name": "stderr",
     "output_type": "stream",
     "text": [
      " 50%|████▉     | 320/642 [2:54:10<2:55:16, 32.66s/it]"
     ]
    },
    {
     "name": "stdout",
     "output_type": "stream",
     "text": [
      "C1C=CC=CC=C1\n",
      "COS(=O)(=O)C\n"
     ]
    },
    {
     "name": "stderr",
     "output_type": "stream",
     "text": [
      "\r",
      " 50%|█████     | 321/642 [2:54:10<2:54:10, 32.56s/it]"
     ]
    },
    {
     "name": "stdout",
     "output_type": "stream",
     "text": [
      "CC(C)OC(=O)C\n"
     ]
    },
    {
     "name": "stderr",
     "output_type": "stream",
     "text": [
      "\r",
      " 50%|█████     | 322/642 [2:54:11<2:53:06, 32.46s/it]"
     ]
    },
    {
     "name": "stdout",
     "output_type": "stream",
     "text": [
      "CC(OC)(OC)OC\n"
     ]
    },
    {
     "name": "stderr",
     "output_type": "stream",
     "text": [
      "\r",
      " 50%|█████     | 323/642 [2:54:12<2:52:02, 32.36s/it]"
     ]
    },
    {
     "name": "stdout",
     "output_type": "stream",
     "text": [
      "CC(C)CC(=O)C\n"
     ]
    },
    {
     "name": "stderr",
     "output_type": "stream",
     "text": [
      "\r",
      " 50%|█████     | 324/642 [2:54:12<2:50:59, 32.26s/it]"
     ]
    },
    {
     "name": "stdout",
     "output_type": "stream",
     "text": [
      "C(C(Cl)Cl)Cl\n",
      "Cc1ccc(cc1)C\n"
     ]
    },
    {
     "name": "stderr",
     "output_type": "stream",
     "text": [
      "\r",
      " 51%|█████     | 326/642 [2:54:13<2:48:52, 32.06s/it]"
     ]
    },
    {
     "name": "stdout",
     "output_type": "stream",
     "text": [
      "CCOCCOC(=O)C\n"
     ]
    },
    {
     "name": "stderr",
     "output_type": "stream",
     "text": [
      " 51%|█████     | 328/642 [2:54:23<2:46:57, 31.90s/it]"
     ]
    },
    {
     "name": "stdout",
     "output_type": "stream",
     "text": [
      "C[C@H]1CCCO1\n",
      "C1CCCC(CC1)O\n"
     ]
    },
    {
     "name": "stderr",
     "output_type": "stream",
     "text": [
      "\r",
      " 51%|█████     | 329/642 [2:54:24<2:45:55, 31.81s/it]"
     ]
    },
    {
     "name": "stdout",
     "output_type": "stream",
     "text": [
      "Cc1ccccc1C=O\n"
     ]
    },
    {
     "name": "stderr",
     "output_type": "stream",
     "text": [
      " 52%|█████▏    | 332/642 [2:54:24<2:42:51, 31.52s/it]"
     ]
    },
    {
     "name": "stdout",
     "output_type": "stream",
     "text": [
      "C(C(F)(F)F)O\n",
      "c1ccc(cc1)Br\n",
      "c1cc(cnc1)Cl\n"
     ]
    },
    {
     "name": "stderr",
     "output_type": "stream",
     "text": [
      "\r",
      " 52%|█████▏    | 334/642 [2:54:25<2:40:50, 31.33s/it]"
     ]
    },
    {
     "name": "stdout",
     "output_type": "stream",
     "text": [
      "Cc1ccnc(c1)C\n",
      "Cc1cccc(n1)C\n"
     ]
    },
    {
     "name": "stderr",
     "output_type": "stream",
     "text": [
      " 52%|█████▏    | 336/642 [2:54:25<2:38:50, 31.15s/it]"
     ]
    },
    {
     "name": "stdout",
     "output_type": "stream",
     "text": [
      "Cc1cccc(c1)O\n",
      "CCCC(=O)OCCC\n"
     ]
    },
    {
     "name": "stderr",
     "output_type": "stream",
     "text": [
      " 53%|█████▎    | 338/642 [2:54:52<2:37:16, 31.04s/it]"
     ]
    },
    {
     "name": "stdout",
     "output_type": "stream",
     "text": [
      "c1ccc(cc1)CO\n",
      "c1ccc(cc1)Cl\n",
      "CC(C)CC(=O)O\n"
     ]
    },
    {
     "name": "stderr",
     "output_type": "stream",
     "text": [
      "\r",
      " 53%|█████▎    | 340/642 [2:54:52<2:35:20, 30.86s/it]"
     ]
    },
    {
     "name": "stdout",
     "output_type": "stream",
     "text": [
      "CCCCCC1CCCC1\n"
     ]
    },
    {
     "name": "stderr",
     "output_type": "stream",
     "text": [
      " 53%|█████▎    | 342/642 [2:55:09<2:33:39, 30.73s/it]"
     ]
    },
    {
     "name": "stdout",
     "output_type": "stream",
     "text": [
      "c1cc(ccc1O)F\n",
      "CC(Cl)(Cl)Cl\n",
      "CCCCc1ccccc1\n"
     ]
    },
    {
     "name": "stderr",
     "output_type": "stream",
     "text": [
      "\r",
      " 54%|█████▎    | 344/642 [2:55:11<2:31:45, 30.56s/it]"
     ]
    },
    {
     "name": "stdout",
     "output_type": "stream",
     "text": [
      "CCCCCC(=O)OC\n"
     ]
    },
    {
     "name": "stderr",
     "output_type": "stream",
     "text": [
      "\r",
      " 54%|█████▎    | 345/642 [2:55:24<2:31:00, 30.51s/it]"
     ]
    },
    {
     "name": "stdout",
     "output_type": "stream",
     "text": [
      "CC1CCC(CC1)C\n"
     ]
    },
    {
     "name": "stderr",
     "output_type": "stream",
     "text": [
      " 54%|█████▍    | 347/642 [2:55:24<2:29:07, 30.33s/it]"
     ]
    },
    {
     "name": "stdout",
     "output_type": "stream",
     "text": [
      "Cc1ccc(cc1)N\n",
      "CC(=C)C(=C)C\n"
     ]
    },
    {
     "name": "stderr",
     "output_type": "stream",
     "text": [
      "\r",
      " 54%|█████▍    | 348/642 [2:55:25<2:28:12, 30.25s/it]"
     ]
    },
    {
     "name": "stdout",
     "output_type": "stream",
     "text": [
      "COC(=O)C1CC1\n"
     ]
    },
    {
     "name": "stderr",
     "output_type": "stream",
     "text": [
      "\r",
      " 54%|█████▍    | 349/642 [2:55:25<2:27:16, 30.16s/it]"
     ]
    },
    {
     "name": "stdout",
     "output_type": "stream",
     "text": [
      "CCCCC(=O)OCC\n"
     ]
    },
    {
     "name": "stderr",
     "output_type": "stream",
     "text": [
      "\r",
      " 55%|█████▍    | 350/642 [2:55:48<2:26:40, 30.14s/it]"
     ]
    },
    {
     "name": "stdout",
     "output_type": "stream",
     "text": [
      "CN1CCN(CC1)C\n"
     ]
    },
    {
     "name": "stderr",
     "output_type": "stream",
     "text": [
      "\r",
      " 55%|█████▍    | 351/642 [2:55:49<2:25:45, 30.05s/it]"
     ]
    },
    {
     "name": "stdout",
     "output_type": "stream",
     "text": [
      "CCCCCCC(=O)C\n"
     ]
    },
    {
     "name": "stderr",
     "output_type": "stream",
     "text": [
      " 55%|█████▍    | 353/642 [2:56:21<2:24:23, 29.98s/it]"
     ]
    },
    {
     "name": "stdout",
     "output_type": "stream",
     "text": [
      "Cc1cc(cnc1)C\n",
      "C1CCC(=O)CC1\n"
     ]
    },
    {
     "name": "stderr",
     "output_type": "stream",
     "text": [
      "\r",
      " 55%|█████▌    | 354/642 [2:56:21<2:23:28, 29.89s/it]"
     ]
    },
    {
     "name": "stdout",
     "output_type": "stream",
     "text": [
      "c1ccnc(c1)Cl\n",
      "CCCCCOC(=O)C\n"
     ]
    },
    {
     "name": "stderr",
     "output_type": "stream",
     "text": [
      "\r",
      " 55%|█████▌    | 356/642 [2:56:34<2:21:50, 29.76s/it]"
     ]
    },
    {
     "name": "stdout",
     "output_type": "stream",
     "text": [
      "CS(=O)(=O)Cl\n",
      "Cc1cccc(c1)C\n"
     ]
    },
    {
     "name": "stderr",
     "output_type": "stream",
     "text": [
      "\r",
      " 56%|█████▌    | 358/642 [2:56:34<2:20:04, 29.59s/it]"
     ]
    },
    {
     "name": "stdout",
     "output_type": "stream",
     "text": [
      "CCOc1ccccc1\n"
     ]
    },
    {
     "name": "stderr",
     "output_type": "stream",
     "text": [
      "\r",
      " 56%|█████▌    | 359/642 [2:56:34<2:19:11, 29.51s/it]"
     ]
    },
    {
     "name": "stdout",
     "output_type": "stream",
     "text": [
      "CCCC(=O)OCC\n"
     ]
    },
    {
     "name": "stderr",
     "output_type": "stream",
     "text": [
      " 56%|█████▌    | 361/642 [2:56:40<2:17:31, 29.36s/it]"
     ]
    },
    {
     "name": "stdout",
     "output_type": "stream",
     "text": [
      "Cc1c[nH]cn1\n",
      "C1CCC(CC1)N\n"
     ]
    },
    {
     "name": "stderr",
     "output_type": "stream",
     "text": [
      "\r",
      " 56%|█████▋    | 362/642 [2:56:40<2:16:39, 29.28s/it]"
     ]
    },
    {
     "name": "stdout",
     "output_type": "stream",
     "text": [
      "C(=C\\Cl)\\Cl\n",
      "CCc1ccccc1O\n"
     ]
    },
    {
     "name": "stderr",
     "output_type": "stream",
     "text": [
      " 57%|█████▋    | 365/642 [2:56:41<2:14:05, 29.05s/it]"
     ]
    },
    {
     "name": "stdout",
     "output_type": "stream",
     "text": [
      "CC[C@H](C)O\n",
      "CCCC(C)(C)O\n"
     ]
    },
    {
     "name": "stderr",
     "output_type": "stream",
     "text": [
      " 57%|█████▋    | 368/642 [2:56:42<2:11:34, 28.81s/it]"
     ]
    },
    {
     "name": "stdout",
     "output_type": "stream",
     "text": [
      "C(Br)(Br)Br\n",
      "c1ccc(cc1)N\n",
      "C1CCC(=O)C1\n"
     ]
    },
    {
     "name": "stderr",
     "output_type": "stream",
     "text": [
      "\r",
      " 57%|█████▋    | 369/642 [2:56:42<2:10:43, 28.73s/it]"
     ]
    },
    {
     "name": "stdout",
     "output_type": "stream",
     "text": [
      "CCCCC(=O)OC\n"
     ]
    },
    {
     "name": "stderr",
     "output_type": "stream",
     "text": [
      "\r",
      " 58%|█████▊    | 370/642 [2:56:45<2:09:56, 28.66s/it]"
     ]
    },
    {
     "name": "stdout",
     "output_type": "stream",
     "text": [
      "CCCCCCCCCCO\n"
     ]
    },
    {
     "name": "stderr",
     "output_type": "stream",
     "text": [
      "\r",
      " 58%|█████▊    | 371/642 [3:02:40<2:13:26, 29.54s/it]"
     ]
    },
    {
     "name": "stdout",
     "output_type": "stream",
     "text": [
      "CCCCCC(=O)O\n"
     ]
    },
    {
     "name": "stderr",
     "output_type": "stream",
     "text": [
      "\r",
      " 58%|█████▊    | 372/642 [3:02:44<2:12:38, 29.47s/it]"
     ]
    },
    {
     "name": "stdout",
     "output_type": "stream",
     "text": [
      "COc1ccccc1N\n"
     ]
    },
    {
     "name": "stderr",
     "output_type": "stream",
     "text": [
      "\r",
      " 58%|█████▊    | 373/642 [3:02:44<2:11:47, 29.40s/it]"
     ]
    },
    {
     "name": "stdout",
     "output_type": "stream",
     "text": [
      "CCCCCC(=O)C\n"
     ]
    },
    {
     "name": "stderr",
     "output_type": "stream",
     "text": [
      "\r",
      " 58%|█████▊    | 374/642 [3:02:53<2:11:03, 29.34s/it]"
     ]
    },
    {
     "name": "stdout",
     "output_type": "stream",
     "text": [
      "CCCOC(=O)CC\n"
     ]
    },
    {
     "name": "stderr",
     "output_type": "stream",
     "text": [
      " 59%|█████▊    | 376/642 [3:02:59<2:09:27, 29.20s/it]"
     ]
    },
    {
     "name": "stdout",
     "output_type": "stream",
     "text": [
      "c1ccc(cc1)F\n",
      "CCC(C)(C)CC\n"
     ]
    },
    {
     "name": "stderr",
     "output_type": "stream",
     "text": [
      "\r",
      " 59%|█████▊    | 377/642 [3:03:00<2:08:38, 29.13s/it]"
     ]
    },
    {
     "name": "stdout",
     "output_type": "stream",
     "text": [
      "CCCCOC(=O)C\n"
     ]
    },
    {
     "name": "stderr",
     "output_type": "stream",
     "text": [
      "\r",
      " 59%|█████▉    | 378/642 [3:03:03<2:07:51, 29.06s/it]"
     ]
    },
    {
     "name": "stdout",
     "output_type": "stream",
     "text": [
      "CC(=O)C1CC1\n"
     ]
    },
    {
     "name": "stderr",
     "output_type": "stream",
     "text": [
      "\r",
      " 59%|█████▉    | 379/642 [3:03:04<2:07:02, 28.98s/it]"
     ]
    },
    {
     "name": "stdout",
     "output_type": "stream",
     "text": [
      "C(Cl)(Cl)Cl\n",
      "C(F)(F)(F)F\n",
      "CCC/C=C/C=O\n"
     ]
    },
    {
     "name": "stderr",
     "output_type": "stream",
     "text": [
      " 60%|█████▉    | 383/642 [3:03:06<2:03:49, 28.69s/it]"
     ]
    },
    {
     "name": "stdout",
     "output_type": "stream",
     "text": [
      "c1cnccc1C=O\n",
      "CC(C)CC(C)C\n"
     ]
    },
    {
     "name": "stderr",
     "output_type": "stream",
     "text": [
      " 60%|█████▉    | 385/642 [3:03:06<2:02:14, 28.54s/it]"
     ]
    },
    {
     "name": "stdout",
     "output_type": "stream",
     "text": [
      "Cc1ccccc1Cl\n",
      "c1ccc(cc1)O\n"
     ]
    },
    {
     "name": "stderr",
     "output_type": "stream",
     "text": [
      "\r",
      " 60%|██████    | 386/642 [3:03:06<2:01:26, 28.46s/it]"
     ]
    },
    {
     "name": "stdout",
     "output_type": "stream",
     "text": [
      "c1cnccc1C#N\n",
      "CC(C)SC(C)C\n"
     ]
    },
    {
     "name": "stderr",
     "output_type": "stream",
     "text": [
      "\r",
      " 60%|██████    | 388/642 [3:03:07<1:59:52, 28.32s/it]"
     ]
    },
    {
     "name": "stdout",
     "output_type": "stream",
     "text": [
      "CS(=O)(=O)C\n",
      "C1CCC(CC1)O\n"
     ]
    },
    {
     "name": "stderr",
     "output_type": "stream",
     "text": [
      "\r",
      " 61%|██████    | 390/642 [3:03:07<1:58:19, 28.17s/it]"
     ]
    },
    {
     "name": "stdout",
     "output_type": "stream",
     "text": [
      "CCCc1ccccc1\n"
     ]
    },
    {
     "name": "stderr",
     "output_type": "stream",
     "text": [
      "\r",
      " 61%|██████    | 391/642 [3:03:08<1:57:33, 28.10s/it]"
     ]
    },
    {
     "name": "stdout",
     "output_type": "stream",
     "text": [
      "C(CCl)OCCCl\n"
     ]
    },
    {
     "name": "stderr",
     "output_type": "stream",
     "text": [
      " 61%|██████    | 393/642 [3:03:09<1:56:03, 27.96s/it]"
     ]
    },
    {
     "name": "stdout",
     "output_type": "stream",
     "text": [
      "c1ccc(cc1)I\n",
      "CCCCCC(=O)N\n"
     ]
    },
    {
     "name": "stderr",
     "output_type": "stream",
     "text": [
      "\r",
      " 61%|██████▏   | 394/642 [3:03:16<1:55:21, 27.91s/it]"
     ]
    },
    {
     "name": "stdout",
     "output_type": "stream",
     "text": [
      "COC(=O)CC#N\n"
     ]
    },
    {
     "name": "stderr",
     "output_type": "stream",
     "text": [
      "\r",
      " 62%|██████▏   | 395/642 [3:03:16<1:54:36, 27.84s/it]"
     ]
    },
    {
     "name": "stdout",
     "output_type": "stream",
     "text": [
      "CCCC(C)(C)C\n"
     ]
    },
    {
     "name": "stderr",
     "output_type": "stream",
     "text": [
      "\r",
      " 62%|██████▏   | 396/642 [3:03:17<1:53:51, 27.77s/it]"
     ]
    },
    {
     "name": "stdout",
     "output_type": "stream",
     "text": [
      "CCCCCCCCC=O\n"
     ]
    },
    {
     "name": "stderr",
     "output_type": "stream",
     "text": [
      "\r",
      " 62%|██████▏   | 397/642 [3:04:40<1:53:57, 27.91s/it]"
     ]
    },
    {
     "name": "stdout",
     "output_type": "stream",
     "text": [
      "CC(C)OC(C)C\n"
     ]
    },
    {
     "name": "stderr",
     "output_type": "stream",
     "text": [
      "\r",
      " 62%|██████▏   | 398/642 [3:04:40<1:53:13, 27.84s/it]"
     ]
    },
    {
     "name": "stdout",
     "output_type": "stream",
     "text": [
      "CC(C)CCOC=O\n"
     ]
    },
    {
     "name": "stderr",
     "output_type": "stream",
     "text": [
      "\r",
      " 62%|██████▏   | 399/642 [3:04:42<1:52:29, 27.77s/it]"
     ]
    },
    {
     "name": "stdout",
     "output_type": "stream",
     "text": [
      "C(=C/Cl)\\Cl\n",
      "COc1ccccc1O\n"
     ]
    },
    {
     "name": "stderr",
     "output_type": "stream",
     "text": [
      " 63%|██████▎   | 402/642 [3:04:42<1:50:16, 27.57s/it]"
     ]
    },
    {
     "name": "stdout",
     "output_type": "stream",
     "text": [
      "CC(C)C(=O)C\n",
      "CCCC(=O)CCC\n"
     ]
    },
    {
     "name": "stderr",
     "output_type": "stream",
     "text": [
      "\r",
      " 63%|██████▎   | 403/642 [3:04:47<1:49:35, 27.51s/it]"
     ]
    },
    {
     "name": "stdout",
     "output_type": "stream",
     "text": [
      "CCc1ccccc1C\n"
     ]
    },
    {
     "name": "stderr",
     "output_type": "stream",
     "text": [
      " 63%|██████▎   | 406/642 [3:04:48<1:47:25, 27.31s/it]"
     ]
    },
    {
     "name": "stdout",
     "output_type": "stream",
     "text": [
      "c1ccc(cc1)S\n",
      "C=Cc1ccccc1\n",
      "CC(C)NC(C)C\n"
     ]
    },
    {
     "name": "stderr",
     "output_type": "stream",
     "text": [
      "\r",
      " 63%|██████▎   | 407/642 [3:04:48<1:46:42, 27.24s/it]"
     ]
    },
    {
     "name": "stdout",
     "output_type": "stream",
     "text": [
      "CCc1cnccn1\n"
     ]
    },
    {
     "name": "stderr",
     "output_type": "stream",
     "text": [
      " 64%|██████▍   | 410/642 [3:04:49<1:44:34, 27.05s/it]"
     ]
    },
    {
     "name": "stdout",
     "output_type": "stream",
     "text": [
      "Cc1ccccc1O\n",
      "c1cnc[nH]1\n",
      "CCCC/C=C/C\n"
     ]
    },
    {
     "name": "stderr",
     "output_type": "stream",
     "text": [
      " 64%|██████▍   | 412/642 [3:04:50<1:43:11, 26.92s/it]"
     ]
    },
    {
     "name": "stdout",
     "output_type": "stream",
     "text": [
      "CCC(C)(C)C\n",
      "CCCCCCCC=O\n"
     ]
    },
    {
     "name": "stderr",
     "output_type": "stream",
     "text": [
      " 64%|██████▍   | 414/642 [3:05:20<1:42:04, 26.86s/it]"
     ]
    },
    {
     "name": "stdout",
     "output_type": "stream",
     "text": [
      "Cc1ccccc1C\n",
      "CSc1ccccc1\n"
     ]
    },
    {
     "name": "stderr",
     "output_type": "stream",
     "text": [
      " 65%|██████▍   | 416/642 [3:05:20<1:40:41, 26.73s/it]"
     ]
    },
    {
     "name": "stdout",
     "output_type": "stream",
     "text": [
      "COC(=O)CCl\n",
      "CCCCCCCCCO\n"
     ]
    },
    {
     "name": "stderr",
     "output_type": "stream",
     "text": [
      " 65%|██████▌   | 418/642 [3:07:29<1:40:28, 26.91s/it]"
     ]
    },
    {
     "name": "stdout",
     "output_type": "stream",
     "text": [
      "CCc1ccncc1\n",
      "Cc1ccccc1N\n"
     ]
    },
    {
     "name": "stderr",
     "output_type": "stream",
     "text": [
      "\r",
      " 65%|██████▌   | 419/642 [3:07:29<1:39:47, 26.85s/it]"
     ]
    },
    {
     "name": "stdout",
     "output_type": "stream",
     "text": [
      "CCCCC(=O)O\n"
     ]
    },
    {
     "name": "stderr",
     "output_type": "stream",
     "text": [
      "\r",
      " 65%|██████▌   | 420/642 [3:07:30<1:39:06, 26.79s/it]"
     ]
    },
    {
     "name": "stdout",
     "output_type": "stream",
     "text": [
      "CC(C)C(C)C\n"
     ]
    },
    {
     "name": "stderr",
     "output_type": "stream",
     "text": [
      "\r",
      " 66%|██████▌   | 421/642 [3:07:30<1:38:25, 26.72s/it]"
     ]
    },
    {
     "name": "stdout",
     "output_type": "stream",
     "text": [
      "CCOC(C)OCC\n"
     ]
    },
    {
     "name": "stderr",
     "output_type": "stream",
     "text": [
      " 66%|██████▌   | 423/642 [3:07:32<1:37:05, 26.60s/it]"
     ]
    },
    {
     "name": "stdout",
     "output_type": "stream",
     "text": [
      "C1CCC(C1)O\n",
      "c1cc[nH]c1\n",
      "CC(C)COC=O\n"
     ]
    },
    {
     "name": "stderr",
     "output_type": "stream",
     "text": [
      " 66%|██████▋   | 426/642 [3:07:32<1:35:05, 26.41s/it]"
     ]
    },
    {
     "name": "stdout",
     "output_type": "stream",
     "text": [
      "CC(C)(C)OC\n",
      "CCCCC(=O)C\n"
     ]
    },
    {
     "name": "stderr",
     "output_type": "stream",
     "text": [
      "\r",
      " 67%|██████▋   | 427/642 [3:07:34<1:34:26, 26.36s/it]"
     ]
    },
    {
     "name": "stdout",
     "output_type": "stream",
     "text": [
      "C(CCCl)CCl\n"
     ]
    },
    {
     "name": "stderr",
     "output_type": "stream",
     "text": [
      "\r",
      " 67%|██████▋   | 428/642 [3:07:34<1:33:47, 26.30s/it]"
     ]
    },
    {
     "name": "stdout",
     "output_type": "stream",
     "text": [
      "CNc1ccccc1\n"
     ]
    },
    {
     "name": "stderr",
     "output_type": "stream",
     "text": [
      "\r",
      " 67%|██████▋   | 429/642 [3:07:34<1:33:08, 26.24s/it]"
     ]
    },
    {
     "name": "stdout",
     "output_type": "stream",
     "text": [
      "CCCCCCCCCC\n"
     ]
    },
    {
     "name": "stderr",
     "output_type": "stream",
     "text": [
      "\r",
      " 67%|██████▋   | 430/642 [3:08:42<1:33:02, 26.33s/it]"
     ]
    },
    {
     "name": "stdout",
     "output_type": "stream",
     "text": [
      "CCC(=O)OCC\n"
     ]
    },
    {
     "name": "stderr",
     "output_type": "stream",
     "text": [
      " 67%|██████▋   | 432/642 [3:08:43<1:31:44, 26.21s/it]"
     ]
    },
    {
     "name": "stdout",
     "output_type": "stream",
     "text": [
      "CC1=CCCCC1\n",
      "CCCCCCCC=C\n"
     ]
    },
    {
     "name": "stderr",
     "output_type": "stream",
     "text": [
      "\r",
      " 67%|██████▋   | 433/642 [3:09:08<1:31:17, 26.21s/it]"
     ]
    },
    {
     "name": "stdout",
     "output_type": "stream",
     "text": [
      "CC(C)(C)Br\n",
      "C(C(CO)O)O\n"
     ]
    },
    {
     "name": "stderr",
     "output_type": "stream",
     "text": [
      "\r",
      " 68%|██████▊   | 435/642 [3:09:09<1:30:00, 26.09s/it]"
     ]
    },
    {
     "name": "stdout",
     "output_type": "stream",
     "text": [
      "CCCC(=O)OC\n"
     ]
    },
    {
     "name": "stderr",
     "output_type": "stream",
     "text": [
      "\r",
      " 68%|██████▊   | 436/642 [3:09:09<1:29:22, 26.03s/it]"
     ]
    },
    {
     "name": "stdout",
     "output_type": "stream",
     "text": [
      "CCCCCCCCBr\n"
     ]
    },
    {
     "name": "stderr",
     "output_type": "stream",
     "text": [
      " 68%|██████▊   | 438/642 [3:09:56<1:28:27, 26.02s/it]"
     ]
    },
    {
     "name": "stdout",
     "output_type": "stream",
     "text": [
      "Cc1ccncc1C\n",
      "CC(C)(C)Cl\n",
      "CCc1ccccn1\n"
     ]
    },
    {
     "name": "stderr",
     "output_type": "stream",
     "text": [
      "\r",
      " 69%|██████▊   | 440/642 [3:09:56<1:27:12, 25.90s/it]"
     ]
    },
    {
     "name": "stdout",
     "output_type": "stream",
     "text": [
      "CCCC1CCCC1\n"
     ]
    },
    {
     "name": "stderr",
     "output_type": "stream",
     "text": [
      "\r",
      " 69%|██████▊   | 441/642 [3:09:57<1:26:34, 25.85s/it]"
     ]
    },
    {
     "name": "stdout",
     "output_type": "stream",
     "text": [
      "Cc1cccnc1C\n"
     ]
    },
    {
     "name": "stderr",
     "output_type": "stream",
     "text": [
      " 69%|██████▉   | 443/642 [3:09:58<1:25:20, 25.73s/it]"
     ]
    },
    {
     "name": "stdout",
     "output_type": "stream",
     "text": [
      "COc1ccccc1\n",
      "CCC(C)(C)O\n"
     ]
    },
    {
     "name": "stderr",
     "output_type": "stream",
     "text": [
      "\r",
      " 69%|██████▉   | 444/642 [3:09:58<1:24:43, 25.67s/it]"
     ]
    },
    {
     "name": "stdout",
     "output_type": "stream",
     "text": [
      "CCCOC(=O)C\n"
     ]
    },
    {
     "name": "stderr",
     "output_type": "stream",
     "text": [
      "\r",
      " 69%|██████▉   | 445/642 [3:09:59<1:24:06, 25.62s/it]"
     ]
    },
    {
     "name": "stdout",
     "output_type": "stream",
     "text": [
      "CCc1cccnc1\n"
     ]
    },
    {
     "name": "stderr",
     "output_type": "stream",
     "text": [
      " 70%|██████▉   | 447/642 [3:10:00<1:22:53, 25.50s/it]"
     ]
    },
    {
     "name": "stdout",
     "output_type": "stream",
     "text": [
      "CCc1ccccc1\n",
      "Cc1ccncc1\n",
      "C1CCC=CC1\n"
     ]
    },
    {
     "name": "stderr",
     "output_type": "stream",
     "text": [
      "\r",
      " 70%|██████▉   | 449/642 [3:10:00<1:21:40, 25.39s/it]"
     ]
    },
    {
     "name": "stdout",
     "output_type": "stream",
     "text": [
      "CCCCCCCBr\n"
     ]
    },
    {
     "name": "stderr",
     "output_type": "stream",
     "text": [
      "\r",
      " 70%|███████   | 450/642 [3:10:13<1:21:09, 25.36s/it]"
     ]
    },
    {
     "name": "stdout",
     "output_type": "stream",
     "text": [
      "CCCCCCC#C\n"
     ]
    },
    {
     "name": "stderr",
     "output_type": "stream",
     "text": [
      "\r",
      " 70%|███████   | 451/642 [3:10:17<1:20:35, 25.32s/it]"
     ]
    },
    {
     "name": "stdout",
     "output_type": "stream",
     "text": [
      "CCN(CC)CC\n"
     ]
    },
    {
     "name": "stderr",
     "output_type": "stream",
     "text": [
      "\r",
      " 70%|███████   | 452/642 [3:10:18<1:19:59, 25.26s/it]"
     ]
    },
    {
     "name": "stdout",
     "output_type": "stream",
     "text": [
      "CCCCOCCCC\n"
     ]
    },
    {
     "name": "stderr",
     "output_type": "stream",
     "text": [
      "\r",
      " 71%|███████   | 453/642 [3:10:35<1:19:31, 25.24s/it]"
     ]
    },
    {
     "name": "stdout",
     "output_type": "stream",
     "text": [
      "COC(OC)OC\n"
     ]
    },
    {
     "name": "stderr",
     "output_type": "stream",
     "text": [
      " 71%|███████   | 455/642 [3:10:36<1:18:20, 25.13s/it]"
     ]
    },
    {
     "name": "stdout",
     "output_type": "stream",
     "text": [
      "CCOC(=O)C\n",
      "CCCCCCC=C\n"
     ]
    },
    {
     "name": "stderr",
     "output_type": "stream",
     "text": [
      "\r",
      " 71%|███████   | 456/642 [3:10:42<1:17:47, 25.09s/it]"
     ]
    },
    {
     "name": "stdout",
     "output_type": "stream",
     "text": [
      "CCCC(=O)C\n"
     ]
    },
    {
     "name": "stderr",
     "output_type": "stream",
     "text": [
      " 71%|███████▏  | 459/642 [3:10:43<1:16:02, 24.93s/it]"
     ]
    },
    {
     "name": "stdout",
     "output_type": "stream",
     "text": [
      "CC(=C)C=C\n",
      "C/C=C/C=O\n",
      "CN1CCOCC1\n"
     ]
    },
    {
     "name": "stderr",
     "output_type": "stream",
     "text": [
      "\r",
      " 72%|███████▏  | 460/642 [3:10:43<1:15:27, 24.88s/it]"
     ]
    },
    {
     "name": "stdout",
     "output_type": "stream",
     "text": [
      "CC(C)(C)O\n",
      "CC1CCCCC1\n"
     ]
    },
    {
     "name": "stderr",
     "output_type": "stream",
     "text": [
      " 72%|███████▏  | 463/642 [3:10:44<1:13:44, 24.72s/it]"
     ]
    },
    {
     "name": "stdout",
     "output_type": "stream",
     "text": [
      "CN1CCCCC1\n",
      "CCC(=O)OC\n"
     ]
    },
    {
     "name": "stderr",
     "output_type": "stream",
     "text": [
      "\r",
      " 72%|███████▏  | 464/642 [3:10:44<1:13:10, 24.66s/it]"
     ]
    },
    {
     "name": "stdout",
     "output_type": "stream",
     "text": [
      "CCCC(=O)O\n"
     ]
    },
    {
     "name": "stderr",
     "output_type": "stream",
     "text": [
      "\r",
      " 72%|███████▏  | 465/642 [3:10:44<1:12:36, 24.61s/it]"
     ]
    },
    {
     "name": "stdout",
     "output_type": "stream",
     "text": [
      "C=C(Cl)Cl\n",
      "CCCCCCC=O\n"
     ]
    },
    {
     "name": "stderr",
     "output_type": "stream",
     "text": [
      " 73%|███████▎  | 469/642 [3:10:52<1:10:24, 24.42s/it]"
     ]
    },
    {
     "name": "stdout",
     "output_type": "stream",
     "text": [
      "Cc1ccccn1\n",
      "CC(C)(C)C\n",
      "CCCCCCCCC\n"
     ]
    },
    {
     "name": "stderr",
     "output_type": "stream",
     "text": [
      "\r",
      " 73%|███████▎  | 470/642 [3:11:13<1:09:58, 24.41s/it]"
     ]
    },
    {
     "name": "stdout",
     "output_type": "stream",
     "text": [
      "CN1CCNCC1\n"
     ]
    },
    {
     "name": "stderr",
     "output_type": "stream",
     "text": [
      " 74%|███████▎  | 472/642 [3:11:13<1:08:52, 24.31s/it]"
     ]
    },
    {
     "name": "stdout",
     "output_type": "stream",
     "text": [
      "C(CCl)CCl\n",
      "CCCCNCCCC\n"
     ]
    },
    {
     "name": "stderr",
     "output_type": "stream",
     "text": [
      "\r",
      " 74%|███████▎  | 473/642 [3:11:36<1:08:27, 24.30s/it]"
     ]
    },
    {
     "name": "stdout",
     "output_type": "stream",
     "text": [
      "CCC(=O)CC\n"
     ]
    },
    {
     "name": "stderr",
     "output_type": "stream",
     "text": [
      "\r",
      " 74%|███████▍  | 474/642 [3:11:36<1:07:54, 24.25s/it]"
     ]
    },
    {
     "name": "stdout",
     "output_type": "stream",
     "text": [
      "Cc1cnccn1\n",
      "CCCCCCCCl\n"
     ]
    },
    {
     "name": "stderr",
     "output_type": "stream",
     "text": [
      " 74%|███████▍  | 477/642 [3:11:46<1:06:20, 24.12s/it]"
     ]
    },
    {
     "name": "stdout",
     "output_type": "stream",
     "text": [
      "CC(C)OC=O\n",
      "CCCCCCCCN\n"
     ]
    },
    {
     "name": "stderr",
     "output_type": "stream",
     "text": [
      "\r",
      " 74%|███████▍  | 478/642 [3:12:32<1:06:03, 24.17s/it]"
     ]
    },
    {
     "name": "stdout",
     "output_type": "stream",
     "text": [
      "CCCCC(C)C\n"
     ]
    },
    {
     "name": "stderr",
     "output_type": "stream",
     "text": [
      " 75%|███████▍  | 481/642 [3:12:33<1:04:27, 24.02s/it]"
     ]
    },
    {
     "name": "stdout",
     "output_type": "stream",
     "text": [
      "Cc1ccccc1\n",
      "Cc1cccnc1\n",
      "C(F)(F)Cl\n",
      "CCCCCCCCO\n"
     ]
    },
    {
     "name": "stderr",
     "output_type": "stream",
     "text": [
      "\r",
      " 75%|███████▌  | 483/642 [3:13:14<1:03:36, 24.00s/it]"
     ]
    },
    {
     "name": "stdout",
     "output_type": "stream",
     "text": [
      "CCCC(=C)C\n"
     ]
    },
    {
     "name": "stderr",
     "output_type": "stream",
     "text": [
      "\r",
      " 75%|███████▌  | 484/642 [3:13:14<1:03:04, 23.96s/it]"
     ]
    },
    {
     "name": "stdout",
     "output_type": "stream",
     "text": [
      "CC1CCCC1\n"
     ]
    },
    {
     "name": "stderr",
     "output_type": "stream",
     "text": [
      " 76%|███████▌  | 486/642 [3:13:14<1:02:01, 23.86s/it]"
     ]
    },
    {
     "name": "stdout",
     "output_type": "stream",
     "text": [
      "C1COCCN1\n",
      "C1COCCO1\n"
     ]
    },
    {
     "name": "stderr",
     "output_type": "stream",
     "text": [
      "\r",
      " 76%|███████▌  | 487/642 [3:13:15<1:01:30, 23.81s/it]"
     ]
    },
    {
     "name": "stdout",
     "output_type": "stream",
     "text": [
      "c1ccncc1\n",
      "CCCCCCBr\n"
     ]
    },
    {
     "name": "stderr",
     "output_type": "stream",
     "text": [
      "\r",
      " 76%|███████▌  | 489/642 [3:13:20<1:00:29, 23.72s/it]"
     ]
    },
    {
     "name": "stdout",
     "output_type": "stream",
     "text": [
      "CCCCCCCI\n"
     ]
    },
    {
     "name": "stderr",
     "output_type": "stream",
     "text": [
      " 76%|███████▋  | 491/642 [3:13:37<59:32, 23.66s/it]  "
     ]
    },
    {
     "name": "stdout",
     "output_type": "stream",
     "text": [
      "CC(C)C=O\n",
      "c1ccccc1\n",
      "C1CC=CC1\n"
     ]
    },
    {
     "name": "stderr",
     "output_type": "stream",
     "text": [
      "\r",
      " 77%|███████▋  | 493/642 [3:13:37<58:31, 23.57s/it]"
     ]
    },
    {
     "name": "stdout",
     "output_type": "stream",
     "text": [
      "CCCCCCCO\n"
     ]
    },
    {
     "name": "stderr",
     "output_type": "stream",
     "text": [
      "\r",
      " 77%|███████▋  | 494/642 [3:13:49<58:04, 23.54s/it]"
     ]
    },
    {
     "name": "stdout",
     "output_type": "stream",
     "text": [
      "CCCCCCCC\n"
     ]
    },
    {
     "name": "stderr",
     "output_type": "stream",
     "text": [
      "\r",
      " 77%|███████▋  | 495/642 [3:13:56<57:35, 23.51s/it]"
     ]
    },
    {
     "name": "stdout",
     "output_type": "stream",
     "text": [
      "CN(C)C=O\n",
      "CCCCCCCl\n"
     ]
    },
    {
     "name": "stderr",
     "output_type": "stream",
     "text": [
      "\r",
      " 77%|███████▋  | 497/642 [3:13:59<56:35, 23.42s/it]"
     ]
    },
    {
     "name": "stdout",
     "output_type": "stream",
     "text": [
      "CCCCCC#C\n"
     ]
    },
    {
     "name": "stderr",
     "output_type": "stream",
     "text": [
      " 78%|███████▊  | 499/642 [3:14:00<55:35, 23.33s/it]"
     ]
    },
    {
     "name": "stdout",
     "output_type": "stream",
     "text": [
      "CC=C(C)C\n",
      "CC(C)CCO\n"
     ]
    },
    {
     "name": "stderr",
     "output_type": "stream",
     "text": [
      " 78%|███████▊  | 501/642 [3:14:01<54:36, 23.24s/it]"
     ]
    },
    {
     "name": "stdout",
     "output_type": "stream",
     "text": [
      "Cn1ccnc1\n",
      "CCOCCOCC\n"
     ]
    },
    {
     "name": "stderr",
     "output_type": "stream",
     "text": [
      "\r",
      " 78%|███████▊  | 502/642 [3:14:04<54:07, 23.20s/it]"
     ]
    },
    {
     "name": "stdout",
     "output_type": "stream",
     "text": [
      "CCCC(C)C\n"
     ]
    },
    {
     "name": "stderr",
     "output_type": "stream",
     "text": [
      "\r",
      " 78%|███████▊  | 503/642 [3:14:05<53:38, 23.15s/it]"
     ]
    },
    {
     "name": "stdout",
     "output_type": "stream",
     "text": [
      "C(CBr)Cl\n",
      "CCC(C)CC\n"
     ]
    },
    {
     "name": "stderr",
     "output_type": "stream",
     "text": [
      " 79%|███████▉  | 506/642 [3:14:05<52:10, 23.02s/it]"
     ]
    },
    {
     "name": "stdout",
     "output_type": "stream",
     "text": [
      "C1CCCCC1\n",
      "CC(Cl)Cl\n",
      "CCCCCCCN\n"
     ]
    },
    {
     "name": "stderr",
     "output_type": "stream",
     "text": [
      " 79%|███████▉  | 509/642 [3:14:21<50:46, 22.91s/it]"
     ]
    },
    {
     "name": "stdout",
     "output_type": "stream",
     "text": [
      "CC/C=C\\C\n",
      "C(CBr)Br\n"
     ]
    },
    {
     "name": "stderr",
     "output_type": "stream",
     "text": [
      " 80%|███████▉  | 511/642 [3:14:21<49:49, 22.82s/it]"
     ]
    },
    {
     "name": "stdout",
     "output_type": "stream",
     "text": [
      "CC(C)CBr\n",
      "C1CCNCC1\n"
     ]
    },
    {
     "name": "stderr",
     "output_type": "stream",
     "text": [
      "\r",
      " 80%|███████▉  | 512/642 [3:14:21<49:20, 22.78s/it]"
     ]
    },
    {
     "name": "stdout",
     "output_type": "stream",
     "text": [
      "CCCCOCCO\n"
     ]
    },
    {
     "name": "stderr",
     "output_type": "stream",
     "text": [
      " 80%|████████  | 514/642 [3:14:33<48:27, 22.71s/it]"
     ]
    },
    {
     "name": "stdout",
     "output_type": "stream",
     "text": [
      "CCC(=O)N\n",
      "C1CCOCC1\n"
     ]
    },
    {
     "name": "stderr",
     "output_type": "stream",
     "text": [
      "\r",
      " 80%|████████  | 515/642 [3:14:33<47:58, 22.67s/it]"
     ]
    },
    {
     "name": "stdout",
     "output_type": "stream",
     "text": [
      "CC(=O)NC\n",
      "CCCCCC=C\n"
     ]
    },
    {
     "name": "stderr",
     "output_type": "stream",
     "text": [
      "\r",
      " 81%|████████  | 517/642 [3:14:36<47:03, 22.58s/it]"
     ]
    },
    {
     "name": "stdout",
     "output_type": "stream",
     "text": [
      "C=CCCC=C\n"
     ]
    },
    {
     "name": "stderr",
     "output_type": "stream",
     "text": [
      "\r",
      " 81%|████████  | 518/642 [3:14:36<46:35, 22.54s/it]"
     ]
    },
    {
     "name": "stdout",
     "output_type": "stream",
     "text": [
      "CCC(CC)O\n"
     ]
    },
    {
     "name": "stderr",
     "output_type": "stream",
     "text": [
      " 81%|████████  | 520/642 [3:14:37<45:39, 22.46s/it]"
     ]
    },
    {
     "name": "stdout",
     "output_type": "stream",
     "text": [
      "C1CNCCN1\n",
      "C(CCl)Cl\n"
     ]
    },
    {
     "name": "stderr",
     "output_type": "stream",
     "text": [
      "\r",
      " 81%|████████▏ | 522/642 [3:14:37<44:44, 22.37s/it]"
     ]
    },
    {
     "name": "stdout",
     "output_type": "stream",
     "text": [
      "CCC(=O)O\n",
      "CC(=O)OC\n",
      "Cc1cccs1\n"
     ]
    },
    {
     "name": "stderr",
     "output_type": "stream",
     "text": [
      " 82%|████████▏ | 525/642 [3:14:38<43:22, 22.24s/it]"
     ]
    },
    {
     "name": "stdout",
     "output_type": "stream",
     "text": [
      "CC(C)C=C\n",
      "CCCCCC=O\n"
     ]
    },
    {
     "name": "stderr",
     "output_type": "stream",
     "text": [
      " 82%|████████▏ | 527/642 [3:14:40<42:28, 22.17s/it]"
     ]
    },
    {
     "name": "stdout",
     "output_type": "stream",
     "text": [
      "Cn1cccc1\n",
      "CCCCCBr\n"
     ]
    },
    {
     "name": "stderr",
     "output_type": "stream",
     "text": [
      "\r",
      " 82%|████████▏ | 528/642 [3:14:42<42:02, 22.13s/it]"
     ]
    },
    {
     "name": "stdout",
     "output_type": "stream",
     "text": [
      "CCCCCCC\n"
     ]
    },
    {
     "name": "stderr",
     "output_type": "stream",
     "text": [
      "\r",
      " 82%|████████▏ | 529/642 [3:14:44<41:35, 22.09s/it]"
     ]
    },
    {
     "name": "stdout",
     "output_type": "stream",
     "text": [
      "CCCCC=O\n"
     ]
    },
    {
     "name": "stderr",
     "output_type": "stream",
     "text": [
      "\r",
      " 83%|████████▎ | 530/642 [3:14:45<41:09, 22.05s/it]"
     ]
    },
    {
     "name": "stdout",
     "output_type": "stream",
     "text": [
      "CCCOCCC\n"
     ]
    },
    {
     "name": "stderr",
     "output_type": "stream",
     "text": [
      " 83%|████████▎ | 533/642 [3:14:47<39:50, 21.93s/it]"
     ]
    },
    {
     "name": "stdout",
     "output_type": "stream",
     "text": [
      "CS(=O)C\n",
      "C(Cl)Cl\n",
      "C1CCOC1\n"
     ]
    },
    {
     "name": "stderr",
     "output_type": "stream",
     "text": [
      "\r",
      " 83%|████████▎ | 534/642 [3:14:47<39:23, 21.89s/it]"
     ]
    },
    {
     "name": "stdout",
     "output_type": "stream",
     "text": [
      "CCCCC#C\n"
     ]
    },
    {
     "name": "stderr",
     "output_type": "stream",
     "text": [
      "\r",
      " 83%|████████▎ | 535/642 [3:14:48<38:57, 21.85s/it]"
     ]
    },
    {
     "name": "stdout",
     "output_type": "stream",
     "text": [
      "CC(=O)C\n",
      "CCCSCCC\n"
     ]
    },
    {
     "name": "stderr",
     "output_type": "stream",
     "text": [
      "\r",
      " 84%|████████▎ | 537/642 [3:14:50<38:05, 21.77s/it]"
     ]
    },
    {
     "name": "stdout",
     "output_type": "stream",
     "text": [
      "CCCOCCO\n"
     ]
    },
    {
     "name": "stderr",
     "output_type": "stream",
     "text": [
      "\r",
      " 84%|████████▍ | 538/642 [3:14:54<37:40, 21.74s/it]"
     ]
    },
    {
     "name": "stdout",
     "output_type": "stream",
     "text": [
      "CC(=C)C\n",
      "C=CCC=C\n"
     ]
    },
    {
     "name": "stderr",
     "output_type": "stream",
     "text": [
      "\r",
      " 84%|████████▍ | 540/642 [3:14:55<36:49, 21.66s/it]"
     ]
    },
    {
     "name": "stdout",
     "output_type": "stream",
     "text": [
      "CCCCCCI\n"
     ]
    },
    {
     "name": "stderr",
     "output_type": "stream",
     "text": [
      " 85%|████████▍ | 543/642 [3:15:01<35:33, 21.55s/it]"
     ]
    },
    {
     "name": "stdout",
     "output_type": "stream",
     "text": [
      "CC(C)Cl\n",
      "CC(=O)N\n",
      "C(Br)Br\n",
      "CC(C)Br\n"
     ]
    },
    {
     "name": "stderr",
     "output_type": "stream",
     "text": [
      " 85%|████████▌ | 546/642 [3:15:01<34:17, 21.43s/it]"
     ]
    },
    {
     "name": "stdout",
     "output_type": "stream",
     "text": [
      "CC(C)CO\n",
      "CCCCC=C\n"
     ]
    },
    {
     "name": "stderr",
     "output_type": "stream",
     "text": [
      "\r",
      " 85%|████████▌ | 547/642 [3:15:02<33:52, 21.39s/it]"
     ]
    },
    {
     "name": "stdout",
     "output_type": "stream",
     "text": [
      "CCCCC#N\n"
     ]
    },
    {
     "name": "stderr",
     "output_type": "stream",
     "text": [
      "\r",
      " 85%|████████▌ | 548/642 [3:15:02<33:27, 21.35s/it]"
     ]
    },
    {
     "name": "stdout",
     "output_type": "stream",
     "text": [
      "CCCOC=O\n"
     ]
    },
    {
     "name": "stderr",
     "output_type": "stream",
     "text": [
      " 86%|████████▌ | 550/642 [3:15:02<32:37, 21.28s/it]"
     ]
    },
    {
     "name": "stdout",
     "output_type": "stream",
     "text": [
      "C1CCCC1\n",
      "CCCCCCN\n"
     ]
    },
    {
     "name": "stderr",
     "output_type": "stream",
     "text": [
      "\r",
      " 86%|████████▌ | 551/642 [3:15:07<32:13, 21.25s/it]"
     ]
    },
    {
     "name": "stdout",
     "output_type": "stream",
     "text": [
      "CCCNCCC\n"
     ]
    },
    {
     "name": "stderr",
     "output_type": "stream",
     "text": [
      "\r",
      " 86%|████████▌ | 552/642 [3:15:10<31:49, 21.21s/it]"
     ]
    },
    {
     "name": "stdout",
     "output_type": "stream",
     "text": [
      "CC(=O)O\n",
      "CCCCCCl\n"
     ]
    },
    {
     "name": "stderr",
     "output_type": "stream",
     "text": [
      " 86%|████████▋ | 555/642 [3:15:11<30:35, 21.10s/it]"
     ]
    },
    {
     "name": "stdout",
     "output_type": "stream",
     "text": [
      "C1CCNC1\n",
      "CC(C)OC\n"
     ]
    },
    {
     "name": "stderr",
     "output_type": "stream",
     "text": [
      "\r",
      " 87%|████████▋ | 556/642 [3:15:11<30:11, 21.06s/it]"
     ]
    },
    {
     "name": "stdout",
     "output_type": "stream",
     "text": [
      "c1ccsc1\n",
      "CCC(C)C\n"
     ]
    },
    {
     "name": "stderr",
     "output_type": "stream",
     "text": [
      "\r",
      " 87%|████████▋ | 558/642 [3:15:11<29:23, 20.99s/it]"
     ]
    },
    {
     "name": "stdout",
     "output_type": "stream",
     "text": [
      "CCCCCCO\n"
     ]
    },
    {
     "name": "stderr",
     "output_type": "stream",
     "text": [
      "\r",
      " 87%|████████▋ | 559/642 [3:15:15<28:59, 20.96s/it]"
     ]
    },
    {
     "name": "stdout",
     "output_type": "stream",
     "text": [
      "C1CNC1\n",
      "CCCCCO\n"
     ]
    },
    {
     "name": "stderr",
     "output_type": "stream",
     "text": [
      " 88%|████████▊ | 562/642 [3:15:16<27:47, 20.85s/it]"
     ]
    },
    {
     "name": "stdout",
     "output_type": "stream",
     "text": [
      "C(CO)O\n",
      "C=CC=C\n",
      "CC(F)F\n"
     ]
    },
    {
     "name": "stderr",
     "output_type": "stream",
     "text": [
      " 88%|████████▊ | 565/642 [3:15:16<26:36, 20.74s/it]"
     ]
    },
    {
     "name": "stdout",
     "output_type": "stream",
     "text": [
      "CCOC=O\n",
      "CCCC#C\n"
     ]
    },
    {
     "name": "stderr",
     "output_type": "stream",
     "text": [
      "\r",
      " 88%|████████▊ | 566/642 [3:15:16<26:13, 20.70s/it]"
     ]
    },
    {
     "name": "stdout",
     "output_type": "stream",
     "text": [
      "CCCC=O\n"
     ]
    },
    {
     "name": "stderr",
     "output_type": "stream",
     "text": [
      "\r",
      " 88%|████████▊ | 567/642 [3:15:16<25:49, 20.66s/it]"
     ]
    },
    {
     "name": "stdout",
     "output_type": "stream",
     "text": [
      "COCCOC\n"
     ]
    },
    {
     "name": "stderr",
     "output_type": "stream",
     "text": [
      "\r",
      " 88%|████████▊ | 568/642 [3:15:17<25:26, 20.63s/it]"
     ]
    },
    {
     "name": "stdout",
     "output_type": "stream",
     "text": [
      "CCCCCC\n"
     ]
    },
    {
     "name": "stderr",
     "output_type": "stream",
     "text": [
      " 89%|████████▉ | 571/642 [3:15:18<24:17, 20.52s/it]"
     ]
    },
    {
     "name": "stdout",
     "output_type": "stream",
     "text": [
      "C(F)Cl\n",
      "CC(C)I\n",
      "CN(C)C\n",
      "CCCCCl\n"
     ]
    },
    {
     "name": "stderr",
     "output_type": "stream",
     "text": [
      "\r",
      " 89%|████████▉ | 573/642 [3:15:18<23:31, 20.45s/it]"
     ]
    },
    {
     "name": "stdout",
     "output_type": "stream",
     "text": [
      "CCCCCN\n"
     ]
    },
    {
     "name": "stderr",
     "output_type": "stream",
     "text": [
      " 90%|████████▉ | 576/642 [3:15:19<22:22, 20.35s/it]"
     ]
    },
    {
     "name": "stdout",
     "output_type": "stream",
     "text": [
      "CC(C)O\n",
      "CC(C)C\n",
      "CCCCCI\n"
     ]
    },
    {
     "name": "stderr",
     "output_type": "stream",
     "text": [
      "\r",
      " 90%|████████▉ | 577/642 [3:15:21<22:00, 20.32s/it]"
     ]
    },
    {
     "name": "stdout",
     "output_type": "stream",
     "text": [
      "CCCC#N\n",
      "CCSSCC\n"
     ]
    },
    {
     "name": "stderr",
     "output_type": "stream",
     "text": [
      "\r",
      " 90%|█████████ | 579/642 [3:15:22<21:15, 20.25s/it]"
     ]
    },
    {
     "name": "stdout",
     "output_type": "stream",
     "text": [
      "CCCCBr\n"
     ]
    },
    {
     "name": "stderr",
     "output_type": "stream",
     "text": [
      "\r",
      " 90%|█████████ | 580/642 [3:15:23<20:53, 20.21s/it]"
     ]
    },
    {
     "name": "stdout",
     "output_type": "stream",
     "text": [
      "CCOCCO\n"
     ]
    },
    {
     "name": "stderr",
     "output_type": "stream",
     "text": [
      "\r",
      " 90%|█████████ | 581/642 [3:15:24<20:30, 20.18s/it]"
     ]
    },
    {
     "name": "stdout",
     "output_type": "stream",
     "text": [
      "C=CCCl\n",
      "CCCC=C\n"
     ]
    },
    {
     "name": "stderr",
     "output_type": "stream",
     "text": [
      "\r",
      " 91%|█████████ | 583/642 [3:15:24<19:46, 20.11s/it]"
     ]
    },
    {
     "name": "stdout",
     "output_type": "stream",
     "text": [
      "COC=O\n",
      "CCCOC\n"
     ]
    },
    {
     "name": "stderr",
     "output_type": "stream",
     "text": [
      "\r",
      " 91%|█████████ | 585/642 [3:15:24<19:02, 20.04s/it]"
     ]
    },
    {
     "name": "stdout",
     "output_type": "stream",
     "text": [
      "COCCO\n"
     ]
    },
    {
     "name": "stderr",
     "output_type": "stream",
     "text": [
      "\r",
      " 91%|█████████▏| 586/642 [3:15:25<18:40, 20.01s/it]"
     ]
    },
    {
     "name": "stdout",
     "output_type": "stream",
     "text": [
      "CCCCN\n"
     ]
    },
    {
     "name": "stderr",
     "output_type": "stream",
     "text": [
      "\r",
      " 91%|█████████▏| 587/642 [3:15:25<18:18, 19.98s/it]"
     ]
    },
    {
     "name": "stdout",
     "output_type": "stream",
     "text": [
      "CCCCO\n"
     ]
    },
    {
     "name": "stderr",
     "output_type": "stream",
     "text": [
      "\r",
      " 92%|█████████▏| 588/642 [3:15:25<17:56, 19.94s/it]"
     ]
    },
    {
     "name": "stdout",
     "output_type": "stream",
     "text": [
      "CCCCI\n"
     ]
    },
    {
     "name": "stderr",
     "output_type": "stream",
     "text": [
      "\r",
      " 92%|█████████▏| 589/642 [3:15:26<17:35, 19.91s/it]"
     ]
    },
    {
     "name": "stdout",
     "output_type": "stream",
     "text": [
      "CCSCC\n"
     ]
    },
    {
     "name": "stderr",
     "output_type": "stream",
     "text": [
      " 92%|█████████▏| 591/642 [3:15:26<16:51, 19.84s/it]"
     ]
    },
    {
     "name": "stdout",
     "output_type": "stream",
     "text": [
      "CCCBr\n",
      "CCNCC\n"
     ]
    },
    {
     "name": "stderr",
     "output_type": "stream",
     "text": [
      "\r",
      " 92%|█████████▏| 592/642 [3:15:26<16:30, 19.81s/it]"
     ]
    },
    {
     "name": "stdout",
     "output_type": "stream",
     "text": [
      "CCCCC\n"
     ]
    },
    {
     "name": "stderr",
     "output_type": "stream",
     "text": [
      "\r",
      " 92%|█████████▏| 593/642 [3:15:27<16:09, 19.78s/it]"
     ]
    },
    {
     "name": "stdout",
     "output_type": "stream",
     "text": [
      "CCC#C\n",
      "CCOCC\n"
     ]
    },
    {
     "name": "stderr",
     "output_type": "stream",
     "text": [
      "\r",
      " 93%|█████████▎| 595/642 [3:15:27<15:26, 19.71s/it]"
     ]
    },
    {
     "name": "stdout",
     "output_type": "stream",
     "text": [
      "CCCCS\n"
     ]
    },
    {
     "name": "stderr",
     "output_type": "stream",
     "text": [
      " 93%|█████████▎| 598/642 [3:15:27<14:22, 19.61s/it]"
     ]
    },
    {
     "name": "stdout",
     "output_type": "stream",
     "text": [
      "CCC=C\n",
      "C(I)I\n",
      "CCCCl\n"
     ]
    },
    {
     "name": "stderr",
     "output_type": "stream",
     "text": [
      "\r",
      " 93%|█████████▎| 600/642 [3:15:27<13:40, 19.55s/it]"
     ]
    },
    {
     "name": "stdout",
     "output_type": "stream",
     "text": [
      "C=CCl\n",
      "COCOC\n"
     ]
    },
    {
     "name": "stderr",
     "output_type": "stream",
     "text": [
      "\r",
      " 94%|█████████▍| 602/642 [3:15:28<12:59, 19.48s/it]"
     ]
    },
    {
     "name": "stdout",
     "output_type": "stream",
     "text": [
      "C=CCO\n",
      "CCC#N\n",
      "CCC=O\n"
     ]
    },
    {
     "name": "stderr",
     "output_type": "stream",
     "text": [
      "\r",
      " 94%|█████████▍| 604/642 [3:15:28<12:17, 19.42s/it]"
     ]
    },
    {
     "name": "stdout",
     "output_type": "stream",
     "text": [
      "COCCN\n"
     ]
    },
    {
     "name": "stderr",
     "output_type": "stream",
     "text": [
      "\r",
      " 94%|█████████▍| 606/642 [3:15:28<11:36, 19.35s/it]"
     ]
    },
    {
     "name": "stdout",
     "output_type": "stream",
     "text": [
      "C1CC1\n",
      "CC#C\n",
      "CCOC\n"
     ]
    },
    {
     "name": "stderr",
     "output_type": "stream",
     "text": [
      " 95%|█████████▌| 610/642 [3:15:29<10:15, 19.23s/it]"
     ]
    },
    {
     "name": "stdout",
     "output_type": "stream",
     "text": [
      "CC=C\n",
      "CCCO\n",
      "CCCl\n"
     ]
    },
    {
     "name": "stderr",
     "output_type": "stream",
     "text": [
      "\r",
      " 95%|█████████▌| 612/642 [3:15:29<09:34, 19.17s/it]"
     ]
    },
    {
     "name": "stdout",
     "output_type": "stream",
     "text": [
      "CCBr\n",
      "CCCI\n"
     ]
    },
    {
     "name": "stderr",
     "output_type": "stream",
     "text": [
      "\r",
      " 96%|█████████▌| 614/642 [3:15:29<08:54, 19.10s/it]"
     ]
    },
    {
     "name": "stdout",
     "output_type": "stream",
     "text": [
      "CC=O\n",
      "CCCC\n",
      "CCSC\n"
     ]
    },
    {
     "name": "stderr",
     "output_type": "stream",
     "text": [
      "\r",
      " 96%|█████████▌| 616/642 [3:15:29<08:15, 19.04s/it]"
     ]
    },
    {
     "name": "stdout",
     "output_type": "stream",
     "text": [
      "CSSC\n",
      "CCCN\n"
     ]
    },
    {
     "name": "stderr",
     "output_type": "stream",
     "text": [
      " 97%|█████████▋| 620/642 [3:15:30<06:56, 18.92s/it]"
     ]
    },
    {
     "name": "stdout",
     "output_type": "stream",
     "text": [
      "CCCS\n",
      "CC#N\n",
      "CCC\n",
      "CCl\n"
     ]
    },
    {
     "name": "stderr",
     "output_type": "stream",
     "text": [
      " 97%|█████████▋| 625/642 [3:15:30<05:19, 18.77s/it]"
     ]
    },
    {
     "name": "stdout",
     "output_type": "stream",
     "text": [
      "CBr\n",
      "CCI\n",
      "CNC\n",
      "CCN\n"
     ]
    },
    {
     "name": "stderr",
     "output_type": "stream",
     "text": [
      " 98%|█████████▊| 630/642 [3:15:30<03:43, 18.62s/it]"
     ]
    },
    {
     "name": "stdout",
     "output_type": "stream",
     "text": [
      "C=C\n",
      "CCO\n",
      "C=O\n",
      "CSC\n",
      "CCS\n"
     ]
    },
    {
     "name": "stderr",
     "output_type": "stream",
     "text": [
      " 99%|█████████▉| 635/642 [3:15:30<02:09, 18.47s/it]"
     ]
    },
    {
     "name": "stdout",
     "output_type": "stream",
     "text": [
      "COC\n",
      "CS\n",
      "CF\n",
      "NN\n",
      "CN\n"
     ]
    },
    {
     "name": "stderr",
     "output_type": "stream",
     "text": [
      "\r",
      " 99%|█████████▉| 638/642 [3:15:30<01:13, 18.39s/it]"
     ]
    },
    {
     "name": "stdout",
     "output_type": "stream",
     "text": [
      "CC\n",
      "CO\n",
      "CI\n",
      "N\n",
      "S\n"
     ]
    },
    {
     "name": "stderr",
     "output_type": "stream",
     "text": [
      "100%|██████████| 642/642 [3:15:31<00:00, 18.27s/it]"
     ]
    },
    {
     "name": "stdout",
     "output_type": "stream",
     "text": [
      "C\n"
     ]
    },
    {
     "name": "stderr",
     "output_type": "stream",
     "text": [
      "\n"
     ]
    }
   ],
   "source": [
    "from tqdm import tqdm\n",
    "import numpy as np\n",
    "mol_top_sys_pos_list = []\n",
    "\n",
    "for smiles in tqdm(sorted_smiles):\n",
    "    mol_top_sys_pos_list.append(tuple(generate_mol_top_sys_pos(smiles)))"
   ]
  },
  {
   "cell_type": "code",
   "execution_count": 10,
   "metadata": {},
   "outputs": [],
   "source": [
    "from pickle import dump\n",
    "with open('mol_top_sys_pos.pkl', 'wb') as f:\n",
    "    dump(mol_top_sys_pos_list, f)"
   ]
  },
  {
   "cell_type": "code",
   "execution_count": 12,
   "metadata": {},
   "outputs": [
    {
     "name": "stdout",
     "output_type": "stream",
     "text": [
      "11621\n"
     ]
    }
   ],
   "source": [
    "total_n_atoms = 0\n",
    "for (mol, top, sys, pos) in mol_top_sys_pos_list:\n",
    "    total_n_atoms += len(pos)\n",
    "print(total_n_atoms)"
   ]
  },
  {
   "cell_type": "code",
   "execution_count": 14,
   "metadata": {},
   "outputs": [],
   "source": [
    "from pickle import dump\n",
    "with open('sorted_smiles.pkl', 'wb') as f:\n",
    "    dump(sorted_smiles, f)"
   ]
  },
  {
   "cell_type": "code",
   "execution_count": null,
   "metadata": {},
   "outputs": [],
   "source": []
  }
 ],
 "metadata": {
  "kernelspec": {
   "display_name": "Python 3",
   "language": "python",
   "name": "python3"
  },
  "language_info": {
   "codemirror_mode": {
    "name": "ipython",
    "version": 3
   },
   "file_extension": ".py",
   "mimetype": "text/x-python",
   "name": "python",
   "nbconvert_exporter": "python",
   "pygments_lexer": "ipython3",
   "version": "3.6.5"
  }
 },
 "nbformat": 4,
 "nbformat_minor": 2
}
