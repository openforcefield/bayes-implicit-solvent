{
 "cells": [
  {
   "cell_type": "code",
   "execution_count": 3,
   "metadata": {},
   "outputs": [],
   "source": [
    "from bayes_implicit_solvent.solvation_free_energy import smiles_list, db, mol_top_sys_pos_list"
   ]
  },
  {
   "cell_type": "code",
   "execution_count": 2,
   "metadata": {},
   "outputs": [
    {
     "data": {
      "text/plain": [
       "['mobley_1017962',\n",
       " 'CCCCCC(=O)OC',\n",
       " 'methyl hexanoate',\n",
       " '-2.49',\n",
       " '0.60',\n",
       " '-3.30',\n",
       " '0.03',\n",
       " '10.1021/ct050097l',\n",
       " '10.1021/ct800409d',\n",
       " 'Experimental uncertainty not presently available, so assigned a default value.  ']"
      ]
     },
     "execution_count": 2,
     "metadata": {},
     "output_type": "execute_result"
    }
   ],
   "source": [
    "db[0]"
   ]
  },
  {
   "cell_type": "code",
   "execution_count": 6,
   "metadata": {},
   "outputs": [
    {
     "name": "stdout",
     "output_type": "stream",
     "text": [
      "{3, 4, 5, 6, 7, 8, 9, 10, 11, 12, 13, 14, 15, 16, 17, 18, 19, 20, 21, 22, 23, 24, 25, 26, 27, 28, 29, 30, 31, 32, 33, 34, 35, 38, 39, 40, 41, 42, 45}\n"
     ]
    }
   ],
   "source": [
    "import numpy as np\n",
    "n_atoms = [len(pos) for (mol, top, sys, pos) in mol_top_sys_pos_list]\n",
    "print(set(n_atoms))"
   ]
  },
  {
   "cell_type": "code",
   "execution_count": 9,
   "metadata": {},
   "outputs": [
    {
     "data": {
      "text/plain": [
       "[('S', 3), ('N', 4), ('C=O', 4), ('C', 5), ('C(Br)Br', 5)]"
      ]
     },
     "execution_count": 9,
     "metadata": {},
     "output_type": "execute_result"
    }
   ],
   "source": [
    "import numpy as np\n",
    "[(smiles_list[i], n_atoms[i]) for i in np.argsort(n_atoms)][:5]"
   ]
  },
  {
   "cell_type": "code",
   "execution_count": 10,
   "metadata": {},
   "outputs": [
    {
     "name": "stdout",
     "output_type": "stream",
     "text": [
      "593\n",
      "['mobley_9055303', 'C', 'methane', '2.00', '0.20', '2.45', '0.01', '10.1039/P29900000291', '10.1021/jp0667442', 'Experimental uncertainty as suggested by 10.1039/P29900000291 -- 0.2 kcal/mol.  ']\n"
     ]
    }
   ],
   "source": [
    "for i in range(len(db)):\n",
    "    if db[i][1] == 'C':\n",
    "        print(i)\n",
    "        print(db[i])"
   ]
  },
  {
   "cell_type": "code",
   "execution_count": null,
   "metadata": {},
   "outputs": [],
   "source": []
  }
 ],
 "metadata": {
  "kernelspec": {
   "display_name": "Python 3",
   "language": "python",
   "name": "python3"
  },
  "language_info": {
   "codemirror_mode": {
    "name": "ipython",
    "version": 3
   },
   "file_extension": ".py",
   "mimetype": "text/x-python",
   "name": "python",
   "nbconvert_exporter": "python",
   "pygments_lexer": "ipython3",
   "version": "3.6.5"
  }
 },
 "nbformat": 4,
 "nbformat_minor": 2
}
