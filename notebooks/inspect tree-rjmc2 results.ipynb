{
 "cells": [
  {
   "cell_type": "code",
   "execution_count": 1,
   "metadata": {
    "ExecuteTime": {
     "end_time": "2019-02-28T13:24:20.554175Z",
     "start_time": "2019-02-28T13:24:15.868456Z"
    }
   },
   "outputs": [],
   "source": [
    "import numpy as np\n",
    "import matplotlib.pyplot as plt\n",
    "from bayes_implicit_solvent.utils import remove_top_right_spines\n",
    "%matplotlib inline"
   ]
  },
  {
   "cell_type": "code",
   "execution_count": 2,
   "metadata": {
    "ExecuteTime": {
     "end_time": "2019-02-28T13:24:20.560535Z",
     "start_time": "2019-02-28T13:24:20.557625Z"
    }
   },
   "outputs": [],
   "source": [
    "path = '../bayes_implicit_solvent/rjmc_experiments/elaborate_tree_rjmc2_run_n_compounds=315_n_iter=10000_gaussian_ll.pkl'\n",
    "\n"
   ]
  },
  {
   "cell_type": "code",
   "execution_count": 3,
   "metadata": {
    "ExecuteTime": {
     "end_time": "2019-02-28T13:24:21.004382Z",
     "start_time": "2019-02-28T13:24:20.562697Z"
    }
   },
   "outputs": [],
   "source": [
    "from pickle import load\n",
    "\n",
    "with open(path, 'rb') as f:\n",
    "    result = load(f)"
   ]
  },
  {
   "cell_type": "code",
   "execution_count": 4,
   "metadata": {
    "ExecuteTime": {
     "end_time": "2019-02-28T13:24:21.011940Z",
     "start_time": "2019-02-28T13:24:21.007024Z"
    }
   },
   "outputs": [
    {
     "data": {
      "text/plain": [
       "dict_keys(['traj', 'log_probs', 'log_acceptance_probabilities'])"
      ]
     },
     "execution_count": 4,
     "metadata": {},
     "output_type": "execute_result"
    }
   ],
   "source": [
    "result.keys()"
   ]
  },
  {
   "cell_type": "code",
   "execution_count": 5,
   "metadata": {
    "ExecuteTime": {
     "end_time": "2019-02-28T13:24:21.017195Z",
     "start_time": "2019-02-28T13:24:21.014437Z"
    }
   },
   "outputs": [],
   "source": [
    "traj = result['traj']"
   ]
  },
  {
   "cell_type": "code",
   "execution_count": 6,
   "metadata": {
    "ExecuteTime": {
     "end_time": "2019-02-28T13:24:21.021240Z",
     "start_time": "2019-02-28T13:24:21.018936Z"
    }
   },
   "outputs": [],
   "source": [
    "log_probs = result['log_probs']"
   ]
  },
  {
   "cell_type": "code",
   "execution_count": 7,
   "metadata": {
    "ExecuteTime": {
     "end_time": "2019-02-28T13:24:22.010775Z",
     "start_time": "2019-02-28T13:24:21.857465Z"
    }
   },
   "outputs": [
    {
     "data": {
      "text/plain": [
       "[<matplotlib.lines.Line2D at 0x1a29bf5c50>]"
      ]
     },
     "execution_count": 7,
     "metadata": {},
     "output_type": "execute_result"
    },
    {
     "data": {
      "image/png": "[encoded data removed]",
      "text/plain": [
       "<Figure size 432x288 with 1 Axes>"
      ]
     },
     "metadata": {
      "needs_background": "light"
     },
     "output_type": "display_data"
    }
   ],
   "source": [
    "plt.plot(log_probs)"
   ]
  },
  {
   "cell_type": "code",
   "execution_count": 8,
   "metadata": {
    "ExecuteTime": {
     "end_time": "2019-02-28T13:24:25.942781Z",
     "start_time": "2019-02-28T13:24:25.937357Z"
    }
   },
   "outputs": [
    {
     "data": {
      "text/plain": [
       "*          (r = 1.50 Å, s = 0.80)\n",
       "|-[#1]     (r = 1.20 Å, s = 0.85)\n",
       "|-[#6]     (r = 1.70 Å, s = 0.72)\n",
       "|-[#7]     (r = 1.55 Å, s = 0.79)\n",
       "|-[#8]     (r = 1.50 Å, s = 0.85)\n",
       "|-[#9]     (r = 1.50 Å, s = 0.88)\n",
       "|-[#15]    (r = 1.85 Å, s = 0.86)\n",
       "|-[#16]    (r = 1.80 Å, s = 0.96)\n",
       "|-[#17]    (r = 1.50 Å, s = 0.80)\n",
       "|-[#35]    (r = 1.50 Å, s = 0.80)\n",
       "|-[#53]    (r = 1.50 Å, s = 0.80)"
      ]
     },
     "execution_count": 8,
     "metadata": {},
     "output_type": "execute_result"
    }
   ],
   "source": [
    "traj[0]"
   ]
  },
  {
   "cell_type": "code",
   "execution_count": 9,
   "metadata": {
    "ExecuteTime": {
     "end_time": "2019-02-28T13:24:26.646336Z",
     "start_time": "2019-02-28T13:24:26.641238Z"
    }
   },
   "outputs": [
    {
     "data": {
      "text/plain": [
       "*                  (r = 2.98 Å, s = 0.80)\n",
       "|-[#1]             (r = 0.55 Å, s = 0.85)\n",
       "|-[#6]             (r = 1.98 Å, s = 0.72)\n",
       "  |-[#6&X4]        (r = 1.93 Å, s = 0.72)\n",
       "|-[#7]             (r = 1.80 Å, s = 0.79)\n",
       "  |-[#7&a]         (r = 1.79 Å, s = 0.78)\n",
       "    |-[#7&a&X2]    (r = 2.17 Å, s = 0.77)\n",
       "  |-[#7&X2]        (r = 0.57 Å, s = 0.79)\n",
       "|-[#8]             (r = 1.66 Å, s = 0.85)\n",
       "  |-[#8&-1]        (r = 1.28 Å, s = 0.84)\n",
       "|-[#9]             (r = 2.12 Å, s = 0.88)\n",
       "|-[#15]            (r = 2.02 Å, s = 0.86)\n",
       "|-[#16]            (r = 2.46 Å, s = 0.96)\n",
       "  |-[#16&X3]       (r = 1.82 Å, s = 0.96)\n",
       "  |-[#16&a]        (r = 1.99 Å, s = 0.97)\n",
       "|-[#17]            (r = 1.92 Å, s = 0.80)\n",
       "|-[#35]            (r = 1.71 Å, s = 0.80)\n",
       "|-[#53]            (r = 2.60 Å, s = 0.80)"
      ]
     },
     "execution_count": 9,
     "metadata": {},
     "output_type": "execute_result"
    }
   ],
   "source": [
    "traj[-1]"
   ]
  },
  {
   "cell_type": "code",
   "execution_count": 10,
   "metadata": {
    "ExecuteTime": {
     "end_time": "2019-02-28T13:24:46.560497Z",
     "start_time": "2019-02-28T13:24:42.961160Z"
    }
   },
   "outputs": [
    {
     "name": "stdout",
     "output_type": "stream",
     "text": [
      "number of molecules being considered: 642\n"
     ]
    }
   ],
   "source": [
    "from bayes_implicit_solvent.continuous_parameter_experiments.gradient_free import mols"
   ]
  },
  {
   "cell_type": "code",
   "execution_count": 11,
   "metadata": {
    "ExecuteTime": {
     "end_time": "2019-02-28T13:24:46.565172Z",
     "start_time": "2019-02-28T13:24:46.562901Z"
    }
   },
   "outputs": [],
   "source": [
    "mol = mols[0]"
   ]
  },
  {
   "cell_type": "code",
   "execution_count": 12,
   "metadata": {
    "ExecuteTime": {
     "end_time": "2019-02-28T13:25:30.517627Z",
     "start_time": "2019-02-28T13:25:30.512203Z"
    }
   },
   "outputs": [],
   "source": [
    "\n",
    "from simtk import unit\n",
    "\n",
    "from simtk import unit\n",
    "from bayes_implicit_solvent.constants import beta\n",
    "def unreduce(value):\n",
    "    \"\"\"Input value is in units of kB T, turn it into units of kilocalorie_per_mole\"\"\"\n",
    "    return value / (beta * unit.kilocalorie_per_mole)\n",
    "\n",
    "def make_predictions(tree):\n",
    "    predictions = []\n",
    "    for mol in mols:\n",
    "        radii = tree.assign_radii(mol.mol) / unit.nanometer\n",
    "        scales = tree.assign_scale_factors(mol.mol)\n",
    "        predictions.append(mol.predict_solvation_free_energy(radii, scales)[0])\n",
    "    return unreduce(np.array(predictions))"
   ]
  },
  {
   "cell_type": "code",
   "execution_count": 13,
   "metadata": {
    "ExecuteTime": {
     "end_time": "2019-02-28T13:25:36.796085Z",
     "start_time": "2019-02-28T13:25:31.462763Z"
    }
   },
   "outputs": [],
   "source": [
    "initial_predictions = make_predictions(traj[0])"
   ]
  },
  {
   "cell_type": "code",
   "execution_count": 14,
   "metadata": {
    "ExecuteTime": {
     "end_time": "2019-02-28T13:25:42.639022Z",
     "start_time": "2019-02-28T13:25:36.798363Z"
    }
   },
   "outputs": [],
   "source": [
    "final_predictions = make_predictions(traj[-1])"
   ]
  },
  {
   "cell_type": "code",
   "execution_count": 15,
   "metadata": {
    "ExecuteTime": {
     "end_time": "2019-02-28T13:25:44.717525Z",
     "start_time": "2019-02-28T13:25:44.714057Z"
    }
   },
   "outputs": [],
   "source": [
    "expt_values = unreduce(np.array([mol.experimental_value for mol in mols]))"
   ]
  },
  {
   "cell_type": "code",
   "execution_count": 16,
   "metadata": {
    "ExecuteTime": {
     "end_time": "2019-02-28T13:25:45.301719Z",
     "start_time": "2019-02-28T13:25:45.297007Z"
    }
   },
   "outputs": [
    {
     "data": {
      "text/plain": [
       "2.5135307617515825"
      ]
     },
     "execution_count": 16,
     "metadata": {},
     "output_type": "execute_result"
    }
   ],
   "source": [
    "(np.sqrt(np.mean((initial_predictions - expt_values)**2)))"
   ]
  },
  {
   "cell_type": "code",
   "execution_count": 17,
   "metadata": {
    "ExecuteTime": {
     "end_time": "2019-02-28T13:25:45.972364Z",
     "start_time": "2019-02-28T13:25:45.967307Z"
    }
   },
   "outputs": [
    {
     "data": {
      "text/plain": [
       "2.1548621895578206"
      ]
     },
     "execution_count": 17,
     "metadata": {},
     "output_type": "execute_result"
    }
   ],
   "source": [
    "(np.sqrt(np.mean((final_predictions - expt_values)**2)))"
   ]
  },
  {
   "cell_type": "code",
   "execution_count": 18,
   "metadata": {
    "ExecuteTime": {
     "end_time": "2019-02-28T13:25:56.525826Z",
     "start_time": "2019-02-28T13:25:56.521656Z"
    }
   },
   "outputs": [],
   "source": [
    "np.random.seed(0)\n",
    "all_inds = np.arange(len(mols))\n",
    "np.random.shuffle(all_inds)\n",
    "train_inds = all_inds[::2]\n",
    "test_inds = all_inds[1::2]"
   ]
  },
  {
   "cell_type": "code",
   "execution_count": 19,
   "metadata": {
    "ExecuteTime": {
     "end_time": "2019-02-28T13:25:59.125352Z",
     "start_time": "2019-02-28T13:25:59.119048Z"
    }
   },
   "outputs": [
    {
     "data": {
      "text/plain": [
       "(2.0110921086437483, 2.2896223798964517)"
      ]
     },
     "execution_count": 19,
     "metadata": {},
     "output_type": "execute_result"
    }
   ],
   "source": [
    "train_rmse = (np.sqrt(np.mean((final_predictions[train_inds] - expt_values[train_inds])**2)))\n",
    "test_rmse = (np.sqrt(np.mean((final_predictions[test_inds] - expt_values[test_inds])**2)))\n",
    "train_rmse, test_rmse"
   ]
  },
  {
   "cell_type": "code",
   "execution_count": 20,
   "metadata": {
    "ExecuteTime": {
     "end_time": "2019-02-28T13:26:01.332942Z",
     "start_time": "2019-02-28T13:26:01.328980Z"
    }
   },
   "outputs": [
    {
     "data": {
      "text/plain": [
       "10001"
      ]
     },
     "execution_count": 20,
     "metadata": {},
     "output_type": "execute_result"
    }
   ],
   "source": [
    "len(traj)"
   ]
  },
  {
   "cell_type": "code",
   "execution_count": 21,
   "metadata": {
    "ExecuteTime": {
     "end_time": "2019-02-28T13:35:34.731350Z",
     "start_time": "2019-02-28T13:26:06.033467Z"
    }
   },
   "outputs": [
    {
     "name": "stderr",
     "output_type": "stream",
     "text": [
      "100%|██████████| 101/101 [09:28<00:00,  5.79s/it]\n"
     ]
    }
   ],
   "source": [
    "from tqdm import tqdm\n",
    "thinning = 100\n",
    "prediction_traj = [make_predictions(tree) for tree in tqdm(traj[::thinning])]"
   ]
  },
  {
   "cell_type": "code",
   "execution_count": 22,
   "metadata": {
    "ExecuteTime": {
     "end_time": "2019-02-28T13:36:24.701719Z",
     "start_time": "2019-02-28T13:36:24.551181Z"
    }
   },
   "outputs": [
    {
     "data": {
      "text/plain": [
       "<matplotlib.collections.PathCollection at 0x1a2b58b400>"
      ]
     },
     "execution_count": 22,
     "metadata": {},
     "output_type": "execute_result"
    },
    {
     "data": {
      "image/png": "[encoded data removed]",
      "text/plain": [
       "<Figure size 432x288 with 1 Axes>"
      ]
     },
     "metadata": {
      "needs_background": "light"
     },
     "output_type": "display_data"
    }
   ],
   "source": [
    "plt.scatter(prediction_traj[0], expt_values)"
   ]
  },
  {
   "cell_type": "code",
   "execution_count": 23,
   "metadata": {
    "ExecuteTime": {
     "end_time": "2019-02-28T13:36:25.521771Z",
     "start_time": "2019-02-28T13:36:25.373998Z"
    }
   },
   "outputs": [
    {
     "data": {
      "text/plain": [
       "<matplotlib.collections.PathCollection at 0x1a2b6d3f28>"
      ]
     },
     "execution_count": 23,
     "metadata": {},
     "output_type": "execute_result"
    },
    {
     "data": {
      "image/png": "[encoded data removed]",
      "text/plain": [
       "<Figure size 432x288 with 1 Axes>"
      ]
     },
     "metadata": {
      "needs_background": "light"
     },
     "output_type": "display_data"
    }
   ],
   "source": [
    "plt.scatter(prediction_traj[-1], expt_values)"
   ]
  },
  {
   "cell_type": "code",
   "execution_count": 26,
   "metadata": {
    "ExecuteTime": {
     "end_time": "2019-02-28T13:36:48.731423Z",
     "start_time": "2019-02-28T13:36:48.726489Z"
    }
   },
   "outputs": [
    {
     "data": {
      "text/plain": [
       "*                  (r = 2.98 Å, s = 0.80)\n",
       "|-[#1]             (r = 0.55 Å, s = 0.85)\n",
       "|-[#6]             (r = 1.98 Å, s = 0.72)\n",
       "  |-[#6&X4]        (r = 1.93 Å, s = 0.72)\n",
       "|-[#7]             (r = 1.80 Å, s = 0.79)\n",
       "  |-[#7&a]         (r = 1.79 Å, s = 0.78)\n",
       "    |-[#7&a&X2]    (r = 2.17 Å, s = 0.77)\n",
       "  |-[#7&X2]        (r = 0.57 Å, s = 0.79)\n",
       "|-[#8]             (r = 1.66 Å, s = 0.85)\n",
       "  |-[#8&-1]        (r = 1.28 Å, s = 0.84)\n",
       "|-[#9]             (r = 2.12 Å, s = 0.88)\n",
       "|-[#15]            (r = 2.02 Å, s = 0.86)\n",
       "|-[#16]            (r = 2.46 Å, s = 0.96)\n",
       "  |-[#16&X3]       (r = 1.82 Å, s = 0.96)\n",
       "  |-[#16&a]        (r = 1.99 Å, s = 0.97)\n",
       "|-[#17]            (r = 1.92 Å, s = 0.80)\n",
       "|-[#35]            (r = 1.71 Å, s = 0.80)\n",
       "|-[#53]            (r = 2.60 Å, s = 0.80)"
      ]
     },
     "execution_count": 26,
     "metadata": {},
     "output_type": "execute_result"
    }
   ],
   "source": [
    "tree = traj[-1]\n",
    "tree"
   ]
  },
  {
   "cell_type": "code",
   "execution_count": 27,
   "metadata": {
    "ExecuteTime": {
     "end_time": "2019-02-28T13:36:50.890114Z",
     "start_time": "2019-02-28T13:36:50.885660Z"
    }
   },
   "outputs": [
    {
     "data": {
      "text/plain": [
       "101"
      ]
     },
     "execution_count": 27,
     "metadata": {},
     "output_type": "execute_result"
    }
   ],
   "source": [
    "len(prediction_traj)"
   ]
  },
  {
   "cell_type": "code",
   "execution_count": 28,
   "metadata": {
    "ExecuteTime": {
     "end_time": "2019-02-28T13:36:52.096362Z",
     "start_time": "2019-02-28T13:36:51.949914Z"
    }
   },
   "outputs": [
    {
     "data": {
      "text/plain": [
       "[<matplotlib.lines.Line2D at 0x1a2b83cb38>]"
      ]
     },
     "execution_count": 28,
     "metadata": {},
     "output_type": "execute_result"
    },
    {
     "data": {
      "image/png": "[encoded data removed]",
      "text/plain": [
       "<Figure size 432x288 with 1 Axes>"
      ]
     },
     "metadata": {
      "needs_background": "light"
     },
     "output_type": "display_data"
    }
   ],
   "source": [
    "rmses = [np.sqrt(np.mean((snapshot - expt_values)**2)) for snapshot in prediction_traj]\n",
    "plt.plot(rmses)"
   ]
  },
  {
   "cell_type": "code",
   "execution_count": 29,
   "metadata": {
    "ExecuteTime": {
     "end_time": "2019-02-28T13:37:03.828543Z",
     "start_time": "2019-02-28T13:37:03.821648Z"
    }
   },
   "outputs": [],
   "source": [
    "train_rmses = [np.sqrt(np.mean((snapshot[train_inds] - expt_values[train_inds])**2)) for snapshot in prediction_traj]\n",
    "test_rmses = [np.sqrt(np.mean((snapshot[test_inds] - expt_values[test_inds])**2)) for snapshot in prediction_traj]"
   ]
  },
  {
   "cell_type": "code",
   "execution_count": 30,
   "metadata": {
    "ExecuteTime": {
     "end_time": "2019-02-28T13:37:04.914305Z",
     "start_time": "2019-02-28T13:37:04.909668Z"
    }
   },
   "outputs": [
    {
     "data": {
      "text/plain": [
       "array([    0,   100,   200,   300,   400,   500,   600,   700,   800,\n",
       "         900,  1000,  1100,  1200,  1300,  1400,  1500,  1600,  1700,\n",
       "        1800,  1900,  2000,  2100,  2200,  2300,  2400,  2500,  2600,\n",
       "        2700,  2800,  2900,  3000,  3100,  3200,  3300,  3400,  3500,\n",
       "        3600,  3700,  3800,  3900,  4000,  4100,  4200,  4300,  4400,\n",
       "        4500,  4600,  4700,  4800,  4900,  5000,  5100,  5200,  5300,\n",
       "        5400,  5500,  5600,  5700,  5800,  5900,  6000,  6100,  6200,\n",
       "        6300,  6400,  6500,  6600,  6700,  6800,  6900,  7000,  7100,\n",
       "        7200,  7300,  7400,  7500,  7600,  7700,  7800,  7900,  8000,\n",
       "        8100,  8200,  8300,  8400,  8500,  8600,  8700,  8800,  8900,\n",
       "        9000,  9100,  9200,  9300,  9400,  9500,  9600,  9700,  9800,\n",
       "        9900, 10000])"
      ]
     },
     "execution_count": 30,
     "metadata": {},
     "output_type": "execute_result"
    }
   ],
   "source": [
    "x = np.arange(len(result['traj']))[::thinning]\n",
    "x"
   ]
  },
  {
   "cell_type": "code",
   "execution_count": 31,
   "metadata": {
    "ExecuteTime": {
     "end_time": "2019-02-28T13:37:06.090776Z",
     "start_time": "2019-02-28T13:37:05.942428Z"
    }
   },
   "outputs": [
    {
     "data": {
      "text/plain": [
       "(2.007126154201672, 2.255376011241774)"
      ]
     },
     "execution_count": 31,
     "metadata": {},
     "output_type": "execute_result"
    },
    {
     "data": {
      "image/png": "[encoded data removed]",
      "text/plain": [
       "<Figure size 432x288 with 1 Axes>"
      ]
     },
     "metadata": {
      "needs_background": "light"
     },
     "output_type": "display_data"
    }
   ],
   "source": [
    "plt.plot(x, train_rmses)\n",
    "plt.plot(x, test_rmses)\n",
    "\n",
    "min(train_rmses), min(test_rmses)"
   ]
  },
  {
   "cell_type": "code",
   "execution_count": 32,
   "metadata": {
    "ExecuteTime": {
     "end_time": "2019-02-28T13:37:20.299333Z",
     "start_time": "2019-02-28T13:37:20.147635Z"
    }
   },
   "outputs": [
    {
     "data": {
      "text/plain": [
       "(1.9457342571646234, 2.1599731042601236)"
      ]
     },
     "execution_count": 32,
     "metadata": {},
     "output_type": "execute_result"
    },
    {
     "data": {
      "image/png": "[encoded data removed]",
      "text/plain": [
       "<Figure size 432x288 with 1 Axes>"
      ]
     },
     "metadata": {
      "needs_background": "light"
     },
     "output_type": "display_data"
    }
   ],
   "source": [
    "ax = plt.subplot(111)\n",
    "remove_top_right_spines(ax)\n",
    "\n",
    "train_mask = train_inds[expt_values[train_inds] > -15]\n",
    "test_mask = test_inds[expt_values[test_inds] > -15]\n",
    "\n",
    "n_train = len(train_mask)\n",
    "n_test = len(test_mask)\n",
    "\n",
    "train_rmses = [np.sqrt(np.mean((snapshot[train_mask] - expt_values[train_mask])**2)) for snapshot in prediction_traj]\n",
    "test_rmses = [np.sqrt(np.mean((snapshot[test_mask] - expt_values[test_mask])**2)) for snapshot in prediction_traj]\n",
    "\n",
    "\n",
    "# \n",
    "plt.plot(x, train_rmses, label='train (n={})'.format(n_train))\n",
    "plt.plot(x, test_rmses)\n",
    "\n",
    "plt.hlines(2.4, 0, max(x), linestyles='--')\n",
    "\n",
    "min(train_rmses), min(test_rmses)"
   ]
  },
  {
   "cell_type": "code",
   "execution_count": 33,
   "metadata": {
    "ExecuteTime": {
     "end_time": "2019-02-28T13:37:30.707491Z",
     "start_time": "2019-02-28T13:37:30.683580Z"
    }
   },
   "outputs": [],
   "source": [
    "all_types = set()\n",
    "for tree in traj:\n",
    "    all_types.update(tree.nodes)\n",
    "all_types = sorted(list(all_types))"
   ]
  },
  {
   "cell_type": "code",
   "execution_count": 34,
   "metadata": {
    "ExecuteTime": {
     "end_time": "2019-02-28T13:37:31.006819Z",
     "start_time": "2019-02-28T13:37:31.003095Z"
    }
   },
   "outputs": [
    {
     "data": {
      "text/plain": [
       "['*',\n",
       " '[#15]',\n",
       " '[#16&A]',\n",
       " '[#16&X1]',\n",
       " '[#16&X3]',\n",
       " '[#16&X4]',\n",
       " '[#16&a]',\n",
       " '[#16]',\n",
       " '[#17]',\n",
       " '[#1]',\n",
       " '[#35]',\n",
       " '[#53]',\n",
       " '[#6&X4]',\n",
       " '[#6]',\n",
       " '[#7&X1]',\n",
       " '[#7&X2]',\n",
       " '[#7&a&X2]',\n",
       " '[#7&a]',\n",
       " '[#7]',\n",
       " '[#8&-1]',\n",
       " '[#8]',\n",
       " '[#9]']"
      ]
     },
     "execution_count": 34,
     "metadata": {},
     "output_type": "execute_result"
    }
   ],
   "source": [
    "all_types"
   ]
  },
  {
   "cell_type": "code",
   "execution_count": 35,
   "metadata": {
    "ExecuteTime": {
     "end_time": "2019-02-28T13:37:31.689479Z",
     "start_time": "2019-02-28T13:37:31.570629Z"
    }
   },
   "outputs": [],
   "source": [
    "import seaborn as sns\n",
    "color_list = sns.color_palette(palette=\"husl\", n_colors=len(all_types))\n",
    "#color_list = color_list + color_list\n",
    "color_dict = dict(zip(all_types, color_list))"
   ]
  },
  {
   "cell_type": "code",
   "execution_count": 36,
   "metadata": {
    "ExecuteTime": {
     "end_time": "2019-02-28T13:37:36.016115Z",
     "start_time": "2019-02-28T13:37:33.018597Z"
    }
   },
   "outputs": [],
   "source": [
    "# for line-plot representation\n",
    "x = np.arange(len(traj))\n",
    "ys = [np.zeros(len(traj)) * np.nan for _ in all_types]\n",
    "c = [color_dict[t] for t in all_types]\n",
    "\n",
    "type_dict = dict(zip(all_types, range(len(all_types))))\n",
    "\n",
    "for time, tree in enumerate(traj):\n",
    "    for n in tree.nodes:\n",
    "        i = type_dict[n]\n",
    "        ys[i][time] = tree.get_radius(n) / unit.angstrom"
   ]
  },
  {
   "cell_type": "code",
   "execution_count": 37,
   "metadata": {
    "ExecuteTime": {
     "end_time": "2019-02-28T13:37:36.026155Z",
     "start_time": "2019-02-28T13:37:36.018216Z"
    }
   },
   "outputs": [
    {
     "data": {
      "text/plain": [
       "[array([], dtype=int64),\n",
       " array([], dtype=int64),\n",
       " array([408, 457]),\n",
       " array([272, 282]),\n",
       " array([2399]),\n",
       " array([3676, 3845]),\n",
       " array([1363, 1651, 2860]),\n",
       " array([], dtype=int64),\n",
       " array([], dtype=int64),\n",
       " array([], dtype=int64),\n",
       " array([], dtype=int64),\n",
       " array([], dtype=int64),\n",
       " array([602]),\n",
       " array([], dtype=int64),\n",
       " array([283, 378, 882, 929]),\n",
       " array([2946]),\n",
       " array([1671]),\n",
       " array([1312]),\n",
       " array([], dtype=int64),\n",
       " array([1329]),\n",
       " array([], dtype=int64),\n",
       " array([], dtype=int64)]"
      ]
     },
     "execution_count": 37,
     "metadata": {},
     "output_type": "execute_result"
    }
   ],
   "source": [
    "change_points = [np.where(np.diff(np.isnan(y)))[0] for y in ys]\n",
    "change_points"
   ]
  },
  {
   "cell_type": "code",
   "execution_count": 38,
   "metadata": {
    "ExecuteTime": {
     "end_time": "2019-02-28T13:37:36.798832Z",
     "start_time": "2019-02-28T13:37:36.794620Z"
    }
   },
   "outputs": [
    {
     "data": {
      "text/plain": [
       "[0, 0, 2, 2, 1, 2, 3, 0, 0, 0, 0, 0, 1, 0, 4, 1, 1, 1, 0, 1, 0, 0]"
      ]
     },
     "execution_count": 38,
     "metadata": {},
     "output_type": "execute_result"
    }
   ],
   "source": [
    "list(map(len, change_points))"
   ]
  },
  {
   "cell_type": "code",
   "execution_count": 39,
   "metadata": {
    "ExecuteTime": {
     "end_time": "2019-02-28T13:37:38.455628Z",
     "start_time": "2019-02-28T13:37:38.274889Z"
    }
   },
   "outputs": [
    {
     "data": {
      "image/png": "[encoded data removed]",
      "text/plain": [
       "<Figure size 432x288 with 1 Axes>"
      ]
     },
     "metadata": {
      "needs_background": "light"
     },
     "output_type": "display_data"
    }
   ],
   "source": [
    "for i, change_point_traj in enumerate(change_points):\n",
    "    if len(change_point_traj) > 0:\n",
    "        plt.scatter(x[change_point_traj], ys[i][change_point_traj + 1], c=[c[i]]*len(change_point_traj))"
   ]
  },
  {
   "cell_type": "code",
   "execution_count": 40,
   "metadata": {
    "ExecuteTime": {
     "end_time": "2019-02-28T13:37:39.496459Z",
     "start_time": "2019-02-28T13:37:39.139907Z"
    }
   },
   "outputs": [
    {
     "data": {
      "image/png": "[encoded data removed]",
      "text/plain": [
       "<Figure size 432x288 with 1 Axes>"
      ]
     },
     "metadata": {
      "needs_background": "light"
     },
     "output_type": "display_data"
    }
   ],
   "source": [
    "for i in range(len(all_types)):\n",
    "    plt.plot(x, ys[i], c=c[i], alpha=0.8)\n",
    "for i, change_point_traj in enumerate(change_points):\n",
    "    if len(change_point_traj) > 0:\n",
    "        plt.scatter(x[change_point_traj], ys[i][change_point_traj + 1], c=[c[i]]*len(change_point_traj), s=50)\n",
    "        plt.scatter(x[change_point_traj], ys[i][change_point_traj - 1], c=[c[i]]*len(change_point_traj), s=50)\n",
    "#plt.ylim(0,)"
   ]
  },
  {
   "cell_type": "code",
   "execution_count": 41,
   "metadata": {
    "ExecuteTime": {
     "end_time": "2019-02-28T13:37:43.452497Z",
     "start_time": "2019-02-28T13:37:43.449717Z"
    }
   },
   "outputs": [],
   "source": [
    "diag = np.arange(-15, 5)"
   ]
  },
  {
   "cell_type": "code",
   "execution_count": 42,
   "metadata": {
    "ExecuteTime": {
     "end_time": "2019-02-28T13:37:45.363215Z",
     "start_time": "2019-02-28T13:37:45.211563Z"
    },
    "scrolled": true
   },
   "outputs": [
    {
     "data": {
      "text/plain": [
       "[<matplotlib.lines.Line2D at 0x1a2ca0f860>]"
      ]
     },
     "execution_count": 42,
     "metadata": {},
     "output_type": "execute_result"
    },
    {
     "data": {
      "image/png": "[encoded data removed]",
      "text/plain": [
       "<Figure size 432x288 with 1 Axes>"
      ]
     },
     "metadata": {
      "needs_background": "light"
     },
     "output_type": "display_data"
    }
   ],
   "source": [
    "plt.scatter(prediction_traj[-1][expt_values > -15], expt_values[expt_values > -15], alpha=0.5, s=10)\n",
    "plt.plot(diag, diag, color='grey')"
   ]
  },
  {
   "cell_type": "code",
   "execution_count": 44,
   "metadata": {
    "ExecuteTime": {
     "end_time": "2019-02-28T13:41:59.854546Z",
     "start_time": "2019-02-28T13:41:59.850929Z"
    }
   },
   "outputs": [
    {
     "data": {
      "text/plain": [
       "2.1377789551223043"
      ]
     },
     "execution_count": 44,
     "metadata": {},
     "output_type": "execute_result"
    }
   ],
   "source": [
    "np.min(rmses)"
   ]
  },
  {
   "cell_type": "code",
   "execution_count": 51,
   "metadata": {
    "ExecuteTime": {
     "end_time": "2019-02-28T13:42:39.046711Z",
     "start_time": "2019-02-28T13:42:39.041523Z"
    }
   },
   "outputs": [
    {
     "data": {
      "text/plain": [
       "2.1194188964816223"
      ]
     },
     "execution_count": 51,
     "metadata": {},
     "output_type": "execute_result"
    }
   ],
   "source": [
    "averaged_predictions = np.mean(prediction_traj[:50], 0)\n",
    "np.sqrt(np.mean((averaged_predictions - expt_values)**2))"
   ]
  },
  {
   "cell_type": "code",
   "execution_count": 48,
   "metadata": {
    "ExecuteTime": {
     "end_time": "2019-02-28T13:42:27.485758Z",
     "start_time": "2019-02-28T13:42:27.481642Z"
    }
   },
   "outputs": [
    {
     "data": {
      "text/plain": [
       "(642,)"
      ]
     },
     "execution_count": 48,
     "metadata": {},
     "output_type": "execute_result"
    }
   ],
   "source": [
    "np.mean(prediction_traj[-10:], 0).shape"
   ]
  },
  {
   "cell_type": "code",
   "execution_count": 49,
   "metadata": {
    "ExecuteTime": {
     "end_time": "2019-02-28T13:42:30.166153Z",
     "start_time": "2019-02-28T13:42:30.162311Z"
    }
   },
   "outputs": [
    {
     "data": {
      "text/plain": [
       "101"
      ]
     },
     "execution_count": 49,
     "metadata": {},
     "output_type": "execute_result"
    }
   ],
   "source": [
    "len(prediction_traj)"
   ]
  },
  {
   "cell_type": "code",
   "execution_count": 52,
   "metadata": {
    "ExecuteTime": {
     "end_time": "2019-02-28T13:49:54.677451Z",
     "start_time": "2019-02-28T13:49:54.668100Z"
    }
   },
   "outputs": [],
   "source": [
    "running_averaged_predictions = ((np.cumsum(prediction_traj, 0).T / (1 + np.arange(len(prediction_traj))))).T\n",
    "\n",
    "train_rmses_avged = [np.sqrt(np.mean((snapshot[train_mask] - expt_values[train_mask])**2)) for snapshot in running_averaged_predictions]\n",
    "test_rmses_avged = [np.sqrt(np.mean((snapshot[test_mask] - expt_values[test_mask])**2)) for snapshot in running_averaged_predictions]\n"
   ]
  },
  {
   "cell_type": "code",
   "execution_count": 54,
   "metadata": {
    "ExecuteTime": {
     "end_time": "2019-02-28T13:50:34.624177Z",
     "start_time": "2019-02-28T13:50:34.483736Z"
    }
   },
   "outputs": [
    {
     "data": {
      "text/plain": [
       "[<matplotlib.lines.Line2D at 0x1a2d01d668>]"
      ]
     },
     "execution_count": 54,
     "metadata": {},
     "output_type": "execute_result"
    },
    {
     "data": {
      "image/png": "[encoded data removed]",
      "text/plain": [
       "<Figure size 432x288 with 1 Axes>"
      ]
     },
     "metadata": {
      "needs_background": "light"
     },
     "output_type": "display_data"
    }
   ],
   "source": [
    "plt.plot(train_rmses_avged)\n",
    "plt.plot(test_rmses_avged)\n",
    "\n",
    "plt.plot(train_rmses)\n",
    "plt.plot(test_rmses)"
   ]
  },
  {
   "cell_type": "code",
   "execution_count": 55,
   "metadata": {
    "ExecuteTime": {
     "end_time": "2019-02-28T13:51:28.940543Z",
     "start_time": "2019-02-28T13:51:28.935990Z"
    }
   },
   "outputs": [],
   "source": [
    "running_averaged_predictions = ((np.cumsum(prediction_traj[500:], 0).T / (1 + np.arange(len(prediction_traj[500:]))))).T\n",
    "\n",
    "train_rmses_avged = [np.sqrt(np.mean((snapshot[train_mask] - expt_values[train_mask])**2)) for snapshot in running_averaged_predictions]\n",
    "test_rmses_avged = [np.sqrt(np.mean((snapshot[test_mask] - expt_values[test_mask])**2)) for snapshot in running_averaged_predictions]\n"
   ]
  },
  {
   "cell_type": "code",
   "execution_count": 56,
   "metadata": {
    "ExecuteTime": {
     "end_time": "2019-02-28T13:51:34.041697Z",
     "start_time": "2019-02-28T13:51:33.917900Z"
    }
   },
   "outputs": [
    {
     "data": {
      "text/plain": [
       "[<matplotlib.lines.Line2D at 0x1a2d0fd4e0>]"
      ]
     },
     "execution_count": 56,
     "metadata": {},
     "output_type": "execute_result"
    },
    {
     "data": {
      "image/png": "[encoded data removed]",
      "text/plain": [
       "<Figure size 432x288 with 1 Axes>"
      ]
     },
     "metadata": {
      "needs_background": "light"
     },
     "output_type": "display_data"
    }
   ],
   "source": [
    "plt.plot(train_rmses_avged)\n",
    "plt.plot(test_rmses_avged)"
   ]
  },
  {
   "cell_type": "code",
   "execution_count": 57,
   "metadata": {
    "ExecuteTime": {
     "end_time": "2019-02-28T13:51:51.739227Z",
     "start_time": "2019-02-28T13:51:51.735098Z"
    }
   },
   "outputs": [
    {
     "data": {
      "text/plain": [
       "[]"
      ]
     },
     "execution_count": 57,
     "metadata": {},
     "output_type": "execute_result"
    }
   ],
   "source": [
    "train_rmses_avged"
   ]
  },
  {
   "cell_type": "code",
   "execution_count": null,
   "metadata": {},
   "outputs": [],
   "source": []
  }
 ],
 "metadata": {
  "kernelspec": {
   "display_name": "Python 3",
   "language": "python",
   "name": "python3"
  },
  "language_info": {
   "codemirror_mode": {
    "name": "ipython",
    "version": 3
   },
   "file_extension": ".py",
   "mimetype": "text/x-python",
   "name": "python",
   "nbconvert_exporter": "python",
   "pygments_lexer": "ipython3",
   "version": "3.7.1"
  }
 },
 "nbformat": 4,
 "nbformat_minor": 2
}
